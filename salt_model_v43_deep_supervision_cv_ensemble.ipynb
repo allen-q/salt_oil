{
  "nbformat": 4,
  "nbformat_minor": 0,
  "metadata": {
    "colab": {
      "name": "salt_model_data_loader_V3.ipynb",
      "version": "0.3.2",
      "provenance": []
    },
    "kernelspec": {
      "display_name": "Python 3",
      "language": "python",
      "name": "python3"
    },
    "accelerator": "GPU"
  },
  "cells": [
    {
      "metadata": {
        "id": "IUnFr6MO3Kk3",
        "colab_type": "text"
      },
      "cell_type": "markdown",
      "source": [
        "# Changes:\n",
        "1. Based on V37\n",
        "2. Refactored data augmentor. Re-implement the rotate function to preserve positive mask area.\n",
        "3. Changed optimizer to adam"
      ]
    },
    {
      "metadata": {
        "id": "xaO5fG0VW5gB",
        "colab_type": "text"
      },
      "cell_type": "markdown",
      "source": [
        "## Install required packages if running on google colab"
      ]
    },
    {
      "metadata": {
        "id": "8n6EgF7sW5gC",
        "colab_type": "code",
        "colab": {}
      },
      "cell_type": "code",
      "source": [
        "try:\n",
        "    import torch\n",
        "except:\n",
        "    !pip install torch torchvision\n",
        "    !pip install imageio\n",
        "    !pip install Augmentor\n",
        "    !git clone https://github.com/allen-q/salt_oil.git\n",
        "    !git clone https://github.com/allen-q/salt_net.git"
      ],
      "execution_count": 0,
      "outputs": []
    },
    {
      "metadata": {
        "id": "LHmLY-oHfSKE",
        "colab_type": "code",
        "colab": {
          "base_uri": "https://localhost:8080/",
          "height": 35
        },
        "outputId": "fe3bd671-7bb2-4197-cae2-f66a416b1e91"
      },
      "cell_type": "code",
      "source": [
        "!git clone https://github.com/allen-q/salt_net_bak.git"
      ],
      "execution_count": 2,
      "outputs": [
        {
          "output_type": "stream",
          "text": [
            "fatal: destination path 'salt_net_bak' already exists and is not an empty directory.\n"
          ],
          "name": "stdout"
        }
      ]
    },
    {
      "metadata": {
        "id": "d1OtNyXrmA7r",
        "colab_type": "code",
        "colab": {}
      },
      "cell_type": "code",
      "source": [
        "ll salt_net_ens"
      ],
      "execution_count": 0,
      "outputs": []
    },
    {
      "metadata": {
        "id": "oblivagendxu",
        "colab_type": "code",
        "colab": {}
      },
      "cell_type": "code",
      "source": [
        "cp salt_net_bak/cpk_backup/Unet_res34_bce_lovasz_loss_se_new_aug_finetuen1_2018_09_21_09_41_48.ckp* salt_net_ens"
      ],
      "execution_count": 0,
      "outputs": []
    },
    {
      "metadata": {
        "id": "X5GKkt7qmA2v",
        "colab_type": "code",
        "colab": {}
      },
      "cell_type": "code",
      "source": [
        "cp salt_net_bak/salt_model_v40_deeplap_unet_combo_run3_2018_10_08_06_57_19.ckp* salt_net_ens"
      ],
      "execution_count": 0,
      "outputs": []
    },
    {
      "metadata": {
        "id": "uoBU3Y4KfVXV",
        "colab_type": "code",
        "colab": {
          "base_uri": "https://localhost:8080/",
          "height": 35
        },
        "outputId": "9b5d118f-a63a-4eae-deca-02cce7eb6634"
      },
      "cell_type": "code",
      "source": [
        "cd .."
      ],
      "execution_count": 51,
      "outputs": [
        {
          "output_type": "stream",
          "text": [
            "/content\n"
          ],
          "name": "stdout"
        }
      ]
    },
    {
      "metadata": {
        "id": "5Vu14_1_kC8P",
        "colab_type": "code",
        "colab": {}
      },
      "cell_type": "code",
      "source": [
        "ckp_prefix_list = [\n",
        "    'salt_model_v37.42_high_lovasz_loss_cv0_2018_10_09_21_41_43.ckp',\n",
        "    'salt_model_v37.42_high_lovasz_loss_cv1_2018_10_09_22_08_30.ckp',\n",
        "    'salt_model_v37.42_high_lovasz_loss_cv2_2018_10_10_07_01_06.ckp',\n",
        "    'salt_model_v37.42_high_lovasz_loss_cv3_2018_10_09_22_26_37.ckp',\n",
        "    'salt_model_v37.42_high_lovasz_loss_cv4_2018_10_10_07_28_55.ckp',\n",
        "    'salt_model_v37.2_refactor_aug_test2_2018_10_05_09_56_39.ckp',\n",
        "    'salt_model_v37.4_high_lovasz_loss_2018_10_05_10_43_22.ckp',\n",
        "    'Unet_res34_bce_lovasz_loss_se_new_aug_finetuen1_2018_09_21_09_41_48.ckp',\n",
        "    'salt_model_v40_deeplap_unet_combo_run1_2018_10_07_21_52_10.ckp',\n",
        "    'salt_model_v40_deeplap_unet_combo_run3_2018_10_08_06_57_19.ckp',\n",
        "]"
      ],
      "execution_count": 0,
      "outputs": []
    },
    {
      "metadata": {
        "id": "FanQ70LBNxC8",
        "colab_type": "code",
        "outputId": "0a5b507c-95fa-432f-d584-96837bbb773f",
        "colab": {
          "base_uri": "https://localhost:8080/",
          "height": 3270
        }
      },
      "cell_type": "code",
      "source": [
        "ll -h salt_net_ens"
      ],
      "execution_count": 52,
      "outputs": [
        {
          "output_type": "stream",
          "text": [
            "total 6.3G\n",
            "-rw-r--r-- 1 root 8.9M Oct 18 04:54 ds_cv_run0_2018_10_17_23_29_35.ckp-chunk-10-Of-10\n",
            "-rw-r--r-- 1 root  39M Oct 18 04:54 ds_cv_run0_2018_10_17_23_29_35.ckp-chunk-1-Of-10\n",
            "-rw-r--r-- 1 root  39M Oct 18 04:54 ds_cv_run0_2018_10_17_23_29_35.ckp-chunk-2-Of-10\n",
            "-rw-r--r-- 1 root  39M Oct 18 04:54 ds_cv_run0_2018_10_17_23_29_35.ckp-chunk-3-Of-10\n",
            "-rw-r--r-- 1 root  39M Oct 18 04:54 ds_cv_run0_2018_10_17_23_29_35.ckp-chunk-4-Of-10\n",
            "-rw-r--r-- 1 root  39M Oct 18 04:54 ds_cv_run0_2018_10_17_23_29_35.ckp-chunk-5-Of-10\n",
            "-rw-r--r-- 1 root  39M Oct 18 04:54 ds_cv_run0_2018_10_17_23_29_35.ckp-chunk-6-Of-10\n",
            "-rw-r--r-- 1 root  39M Oct 18 04:54 ds_cv_run0_2018_10_17_23_29_35.ckp-chunk-7-Of-10\n",
            "-rw-r--r-- 1 root  39M Oct 18 04:54 ds_cv_run0_2018_10_17_23_29_35.ckp-chunk-8-Of-10\n",
            "-rw-r--r-- 1 root  39M Oct 18 04:54 ds_cv_run0_2018_10_17_23_29_35.ckp-chunk-9-Of-10\n",
            "-rw-r--r-- 1 root 8.6M Oct 18 05:25 ds_cv_run1_2018_10_18_09_52_16.ckp-chunk-10-Of-10\n",
            "-rw-r--r-- 1 root  39M Oct 18 05:25 ds_cv_run1_2018_10_18_09_52_16.ckp-chunk-1-Of-10\n",
            "-rw-r--r-- 1 root  39M Oct 18 05:25 ds_cv_run1_2018_10_18_09_52_16.ckp-chunk-2-Of-10\n",
            "-rw-r--r-- 1 root  39M Oct 18 05:25 ds_cv_run1_2018_10_18_09_52_16.ckp-chunk-3-Of-10\n",
            "-rw-r--r-- 1 root  39M Oct 18 05:25 ds_cv_run1_2018_10_18_09_52_16.ckp-chunk-4-Of-10\n",
            "-rw-r--r-- 1 root  39M Oct 18 05:25 ds_cv_run1_2018_10_18_09_52_16.ckp-chunk-5-Of-10\n",
            "-rw-r--r-- 1 root  39M Oct 18 05:25 ds_cv_run1_2018_10_18_09_52_16.ckp-chunk-6-Of-10\n",
            "-rw-r--r-- 1 root  39M Oct 18 05:25 ds_cv_run1_2018_10_18_09_52_16.ckp-chunk-7-Of-10\n",
            "-rw-r--r-- 1 root  39M Oct 18 05:25 ds_cv_run1_2018_10_18_09_52_16.ckp-chunk-8-Of-10\n",
            "-rw-r--r-- 1 root  39M Oct 18 05:25 ds_cv_run1_2018_10_18_09_52_16.ckp-chunk-9-Of-10\n",
            "-rw-r--r-- 1 root 9.4M Oct 18 04:54 ds_cv_run2_2018_10_17_23_48_20.ckp-chunk-10-Of-10\n",
            "-rw-r--r-- 1 root  39M Oct 18 04:54 ds_cv_run2_2018_10_17_23_48_20.ckp-chunk-1-Of-10\n",
            "-rw-r--r-- 1 root  39M Oct 18 04:54 ds_cv_run2_2018_10_17_23_48_20.ckp-chunk-2-Of-10\n",
            "-rw-r--r-- 1 root  39M Oct 18 04:54 ds_cv_run2_2018_10_17_23_48_20.ckp-chunk-3-Of-10\n",
            "-rw-r--r-- 1 root  39M Oct 18 04:54 ds_cv_run2_2018_10_17_23_48_20.ckp-chunk-4-Of-10\n",
            "-rw-r--r-- 1 root  39M Oct 18 04:54 ds_cv_run2_2018_10_17_23_48_20.ckp-chunk-5-Of-10\n",
            "-rw-r--r-- 1 root  39M Oct 18 04:54 ds_cv_run2_2018_10_17_23_48_20.ckp-chunk-6-Of-10\n",
            "-rw-r--r-- 1 root  39M Oct 18 04:54 ds_cv_run2_2018_10_17_23_48_20.ckp-chunk-7-Of-10\n",
            "-rw-r--r-- 1 root  39M Oct 18 04:54 ds_cv_run2_2018_10_17_23_48_20.ckp-chunk-8-Of-10\n",
            "-rw-r--r-- 1 root  39M Oct 18 04:54 ds_cv_run2_2018_10_17_23_48_20.ckp-chunk-9-Of-10\n",
            "-rw-r--r-- 1 root 9.1M Oct 18 04:54 ds_cv_run3_2018_10_17_23_55_44.ckp-chunk-10-Of-10\n",
            "-rw-r--r-- 1 root  39M Oct 18 04:54 ds_cv_run3_2018_10_17_23_55_44.ckp-chunk-1-Of-10\n",
            "-rw-r--r-- 1 root  39M Oct 18 04:54 ds_cv_run3_2018_10_17_23_55_44.ckp-chunk-2-Of-10\n",
            "-rw-r--r-- 1 root  39M Oct 18 04:54 ds_cv_run3_2018_10_17_23_55_44.ckp-chunk-3-Of-10\n",
            "-rw-r--r-- 1 root  39M Oct 18 04:54 ds_cv_run3_2018_10_17_23_55_44.ckp-chunk-4-Of-10\n",
            "-rw-r--r-- 1 root  39M Oct 18 04:54 ds_cv_run3_2018_10_17_23_55_44.ckp-chunk-5-Of-10\n",
            "-rw-r--r-- 1 root  39M Oct 18 04:54 ds_cv_run3_2018_10_17_23_55_44.ckp-chunk-6-Of-10\n",
            "-rw-r--r-- 1 root  39M Oct 18 04:54 ds_cv_run3_2018_10_17_23_55_44.ckp-chunk-7-Of-10\n",
            "-rw-r--r-- 1 root  39M Oct 18 04:54 ds_cv_run3_2018_10_17_23_55_44.ckp-chunk-8-Of-10\n",
            "-rw-r--r-- 1 root  39M Oct 18 04:54 ds_cv_run3_2018_10_17_23_55_44.ckp-chunk-9-Of-10\n",
            "-rw-r--r-- 1 root 9.1M Oct 18 04:54 ds_cv_run4_2018_10_18_00_35_43.ckp-chunk-10-Of-10\n",
            "-rw-r--r-- 1 root  39M Oct 18 04:54 ds_cv_run4_2018_10_18_00_35_43.ckp-chunk-1-Of-10\n",
            "-rw-r--r-- 1 root  39M Oct 18 04:54 ds_cv_run4_2018_10_18_00_35_43.ckp-chunk-2-Of-10\n",
            "-rw-r--r-- 1 root  39M Oct 18 04:54 ds_cv_run4_2018_10_18_00_35_43.ckp-chunk-3-Of-10\n",
            "-rw-r--r-- 1 root  39M Oct 18 04:54 ds_cv_run4_2018_10_18_00_35_43.ckp-chunk-4-Of-10\n",
            "-rw-r--r-- 1 root  39M Oct 18 04:54 ds_cv_run4_2018_10_18_00_35_43.ckp-chunk-5-Of-10\n",
            "-rw-r--r-- 1 root  39M Oct 18 04:54 ds_cv_run4_2018_10_18_00_35_43.ckp-chunk-6-Of-10\n",
            "-rw-r--r-- 1 root  39M Oct 18 04:54 ds_cv_run4_2018_10_18_00_35_43.ckp-chunk-7-Of-10\n",
            "-rw-r--r-- 1 root  39M Oct 18 04:54 ds_cv_run4_2018_10_18_00_35_43.ckp-chunk-8-Of-10\n",
            "-rw-r--r-- 1 root  39M Oct 18 04:54 ds_cv_run4_2018_10_18_00_35_43.ckp-chunk-9-Of-10\n",
            "-rw-r--r-- 1 root 9.1M Oct 18 04:54 ds_cv_run5_2018_10_18_00_42_04.ckp-chunk-10-Of-10\n",
            "-rw-r--r-- 1 root  39M Oct 18 04:54 ds_cv_run5_2018_10_18_00_42_04.ckp-chunk-1-Of-10\n",
            "-rw-r--r-- 1 root  39M Oct 18 04:54 ds_cv_run5_2018_10_18_00_42_04.ckp-chunk-2-Of-10\n",
            "-rw-r--r-- 1 root  39M Oct 18 04:54 ds_cv_run5_2018_10_18_00_42_04.ckp-chunk-3-Of-10\n",
            "-rw-r--r-- 1 root  39M Oct 18 04:54 ds_cv_run5_2018_10_18_00_42_04.ckp-chunk-4-Of-10\n",
            "-rw-r--r-- 1 root  39M Oct 18 04:54 ds_cv_run5_2018_10_18_00_42_04.ckp-chunk-5-Of-10\n",
            "-rw-r--r-- 1 root  39M Oct 18 04:54 ds_cv_run5_2018_10_18_00_42_04.ckp-chunk-6-Of-10\n",
            "-rw-r--r-- 1 root  39M Oct 18 04:54 ds_cv_run5_2018_10_18_00_42_04.ckp-chunk-7-Of-10\n",
            "-rw-r--r-- 1 root  39M Oct 18 04:54 ds_cv_run5_2018_10_18_00_42_04.ckp-chunk-8-Of-10\n",
            "-rw-r--r-- 1 root  39M Oct 18 04:54 ds_cv_run5_2018_10_18_00_42_04.ckp-chunk-9-Of-10\n",
            "-rw-r--r-- 1 root 9.1M Oct 18 04:54 ds_cv_run6_2018_10_18_00_46_58.ckp-chunk-10-Of-10\n",
            "-rw-r--r-- 1 root  39M Oct 18 04:54 ds_cv_run6_2018_10_18_00_46_58.ckp-chunk-1-Of-10\n",
            "-rw-r--r-- 1 root  39M Oct 18 04:54 ds_cv_run6_2018_10_18_00_46_58.ckp-chunk-2-Of-10\n",
            "-rw-r--r-- 1 root  39M Oct 18 04:54 ds_cv_run6_2018_10_18_00_46_58.ckp-chunk-3-Of-10\n",
            "-rw-r--r-- 1 root  39M Oct 18 04:54 ds_cv_run6_2018_10_18_00_46_58.ckp-chunk-4-Of-10\n",
            "-rw-r--r-- 1 root  39M Oct 18 04:54 ds_cv_run6_2018_10_18_00_46_58.ckp-chunk-5-Of-10\n",
            "-rw-r--r-- 1 root  39M Oct 18 04:54 ds_cv_run6_2018_10_18_00_46_58.ckp-chunk-6-Of-10\n",
            "-rw-r--r-- 1 root  39M Oct 18 04:54 ds_cv_run6_2018_10_18_00_46_58.ckp-chunk-7-Of-10\n",
            "-rw-r--r-- 1 root  39M Oct 18 04:54 ds_cv_run6_2018_10_18_00_46_58.ckp-chunk-8-Of-10\n",
            "-rw-r--r-- 1 root  39M Oct 18 04:54 ds_cv_run6_2018_10_18_00_46_58.ckp-chunk-9-Of-10\n",
            "-rw-r--r-- 1 root 9.0M Oct 18 04:54 ds_cv_run7_2018_10_18_00_52_29.ckp-chunk-10-Of-10\n",
            "-rw-r--r-- 1 root  39M Oct 18 04:54 ds_cv_run7_2018_10_18_00_52_29.ckp-chunk-1-Of-10\n",
            "-rw-r--r-- 1 root  39M Oct 18 04:55 ds_cv_run7_2018_10_18_00_52_29.ckp-chunk-2-Of-10\n",
            "-rw-r--r-- 1 root  39M Oct 18 04:55 ds_cv_run7_2018_10_18_00_52_29.ckp-chunk-3-Of-10\n",
            "-rw-r--r-- 1 root  39M Oct 18 04:55 ds_cv_run7_2018_10_18_00_52_29.ckp-chunk-4-Of-10\n",
            "-rw-r--r-- 1 root  39M Oct 18 04:55 ds_cv_run7_2018_10_18_00_52_29.ckp-chunk-5-Of-10\n",
            "-rw-r--r-- 1 root  39M Oct 18 04:55 ds_cv_run7_2018_10_18_00_52_29.ckp-chunk-6-Of-10\n",
            "-rw-r--r-- 1 root  39M Oct 18 04:55 ds_cv_run7_2018_10_18_00_52_29.ckp-chunk-7-Of-10\n",
            "-rw-r--r-- 1 root  39M Oct 18 04:55 ds_cv_run7_2018_10_18_00_52_29.ckp-chunk-8-Of-10\n",
            "-rw-r--r-- 1 root  39M Oct 18 04:55 ds_cv_run7_2018_10_18_00_52_29.ckp-chunk-9-Of-10\n",
            "-rw-r--r-- 1 root 6.1M Oct 18 05:20 salt_model_v37.2_refactor_aug_test2_2018_10_05_09_56_39.ckp-chunk-10-Of-10\n",
            "-rw-r--r-- 1 root  39M Oct 18 05:20 salt_model_v37.2_refactor_aug_test2_2018_10_05_09_56_39.ckp-chunk-1-Of-10\n",
            "-rw-r--r-- 1 root  39M Oct 18 05:20 salt_model_v37.2_refactor_aug_test2_2018_10_05_09_56_39.ckp-chunk-2-Of-10\n",
            "-rw-r--r-- 1 root  39M Oct 18 05:20 salt_model_v37.2_refactor_aug_test2_2018_10_05_09_56_39.ckp-chunk-3-Of-10\n",
            "-rw-r--r-- 1 root  39M Oct 18 05:20 salt_model_v37.2_refactor_aug_test2_2018_10_05_09_56_39.ckp-chunk-4-Of-10\n",
            "-rw-r--r-- 1 root  39M Oct 18 05:20 salt_model_v37.2_refactor_aug_test2_2018_10_05_09_56_39.ckp-chunk-5-Of-10\n",
            "-rw-r--r-- 1 root  39M Oct 18 05:20 salt_model_v37.2_refactor_aug_test2_2018_10_05_09_56_39.ckp-chunk-6-Of-10\n",
            "-rw-r--r-- 1 root  39M Oct 18 05:20 salt_model_v37.2_refactor_aug_test2_2018_10_05_09_56_39.ckp-chunk-7-Of-10\n",
            "-rw-r--r-- 1 root  39M Oct 18 05:20 salt_model_v37.2_refactor_aug_test2_2018_10_05_09_56_39.ckp-chunk-8-Of-10\n",
            "-rw-r--r-- 1 root  39M Oct 18 05:20 salt_model_v37.2_refactor_aug_test2_2018_10_05_09_56_39.ckp-chunk-9-Of-10\n",
            "-rw-r--r-- 1 root 5.9M Oct 18 05:00 salt_model_v37.42_high_lovasz_loss_cv0_2018_10_09_21_41_43.ckp-chunk-10-Of-10\n",
            "-rw-r--r-- 1 root  39M Oct 18 05:00 salt_model_v37.42_high_lovasz_loss_cv0_2018_10_09_21_41_43.ckp-chunk-1-Of-10\n",
            "-rw-r--r-- 1 root  39M Oct 18 05:00 salt_model_v37.42_high_lovasz_loss_cv0_2018_10_09_21_41_43.ckp-chunk-2-Of-10\n",
            "-rw-r--r-- 1 root  39M Oct 18 05:00 salt_model_v37.42_high_lovasz_loss_cv0_2018_10_09_21_41_43.ckp-chunk-3-Of-10\n",
            "-rw-r--r-- 1 root  39M Oct 18 05:00 salt_model_v37.42_high_lovasz_loss_cv0_2018_10_09_21_41_43.ckp-chunk-4-Of-10\n",
            "-rw-r--r-- 1 root  39M Oct 18 05:00 salt_model_v37.42_high_lovasz_loss_cv0_2018_10_09_21_41_43.ckp-chunk-5-Of-10\n",
            "-rw-r--r-- 1 root  39M Oct 18 05:00 salt_model_v37.42_high_lovasz_loss_cv0_2018_10_09_21_41_43.ckp-chunk-6-Of-10\n",
            "-rw-r--r-- 1 root  39M Oct 18 05:00 salt_model_v37.42_high_lovasz_loss_cv0_2018_10_09_21_41_43.ckp-chunk-7-Of-10\n",
            "-rw-r--r-- 1 root  39M Oct 18 05:00 salt_model_v37.42_high_lovasz_loss_cv0_2018_10_09_21_41_43.ckp-chunk-8-Of-10\n",
            "-rw-r--r-- 1 root  39M Oct 18 05:00 salt_model_v37.42_high_lovasz_loss_cv0_2018_10_09_21_41_43.ckp-chunk-9-Of-10\n",
            "-rw-r--r-- 1 root 5.9M Oct 18 05:00 salt_model_v37.42_high_lovasz_loss_cv1_2018_10_09_22_08_30.ckp-chunk-10-Of-10\n",
            "-rw-r--r-- 1 root  39M Oct 18 05:00 salt_model_v37.42_high_lovasz_loss_cv1_2018_10_09_22_08_30.ckp-chunk-1-Of-10\n",
            "-rw-r--r-- 1 root  39M Oct 18 05:00 salt_model_v37.42_high_lovasz_loss_cv1_2018_10_09_22_08_30.ckp-chunk-2-Of-10\n",
            "-rw-r--r-- 1 root  39M Oct 18 05:00 salt_model_v37.42_high_lovasz_loss_cv1_2018_10_09_22_08_30.ckp-chunk-3-Of-10\n",
            "-rw-r--r-- 1 root  39M Oct 18 05:00 salt_model_v37.42_high_lovasz_loss_cv1_2018_10_09_22_08_30.ckp-chunk-4-Of-10\n",
            "-rw-r--r-- 1 root  39M Oct 18 05:00 salt_model_v37.42_high_lovasz_loss_cv1_2018_10_09_22_08_30.ckp-chunk-5-Of-10\n",
            "-rw-r--r-- 1 root  39M Oct 18 05:00 salt_model_v37.42_high_lovasz_loss_cv1_2018_10_09_22_08_30.ckp-chunk-6-Of-10\n",
            "-rw-r--r-- 1 root  39M Oct 18 05:00 salt_model_v37.42_high_lovasz_loss_cv1_2018_10_09_22_08_30.ckp-chunk-7-Of-10\n",
            "-rw-r--r-- 1 root  39M Oct 18 05:00 salt_model_v37.42_high_lovasz_loss_cv1_2018_10_09_22_08_30.ckp-chunk-8-Of-10\n",
            "-rw-r--r-- 1 root  39M Oct 18 05:00 salt_model_v37.42_high_lovasz_loss_cv1_2018_10_09_22_08_30.ckp-chunk-9-Of-10\n",
            "-rw-r--r-- 1 root 5.9M Oct 18 05:00 salt_model_v37.42_high_lovasz_loss_cv2_2018_10_10_07_01_06.ckp-chunk-10-Of-10\n",
            "-rw-r--r-- 1 root  39M Oct 18 05:00 salt_model_v37.42_high_lovasz_loss_cv2_2018_10_10_07_01_06.ckp-chunk-1-Of-10\n",
            "-rw-r--r-- 1 root  39M Oct 18 05:00 salt_model_v37.42_high_lovasz_loss_cv2_2018_10_10_07_01_06.ckp-chunk-2-Of-10\n",
            "-rw-r--r-- 1 root  39M Oct 18 05:00 salt_model_v37.42_high_lovasz_loss_cv2_2018_10_10_07_01_06.ckp-chunk-3-Of-10\n",
            "-rw-r--r-- 1 root  39M Oct 18 05:00 salt_model_v37.42_high_lovasz_loss_cv2_2018_10_10_07_01_06.ckp-chunk-4-Of-10\n",
            "-rw-r--r-- 1 root  39M Oct 18 05:00 salt_model_v37.42_high_lovasz_loss_cv2_2018_10_10_07_01_06.ckp-chunk-5-Of-10\n",
            "-rw-r--r-- 1 root  39M Oct 18 05:00 salt_model_v37.42_high_lovasz_loss_cv2_2018_10_10_07_01_06.ckp-chunk-6-Of-10\n",
            "-rw-r--r-- 1 root  39M Oct 18 05:00 salt_model_v37.42_high_lovasz_loss_cv2_2018_10_10_07_01_06.ckp-chunk-7-Of-10\n",
            "-rw-r--r-- 1 root  39M Oct 18 05:00 salt_model_v37.42_high_lovasz_loss_cv2_2018_10_10_07_01_06.ckp-chunk-8-Of-10\n",
            "-rw-r--r-- 1 root  39M Oct 18 05:00 salt_model_v37.42_high_lovasz_loss_cv2_2018_10_10_07_01_06.ckp-chunk-9-Of-10\n",
            "-rw-r--r-- 1 root 6.1M Oct 18 05:00 salt_model_v37.42_high_lovasz_loss_cv3_2018_10_09_22_26_37.ckp-chunk-10-Of-10\n",
            "-rw-r--r-- 1 root  39M Oct 18 05:00 salt_model_v37.42_high_lovasz_loss_cv3_2018_10_09_22_26_37.ckp-chunk-1-Of-10\n",
            "-rw-r--r-- 1 root  39M Oct 18 05:00 salt_model_v37.42_high_lovasz_loss_cv3_2018_10_09_22_26_37.ckp-chunk-2-Of-10\n",
            "-rw-r--r-- 1 root  39M Oct 18 05:00 salt_model_v37.42_high_lovasz_loss_cv3_2018_10_09_22_26_37.ckp-chunk-3-Of-10\n",
            "-rw-r--r-- 1 root  39M Oct 18 05:00 salt_model_v37.42_high_lovasz_loss_cv3_2018_10_09_22_26_37.ckp-chunk-4-Of-10\n",
            "-rw-r--r-- 1 root  39M Oct 18 05:00 salt_model_v37.42_high_lovasz_loss_cv3_2018_10_09_22_26_37.ckp-chunk-5-Of-10\n",
            "-rw-r--r-- 1 root  39M Oct 18 05:00 salt_model_v37.42_high_lovasz_loss_cv3_2018_10_09_22_26_37.ckp-chunk-6-Of-10\n",
            "-rw-r--r-- 1 root  39M Oct 18 05:00 salt_model_v37.42_high_lovasz_loss_cv3_2018_10_09_22_26_37.ckp-chunk-7-Of-10\n",
            "-rw-r--r-- 1 root  39M Oct 18 05:00 salt_model_v37.42_high_lovasz_loss_cv3_2018_10_09_22_26_37.ckp-chunk-8-Of-10\n",
            "-rw-r--r-- 1 root  39M Oct 18 05:00 salt_model_v37.42_high_lovasz_loss_cv3_2018_10_09_22_26_37.ckp-chunk-9-Of-10\n",
            "-rw-r--r-- 1 root 5.9M Oct 18 05:00 salt_model_v37.42_high_lovasz_loss_cv4_2018_10_10_07_28_55.ckp-chunk-10-Of-10\n",
            "-rw-r--r-- 1 root  39M Oct 18 05:00 salt_model_v37.42_high_lovasz_loss_cv4_2018_10_10_07_28_55.ckp-chunk-1-Of-10\n",
            "-rw-r--r-- 1 root  39M Oct 18 05:00 salt_model_v37.42_high_lovasz_loss_cv4_2018_10_10_07_28_55.ckp-chunk-2-Of-10\n",
            "-rw-r--r-- 1 root  39M Oct 18 05:00 salt_model_v37.42_high_lovasz_loss_cv4_2018_10_10_07_28_55.ckp-chunk-3-Of-10\n",
            "-rw-r--r-- 1 root  39M Oct 18 05:00 salt_model_v37.42_high_lovasz_loss_cv4_2018_10_10_07_28_55.ckp-chunk-4-Of-10\n",
            "-rw-r--r-- 1 root  39M Oct 18 05:00 salt_model_v37.42_high_lovasz_loss_cv4_2018_10_10_07_28_55.ckp-chunk-5-Of-10\n",
            "-rw-r--r-- 1 root  39M Oct 18 05:00 salt_model_v37.42_high_lovasz_loss_cv4_2018_10_10_07_28_55.ckp-chunk-6-Of-10\n",
            "-rw-r--r-- 1 root  39M Oct 18 05:00 salt_model_v37.42_high_lovasz_loss_cv4_2018_10_10_07_28_55.ckp-chunk-7-Of-10\n",
            "-rw-r--r-- 1 root  39M Oct 18 05:00 salt_model_v37.42_high_lovasz_loss_cv4_2018_10_10_07_28_55.ckp-chunk-8-Of-10\n",
            "-rw-r--r-- 1 root  39M Oct 18 05:00 salt_model_v37.42_high_lovasz_loss_cv4_2018_10_10_07_28_55.ckp-chunk-9-Of-10\n",
            "-rw-r--r-- 1 root 6.0M Oct 18 05:20 salt_model_v37.4_high_lovasz_loss_2018_10_05_10_43_22.ckp-chunk-10-Of-10\n",
            "-rw-r--r-- 1 root  39M Oct 18 05:20 salt_model_v37.4_high_lovasz_loss_2018_10_05_10_43_22.ckp-chunk-1-Of-10\n",
            "-rw-r--r-- 1 root  39M Oct 18 05:20 salt_model_v37.4_high_lovasz_loss_2018_10_05_10_43_22.ckp-chunk-2-Of-10\n",
            "-rw-r--r-- 1 root  39M Oct 18 05:20 salt_model_v37.4_high_lovasz_loss_2018_10_05_10_43_22.ckp-chunk-3-Of-10\n",
            "-rw-r--r-- 1 root  39M Oct 18 05:20 salt_model_v37.4_high_lovasz_loss_2018_10_05_10_43_22.ckp-chunk-4-Of-10\n",
            "-rw-r--r-- 1 root  39M Oct 18 05:20 salt_model_v37.4_high_lovasz_loss_2018_10_05_10_43_22.ckp-chunk-5-Of-10\n",
            "-rw-r--r-- 1 root  39M Oct 18 05:20 salt_model_v37.4_high_lovasz_loss_2018_10_05_10_43_22.ckp-chunk-6-Of-10\n",
            "-rw-r--r-- 1 root  39M Oct 18 05:20 salt_model_v37.4_high_lovasz_loss_2018_10_05_10_43_22.ckp-chunk-7-Of-10\n",
            "-rw-r--r-- 1 root  39M Oct 18 05:20 salt_model_v37.4_high_lovasz_loss_2018_10_05_10_43_22.ckp-chunk-8-Of-10\n",
            "-rw-r--r-- 1 root  39M Oct 18 05:20 salt_model_v37.4_high_lovasz_loss_2018_10_05_10_43_22.ckp-chunk-9-Of-10\n",
            "-rw-r--r-- 1 root  39M Oct 18 05:21 salt_model_v40_deeplap_unet_combo_run1_2018_10_07_21_52_10.ckp-chunk-10-Of-11\n",
            "-rw-r--r-- 1 root  16M Oct 18 05:21 salt_model_v40_deeplap_unet_combo_run1_2018_10_07_21_52_10.ckp-chunk-11-Of-11\n",
            "-rw-r--r-- 1 root  39M Oct 18 05:21 salt_model_v40_deeplap_unet_combo_run1_2018_10_07_21_52_10.ckp-chunk-1-Of-11\n",
            "-rw-r--r-- 1 root  39M Oct 18 05:21 salt_model_v40_deeplap_unet_combo_run1_2018_10_07_21_52_10.ckp-chunk-2-Of-11\n",
            "-rw-r--r-- 1 root  39M Oct 18 05:21 salt_model_v40_deeplap_unet_combo_run1_2018_10_07_21_52_10.ckp-chunk-3-Of-11\n",
            "-rw-r--r-- 1 root  39M Oct 18 05:21 salt_model_v40_deeplap_unet_combo_run1_2018_10_07_21_52_10.ckp-chunk-4-Of-11\n",
            "-rw-r--r-- 1 root  39M Oct 18 05:21 salt_model_v40_deeplap_unet_combo_run1_2018_10_07_21_52_10.ckp-chunk-5-Of-11\n",
            "-rw-r--r-- 1 root  39M Oct 18 05:21 salt_model_v40_deeplap_unet_combo_run1_2018_10_07_21_52_10.ckp-chunk-6-Of-11\n",
            "-rw-r--r-- 1 root  39M Oct 18 05:21 salt_model_v40_deeplap_unet_combo_run1_2018_10_07_21_52_10.ckp-chunk-7-Of-11\n",
            "-rw-r--r-- 1 root  39M Oct 18 05:21 salt_model_v40_deeplap_unet_combo_run1_2018_10_07_21_52_10.ckp-chunk-8-Of-11\n",
            "-rw-r--r-- 1 root  39M Oct 18 05:21 salt_model_v40_deeplap_unet_combo_run1_2018_10_07_21_52_10.ckp-chunk-9-Of-11\n",
            "-rw-r--r-- 1 root  39M Oct 18 05:21 salt_model_v40_deeplap_unet_combo_run3_2018_10_08_06_57_19.ckp-chunk-10-Of-11\n",
            "-rw-r--r-- 1 root  16M Oct 18 05:21 salt_model_v40_deeplap_unet_combo_run3_2018_10_08_06_57_19.ckp-chunk-11-Of-11\n",
            "-rw-r--r-- 1 root  39M Oct 18 05:21 salt_model_v40_deeplap_unet_combo_run3_2018_10_08_06_57_19.ckp-chunk-1-Of-11\n",
            "-rw-r--r-- 1 root  39M Oct 18 05:21 salt_model_v40_deeplap_unet_combo_run3_2018_10_08_06_57_19.ckp-chunk-2-Of-11\n",
            "-rw-r--r-- 1 root  39M Oct 18 05:21 salt_model_v40_deeplap_unet_combo_run3_2018_10_08_06_57_19.ckp-chunk-3-Of-11\n",
            "-rw-r--r-- 1 root  39M Oct 18 05:21 salt_model_v40_deeplap_unet_combo_run3_2018_10_08_06_57_19.ckp-chunk-4-Of-11\n",
            "-rw-r--r-- 1 root  39M Oct 18 05:21 salt_model_v40_deeplap_unet_combo_run3_2018_10_08_06_57_19.ckp-chunk-5-Of-11\n",
            "-rw-r--r-- 1 root  39M Oct 18 05:21 salt_model_v40_deeplap_unet_combo_run3_2018_10_08_06_57_19.ckp-chunk-6-Of-11\n",
            "-rw-r--r-- 1 root  39M Oct 18 05:21 salt_model_v40_deeplap_unet_combo_run3_2018_10_08_06_57_19.ckp-chunk-7-Of-11\n",
            "-rw-r--r-- 1 root  39M Oct 18 05:21 salt_model_v40_deeplap_unet_combo_run3_2018_10_08_06_57_19.ckp-chunk-8-Of-11\n",
            "-rw-r--r-- 1 root  39M Oct 18 05:21 salt_model_v40_deeplap_unet_combo_run3_2018_10_08_06_57_19.ckp-chunk-9-Of-11\n",
            "-rw-r--r-- 1 root 4.6M Oct 18 05:22 Unet_res34_bce_lovasz_loss_se_new_aug_finetuen1_2018_09_21_09_41_48.ckp-chunk-10-Of-10\n",
            "-rw-r--r-- 1 root  39M Oct 18 05:22 Unet_res34_bce_lovasz_loss_se_new_aug_finetuen1_2018_09_21_09_41_48.ckp-chunk-1-Of-10\n",
            "-rw-r--r-- 1 root  39M Oct 18 05:22 Unet_res34_bce_lovasz_loss_se_new_aug_finetuen1_2018_09_21_09_41_48.ckp-chunk-2-Of-10\n",
            "-rw-r--r-- 1 root  39M Oct 18 05:22 Unet_res34_bce_lovasz_loss_se_new_aug_finetuen1_2018_09_21_09_41_48.ckp-chunk-3-Of-10\n",
            "-rw-r--r-- 1 root  39M Oct 18 05:22 Unet_res34_bce_lovasz_loss_se_new_aug_finetuen1_2018_09_21_09_41_48.ckp-chunk-4-Of-10\n",
            "-rw-r--r-- 1 root  39M Oct 18 05:22 Unet_res34_bce_lovasz_loss_se_new_aug_finetuen1_2018_09_21_09_41_48.ckp-chunk-5-Of-10\n",
            "-rw-r--r-- 1 root  39M Oct 18 05:22 Unet_res34_bce_lovasz_loss_se_new_aug_finetuen1_2018_09_21_09_41_48.ckp-chunk-6-Of-10\n",
            "-rw-r--r-- 1 root  39M Oct 18 05:22 Unet_res34_bce_lovasz_loss_se_new_aug_finetuen1_2018_09_21_09_41_48.ckp-chunk-7-Of-10\n",
            "-rw-r--r-- 1 root  39M Oct 18 05:22 Unet_res34_bce_lovasz_loss_se_new_aug_finetuen1_2018_09_21_09_41_48.ckp-chunk-8-Of-10\n",
            "-rw-r--r-- 1 root  39M Oct 18 05:22 Unet_res34_bce_lovasz_loss_se_new_aug_finetuen1_2018_09_21_09_41_48.ckp-chunk-9-Of-10\n"
          ],
          "name": "stdout"
        }
      ]
    },
    {
      "metadata": {
        "id": "-9R3HXbwZs9M",
        "colab_type": "code",
        "colab": {
          "base_uri": "https://localhost:8080/",
          "height": 35
        },
        "outputId": "b05b8c68-02aa-4b88-86f5-8309a68cfc3b"
      },
      "cell_type": "code",
      "source": [
        "cd salt_net_ens/"
      ],
      "execution_count": 53,
      "outputs": [
        {
          "output_type": "stream",
          "text": [
            "/content/salt_net_ens\n"
          ],
          "name": "stdout"
        }
      ]
    },
    {
      "metadata": {
        "id": "KF8JEu3Z8NZ1",
        "colab_type": "code",
        "colab": {}
      },
      "cell_type": "code",
      "source": [
        "echo \"# salt_net_ens\" >> README.md\n",
        "git init\n",
        "git add README.md\n",
        "git commit -m \"first commit\"\n",
        "git remote add origin https://github.com/allen-q/salt_net_ens.git\n",
        "git push -u origin master"
      ],
      "execution_count": 0,
      "outputs": []
    },
    {
      "metadata": {
        "id": "av6yN6vK8NWn",
        "colab_type": "code",
        "outputId": "8854c9aa-aa9e-4b11-e8b0-d56e6ad6a777",
        "colab": {
          "base_uri": "https://localhost:8080/",
          "height": 35
        }
      },
      "cell_type": "code",
      "source": [
        "!git init"
      ],
      "execution_count": 54,
      "outputs": [
        {
          "output_type": "stream",
          "text": [
            "Initialized empty Git repository in /content/salt_net_ens/.git/\n"
          ],
          "name": "stdout"
        }
      ]
    },
    {
      "metadata": {
        "id": "P6Q6x9p2pJhS",
        "colab_type": "code",
        "colab": {
          "base_uri": "https://localhost:8080/",
          "height": 35
        },
        "outputId": "abbf2397-04b0-4790-b1fb-83fff7c87f0b"
      },
      "cell_type": "code",
      "source": [
        "!git remote add origin https://github.com/allen-q/salt_net_ens.git"
      ],
      "execution_count": 62,
      "outputs": [
        {
          "output_type": "stream",
          "text": [
            "fatal: remote origin already exists.\n"
          ],
          "name": "stdout"
        }
      ]
    },
    {
      "metadata": {
        "id": "pcvcZNX4pJpN",
        "colab_type": "code",
        "colab": {}
      },
      "cell_type": "code",
      "source": [
        "get_ipython().system(\"git config user.email 'allen.qin.au@gmail.com'\")"
      ],
      "execution_count": 0,
      "outputs": []
    },
    {
      "metadata": {
        "id": "WQ6JfN53pg6s",
        "colab_type": "code",
        "colab": {
          "base_uri": "https://localhost:8080/",
          "height": 35
        },
        "outputId": "b90cd177-b303-492b-9759-493b6f56a0c8"
      },
      "cell_type": "code",
      "source": [
        "!git branch --set-upstream-to=origin/master master"
      ],
      "execution_count": 61,
      "outputs": [
        {
          "output_type": "stream",
          "text": [
            "fatal: branch 'master' does not exist\n"
          ],
          "name": "stdout"
        }
      ]
    },
    {
      "metadata": {
        "id": "VpTSho1vpjAm",
        "colab_type": "code",
        "colab": {}
      },
      "cell_type": "code",
      "source": [
        "!git add ."
      ],
      "execution_count": 0,
      "outputs": []
    },
    {
      "metadata": {
        "id": "27OAGV3XqGnN",
        "colab_type": "code",
        "colab": {}
      },
      "cell_type": "code",
      "source": [
        "!git status"
      ],
      "execution_count": 0,
      "outputs": []
    },
    {
      "metadata": {
        "id": "YAVMOHbz-HCd",
        "colab_type": "code",
        "outputId": "3854e776-afe3-4c1c-f012-0f6d8f3c0d14",
        "colab": {
          "base_uri": "https://localhost:8080/",
          "height": 35
        }
      },
      "cell_type": "code",
      "source": [
        "cd salt_oil"
      ],
      "execution_count": 3,
      "outputs": [
        {
          "output_type": "stream",
          "text": [
            "/content/salt_oil\n"
          ],
          "name": "stdout"
        }
      ]
    },
    {
      "metadata": {
        "id": "UVnBJygnW5gK",
        "colab_type": "text"
      },
      "cell_type": "markdown",
      "source": [
        "## Import required libs"
      ]
    },
    {
      "metadata": {
        "id": "x1VSamfH3Kk6",
        "colab_type": "code",
        "colab": {}
      },
      "cell_type": "code",
      "source": [
        "import zipfile\n",
        "import torch\n",
        "import torchvision\n",
        "import torch.nn as nn\n",
        "import torch.nn.functional as F\n",
        "from torch.utils import data\n",
        "from torch.utils.data import Dataset, DataLoader\n",
        "from torchvision import transforms, utils\n",
        "from skimage import io, transform\n",
        "from sklearn.model_selection import train_test_split\n",
        "import numpy as np\n",
        "import pandas as pd\n",
        "import matplotlib.pyplot as ply\n",
        "import os\n",
        "import imageio\n",
        "from PIL import Image\n",
        "import glob\n",
        "import matplotlib.pyplot as plt\n",
        "import time\n",
        "import math\n",
        "import datetime as dt\n",
        "import pytz\n",
        "import pickle\n",
        "from salt_func_lib import *\n",
        "from torchvision import transforms, utils\n",
        "from skimage import io, transform\n",
        "import datetime as dt\n",
        "import sys\n",
        "from optparse import OptionParser\n",
        "import torch.backends.cudnn as cudnn\n",
        "from torch import optim\n",
        "from torch.optim import lr_scheduler\n",
        "import copy\n",
        "from io import BytesIO\n",
        "import random\n",
        "import PIL\n",
        "import cv2 as cv\n",
        "import numpy as np\n",
        "% matplotlib inline\n",
        "% load_ext autoreload\n",
        "% autoreload 2"
      ],
      "execution_count": 0,
      "outputs": []
    },
    {
      "metadata": {
        "id": "I87qLhAOW5gO",
        "colab_type": "text"
      },
      "cell_type": "markdown",
      "source": [
        "## Load Unet Modules"
      ]
    },
    {
      "metadata": {
        "id": "eC32auGDqVZi",
        "colab_type": "code",
        "colab": {}
      },
      "cell_type": "code",
      "source": [
        "from pytorch_unet.eval import eval_net\n",
        "from pytorch_unet.unet import UNet\n",
        "from pytorch_unet.unet.unet_parts import *\n",
        "import pytorch_unet.unet.resnet_deep_sup_v11 as resnet_deep_sup_v11\n",
        "import pytorch_unet.unet.resnet as resnet\n",
        "from pytorch_unet.utils import get_ids, split_ids, split_train_val, get_imgs_and_masks, batch"
      ],
      "execution_count": 0,
      "outputs": []
    },
    {
      "metadata": {
        "id": "6O8Wz9H_iTDE",
        "colab_type": "code",
        "colab": {}
      },
      "cell_type": "code",
      "source": [
        "## Setup data type based on whether GPU is enabled"
      ],
      "execution_count": 0,
      "outputs": []
    },
    {
      "metadata": {
        "id": "QKYhIfCtEk6C",
        "colab_type": "code",
        "outputId": "aca402ac-0ce0-44e5-f565-0b973d7fd397",
        "colab": {
          "base_uri": "https://localhost:8080/",
          "height": 35
        }
      },
      "cell_type": "code",
      "source": [
        "if torch.cuda.is_available():\n",
        "    dtype = torch.cuda.FloatTensor ## UNCOMMENT THIS LINE IF YOU'RE ON A GPU!\n",
        "else:    \n",
        "    dtype = torch.FloatTensor\n",
        "print(f'Data Type set to: {dtype}')"
      ],
      "execution_count": 7,
      "outputs": [
        {
          "output_type": "stream",
          "text": [
            "Data Type set to: <class 'torch.cuda.FloatTensor'>\n"
          ],
          "name": "stdout"
        }
      ]
    },
    {
      "metadata": {
        "id": "lRawI4_RdLLk",
        "colab_type": "code",
        "colab": {}
      },
      "cell_type": "code",
      "source": [
        "def setup_train(config_list):\n",
        "    for conf in config_list:\n",
        "        log.info(conf)\n",
        "    for conf in config_list:\n",
        "        exec(conf)"
      ],
      "execution_count": 0,
      "outputs": []
    },
    {
      "metadata": {
        "id": "30EV6nbKbtyV",
        "colab_type": "text"
      },
      "cell_type": "markdown",
      "source": [
        "## Create Logger"
      ]
    },
    {
      "metadata": {
        "id": "IENdY0MyTW_7",
        "colab_type": "code",
        "colab": {}
      },
      "cell_type": "code",
      "source": [
        "run_name = 'deep_supervision_cv_ens'\n",
        "model_file_suffix = f'../salt_net/{run_name}_{get_current_time_as_fname()}.ckp'\n",
        "fold = None"
      ],
      "execution_count": 0,
      "outputs": []
    },
    {
      "metadata": {
        "id": "s5JTwFPaaZB1",
        "colab_type": "code",
        "colab": {}
      },
      "cell_type": "code",
      "source": [
        "global log\n",
        "log = get_logger(run_name)"
      ],
      "execution_count": 0,
      "outputs": []
    },
    {
      "metadata": {
        "id": "aEXPdEFd3KmA",
        "colab_type": "text"
      },
      "cell_type": "markdown",
      "source": [
        "## Prepare Data"
      ]
    },
    {
      "metadata": {
        "id": "53yVOPsQ3KmB",
        "colab_type": "text"
      },
      "cell_type": "markdown",
      "source": [
        "### Load train and test data from npy files or from raw images if npy files not exist."
      ]
    },
    {
      "metadata": {
        "id": "wO1kf6HW3KmC",
        "colab_type": "code",
        "outputId": "bf748e33-307f-4f91-c2ad-e81faa0c7fb9",
        "colab": {
          "base_uri": "https://localhost:8080/",
          "height": 52
        }
      },
      "cell_type": "code",
      "source": [
        "np_train_all, np_train_all_mask, X_test, misc_data = load_all_data()"
      ],
      "execution_count": 11,
      "outputs": [
        {
          "output_type": "stream",
          "text": [
            "Try loading data from npy and pickle files...\n",
            "Data loaded.\n"
          ],
          "name": "stdout"
        }
      ]
    },
    {
      "metadata": {
        "id": "NIJDzi3mZpDH",
        "colab_type": "code",
        "colab": {}
      },
      "cell_type": "code",
      "source": [
        "df_train_mask = pd.DataFrame((np_train_all_mask/255).sum((1,2,3)), columns=['mask_pix'])\n",
        "df_train_mask.mask_pix = df_train_mask.mask_pix.round(-2)\n",
        "\n",
        "X_train_ids, X_val_ids = (\n",
        "    train_test_split(df_train_mask.index.tolist(), \n",
        "                     test_size=0.20,\n",
        "                     stratify = df_train_mask.mask_pix,\n",
        "                     random_state=0)\n",
        ")\n",
        "\n",
        "X_train = np_train_all[X_train_ids]\n",
        "X_val = np_train_all[X_val_ids]\n",
        "y_train = np_train_all_mask[X_train_ids]\n",
        "y_val = np_train_all_mask[X_val_ids]\n",
        "depth_train = (\n",
        "    misc_data['df_train_all_depth']\n",
        "    .reindex(np.array(misc_data['np_train_all_ids'])[X_train_ids])\n",
        ")\n",
        "depth_val = (\n",
        "    misc_data['df_train_all_depth']\n",
        "    .reindex(np.array(misc_data['np_train_all_ids'])[X_val_ids])\n",
        ")\n",
        "depth_test = (\n",
        "    misc_data['df_train_all_depth']\n",
        "    .reindex(np.array(misc_data['np_test_ids']))\n",
        ")\n",
        "#X_train_mean_img = X_train.mean(0).astype(np.float32)\n",
        "#X_train_mean_img = X_train.mean((0,1,2)).astype(np.float32)\n",
        "X_train_mean_img = np.clip(np_train_all/255, 0, 1).mean((0,1,2)).astype(np.float32)\n",
        "#set mean image to 0 as mean is now being handled within the model.\n",
        "X_train_mean_img = np.zeros_like(X_train_mean_img)\n",
        "\n",
        "all_data = {\n",
        "    'X_train': X_train,\n",
        "    'X_val': X_val,\n",
        "    'y_train': y_train,\n",
        "    'y_val': y_val,\n",
        "    'X_test': X_test,\n",
        "    'X_train_mean_img': X_train_mean_img\n",
        "}\n",
        "\n",
        "assert X_train_mean_img == np.array([0.])\n",
        "assert X_train.shape == (3200, 101, 101, 1)\n",
        "assert y_train.shape == (3200, 101, 101, 1)\n",
        "assert depth_train.shape == (3200, 1)"
      ],
      "execution_count": 0,
      "outputs": []
    },
    {
      "metadata": {
        "id": "s_fUyp4juGDV",
        "colab_type": "code",
        "colab": {
          "base_uri": "https://localhost:8080/",
          "height": 35
        },
        "outputId": "4008f73a-ac1d-4c61-a9ca-3bdd1c2be34a"
      },
      "cell_type": "code",
      "source": [
        "cd ../salt_net"
      ],
      "execution_count": 62,
      "outputs": [
        {
          "output_type": "stream",
          "text": [
            "/content/salt_net\n"
          ],
          "name": "stdout"
        }
      ]
    },
    {
      "metadata": {
        "id": "Zhz2Dup1Piqz",
        "colab_type": "code",
        "colab": {}
      },
      "cell_type": "code",
      "source": [
        "!git pull"
      ],
      "execution_count": 0,
      "outputs": []
    },
    {
      "metadata": {
        "id": "p1nGoz9SP2rX",
        "colab_type": "code",
        "colab": {
          "base_uri": "https://localhost:8080/",
          "height": 3306
        },
        "outputId": "66881e89-5589-4620-ed75-1a54717c80e7"
      },
      "cell_type": "code",
      "source": [
        "ll ../salt_net_ens/"
      ],
      "execution_count": 68,
      "outputs": [
        {
          "output_type": "stream",
          "text": [
            "total 7459864\n",
            "-rw-r--r-- 1 root   9256431 Oct 18 04:54 ds_cv_run0_2018_10_17_23_29_35.ckp-chunk-10-Of-10\n",
            "-rw-r--r-- 1 root  40000000 Oct 18 04:54 ds_cv_run0_2018_10_17_23_29_35.ckp-chunk-1-Of-10\n",
            "-rw-r--r-- 1 root  40000000 Oct 18 04:54 ds_cv_run0_2018_10_17_23_29_35.ckp-chunk-2-Of-10\n",
            "-rw-r--r-- 1 root  40000000 Oct 18 04:54 ds_cv_run0_2018_10_17_23_29_35.ckp-chunk-3-Of-10\n",
            "-rw-r--r-- 1 root  40000000 Oct 18 04:54 ds_cv_run0_2018_10_17_23_29_35.ckp-chunk-4-Of-10\n",
            "-rw-r--r-- 1 root  40000000 Oct 18 04:54 ds_cv_run0_2018_10_17_23_29_35.ckp-chunk-5-Of-10\n",
            "-rw-r--r-- 1 root  40000000 Oct 18 04:54 ds_cv_run0_2018_10_17_23_29_35.ckp-chunk-6-Of-10\n",
            "-rw-r--r-- 1 root  40000000 Oct 18 04:54 ds_cv_run0_2018_10_17_23_29_35.ckp-chunk-7-Of-10\n",
            "-rw-r--r-- 1 root  40000000 Oct 18 04:54 ds_cv_run0_2018_10_17_23_29_35.ckp-chunk-8-Of-10\n",
            "-rw-r--r-- 1 root  40000000 Oct 18 04:54 ds_cv_run0_2018_10_17_23_29_35.ckp-chunk-9-Of-10\n",
            "-rw-r--r-- 1 root   9391918 Oct 18 08:17 ds_cv_run1_2018_10_18_09_52_16.ckp-chunk-10-Of-10\n",
            "-rw-r--r-- 1 root  40000000 Oct 18 08:17 ds_cv_run1_2018_10_18_09_52_16.ckp-chunk-1-Of-10\n",
            "-rw-r--r-- 1 root  40000000 Oct 18 08:17 ds_cv_run1_2018_10_18_09_52_16.ckp-chunk-2-Of-10\n",
            "-rw-r--r-- 1 root  40000000 Oct 18 08:17 ds_cv_run1_2018_10_18_09_52_16.ckp-chunk-3-Of-10\n",
            "-rw-r--r-- 1 root  40000000 Oct 18 08:17 ds_cv_run1_2018_10_18_09_52_16.ckp-chunk-4-Of-10\n",
            "-rw-r--r-- 1 root  40000000 Oct 18 08:17 ds_cv_run1_2018_10_18_09_52_16.ckp-chunk-5-Of-10\n",
            "-rw-r--r-- 1 root  40000000 Oct 18 08:17 ds_cv_run1_2018_10_18_09_52_16.ckp-chunk-6-Of-10\n",
            "-rw-r--r-- 1 root  40000000 Oct 18 08:17 ds_cv_run1_2018_10_18_09_52_16.ckp-chunk-7-Of-10\n",
            "-rw-r--r-- 1 root  40000000 Oct 18 08:17 ds_cv_run1_2018_10_18_09_52_16.ckp-chunk-8-Of-10\n",
            "-rw-r--r-- 1 root  40000000 Oct 18 08:17 ds_cv_run1_2018_10_18_09_52_16.ckp-chunk-9-Of-10\n",
            "-rw-r--r-- 1 root   9827636 Oct 18 04:54 ds_cv_run2_2018_10_17_23_48_20.ckp-chunk-10-Of-10\n",
            "-rw-r--r-- 1 root  40000000 Oct 18 04:54 ds_cv_run2_2018_10_17_23_48_20.ckp-chunk-1-Of-10\n",
            "-rw-r--r-- 1 root  40000000 Oct 18 04:54 ds_cv_run2_2018_10_17_23_48_20.ckp-chunk-2-Of-10\n",
            "-rw-r--r-- 1 root  40000000 Oct 18 04:54 ds_cv_run2_2018_10_17_23_48_20.ckp-chunk-3-Of-10\n",
            "-rw-r--r-- 1 root  40000000 Oct 18 04:54 ds_cv_run2_2018_10_17_23_48_20.ckp-chunk-4-Of-10\n",
            "-rw-r--r-- 1 root  40000000 Oct 18 04:54 ds_cv_run2_2018_10_17_23_48_20.ckp-chunk-5-Of-10\n",
            "-rw-r--r-- 1 root  40000000 Oct 18 04:54 ds_cv_run2_2018_10_17_23_48_20.ckp-chunk-6-Of-10\n",
            "-rw-r--r-- 1 root  40000000 Oct 18 04:54 ds_cv_run2_2018_10_17_23_48_20.ckp-chunk-7-Of-10\n",
            "-rw-r--r-- 1 root  40000000 Oct 18 04:54 ds_cv_run2_2018_10_17_23_48_20.ckp-chunk-8-Of-10\n",
            "-rw-r--r-- 1 root  40000000 Oct 18 04:54 ds_cv_run2_2018_10_17_23_48_20.ckp-chunk-9-Of-10\n",
            "-rw-r--r-- 1 root   9527888 Oct 18 04:54 ds_cv_run3_2018_10_17_23_55_44.ckp-chunk-10-Of-10\n",
            "-rw-r--r-- 1 root  40000000 Oct 18 04:54 ds_cv_run3_2018_10_17_23_55_44.ckp-chunk-1-Of-10\n",
            "-rw-r--r-- 1 root  40000000 Oct 18 04:54 ds_cv_run3_2018_10_17_23_55_44.ckp-chunk-2-Of-10\n",
            "-rw-r--r-- 1 root  40000000 Oct 18 04:54 ds_cv_run3_2018_10_17_23_55_44.ckp-chunk-3-Of-10\n",
            "-rw-r--r-- 1 root  40000000 Oct 18 04:54 ds_cv_run3_2018_10_17_23_55_44.ckp-chunk-4-Of-10\n",
            "-rw-r--r-- 1 root  40000000 Oct 18 04:54 ds_cv_run3_2018_10_17_23_55_44.ckp-chunk-5-Of-10\n",
            "-rw-r--r-- 1 root  40000000 Oct 18 04:54 ds_cv_run3_2018_10_17_23_55_44.ckp-chunk-6-Of-10\n",
            "-rw-r--r-- 1 root  40000000 Oct 18 04:54 ds_cv_run3_2018_10_17_23_55_44.ckp-chunk-7-Of-10\n",
            "-rw-r--r-- 1 root  40000000 Oct 18 04:54 ds_cv_run3_2018_10_17_23_55_44.ckp-chunk-8-Of-10\n",
            "-rw-r--r-- 1 root  40000000 Oct 18 04:54 ds_cv_run3_2018_10_17_23_55_44.ckp-chunk-9-Of-10\n",
            "-rw-r--r-- 1 root   9528168 Oct 18 04:54 ds_cv_run4_2018_10_18_00_35_43.ckp-chunk-10-Of-10\n",
            "-rw-r--r-- 1 root  40000000 Oct 18 04:54 ds_cv_run4_2018_10_18_00_35_43.ckp-chunk-1-Of-10\n",
            "-rw-r--r-- 1 root  40000000 Oct 18 04:54 ds_cv_run4_2018_10_18_00_35_43.ckp-chunk-2-Of-10\n",
            "-rw-r--r-- 1 root  40000000 Oct 18 04:54 ds_cv_run4_2018_10_18_00_35_43.ckp-chunk-3-Of-10\n",
            "-rw-r--r-- 1 root  40000000 Oct 18 04:54 ds_cv_run4_2018_10_18_00_35_43.ckp-chunk-4-Of-10\n",
            "-rw-r--r-- 1 root  40000000 Oct 18 04:54 ds_cv_run4_2018_10_18_00_35_43.ckp-chunk-5-Of-10\n",
            "-rw-r--r-- 1 root  40000000 Oct 18 04:54 ds_cv_run4_2018_10_18_00_35_43.ckp-chunk-6-Of-10\n",
            "-rw-r--r-- 1 root  40000000 Oct 18 04:54 ds_cv_run4_2018_10_18_00_35_43.ckp-chunk-7-Of-10\n",
            "-rw-r--r-- 1 root  40000000 Oct 18 04:54 ds_cv_run4_2018_10_18_00_35_43.ckp-chunk-8-Of-10\n",
            "-rw-r--r-- 1 root  40000000 Oct 18 04:54 ds_cv_run4_2018_10_18_00_35_43.ckp-chunk-9-Of-10\n",
            "-rw-r--r-- 1 root   9490493 Oct 18 04:54 ds_cv_run5_2018_10_18_00_42_04.ckp-chunk-10-Of-10\n",
            "-rw-r--r-- 1 root  40000000 Oct 18 04:54 ds_cv_run5_2018_10_18_00_42_04.ckp-chunk-1-Of-10\n",
            "-rw-r--r-- 1 root  40000000 Oct 18 04:54 ds_cv_run5_2018_10_18_00_42_04.ckp-chunk-2-Of-10\n",
            "-rw-r--r-- 1 root  40000000 Oct 18 04:54 ds_cv_run5_2018_10_18_00_42_04.ckp-chunk-3-Of-10\n",
            "-rw-r--r-- 1 root  40000000 Oct 18 04:54 ds_cv_run5_2018_10_18_00_42_04.ckp-chunk-4-Of-10\n",
            "-rw-r--r-- 1 root  40000000 Oct 18 04:54 ds_cv_run5_2018_10_18_00_42_04.ckp-chunk-5-Of-10\n",
            "-rw-r--r-- 1 root  40000000 Oct 18 04:54 ds_cv_run5_2018_10_18_00_42_04.ckp-chunk-6-Of-10\n",
            "-rw-r--r-- 1 root  40000000 Oct 18 04:54 ds_cv_run5_2018_10_18_00_42_04.ckp-chunk-7-Of-10\n",
            "-rw-r--r-- 1 root  40000000 Oct 18 04:54 ds_cv_run5_2018_10_18_00_42_04.ckp-chunk-8-Of-10\n",
            "-rw-r--r-- 1 root  40000000 Oct 18 04:54 ds_cv_run5_2018_10_18_00_42_04.ckp-chunk-9-Of-10\n",
            "-rw-r--r-- 1 root   9528633 Oct 18 04:54 ds_cv_run6_2018_10_18_00_46_58.ckp-chunk-10-Of-10\n",
            "-rw-r--r-- 1 root  40000000 Oct 18 04:54 ds_cv_run6_2018_10_18_00_46_58.ckp-chunk-1-Of-10\n",
            "-rw-r--r-- 1 root  40000000 Oct 18 04:54 ds_cv_run6_2018_10_18_00_46_58.ckp-chunk-2-Of-10\n",
            "-rw-r--r-- 1 root  40000000 Oct 18 04:54 ds_cv_run6_2018_10_18_00_46_58.ckp-chunk-3-Of-10\n",
            "-rw-r--r-- 1 root  40000000 Oct 18 04:54 ds_cv_run6_2018_10_18_00_46_58.ckp-chunk-4-Of-10\n",
            "-rw-r--r-- 1 root  40000000 Oct 18 04:54 ds_cv_run6_2018_10_18_00_46_58.ckp-chunk-5-Of-10\n",
            "-rw-r--r-- 1 root  40000000 Oct 18 04:54 ds_cv_run6_2018_10_18_00_46_58.ckp-chunk-6-Of-10\n",
            "-rw-r--r-- 1 root  40000000 Oct 18 04:54 ds_cv_run6_2018_10_18_00_46_58.ckp-chunk-7-Of-10\n",
            "-rw-r--r-- 1 root  40000000 Oct 18 04:54 ds_cv_run6_2018_10_18_00_46_58.ckp-chunk-8-Of-10\n",
            "-rw-r--r-- 1 root  40000000 Oct 18 04:54 ds_cv_run6_2018_10_18_00_46_58.ckp-chunk-9-Of-10\n",
            "-rw-r--r-- 1 root   9397687 Oct 18 04:54 ds_cv_run7_2018_10_18_00_52_29.ckp-chunk-10-Of-10\n",
            "-rw-r--r-- 1 root  40000000 Oct 18 04:54 ds_cv_run7_2018_10_18_00_52_29.ckp-chunk-1-Of-10\n",
            "-rw-r--r-- 1 root  40000000 Oct 18 04:55 ds_cv_run7_2018_10_18_00_52_29.ckp-chunk-2-Of-10\n",
            "-rw-r--r-- 1 root  40000000 Oct 18 04:55 ds_cv_run7_2018_10_18_00_52_29.ckp-chunk-3-Of-10\n",
            "-rw-r--r-- 1 root  40000000 Oct 18 04:55 ds_cv_run7_2018_10_18_00_52_29.ckp-chunk-4-Of-10\n",
            "-rw-r--r-- 1 root  40000000 Oct 18 04:55 ds_cv_run7_2018_10_18_00_52_29.ckp-chunk-5-Of-10\n",
            "-rw-r--r-- 1 root  40000000 Oct 18 04:55 ds_cv_run7_2018_10_18_00_52_29.ckp-chunk-6-Of-10\n",
            "-rw-r--r-- 1 root  40000000 Oct 18 04:55 ds_cv_run7_2018_10_18_00_52_29.ckp-chunk-7-Of-10\n",
            "-rw-r--r-- 1 root  40000000 Oct 18 04:55 ds_cv_run7_2018_10_18_00_52_29.ckp-chunk-8-Of-10\n",
            "-rw-r--r-- 1 root  40000000 Oct 18 04:55 ds_cv_run7_2018_10_18_00_52_29.ckp-chunk-9-Of-10\n",
            "-rw-r--r-- 1 root 918090723 Oct 18 08:05 ds_ens_pred_2018_10_18_19_05_53.pickle\n",
            "-rw-r--r-- 1 root   6341155 Oct 18 05:20 salt_model_v37.2_refactor_aug_test2_2018_10_05_09_56_39.ckp-chunk-10-Of-10\n",
            "-rw-r--r-- 1 root  40000000 Oct 18 05:20 salt_model_v37.2_refactor_aug_test2_2018_10_05_09_56_39.ckp-chunk-1-Of-10\n",
            "-rw-r--r-- 1 root  40000000 Oct 18 05:20 salt_model_v37.2_refactor_aug_test2_2018_10_05_09_56_39.ckp-chunk-2-Of-10\n",
            "-rw-r--r-- 1 root  40000000 Oct 18 05:20 salt_model_v37.2_refactor_aug_test2_2018_10_05_09_56_39.ckp-chunk-3-Of-10\n",
            "-rw-r--r-- 1 root  40000000 Oct 18 05:20 salt_model_v37.2_refactor_aug_test2_2018_10_05_09_56_39.ckp-chunk-4-Of-10\n",
            "-rw-r--r-- 1 root  40000000 Oct 18 05:20 salt_model_v37.2_refactor_aug_test2_2018_10_05_09_56_39.ckp-chunk-5-Of-10\n",
            "-rw-r--r-- 1 root  40000000 Oct 18 05:20 salt_model_v37.2_refactor_aug_test2_2018_10_05_09_56_39.ckp-chunk-6-Of-10\n",
            "-rw-r--r-- 1 root  40000000 Oct 18 05:20 salt_model_v37.2_refactor_aug_test2_2018_10_05_09_56_39.ckp-chunk-7-Of-10\n",
            "-rw-r--r-- 1 root  40000000 Oct 18 05:20 salt_model_v37.2_refactor_aug_test2_2018_10_05_09_56_39.ckp-chunk-8-Of-10\n",
            "-rw-r--r-- 1 root  40000000 Oct 18 05:20 salt_model_v37.2_refactor_aug_test2_2018_10_05_09_56_39.ckp-chunk-9-Of-10\n",
            "-rw-r--r-- 1 root   6130122 Oct 18 05:00 salt_model_v37.42_high_lovasz_loss_cv0_2018_10_09_21_41_43.ckp-chunk-10-Of-10\n",
            "-rw-r--r-- 1 root  40000000 Oct 18 05:00 salt_model_v37.42_high_lovasz_loss_cv0_2018_10_09_21_41_43.ckp-chunk-1-Of-10\n",
            "-rw-r--r-- 1 root  40000000 Oct 18 05:00 salt_model_v37.42_high_lovasz_loss_cv0_2018_10_09_21_41_43.ckp-chunk-2-Of-10\n",
            "-rw-r--r-- 1 root  40000000 Oct 18 05:00 salt_model_v37.42_high_lovasz_loss_cv0_2018_10_09_21_41_43.ckp-chunk-3-Of-10\n",
            "-rw-r--r-- 1 root  40000000 Oct 18 05:00 salt_model_v37.42_high_lovasz_loss_cv0_2018_10_09_21_41_43.ckp-chunk-4-Of-10\n",
            "-rw-r--r-- 1 root  40000000 Oct 18 05:00 salt_model_v37.42_high_lovasz_loss_cv0_2018_10_09_21_41_43.ckp-chunk-5-Of-10\n",
            "-rw-r--r-- 1 root  40000000 Oct 18 05:00 salt_model_v37.42_high_lovasz_loss_cv0_2018_10_09_21_41_43.ckp-chunk-6-Of-10\n",
            "-rw-r--r-- 1 root  40000000 Oct 18 05:00 salt_model_v37.42_high_lovasz_loss_cv0_2018_10_09_21_41_43.ckp-chunk-7-Of-10\n",
            "-rw-r--r-- 1 root  40000000 Oct 18 05:00 salt_model_v37.42_high_lovasz_loss_cv0_2018_10_09_21_41_43.ckp-chunk-8-Of-10\n",
            "-rw-r--r-- 1 root  40000000 Oct 18 05:00 salt_model_v37.42_high_lovasz_loss_cv0_2018_10_09_21_41_43.ckp-chunk-9-Of-10\n",
            "-rw-r--r-- 1 root   6118036 Oct 18 05:00 salt_model_v37.42_high_lovasz_loss_cv1_2018_10_09_22_08_30.ckp-chunk-10-Of-10\n",
            "-rw-r--r-- 1 root  40000000 Oct 18 05:00 salt_model_v37.42_high_lovasz_loss_cv1_2018_10_09_22_08_30.ckp-chunk-1-Of-10\n",
            "-rw-r--r-- 1 root  40000000 Oct 18 05:00 salt_model_v37.42_high_lovasz_loss_cv1_2018_10_09_22_08_30.ckp-chunk-2-Of-10\n",
            "-rw-r--r-- 1 root  40000000 Oct 18 05:00 salt_model_v37.42_high_lovasz_loss_cv1_2018_10_09_22_08_30.ckp-chunk-3-Of-10\n",
            "-rw-r--r-- 1 root  40000000 Oct 18 05:00 salt_model_v37.42_high_lovasz_loss_cv1_2018_10_09_22_08_30.ckp-chunk-4-Of-10\n",
            "-rw-r--r-- 1 root  40000000 Oct 18 05:00 salt_model_v37.42_high_lovasz_loss_cv1_2018_10_09_22_08_30.ckp-chunk-5-Of-10\n",
            "-rw-r--r-- 1 root  40000000 Oct 18 05:00 salt_model_v37.42_high_lovasz_loss_cv1_2018_10_09_22_08_30.ckp-chunk-6-Of-10\n",
            "-rw-r--r-- 1 root  40000000 Oct 18 05:00 salt_model_v37.42_high_lovasz_loss_cv1_2018_10_09_22_08_30.ckp-chunk-7-Of-10\n",
            "-rw-r--r-- 1 root  40000000 Oct 18 05:00 salt_model_v37.42_high_lovasz_loss_cv1_2018_10_09_22_08_30.ckp-chunk-8-Of-10\n",
            "-rw-r--r-- 1 root  40000000 Oct 18 05:00 salt_model_v37.42_high_lovasz_loss_cv1_2018_10_09_22_08_30.ckp-chunk-9-Of-10\n",
            "-rw-r--r-- 1 root   6130151 Oct 18 05:00 salt_model_v37.42_high_lovasz_loss_cv2_2018_10_10_07_01_06.ckp-chunk-10-Of-10\n",
            "-rw-r--r-- 1 root  40000000 Oct 18 05:00 salt_model_v37.42_high_lovasz_loss_cv2_2018_10_10_07_01_06.ckp-chunk-1-Of-10\n",
            "-rw-r--r-- 1 root  40000000 Oct 18 05:00 salt_model_v37.42_high_lovasz_loss_cv2_2018_10_10_07_01_06.ckp-chunk-2-Of-10\n",
            "-rw-r--r-- 1 root  40000000 Oct 18 05:00 salt_model_v37.42_high_lovasz_loss_cv2_2018_10_10_07_01_06.ckp-chunk-3-Of-10\n",
            "-rw-r--r-- 1 root  40000000 Oct 18 05:00 salt_model_v37.42_high_lovasz_loss_cv2_2018_10_10_07_01_06.ckp-chunk-4-Of-10\n",
            "-rw-r--r-- 1 root  40000000 Oct 18 05:00 salt_model_v37.42_high_lovasz_loss_cv2_2018_10_10_07_01_06.ckp-chunk-5-Of-10\n",
            "-rw-r--r-- 1 root  40000000 Oct 18 05:00 salt_model_v37.42_high_lovasz_loss_cv2_2018_10_10_07_01_06.ckp-chunk-6-Of-10\n",
            "-rw-r--r-- 1 root  40000000 Oct 18 05:00 salt_model_v37.42_high_lovasz_loss_cv2_2018_10_10_07_01_06.ckp-chunk-7-Of-10\n",
            "-rw-r--r-- 1 root  40000000 Oct 18 05:00 salt_model_v37.42_high_lovasz_loss_cv2_2018_10_10_07_01_06.ckp-chunk-8-Of-10\n",
            "-rw-r--r-- 1 root  40000000 Oct 18 05:00 salt_model_v37.42_high_lovasz_loss_cv2_2018_10_10_07_01_06.ckp-chunk-9-Of-10\n",
            "-rw-r--r-- 1 root   6384896 Oct 18 05:00 salt_model_v37.42_high_lovasz_loss_cv3_2018_10_09_22_26_37.ckp-chunk-10-Of-10\n",
            "-rw-r--r-- 1 root  40000000 Oct 18 05:00 salt_model_v37.42_high_lovasz_loss_cv3_2018_10_09_22_26_37.ckp-chunk-1-Of-10\n",
            "-rw-r--r-- 1 root  40000000 Oct 18 05:00 salt_model_v37.42_high_lovasz_loss_cv3_2018_10_09_22_26_37.ckp-chunk-2-Of-10\n",
            "-rw-r--r-- 1 root  40000000 Oct 18 05:00 salt_model_v37.42_high_lovasz_loss_cv3_2018_10_09_22_26_37.ckp-chunk-3-Of-10\n",
            "-rw-r--r-- 1 root  40000000 Oct 18 05:00 salt_model_v37.42_high_lovasz_loss_cv3_2018_10_09_22_26_37.ckp-chunk-4-Of-10\n",
            "-rw-r--r-- 1 root  40000000 Oct 18 05:00 salt_model_v37.42_high_lovasz_loss_cv3_2018_10_09_22_26_37.ckp-chunk-5-Of-10\n",
            "-rw-r--r-- 1 root  40000000 Oct 18 05:00 salt_model_v37.42_high_lovasz_loss_cv3_2018_10_09_22_26_37.ckp-chunk-6-Of-10\n",
            "-rw-r--r-- 1 root  40000000 Oct 18 05:00 salt_model_v37.42_high_lovasz_loss_cv3_2018_10_09_22_26_37.ckp-chunk-7-Of-10\n",
            "-rw-r--r-- 1 root  40000000 Oct 18 05:00 salt_model_v37.42_high_lovasz_loss_cv3_2018_10_09_22_26_37.ckp-chunk-8-Of-10\n",
            "-rw-r--r-- 1 root  40000000 Oct 18 05:00 salt_model_v37.42_high_lovasz_loss_cv3_2018_10_09_22_26_37.ckp-chunk-9-Of-10\n",
            "-rw-r--r-- 1 root   6128775 Oct 18 05:00 salt_model_v37.42_high_lovasz_loss_cv4_2018_10_10_07_28_55.ckp-chunk-10-Of-10\n",
            "-rw-r--r-- 1 root  40000000 Oct 18 05:00 salt_model_v37.42_high_lovasz_loss_cv4_2018_10_10_07_28_55.ckp-chunk-1-Of-10\n",
            "-rw-r--r-- 1 root  40000000 Oct 18 05:00 salt_model_v37.42_high_lovasz_loss_cv4_2018_10_10_07_28_55.ckp-chunk-2-Of-10\n",
            "-rw-r--r-- 1 root  40000000 Oct 18 05:00 salt_model_v37.42_high_lovasz_loss_cv4_2018_10_10_07_28_55.ckp-chunk-3-Of-10\n",
            "-rw-r--r-- 1 root  40000000 Oct 18 05:00 salt_model_v37.42_high_lovasz_loss_cv4_2018_10_10_07_28_55.ckp-chunk-4-Of-10\n",
            "-rw-r--r-- 1 root  40000000 Oct 18 05:00 salt_model_v37.42_high_lovasz_loss_cv4_2018_10_10_07_28_55.ckp-chunk-5-Of-10\n",
            "-rw-r--r-- 1 root  40000000 Oct 18 05:00 salt_model_v37.42_high_lovasz_loss_cv4_2018_10_10_07_28_55.ckp-chunk-6-Of-10\n",
            "-rw-r--r-- 1 root  40000000 Oct 18 05:00 salt_model_v37.42_high_lovasz_loss_cv4_2018_10_10_07_28_55.ckp-chunk-7-Of-10\n",
            "-rw-r--r-- 1 root  40000000 Oct 18 05:00 salt_model_v37.42_high_lovasz_loss_cv4_2018_10_10_07_28_55.ckp-chunk-8-Of-10\n",
            "-rw-r--r-- 1 root  40000000 Oct 18 05:00 salt_model_v37.42_high_lovasz_loss_cv4_2018_10_10_07_28_55.ckp-chunk-9-Of-10\n",
            "-rw-r--r-- 1 root   6236275 Oct 18 05:20 salt_model_v37.4_high_lovasz_loss_2018_10_05_10_43_22.ckp-chunk-10-Of-10\n",
            "-rw-r--r-- 1 root  40000000 Oct 18 05:20 salt_model_v37.4_high_lovasz_loss_2018_10_05_10_43_22.ckp-chunk-1-Of-10\n",
            "-rw-r--r-- 1 root  40000000 Oct 18 05:20 salt_model_v37.4_high_lovasz_loss_2018_10_05_10_43_22.ckp-chunk-2-Of-10\n",
            "-rw-r--r-- 1 root  40000000 Oct 18 05:20 salt_model_v37.4_high_lovasz_loss_2018_10_05_10_43_22.ckp-chunk-3-Of-10\n",
            "-rw-r--r-- 1 root  40000000 Oct 18 05:20 salt_model_v37.4_high_lovasz_loss_2018_10_05_10_43_22.ckp-chunk-4-Of-10\n",
            "-rw-r--r-- 1 root  40000000 Oct 18 05:20 salt_model_v37.4_high_lovasz_loss_2018_10_05_10_43_22.ckp-chunk-5-Of-10\n",
            "-rw-r--r-- 1 root  40000000 Oct 18 05:20 salt_model_v37.4_high_lovasz_loss_2018_10_05_10_43_22.ckp-chunk-6-Of-10\n",
            "-rw-r--r-- 1 root  40000000 Oct 18 05:20 salt_model_v37.4_high_lovasz_loss_2018_10_05_10_43_22.ckp-chunk-7-Of-10\n",
            "-rw-r--r-- 1 root  40000000 Oct 18 05:20 salt_model_v37.4_high_lovasz_loss_2018_10_05_10_43_22.ckp-chunk-8-Of-10\n",
            "-rw-r--r-- 1 root  40000000 Oct 18 05:20 salt_model_v37.4_high_lovasz_loss_2018_10_05_10_43_22.ckp-chunk-9-Of-10\n",
            "-rw-r--r-- 1 root  40000000 Oct 18 05:21 salt_model_v40_deeplap_unet_combo_run1_2018_10_07_21_52_10.ckp-chunk-10-Of-11\n",
            "-rw-r--r-- 1 root  16062941 Oct 18 05:21 salt_model_v40_deeplap_unet_combo_run1_2018_10_07_21_52_10.ckp-chunk-11-Of-11\n",
            "-rw-r--r-- 1 root  40000000 Oct 18 05:21 salt_model_v40_deeplap_unet_combo_run1_2018_10_07_21_52_10.ckp-chunk-1-Of-11\n",
            "-rw-r--r-- 1 root  40000000 Oct 18 05:21 salt_model_v40_deeplap_unet_combo_run1_2018_10_07_21_52_10.ckp-chunk-2-Of-11\n",
            "-rw-r--r-- 1 root  40000000 Oct 18 05:21 salt_model_v40_deeplap_unet_combo_run1_2018_10_07_21_52_10.ckp-chunk-3-Of-11\n",
            "-rw-r--r-- 1 root  40000000 Oct 18 05:21 salt_model_v40_deeplap_unet_combo_run1_2018_10_07_21_52_10.ckp-chunk-4-Of-11\n",
            "-rw-r--r-- 1 root  40000000 Oct 18 05:21 salt_model_v40_deeplap_unet_combo_run1_2018_10_07_21_52_10.ckp-chunk-5-Of-11\n",
            "-rw-r--r-- 1 root  40000000 Oct 18 05:21 salt_model_v40_deeplap_unet_combo_run1_2018_10_07_21_52_10.ckp-chunk-6-Of-11\n",
            "-rw-r--r-- 1 root  40000000 Oct 18 05:21 salt_model_v40_deeplap_unet_combo_run1_2018_10_07_21_52_10.ckp-chunk-7-Of-11\n",
            "-rw-r--r-- 1 root  40000000 Oct 18 05:21 salt_model_v40_deeplap_unet_combo_run1_2018_10_07_21_52_10.ckp-chunk-8-Of-11\n",
            "-rw-r--r-- 1 root  40000000 Oct 18 05:21 salt_model_v40_deeplap_unet_combo_run1_2018_10_07_21_52_10.ckp-chunk-9-Of-11\n",
            "-rw-r--r-- 1 root  40000000 Oct 18 05:21 salt_model_v40_deeplap_unet_combo_run3_2018_10_08_06_57_19.ckp-chunk-10-Of-11\n",
            "-rw-r--r-- 1 root  16063365 Oct 18 05:21 salt_model_v40_deeplap_unet_combo_run3_2018_10_08_06_57_19.ckp-chunk-11-Of-11\n",
            "-rw-r--r-- 1 root  40000000 Oct 18 05:21 salt_model_v40_deeplap_unet_combo_run3_2018_10_08_06_57_19.ckp-chunk-1-Of-11\n",
            "-rw-r--r-- 1 root  40000000 Oct 18 05:21 salt_model_v40_deeplap_unet_combo_run3_2018_10_08_06_57_19.ckp-chunk-2-Of-11\n",
            "-rw-r--r-- 1 root  40000000 Oct 18 05:21 salt_model_v40_deeplap_unet_combo_run3_2018_10_08_06_57_19.ckp-chunk-3-Of-11\n",
            "-rw-r--r-- 1 root  40000000 Oct 18 05:21 salt_model_v40_deeplap_unet_combo_run3_2018_10_08_06_57_19.ckp-chunk-4-Of-11\n",
            "-rw-r--r-- 1 root  40000000 Oct 18 05:21 salt_model_v40_deeplap_unet_combo_run3_2018_10_08_06_57_19.ckp-chunk-5-Of-11\n",
            "-rw-r--r-- 1 root  40000000 Oct 18 05:21 salt_model_v40_deeplap_unet_combo_run3_2018_10_08_06_57_19.ckp-chunk-6-Of-11\n",
            "-rw-r--r-- 1 root  40000000 Oct 18 05:21 salt_model_v40_deeplap_unet_combo_run3_2018_10_08_06_57_19.ckp-chunk-7-Of-11\n",
            "-rw-r--r-- 1 root  40000000 Oct 18 05:21 salt_model_v40_deeplap_unet_combo_run3_2018_10_08_06_57_19.ckp-chunk-8-Of-11\n",
            "-rw-r--r-- 1 root  40000000 Oct 18 05:21 salt_model_v40_deeplap_unet_combo_run3_2018_10_08_06_57_19.ckp-chunk-9-Of-11\n",
            "-rw-r--r-- 1 root   4188988 Oct 18 07:59 submission_2018_10_18_18_59_42.csv\n",
            "-rw-r--r-- 1 root   4770395 Oct 18 05:22 Unet_res34_bce_lovasz_loss_se_new_aug_finetuen1_2018_09_21_09_41_48.ckp-chunk-10-Of-10\n",
            "-rw-r--r-- 1 root  40000000 Oct 18 05:22 Unet_res34_bce_lovasz_loss_se_new_aug_finetuen1_2018_09_21_09_41_48.ckp-chunk-1-Of-10\n",
            "-rw-r--r-- 1 root  40000000 Oct 18 05:22 Unet_res34_bce_lovasz_loss_se_new_aug_finetuen1_2018_09_21_09_41_48.ckp-chunk-2-Of-10\n",
            "-rw-r--r-- 1 root  40000000 Oct 18 05:22 Unet_res34_bce_lovasz_loss_se_new_aug_finetuen1_2018_09_21_09_41_48.ckp-chunk-3-Of-10\n",
            "-rw-r--r-- 1 root  40000000 Oct 18 05:22 Unet_res34_bce_lovasz_loss_se_new_aug_finetuen1_2018_09_21_09_41_48.ckp-chunk-4-Of-10\n",
            "-rw-r--r-- 1 root  40000000 Oct 18 05:22 Unet_res34_bce_lovasz_loss_se_new_aug_finetuen1_2018_09_21_09_41_48.ckp-chunk-5-Of-10\n",
            "-rw-r--r-- 1 root  40000000 Oct 18 05:22 Unet_res34_bce_lovasz_loss_se_new_aug_finetuen1_2018_09_21_09_41_48.ckp-chunk-6-Of-10\n",
            "-rw-r--r-- 1 root  40000000 Oct 18 05:22 Unet_res34_bce_lovasz_loss_se_new_aug_finetuen1_2018_09_21_09_41_48.ckp-chunk-7-Of-10\n",
            "-rw-r--r-- 1 root  40000000 Oct 18 05:22 Unet_res34_bce_lovasz_loss_se_new_aug_finetuen1_2018_09_21_09_41_48.ckp-chunk-8-Of-10\n",
            "-rw-r--r-- 1 root  40000000 Oct 18 05:22 Unet_res34_bce_lovasz_loss_se_new_aug_finetuen1_2018_09_21_09_41_48.ckp-chunk-9-Of-10\n"
          ],
          "name": "stdout"
        }
      ]
    },
    {
      "metadata": {
        "id": "-ji5pmlnPi5H",
        "colab_type": "code",
        "colab": {}
      },
      "cell_type": "code",
      "source": [
        "cp ds_cv_run1_2018_10_18_09_52_16* ../salt_net_ens"
      ],
      "execution_count": 0,
      "outputs": []
    },
    {
      "metadata": {
        "id": "mTUnaFv9PgKU",
        "colab_type": "code",
        "colab": {}
      },
      "cell_type": "code",
      "source": [
        ""
      ],
      "execution_count": 0,
      "outputs": []
    },
    {
      "metadata": {
        "id": "KxzZ4dv0OKQ1",
        "colab_type": "code",
        "colab": {}
      },
      "cell_type": "code",
      "source": [
        "ckp_prefix_list = [\n",
        "    'ds_cv_run0_2018_10_17_23_29_35.ckp',\n",
        "    'ds_cv_run1_2018_10_18_09_52_16.ckp',\n",
        "    'ds_cv_run2_2018_10_17_23_48_20.ckp',\n",
        "    'ds_cv_run3_2018_10_17_23_55_44.ckp',\n",
        "    'ds_cv_run4_2018_10_18_00_35_43.ckp',\n",
        "    'ds_cv_run5_2018_10_18_00_42_04.ckp',\n",
        "    'ds_cv_run6_2018_10_18_00_46_58.ckp',\n",
        "    'ds_cv_run7_2018_10_18_00_52_29.ckp'\n",
        "    \n",
        "]"
      ],
      "execution_count": 0,
      "outputs": []
    },
    {
      "metadata": {
        "id": "qOJ8t58NvC5u",
        "colab_type": "code",
        "colab": {}
      },
      "cell_type": "code",
      "source": [
        "from models.deeplabv3_unet import *"
      ],
      "execution_count": 0,
      "outputs": []
    },
    {
      "metadata": {
        "id": "B6fz0AukI0_Y",
        "colab_type": "code",
        "outputId": "1a175655-5919-47ff-f27d-efc9fead7bf8",
        "colab": {
          "base_uri": "https://localhost:8080/",
          "height": 35
        }
      },
      "cell_type": "code",
      "source": [
        "unet_model = resnet_deep_sup_v11.UResNet(pretrained=True)\n",
        "#dl3_model = DeepLabV3(resnet_layer=34, pretrained=False)"
      ],
      "execution_count": 15,
      "outputs": [
        {
          "output_type": "stream",
          "text": [
            "ResNet using pretrained weights.\n"
          ],
          "name": "stdout"
        }
      ]
    },
    {
      "metadata": {
        "id": "wjltIop6J8Ty",
        "colab_type": "code",
        "colab": {}
      },
      "cell_type": "code",
      "source": [
        "#model_list = [unet_model]*8 + [dl3_model]*2\n",
        "model_list = [unet_model]*8"
      ],
      "execution_count": 0,
      "outputs": []
    },
    {
      "metadata": {
        "id": "BC8l6FopKO56",
        "colab_type": "code",
        "colab": {}
      },
      "cell_type": "code",
      "source": [
        "ckp_dict = dict(zip(ckp_prefix_list, model_list))"
      ],
      "execution_count": 0,
      "outputs": []
    },
    {
      "metadata": {
        "id": "vN_389OQKXQD",
        "colab_type": "code",
        "outputId": "0c65d997-6e2b-4f88-f168-d5089dde963e",
        "colab": {
          "base_uri": "https://localhost:8080/",
          "height": 55
        }
      },
      "cell_type": "code",
      "source": [
        "ckp_dict.keys()"
      ],
      "execution_count": 18,
      "outputs": [
        {
          "output_type": "execute_result",
          "data": {
            "text/plain": [
              "dict_keys(['ds_cv_run0_2018_10_17_23_29_35.ckp', 'ds_cv_run1_2018_10_18_09_52_16.ckp', 'ds_cv_run2_2018_10_17_23_48_20.ckp', 'ds_cv_run3_2018_10_17_23_55_44.ckp', 'ds_cv_run4_2018_10_18_00_35_43.ckp', 'ds_cv_run5_2018_10_18_00_42_04.ckp', 'ds_cv_run6_2018_10_18_00_46_58.ckp', 'ds_cv_run7_2018_10_18_00_52_29.ckp'])"
            ]
          },
          "metadata": {
            "tags": []
          },
          "execution_count": 18
        }
      ]
    },
    {
      "metadata": {
        "id": "MHN0Lw52Oczl",
        "colab_type": "code",
        "outputId": "961b01fa-3092-48d0-f12a-bff04e6a31de",
        "colab": {
          "base_uri": "https://localhost:8080/",
          "height": 159
        }
      },
      "cell_type": "code",
      "source": [
        "for k, v in ckp_dict.items():\n",
        "  print(type(v))"
      ],
      "execution_count": 89,
      "outputs": [
        {
          "output_type": "stream",
          "text": [
            "<class 'pytorch_unet.unet.resnet_deep_sup_v11.UResNet'>\n",
            "<class 'pytorch_unet.unet.resnet_deep_sup_v11.UResNet'>\n",
            "<class 'pytorch_unet.unet.resnet_deep_sup_v11.UResNet'>\n",
            "<class 'pytorch_unet.unet.resnet_deep_sup_v11.UResNet'>\n",
            "<class 'pytorch_unet.unet.resnet_deep_sup_v11.UResNet'>\n",
            "<class 'pytorch_unet.unet.resnet_deep_sup_v11.UResNet'>\n",
            "<class 'pytorch_unet.unet.resnet_deep_sup_v11.UResNet'>\n",
            "<class 'pytorch_unet.unet.resnet_deep_sup_v11.UResNet'>\n"
          ],
          "name": "stdout"
        }
      ]
    },
    {
      "metadata": {
        "id": "3n3azWpAIN_J",
        "colab_type": "code",
        "colab": {}
      },
      "cell_type": "code",
      "source": [
        ""
      ],
      "execution_count": 0,
      "outputs": []
    },
    {
      "metadata": {
        "id": "-broz5ujJJCI",
        "colab_type": "code",
        "outputId": "799ef03c-03ba-4622-acdd-79ef8a2a3d46",
        "colab": {
          "base_uri": "https://localhost:8080/",
          "height": 34
        }
      },
      "cell_type": "code",
      "source": [
        "cd ../salt_net"
      ],
      "execution_count": 0,
      "outputs": [
        {
          "output_type": "stream",
          "text": [
            "/content/salt_net\n"
          ],
          "name": "stdout"
        }
      ]
    },
    {
      "metadata": {
        "id": "0F_ohZ9HIPV2",
        "colab_type": "code",
        "outputId": "ca9c39a6-e35a-48b0-d476-56b17eb6ddea",
        "colab": {
          "base_uri": "https://localhost:8080/",
          "height": 34
        }
      },
      "cell_type": "code",
      "source": [
        "loaded_model = DeepLabV3(resnet_layer=34, pretrained=True)\n",
        "model_state_dict = torch.load(join_files(ckp_prefix_list[9], '.', returnFileObject=True, removeChunks=False))\n",
        "loaded_model.load_state_dict(model_state_dict['model'])"
      ],
      "execution_count": 0,
      "outputs": [
        {
          "output_type": "stream",
          "text": [
            "pretrained resnet, 34\n"
          ],
          "name": "stdout"
        }
      ]
    },
    {
      "metadata": {
        "id": "D_mE0gJtgWKD",
        "colab_type": "code",
        "colab": {}
      },
      "cell_type": "code",
      "source": [
        "def model_ensembler(ckp_dict, X, y, depth, X_train_mean_img, batch_size):\n",
        "  y_pred_score_ens = torch.zeros_like(torch.from_numpy(X.squeeze())).float().type(dtype)\n",
        "  y_pred_mask_ens = torch.zeros_like(torch.from_numpy(X.squeeze())).type(dtype).gt(0)\n",
        "  \n",
        "  for ckp, loaded_model in ckp_dict.items():\n",
        "    log.info(f'load checkpoint {ckp}...')\n",
        "    model_state_dict = torch.load(join_files(ckp, '.', returnFileObject=True, removeChunks=False))\n",
        "    loaded_model.load_state_dict(model_state_dict['model'])\n",
        "    loaded_model.eval()\n",
        "    assert loaded_model.training == False\n",
        "    if torch.cuda.is_available():\n",
        "        loaded_model.cuda()\n",
        "    # predict on X\n",
        "    dataLoader = DataLoader(SaltDataset(X, y, depth, X_train_mean_img, out_size=128), batch_size=batch_size)\n",
        "\n",
        "    y_pred = []\n",
        "    with torch.no_grad():\n",
        "        for X_batch, y_batch, depth_batch, X_id_batch in dataLoader:\n",
        "            y_pred.append(loaded_model(X_batch)[0])\n",
        "    y_pred = torch.cat(y_pred)\n",
        "\n",
        "    # predict on X flip\n",
        "    p = Pipeline_Salt()\n",
        "    p.flip_left_right(probability=1)\n",
        "    dataLoader_flip = DataLoader(SaltDataset(X, y, depth, X_train_mean_img, out_size=128, out_ch=1,\n",
        "                                             transform=p.torch_transform()), batch_size=batch_size)\n",
        "    y_pred_flip = []\n",
        "    with torch.no_grad():\n",
        "        for X_batch, y_batch, depth_batch, X_id_batch in dataLoader_flip:\n",
        "            y_pred_flip.append(loaded_model(X_batch)[0])\n",
        "    y_pred_flip = torch.cat(y_pred_flip)\n",
        "    y_pred_flip = torch.flip(y_pred_flip,[2])\n",
        "\n",
        "    # combine y_pred and y_pred_flip\n",
        "    y_pred_tta = torch.where(y_pred.abs() > y_pred_flip.abs(), y_pred, y_pred_flip)\n",
        "    \n",
        "    y_pred_score_ens += (y_pred + y_pred_flip + y_pred_tta)\n",
        "    y_pred_mask_ens += (y_pred.gt(0) + y_pred_flip.gt(0) + y_pred_tta.gt(0))\n",
        "\n",
        "  return (y_pred_score_ens, y_pred_mask_ens)"
      ],
      "execution_count": 0,
      "outputs": []
    },
    {
      "metadata": {
        "id": "rER1mHiplpzO",
        "colab_type": "code",
        "outputId": "ca35ccf6-a5f6-4b08-9292-993f61f3c49e",
        "colab": {
          "base_uri": "https://localhost:8080/",
          "height": 34
        }
      },
      "cell_type": "code",
      "source": [
        "#loaded_model = UResNet(pretrained=False)"
      ],
      "execution_count": 0,
      "outputs": [
        {
          "output_type": "stream",
          "text": [
            "ResNetnot using pretrained weights.\n"
          ],
          "name": "stdout"
        }
      ]
    },
    {
      "metadata": {
        "id": "S8DAaAanluZx",
        "colab_type": "code",
        "colab": {}
      },
      "cell_type": "code",
      "source": [
        "batch_size = 32"
      ],
      "execution_count": 0,
      "outputs": []
    },
    {
      "metadata": {
        "id": "FlrpA06NORFF",
        "colab_type": "code",
        "colab": {}
      },
      "cell_type": "code",
      "source": [
        "ckp_dict = dict(zip(ckp_prefix_list, model_list))"
      ],
      "execution_count": 0,
      "outputs": []
    },
    {
      "metadata": {
        "id": "4wiysbRsOVaZ",
        "colab_type": "code",
        "outputId": "e4b7a154-3de5-4031-b0e7-e01a4b1bf983",
        "colab": {
          "base_uri": "https://localhost:8080/",
          "height": 35
        }
      },
      "cell_type": "code",
      "source": [
        "len(ckp_dict.keys())"
      ],
      "execution_count": 22,
      "outputs": [
        {
          "output_type": "execute_result",
          "data": {
            "text/plain": [
              "8"
            ]
          },
          "metadata": {
            "tags": []
          },
          "execution_count": 22
        }
      ]
    },
    {
      "metadata": {
        "id": "qeyN0F6nxZfM",
        "colab_type": "code",
        "colab": {
          "base_uri": "https://localhost:8080/",
          "height": 35
        },
        "outputId": "aea06924-07d2-4213-f91d-9dec5b5f3e33"
      },
      "cell_type": "code",
      "source": [
        "cd ../salt_net_ens"
      ],
      "execution_count": 24,
      "outputs": [
        {
          "output_type": "stream",
          "text": [
            "/content/salt_net_ens\n"
          ],
          "name": "stdout"
        }
      ]
    },
    {
      "metadata": {
        "id": "mv_WFAeLk57m",
        "colab_type": "code",
        "outputId": "8f5c7f85-04c1-47e6-afd1-cf1cea2e1255",
        "colab": {
          "base_uri": "https://localhost:8080/",
          "height": 88
        }
      },
      "cell_type": "code",
      "source": [
        "y_score_ens, y_mask_ens = model_ensembler(ckp_dict, X_val, y_val, depth_val, X_train_mean_img, batch_size)"
      ],
      "execution_count": 0,
      "outputs": [
        {
          "output_type": "stream",
          "text": [
            "18/10/2018 08:17:56 - deep_supervision_cv_ens - INFO - load checkpoint ds_cv_run0_2018_10_17_23_29_35.ckp...\n",
            "/usr/local/lib/python3.6/dist-packages/torch/nn/functional.py:1890: UserWarning: nn.functional.upsample is deprecated. Use nn.functional.interpolate instead.\n",
            "  warnings.warn(\"nn.functional.upsample is deprecated. Use nn.functional.interpolate instead.\")\n",
            "18/10/2018 08:18:32 - deep_supervision_cv_ens - INFO - load checkpoint ds_cv_run1_2018_10_18_09_52_16.ckp...\n"
          ],
          "name": "stderr"
        }
      ]
    },
    {
      "metadata": {
        "id": "raml0xjMyi7b",
        "colab_type": "code",
        "colab": {
          "base_uri": "https://localhost:8080/",
          "height": 35
        },
        "outputId": "6ebfe15b-7d78-4981-90d1-9f8971a7930a"
      },
      "cell_type": "code",
      "source": [
        "y_pred_adj = adjust_predictions(0, X_val, y_score_ens.gt(0), y_val.squeeze())"
      ],
      "execution_count": 28,
      "outputs": [
        {
          "output_type": "stream",
          "text": [
            "18/10/2018 06:10:38 - deep_supervision_cv_ens - INFO - IOU score before: 0.8853749999999999, IOU Score after:0.8853749999999999\n"
          ],
          "name": "stderr"
        }
      ]
    },
    {
      "metadata": {
        "id": "j8qogvMbLMtB",
        "colab_type": "code",
        "colab": {
          "base_uri": "https://localhost:8080/",
          "height": 35
        },
        "outputId": "290a7f12-d713-4b1e-d979-a7c845d109f1"
      },
      "cell_type": "code",
      "source": [
        "y_pred_adj = adjust_predictions(0, X_val, y_mask_ens.ge(12), y_val.squeeze())"
      ],
      "execution_count": 40,
      "outputs": [
        {
          "output_type": "stream",
          "text": [
            "18/10/2018 07:57:07 - deep_supervision_cv_ens - INFO - IOU score before: 0.88375, IOU Score after:0.88375\n"
          ],
          "name": "stderr"
        }
      ]
    },
    {
      "metadata": {
        "id": "CCYJdZouLJbA",
        "colab_type": "code",
        "outputId": "dc3bd40c-fa74-4647-e5ba-8bbf54c11aa6",
        "colab": {
          "base_uri": "https://localhost:8080/",
          "height": 34
        }
      },
      "cell_type": "code",
      "source": [
        "y_pred_adj = adjust_predictions(0, X_val, y_score_ens.gt(0), y_val.squeeze())"
      ],
      "execution_count": 0,
      "outputs": [
        {
          "output_type": "stream",
          "text": [
            "11/10/2018 03:57:54 - salt_model_v37.42_high_lovasz_loss_cv_ens - INFO - IOU score before: 0.8711249999999999, IOU Score after:0.8711249999999999\n"
          ],
          "name": "stderr"
        }
      ]
    },
    {
      "metadata": {
        "id": "Ylcf9KgLLJhu",
        "colab_type": "code",
        "outputId": "c39eb340-4709-4581-e96c-2a624feea8d6",
        "colab": {
          "base_uri": "https://localhost:8080/",
          "height": 34
        }
      },
      "cell_type": "code",
      "source": [
        "y_pred_adj = adjust_predictions(0, X_val, y_mask_ens.ge(10), y_val.squeeze())"
      ],
      "execution_count": 0,
      "outputs": [
        {
          "output_type": "stream",
          "text": [
            "11/10/2018 03:58:53 - salt_model_v37.42_high_lovasz_loss_cv_ens - INFO - IOU score before: 0.890125, IOU Score after:0.890125\n"
          ],
          "name": "stderr"
        }
      ]
    },
    {
      "metadata": {
        "id": "R0j9kAEMLJmn",
        "colab_type": "code",
        "colab": {}
      },
      "cell_type": "code",
      "source": [
        "for i in range(5,25):\n",
        "  print(i)\n",
        "  y_pred_adj = adjust_predictions(0, X_val, y_mask_ens.ge(i), y_val.squeeze())"
      ],
      "execution_count": 0,
      "outputs": []
    },
    {
      "metadata": {
        "id": "t19xpWQRLJsX",
        "colab_type": "code",
        "colab": {}
      },
      "cell_type": "code",
      "source": [
        ""
      ],
      "execution_count": 0,
      "outputs": []
    },
    {
      "metadata": {
        "id": "HFpK2Mjwk5_8",
        "colab_type": "code",
        "outputId": "b3d87b98-831f-443f-9c45-3150f6c4f016",
        "colab": {
          "base_uri": "https://localhost:8080/",
          "height": 34
        }
      },
      "cell_type": "code",
      "source": [
        "y_mask_ens.max()"
      ],
      "execution_count": 0,
      "outputs": [
        {
          "output_type": "execute_result",
          "data": {
            "text/plain": [
              "tensor(30, device='cuda:0', dtype=torch.uint8)"
            ]
          },
          "metadata": {
            "tags": []
          },
          "execution_count": 168
        }
      ]
    },
    {
      "metadata": {
        "id": "2HHwC3jXoD2b",
        "colab_type": "code",
        "outputId": "d4a58cdf-48ab-4522-c857-bfd542f4e726",
        "colab": {
          "base_uri": "https://localhost:8080/",
          "height": 34
        }
      },
      "cell_type": "code",
      "source": [
        "y_pred_adj = adjust_predictions(0, X_val, y_score_ens.gt(0), y_val.squeeze())"
      ],
      "execution_count": 0,
      "outputs": [
        {
          "output_type": "stream",
          "text": [
            "11/10/2018 00:56:51 - salt_model_v37.42_high_lovasz_loss_cv_ens - INFO - IOU score before: 0.8919999999999999, IOU Score after:0.8919999999999999\n"
          ],
          "name": "stderr"
        }
      ]
    },
    {
      "metadata": {
        "id": "CoYiNudUoD6D",
        "colab_type": "code",
        "outputId": "ceb1e33a-f63d-4803-e1d7-d5bd894891d0",
        "colab": {
          "base_uri": "https://localhost:8080/",
          "height": 34
        }
      },
      "cell_type": "code",
      "source": [
        "y_pred_adj = adjust_predictions(0, X_val, y_mask_ens.ge(9), y_val.squeeze())"
      ],
      "execution_count": 0,
      "outputs": [
        {
          "output_type": "stream",
          "text": [
            "11/10/2018 00:57:43 - salt_model_v37.42_high_lovasz_loss_cv_ens - INFO - IOU score before: 0.89575, IOU Score after:0.89575\n"
          ],
          "name": "stderr"
        }
      ]
    },
    {
      "metadata": {
        "id": "taMp3NgCmdF0",
        "colab_type": "code",
        "outputId": "5cd48c86-f971-493c-da8c-d8ff0973b4bf",
        "colab": {
          "base_uri": "https://localhost:8080/",
          "height": 34
        }
      },
      "cell_type": "code",
      "source": [
        "y_pred_adj = adjust_predictions(0, X_val, y_score_ens.gt(0), y_val.squeeze())"
      ],
      "execution_count": 0,
      "outputs": [
        {
          "output_type": "stream",
          "text": [
            "11/10/2018 00:49:56 - salt_model_v37.42_high_lovasz_loss_cv_ens - INFO - IOU score before: 0.8830000000000001, IOU Score after:0.8830000000000001\n"
          ],
          "name": "stderr"
        }
      ]
    },
    {
      "metadata": {
        "id": "8mYstvQ3mdJ0",
        "colab_type": "code",
        "outputId": "f704ace2-b96d-4913-ffeb-1cea861756ca",
        "colab": {
          "base_uri": "https://localhost:8080/",
          "height": 34
        }
      },
      "cell_type": "code",
      "source": [
        "y_pred_adj = adjust_predictions(0, X_val, y_mask_ens.ge(3), y_val.squeeze())"
      ],
      "execution_count": 0,
      "outputs": [
        {
          "output_type": "stream",
          "text": [
            "11/10/2018 00:52:47 - salt_model_v37.42_high_lovasz_loss_cv_ens - INFO - IOU score before: 0.88425, IOU Score after:0.88425\n"
          ],
          "name": "stderr"
        }
      ]
    },
    {
      "metadata": {
        "id": "yFHPL8Vboxdp",
        "colab_type": "code",
        "colab": {}
      },
      "cell_type": "code",
      "source": [
        ""
      ],
      "execution_count": 0,
      "outputs": []
    },
    {
      "metadata": {
        "id": "Nnhv20ixoxjO",
        "colab_type": "code",
        "colab": {
          "base_uri": "https://localhost:8080/",
          "height": 35
        },
        "outputId": "66701853-8609-4bc5-cda7-7a7b27228d49"
      },
      "cell_type": "code",
      "source": [
        "cd ../salt_net_ens"
      ],
      "execution_count": 94,
      "outputs": [
        {
          "output_type": "stream",
          "text": [
            "/content/salt_net_ens\n"
          ],
          "name": "stdout"
        }
      ]
    },
    {
      "metadata": {
        "id": "4Vz2JUpOmdOF",
        "colab_type": "code",
        "colab": {}
      },
      "cell_type": "code",
      "source": [
        "#test_dataLoader = DataLoader(SaltDataset(X_test, np.zeros_like(X_test), depth_test, X_train_mean_img, out_size=128), batch_size=32)"
      ],
      "execution_count": 0,
      "outputs": []
    },
    {
      "metadata": {
        "id": "GIMZjxdzR_U0",
        "colab_type": "code",
        "colab": {
          "base_uri": "https://localhost:8080/",
          "height": 195
        },
        "outputId": "37252503-7a32-49f6-c6ba-d6df1c832ca2"
      },
      "cell_type": "code",
      "source": [
        "y_test_score_ens, y_test_mask_ens = model_ensembler(ckp_dict, X_test, np.zeros_like(X_test), depth_test, X_train_mean_img, batch_size)"
      ],
      "execution_count": 30,
      "outputs": [
        {
          "output_type": "stream",
          "text": [
            "18/10/2018 06:11:42 - deep_supervision_cv_ens - INFO - load checkpoint ds_cv_run0_2018_10_17_23_29_35.ckp...\n",
            "/usr/local/lib/python3.6/dist-packages/torch/nn/functional.py:1890: UserWarning: nn.functional.upsample is deprecated. Use nn.functional.interpolate instead.\n",
            "  warnings.warn(\"nn.functional.upsample is deprecated. Use nn.functional.interpolate instead.\")\n",
            "18/10/2018 06:23:51 - deep_supervision_cv_ens - INFO - load checkpoint ds_cv_run1_2018_10_18_09_52_16.ckp...\n",
            "18/10/2018 06:35:58 - deep_supervision_cv_ens - INFO - load checkpoint ds_cv_run2_2018_10_17_23_48_20.ckp...\n",
            "18/10/2018 06:48:08 - deep_supervision_cv_ens - INFO - load checkpoint ds_cv_run3_2018_10_17_23_55_44.ckp...\n",
            "18/10/2018 07:00:15 - deep_supervision_cv_ens - INFO - load checkpoint ds_cv_run4_2018_10_18_00_35_43.ckp...\n",
            "18/10/2018 07:12:24 - deep_supervision_cv_ens - INFO - load checkpoint ds_cv_run5_2018_10_18_00_42_04.ckp...\n",
            "18/10/2018 07:24:31 - deep_supervision_cv_ens - INFO - load checkpoint ds_cv_run6_2018_10_18_00_46_58.ckp...\n",
            "18/10/2018 07:36:40 - deep_supervision_cv_ens - INFO - load checkpoint ds_cv_run7_2018_10_18_00_52_29.ckp...\n"
          ],
          "name": "stderr"
        }
      ]
    },
    {
      "metadata": {
        "id": "eI-em8Hcvx3S",
        "colab_type": "code",
        "colab": {
          "base_uri": "https://localhost:8080/",
          "height": 35
        },
        "outputId": "9c137728-ab5b-4c3e-aca7-f51d4cca54f8"
      },
      "cell_type": "code",
      "source": [
        "batch_size"
      ],
      "execution_count": 29,
      "outputs": [
        {
          "output_type": "execute_result",
          "data": {
            "text/plain": [
              "32"
            ]
          },
          "metadata": {
            "tags": []
          },
          "execution_count": 29
        }
      ]
    },
    {
      "metadata": {
        "id": "4a-oBVVzSOGV",
        "colab_type": "code",
        "colab": {}
      },
      "cell_type": "code",
      "source": [
        "y_test_score_ens"
      ],
      "execution_count": 0,
      "outputs": []
    },
    {
      "metadata": {
        "id": "jZUr2LC1pAXZ",
        "colab_type": "code",
        "outputId": "b017d051-3288-43aa-b4d1-70293c5f0856",
        "colab": {
          "base_uri": "https://localhost:8080/",
          "height": 35
        }
      },
      "cell_type": "code",
      "source": [
        "y_test_mask_ens.max()"
      ],
      "execution_count": 31,
      "outputs": [
        {
          "output_type": "execute_result",
          "data": {
            "text/plain": [
              "tensor(24, device='cuda:0', dtype=torch.uint8)"
            ]
          },
          "metadata": {
            "tags": []
          },
          "execution_count": 31
        }
      ]
    },
    {
      "metadata": {
        "id": "s25S4heNpAda",
        "colab_type": "code",
        "colab": {}
      },
      "cell_type": "code",
      "source": [
        "y_test_mask_ens.ge(7)"
      ],
      "execution_count": 0,
      "outputs": []
    },
    {
      "metadata": {
        "id": "y3ac6xPeDAIq",
        "colab_type": "code",
        "colab": {}
      },
      "cell_type": "code",
      "source": [
        "ds_ens_pred = {'y_test_score_ens_ds': y_test_score_ens,\n",
        "             'y_test_mask_ens_ds': y_test_mask_ens}"
      ],
      "execution_count": 0,
      "outputs": []
    },
    {
      "metadata": {
        "id": "fktMufC1DAQ_",
        "colab_type": "code",
        "colab": {}
      },
      "cell_type": "code",
      "source": [
        "import pickle\n",
        "\n",
        "with open(f'ds_ens_pred_{get_current_time_as_fname()}.pickle', 'wb') as handle:\n",
        "    pickle.dump(ds_ens_pred, handle, protocol=pickle.HIGHEST_PROTOCOL)\n"
      ],
      "execution_count": 0,
      "outputs": []
    },
    {
      "metadata": {
        "id": "YF9jegkRDAbT",
        "colab_type": "code",
        "colab": {}
      },
      "cell_type": "code",
      "source": [
        "files.download('ds_ens_pred_2018_10_18_19_05_53.pickle') "
      ],
      "execution_count": 0,
      "outputs": []
    },
    {
      "metadata": {
        "id": "FsQTppgbOF8J",
        "colab_type": "code",
        "colab": {}
      },
      "cell_type": "code",
      "source": [
        "mkdir ../salt_net_pickle"
      ],
      "execution_count": 0,
      "outputs": []
    },
    {
      "metadata": {
        "id": "S32pbPqnDAlj",
        "colab_type": "code",
        "colab": {
          "base_uri": "https://localhost:8080/",
          "height": 390
        },
        "outputId": "fdad6798-bb07-40ef-b6a1-f61a66e2a243"
      },
      "cell_type": "code",
      "source": [
        "split_file_save('ds_ens_pred_2018_10_18_19_05_53.pickle', 'ds_ens_pred_2018_10_18_19_05_53', '../salt_net_pickle', chunkSize=45000000)"
      ],
      "execution_count": 60,
      "outputs": [
        {
          "output_type": "execute_result",
          "data": {
            "text/plain": [
              "['ds_ens_pred_2018_10_18_19_05_53-chunk-1-Of-21',\n",
              " 'ds_ens_pred_2018_10_18_19_05_53-chunk-2-Of-21',\n",
              " 'ds_ens_pred_2018_10_18_19_05_53-chunk-3-Of-21',\n",
              " 'ds_ens_pred_2018_10_18_19_05_53-chunk-4-Of-21',\n",
              " 'ds_ens_pred_2018_10_18_19_05_53-chunk-5-Of-21',\n",
              " 'ds_ens_pred_2018_10_18_19_05_53-chunk-6-Of-21',\n",
              " 'ds_ens_pred_2018_10_18_19_05_53-chunk-7-Of-21',\n",
              " 'ds_ens_pred_2018_10_18_19_05_53-chunk-8-Of-21',\n",
              " 'ds_ens_pred_2018_10_18_19_05_53-chunk-9-Of-21',\n",
              " 'ds_ens_pred_2018_10_18_19_05_53-chunk-10-Of-21',\n",
              " 'ds_ens_pred_2018_10_18_19_05_53-chunk-11-Of-21',\n",
              " 'ds_ens_pred_2018_10_18_19_05_53-chunk-12-Of-21',\n",
              " 'ds_ens_pred_2018_10_18_19_05_53-chunk-13-Of-21',\n",
              " 'ds_ens_pred_2018_10_18_19_05_53-chunk-14-Of-21',\n",
              " 'ds_ens_pred_2018_10_18_19_05_53-chunk-15-Of-21',\n",
              " 'ds_ens_pred_2018_10_18_19_05_53-chunk-16-Of-21',\n",
              " 'ds_ens_pred_2018_10_18_19_05_53-chunk-17-Of-21',\n",
              " 'ds_ens_pred_2018_10_18_19_05_53-chunk-18-Of-21',\n",
              " 'ds_ens_pred_2018_10_18_19_05_53-chunk-19-Of-21',\n",
              " 'ds_ens_pred_2018_10_18_19_05_53-chunk-20-Of-21',\n",
              " 'ds_ens_pred_2018_10_18_19_05_53-chunk-21-Of-21']"
            ]
          },
          "metadata": {
            "tags": []
          },
          "execution_count": 60
        }
      ]
    },
    {
      "metadata": {
        "colab_type": "text",
        "id": "W_AFwgeWz5Rj"
      },
      "cell_type": "markdown",
      "source": [
        "## Make predictions on test set using TTA"
      ]
    },
    {
      "metadata": {
        "colab_type": "text",
        "id": "rSY86u-qz5Ru"
      },
      "cell_type": "markdown",
      "source": [
        "### Predict using original image"
      ]
    },
    {
      "metadata": {
        "colab_type": "text",
        "id": "noFXzntJz5SD"
      },
      "cell_type": "markdown",
      "source": [
        "### Adjust predictions"
      ]
    },
    {
      "metadata": {
        "colab_type": "code",
        "id": "GJ5VEAQFz5SE",
        "colab": {}
      },
      "cell_type": "code",
      "source": [
        "MASK_CUTOFF = 0\n",
        "ZERO_MASK_CUTOFF = 0"
      ],
      "execution_count": 0,
      "outputs": []
    },
    {
      "metadata": {
        "colab_type": "code",
        "outputId": "bbf9dc74-41be-42f2-884b-c8f395f18d59",
        "id": "-zEmkXXWz5SI",
        "colab": {
          "base_uri": "https://localhost:8080/",
          "height": 35
        }
      },
      "cell_type": "code",
      "source": [
        "log.info(f'MASK_CUTOFF:{MASK_CUTOFF}, ZERO_MASK_CUTOFF:{ZERO_MASK_CUTOFF}')"
      ],
      "execution_count": 34,
      "outputs": [
        {
          "output_type": "stream",
          "text": [
            "18/10/2018 07:55:20 - deep_supervision_cv_ens - INFO - MASK_CUTOFF:0, ZERO_MASK_CUTOFF:0\n"
          ],
          "name": "stderr"
        }
      ]
    },
    {
      "metadata": {
        "colab_type": "code",
        "id": "LKk7S1kPz5SL",
        "colab": {}
      },
      "cell_type": "code",
      "source": [
        "y_test_pred_adj = adjust_predictions(ZERO_MASK_CUTOFF, X_test, y_test_score_ens.gt(MASK_CUTOFF))\n"
      ],
      "execution_count": 0,
      "outputs": []
    },
    {
      "metadata": {
        "id": "3ewOuoK22frK",
        "colab_type": "code",
        "colab": {}
      },
      "cell_type": "code",
      "source": [
        "y_test_pred_adj = adjust_predictions(ZERO_MASK_CUTOFF, X_test, y_test_mask_ens.ge(11))"
      ],
      "execution_count": 0,
      "outputs": []
    },
    {
      "metadata": {
        "colab_type": "text",
        "id": "V470Y8FG0MYN"
      },
      "cell_type": "markdown",
      "source": [
        "### Prepare for submission"
      ]
    },
    {
      "metadata": {
        "colab_type": "code",
        "id": "JK25zRNi0MYP",
        "colab": {}
      },
      "cell_type": "code",
      "source": [
        "y_test_pred_rle = rle_encoder3d(y_test_pred_adj)"
      ],
      "execution_count": 0,
      "outputs": []
    },
    {
      "metadata": {
        "colab_type": "code",
        "id": "TY3jfGJu0MYU",
        "colab": {}
      },
      "cell_type": "code",
      "source": [
        "df_test_rle = pd.DataFrame(index=misc_data['np_test_ids'], data=y_test_pred_rle).reset_index()"
      ],
      "execution_count": 0,
      "outputs": []
    },
    {
      "metadata": {
        "colab_type": "code",
        "id": "PGLX2jMP0MYX",
        "colab": {}
      },
      "cell_type": "code",
      "source": [
        "df_test_rle.columns = ['id', 'rle_mask']"
      ],
      "execution_count": 0,
      "outputs": []
    },
    {
      "metadata": {
        "id": "8-ut6Tez1vrC",
        "colab_type": "code",
        "outputId": "e3b7814a-00a6-4627-a5a0-fd21ae8444d7",
        "colab": {
          "base_uri": "https://localhost:8080/",
          "height": 35
        }
      },
      "cell_type": "code",
      "source": [
        "df_test_rle[df_test_rle.rle_mask==''].shape"
      ],
      "execution_count": 45,
      "outputs": [
        {
          "output_type": "execute_result",
          "data": {
            "text/plain": [
              "(7539, 2)"
            ]
          },
          "metadata": {
            "tags": []
          },
          "execution_count": 45
        }
      ]
    },
    {
      "metadata": {
        "id": "nEulPhi31vvj",
        "colab_type": "code",
        "colab": {}
      },
      "cell_type": "code",
      "source": [
        ""
      ],
      "execution_count": 0,
      "outputs": []
    },
    {
      "metadata": {
        "colab_type": "code",
        "id": "sWvvaAIO0MYZ",
        "colab": {}
      },
      "cell_type": "code",
      "source": [
        "sub_fname = f'submission_{get_current_time_as_fname()}.csv'"
      ],
      "execution_count": 0,
      "outputs": []
    },
    {
      "metadata": {
        "colab_type": "code",
        "id": "SVj7PI7I0MYe",
        "colab": {}
      },
      "cell_type": "code",
      "source": [
        "df_test_rle.to_csv(sub_fname, index=False)"
      ],
      "execution_count": 0,
      "outputs": []
    },
    {
      "metadata": {
        "colab_type": "code",
        "outputId": "cb331dfb-8f5b-4736-818f-104286f21613",
        "id": "ifF3rIUp0MYg",
        "colab": {
          "base_uri": "https://localhost:8080/",
          "height": 35
        }
      },
      "cell_type": "code",
      "source": [
        "log.info(f'submission file {sub_fname} generated.')"
      ],
      "execution_count": 48,
      "outputs": [
        {
          "output_type": "stream",
          "text": [
            "18/10/2018 07:59:46 - deep_supervision_cv_ens - INFO - submission file submission_2018_10_18_18_59_42.csv generated.\n"
          ],
          "name": "stderr"
        }
      ]
    },
    {
      "metadata": {
        "colab_type": "code",
        "id": "ZfXcq44X0MYl",
        "colab": {}
      },
      "cell_type": "code",
      "source": [
        "from google.colab import files"
      ],
      "execution_count": 0,
      "outputs": []
    },
    {
      "metadata": {
        "colab_type": "code",
        "id": "of2_HfbD0MYo",
        "colab": {}
      },
      "cell_type": "code",
      "source": [
        "files.download(sub_fname) "
      ],
      "execution_count": 0,
      "outputs": []
    },
    {
      "metadata": {
        "colab_type": "code",
        "outputId": "f539078e-d1c7-4e86-ba95-96d4238458ed",
        "id": "8woezQhb0MYu",
        "colab": {
          "base_uri": "https://localhost:8080/",
          "height": 35
        }
      },
      "cell_type": "code",
      "source": [
        "log.info(f'submission file {sub_fname} downloaded.')"
      ],
      "execution_count": 51,
      "outputs": [
        {
          "output_type": "stream",
          "text": [
            "18/10/2018 08:00:16 - deep_supervision_cv_ens - INFO - submission file submission_2018_10_18_18_59_42.csv downloaded.\n"
          ],
          "name": "stderr"
        }
      ]
    },
    {
      "metadata": {
        "colab_type": "text",
        "id": "Im9oF2_2z5SQ"
      },
      "cell_type": "markdown",
      "source": [
        "# Predict on Train Data"
      ]
    },
    {
      "metadata": {
        "id": "WbzB_35TpAjB",
        "colab_type": "code",
        "colab": {}
      },
      "cell_type": "code",
      "source": [
        ""
      ],
      "execution_count": 0,
      "outputs": []
    },
    {
      "metadata": {
        "colab_type": "code",
        "id": "a6lLAd2gd2_f",
        "colab": {}
      },
      "cell_type": "code",
      "source": [
        "dataLoader = DataLoader(SaltDataset(X_val, y_val, depth_val, X_train_mean_img, out_size=128), batch_size=16)"
      ],
      "execution_count": 0,
      "outputs": []
    },
    {
      "metadata": {
        "id": "qWTReSqreIBY",
        "colab_type": "code",
        "outputId": "7e94b7d6-a791-43f6-b9cc-aa2ebf924cfc",
        "colab": {
          "base_uri": "https://localhost:8080/",
          "height": 50
        }
      },
      "cell_type": "code",
      "source": [
        "y_pred = []\n",
        "with torch.no_grad():\n",
        "    for X_batch, y_batch, depth_batch, X_id_batch in dataLoader:\n",
        "        y_pred.append(loaded_model(X_batch))\n",
        "y_pred = torch.cat(y_pred)"
      ],
      "execution_count": 0,
      "outputs": [
        {
          "output_type": "stream",
          "text": [
            "/usr/local/lib/python3.6/dist-packages/torch/nn/functional.py:1890: UserWarning: nn.functional.upsample is deprecated. Use nn.functional.interpolate instead.\n",
            "  warnings.warn(\"nn.functional.upsample is deprecated. Use nn.functional.interpolate instead.\")\n"
          ],
          "name": "stderr"
        }
      ]
    },
    {
      "metadata": {
        "id": "FIe-wL4WfDCY",
        "colab_type": "code",
        "outputId": "04495246-ab42-49e2-e2f0-ab37d3c0ef42",
        "colab": {
          "base_uri": "https://localhost:8080/",
          "height": 50
        }
      },
      "cell_type": "code",
      "source": [
        "p = Pipeline_Salt()\n",
        "p.flip_left_right(probability=1)\n",
        "dataLoader_flip = DataLoader(SaltDataset(X_val, y_val, depth_val, X_train_mean_img, out_size=128, out_ch=1,\n",
        "                           transform=p.torch_transform()), batch_size=16)\n",
        "y_pred_flip = []\n",
        "\n",
        "with torch.no_grad():\n",
        "    for X_batch, y_batch, depth_batch, X_id_batch in dataLoader_flip:\n",
        "        y_pred_flip.append(loaded_model(X_batch))\n",
        "y_pred_flip = torch.cat(y_pred_flip)\n",
        "y_pred_flip = torch.flip(y_pred_flip,[2])"
      ],
      "execution_count": 0,
      "outputs": [
        {
          "output_type": "stream",
          "text": [
            "/usr/local/lib/python3.6/dist-packages/torch/nn/functional.py:1890: UserWarning: nn.functional.upsample is deprecated. Use nn.functional.interpolate instead.\n",
            "  warnings.warn(\"nn.functional.upsample is deprecated. Use nn.functional.interpolate instead.\")\n"
          ],
          "name": "stderr"
        }
      ]
    },
    {
      "metadata": {
        "id": "sYNTGAHif2yY",
        "colab_type": "code",
        "colab": {}
      },
      "cell_type": "code",
      "source": [
        "y_pred_tta = torch.where(y_pred.abs() > y_pred_flip.abs(), y_pred, y_pred_flip)"
      ],
      "execution_count": 0,
      "outputs": []
    },
    {
      "metadata": {
        "id": "bJphpcROfkNK",
        "colab_type": "code",
        "outputId": "ee1ccf86-1ac1-452e-d9d7-df0c4c1c1223",
        "colab": {
          "base_uri": "https://localhost:8080/",
          "height": 34
        }
      },
      "cell_type": "code",
      "source": [
        "y_pred_adj = adjust_predictions(0, X_val, y_pred.gt(0), y_val.squeeze())"
      ],
      "execution_count": 0,
      "outputs": [
        {
          "output_type": "stream",
          "text": [
            "11/10/2018 00:51:00 - salt_model_v37.42_high_lovasz_loss_cv_ens - INFO - IOU score before: 0.8726250000000002, IOU Score after:0.8726250000000002\n"
          ],
          "name": "stderr"
        }
      ]
    },
    {
      "metadata": {
        "id": "CqfrQmeHfkgm",
        "colab_type": "code",
        "outputId": "3013ac0a-3d76-4ea4-ea48-57380a308408",
        "colab": {
          "base_uri": "https://localhost:8080/",
          "height": 34
        }
      },
      "cell_type": "code",
      "source": [
        "y_pred_adj = adjust_predictions(0, X_val, y_pred_flip.gt(0), y_val.squeeze())"
      ],
      "execution_count": 0,
      "outputs": [
        {
          "output_type": "stream",
          "text": [
            "11/10/2018 00:51:02 - salt_model_v37.42_high_lovasz_loss_cv_ens - INFO - IOU score before: 0.877125, IOU Score after:0.877125\n"
          ],
          "name": "stderr"
        }
      ]
    },
    {
      "metadata": {
        "id": "4EYNwj0Sf7yX",
        "colab_type": "code",
        "outputId": "9f251302-8e3b-4a4c-b852-ae0f7e9ed06c",
        "colab": {
          "base_uri": "https://localhost:8080/",
          "height": 34
        }
      },
      "cell_type": "code",
      "source": [
        "y_pred_adj = adjust_predictions(0, X_val, y_pred_tta.gt(0), y_val.squeeze())"
      ],
      "execution_count": 0,
      "outputs": [
        {
          "output_type": "stream",
          "text": [
            "11/10/2018 00:51:53 - salt_model_v37.42_high_lovasz_loss_cv_ens - INFO - IOU score before: 0.8802499999999999, IOU Score after:0.8802499999999999\n"
          ],
          "name": "stderr"
        }
      ]
    },
    {
      "metadata": {
        "id": "oDUsRE7YgDp3",
        "colab_type": "code",
        "outputId": "9926afcb-bcb3-4525-8a2a-9124a7d09225",
        "colab": {
          "base_uri": "https://localhost:8080/",
          "height": 34
        }
      },
      "cell_type": "code",
      "source": [
        "(y_pred + y_pred_flip + y_pred_tta)"
      ],
      "execution_count": 0,
      "outputs": [
        {
          "output_type": "execute_result",
          "data": {
            "text/plain": [
              "torch.Size([800, 101, 101])"
            ]
          },
          "metadata": {
            "tags": []
          },
          "execution_count": 46
        }
      ]
    },
    {
      "metadata": {
        "id": "YfxUnQHggjwV",
        "colab_type": "code",
        "colab": {}
      },
      "cell_type": "code",
      "source": [
        "y_pred_score_ens = torch.zeros_like(torch.from_numpy(X_val.squeeze())).float().type(dtype)\n",
        "y_pred_mask_ens = torch.zeros_like(torch.from_numpy(X_val.squeeze())).type(dtype).gt(0)"
      ],
      "execution_count": 0,
      "outputs": []
    },
    {
      "metadata": {
        "id": "qMF5bui-hGDQ",
        "colab_type": "code",
        "colab": {}
      },
      "cell_type": "code",
      "source": [
        ""
      ],
      "execution_count": 0,
      "outputs": []
    },
    {
      "metadata": {
        "id": "WJyI4L0kh7Vo",
        "colab_type": "code",
        "colab": {}
      },
      "cell_type": "code",
      "source": [
        "y_pred_score_ens += y_pred\n",
        "y_pred_score_ens += y_pred_flip\n",
        "y_pred_score_ens += y_pred_tta\n",
        "y_pred_mask_ens += y_pred.gt(0)\n",
        "y_pred_mask_ens += y_pred_flip.gt(0)\n",
        "y_pred_mask_ens += y_pred_tta.gt(0)"
      ],
      "execution_count": 0,
      "outputs": []
    },
    {
      "metadata": {
        "id": "LOgE-viuimPv",
        "colab_type": "code",
        "colab": {}
      },
      "cell_type": "code",
      "source": [
        "y_pred_mask_ens"
      ],
      "execution_count": 0,
      "outputs": []
    },
    {
      "metadata": {
        "id": "VKj5jL78olBJ",
        "colab_type": "code",
        "colab": {}
      },
      "cell_type": "code",
      "source": [
        ""
      ],
      "execution_count": 0,
      "outputs": []
    },
    {
      "metadata": {
        "id": "QffE7tuBolHr",
        "colab_type": "code",
        "colab": {}
      },
      "cell_type": "code",
      "source": [
        ""
      ],
      "execution_count": 0,
      "outputs": []
    },
    {
      "metadata": {
        "id": "8OOVE1cTolFN",
        "colab_type": "code",
        "colab": {}
      },
      "cell_type": "code",
      "source": [
        ""
      ],
      "execution_count": 0,
      "outputs": []
    },
    {
      "metadata": {
        "id": "rk_0epUFimVp",
        "colab_type": "code",
        "colab": {}
      },
      "cell_type": "code",
      "source": [
        ""
      ],
      "execution_count": 0,
      "outputs": []
    },
    {
      "metadata": {
        "colab_type": "text",
        "id": "WXxMWO0Vd2_i"
      },
      "cell_type": "markdown",
      "source": [
        "### Set model to evaluation mode"
      ]
    },
    {
      "metadata": {
        "colab_type": "code",
        "id": "pXrjhryYd2_j",
        "colab": {}
      },
      "cell_type": "code",
      "source": [
        "loaded_model.eval()\n",
        "assert loaded_model.training == False"
      ],
      "execution_count": 0,
      "outputs": []
    },
    {
      "metadata": {
        "colab_type": "code",
        "id": "UrL4b0JNd2_n",
        "colab": {}
      },
      "cell_type": "code",
      "source": [
        "val_dataLoader = DataLoader(SaltDataset(X_val, y_val, depth_val, X_train_mean_img, out_size=128), batch_size=16)"
      ],
      "execution_count": 0,
      "outputs": []
    },
    {
      "metadata": {
        "colab_type": "code",
        "id": "VNwhYHlfd2_r",
        "colab": {}
      },
      "cell_type": "code",
      "source": [
        "if torch.cuda.is_available():\n",
        "    loaded_model.cuda()"
      ],
      "execution_count": 0,
      "outputs": []
    },
    {
      "metadata": {
        "colab_type": "text",
        "id": "ZTr351bEd2_t"
      },
      "cell_type": "markdown",
      "source": [
        "### Eval model on Val data set"
      ]
    },
    {
      "metadata": {
        "colab_type": "code",
        "outputId": "e20a4a4b-7eef-453a-cdac-b75c01c04813",
        "id": "w7Lk_bygd2_v",
        "colab": {
          "base_uri": "https://localhost:8080/",
          "height": 104
        }
      },
      "cell_type": "code",
      "source": [
        "y_val_pred = []\n",
        "\n",
        "with torch.no_grad():\n",
        "    for X_val_batch, y_val_batch, depth_val_batch, X_val_id_batch in val_dataLoader:\n",
        "        y_val_pred.append(loaded_model(X_val_batch))\n",
        "y_val_pred = torch.cat(y_val_pred)"
      ],
      "execution_count": 0,
      "outputs": [
        {
          "output_type": "stream",
          "text": [
            "/usr/local/lib/python3.6/dist-packages/torch/nn/functional.py:1890: UserWarning: nn.functional.upsample is deprecated. Use nn.functional.interpolate instead.\n",
            "  warnings.warn(\"nn.functional.upsample is deprecated. Use nn.functional.interpolate instead.\")\n",
            "/usr/local/lib/python3.6/dist-packages/torch/nn/functional.py:1961: UserWarning: Default upsampling behavior when mode=bilinear is changed to align_corners=False since 0.4.0. Please specify align_corners=True if the old behavior is desired. See the documentation of nn.Upsample for details.\n",
            "  \"See the documentation of nn.Upsample for details.\".format(mode))\n"
          ],
          "name": "stderr"
        }
      ]
    },
    {
      "metadata": {
        "colab_type": "code",
        "outputId": "626ebfa7-4a6c-4591-ea36-441fb69f8274",
        "id": "JLUVh6DOd2_0",
        "colab": {
          "base_uri": "https://localhost:8080/",
          "height": 104
        }
      },
      "cell_type": "code",
      "source": [
        "p = Pipeline_Salt()\n",
        "p.flip_left_right(probability=1)\n",
        "val_dataLoader = DataLoader(SaltDataset(X_val, y_val, depth_val, X_train_mean_img, out_size=128, out_ch=1,\n",
        "                           transform=p.torch_transform()), batch_size=16)\n",
        "y_val_pred_flip = []\n",
        "\n",
        "with torch.no_grad():\n",
        "    for X_val_batch, y_val_batch, depth_val_batch, X_val_id_batch in val_dataLoader:\n",
        "        y_val_pred_flip.append(loaded_model(X_val_batch))\n",
        "y_val_pred_flip = torch.cat(y_val_pred_flip)\n",
        "y_val_pred_flip = torch.flip(y_val_pred_flip,[2])"
      ],
      "execution_count": 0,
      "outputs": [
        {
          "output_type": "stream",
          "text": [
            "/usr/local/lib/python3.6/dist-packages/torch/nn/functional.py:1890: UserWarning: nn.functional.upsample is deprecated. Use nn.functional.interpolate instead.\n",
            "  warnings.warn(\"nn.functional.upsample is deprecated. Use nn.functional.interpolate instead.\")\n",
            "/usr/local/lib/python3.6/dist-packages/torch/nn/functional.py:1961: UserWarning: Default upsampling behavior when mode=bilinear is changed to align_corners=False since 0.4.0. Please specify align_corners=True if the old behavior is desired. See the documentation of nn.Upsample for details.\n",
            "  \"See the documentation of nn.Upsample for details.\".format(mode))\n"
          ],
          "name": "stderr"
        }
      ]
    },
    {
      "metadata": {
        "colab_type": "text",
        "id": "wmS0BVZsd2_4"
      },
      "cell_type": "markdown",
      "source": [
        "#### merge normal pred and hflip pred"
      ]
    },
    {
      "metadata": {
        "colab_type": "code",
        "id": "Yd6ttwZCd2_4",
        "colab": {}
      },
      "cell_type": "code",
      "source": [
        "y_val_pred_ens = torch.where(y_val_pred.abs() > y_val_pred_flip.abs(), y_val_pred, y_val_pred_flip)"
      ],
      "execution_count": 0,
      "outputs": []
    },
    {
      "metadata": {
        "colab_type": "text",
        "id": "3g5-Vnm9d3AB"
      },
      "cell_type": "markdown",
      "source": [
        "#### Check normal pred IOU"
      ]
    },
    {
      "metadata": {
        "colab_type": "code",
        "outputId": "a2a36573-f729-4c28-e385-0d2f40f58b73",
        "id": "2qdJKOfLd3AC",
        "colab": {
          "base_uri": "https://localhost:8080/",
          "height": 34
        }
      },
      "cell_type": "code",
      "source": [
        "y_val_pred_adj = adjust_predictions(0, X_val, y_val_pred.gt(0), y_val.squeeze())"
      ],
      "execution_count": 0,
      "outputs": [
        {
          "output_type": "stream",
          "text": [
            "11/10/2018 03:24:00 - salt_model_v37.42_high_lovasz_loss_cv_ens - INFO - IOU score before: 0.8186250000000002, IOU Score after:0.8186250000000002\n"
          ],
          "name": "stderr"
        }
      ]
    },
    {
      "metadata": {
        "colab_type": "text",
        "id": "ydYnESSld3AF"
      },
      "cell_type": "markdown",
      "source": [
        "#### Check TTA pred IOU"
      ]
    },
    {
      "metadata": {
        "colab_type": "code",
        "outputId": "56452aa9-f1f6-4b39-bc90-6a9950a92cc8",
        "id": "dKLb1MwCd3AF",
        "colab": {
          "base_uri": "https://localhost:8080/",
          "height": 34
        }
      },
      "cell_type": "code",
      "source": [
        "y_val_pred_adj = adjust_predictions(0, X_val, y_val_pred_ens.gt(0), y_val.squeeze())"
      ],
      "execution_count": 0,
      "outputs": [
        {
          "output_type": "stream",
          "text": [
            "11/10/2018 03:24:02 - salt_model_v37.42_high_lovasz_loss_cv_ens - INFO - IOU score before: 0.823125, IOU Score after:0.823125\n"
          ],
          "name": "stderr"
        }
      ]
    },
    {
      "metadata": {
        "colab_type": "text",
        "id": "HxJXqMZad3AI"
      },
      "cell_type": "markdown",
      "source": [
        "### Find best mask cutoff"
      ]
    },
    {
      "metadata": {
        "colab_type": "code",
        "outputId": "5c23b2e4-58c9-4355-b512-1d15cd669f09",
        "id": "t4O9mIEXd3AJ",
        "colab": {
          "base_uri": "https://localhost:8080/",
          "height": 1815
        }
      },
      "cell_type": "code",
      "source": [
        "results=[]\n",
        "for cut_off in np.r_[-0.1:0.1:50j]:\n",
        "  print(cut_off)\n",
        "  results.append(calc_mean_iou(adjust_predictions(0, X_val, y_val_pred_ens.gt(cut_off), y_val.squeeze()), y_val.squeeze()))"
      ],
      "execution_count": 0,
      "outputs": [
        {
          "output_type": "stream",
          "text": [
            "10/10/2018 11:21:30 - salt_model_v37.42_high_lovasz_loss_cv0_eval - INFO - IOU score before: 0.8173750000000001, IOU Score after:0.8173750000000001\n"
          ],
          "name": "stderr"
        },
        {
          "output_type": "stream",
          "text": [
            "-0.1\n"
          ],
          "name": "stdout"
        },
        {
          "output_type": "stream",
          "text": [
            "10/10/2018 11:21:30 - salt_model_v37.42_high_lovasz_loss_cv0_eval - INFO - IOU score before: 0.8173750000000001, IOU Score after:0.8173750000000001\n"
          ],
          "name": "stderr"
        },
        {
          "output_type": "stream",
          "text": [
            "-0.09591836734693879\n"
          ],
          "name": "stdout"
        },
        {
          "output_type": "stream",
          "text": [
            "10/10/2018 11:21:31 - salt_model_v37.42_high_lovasz_loss_cv0_eval - INFO - IOU score before: 0.8173750000000001, IOU Score after:0.8173750000000001\n"
          ],
          "name": "stderr"
        },
        {
          "output_type": "stream",
          "text": [
            "-0.09183673469387756\n"
          ],
          "name": "stdout"
        },
        {
          "output_type": "stream",
          "text": [
            "10/10/2018 11:21:31 - salt_model_v37.42_high_lovasz_loss_cv0_eval - INFO - IOU score before: 0.8172499999999999, IOU Score after:0.8172499999999999\n"
          ],
          "name": "stderr"
        },
        {
          "output_type": "stream",
          "text": [
            "-0.08775510204081632\n"
          ],
          "name": "stdout"
        },
        {
          "output_type": "stream",
          "text": [
            "10/10/2018 11:21:31 - salt_model_v37.42_high_lovasz_loss_cv0_eval - INFO - IOU score before: 0.8172499999999999, IOU Score after:0.8172499999999999\n"
          ],
          "name": "stderr"
        },
        {
          "output_type": "stream",
          "text": [
            "-0.0836734693877551\n"
          ],
          "name": "stdout"
        },
        {
          "output_type": "stream",
          "text": [
            "10/10/2018 11:21:32 - salt_model_v37.42_high_lovasz_loss_cv0_eval - INFO - IOU score before: 0.8172499999999999, IOU Score after:0.8172499999999999\n"
          ],
          "name": "stderr"
        },
        {
          "output_type": "stream",
          "text": [
            "-0.07959183673469389\n"
          ],
          "name": "stdout"
        },
        {
          "output_type": "stream",
          "text": [
            "10/10/2018 11:21:32 - salt_model_v37.42_high_lovasz_loss_cv0_eval - INFO - IOU score before: 0.8172499999999999, IOU Score after:0.8172499999999999\n"
          ],
          "name": "stderr"
        },
        {
          "output_type": "stream",
          "text": [
            "-0.07551020408163266\n",
            "-0.07142857142857142\n"
          ],
          "name": "stdout"
        },
        {
          "output_type": "stream",
          "text": [
            "10/10/2018 11:21:32 - salt_model_v37.42_high_lovasz_loss_cv0_eval - INFO - IOU score before: 0.8172499999999999, IOU Score after:0.8172499999999999\n",
            "10/10/2018 11:21:32 - salt_model_v37.42_high_lovasz_loss_cv0_eval - INFO - IOU score before: 0.8172499999999999, IOU Score after:0.8172499999999999\n"
          ],
          "name": "stderr"
        },
        {
          "output_type": "stream",
          "text": [
            "-0.0673469387755102\n"
          ],
          "name": "stdout"
        },
        {
          "output_type": "stream",
          "text": [
            "10/10/2018 11:21:33 - salt_model_v37.42_high_lovasz_loss_cv0_eval - INFO - IOU score before: 0.8172499999999999, IOU Score after:0.8172499999999999\n"
          ],
          "name": "stderr"
        },
        {
          "output_type": "stream",
          "text": [
            "-0.06326530612244899\n"
          ],
          "name": "stdout"
        },
        {
          "output_type": "stream",
          "text": [
            "10/10/2018 11:21:33 - salt_model_v37.42_high_lovasz_loss_cv0_eval - INFO - IOU score before: 0.8172499999999999, IOU Score after:0.8172499999999999\n"
          ],
          "name": "stderr"
        },
        {
          "output_type": "stream",
          "text": [
            "-0.05918367346938776\n",
            "-0.05510204081632653\n"
          ],
          "name": "stdout"
        },
        {
          "output_type": "stream",
          "text": [
            "10/10/2018 11:21:33 - salt_model_v37.42_high_lovasz_loss_cv0_eval - INFO - IOU score before: 0.8173750000000001, IOU Score after:0.8173750000000001\n",
            "10/10/2018 11:21:34 - salt_model_v37.42_high_lovasz_loss_cv0_eval - INFO - IOU score before: 0.8173750000000001, IOU Score after:0.8173750000000001\n"
          ],
          "name": "stderr"
        },
        {
          "output_type": "stream",
          "text": [
            "-0.05102040816326531\n"
          ],
          "name": "stdout"
        },
        {
          "output_type": "stream",
          "text": [
            "10/10/2018 11:21:34 - salt_model_v37.42_high_lovasz_loss_cv0_eval - INFO - IOU score before: 0.8175, IOU Score after:0.8175\n"
          ],
          "name": "stderr"
        },
        {
          "output_type": "stream",
          "text": [
            "-0.04693877551020408\n"
          ],
          "name": "stdout"
        },
        {
          "output_type": "stream",
          "text": [
            "10/10/2018 11:21:34 - salt_model_v37.42_high_lovasz_loss_cv0_eval - INFO - IOU score before: 0.8175, IOU Score after:0.8175\n"
          ],
          "name": "stderr"
        },
        {
          "output_type": "stream",
          "text": [
            "-0.04285714285714286\n"
          ],
          "name": "stdout"
        },
        {
          "output_type": "stream",
          "text": [
            "10/10/2018 11:21:34 - salt_model_v37.42_high_lovasz_loss_cv0_eval - INFO - IOU score before: 0.817625, IOU Score after:0.817625\n"
          ],
          "name": "stderr"
        },
        {
          "output_type": "stream",
          "text": [
            "-0.03877551020408163\n",
            "-0.03469387755102041\n"
          ],
          "name": "stdout"
        },
        {
          "output_type": "stream",
          "text": [
            "10/10/2018 11:21:35 - salt_model_v37.42_high_lovasz_loss_cv0_eval - INFO - IOU score before: 0.8175, IOU Score after:0.8175\n"
          ],
          "name": "stderr"
        },
        {
          "output_type": "stream",
          "text": [
            "-0.03061224489795919\n"
          ],
          "name": "stdout"
        },
        {
          "output_type": "stream",
          "text": [
            "10/10/2018 11:21:35 - salt_model_v37.42_high_lovasz_loss_cv0_eval - INFO - IOU score before: 0.8175, IOU Score after:0.8175\n"
          ],
          "name": "stderr"
        },
        {
          "output_type": "stream",
          "text": [
            "-0.026530612244897958\n"
          ],
          "name": "stdout"
        },
        {
          "output_type": "stream",
          "text": [
            "10/10/2018 11:21:35 - salt_model_v37.42_high_lovasz_loss_cv0_eval - INFO - IOU score before: 0.81875, IOU Score after:0.81875\n"
          ],
          "name": "stderr"
        },
        {
          "output_type": "stream",
          "text": [
            "-0.022448979591836726\n"
          ],
          "name": "stdout"
        },
        {
          "output_type": "stream",
          "text": [
            "10/10/2018 11:21:36 - salt_model_v37.42_high_lovasz_loss_cv0_eval - INFO - IOU score before: 0.81875, IOU Score after:0.81875\n"
          ],
          "name": "stderr"
        },
        {
          "output_type": "stream",
          "text": [
            "-0.01836734693877551\n"
          ],
          "name": "stdout"
        },
        {
          "output_type": "stream",
          "text": [
            "10/10/2018 11:21:36 - salt_model_v37.42_high_lovasz_loss_cv0_eval - INFO - IOU score before: 0.81875, IOU Score after:0.81875\n"
          ],
          "name": "stderr"
        },
        {
          "output_type": "stream",
          "text": [
            "-0.01428571428571429\n"
          ],
          "name": "stdout"
        },
        {
          "output_type": "stream",
          "text": [
            "10/10/2018 11:21:36 - salt_model_v37.42_high_lovasz_loss_cv0_eval - INFO - IOU score before: 0.81875, IOU Score after:0.81875\n",
            "10/10/2018 11:21:36 - salt_model_v37.42_high_lovasz_loss_cv0_eval - INFO - IOU score before: 0.81875, IOU Score after:0.81875\n"
          ],
          "name": "stderr"
        },
        {
          "output_type": "stream",
          "text": [
            "-0.010204081632653059\n",
            "-0.006122448979591827\n"
          ],
          "name": "stdout"
        },
        {
          "output_type": "stream",
          "text": [
            "10/10/2018 11:21:37 - salt_model_v37.42_high_lovasz_loss_cv0_eval - INFO - IOU score before: 0.81875, IOU Score after:0.81875\n",
            "10/10/2018 11:21:37 - salt_model_v37.42_high_lovasz_loss_cv0_eval - INFO - IOU score before: 0.8186250000000002, IOU Score after:0.8186250000000002\n"
          ],
          "name": "stderr"
        },
        {
          "output_type": "stream",
          "text": [
            "-0.002040816326530609\n"
          ],
          "name": "stdout"
        },
        {
          "output_type": "stream",
          "text": [
            "10/10/2018 11:21:37 - salt_model_v37.42_high_lovasz_loss_cv0_eval - INFO - IOU score before: 0.8186250000000002, IOU Score after:0.8186250000000002\n"
          ],
          "name": "stderr"
        },
        {
          "output_type": "stream",
          "text": [
            "0.002040816326530609\n"
          ],
          "name": "stdout"
        },
        {
          "output_type": "stream",
          "text": [
            "10/10/2018 11:21:37 - salt_model_v37.42_high_lovasz_loss_cv0_eval - INFO - IOU score before: 0.8186250000000002, IOU Score after:0.8186250000000002\n"
          ],
          "name": "stderr"
        },
        {
          "output_type": "stream",
          "text": [
            "0.006122448979591841\n"
          ],
          "name": "stdout"
        },
        {
          "output_type": "stream",
          "text": [
            "10/10/2018 11:21:38 - salt_model_v37.42_high_lovasz_loss_cv0_eval - INFO - IOU score before: 0.8186250000000002, IOU Score after:0.8186250000000002\n"
          ],
          "name": "stderr"
        },
        {
          "output_type": "stream",
          "text": [
            "0.010204081632653073\n"
          ],
          "name": "stdout"
        },
        {
          "output_type": "stream",
          "text": [
            "10/10/2018 11:21:38 - salt_model_v37.42_high_lovasz_loss_cv0_eval - INFO - IOU score before: 0.8186250000000002, IOU Score after:0.8186250000000002\n"
          ],
          "name": "stderr"
        },
        {
          "output_type": "stream",
          "text": [
            "0.01428571428571429\n",
            "0.01836734693877551\n"
          ],
          "name": "stdout"
        },
        {
          "output_type": "stream",
          "text": [
            "10/10/2018 11:21:38 - salt_model_v37.42_high_lovasz_loss_cv0_eval - INFO - IOU score before: 0.8186250000000002, IOU Score after:0.8186250000000002\n",
            "10/10/2018 11:21:39 - salt_model_v37.42_high_lovasz_loss_cv0_eval - INFO - IOU score before: 0.8184999999999999, IOU Score after:0.8184999999999999\n"
          ],
          "name": "stderr"
        },
        {
          "output_type": "stream",
          "text": [
            "0.02244897959183674\n"
          ],
          "name": "stdout"
        },
        {
          "output_type": "stream",
          "text": [
            "10/10/2018 11:21:39 - salt_model_v37.42_high_lovasz_loss_cv0_eval - INFO - IOU score before: 0.8184999999999999, IOU Score after:0.8184999999999999\n"
          ],
          "name": "stderr"
        },
        {
          "output_type": "stream",
          "text": [
            "0.026530612244897972\n"
          ],
          "name": "stdout"
        },
        {
          "output_type": "stream",
          "text": [
            "10/10/2018 11:21:39 - salt_model_v37.42_high_lovasz_loss_cv0_eval - INFO - IOU score before: 0.8184999999999999, IOU Score after:0.8184999999999999\n"
          ],
          "name": "stderr"
        },
        {
          "output_type": "stream",
          "text": [
            "0.03061224489795919\n"
          ],
          "name": "stdout"
        },
        {
          "output_type": "stream",
          "text": [
            "10/10/2018 11:21:39 - salt_model_v37.42_high_lovasz_loss_cv0_eval - INFO - IOU score before: 0.8184999999999999, IOU Score after:0.8184999999999999\n"
          ],
          "name": "stderr"
        },
        {
          "output_type": "stream",
          "text": [
            "0.03469387755102041\n"
          ],
          "name": "stdout"
        },
        {
          "output_type": "stream",
          "text": [
            "10/10/2018 11:21:40 - salt_model_v37.42_high_lovasz_loss_cv0_eval - INFO - IOU score before: 0.8184999999999999, IOU Score after:0.8184999999999999\n"
          ],
          "name": "stderr"
        },
        {
          "output_type": "stream",
          "text": [
            "0.038775510204081626\n"
          ],
          "name": "stdout"
        },
        {
          "output_type": "stream",
          "text": [
            "10/10/2018 11:21:40 - salt_model_v37.42_high_lovasz_loss_cv0_eval - INFO - IOU score before: 0.8184999999999999, IOU Score after:0.8184999999999999\n"
          ],
          "name": "stderr"
        },
        {
          "output_type": "stream",
          "text": [
            "0.04285714285714287\n"
          ],
          "name": "stdout"
        },
        {
          "output_type": "stream",
          "text": [
            "10/10/2018 11:21:40 - salt_model_v37.42_high_lovasz_loss_cv0_eval - INFO - IOU score before: 0.8184999999999999, IOU Score after:0.8184999999999999\n"
          ],
          "name": "stderr"
        },
        {
          "output_type": "stream",
          "text": [
            "0.04693877551020409\n"
          ],
          "name": "stdout"
        },
        {
          "output_type": "stream",
          "text": [
            "10/10/2018 11:21:41 - salt_model_v37.42_high_lovasz_loss_cv0_eval - INFO - IOU score before: 0.8184999999999999, IOU Score after:0.8184999999999999\n"
          ],
          "name": "stderr"
        },
        {
          "output_type": "stream",
          "text": [
            "0.05102040816326531\n",
            "0.05510204081632655\n"
          ],
          "name": "stdout"
        },
        {
          "output_type": "stream",
          "text": [
            "10/10/2018 11:21:41 - salt_model_v37.42_high_lovasz_loss_cv0_eval - INFO - IOU score before: 0.8184999999999999, IOU Score after:0.8184999999999999\n",
            "10/10/2018 11:21:41 - salt_model_v37.42_high_lovasz_loss_cv0_eval - INFO - IOU score before: 0.8184999999999999, IOU Score after:0.8184999999999999\n"
          ],
          "name": "stderr"
        },
        {
          "output_type": "stream",
          "text": [
            "0.05918367346938777\n"
          ],
          "name": "stdout"
        },
        {
          "output_type": "stream",
          "text": [
            "10/10/2018 11:21:41 - salt_model_v37.42_high_lovasz_loss_cv0_eval - INFO - IOU score before: 0.8184999999999999, IOU Score after:0.8184999999999999\n"
          ],
          "name": "stderr"
        },
        {
          "output_type": "stream",
          "text": [
            "0.06326530612244899\n"
          ],
          "name": "stdout"
        },
        {
          "output_type": "stream",
          "text": [
            "10/10/2018 11:21:42 - salt_model_v37.42_high_lovasz_loss_cv0_eval - INFO - IOU score before: 0.8184999999999999, IOU Score after:0.8184999999999999\n"
          ],
          "name": "stderr"
        },
        {
          "output_type": "stream",
          "text": [
            "0.0673469387755102\n",
            "0.07142857142857142\n"
          ],
          "name": "stdout"
        },
        {
          "output_type": "stream",
          "text": [
            "10/10/2018 11:21:42 - salt_model_v37.42_high_lovasz_loss_cv0_eval - INFO - IOU score before: 0.8184999999999999, IOU Score after:0.8184999999999999\n",
            "10/10/2018 11:21:42 - salt_model_v37.42_high_lovasz_loss_cv0_eval - INFO - IOU score before: 0.8183750000000001, IOU Score after:0.8183750000000001\n"
          ],
          "name": "stderr"
        },
        {
          "output_type": "stream",
          "text": [
            "0.07551020408163267\n"
          ],
          "name": "stdout"
        },
        {
          "output_type": "stream",
          "text": [
            "10/10/2018 11:21:43 - salt_model_v37.42_high_lovasz_loss_cv0_eval - INFO - IOU score before: 0.8183750000000001, IOU Score after:0.8183750000000001\n"
          ],
          "name": "stderr"
        },
        {
          "output_type": "stream",
          "text": [
            "0.07959183673469389\n"
          ],
          "name": "stdout"
        },
        {
          "output_type": "stream",
          "text": [
            "10/10/2018 11:21:43 - salt_model_v37.42_high_lovasz_loss_cv0_eval - INFO - IOU score before: 0.8183750000000001, IOU Score after:0.8183750000000001\n"
          ],
          "name": "stderr"
        },
        {
          "output_type": "stream",
          "text": [
            "0.0836734693877551\n"
          ],
          "name": "stdout"
        },
        {
          "output_type": "stream",
          "text": [
            "10/10/2018 11:21:43 - salt_model_v37.42_high_lovasz_loss_cv0_eval - INFO - IOU score before: 0.8182499999999999, IOU Score after:0.8182499999999999\n"
          ],
          "name": "stderr"
        },
        {
          "output_type": "stream",
          "text": [
            "0.08775510204081635\n",
            "0.09183673469387757\n"
          ],
          "name": "stdout"
        },
        {
          "output_type": "stream",
          "text": [
            "10/10/2018 11:21:43 - salt_model_v37.42_high_lovasz_loss_cv0_eval - INFO - IOU score before: 0.8182499999999999, IOU Score after:0.8182499999999999\n",
            "10/10/2018 11:21:44 - salt_model_v37.42_high_lovasz_loss_cv0_eval - INFO - IOU score before: 0.8182499999999999, IOU Score after:0.8182499999999999\n"
          ],
          "name": "stderr"
        },
        {
          "output_type": "stream",
          "text": [
            "0.09591836734693879\n"
          ],
          "name": "stdout"
        },
        {
          "output_type": "stream",
          "text": [
            "10/10/2018 11:21:44 - salt_model_v37.42_high_lovasz_loss_cv0_eval - INFO - IOU score before: 0.8182499999999999, IOU Score after:0.8182499999999999\n"
          ],
          "name": "stderr"
        },
        {
          "output_type": "stream",
          "text": [
            "0.1\n"
          ],
          "name": "stdout"
        }
      ]
    },
    {
      "metadata": {
        "colab_type": "code",
        "id": "S7vxxrrzd3AN",
        "colab": {}
      },
      "cell_type": "code",
      "source": [
        "MASK_CUTOFF = np.r_[-0.1:0.1:50j][np.argmax(results)]\n",
        "ZERO_MASK_CUTOFF = 0"
      ],
      "execution_count": 0,
      "outputs": []
    },
    {
      "metadata": {
        "colab_type": "code",
        "outputId": "cbe8e6f9-318e-4523-f3f3-f32d9351daf4",
        "id": "xiNlJgoCd3AQ",
        "colab": {
          "base_uri": "https://localhost:8080/",
          "height": 72
        }
      },
      "cell_type": "code",
      "source": [
        "log.info(f'MASK_CUTOFF: {MASK_CUTOFF}')\n",
        "log.info(f'ZERO_MASK_CUTOFF: {ZERO_MASK_CUTOFF}')"
      ],
      "execution_count": 0,
      "outputs": [
        {
          "output_type": "stream",
          "text": [
            "10/10/2018 11:21:47 - salt_model_v37.42_high_lovasz_loss_cv0_eval - INFO - MASK_CUTOFF: -0.026530612244897958\n",
            "10/10/2018 11:21:47 - salt_model_v37.42_high_lovasz_loss_cv0_eval - INFO - ZERO_MASK_CUTOFF: 0\n"
          ],
          "name": "stderr"
        }
      ]
    },
    {
      "metadata": {
        "colab_type": "code",
        "outputId": "5c22759c-1207-433c-f6a0-cba6db6b7b99",
        "id": "3CoVkc7Td3AS",
        "colab": {
          "base_uri": "https://localhost:8080/",
          "height": 55
        }
      },
      "cell_type": "code",
      "source": [
        "y_val_pred_adj = adjust_predictions(ZERO_MASK_CUTOFF, X_val, y_val_pred_ens.gt(MASK_CUTOFF), y_val.squeeze())"
      ],
      "execution_count": 0,
      "outputs": [
        {
          "output_type": "stream",
          "text": [
            "10/10/2018 11:21:48 - salt_model_v37.42_high_lovasz_loss_cv0_eval - INFO - IOU score before: 0.81875, IOU Score after:0.81875\n"
          ],
          "name": "stderr"
        }
      ]
    },
    {
      "metadata": {
        "colab_type": "text",
        "id": "Aa77ufyjd3AU"
      },
      "cell_type": "markdown",
      "source": [
        "## Make predictions on test set using TTA"
      ]
    },
    {
      "metadata": {
        "colab_type": "code",
        "id": "P7bxode7d3AV",
        "colab": {}
      },
      "cell_type": "code",
      "source": [
        "import numpy as np"
      ],
      "execution_count": 0,
      "outputs": []
    },
    {
      "metadata": {
        "colab_type": "text",
        "id": "1ShZXb0Rd3AY"
      },
      "cell_type": "markdown",
      "source": [
        "### Predict using original image"
      ]
    },
    {
      "metadata": {
        "colab_type": "code",
        "id": "nd2d8gRpd3AZ",
        "colab": {}
      },
      "cell_type": "code",
      "source": [
        "test_dataLoader = DataLoader(SaltDataset(X_test, np.zeros_like(X_test), depth_test, X_train_mean_img, out_size=128), batch_size=32)"
      ],
      "execution_count": 0,
      "outputs": []
    },
    {
      "metadata": {
        "colab_type": "code",
        "outputId": "db4526d2-183e-4fa6-d095-d77a8e00135f",
        "id": "S9bp0Xq0d3Ab",
        "colab": {
          "base_uri": "https://localhost:8080/",
          "height": 72
        }
      },
      "cell_type": "code",
      "source": [
        "y_test_pred_raw = []\n",
        "with torch.no_grad():\n",
        "    for X_test_batch, y_test_batch, depth_test_batch, X_test_id_batch in test_dataLoader:\n",
        "        y_test_pred_raw.append(loaded_model(X_test_batch))\n",
        "y_test_pred = torch.cat(y_test_pred_raw)"
      ],
      "execution_count": 0,
      "outputs": [
        {
          "output_type": "stream",
          "text": [
            "/usr/local/lib/python3.6/dist-packages/torch/nn/functional.py:1890: UserWarning: nn.functional.upsample is deprecated. Use nn.functional.interpolate instead.\n",
            "  warnings.warn(\"nn.functional.upsample is deprecated. Use nn.functional.interpolate instead.\")\n"
          ],
          "name": "stderr"
        }
      ]
    },
    {
      "metadata": {
        "colab_type": "text",
        "id": "t81l_EiQd3Ad"
      },
      "cell_type": "markdown",
      "source": [
        "### Predict using flipped images"
      ]
    },
    {
      "metadata": {
        "colab_type": "code",
        "outputId": "ca243238-1621-4e96-c919-9e05acf325f9",
        "id": "FNAhIMG6d3Ae",
        "colab": {
          "base_uri": "https://localhost:8080/",
          "height": 72
        }
      },
      "cell_type": "code",
      "source": [
        "p = Pipeline_Salt()\n",
        "p.flip_left_right(probability=1)\n",
        "test_dataLoader = DataLoader(SaltDataset(X_test, np.zeros_like(X_test), depth_test, X_train_mean_img, out_size=128, out_ch=1,\n",
        "                           transform=p.torch_transform()), batch_size=32)\n",
        "y_test_pred_flip = []\n",
        "\n",
        "with torch.no_grad():\n",
        "    for X_test_batch, y_test_batch, depth_test_batch, X_test_id_batch in test_dataLoader:\n",
        "        y_test_pred_flip.append(loaded_model(X_test_batch))\n",
        "y_test_pred_flip = torch.cat(y_test_pred_flip)\n",
        "y_test_pred_flip = torch.flip(y_test_pred_flip,[2])"
      ],
      "execution_count": 0,
      "outputs": [
        {
          "output_type": "stream",
          "text": [
            "/usr/local/lib/python3.6/dist-packages/torch/nn/functional.py:1890: UserWarning: nn.functional.upsample is deprecated. Use nn.functional.interpolate instead.\n",
            "  warnings.warn(\"nn.functional.upsample is deprecated. Use nn.functional.interpolate instead.\")\n"
          ],
          "name": "stderr"
        }
      ]
    },
    {
      "metadata": {
        "colab_type": "text",
        "id": "WZuBek0Id3Ag"
      },
      "cell_type": "markdown",
      "source": [
        "### Combine non-flip and flip predictions"
      ]
    },
    {
      "metadata": {
        "colab_type": "code",
        "id": "ukVxFLzvd3Ag",
        "colab": {}
      },
      "cell_type": "code",
      "source": [
        "y_test_pred_ens = torch.where(y_test_pred.abs() > y_test_pred_flip.abs(), y_test_pred, y_test_pred_flip)"
      ],
      "execution_count": 0,
      "outputs": []
    },
    {
      "metadata": {
        "colab_type": "text",
        "id": "L_JOlKjGd3Aj"
      },
      "cell_type": "markdown",
      "source": [
        "### Adjust predictions"
      ]
    },
    {
      "metadata": {
        "colab_type": "code",
        "id": "leUjx9nHd3Aj",
        "colab": {}
      },
      "cell_type": "code",
      "source": [
        "#MASK_CUTOFF = 0\n",
        "#ZERO_MASK_CUTOFF = 0"
      ],
      "execution_count": 0,
      "outputs": []
    },
    {
      "metadata": {
        "colab_type": "code",
        "outputId": "8a85de83-0b70-4fe4-8490-e5311519f390",
        "id": "ZzxI2HXQd3Ak",
        "colab": {
          "base_uri": "https://localhost:8080/",
          "height": 55
        }
      },
      "cell_type": "code",
      "source": [
        "log.info(f'MASK_CUTOFF:{MASK_CUTOFF}, ZERO_MASK_CUTOFF:{ZERO_MASK_CUTOFF}')"
      ],
      "execution_count": 0,
      "outputs": [
        {
          "output_type": "stream",
          "text": [
            "10/10/2018 11:40:11 - salt_model_v37.42_high_lovasz_loss_cv0_eval - INFO - MASK_CUTOFF:-0.026530612244897958, ZERO_MASK_CUTOFF:0\n"
          ],
          "name": "stderr"
        }
      ]
    },
    {
      "metadata": {
        "colab_type": "code",
        "id": "vkD9zKASd3Am",
        "colab": {}
      },
      "cell_type": "code",
      "source": [
        "y_test_pred_adj = adjust_predictions(ZERO_MASK_CUTOFF, X_test, y_test_pred_ens.gt(MASK_CUTOFF))\n"
      ],
      "execution_count": 0,
      "outputs": []
    },
    {
      "metadata": {
        "colab_type": "code",
        "id": "Ah1WNQpad3Ao",
        "colab": {}
      },
      "cell_type": "code",
      "source": [
        ""
      ],
      "execution_count": 0,
      "outputs": []
    },
    {
      "metadata": {
        "colab_type": "text",
        "id": "ibA5k2r2d3Ao"
      },
      "cell_type": "markdown",
      "source": [
        "# Predict on Train Data"
      ]
    },
    {
      "metadata": {
        "id": "LnynWedCOc8j",
        "colab_type": "code",
        "colab": {}
      },
      "cell_type": "code",
      "source": [
        ""
      ],
      "execution_count": 0,
      "outputs": []
    },
    {
      "metadata": {
        "id": "DNIS7zT23KmI",
        "colab_type": "text"
      },
      "cell_type": "markdown",
      "source": [
        "### Train Val data split"
      ]
    },
    {
      "metadata": {
        "id": "j8KXV3xkOmta",
        "colab_type": "code",
        "colab": {}
      },
      "cell_type": "code",
      "source": [
        "from sklearn.model_selection import StratifiedKFold"
      ],
      "execution_count": 0,
      "outputs": []
    },
    {
      "metadata": {
        "id": "TlNzVXd4Qu7D",
        "colab_type": "code",
        "colab": {}
      },
      "cell_type": "code",
      "source": [
        "fold = 0"
      ],
      "execution_count": 0,
      "outputs": []
    },
    {
      "metadata": {
        "id": "77FWKCB-Orhp",
        "colab_type": "code",
        "colab": {}
      },
      "cell_type": "code",
      "source": [
        "skf = StratifiedKFold(n_splits=5, shuffle=True, random_state=0)\n",
        "df_train_mask = pd.DataFrame((np_train_all_mask/255).sum((1,2,3)), columns=['mask_pix'])\n",
        "df_train_mask.mask_pix = df_train_mask.mask_pix.round(-2)\n",
        "nfolds = list(skf.split(df_train_mask.index.tolist(), df_train_mask.mask_pix))"
      ],
      "execution_count": 0,
      "outputs": []
    },
    {
      "metadata": {
        "id": "pfkpL_aPScVN",
        "colab_type": "code",
        "colab": {}
      },
      "cell_type": "code",
      "source": [
        "X_train_ids = np.r_[nfolds[fold]][:3200]\n",
        "X_val_ids = np.r_[nfolds[fold]][3200:]"
      ],
      "execution_count": 0,
      "outputs": []
    },
    {
      "metadata": {
        "id": "CeMs4Vgsg_zm",
        "colab_type": "code",
        "outputId": "8ab2d5a8-c2ef-4f9b-95c7-1fc13f055c50",
        "colab": {
          "base_uri": "https://localhost:8080/",
          "height": 50
        }
      },
      "cell_type": "code",
      "source": [
        "log.info(f'np.sum(X_train_ids): {np.sum(X_train_ids)}')\n",
        "log.info(f'np.sum(X_val_ids): {np.sum(X_val_ids)}')"
      ],
      "execution_count": 0,
      "outputs": [
        {
          "output_type": "stream",
          "text": [
            "10/10/2018 23:15:18 - salt_model_v37.42_high_lovasz_loss_cv_ens - INFO - np.sum(X_train_ids): 6319371\n",
            "10/10/2018 23:15:18 - salt_model_v37.42_high_lovasz_loss_cv_ens - INFO - np.sum(X_val_ids): 1678629\n"
          ],
          "name": "stderr"
        }
      ]
    },
    {
      "metadata": {
        "id": "sXMvR2XwQoyI",
        "colab_type": "code",
        "colab": {}
      },
      "cell_type": "code",
      "source": [
        ""
      ],
      "execution_count": 0,
      "outputs": []
    },
    {
      "metadata": {
        "id": "2L51fSDkpyNV",
        "colab_type": "code",
        "colab": {}
      },
      "cell_type": "code",
      "source": [
        "#df_train_mask = pd.DataFrame((np_train_all_mask/255).sum((1,2,3)), columns=['mask_pix'])\n",
        "#df_train_mask.mask_pix = df_train_mask.mask_pix.round(-2)\n",
        "\n",
        "#X_train_ids, X_val_ids = (\n",
        "#    train_test_split(df_train_mask.index.tolist(), \n",
        "#                     test_size=0.20,\n",
        "#                     stratify = df_train_mask.mask_pix,\n",
        "#                     random_state=0)\n",
        "#)\n",
        "\n",
        "X_train = np_train_all[X_train_ids]\n",
        "X_val = np_train_all[X_val_ids]\n",
        "y_train = np_train_all_mask[X_train_ids]\n",
        "y_val = np_train_all_mask[X_val_ids]\n",
        "depth_train = (\n",
        "    misc_data['df_train_all_depth']\n",
        "    .reindex(np.array(misc_data['np_train_all_ids'])[X_train_ids])\n",
        ")\n",
        "depth_val = (\n",
        "    misc_data['df_train_all_depth']\n",
        "    .reindex(np.array(misc_data['np_train_all_ids'])[X_val_ids])\n",
        ")\n",
        "depth_test = (\n",
        "    misc_data['df_train_all_depth']\n",
        "    .reindex(np.array(misc_data['np_test_ids']))\n",
        ")\n",
        "#X_train_mean_img = X_train.mean(0).astype(np.float32)\n",
        "#X_train_mean_img = X_train.mean((0,1,2)).astype(np.float32)\n",
        "X_train_mean_img = np.clip(np_train_all/255, 0, 1).mean((0,1,2)).astype(np.float32)\n",
        "#set mean image to 0 as mean is now being handled within the model.\n",
        "X_train_mean_img = np.zeros_like(X_train_mean_img)\n",
        "\n",
        "all_data = {\n",
        "    'X_train': X_train,\n",
        "    'X_val': X_val,\n",
        "    'y_train': y_train,\n",
        "    'y_val': y_val,\n",
        "    'X_test': X_test,\n",
        "    'X_train_mean_img': X_train_mean_img\n",
        "}\n",
        "\n",
        "assert X_train_mean_img == np.array([0.])\n",
        "assert X_train.shape == (3200, 101, 101, 1)\n",
        "assert y_train.shape == (3200, 101, 101, 1)\n",
        "assert depth_train.shape == (3200, 1)"
      ],
      "execution_count": 0,
      "outputs": []
    },
    {
      "metadata": {
        "id": "zJ3DJ4hAQmOw",
        "colab_type": "text"
      },
      "cell_type": "markdown",
      "source": [
        "## Train the full with full dataset"
      ]
    },
    {
      "metadata": {
        "id": "AZkSxKV2sIkN",
        "colab_type": "code",
        "outputId": "358f254a-9fae-44b6-82e0-e3e1c4407efa",
        "colab": {
          "base_uri": "https://localhost:8080/",
          "height": 34
        }
      },
      "cell_type": "code",
      "source": [
        "log.info(f'{run_name}, based on salt_model_v37.4_high_lovasz_loss. 5 folds CV.')"
      ],
      "execution_count": 0,
      "outputs": [
        {
          "output_type": "stream",
          "text": [
            "11/10/2018 01:46:10 - salt_model_v37.42_high_lovasz_loss_cv_ens - INFO - salt_model_v37.42_high_lovasz_loss_cv_ens, based on salt_model_v37.4_high_lovasz_loss. 5 folds CV.\n"
          ],
          "name": "stderr"
        }
      ]
    },
    {
      "metadata": {
        "id": "R_sJ4aApaZDB",
        "colab_type": "code",
        "colab": {}
      },
      "cell_type": "code",
      "source": [
        "aug_pipeline_config = '''\n",
        "p = Pipeline_Salt()\n",
        "p.flip_left_right(probability=0.5)\n",
        "p.rotate90(0.25)\n",
        "p.rotate270(0.25)\n",
        "p.random_brightness(probability=0.5, min_factor=0.8, max_factor=1.2)\n",
        "p.random_contrast(probability=0.5, min_factor=0.8, max_factor=1.2)\n",
        "p.rotate_random_align(probability=0.5)\n",
        "p.crop_random_align(probability=0.5, min_factor=0.6, max_factor=1.0, mask_diff_pct=0.2)\n",
        "'''"
      ],
      "execution_count": 0,
      "outputs": []
    },
    {
      "metadata": {
        "id": "U7gYECBYaZDJ",
        "colab_type": "code",
        "colab": {}
      },
      "cell_type": "code",
      "source": [
        "data_loader_config = '''\n",
        "train_data_params = {'batch_size': 32,\n",
        "                     #'sampler': weighted_sampler,\n",
        "                     'shuffle': True,\n",
        "                     'drop_last': False}\n",
        "\n",
        "val_data_params = {'batch_size': 32,\n",
        "                   'shuffle': True,\n",
        "                   'drop_last': False}\n",
        "\n",
        "train_dataLoader = (\n",
        "    DataLoader(SaltDataset(X_train, y_train, depth_train,\n",
        "                           np.zeros_like(X_train_mean_img), out_size=128,  out_ch=1,\n",
        "                           transform=p.torch_transform()), **train_data_params)\n",
        ")\n",
        "\n",
        "val_dataLoader = (\n",
        "    DataLoader(SaltDataset(X_val, y_val, depth_val, \n",
        "                           np.zeros_like(X_train_mean_img), out_size=128, out_ch=1), **val_data_params)\n",
        ")\n",
        "\n",
        "dataloaders = {'train': train_dataLoader, 'val':val_dataLoader}\n",
        "'''"
      ],
      "execution_count": 0,
      "outputs": []
    },
    {
      "metadata": {
        "id": "2E3iHDtlaZDR",
        "colab_type": "code",
        "colab": {}
      },
      "cell_type": "code",
      "source": [
        "model_config = '''\n",
        "saltnet = UResNet(pretrained=True)\n",
        "loss_fn_bce = nn.BCEWithLogitsLoss(pos_weight=torch.tensor(2.0).type(dtype))\n",
        "#loss_focal = FocalLoss(0.25, 2, logits=True)\n",
        "loss_lovasz_hinge = LovaszHingeLoss()\n",
        "resnet_params = (\n",
        "    list(saltnet.conv1.parameters()) + \n",
        "    list(saltnet.encoder2.parameters()) + \n",
        "    list(saltnet.encoder3.parameters()) + \n",
        "    list(saltnet.encoder4.parameters()) + \n",
        "    list(saltnet.encoder5.parameters())\n",
        ")\n",
        "\n",
        "unet_params = (\n",
        "    list(saltnet.center.parameters()) + \n",
        "    list(saltnet.decoder5.parameters()) + \n",
        "    list(saltnet.decoder4.parameters()) + \n",
        "    list(saltnet.decoder3.parameters()) + \n",
        "    list(saltnet.decoder2.parameters()) + \n",
        "    list(saltnet.decoder1.parameters())  + \n",
        "    list(saltnet.se_f.parameters()) + \n",
        "    list(saltnet.outc.parameters())\n",
        ")\n",
        "optimizer = optim.Adam([    \n",
        "    {'params': resnet_params, 'lr': 1e-4},\n",
        "    {'params': unet_params, 'lr': 1e-3},\n",
        "], weight_decay=0.0001)\n",
        "\n",
        "\n",
        "scheduler = PolyLR(optimizer, [1e-4, 1e-3], lr_decay_iter=1, max_iter=150, power=0.9)\n",
        "model_save_name = model_file_suffix\n",
        "log.info(model_save_name)\n",
        "'''"
      ],
      "execution_count": 0,
      "outputs": []
    },
    {
      "metadata": {
        "id": "I0YGWcupaZDW",
        "colab_type": "code",
        "colab": {}
      },
      "cell_type": "code",
      "source": [
        "train_params_config = '''\n",
        "train_params = {\n",
        "    'model_save_name': model_save_name,\n",
        "    'save_model_every': 20,\n",
        "    'save_log_every': 2,\n",
        "    'num_epochs': 150,\n",
        "    'log': log,\n",
        "    'mask_cutoff': 0.,\n",
        "    'model_save_iou_threshold': 0.81\n",
        "    }\n",
        "'''"
      ],
      "execution_count": 0,
      "outputs": []
    },
    {
      "metadata": {
        "id": "Njb68KldaZDZ",
        "colab_type": "code",
        "colab": {}
      },
      "cell_type": "code",
      "source": [
        "model_run_config = '''\n",
        "train_model(saltnet, dataloaders, (loss_fn_bce, loss_lovasz_hinge), (1, 0.3), optimizer, scheduler, train_params, all_data)\n",
        "'''"
      ],
      "execution_count": 0,
      "outputs": []
    },
    {
      "metadata": {
        "id": "-VbLGjnuaZDc",
        "colab_type": "code",
        "colab": {}
      },
      "cell_type": "code",
      "source": [
        "config_list = [aug_pipeline_config, data_loader_config, model_config, train_params_config, model_run_config]"
      ],
      "execution_count": 0,
      "outputs": []
    },
    {
      "metadata": {
        "id": "YTb0lfCGaZDe",
        "colab_type": "code",
        "outputId": "5f538316-9c3e-43c3-af9d-29422aab0f7e",
        "colab": {
          "base_uri": "https://localhost:8080/",
          "height": 2282
        }
      },
      "cell_type": "code",
      "source": [
        "setup_train(config_list)"
      ],
      "execution_count": 0,
      "outputs": [
        {
          "output_type": "stream",
          "text": [
            "11/10/2018 01:46:25 - salt_model_v37.42_high_lovasz_loss_cv_ens - INFO - \n",
            "p = Pipeline_Salt()\n",
            "p.flip_left_right(probability=0.5)\n",
            "p.rotate90(0.25)\n",
            "p.rotate270(0.25)\n",
            "p.random_brightness(probability=0.5, min_factor=0.8, max_factor=1.2)\n",
            "p.random_contrast(probability=0.5, min_factor=0.8, max_factor=1.2)\n",
            "p.rotate_random_align(probability=0.5)\n",
            "p.crop_random_align(probability=0.5, min_factor=0.6, max_factor=1.0, mask_diff_pct=0.2)\n",
            "\n",
            "11/10/2018 01:46:25 - salt_model_v37.42_high_lovasz_loss_cv_ens - INFO - \n",
            "train_data_params = {'batch_size': 32,\n",
            "                     #'sampler': weighted_sampler,\n",
            "                     'shuffle': True,\n",
            "                     'drop_last': False}\n",
            "\n",
            "val_data_params = {'batch_size': 32,\n",
            "                   'shuffle': True,\n",
            "                   'drop_last': False}\n",
            "\n",
            "train_dataLoader = (\n",
            "    DataLoader(SaltDataset(X_train, y_train, depth_train,\n",
            "                           np.zeros_like(X_train_mean_img), out_size=128,  out_ch=1,\n",
            "                           transform=p.torch_transform()), **train_data_params)\n",
            ")\n",
            "\n",
            "val_dataLoader = (\n",
            "    DataLoader(SaltDataset(X_val, y_val, depth_val, \n",
            "                           np.zeros_like(X_train_mean_img), out_size=128, out_ch=1), **val_data_params)\n",
            ")\n",
            "\n",
            "dataloaders = {'train': train_dataLoader, 'val':val_dataLoader}\n",
            "\n",
            "11/10/2018 01:46:25 - salt_model_v37.42_high_lovasz_loss_cv_ens - INFO - \n",
            "saltnet = UResNet(pretrained=True)\n",
            "loss_fn_bce = nn.BCEWithLogitsLoss(pos_weight=torch.tensor(2.0).type(dtype))\n",
            "#loss_focal = FocalLoss(0.25, 2, logits=True)\n",
            "loss_lovasz_hinge = LovaszHingeLoss()\n",
            "resnet_params = (\n",
            "    list(saltnet.conv1.parameters()) + \n",
            "    list(saltnet.encoder2.parameters()) + \n",
            "    list(saltnet.encoder3.parameters()) + \n",
            "    list(saltnet.encoder4.parameters()) + \n",
            "    list(saltnet.encoder5.parameters())\n",
            ")\n",
            "\n",
            "unet_params = (\n",
            "    list(saltnet.center.parameters()) + \n",
            "    list(saltnet.decoder5.parameters()) + \n",
            "    list(saltnet.decoder4.parameters()) + \n",
            "    list(saltnet.decoder3.parameters()) + \n",
            "    list(saltnet.decoder2.parameters()) + \n",
            "    list(saltnet.decoder1.parameters())  + \n",
            "    list(saltnet.se_f.parameters()) + \n",
            "    list(saltnet.outc.parameters())\n",
            ")\n",
            "optimizer = optim.Adam([    \n",
            "    {'params': resnet_params, 'lr': 1e-4},\n",
            "    {'params': unet_params, 'lr': 1e-3},\n",
            "], weight_decay=0.0001)\n",
            "\n",
            "\n",
            "scheduler = PolyLR(optimizer, [1e-4, 1e-3], lr_decay_iter=1, max_iter=150, power=0.9)\n",
            "model_save_name = model_file_suffix\n",
            "log.info(model_save_name)\n",
            "\n",
            "11/10/2018 01:46:25 - salt_model_v37.42_high_lovasz_loss_cv_ens - INFO - \n",
            "train_params = {\n",
            "    'model_save_name': model_save_name,\n",
            "    'save_model_every': 20,\n",
            "    'save_log_every': 2,\n",
            "    'num_epochs': 150,\n",
            "    'log': log,\n",
            "    'mask_cutoff': 0.,\n",
            "    'model_save_iou_threshold': 0.81\n",
            "    }\n",
            "\n",
            "11/10/2018 01:46:25 - salt_model_v37.42_high_lovasz_loss_cv_ens - INFO - \n",
            "train_model(saltnet, dataloaders, (loss_fn_bce, loss_lovasz_hinge), (1, 0.3), optimizer, scheduler, train_params, all_data)\n",
            "\n"
          ],
          "name": "stderr"
        },
        {
          "output_type": "stream",
          "text": [
            "ResNet using pretrained weights.\n"
          ],
          "name": "stdout"
        },
        {
          "output_type": "stream",
          "text": [
            "Downloading: \"https://download.pytorch.org/models/resnet34-333f7ec4.pth\" to /root/.torch/models/resnet34-333f7ec4.pth\n",
            "100%|██████████| 87306240/87306240 [00:02<00:00, 31026088.18it/s]\n",
            "11/10/2018 01:46:29 - salt_model_v37.42_high_lovasz_loss_cv_ens - INFO - ../salt_net/salt_model_v37.42_high_lovasz_loss_cv_ens_2018_10_11_11_43_48.ckp\n",
            "11/10/2018 01:46:29 - salt_model_v37.42_high_lovasz_loss_cv_ens - INFO - Start Training...\n",
            "11/10/2018 01:46:29 - salt_model_v37.42_high_lovasz_loss_cv_ens - INFO - ({'train': <torch.utils.data.dataloader.DataLoader object at 0x7f5c53a256d8>, 'val': <torch.utils.data.dataloader.DataLoader object at 0x7f5c53a257b8>}, (BCEWithLogitsLoss(), LovaszHingeLoss()), (1, 0.3), Adam (\n",
            "Parameter Group 0\n",
            "    amsgrad: False\n",
            "    betas: (0.9, 0.999)\n",
            "    eps: 1e-08\n",
            "    lr: 0.0001\n",
            "    weight_decay: 0.0001\n",
            "\n",
            "Parameter Group 1\n",
            "    amsgrad: False\n",
            "    betas: (0.9, 0.999)\n",
            "    eps: 1e-08\n",
            "    lr: 0.001\n",
            "    weight_decay: 0.0001\n",
            "), <salt_func_lib.PolyLR object at 0x7f5c94c9fc88>, {'model_save_name': '../salt_net/salt_model_v37.42_high_lovasz_loss_cv_ens_2018_10_11_11_43_48.ckp', 'save_model_every': 20, 'save_log_every': 2, 'num_epochs': 150, 'log': <Logger salt_model_v37.42_high_lovasz_loss_cv_ens (DEBUG)>, 'mask_cutoff': 0.0, 'model_save_iou_threshold': 0.81})\n",
            "11/10/2018 01:46:29 - salt_model_v37.42_high_lovasz_loss_cv_ens - INFO - Epoch 1/150\n",
            "11/10/2018 01:46:29 - salt_model_v37.42_high_lovasz_loss_cv_ens - INFO - --------------------\n",
            "/usr/local/lib/python3.6/dist-packages/torch/nn/functional.py:1890: UserWarning: nn.functional.upsample is deprecated. Use nn.functional.interpolate instead.\n",
            "  warnings.warn(\"nn.functional.upsample is deprecated. Use nn.functional.interpolate instead.\")\n"
          ],
          "name": "stderr"
        },
        {
          "output_type": "error",
          "ename": "KeyboardInterrupt",
          "evalue": "ignored",
          "traceback": [
            "\u001b[0;31m---------------------------------------------------------------------------\u001b[0m",
            "\u001b[0;31mKeyboardInterrupt\u001b[0m                         Traceback (most recent call last)",
            "\u001b[0;32m<ipython-input-60-f4a88094b801>\u001b[0m in \u001b[0;36m<module>\u001b[0;34m()\u001b[0m\n\u001b[0;32m----> 1\u001b[0;31m \u001b[0msetup_train\u001b[0m\u001b[0;34m(\u001b[0m\u001b[0mconfig_list\u001b[0m\u001b[0;34m)\u001b[0m\u001b[0;34m\u001b[0m\u001b[0m\n\u001b[0m",
            "\u001b[0;32m<ipython-input-9-541c93afed69>\u001b[0m in \u001b[0;36msetup_train\u001b[0;34m(config_list)\u001b[0m\n\u001b[1;32m      3\u001b[0m         \u001b[0mlog\u001b[0m\u001b[0;34m.\u001b[0m\u001b[0minfo\u001b[0m\u001b[0;34m(\u001b[0m\u001b[0mconf\u001b[0m\u001b[0;34m)\u001b[0m\u001b[0;34m\u001b[0m\u001b[0m\n\u001b[1;32m      4\u001b[0m     \u001b[0;32mfor\u001b[0m \u001b[0mconf\u001b[0m \u001b[0;32min\u001b[0m \u001b[0mconfig_list\u001b[0m\u001b[0;34m:\u001b[0m\u001b[0;34m\u001b[0m\u001b[0m\n\u001b[0;32m----> 5\u001b[0;31m         \u001b[0mexec\u001b[0m\u001b[0;34m(\u001b[0m\u001b[0mconf\u001b[0m\u001b[0;34m)\u001b[0m\u001b[0;34m\u001b[0m\u001b[0m\n\u001b[0m",
            "\u001b[0;32m<string>\u001b[0m in \u001b[0;36m<module>\u001b[0;34m()\u001b[0m\n",
            "\u001b[0;32m/content/salt_oil/salt_func_lib.py\u001b[0m in \u001b[0;36mtrain_model\u001b[0;34m(model, dataloaders, loss_fns, loss_fn_weights, optimizer, scheduler, train_params, other_data)\u001b[0m\n\u001b[1;32m   1132\u001b[0m                         \u001b[0mloss\u001b[0m \u001b[0;34m=\u001b[0m \u001b[0mlosses\u001b[0m\u001b[0;34m[\u001b[0m\u001b[0;34m-\u001b[0m\u001b[0;36m1\u001b[0m\u001b[0;34m]\u001b[0m\u001b[0;34m\u001b[0m\u001b[0m\n\u001b[1;32m   1133\u001b[0m                         \u001b[0mloss\u001b[0m\u001b[0;34m.\u001b[0m\u001b[0mbackward\u001b[0m\u001b[0;34m(\u001b[0m\u001b[0;34m)\u001b[0m\u001b[0;34m\u001b[0m\u001b[0m\n\u001b[0;32m-> 1134\u001b[0;31m                         \u001b[0moptimizer\u001b[0m\u001b[0;34m.\u001b[0m\u001b[0mstep\u001b[0m\u001b[0;34m(\u001b[0m\u001b[0;34m)\u001b[0m\u001b[0;34m\u001b[0m\u001b[0m\n\u001b[0m\u001b[1;32m   1135\u001b[0m                         \u001b[0miter_count\u001b[0m \u001b[0;34m+=\u001b[0m \u001b[0;36m1\u001b[0m\u001b[0;34m\u001b[0m\u001b[0m\n\u001b[1;32m   1136\u001b[0m             best_iou, best_model = (\n",
            "\u001b[0;32m/usr/local/lib/python3.6/dist-packages/torch/optim/adam.py\u001b[0m in \u001b[0;36mstep\u001b[0;34m(self, closure)\u001b[0m\n\u001b[1;32m     87\u001b[0m \u001b[0;34m\u001b[0m\u001b[0m\n\u001b[1;32m     88\u001b[0m                 \u001b[0;32mif\u001b[0m \u001b[0mgroup\u001b[0m\u001b[0;34m[\u001b[0m\u001b[0;34m'weight_decay'\u001b[0m\u001b[0;34m]\u001b[0m \u001b[0;34m!=\u001b[0m \u001b[0;36m0\u001b[0m\u001b[0;34m:\u001b[0m\u001b[0;34m\u001b[0m\u001b[0m\n\u001b[0;32m---> 89\u001b[0;31m                     \u001b[0mgrad\u001b[0m \u001b[0;34m=\u001b[0m \u001b[0mgrad\u001b[0m\u001b[0;34m.\u001b[0m\u001b[0madd\u001b[0m\u001b[0;34m(\u001b[0m\u001b[0mgroup\u001b[0m\u001b[0;34m[\u001b[0m\u001b[0;34m'weight_decay'\u001b[0m\u001b[0;34m]\u001b[0m\u001b[0;34m,\u001b[0m \u001b[0mp\u001b[0m\u001b[0;34m.\u001b[0m\u001b[0mdata\u001b[0m\u001b[0;34m)\u001b[0m\u001b[0;34m\u001b[0m\u001b[0m\n\u001b[0m\u001b[1;32m     90\u001b[0m \u001b[0;34m\u001b[0m\u001b[0m\n\u001b[1;32m     91\u001b[0m                 \u001b[0;31m# Decay the first and second moment running average coefficient\u001b[0m\u001b[0;34m\u001b[0m\u001b[0;34m\u001b[0m\u001b[0m\n",
            "\u001b[0;31mKeyboardInterrupt\u001b[0m: "
          ]
        }
      ]
    },
    {
      "metadata": {
        "id": "9MW3YwaZQmOz",
        "colab_type": "text"
      },
      "cell_type": "markdown",
      "source": [
        "## Load Trained Model"
      ]
    },
    {
      "metadata": {
        "id": "utZQycyOsUun",
        "colab_type": "code",
        "colab": {}
      },
      "cell_type": "code",
      "source": [
        "ls"
      ],
      "execution_count": 0,
      "outputs": []
    },
    {
      "metadata": {
        "id": "Rg5OoGT5YI-d",
        "colab_type": "code",
        "outputId": "f1b9bfc1-9207-4254-d53d-3d805cbfcb0a",
        "colab": {
          "base_uri": "https://localhost:8080/",
          "height": 35
        }
      },
      "cell_type": "code",
      "source": [
        "cd ../salt_net"
      ],
      "execution_count": 0,
      "outputs": [
        {
          "output_type": "stream",
          "text": [
            "/content/salt_net\n"
          ],
          "name": "stdout"
        }
      ]
    },
    {
      "metadata": {
        "id": "19YvCTYQS-Se",
        "colab_type": "code",
        "outputId": "1466848b-f072-44f2-c230-901f41c0a978",
        "colab": {
          "base_uri": "https://localhost:8080/",
          "height": 35
        }
      },
      "cell_type": "code",
      "source": [
        "loaded_model = UResNet(pretrained=False)\n",
        "\n",
        "model_file_suffix = \"salt_model_v37.42_high_lovasz_loss_cv0_2018_10_09_21_41_43.ckp\"\n",
        "model_state_dict = torch.load(join_files(model_file_suffix, '.', returnFileObject=True, removeChunks=False))\n",
        "loaded_model.load_state_dict(model_state_dict['model'])"
      ],
      "execution_count": 0,
      "outputs": [
        {
          "output_type": "stream",
          "text": [
            "ResNetnot using pretrained weights.\n"
          ],
          "name": "stdout"
        }
      ]
    },
    {
      "metadata": {
        "id": "lb3844g-Z0os",
        "colab_type": "code",
        "colab": {}
      },
      "cell_type": "code",
      "source": [
        ""
      ],
      "execution_count": 0,
      "outputs": []
    },
    {
      "metadata": {
        "id": "KmJfjNX3Z0rz",
        "colab_type": "code",
        "colab": {}
      },
      "cell_type": "code",
      "source": [
        "loaded_model = UResNet(pretrained=False)\n",
        "\n",
        "model_file_suffix = \"salt_model_v37.42_high_lovasz_loss_cv0_2018_10_09_21_41_43.ckp\"\n",
        "model_state_dict = torch.load(join_files(model_file_suffix, '.', returnFileObject=True, removeChunks=False))\n",
        "loaded_model.load_state_dict(model_state_dict['model'])"
      ],
      "execution_count": 0,
      "outputs": []
    },
    {
      "metadata": {
        "id": "WUbpjEHSZ0u3",
        "colab_type": "code",
        "colab": {}
      },
      "cell_type": "code",
      "source": [
        ""
      ],
      "execution_count": 0,
      "outputs": []
    },
    {
      "metadata": {
        "id": "NS-Txg6dZ0yD",
        "colab_type": "code",
        "colab": {}
      },
      "cell_type": "code",
      "source": [
        ""
      ],
      "execution_count": 0,
      "outputs": []
    },
    {
      "metadata": {
        "id": "PbgxXtYH3KpR",
        "colab_type": "text"
      },
      "cell_type": "markdown",
      "source": [
        "### Make Predictions on validation set"
      ]
    },
    {
      "metadata": {
        "id": "W0cFNMM0QmO4",
        "colab_type": "text"
      },
      "cell_type": "markdown",
      "source": [
        "### Set model to evaluation mode"
      ]
    },
    {
      "metadata": {
        "id": "izo8iByg3KpP",
        "colab_type": "code",
        "colab": {}
      },
      "cell_type": "code",
      "source": [
        "loaded_model.eval()\n",
        "assert loaded_model.training == False"
      ],
      "execution_count": 0,
      "outputs": []
    },
    {
      "metadata": {
        "id": "zfdN-P-j3KpS",
        "colab_type": "code",
        "colab": {}
      },
      "cell_type": "code",
      "source": [
        "val_dataLoader = DataLoader(SaltDataset(X_val, y_val, depth_val, X_train_mean_img, out_size=128), batch_size=16)"
      ],
      "execution_count": 0,
      "outputs": []
    },
    {
      "metadata": {
        "id": "7M0ZHG7o6swA",
        "colab_type": "code",
        "colab": {}
      },
      "cell_type": "code",
      "source": [
        "if torch.cuda.is_available():\n",
        "    loaded_model.cuda()"
      ],
      "execution_count": 0,
      "outputs": []
    },
    {
      "metadata": {
        "id": "F8_AINAPClPN",
        "colab_type": "text"
      },
      "cell_type": "markdown",
      "source": [
        "### Eval model on Val data set"
      ]
    },
    {
      "metadata": {
        "id": "JMuArCUd3KpU",
        "colab_type": "code",
        "outputId": "6ec391f1-46ce-44a3-872e-ea01b08b5650",
        "colab": {
          "base_uri": "https://localhost:8080/",
          "height": 72
        }
      },
      "cell_type": "code",
      "source": [
        "y_val_pred = []\n",
        "\n",
        "with torch.no_grad():\n",
        "    for X_val_batch, y_val_batch, depth_val_batch, X_val_id_batch in val_dataLoader:\n",
        "        y_val_pred.append(loaded_model(X_val_batch))\n",
        "y_val_pred = torch.cat(y_val_pred)"
      ],
      "execution_count": 0,
      "outputs": [
        {
          "output_type": "stream",
          "text": [
            "/usr/local/lib/python3.6/dist-packages/torch/nn/functional.py:1890: UserWarning: nn.functional.upsample is deprecated. Use nn.functional.interpolate instead.\n",
            "  warnings.warn(\"nn.functional.upsample is deprecated. Use nn.functional.interpolate instead.\")\n"
          ],
          "name": "stderr"
        }
      ]
    },
    {
      "metadata": {
        "id": "B7EYzvT0fyPx",
        "colab_type": "code",
        "outputId": "7656ae0c-b898-4396-f962-e396b34b1f1b",
        "colab": {
          "base_uri": "https://localhost:8080/",
          "height": 72
        }
      },
      "cell_type": "code",
      "source": [
        "p = Pipeline_Salt()\n",
        "p.flip_left_right(probability=1)\n",
        "val_dataLoader = DataLoader(SaltDataset(X_val, y_val, depth_val, X_train_mean_img, out_size=128, out_ch=1,\n",
        "                           transform=p.torch_transform()), batch_size=16)\n",
        "y_val_pred_flip = []\n",
        "\n",
        "with torch.no_grad():\n",
        "    for X_val_batch, y_val_batch, depth_val_batch, X_val_id_batch in val_dataLoader:\n",
        "        y_val_pred_flip.append(loaded_model(X_val_batch))\n",
        "y_val_pred_flip = torch.cat(y_val_pred_flip)\n",
        "y_val_pred_flip = torch.flip(y_val_pred_flip,[2])"
      ],
      "execution_count": 0,
      "outputs": [
        {
          "output_type": "stream",
          "text": [
            "/usr/local/lib/python3.6/dist-packages/torch/nn/functional.py:1890: UserWarning: nn.functional.upsample is deprecated. Use nn.functional.interpolate instead.\n",
            "  warnings.warn(\"nn.functional.upsample is deprecated. Use nn.functional.interpolate instead.\")\n"
          ],
          "name": "stderr"
        }
      ]
    },
    {
      "metadata": {
        "id": "u1_1icxBCsP3",
        "colab_type": "text"
      },
      "cell_type": "markdown",
      "source": [
        "#### merge normal pred and hflip pred"
      ]
    },
    {
      "metadata": {
        "id": "FZNYVKKPf0if",
        "colab_type": "code",
        "colab": {}
      },
      "cell_type": "code",
      "source": [
        "y_val_pred_ens = torch.where(y_val_pred.abs() > y_val_pred_flip.abs(), y_val_pred, y_val_pred_flip)"
      ],
      "execution_count": 0,
      "outputs": []
    },
    {
      "metadata": {
        "id": "wBO4WrvnCyex",
        "colab_type": "text"
      },
      "cell_type": "markdown",
      "source": [
        "#### Check normal pred IOU"
      ]
    },
    {
      "metadata": {
        "id": "hSYVoI88HApH",
        "colab_type": "code",
        "outputId": "71790f29-2cdd-4072-d5a1-b9bbd54218f4",
        "colab": {
          "base_uri": "https://localhost:8080/",
          "height": 55
        }
      },
      "cell_type": "code",
      "source": [
        "y_val_pred_adj = adjust_predictions(0, X_val, y_val_pred.gt(0), y_val.squeeze())"
      ],
      "execution_count": 0,
      "outputs": [
        {
          "output_type": "stream",
          "text": [
            "10/10/2018 11:21:27 - salt_model_v37.42_high_lovasz_loss_cv0_eval - INFO - IOU score before: 0.82025, IOU Score after:0.82025\n"
          ],
          "name": "stderr"
        }
      ]
    },
    {
      "metadata": {
        "id": "EzTNcpMUC6Qo",
        "colab_type": "text"
      },
      "cell_type": "markdown",
      "source": [
        "#### Check TTA pred IOU"
      ]
    },
    {
      "metadata": {
        "id": "230OrjoPf0_K",
        "colab_type": "code",
        "outputId": "95311648-f103-448a-d939-0566082fa48f",
        "colab": {
          "base_uri": "https://localhost:8080/",
          "height": 55
        }
      },
      "cell_type": "code",
      "source": [
        "y_val_pred_adj = adjust_predictions(0, X_val, y_val_pred_ens.gt(0), y_val.squeeze())"
      ],
      "execution_count": 0,
      "outputs": [
        {
          "output_type": "stream",
          "text": [
            "10/10/2018 11:21:28 - salt_model_v37.42_high_lovasz_loss_cv0_eval - INFO - IOU score before: 0.8186250000000002, IOU Score after:0.8186250000000002\n"
          ],
          "name": "stderr"
        }
      ]
    },
    {
      "metadata": {
        "id": "PYOWBAw7DCss",
        "colab_type": "text"
      },
      "cell_type": "markdown",
      "source": [
        "### Find best mask cutoff"
      ]
    },
    {
      "metadata": {
        "id": "dg4ZJEH_7VV2",
        "colab_type": "code",
        "outputId": "5c23b2e4-58c9-4355-b512-1d15cd669f09",
        "colab": {
          "base_uri": "https://localhost:8080/",
          "height": 1815
        }
      },
      "cell_type": "code",
      "source": [
        "results=[]\n",
        "for cut_off in np.r_[-0.1:0.1:50j]:\n",
        "  print(cut_off)\n",
        "  results.append(calc_mean_iou(adjust_predictions(0, X_val, y_val_pred_ens.gt(cut_off), y_val.squeeze()), y_val.squeeze()))"
      ],
      "execution_count": 0,
      "outputs": [
        {
          "output_type": "stream",
          "text": [
            "10/10/2018 11:21:30 - salt_model_v37.42_high_lovasz_loss_cv0_eval - INFO - IOU score before: 0.8173750000000001, IOU Score after:0.8173750000000001\n"
          ],
          "name": "stderr"
        },
        {
          "output_type": "stream",
          "text": [
            "-0.1\n"
          ],
          "name": "stdout"
        },
        {
          "output_type": "stream",
          "text": [
            "10/10/2018 11:21:30 - salt_model_v37.42_high_lovasz_loss_cv0_eval - INFO - IOU score before: 0.8173750000000001, IOU Score after:0.8173750000000001\n"
          ],
          "name": "stderr"
        },
        {
          "output_type": "stream",
          "text": [
            "-0.09591836734693879\n"
          ],
          "name": "stdout"
        },
        {
          "output_type": "stream",
          "text": [
            "10/10/2018 11:21:31 - salt_model_v37.42_high_lovasz_loss_cv0_eval - INFO - IOU score before: 0.8173750000000001, IOU Score after:0.8173750000000001\n"
          ],
          "name": "stderr"
        },
        {
          "output_type": "stream",
          "text": [
            "-0.09183673469387756\n"
          ],
          "name": "stdout"
        },
        {
          "output_type": "stream",
          "text": [
            "10/10/2018 11:21:31 - salt_model_v37.42_high_lovasz_loss_cv0_eval - INFO - IOU score before: 0.8172499999999999, IOU Score after:0.8172499999999999\n"
          ],
          "name": "stderr"
        },
        {
          "output_type": "stream",
          "text": [
            "-0.08775510204081632\n"
          ],
          "name": "stdout"
        },
        {
          "output_type": "stream",
          "text": [
            "10/10/2018 11:21:31 - salt_model_v37.42_high_lovasz_loss_cv0_eval - INFO - IOU score before: 0.8172499999999999, IOU Score after:0.8172499999999999\n"
          ],
          "name": "stderr"
        },
        {
          "output_type": "stream",
          "text": [
            "-0.0836734693877551\n"
          ],
          "name": "stdout"
        },
        {
          "output_type": "stream",
          "text": [
            "10/10/2018 11:21:32 - salt_model_v37.42_high_lovasz_loss_cv0_eval - INFO - IOU score before: 0.8172499999999999, IOU Score after:0.8172499999999999\n"
          ],
          "name": "stderr"
        },
        {
          "output_type": "stream",
          "text": [
            "-0.07959183673469389\n"
          ],
          "name": "stdout"
        },
        {
          "output_type": "stream",
          "text": [
            "10/10/2018 11:21:32 - salt_model_v37.42_high_lovasz_loss_cv0_eval - INFO - IOU score before: 0.8172499999999999, IOU Score after:0.8172499999999999\n"
          ],
          "name": "stderr"
        },
        {
          "output_type": "stream",
          "text": [
            "-0.07551020408163266\n",
            "-0.07142857142857142\n"
          ],
          "name": "stdout"
        },
        {
          "output_type": "stream",
          "text": [
            "10/10/2018 11:21:32 - salt_model_v37.42_high_lovasz_loss_cv0_eval - INFO - IOU score before: 0.8172499999999999, IOU Score after:0.8172499999999999\n",
            "10/10/2018 11:21:32 - salt_model_v37.42_high_lovasz_loss_cv0_eval - INFO - IOU score before: 0.8172499999999999, IOU Score after:0.8172499999999999\n"
          ],
          "name": "stderr"
        },
        {
          "output_type": "stream",
          "text": [
            "-0.0673469387755102\n"
          ],
          "name": "stdout"
        },
        {
          "output_type": "stream",
          "text": [
            "10/10/2018 11:21:33 - salt_model_v37.42_high_lovasz_loss_cv0_eval - INFO - IOU score before: 0.8172499999999999, IOU Score after:0.8172499999999999\n"
          ],
          "name": "stderr"
        },
        {
          "output_type": "stream",
          "text": [
            "-0.06326530612244899\n"
          ],
          "name": "stdout"
        },
        {
          "output_type": "stream",
          "text": [
            "10/10/2018 11:21:33 - salt_model_v37.42_high_lovasz_loss_cv0_eval - INFO - IOU score before: 0.8172499999999999, IOU Score after:0.8172499999999999\n"
          ],
          "name": "stderr"
        },
        {
          "output_type": "stream",
          "text": [
            "-0.05918367346938776\n",
            "-0.05510204081632653\n"
          ],
          "name": "stdout"
        },
        {
          "output_type": "stream",
          "text": [
            "10/10/2018 11:21:33 - salt_model_v37.42_high_lovasz_loss_cv0_eval - INFO - IOU score before: 0.8173750000000001, IOU Score after:0.8173750000000001\n",
            "10/10/2018 11:21:34 - salt_model_v37.42_high_lovasz_loss_cv0_eval - INFO - IOU score before: 0.8173750000000001, IOU Score after:0.8173750000000001\n"
          ],
          "name": "stderr"
        },
        {
          "output_type": "stream",
          "text": [
            "-0.05102040816326531\n"
          ],
          "name": "stdout"
        },
        {
          "output_type": "stream",
          "text": [
            "10/10/2018 11:21:34 - salt_model_v37.42_high_lovasz_loss_cv0_eval - INFO - IOU score before: 0.8175, IOU Score after:0.8175\n"
          ],
          "name": "stderr"
        },
        {
          "output_type": "stream",
          "text": [
            "-0.04693877551020408\n"
          ],
          "name": "stdout"
        },
        {
          "output_type": "stream",
          "text": [
            "10/10/2018 11:21:34 - salt_model_v37.42_high_lovasz_loss_cv0_eval - INFO - IOU score before: 0.8175, IOU Score after:0.8175\n"
          ],
          "name": "stderr"
        },
        {
          "output_type": "stream",
          "text": [
            "-0.04285714285714286\n"
          ],
          "name": "stdout"
        },
        {
          "output_type": "stream",
          "text": [
            "10/10/2018 11:21:34 - salt_model_v37.42_high_lovasz_loss_cv0_eval - INFO - IOU score before: 0.817625, IOU Score after:0.817625\n"
          ],
          "name": "stderr"
        },
        {
          "output_type": "stream",
          "text": [
            "-0.03877551020408163\n",
            "-0.03469387755102041\n"
          ],
          "name": "stdout"
        },
        {
          "output_type": "stream",
          "text": [
            "10/10/2018 11:21:35 - salt_model_v37.42_high_lovasz_loss_cv0_eval - INFO - IOU score before: 0.8175, IOU Score after:0.8175\n"
          ],
          "name": "stderr"
        },
        {
          "output_type": "stream",
          "text": [
            "-0.03061224489795919\n"
          ],
          "name": "stdout"
        },
        {
          "output_type": "stream",
          "text": [
            "10/10/2018 11:21:35 - salt_model_v37.42_high_lovasz_loss_cv0_eval - INFO - IOU score before: 0.8175, IOU Score after:0.8175\n"
          ],
          "name": "stderr"
        },
        {
          "output_type": "stream",
          "text": [
            "-0.026530612244897958\n"
          ],
          "name": "stdout"
        },
        {
          "output_type": "stream",
          "text": [
            "10/10/2018 11:21:35 - salt_model_v37.42_high_lovasz_loss_cv0_eval - INFO - IOU score before: 0.81875, IOU Score after:0.81875\n"
          ],
          "name": "stderr"
        },
        {
          "output_type": "stream",
          "text": [
            "-0.022448979591836726\n"
          ],
          "name": "stdout"
        },
        {
          "output_type": "stream",
          "text": [
            "10/10/2018 11:21:36 - salt_model_v37.42_high_lovasz_loss_cv0_eval - INFO - IOU score before: 0.81875, IOU Score after:0.81875\n"
          ],
          "name": "stderr"
        },
        {
          "output_type": "stream",
          "text": [
            "-0.01836734693877551\n"
          ],
          "name": "stdout"
        },
        {
          "output_type": "stream",
          "text": [
            "10/10/2018 11:21:36 - salt_model_v37.42_high_lovasz_loss_cv0_eval - INFO - IOU score before: 0.81875, IOU Score after:0.81875\n"
          ],
          "name": "stderr"
        },
        {
          "output_type": "stream",
          "text": [
            "-0.01428571428571429\n"
          ],
          "name": "stdout"
        },
        {
          "output_type": "stream",
          "text": [
            "10/10/2018 11:21:36 - salt_model_v37.42_high_lovasz_loss_cv0_eval - INFO - IOU score before: 0.81875, IOU Score after:0.81875\n",
            "10/10/2018 11:21:36 - salt_model_v37.42_high_lovasz_loss_cv0_eval - INFO - IOU score before: 0.81875, IOU Score after:0.81875\n"
          ],
          "name": "stderr"
        },
        {
          "output_type": "stream",
          "text": [
            "-0.010204081632653059\n",
            "-0.006122448979591827\n"
          ],
          "name": "stdout"
        },
        {
          "output_type": "stream",
          "text": [
            "10/10/2018 11:21:37 - salt_model_v37.42_high_lovasz_loss_cv0_eval - INFO - IOU score before: 0.81875, IOU Score after:0.81875\n",
            "10/10/2018 11:21:37 - salt_model_v37.42_high_lovasz_loss_cv0_eval - INFO - IOU score before: 0.8186250000000002, IOU Score after:0.8186250000000002\n"
          ],
          "name": "stderr"
        },
        {
          "output_type": "stream",
          "text": [
            "-0.002040816326530609\n"
          ],
          "name": "stdout"
        },
        {
          "output_type": "stream",
          "text": [
            "10/10/2018 11:21:37 - salt_model_v37.42_high_lovasz_loss_cv0_eval - INFO - IOU score before: 0.8186250000000002, IOU Score after:0.8186250000000002\n"
          ],
          "name": "stderr"
        },
        {
          "output_type": "stream",
          "text": [
            "0.002040816326530609\n"
          ],
          "name": "stdout"
        },
        {
          "output_type": "stream",
          "text": [
            "10/10/2018 11:21:37 - salt_model_v37.42_high_lovasz_loss_cv0_eval - INFO - IOU score before: 0.8186250000000002, IOU Score after:0.8186250000000002\n"
          ],
          "name": "stderr"
        },
        {
          "output_type": "stream",
          "text": [
            "0.006122448979591841\n"
          ],
          "name": "stdout"
        },
        {
          "output_type": "stream",
          "text": [
            "10/10/2018 11:21:38 - salt_model_v37.42_high_lovasz_loss_cv0_eval - INFO - IOU score before: 0.8186250000000002, IOU Score after:0.8186250000000002\n"
          ],
          "name": "stderr"
        },
        {
          "output_type": "stream",
          "text": [
            "0.010204081632653073\n"
          ],
          "name": "stdout"
        },
        {
          "output_type": "stream",
          "text": [
            "10/10/2018 11:21:38 - salt_model_v37.42_high_lovasz_loss_cv0_eval - INFO - IOU score before: 0.8186250000000002, IOU Score after:0.8186250000000002\n"
          ],
          "name": "stderr"
        },
        {
          "output_type": "stream",
          "text": [
            "0.01428571428571429\n",
            "0.01836734693877551\n"
          ],
          "name": "stdout"
        },
        {
          "output_type": "stream",
          "text": [
            "10/10/2018 11:21:38 - salt_model_v37.42_high_lovasz_loss_cv0_eval - INFO - IOU score before: 0.8186250000000002, IOU Score after:0.8186250000000002\n",
            "10/10/2018 11:21:39 - salt_model_v37.42_high_lovasz_loss_cv0_eval - INFO - IOU score before: 0.8184999999999999, IOU Score after:0.8184999999999999\n"
          ],
          "name": "stderr"
        },
        {
          "output_type": "stream",
          "text": [
            "0.02244897959183674\n"
          ],
          "name": "stdout"
        },
        {
          "output_type": "stream",
          "text": [
            "10/10/2018 11:21:39 - salt_model_v37.42_high_lovasz_loss_cv0_eval - INFO - IOU score before: 0.8184999999999999, IOU Score after:0.8184999999999999\n"
          ],
          "name": "stderr"
        },
        {
          "output_type": "stream",
          "text": [
            "0.026530612244897972\n"
          ],
          "name": "stdout"
        },
        {
          "output_type": "stream",
          "text": [
            "10/10/2018 11:21:39 - salt_model_v37.42_high_lovasz_loss_cv0_eval - INFO - IOU score before: 0.8184999999999999, IOU Score after:0.8184999999999999\n"
          ],
          "name": "stderr"
        },
        {
          "output_type": "stream",
          "text": [
            "0.03061224489795919\n"
          ],
          "name": "stdout"
        },
        {
          "output_type": "stream",
          "text": [
            "10/10/2018 11:21:39 - salt_model_v37.42_high_lovasz_loss_cv0_eval - INFO - IOU score before: 0.8184999999999999, IOU Score after:0.8184999999999999\n"
          ],
          "name": "stderr"
        },
        {
          "output_type": "stream",
          "text": [
            "0.03469387755102041\n"
          ],
          "name": "stdout"
        },
        {
          "output_type": "stream",
          "text": [
            "10/10/2018 11:21:40 - salt_model_v37.42_high_lovasz_loss_cv0_eval - INFO - IOU score before: 0.8184999999999999, IOU Score after:0.8184999999999999\n"
          ],
          "name": "stderr"
        },
        {
          "output_type": "stream",
          "text": [
            "0.038775510204081626\n"
          ],
          "name": "stdout"
        },
        {
          "output_type": "stream",
          "text": [
            "10/10/2018 11:21:40 - salt_model_v37.42_high_lovasz_loss_cv0_eval - INFO - IOU score before: 0.8184999999999999, IOU Score after:0.8184999999999999\n"
          ],
          "name": "stderr"
        },
        {
          "output_type": "stream",
          "text": [
            "0.04285714285714287\n"
          ],
          "name": "stdout"
        },
        {
          "output_type": "stream",
          "text": [
            "10/10/2018 11:21:40 - salt_model_v37.42_high_lovasz_loss_cv0_eval - INFO - IOU score before: 0.8184999999999999, IOU Score after:0.8184999999999999\n"
          ],
          "name": "stderr"
        },
        {
          "output_type": "stream",
          "text": [
            "0.04693877551020409\n"
          ],
          "name": "stdout"
        },
        {
          "output_type": "stream",
          "text": [
            "10/10/2018 11:21:41 - salt_model_v37.42_high_lovasz_loss_cv0_eval - INFO - IOU score before: 0.8184999999999999, IOU Score after:0.8184999999999999\n"
          ],
          "name": "stderr"
        },
        {
          "output_type": "stream",
          "text": [
            "0.05102040816326531\n",
            "0.05510204081632655\n"
          ],
          "name": "stdout"
        },
        {
          "output_type": "stream",
          "text": [
            "10/10/2018 11:21:41 - salt_model_v37.42_high_lovasz_loss_cv0_eval - INFO - IOU score before: 0.8184999999999999, IOU Score after:0.8184999999999999\n",
            "10/10/2018 11:21:41 - salt_model_v37.42_high_lovasz_loss_cv0_eval - INFO - IOU score before: 0.8184999999999999, IOU Score after:0.8184999999999999\n"
          ],
          "name": "stderr"
        },
        {
          "output_type": "stream",
          "text": [
            "0.05918367346938777\n"
          ],
          "name": "stdout"
        },
        {
          "output_type": "stream",
          "text": [
            "10/10/2018 11:21:41 - salt_model_v37.42_high_lovasz_loss_cv0_eval - INFO - IOU score before: 0.8184999999999999, IOU Score after:0.8184999999999999\n"
          ],
          "name": "stderr"
        },
        {
          "output_type": "stream",
          "text": [
            "0.06326530612244899\n"
          ],
          "name": "stdout"
        },
        {
          "output_type": "stream",
          "text": [
            "10/10/2018 11:21:42 - salt_model_v37.42_high_lovasz_loss_cv0_eval - INFO - IOU score before: 0.8184999999999999, IOU Score after:0.8184999999999999\n"
          ],
          "name": "stderr"
        },
        {
          "output_type": "stream",
          "text": [
            "0.0673469387755102\n",
            "0.07142857142857142\n"
          ],
          "name": "stdout"
        },
        {
          "output_type": "stream",
          "text": [
            "10/10/2018 11:21:42 - salt_model_v37.42_high_lovasz_loss_cv0_eval - INFO - IOU score before: 0.8184999999999999, IOU Score after:0.8184999999999999\n",
            "10/10/2018 11:21:42 - salt_model_v37.42_high_lovasz_loss_cv0_eval - INFO - IOU score before: 0.8183750000000001, IOU Score after:0.8183750000000001\n"
          ],
          "name": "stderr"
        },
        {
          "output_type": "stream",
          "text": [
            "0.07551020408163267\n"
          ],
          "name": "stdout"
        },
        {
          "output_type": "stream",
          "text": [
            "10/10/2018 11:21:43 - salt_model_v37.42_high_lovasz_loss_cv0_eval - INFO - IOU score before: 0.8183750000000001, IOU Score after:0.8183750000000001\n"
          ],
          "name": "stderr"
        },
        {
          "output_type": "stream",
          "text": [
            "0.07959183673469389\n"
          ],
          "name": "stdout"
        },
        {
          "output_type": "stream",
          "text": [
            "10/10/2018 11:21:43 - salt_model_v37.42_high_lovasz_loss_cv0_eval - INFO - IOU score before: 0.8183750000000001, IOU Score after:0.8183750000000001\n"
          ],
          "name": "stderr"
        },
        {
          "output_type": "stream",
          "text": [
            "0.0836734693877551\n"
          ],
          "name": "stdout"
        },
        {
          "output_type": "stream",
          "text": [
            "10/10/2018 11:21:43 - salt_model_v37.42_high_lovasz_loss_cv0_eval - INFO - IOU score before: 0.8182499999999999, IOU Score after:0.8182499999999999\n"
          ],
          "name": "stderr"
        },
        {
          "output_type": "stream",
          "text": [
            "0.08775510204081635\n",
            "0.09183673469387757\n"
          ],
          "name": "stdout"
        },
        {
          "output_type": "stream",
          "text": [
            "10/10/2018 11:21:43 - salt_model_v37.42_high_lovasz_loss_cv0_eval - INFO - IOU score before: 0.8182499999999999, IOU Score after:0.8182499999999999\n",
            "10/10/2018 11:21:44 - salt_model_v37.42_high_lovasz_loss_cv0_eval - INFO - IOU score before: 0.8182499999999999, IOU Score after:0.8182499999999999\n"
          ],
          "name": "stderr"
        },
        {
          "output_type": "stream",
          "text": [
            "0.09591836734693879\n"
          ],
          "name": "stdout"
        },
        {
          "output_type": "stream",
          "text": [
            "10/10/2018 11:21:44 - salt_model_v37.42_high_lovasz_loss_cv0_eval - INFO - IOU score before: 0.8182499999999999, IOU Score after:0.8182499999999999\n"
          ],
          "name": "stderr"
        },
        {
          "output_type": "stream",
          "text": [
            "0.1\n"
          ],
          "name": "stdout"
        }
      ]
    },
    {
      "metadata": {
        "id": "uXUNORfK8G4S",
        "colab_type": "code",
        "colab": {}
      },
      "cell_type": "code",
      "source": [
        "MASK_CUTOFF = np.r_[-0.1:0.1:50j][np.argmax(results)]\n",
        "ZERO_MASK_CUTOFF = 0"
      ],
      "execution_count": 0,
      "outputs": []
    },
    {
      "metadata": {
        "id": "5_ka-iqTgCYL",
        "colab_type": "code",
        "outputId": "cbe8e6f9-318e-4523-f3f3-f32d9351daf4",
        "colab": {
          "base_uri": "https://localhost:8080/",
          "height": 72
        }
      },
      "cell_type": "code",
      "source": [
        "log.info(f'MASK_CUTOFF: {MASK_CUTOFF}')\n",
        "log.info(f'ZERO_MASK_CUTOFF: {ZERO_MASK_CUTOFF}')"
      ],
      "execution_count": 0,
      "outputs": [
        {
          "output_type": "stream",
          "text": [
            "10/10/2018 11:21:47 - salt_model_v37.42_high_lovasz_loss_cv0_eval - INFO - MASK_CUTOFF: -0.026530612244897958\n",
            "10/10/2018 11:21:47 - salt_model_v37.42_high_lovasz_loss_cv0_eval - INFO - ZERO_MASK_CUTOFF: 0\n"
          ],
          "name": "stderr"
        }
      ]
    },
    {
      "metadata": {
        "id": "mQ2C6bakEDYE",
        "colab_type": "code",
        "outputId": "5c22759c-1207-433c-f6a0-cba6db6b7b99",
        "colab": {
          "base_uri": "https://localhost:8080/",
          "height": 55
        }
      },
      "cell_type": "code",
      "source": [
        "y_val_pred_adj = adjust_predictions(ZERO_MASK_CUTOFF, X_val, y_val_pred_ens.gt(MASK_CUTOFF), y_val.squeeze())"
      ],
      "execution_count": 0,
      "outputs": [
        {
          "output_type": "stream",
          "text": [
            "10/10/2018 11:21:48 - salt_model_v37.42_high_lovasz_loss_cv0_eval - INFO - IOU score before: 0.81875, IOU Score after:0.81875\n"
          ],
          "name": "stderr"
        }
      ]
    },
    {
      "metadata": {
        "id": "ZkzyRPIMDrAz",
        "colab_type": "text"
      },
      "cell_type": "markdown",
      "source": [
        "## Make predictions on test set using TTA"
      ]
    },
    {
      "metadata": {
        "id": "x38qXbAkmFSH",
        "colab_type": "code",
        "colab": {}
      },
      "cell_type": "code",
      "source": [
        "import numpy as np"
      ],
      "execution_count": 0,
      "outputs": []
    },
    {
      "metadata": {
        "id": "AfLrLArrEK5m",
        "colab_type": "text"
      },
      "cell_type": "markdown",
      "source": [
        "### Predict using original image"
      ]
    },
    {
      "metadata": {
        "id": "bUDZxfzlD_Os",
        "colab_type": "code",
        "colab": {}
      },
      "cell_type": "code",
      "source": [
        "test_dataLoader = DataLoader(SaltDataset(X_test, np.zeros_like(X_test), depth_test, X_train_mean_img, out_size=128), batch_size=32)"
      ],
      "execution_count": 0,
      "outputs": []
    },
    {
      "metadata": {
        "id": "cqKBooA3EC4b",
        "colab_type": "code",
        "outputId": "db4526d2-183e-4fa6-d095-d77a8e00135f",
        "colab": {
          "base_uri": "https://localhost:8080/",
          "height": 72
        }
      },
      "cell_type": "code",
      "source": [
        "y_test_pred_raw = []\n",
        "with torch.no_grad():\n",
        "    for X_test_batch, y_test_batch, depth_test_batch, X_test_id_batch in test_dataLoader:\n",
        "        y_test_pred_raw.append(loaded_model(X_test_batch))\n",
        "y_test_pred = torch.cat(y_test_pred_raw)"
      ],
      "execution_count": 0,
      "outputs": [
        {
          "output_type": "stream",
          "text": [
            "/usr/local/lib/python3.6/dist-packages/torch/nn/functional.py:1890: UserWarning: nn.functional.upsample is deprecated. Use nn.functional.interpolate instead.\n",
            "  warnings.warn(\"nn.functional.upsample is deprecated. Use nn.functional.interpolate instead.\")\n"
          ],
          "name": "stderr"
        }
      ]
    },
    {
      "metadata": {
        "id": "e7BiVrQKEFrk",
        "colab_type": "text"
      },
      "cell_type": "markdown",
      "source": [
        "### Predict using flipped images"
      ]
    },
    {
      "metadata": {
        "id": "KjPkHzKBmz7s",
        "colab_type": "code",
        "outputId": "ca243238-1621-4e96-c919-9e05acf325f9",
        "colab": {
          "base_uri": "https://localhost:8080/",
          "height": 72
        }
      },
      "cell_type": "code",
      "source": [
        "p = Pipeline_Salt()\n",
        "p.flip_left_right(probability=1)\n",
        "test_dataLoader = DataLoader(SaltDataset(X_test, np.zeros_like(X_test), depth_test, X_train_mean_img, out_size=128, out_ch=1,\n",
        "                           transform=p.torch_transform()), batch_size=32)\n",
        "y_test_pred_flip = []\n",
        "\n",
        "with torch.no_grad():\n",
        "    for X_test_batch, y_test_batch, depth_test_batch, X_test_id_batch in test_dataLoader:\n",
        "        y_test_pred_flip.append(loaded_model(X_test_batch))\n",
        "y_test_pred_flip = torch.cat(y_test_pred_flip)\n",
        "y_test_pred_flip = torch.flip(y_test_pred_flip,[2])"
      ],
      "execution_count": 0,
      "outputs": [
        {
          "output_type": "stream",
          "text": [
            "/usr/local/lib/python3.6/dist-packages/torch/nn/functional.py:1890: UserWarning: nn.functional.upsample is deprecated. Use nn.functional.interpolate instead.\n",
            "  warnings.warn(\"nn.functional.upsample is deprecated. Use nn.functional.interpolate instead.\")\n"
          ],
          "name": "stderr"
        }
      ]
    },
    {
      "metadata": {
        "id": "U9t1Z0kiEQkG",
        "colab_type": "text"
      },
      "cell_type": "markdown",
      "source": [
        "### Combine non-flip and flip predictions"
      ]
    },
    {
      "metadata": {
        "id": "_zUtOPXwmz7y",
        "colab_type": "code",
        "colab": {}
      },
      "cell_type": "code",
      "source": [
        "y_test_pred_ens = torch.where(y_test_pred.abs() > y_test_pred_flip.abs(), y_test_pred, y_test_pred_flip)"
      ],
      "execution_count": 0,
      "outputs": []
    },
    {
      "metadata": {
        "id": "bzkEuhBwEXBl",
        "colab_type": "text"
      },
      "cell_type": "markdown",
      "source": [
        "### Adjust predictions"
      ]
    },
    {
      "metadata": {
        "id": "JaDNBnwsBqF5",
        "colab_type": "code",
        "colab": {}
      },
      "cell_type": "code",
      "source": [
        "#MASK_CUTOFF = 0\n",
        "#ZERO_MASK_CUTOFF = 0"
      ],
      "execution_count": 0,
      "outputs": []
    },
    {
      "metadata": {
        "id": "89y4w6drFKSl",
        "colab_type": "code",
        "outputId": "8a85de83-0b70-4fe4-8490-e5311519f390",
        "colab": {
          "base_uri": "https://localhost:8080/",
          "height": 55
        }
      },
      "cell_type": "code",
      "source": [
        "log.info(f'MASK_CUTOFF:{MASK_CUTOFF}, ZERO_MASK_CUTOFF:{ZERO_MASK_CUTOFF}')"
      ],
      "execution_count": 0,
      "outputs": [
        {
          "output_type": "stream",
          "text": [
            "10/10/2018 11:40:11 - salt_model_v37.42_high_lovasz_loss_cv0_eval - INFO - MASK_CUTOFF:-0.026530612244897958, ZERO_MASK_CUTOFF:0\n"
          ],
          "name": "stderr"
        }
      ]
    },
    {
      "metadata": {
        "id": "kSe7dmyMqnPF",
        "colab_type": "code",
        "colab": {}
      },
      "cell_type": "code",
      "source": [
        "y_test_pred_adj = adjust_predictions(ZERO_MASK_CUTOFF, X_test, y_test_pred_ens.gt(MASK_CUTOFF))\n"
      ],
      "execution_count": 0,
      "outputs": []
    },
    {
      "metadata": {
        "id": "q0I883hCzJoi",
        "colab_type": "code",
        "colab": {}
      },
      "cell_type": "code",
      "source": [
        ""
      ],
      "execution_count": 0,
      "outputs": []
    },
    {
      "metadata": {
        "id": "9moMpT1mzNfO",
        "colab_type": "text"
      },
      "cell_type": "markdown",
      "source": [
        "# Predict on Train Data"
      ]
    },
    {
      "metadata": {
        "id": "BrX3FzU6zJ2k",
        "colab_type": "code",
        "outputId": "b1878a38-831a-4efe-d2c2-7573cbc64511",
        "colab": {
          "base_uri": "https://localhost:8080/",
          "height": 72
        }
      },
      "cell_type": "code",
      "source": [
        "train_dataLoader = DataLoader(SaltDataset(X_train, y_train, depth_train, X_train_mean_img, out_size=128), batch_size=32)\n",
        "y_train_pred = []\n",
        "\n",
        "with torch.no_grad():\n",
        "    for X_train_batch, y_train_batch, depth_train_batch, X_train_id_batch in train_dataLoader:\n",
        "        y_train_pred.append(loaded_model(X_train_batch))\n",
        "y_train_pred = torch.cat(y_train_pred)"
      ],
      "execution_count": 0,
      "outputs": [
        {
          "output_type": "stream",
          "text": [
            "/usr/local/lib/python3.6/dist-packages/torch/nn/functional.py:1890: UserWarning: nn.functional.upsample is deprecated. Use nn.functional.interpolate instead.\n",
            "  warnings.warn(\"nn.functional.upsample is deprecated. Use nn.functional.interpolate instead.\")\n"
          ],
          "name": "stderr"
        }
      ]
    },
    {
      "metadata": {
        "id": "EfbaoqfBzKAH",
        "colab_type": "code",
        "outputId": "c4a5c817-1ecf-460c-b2ac-c944c5fb912f",
        "colab": {
          "base_uri": "https://localhost:8080/",
          "height": 72
        }
      },
      "cell_type": "code",
      "source": [
        "p = Pipeline_Salt()\n",
        "p.flip_left_right(probability=1)\n",
        "train_dataLoader = DataLoader(SaltDataset(X_train, y_train, depth_train, X_train_mean_img, out_size=128, out_ch=1,\n",
        "                           transform=p.torch_transform()), batch_size=32)\n",
        "y_train_pred_flip = []\n",
        "\n",
        "with torch.no_grad():\n",
        "    for X_train_batch, y_train_batch, depth_train_batch, X_train_id_batch in train_dataLoader:\n",
        "        y_train_pred_flip.append(loaded_model(X_train_batch))\n",
        "y_train_pred_flip = torch.cat(y_train_pred_flip)\n",
        "y_train_pred_flip = torch.flip(y_train_pred_flip,[2])"
      ],
      "execution_count": 0,
      "outputs": [
        {
          "output_type": "stream",
          "text": [
            "/usr/local/lib/python3.6/dist-packages/torch/nn/functional.py:1890: UserWarning: nn.functional.upsample is deprecated. Use nn.functional.interpolate instead.\n",
            "  warnings.warn(\"nn.functional.upsample is deprecated. Use nn.functional.interpolate instead.\")\n"
          ],
          "name": "stderr"
        }
      ]
    },
    {
      "metadata": {
        "id": "LWHrlMiszKG0",
        "colab_type": "code",
        "colab": {}
      },
      "cell_type": "code",
      "source": [
        "y_train_pred_ens = torch.where(y_train_pred.abs() > y_train_pred_flip.abs(), y_train_pred, y_train_pred_flip)"
      ],
      "execution_count": 0,
      "outputs": []
    },
    {
      "metadata": {
        "id": "E1n2ae8czKO0",
        "colab_type": "code",
        "colab": {}
      },
      "cell_type": "code",
      "source": [
        ""
      ],
      "execution_count": 0,
      "outputs": []
    },
    {
      "metadata": {
        "id": "Bmi3NISwEaOt",
        "colab_type": "text"
      },
      "cell_type": "markdown",
      "source": [
        "### Prepare for submission"
      ]
    },
    {
      "metadata": {
        "id": "fATv5NS6hnkU",
        "colab_type": "code",
        "colab": {}
      },
      "cell_type": "code",
      "source": [
        "y_test_pred_rle = rle_encoder3d(y_test_pred_adj)"
      ],
      "execution_count": 0,
      "outputs": []
    },
    {
      "metadata": {
        "id": "hwSpGmvthnkd",
        "colab_type": "code",
        "colab": {}
      },
      "cell_type": "code",
      "source": [
        "df_test_rle = pd.DataFrame(index=misc_data['np_test_ids'], data=y_test_pred_rle).reset_index()"
      ],
      "execution_count": 0,
      "outputs": []
    },
    {
      "metadata": {
        "id": "r3bS6FoNhnki",
        "colab_type": "code",
        "colab": {}
      },
      "cell_type": "code",
      "source": [
        "df_test_rle.columns = ['id', 'rle_mask']"
      ],
      "execution_count": 0,
      "outputs": []
    },
    {
      "metadata": {
        "id": "lQG1tXELVdPP",
        "colab_type": "code",
        "colab": {}
      },
      "cell_type": "code",
      "source": [
        "sub_fname = f'submission_{get_current_time_as_fname()}.csv'"
      ],
      "execution_count": 0,
      "outputs": []
    },
    {
      "metadata": {
        "id": "xr_NOtxBhnky",
        "colab_type": "code",
        "colab": {}
      },
      "cell_type": "code",
      "source": [
        "df_test_rle.to_csv(sub_fname, index=False)"
      ],
      "execution_count": 0,
      "outputs": []
    },
    {
      "metadata": {
        "id": "n__2CiMjhnk2",
        "colab_type": "code",
        "outputId": "f58be2b2-fd5b-4b71-e02f-f48264725045",
        "colab": {
          "base_uri": "https://localhost:8080/",
          "height": 55
        }
      },
      "cell_type": "code",
      "source": [
        "log.info(f'submission file {sub_fname} generated.')"
      ],
      "execution_count": 0,
      "outputs": [
        {
          "output_type": "stream",
          "text": [
            "09/10/2018 20:57:10 - salt_model_v37.42_high_lovasz_loss_cv1 - INFO - submission file submission_2018_10_10_07_57_06.csv generated.\n"
          ],
          "name": "stderr"
        }
      ]
    },
    {
      "metadata": {
        "id": "fCv-diichnk4",
        "colab_type": "code",
        "colab": {}
      },
      "cell_type": "code",
      "source": [
        "from google.colab import files"
      ],
      "execution_count": 0,
      "outputs": []
    },
    {
      "metadata": {
        "id": "NgzFDdcShnlA",
        "colab_type": "code",
        "colab": {}
      },
      "cell_type": "code",
      "source": [
        "files.download(sub_fname) "
      ],
      "execution_count": 0,
      "outputs": []
    },
    {
      "metadata": {
        "id": "1D61fkPaiUR4",
        "colab_type": "code",
        "outputId": "fa30b1da-5fe2-4eb2-b4f6-ad5b4c16bf07",
        "colab": {
          "base_uri": "https://localhost:8080/",
          "height": 55
        }
      },
      "cell_type": "code",
      "source": [
        "log.info(f'submission file {sub_fname} downloaded.')"
      ],
      "execution_count": 0,
      "outputs": [
        {
          "output_type": "stream",
          "text": [
            "09/10/2018 20:57:32 - salt_model_v37.42_high_lovasz_loss_cv1 - INFO - submission file submission_2018_10_10_07_57_06.csv downloaded.\n"
          ],
          "name": "stderr"
        }
      ]
    },
    {
      "metadata": {
        "id": "3YDGt2HiWmcH",
        "colab_type": "code",
        "colab": {}
      },
      "cell_type": "code",
      "source": [
        "data_dict = {'run_name': run_name,\n",
        "             'y_val_pred': y_val_pred,\n",
        "             'y_val_pred_flip': y_val_pred_flip,\n",
        "             'y_train_pred': y_train_pred,\n",
        "             'y_train_pred_flip': y_train_pred_flip,\n",
        "             'y_test_pred': y_test_pred,\n",
        "             'y_test_pred_flip': y_test_pred_flip}"
      ],
      "execution_count": 0,
      "outputs": []
    },
    {
      "metadata": {
        "id": "dgiEmotjXtGP",
        "colab_type": "code",
        "colab": {}
      },
      "cell_type": "code",
      "source": [
        "import pickle\n",
        "\n",
        "with open(f'{run_name}_{get_current_time_as_fname()}.pickle', 'wb') as handle:\n",
        "    pickle.dump(data_dict, handle, protocol=pickle.HIGHEST_PROTOCOL)\n",
        "\n"
      ],
      "execution_count": 0,
      "outputs": []
    },
    {
      "metadata": {
        "id": "dQE1T0pKXxQk",
        "colab_type": "code",
        "colab": {}
      },
      "cell_type": "code",
      "source": [
        "push_model_to_git()"
      ],
      "execution_count": 0,
      "outputs": []
    },
    {
      "metadata": {
        "id": "iKt9V0iLhj7e",
        "colab_type": "code",
        "colab": {}
      },
      "cell_type": "code",
      "source": [
        "ls"
      ],
      "execution_count": 0,
      "outputs": []
    },
    {
      "metadata": {
        "id": "r5JyNRlJ00_X",
        "colab_type": "code",
        "colab": {}
      },
      "cell_type": "code",
      "source": [
        ""
      ],
      "execution_count": 0,
      "outputs": []
    }
  ]
}