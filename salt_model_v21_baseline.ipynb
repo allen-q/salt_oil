{
 "cells": [
  {
   "cell_type": "markdown",
   "metadata": {
    "colab_type": "text",
    "id": "IUnFr6MO3Kk3"
   },
   "source": [
    "# Changes:\n",
    "1. Refactored code and create a baseline model"
   ]
  },
  {
   "cell_type": "markdown",
   "metadata": {
    "colab_type": "text",
    "id": "xaO5fG0VW5gB"
   },
   "source": [
    "## Install required packages if running on google colab"
   ]
  },
  {
   "cell_type": "code",
   "execution_count": null,
   "metadata": {
    "colab": {},
    "colab_type": "code",
    "id": "8n6EgF7sW5gC"
   },
   "outputs": [],
   "source": [
    "try:\n",
    "    import torch\n",
    "except:\n",
    "    !pip install torch torchvision\n",
    "    !pip install imageio\n",
    "    !git clone https://github.com/allen-q/salt_oil.git"
   ]
  },
  {
   "cell_type": "code",
   "execution_count": null,
   "metadata": {
    "colab": {},
    "colab_type": "code",
    "id": "tH3tfAVnW5gG"
   },
   "outputs": [],
   "source": [
    "cd salt_oil"
   ]
  },
  {
   "cell_type": "markdown",
   "metadata": {
    "colab_type": "text",
    "id": "UVnBJygnW5gK"
   },
   "source": [
    "## Import required libs"
   ]
  },
  {
   "cell_type": "code",
   "execution_count": null,
   "metadata": {
    "colab": {},
    "colab_type": "code",
    "id": "x1VSamfH3Kk6"
   },
   "outputs": [],
   "source": [
    "import zipfile\n",
    "import torch\n",
    "import torchvision\n",
    "import torch.nn as nn\n",
    "import torch.nn.functional as F\n",
    "from torch.utils import data\n",
    "from torch.utils.data import Dataset, DataLoader\n",
    "from torchvision import transforms, utils\n",
    "from skimage import io, transform\n",
    "from sklearn.model_selection import train_test_split\n",
    "import numpy as np\n",
    "import pandas as pd\n",
    "import matplotlib.pyplot as ply\n",
    "import os\n",
    "import imageio\n",
    "from PIL import Image\n",
    "import glob\n",
    "import matplotlib.pyplot as plt\n",
    "import time\n",
    "import math\n",
    "import datetime as dt\n",
    "import pytz\n",
    "import pickle\n",
    "from salt_func_lib import *\n",
    "from torchvision import transforms, utils\n",
    "from skimage import io, transform\n",
    "import datetime as dt\n",
    "import sys\n",
    "from optparse import OptionParser\n",
    "import torch.backends.cudnn as cudnn\n",
    "from torch import optim\n",
    "from torch.optim import lr_scheduler\n",
    "import copy\n",
    "from io import BytesIO\n",
    "% matplotlib inline\n",
    "% load_ext autoreload\n",
    "% autoreload 2"
   ]
  },
  {
   "cell_type": "markdown",
   "metadata": {
    "colab_type": "text",
    "id": "I87qLhAOW5gO"
   },
   "source": [
    "## Load Unet Modules"
   ]
  },
  {
   "cell_type": "code",
   "execution_count": null,
   "metadata": {
    "colab": {},
    "colab_type": "code",
    "id": "eC32auGDqVZi"
   },
   "outputs": [],
   "source": [
    "from pytorch_unet.eval import eval_net\n",
    "from pytorch_unet.unet import UNet\n",
    "from pytorch_unet.unet.unet_parts import *\n",
    "from pytorch_unet.utils import get_ids, split_ids, split_train_val, get_imgs_and_masks, batch"
   ]
  },
  {
   "cell_type": "code",
   "execution_count": null,
   "metadata": {
    "colab": {},
    "colab_type": "code",
    "id": "6O8Wz9H_iTDE"
   },
   "outputs": [],
   "source": [
    "## Setup data type based on whether GPU is enabled"
   ]
  },
  {
   "cell_type": "code",
   "execution_count": null,
   "metadata": {
    "colab": {},
    "colab_type": "code",
    "id": "QKYhIfCtEk6C"
   },
   "outputs": [],
   "source": [
    "if torch.cuda.is_available():\n",
    "    dtype = torch.cuda.FloatTensor ## UNCOMMENT THIS LINE IF YOU'RE ON A GPU!\n",
    "else:    \n",
    "    dtype = torch.FloatTensor"
   ]
  },
  {
   "cell_type": "code",
   "execution_count": null,
   "metadata": {
    "colab": {},
    "colab_type": "code",
    "id": "51wk3a_bTtv-"
   },
   "outputs": [],
   "source": [
    "print(f'Data Type set to: {dtype}')"
   ]
  },
  {
   "cell_type": "markdown",
   "metadata": {
    "colab_type": "text",
    "id": "30EV6nbKbtyV"
   },
   "source": [
    "## Create Global Variables"
   ]
  },
  {
   "cell_type": "code",
   "execution_count": null,
   "metadata": {
    "colab": {},
    "colab_type": "code",
    "id": "8zcHyi6AMfDf"
   },
   "outputs": [],
   "source": [
    "def init_global_variables():\n",
    "    \"\"\"initialize global variables such as db connection, logger etc.\"\"\"\n",
    "    global log\n",
    "    log = get_logger('SaltNet')"
   ]
  },
  {
   "cell_type": "code",
   "execution_count": null,
   "metadata": {
    "colab": {},
    "colab_type": "code",
    "id": "CLILkc8Vbtya"
   },
   "outputs": [],
   "source": [
    "init_global_variables()"
   ]
  },
  {
   "cell_type": "markdown",
   "metadata": {
    "colab_type": "text",
    "id": "aEXPdEFd3KmA"
   },
   "source": [
    "## Prepare Data"
   ]
  },
  {
   "cell_type": "markdown",
   "metadata": {
    "colab_type": "text",
    "id": "53yVOPsQ3KmB"
   },
   "source": [
    "### Load train and test data from npy files or from raw images if npy files not exist."
   ]
  },
  {
   "cell_type": "code",
   "execution_count": null,
   "metadata": {
    "colab": {
     "base_uri": "https://localhost:8080/",
     "height": 50
    },
    "colab_type": "code",
    "id": "wO1kf6HW3KmC",
    "outputId": "44ab5423-605a-41b5-b7a1-5adc5d6c154d"
   },
   "outputs": [],
   "source": [
    "np_train_all, np_train_all_mask, X_test, misc_data = load_all_data()"
   ]
  },
  {
   "cell_type": "markdown",
   "metadata": {},
   "source": [
    "### Remove black images"
   ]
  },
  {
   "cell_type": "code",
   "execution_count": null,
   "metadata": {},
   "outputs": [],
   "source": [
    "black_img_ids = (np_train_all.max((1,2,3))==0)\n",
    "\n",
    "np_train_all = np_train_all[~black_img_ids]\n",
    "np_train_all_mask = np_train_all_mask[~black_img_ids]"
   ]
  },
  {
   "cell_type": "code",
   "execution_count": null,
   "metadata": {},
   "outputs": [],
   "source": [
    "np_train_all.shape"
   ]
  },
  {
   "cell_type": "markdown",
   "metadata": {
    "colab_type": "text",
    "id": "DZqPs7VnYd56"
   },
   "source": [
    "### Remove images with all black masks"
   ]
  },
  {
   "cell_type": "code",
   "execution_count": null,
   "metadata": {
    "colab": {},
    "colab_type": "code",
    "id": "lzqSzGzEYd5-"
   },
   "outputs": [],
   "source": [
    "#black_mask_ids = (np_train_all_mask.max((1,2,3))==0)\n",
    "#np_train_all = np_train_all[~black_mask_ids]\n",
    "#np_train_all_mask = np_train_all_mask[~black_mask_ids]"
   ]
  },
  {
   "cell_type": "markdown",
   "metadata": {
    "colab_type": "text",
    "id": "DNIS7zT23KmI"
   },
   "source": [
    "### Train Val data split"
   ]
  },
  {
   "cell_type": "code",
   "execution_count": null,
   "metadata": {
    "colab": {},
    "colab_type": "code",
    "id": "Q8HLh-bNQmNz"
   },
   "outputs": [],
   "source": [
    "np_train_all = np.clip(np_train_all/255, 0, 1)\n",
    "X_test = np.clip(X_test/255, 0, 1)"
   ]
  },
  {
   "cell_type": "code",
   "execution_count": null,
   "metadata": {
    "colab": {},
    "colab_type": "code",
    "id": "XqYjA-Ud3KmI"
   },
   "outputs": [],
   "source": [
    "X_train_ids, X_val_ids = (\n",
    "    train_test_split(np.arange(len(np_train_all)), \n",
    "                     test_size=0.20, \n",
    "                     random_state=42)\n",
    ")"
   ]
  },
  {
   "cell_type": "code",
   "execution_count": null,
   "metadata": {
    "colab": {},
    "colab_type": "code",
    "id": "GEqXO7GM3KmN"
   },
   "outputs": [],
   "source": [
    "X_train = np_train_all[X_train_ids]\n",
    "X_val = np_train_all[X_val_ids]\n",
    "y_train = np_train_all_mask[X_train_ids]\n",
    "y_val = np_train_all_mask[X_val_ids]\n",
    "depth_train = (\n",
    "    misc_data['df_train_all_depth']\n",
    "    .reindex(np.array(misc_data['np_train_all_ids'])[X_train_ids])\n",
    ")\n",
    "depth_val = (\n",
    "    misc_data['df_train_all_depth']\n",
    "    .reindex(np.array(misc_data['np_train_all_ids'])[X_val_ids])\n",
    ")\n",
    "depth_test = (\n",
    "    misc_data['df_train_all_depth']\n",
    "    .reindex(np.array(misc_data['np_test_ids']))\n",
    ")\n",
    "#X_train_mean_img = X_train.mean(0).astype(np.float32)\n",
    "X_train_mean_img = X_train.mean((0,1,2)).astype(np.float32)\n",
    "\n",
    "all_data = {\n",
    "    'X_train': X_train,\n",
    "    'X_val': X_val,\n",
    "    'y_train': y_train,\n",
    "    'y_val': y_val,\n",
    "    'X_test': X_test,\n",
    "    'X_train_mean_img': X_train_mean_img\n",
    "}"
   ]
  },
  {
   "cell_type": "code",
   "execution_count": null,
   "metadata": {
    "colab": {
     "base_uri": "https://localhost:8080/",
     "height": 34
    },
    "colab_type": "code",
    "id": "0bMOyfebQmON",
    "outputId": "398fd59c-b9cd-4de6-e349-e136c5c19550"
   },
   "outputs": [],
   "source": [
    "X_train.shape"
   ]
  },
  {
   "cell_type": "markdown",
   "metadata": {
    "colab_type": "text",
    "id": "8eXIcYoDqVcF"
   },
   "source": [
    "### Create a Train Dataloader"
   ]
  },
  {
   "cell_type": "code",
   "execution_count": null,
   "metadata": {
    "colab": {},
    "colab_type": "code",
    "id": "uYerp5hjW5gu"
   },
   "outputs": [],
   "source": [
    "composed_tsfm = transforms.Compose([Rescale(scale='random', max_scale=1.3),\n",
    "                                    RandomCrop(101),\n",
    "                                    Flip(orient='random')])\n",
    "\n",
    "data_params = {'batch_size': 32,\n",
    "               'shuffle': True,\n",
    "               'drop_last': False}\n",
    "\n",
    "train_dataLoader = (\n",
    "    DataLoader(SaltDataset(X_train, y_train, depth_train,\n",
    "                           X_train_mean_img, img_out_size=128,\n",
    "                           transform=composed_tsfm), **data_params)\n",
    ")\n",
    "\n",
    "val_dataLoader = (\n",
    "    DataLoader(SaltDataset(X_val, y_val, depth_val, \n",
    "                           X_train_mean_img, img_out_size=128), **data_params)\n",
    ")\n",
    "\n",
    "dataloaders = {'train': train_dataLoader, 'val':val_dataLoader}\n",
    "\n",
    "sample = iter(dataloaders['train']).__next__()\n",
    "\n",
    "assert sample[0].shape == torch.Size([data_params['batch_size'], 1, 128, 128])\n",
    "assert sample[1].shape == torch.Size([data_params['batch_size'], 101, 101])\n",
    "assert sample[2].shape == torch.Size([data_params['batch_size']])\n",
    "assert sample[3].shape == torch.Size([data_params['batch_size']])"
   ]
  },
  {
   "cell_type": "code",
   "execution_count": null,
   "metadata": {
    "colab": {},
    "colab_type": "code",
    "id": "dp1YZ7D5QmOg"
   },
   "outputs": [],
   "source": [
    "i = 0\n",
    "for X_batch, y_batch, d_batch, X_id in dataloaders['train']:\n",
    "    i+=1\n",
    "    if i>3:\n",
    "        break\n",
    "    X_orig = X_train[X_id[0]].squeeze()\n",
    "    X_tsfm = X_batch[0].squeeze().cpu().detach().numpy()[:101,:101] + X_train_mean_img.squeeze()\n",
    "    y_orig = y_train[X_id[0]].squeeze()\n",
    "    y_tsfm = (y_batch[0].squeeze().cpu().detach().numpy())\n",
    "    plot_img_mask_pred([X_orig, X_tsfm, y_orig, y_tsfm],\n",
    "                       [f'X Original-{X_id[0]}', 'X Transformed', 'y Original', 'y Transformed'])"
   ]
  },
  {
   "cell_type": "code",
   "execution_count": null,
   "metadata": {
    "colab": {},
    "colab_type": "code",
    "id": "GbN1-S12btDL"
   },
   "outputs": [],
   "source": [
    "X_train.shape"
   ]
  },
  {
   "cell_type": "markdown",
   "metadata": {
    "colab_type": "text",
    "id": "qS4kZWQnW5gw"
   },
   "source": [
    "### Create a Train Dataloader for sanity check"
   ]
  },
  {
   "cell_type": "code",
   "execution_count": null,
   "metadata": {
    "colab": {},
    "colab_type": "code",
    "id": "VEA7t3xaQmOo"
   },
   "outputs": [],
   "source": [
    "data_params = {'batch_size': 2,\n",
    "               'shuffle': True,\n",
    "               'drop_last': False}\n",
    "\n",
    "train_dataLoader = (\n",
    "    DataLoader(SaltDataset(X_train[:4], y_train[:4], depth_train[:4],\n",
    "                           X_train_mean_img, out_size=128, out_ch=3,\n",
    "                           transform=None), **data_params)\n",
    ")\n",
    "\n",
    "val_dataLoader = (\n",
    "    DataLoader(SaltDataset(X_val[:4], y_val[:4], depth_val[:4], \n",
    "                           X_train_mean_img, out_size=128, out_ch=3), **data_params)\n",
    ")\n",
    "\n",
    "dataloaders = {'train': train_dataLoader, 'val':val_dataLoader}\n"
   ]
  },
  {
   "cell_type": "code",
   "execution_count": null,
   "metadata": {},
   "outputs": [],
   "source": [
    "t = iter(train_dataLoader).__next__()"
   ]
  },
  {
   "cell_type": "code",
   "execution_count": null,
   "metadata": {},
   "outputs": [],
   "source": [
    "X_batch, y_batch, d_batch, X_id = t"
   ]
  },
  {
   "cell_type": "markdown",
   "metadata": {
    "colab_type": "text",
    "id": "dasEpZc0QmOt"
   },
   "source": [
    "## Train the model using a small data set to see if it can overfit"
   ]
  },
  {
   "cell_type": "code",
   "execution_count": null,
   "metadata": {
    "colab": {},
    "colab_type": "code",
    "id": "zUpXWmcBYd6o"
   },
   "outputs": [],
   "source": [
    "saltnet = resnet18unet(in_ch=3, bilinear=False, pretrained=False)\n",
    "\n",
    "loss_fn_bce = nn.BCELoss()\n",
    "loss_fn_iou = IOU_Loss()\n",
    "optimizer = torch.optim.Adam(saltnet.parameters(), lr=0.001)\n",
    "\n",
    "scheduler = lr_scheduler.StepLR(optimizer, step_size=50, gamma=0.1)\n",
    "\n",
    "model_save_name = None\n",
    "\n",
    "# Test Run\n",
    "trained_model = train_model(saltnet, dataloaders, loss_fn_bce, optimizer, scheduler, model_save_name, \n",
    "                other_data=all_data, num_epochs=50, print_every=2, push_every=None, log=log)"
   ]
  },
  {
   "cell_type": "markdown",
   "metadata": {
    "colab_type": "text",
    "id": "zJ3DJ4hAQmOw"
   },
   "source": [
    "## Train the full with full dataset"
   ]
  },
  {
   "cell_type": "code",
   "execution_count": null,
   "metadata": {
    "colab": {
     "base_uri": "https://localhost:8080/",
     "height": 41885
    },
    "colab_type": "code",
    "id": "u8EUxk8UQmOx",
    "outputId": "1d400f83-ffb0-4ed0-a6d0-c5fff0e339a1"
   },
   "outputs": [],
   "source": [
    "saltnet = resnet34unet(in_ch=3, bilinear=False, pretrained=False)\n",
    "\n",
    "loss_fn_bce = nn.BCELoss()\n",
    "#loss_fn_iou = IOU_Loss()\n",
    "optimizer = torch.optim.Adam(saltnet.parameters(), lr=0.01)\n",
    "\n",
    "scheduler = lr_scheduler.StepLR(optimizer, step_size=50, gamma=0.1)\n",
    "\n",
    "model_save_name = f'Unet_Resnet18_trans_conv_remove_all_black_masks_{get_current_time_as_fname()}.ckp'\n",
    "\n",
    "# Test Run\n",
    "trained_model = train_model(saltnet, dataloaders, loss_fn_bce, optimizer, scheduler, model_save_name, \n",
    "                            other_data=all_data, num_epochs=250, print_every=50, push_every=10, log=log)"
   ]
  },
  {
   "cell_type": "code",
   "execution_count": null,
   "metadata": {
    "colab": {},
    "colab_type": "code",
    "id": "Fjq6xItfYd7i"
   },
   "outputs": [],
   "source": []
  },
  {
   "cell_type": "markdown",
   "metadata": {
    "colab_type": "text",
    "id": "9MW3YwaZQmOz"
   },
   "source": [
    "## Load Trained Model"
   ]
  },
  {
   "cell_type": "code",
   "execution_count": null,
   "metadata": {},
   "outputs": [],
   "source": [
    "loaded_model = trained_model"
   ]
  },
  {
   "cell_type": "code",
   "execution_count": null,
   "metadata": {
    "colab": {},
    "colab_type": "code",
    "id": "T6MJDoaNS5SA"
   },
   "outputs": [],
   "source": [
    "'''loaded_model = resnet18unet()\n",
    "model_file_suffix = \"Unet_Resnet18_Fine_Tune2018_08_25_09_01_05.ckp\"\n",
    "model_state_dict = torch.load(join_files(model_file_suffix, '.', returnFileObject=True, removeChunks=False))\n",
    "loaded_model.load_state_dict(model_state_dict['model'])'''"
   ]
  },
  {
   "cell_type": "markdown",
   "metadata": {
    "colab_type": "text",
    "id": "PbgxXtYH3KpR"
   },
   "source": [
    "### Make Predictions on validation set"
   ]
  },
  {
   "cell_type": "markdown",
   "metadata": {
    "colab_type": "text",
    "id": "W0cFNMM0QmO4"
   },
   "source": [
    "### Set model to evaluation mode"
   ]
  },
  {
   "cell_type": "code",
   "execution_count": null,
   "metadata": {
    "colab": {},
    "colab_type": "code",
    "id": "izo8iByg3KpP"
   },
   "outputs": [],
   "source": [
    "loaded_model.eval()\n",
    "assert loaded_model.training == False"
   ]
  },
  {
   "cell_type": "code",
   "execution_count": null,
   "metadata": {
    "colab": {},
    "colab_type": "code",
    "id": "zfdN-P-j3KpS"
   },
   "outputs": [],
   "source": [
    "val_dataLoader = DataLoader(SaltDataset(X_val, y_val, depth_val, X_train_mean_img, img_out_size=128), batch_size=16)"
   ]
  },
  {
   "cell_type": "code",
   "execution_count": null,
   "metadata": {
    "colab": {},
    "colab_type": "code",
    "id": "7M0ZHG7o6swA"
   },
   "outputs": [],
   "source": [
    "if torch.cuda.is_available():\n",
    "    loaded_model.cuda()"
   ]
  },
  {
   "cell_type": "code",
   "execution_count": null,
   "metadata": {
    "colab": {},
    "colab_type": "code",
    "id": "JMuArCUd3KpU"
   },
   "outputs": [],
   "source": [
    "y_val_pred = []\n",
    "\n",
    "with torch.no_grad():\n",
    "    for X_val_batch, y_val_batch, depth_val_batch, X_val_id_batch in val_dataLoader:\n",
    "        y_val_pred.append(loaded_model(X_val_batch))\n",
    "y_val_pred = torch.cat(y_val_pred)"
   ]
  },
  {
   "cell_type": "code",
   "execution_count": null,
   "metadata": {
    "colab": {},
    "colab_type": "code",
    "id": "nxNTal6nS8Za"
   },
   "outputs": [],
   "source": [
    "train_dataLoader = DataLoader(SaltDataset(X_train, y_train, depth_train, X_train_mean_img, img_out_size=128), batch_size=16)\n",
    "y_train_pred = []\n",
    "\n",
    "with torch.no_grad():\n",
    "    for X_train_batch, y_train_batch, depth_train_batch, X_train_id_batch in train_dataLoader:\n",
    "        y_train_pred.append(loaded_model(X_train_batch))\n",
    "y_train_pred = torch.cat(y_train_pred)"
   ]
  },
  {
   "cell_type": "code",
   "execution_count": null,
   "metadata": {
    "colab": {},
    "colab_type": "code",
    "id": "2_DJpL1o3KpY"
   },
   "outputs": [],
   "source": [
    "for i in range(10):\n",
    "    rand_id = np.random.choice(X_val_id_batch)\n",
    "    print(f'Image ID: {rand_id}')\n",
    "    val_img = X_val[rand_id]\n",
    "    val_mask = y_val[rand_id]\n",
    "    val_mask_pred = y_val_pred.ge(0.5)[rand_id]\n",
    "    plot_img_mask_pred([val_img, val_mask, val_mask_pred], range(3), img_per_line=3)"
   ]
  },
  {
   "cell_type": "code",
   "execution_count": null,
   "metadata": {
    "colab": {},
    "colab_type": "code",
    "id": "fkD6eqk9ghEe"
   },
   "outputs": [],
   "source": [
    "for i in range(10):\n",
    "    rand_id = np.random.choice(X_train_id_batch)\n",
    "    print(f'Image ID: {rand_id}')\n",
    "    img = X_train[rand_id]\n",
    "    mask = y_train[rand_id]\n",
    "    mask_pred = y_train_pred.ge(0.5)[rand_id]\n",
    "    plot_img_mask_pred([img, mask, mask_pred], range(3), img_per_line=3)"
   ]
  },
  {
   "cell_type": "code",
   "execution_count": null,
   "metadata": {
    "colab": {},
    "colab_type": "code",
    "id": "aFW4BqZx8VzV"
   },
   "outputs": [],
   "source": [
    "ZERO_MASK_CUTOFF = 100"
   ]
  },
  {
   "cell_type": "code",
   "execution_count": null,
   "metadata": {
    "colab": {},
    "colab_type": "code",
    "id": "vMbnI4J6Jkr1"
   },
   "outputs": [],
   "source": [
    "y_val_pred_adj = adjust_predictions(ZERO_MASK_CUTOFF, X_val, y_val_pred.gt(0.5), y_val.squeeze())"
   ]
  },
  {
   "cell_type": "code",
   "execution_count": null,
   "metadata": {
    "colab": {},
    "colab_type": "code",
    "id": "aPOBqHPDVbzS"
   },
   "outputs": [],
   "source": [
    "y_val_pred_adj = adjust_predictions(100, X_val, y_val_pred.gt(0.5), y_val.squeeze())"
   ]
  },
  {
   "cell_type": "code",
   "execution_count": null,
   "metadata": {
    "colab": {},
    "colab_type": "code",
    "id": "kgcUBfKx8rpd"
   },
   "outputs": [],
   "source": [
    "results=[]\n",
    "for cut_off in range(0, 3000, 10):\n",
    "  print(cut_off)\n",
    "  results.append(calc_mean_iou(adjust_predictions(cut_off, X_val, y_val_pred.gt(0.5), y_val.squeeze()), y_val.squeeze()))"
   ]
  },
  {
   "cell_type": "code",
   "execution_count": null,
   "metadata": {
    "colab": {},
    "colab_type": "code",
    "id": "KcfUIfJyNna6"
   },
   "outputs": [],
   "source": [
    "ZERO_MASK_CUTOFF = range(0, 3000, 10)[np.argmax(results)]"
   ]
  },
  {
   "cell_type": "code",
   "execution_count": null,
   "metadata": {},
   "outputs": [],
   "source": [
    "y_val_pred_adj = adjust_predictions(ZERO_MASK_CUTOFF, X_val, y_val_pred.gt(0.5), y_val.squeeze())"
   ]
  },
  {
   "cell_type": "code",
   "execution_count": null,
   "metadata": {
    "colab": {},
    "colab_type": "code",
    "id": "GCR_6IO1g7xE"
   },
   "outputs": [],
   "source": [
    "y_train_pred_adj = adjust_predictions(ZERO_MASK_CUTOFF, X_train, y_train_pred.gt(0.5), y_train.squeeze())"
   ]
  },
  {
   "cell_type": "markdown",
   "metadata": {
    "colab_type": "text",
    "id": "o1oSze9o3Kp_"
   },
   "source": [
    "## Make predictions on test set"
   ]
  },
  {
   "cell_type": "code",
   "execution_count": null,
   "metadata": {
    "colab": {},
    "colab_type": "code",
    "id": "X6ocZkIAS8Zf"
   },
   "outputs": [],
   "source": [
    "#test_dataLoader = DataLoader(SaltDataset(np_test[:10], None, depth_test, X_train_mean_img), batch_size=4)\n",
    "test_dataLoader = DataLoader(SaltDataset(X_test, np.zeros_like(X_test), depth_test, X_train_mean_img, img_out_size=128), batch_size=16)"
   ]
  },
  {
   "cell_type": "code",
   "execution_count": null,
   "metadata": {
    "colab": {},
    "colab_type": "code",
    "id": "ChMRx1kh3KqE"
   },
   "outputs": [],
   "source": [
    "y_test_pred_raw = []\n",
    "with torch.no_grad():\n",
    "    for X_test_batch, y_test_batch, depth_test_batch, X_test_id_batch in test_dataLoader:\n",
    "        y_test_pred_raw.append(loaded_model(X_test_batch))\n",
    "y_test_pred = torch.cat(y_test_pred_raw)"
   ]
  },
  {
   "cell_type": "markdown",
   "metadata": {
    "colab_type": "text",
    "id": "XiRFXS8K3KqI"
   },
   "source": [
    "### Show segmentation masks for a few images"
   ]
  },
  {
   "cell_type": "code",
   "execution_count": null,
   "metadata": {
    "colab": {},
    "colab_type": "code",
    "id": "Z8_mXXfA3KqI"
   },
   "outputs": [],
   "source": [
    "for i in range(10):\n",
    "    rand_id = np.random.choice(X_test_id_batch)\n",
    "    print(f'Image ID: {rand_id}')\n",
    "    img = X_test[rand_id]\n",
    "    mask_pred = y_test_pred.ge(0.5)[rand_id]\n",
    "    plot_img_mask_pred([img, mask_pred], range(2))"
   ]
  },
  {
   "cell_type": "markdown",
   "metadata": {
    "colab_type": "text",
    "id": "OnjDYjvp3KqK"
   },
   "source": [
    "### Adjust predictions"
   ]
  },
  {
   "cell_type": "code",
   "execution_count": null,
   "metadata": {
    "colab": {},
    "colab_type": "code",
    "id": "jojQbvhtS8Zn"
   },
   "outputs": [],
   "source": [
    "y_test_pred_adj = adjust_predictions(ZERO_MASK_CUTOFF, X_test, y_test_pred.gt(0.5))"
   ]
  },
  {
   "cell_type": "markdown",
   "metadata": {
    "colab_type": "text",
    "id": "M52jKbLA3KqM"
   },
   "source": [
    "### Encode predictions using RLE(Run Length Encoding) method"
   ]
  },
  {
   "cell_type": "code",
   "execution_count": null,
   "metadata": {
    "colab": {},
    "colab_type": "code",
    "id": "uW0shno43KqM"
   },
   "outputs": [],
   "source": [
    "y_test_pred_rle = rle_encoder3d(y_test_pred_adj)"
   ]
  },
  {
   "cell_type": "code",
   "execution_count": null,
   "metadata": {
    "colab": {},
    "colab_type": "code",
    "id": "sdPQnJqUS8Zr"
   },
   "outputs": [],
   "source": [
    "y_test_pred_adj.shape"
   ]
  },
  {
   "cell_type": "code",
   "execution_count": null,
   "metadata": {
    "colab": {},
    "colab_type": "code",
    "id": "9GaCKooz3KqN"
   },
   "outputs": [],
   "source": [
    "df_test_rle = pd.DataFrame(index=misc_data['np_test_ids'], data=y_test_pred_rle).reset_index()"
   ]
  },
  {
   "cell_type": "code",
   "execution_count": null,
   "metadata": {
    "colab": {},
    "colab_type": "code",
    "id": "loaXDzkM3KqQ"
   },
   "outputs": [],
   "source": [
    "df_test_rle.columns = ['id', 'rle_mask']"
   ]
  },
  {
   "cell_type": "code",
   "execution_count": null,
   "metadata": {
    "colab": {},
    "colab_type": "code",
    "id": "j_iM1oRr3KqS"
   },
   "outputs": [],
   "source": [
    "df_test_rle[df_test_rle.rle_mask==''].shape"
   ]
  },
  {
   "cell_type": "code",
   "execution_count": null,
   "metadata": {
    "colab": {},
    "colab_type": "code",
    "id": "BJzlb6q7cCM-"
   },
   "outputs": [],
   "source": [
    "df_test_rle.shape"
   ]
  },
  {
   "cell_type": "code",
   "execution_count": null,
   "metadata": {
    "colab": {},
    "colab_type": "code",
    "id": "09CFLpNL3KqY"
   },
   "outputs": [],
   "source": [
    "df_test_rle.to_csv(f'submission_{get_current_time_as_fname()}.csv', index=False)"
   ]
  },
  {
   "cell_type": "code",
   "execution_count": null,
   "metadata": {},
   "outputs": [],
   "source": [
    "push_to_git()"
   ]
  }
 ],
 "metadata": {
  "accelerator": "GPU",
  "colab": {
   "name": "salt_model_data_loader_V3.ipynb",
   "provenance": [],
   "version": "0.3.2"
  },
  "kernelspec": {
   "display_name": "Python 3",
   "language": "python",
   "name": "python3"
  },
  "language_info": {
   "codemirror_mode": {
    "name": "ipython",
    "version": 3
   },
   "file_extension": ".py",
   "mimetype": "text/x-python",
   "name": "python",
   "nbconvert_exporter": "python",
   "pygments_lexer": "ipython3",
   "version": "3.6.4"
  }
 },
 "nbformat": 4,
 "nbformat_minor": 2
}
