{
 "cells": [
  {
   "cell_type": "markdown",
   "metadata": {
    "colab_type": "text",
    "id": "IUnFr6MO3Kk3"
   },
   "source": [
    "# Changes:\n",
    "1. Based on V37\n",
    "2. Refactored data augmentor. Re-implement the rotate function to preserve positive mask area.\n",
    "3. Changed optimizer to adam"
   ]
  },
  {
   "cell_type": "markdown",
   "metadata": {
    "colab_type": "text",
    "id": "xaO5fG0VW5gB"
   },
   "source": [
    "## Install required packages if running on google colab"
   ]
  },
  {
   "cell_type": "code",
   "execution_count": 1,
   "metadata": {
    "colab": {
     "base_uri": "https://localhost:8080/",
     "height": 944
    },
    "colab_type": "code",
    "id": "8n6EgF7sW5gC",
    "outputId": "8366cfcb-404d-49bf-d6fb-dbf854618bcf"
   },
   "outputs": [
    {
     "name": "stdout",
     "output_type": "stream",
     "text": [
      "Collecting torch\n",
      "\u001b[?25l  Downloading https://files.pythonhosted.org/packages/49/0e/e382bcf1a6ae8225f50b99cc26effa2d4cc6d66975ccf3fa9590efcbedce/torch-0.4.1-cp36-cp36m-manylinux1_x86_64.whl (519.5MB)\n",
      "\u001b[K    100% |████████████████████████████████| 519.5MB 32kB/s \n",
      "tcmalloc: large alloc 1073750016 bytes == 0x5a0d4000 @  0x7f38dba361c4 0x46d6a4 0x5fcbcc 0x4c494d 0x54f3c4 0x553aaf 0x54e4c8 0x54f4f6 0x553aaf 0x54efc1 0x54f24d 0x553aaf 0x54efc1 0x54f24d 0x553aaf 0x54efc1 0x54f24d 0x551ee0 0x54e4c8 0x54f4f6 0x553aaf 0x54efc1 0x54f24d 0x551ee0 0x54efc1 0x54f24d 0x551ee0 0x54e4c8 0x54f4f6 0x553aaf 0x54e4c8\n",
      "\u001b[?25hCollecting torchvision\n",
      "\u001b[?25l  Downloading https://files.pythonhosted.org/packages/ca/0d/f00b2885711e08bd71242ebe7b96561e6f6d01fdb4b9dcf4d37e2e13c5e1/torchvision-0.2.1-py2.py3-none-any.whl (54kB)\n",
      "\u001b[K    100% |████████████████████████████████| 61kB 22.2MB/s \n",
      "\u001b[?25hRequirement already satisfied: six in /usr/local/lib/python3.6/dist-packages (from torchvision) (1.11.0)\n",
      "Collecting pillow>=4.1.1 (from torchvision)\n",
      "\u001b[?25l  Downloading https://files.pythonhosted.org/packages/62/94/5430ebaa83f91cc7a9f687ff5238e26164a779cca2ef9903232268b0a318/Pillow-5.3.0-cp36-cp36m-manylinux1_x86_64.whl (2.0MB)\n",
      "\u001b[K    100% |████████████████████████████████| 2.0MB 4.4MB/s \n",
      "\u001b[?25hRequirement already satisfied: numpy in /usr/local/lib/python3.6/dist-packages (from torchvision) (1.14.6)\n",
      "Installing collected packages: torch, pillow, torchvision\n",
      "  Found existing installation: Pillow 4.0.0\n",
      "    Uninstalling Pillow-4.0.0:\n",
      "      Successfully uninstalled Pillow-4.0.0\n",
      "Successfully installed pillow-5.3.0 torch-0.4.1 torchvision-0.2.1\n",
      "Collecting imageio\n",
      "\u001b[?25l  Downloading https://files.pythonhosted.org/packages/28/b4/cbb592964dfd71a9de6a5b08f882fd334fb99ae09ddc82081dbb2f718c81/imageio-2.4.1.tar.gz (3.3MB)\n",
      "\u001b[K    100% |████████████████████████████████| 3.3MB 983kB/s \n",
      "\u001b[?25hRequirement already satisfied: numpy in /usr/local/lib/python3.6/dist-packages (from imageio) (1.14.6)\n",
      "Requirement already satisfied: pillow in /usr/local/lib/python3.6/dist-packages (from imageio) (5.3.0)\n",
      "Building wheels for collected packages: imageio\n",
      "  Running setup.py bdist_wheel for imageio ... \u001b[?25ldone\n",
      "\u001b[?25h  Stored in directory: /root/.cache/pip/wheels/e0/43/31/605de9372ceaf657f152d3d5e82f42cf265d81db8bbe63cde1\n",
      "Successfully built imageio\n",
      "Installing collected packages: imageio\n",
      "Successfully installed imageio-2.4.1\n",
      "Collecting Augmentor\n",
      "  Downloading https://files.pythonhosted.org/packages/4d/f4/b0eaa9d3b4120a5450ac92d4417907ca60fad5749c1f50ed95f720792350/Augmentor-0.2.3-py2.py3-none-any.whl\n",
      "Requirement already satisfied: numpy>=1.11.0 in /usr/local/lib/python3.6/dist-packages (from Augmentor) (1.14.6)\n",
      "Requirement already satisfied: tqdm>=4.9.0 in /usr/local/lib/python3.6/dist-packages (from Augmentor) (4.26.0)\n",
      "Requirement already satisfied: Pillow>=4.0.0 in /usr/local/lib/python3.6/dist-packages (from Augmentor) (5.3.0)\n",
      "Requirement already satisfied: future>=0.16.0 in /usr/local/lib/python3.6/dist-packages (from Augmentor) (0.16.0)\n",
      "Installing collected packages: Augmentor\n",
      "Successfully installed Augmentor-0.2.3\n",
      "Cloning into 'salt_oil'...\n",
      "remote: Enumerating objects: 146, done.\u001b[K\n",
      "remote: Counting objects: 100% (146/146), done.\u001b[K\n",
      "remote: Compressing objects: 100% (133/133), done.\u001b[K\n",
      "remote: Total 1362 (delta 82), reused 30 (delta 13), pack-reused 1216\u001b[K\n",
      "Receiving objects: 100% (1362/1362), 615.58 MiB | 28.42 MiB/s, done.\n",
      "Resolving deltas: 100% (839/839), done.\n",
      "Checking out files: 100% (177/177), done.\n",
      "Cloning into 'salt_net'...\n",
      "remote: Enumerating objects: 159, done.\u001b[K\n",
      "remote: Counting objects: 100% (159/159), done.\u001b[K\n",
      "remote: Compressing objects: 100% (106/106), done.\u001b[K\n",
      "remote: Total 159 (delta 48), reused 158 (delta 47), pack-reused 0\u001b[K\n",
      "Receiving objects: 100% (159/159), 1.42 MiB | 3.29 MiB/s, done.\n",
      "Resolving deltas: 100% (48/48), done.\n"
     ]
    }
   ],
   "source": [
    "try:\n",
    "    import torch\n",
    "except:\n",
    "    !pip install torch torchvision\n",
    "    !pip install imageio\n",
    "    !pip install Augmentor\n",
    "    !git clone https://github.com/allen-q/salt_oil.git\n",
    "    !git clone https://github.com/allen-q/salt_net.git"
   ]
  },
  {
   "cell_type": "code",
   "execution_count": 2,
   "metadata": {
    "colab": {
     "base_uri": "https://localhost:8080/",
     "height": 35
    },
    "colab_type": "code",
    "id": "FanQ70LBNxC8",
    "outputId": "d656c27b-d52f-48cc-9af9-58efd3b07946"
   },
   "outputs": [
    {
     "name": "stdout",
     "output_type": "stream",
     "text": [
      "/content/salt_oil\n"
     ]
    }
   ],
   "source": [
    "cd salt_oil"
   ]
  },
  {
   "cell_type": "code",
   "execution_count": null,
   "metadata": {
    "colab": {},
    "colab_type": "code",
    "id": "-9R3HXbwZs9M"
   },
   "outputs": [],
   "source": [
    "!git checkout 7b7f45978f493ae15f06202eb17c220c2c6d850d ."
   ]
  },
  {
   "cell_type": "markdown",
   "metadata": {
    "colab_type": "text",
    "id": "UVnBJygnW5gK"
   },
   "source": [
    "## Import required libs"
   ]
  },
  {
   "cell_type": "code",
   "execution_count": null,
   "metadata": {
    "colab": {},
    "colab_type": "code",
    "id": "x1VSamfH3Kk6"
   },
   "outputs": [],
   "source": [
    "import zipfile\n",
    "import torch\n",
    "import torchvision\n",
    "import torch.nn as nn\n",
    "import torch.nn.functional as F\n",
    "from torch.utils import data\n",
    "from torch.utils.data import Dataset, DataLoader\n",
    "from torchvision import transforms, utils\n",
    "from skimage import io, transform\n",
    "from sklearn.model_selection import train_test_split\n",
    "import numpy as np\n",
    "import pandas as pd\n",
    "import matplotlib.pyplot as ply\n",
    "import os\n",
    "import imageio\n",
    "from PIL import Image\n",
    "import glob\n",
    "import matplotlib.pyplot as plt\n",
    "import time\n",
    "import math\n",
    "import datetime as dt\n",
    "import pytz\n",
    "import pickle\n",
    "from salt_func_lib import *\n",
    "from torchvision import transforms, utils\n",
    "from skimage import io, transform\n",
    "import datetime as dt\n",
    "import sys\n",
    "from optparse import OptionParser\n",
    "import torch.backends.cudnn as cudnn\n",
    "from torch import optim\n",
    "from torch.optim import lr_scheduler\n",
    "import copy\n",
    "from io import BytesIO\n",
    "import random\n",
    "import PIL\n",
    "import cv2 as cv\n",
    "% matplotlib inline\n",
    "% load_ext autoreload\n",
    "% autoreload 2"
   ]
  },
  {
   "cell_type": "markdown",
   "metadata": {
    "colab_type": "text",
    "id": "I87qLhAOW5gO"
   },
   "source": [
    "## Load Unet Modules"
   ]
  },
  {
   "cell_type": "code",
   "execution_count": null,
   "metadata": {
    "colab": {},
    "colab_type": "code",
    "id": "eC32auGDqVZi"
   },
   "outputs": [],
   "source": [
    "from pytorch_unet.eval import eval_net\n",
    "from pytorch_unet.unet import UNet\n",
    "from pytorch_unet.unet.unet_parts import *\n",
    "from pytorch_unet.unet.resnet import *\n",
    "from pytorch_unet.utils import get_ids, split_ids, split_train_val, get_imgs_and_masks, batch"
   ]
  },
  {
   "cell_type": "code",
   "execution_count": null,
   "metadata": {
    "colab": {},
    "colab_type": "code",
    "id": "6O8Wz9H_iTDE"
   },
   "outputs": [],
   "source": [
    "## Setup data type based on whether GPU is enabled"
   ]
  },
  {
   "cell_type": "code",
   "execution_count": 7,
   "metadata": {
    "colab": {
     "base_uri": "https://localhost:8080/",
     "height": 35
    },
    "colab_type": "code",
    "id": "QKYhIfCtEk6C",
    "outputId": "75371642-1d77-4f17-ca01-12a1ca2ed613"
   },
   "outputs": [
    {
     "name": "stdout",
     "output_type": "stream",
     "text": [
      "Data Type set to: <class 'torch.cuda.FloatTensor'>\n"
     ]
    }
   ],
   "source": [
    "if torch.cuda.is_available():\n",
    "    dtype = torch.cuda.FloatTensor ## UNCOMMENT THIS LINE IF YOU'RE ON A GPU!\n",
    "else:    \n",
    "    dtype = torch.FloatTensor\n",
    "print(f'Data Type set to: {dtype}')"
   ]
  },
  {
   "cell_type": "code",
   "execution_count": null,
   "metadata": {
    "colab": {},
    "colab_type": "code",
    "id": "lRawI4_RdLLk"
   },
   "outputs": [],
   "source": [
    "def setup_train(config_list):\n",
    "    for conf in config_list:\n",
    "        log.info(conf)\n",
    "    for conf in config_list:\n",
    "        exec(conf)"
   ]
  },
  {
   "cell_type": "markdown",
   "metadata": {
    "colab_type": "text",
    "id": "30EV6nbKbtyV"
   },
   "source": [
    "## Create Logger"
   ]
  },
  {
   "cell_type": "code",
   "execution_count": null,
   "metadata": {
    "colab": {},
    "colab_type": "code",
    "id": "IENdY0MyTW_7"
   },
   "outputs": [],
   "source": [
    "run_name = 'salt_model_v37.42_high_lovasz_loss_cv1'\n",
    "model_file_suffix = f'../salt_net/{run_name}_{get_current_time_as_fname()}.ckp'\n",
    "fold = 1"
   ]
  },
  {
   "cell_type": "code",
   "execution_count": null,
   "metadata": {
    "colab": {},
    "colab_type": "code",
    "id": "s5JTwFPaaZB1"
   },
   "outputs": [],
   "source": [
    "global log\n",
    "log = get_logger(run_name)"
   ]
  },
  {
   "cell_type": "markdown",
   "metadata": {
    "colab_type": "text",
    "id": "aEXPdEFd3KmA"
   },
   "source": [
    "## Prepare Data"
   ]
  },
  {
   "cell_type": "markdown",
   "metadata": {
    "colab_type": "text",
    "id": "53yVOPsQ3KmB"
   },
   "source": [
    "### Load train and test data from npy files or from raw images if npy files not exist."
   ]
  },
  {
   "cell_type": "code",
   "execution_count": 11,
   "metadata": {
    "colab": {
     "base_uri": "https://localhost:8080/",
     "height": 52
    },
    "colab_type": "code",
    "id": "wO1kf6HW3KmC",
    "outputId": "46ef2dbb-53e8-433e-f042-3bf310dd8917"
   },
   "outputs": [
    {
     "name": "stdout",
     "output_type": "stream",
     "text": [
      "Try loading data from npy and pickle files...\n",
      "Data loaded.\n"
     ]
    }
   ],
   "source": [
    "np_train_all, np_train_all_mask, X_test, misc_data = load_all_data()"
   ]
  },
  {
   "cell_type": "markdown",
   "metadata": {
    "colab_type": "text",
    "id": "DNIS7zT23KmI"
   },
   "source": [
    "### Train Val data split"
   ]
  },
  {
   "cell_type": "code",
   "execution_count": null,
   "metadata": {
    "colab": {},
    "colab_type": "code",
    "id": "j8KXV3xkOmta"
   },
   "outputs": [],
   "source": [
    "from sklearn.model_selection import StratifiedKFold"
   ]
  },
  {
   "cell_type": "code",
   "execution_count": null,
   "metadata": {
    "colab": {},
    "colab_type": "code",
    "id": "77FWKCB-Orhp"
   },
   "outputs": [],
   "source": [
    "skf = StratifiedKFold(n_splits=5, shuffle=True, random_state=0)\n",
    "df_train_mask = pd.DataFrame((np_train_all_mask/255).sum((1,2,3)), columns=['mask_pix'])\n",
    "df_train_mask.mask_pix = df_train_mask.mask_pix.round(-2)\n",
    "nfolds = list(skf.split(df_train_mask.index.tolist(), df_train_mask.mask_pix))"
   ]
  },
  {
   "cell_type": "code",
   "execution_count": null,
   "metadata": {
    "colab": {},
    "colab_type": "code",
    "id": "pfkpL_aPScVN"
   },
   "outputs": [],
   "source": [
    "X_train_ids = np.r_[nfolds[fold]][:3200]\n",
    "X_val_ids = np.r_[nfolds[fold]][3200:]"
   ]
  },
  {
   "cell_type": "code",
   "execution_count": 16,
   "metadata": {
    "colab": {
     "base_uri": "https://localhost:8080/",
     "height": 52
    },
    "colab_type": "code",
    "id": "CeMs4Vgsg_zm",
    "outputId": "cef73614-9d82-43ac-aa4b-7ebdb189f078"
   },
   "outputs": [
    {
     "name": "stderr",
     "output_type": "stream",
     "text": [
      "09/10/2018 11:09:33 - salt_model_v37.42_high_lovasz_loss_cv1 - INFO - np.sum(X_train_ids): 6202175\n",
      "09/10/2018 11:09:33 - salt_model_v37.42_high_lovasz_loss_cv1 - INFO - np.sum(X_val_ids): 1795825\n"
     ]
    }
   ],
   "source": [
    "log.info(f'np.sum(X_train_ids): {np.sum(X_train_ids)}')\n",
    "log.info(f'np.sum(X_val_ids): {np.sum(X_val_ids)}')"
   ]
  },
  {
   "cell_type": "code",
   "execution_count": null,
   "metadata": {
    "colab": {},
    "colab_type": "code",
    "id": "2L51fSDkpyNV"
   },
   "outputs": [],
   "source": [
    "#df_train_mask = pd.DataFrame((np_train_all_mask/255).sum((1,2,3)), columns=['mask_pix'])\n",
    "#df_train_mask.mask_pix = df_train_mask.mask_pix.round(-2)\n",
    "\n",
    "#X_train_ids, X_val_ids = (\n",
    "#    train_test_split(df_train_mask.index.tolist(), \n",
    "#                     test_size=0.20,\n",
    "#                     stratify = df_train_mask.mask_pix,\n",
    "#                     random_state=0)\n",
    "#)\n",
    "\n",
    "X_train = np_train_all[X_train_ids]\n",
    "X_val = np_train_all[X_val_ids]\n",
    "y_train = np_train_all_mask[X_train_ids]\n",
    "y_val = np_train_all_mask[X_val_ids]\n",
    "depth_train = (\n",
    "    misc_data['df_train_all_depth']\n",
    "    .reindex(np.array(misc_data['np_train_all_ids'])[X_train_ids])\n",
    ")\n",
    "depth_val = (\n",
    "    misc_data['df_train_all_depth']\n",
    "    .reindex(np.array(misc_data['np_train_all_ids'])[X_val_ids])\n",
    ")\n",
    "depth_test = (\n",
    "    misc_data['df_train_all_depth']\n",
    "    .reindex(np.array(misc_data['np_test_ids']))\n",
    ")\n",
    "#X_train_mean_img = X_train.mean(0).astype(np.float32)\n",
    "#X_train_mean_img = X_train.mean((0,1,2)).astype(np.float32)\n",
    "X_train_mean_img = np.clip(np_train_all/255, 0, 1).mean((0,1,2)).astype(np.float32)\n",
    "#set mean image to 0 as mean is now being handled within the model.\n",
    "X_train_mean_img = np.zeros_like(X_train_mean_img)\n",
    "\n",
    "all_data = {\n",
    "    'X_train': X_train,\n",
    "    'X_val': X_val,\n",
    "    'y_train': y_train,\n",
    "    'y_val': y_val,\n",
    "    'X_test': X_test,\n",
    "    'X_train_mean_img': X_train_mean_img\n",
    "}\n",
    "\n",
    "assert X_train_mean_img == np.array([0.])\n",
    "assert X_train.shape == (3200, 101, 101, 1)\n",
    "assert y_train.shape == (3200, 101, 101, 1)\n",
    "assert depth_train.shape == (3200, 1)"
   ]
  },
  {
   "cell_type": "markdown",
   "metadata": {
    "colab_type": "text",
    "id": "zJ3DJ4hAQmOw"
   },
   "source": [
    "## Train the full with full dataset"
   ]
  },
  {
   "cell_type": "code",
   "execution_count": 18,
   "metadata": {
    "colab": {
     "base_uri": "https://localhost:8080/",
     "height": 35
    },
    "colab_type": "code",
    "id": "AZkSxKV2sIkN",
    "outputId": "86cbbc91-584a-4101-a769-558c5617cfc3"
   },
   "outputs": [
    {
     "name": "stderr",
     "output_type": "stream",
     "text": [
      "09/10/2018 11:09:45 - salt_model_v37.42_high_lovasz_loss_cv1 - INFO - salt_model_v37.42_high_lovasz_loss_cv1, based on salt_model_v37.4_high_lovasz_loss. 5 folds CV.\n"
     ]
    }
   ],
   "source": [
    "log.info(f'{run_name}, based on salt_model_v37.4_high_lovasz_loss. 5 folds CV.')"
   ]
  },
  {
   "cell_type": "code",
   "execution_count": null,
   "metadata": {
    "colab": {},
    "colab_type": "code",
    "id": "R_sJ4aApaZDB"
   },
   "outputs": [],
   "source": [
    "aug_pipeline_config = '''\n",
    "p = Pipeline_Salt()\n",
    "p.flip_left_right(probability=0.5)\n",
    "p.rotate90(0.25)\n",
    "p.rotate270(0.25)\n",
    "p.random_brightness(probability=0.5, min_factor=0.8, max_factor=1.2)\n",
    "p.random_contrast(probability=0.5, min_factor=0.8, max_factor=1.2)\n",
    "p.rotate_random_align(probability=0.5)\n",
    "p.crop_random_align(probability=0.5, min_factor=0.6, max_factor=1.0, mask_diff_pct=0.2)\n",
    "'''"
   ]
  },
  {
   "cell_type": "code",
   "execution_count": null,
   "metadata": {
    "colab": {},
    "colab_type": "code",
    "id": "U7gYECBYaZDJ"
   },
   "outputs": [],
   "source": [
    "data_loader_config = '''\n",
    "train_data_params = {'batch_size': 32,\n",
    "                     #'sampler': weighted_sampler,\n",
    "                     'shuffle': True,\n",
    "                     'drop_last': False}\n",
    "\n",
    "val_data_params = {'batch_size': 32,\n",
    "                   'shuffle': True,\n",
    "                   'drop_last': False}\n",
    "\n",
    "train_dataLoader = (\n",
    "    DataLoader(SaltDataset(X_train, y_train, depth_train,\n",
    "                           np.zeros_like(X_train_mean_img), out_size=128,  out_ch=1,\n",
    "                           transform=p.torch_transform()), **train_data_params)\n",
    ")\n",
    "\n",
    "val_dataLoader = (\n",
    "    DataLoader(SaltDataset(X_val, y_val, depth_val, \n",
    "                           np.zeros_like(X_train_mean_img), out_size=128, out_ch=1), **val_data_params)\n",
    ")\n",
    "\n",
    "dataloaders = {'train': train_dataLoader, 'val':val_dataLoader}\n",
    "'''"
   ]
  },
  {
   "cell_type": "code",
   "execution_count": null,
   "metadata": {
    "colab": {},
    "colab_type": "code",
    "id": "2E3iHDtlaZDR"
   },
   "outputs": [],
   "source": [
    "model_config = '''\n",
    "saltnet = UResNet(pretrained=True)\n",
    "loss_fn_bce = nn.BCEWithLogitsLoss(pos_weight=torch.tensor(2.0).type(dtype))\n",
    "#loss_focal = FocalLoss(0.25, 2, logits=True)\n",
    "loss_lovasz_hinge = LovaszHingeLoss()\n",
    "resnet_params = (\n",
    "    list(saltnet.conv1.parameters()) + \n",
    "    list(saltnet.encoder2.parameters()) + \n",
    "    list(saltnet.encoder3.parameters()) + \n",
    "    list(saltnet.encoder4.parameters()) + \n",
    "    list(saltnet.encoder5.parameters())\n",
    ")\n",
    "\n",
    "unet_params = (\n",
    "    list(saltnet.center.parameters()) + \n",
    "    list(saltnet.decoder5.parameters()) + \n",
    "    list(saltnet.decoder4.parameters()) + \n",
    "    list(saltnet.decoder3.parameters()) + \n",
    "    list(saltnet.decoder2.parameters()) + \n",
    "    list(saltnet.decoder1.parameters())  + \n",
    "    list(saltnet.se_f.parameters()) + \n",
    "    list(saltnet.outc.parameters())\n",
    ")\n",
    "optimizer = optim.Adam([    \n",
    "    {'params': resnet_params, 'lr': 1e-4},\n",
    "    {'params': unet_params, 'lr': 1e-3},\n",
    "], weight_decay=0.0001)\n",
    "\n",
    "\n",
    "scheduler = PolyLR(optimizer, [1e-4, 1e-3], lr_decay_iter=1, max_iter=150, power=0.9)\n",
    "model_save_name = model_file_suffix\n",
    "log.info(model_save_name)\n",
    "'''"
   ]
  },
  {
   "cell_type": "code",
   "execution_count": null,
   "metadata": {
    "colab": {},
    "colab_type": "code",
    "id": "I0YGWcupaZDW"
   },
   "outputs": [],
   "source": [
    "train_params_config = '''\n",
    "train_params = {\n",
    "    'model_save_name': model_save_name,\n",
    "    'save_model_every': 20,\n",
    "    'save_log_every': 2,\n",
    "    'num_epochs': 150,\n",
    "    'log': log,\n",
    "    'mask_cutoff': 0.,\n",
    "    'model_save_iou_threshold': 0.81\n",
    "    }\n",
    "'''"
   ]
  },
  {
   "cell_type": "code",
   "execution_count": null,
   "metadata": {
    "colab": {},
    "colab_type": "code",
    "id": "Njb68KldaZDZ"
   },
   "outputs": [],
   "source": [
    "model_run_config = '''\n",
    "train_model(saltnet, dataloaders, (loss_fn_bce, loss_lovasz_hinge), (1, 0.3), optimizer, scheduler, train_params, all_data)\n",
    "'''"
   ]
  },
  {
   "cell_type": "code",
   "execution_count": null,
   "metadata": {
    "colab": {},
    "colab_type": "code",
    "id": "-VbLGjnuaZDc"
   },
   "outputs": [],
   "source": [
    "config_list = [aug_pipeline_config, data_loader_config, model_config, train_params_config, model_run_config]"
   ]
  },
  {
   "cell_type": "code",
   "execution_count": null,
   "metadata": {
    "colab": {
     "base_uri": "https://localhost:8080/",
     "height": 1886
    },
    "colab_type": "code",
    "id": "YTb0lfCGaZDe",
    "outputId": "3e2a9bcf-4c33-436c-fe29-0c5484d58809"
   },
   "outputs": [
    {
     "name": "stderr",
     "output_type": "stream",
     "text": [
      "09/10/2018 11:10:05 - salt_model_v37.42_high_lovasz_loss_cv1 - INFO - \n",
      "p = Pipeline_Salt()\n",
      "p.flip_left_right(probability=0.5)\n",
      "p.rotate90(0.25)\n",
      "p.rotate270(0.25)\n",
      "p.random_brightness(probability=0.5, min_factor=0.8, max_factor=1.2)\n",
      "p.random_contrast(probability=0.5, min_factor=0.8, max_factor=1.2)\n",
      "p.rotate_random_align(probability=0.5)\n",
      "p.crop_random_align(probability=0.5, min_factor=0.6, max_factor=1.0, mask_diff_pct=0.2)\n",
      "\n",
      "09/10/2018 11:10:05 - salt_model_v37.42_high_lovasz_loss_cv1 - INFO - \n",
      "train_data_params = {'batch_size': 32,\n",
      "                     #'sampler': weighted_sampler,\n",
      "                     'shuffle': True,\n",
      "                     'drop_last': False}\n",
      "\n",
      "val_data_params = {'batch_size': 32,\n",
      "                   'shuffle': True,\n",
      "                   'drop_last': False}\n",
      "\n",
      "train_dataLoader = (\n",
      "    DataLoader(SaltDataset(X_train, y_train, depth_train,\n",
      "                           np.zeros_like(X_train_mean_img), out_size=128,  out_ch=1,\n",
      "                           transform=p.torch_transform()), **train_data_params)\n",
      ")\n",
      "\n",
      "val_dataLoader = (\n",
      "    DataLoader(SaltDataset(X_val, y_val, depth_val, \n",
      "                           np.zeros_like(X_train_mean_img), out_size=128, out_ch=1), **val_data_params)\n",
      ")\n",
      "\n",
      "dataloaders = {'train': train_dataLoader, 'val':val_dataLoader}\n",
      "\n",
      "09/10/2018 11:10:05 - salt_model_v37.42_high_lovasz_loss_cv1 - INFO - \n",
      "saltnet = UResNet(pretrained=True)\n",
      "loss_fn_bce = nn.BCEWithLogitsLoss(pos_weight=torch.tensor(2.0).type(dtype))\n",
      "#loss_focal = FocalLoss(0.25, 2, logits=True)\n",
      "loss_lovasz_hinge = LovaszHingeLoss()\n",
      "resnet_params = (\n",
      "    list(saltnet.conv1.parameters()) + \n",
      "    list(saltnet.encoder2.parameters()) + \n",
      "    list(saltnet.encoder3.parameters()) + \n",
      "    list(saltnet.encoder4.parameters()) + \n",
      "    list(saltnet.encoder5.parameters())\n",
      ")\n",
      "\n",
      "unet_params = (\n",
      "    list(saltnet.center.parameters()) + \n",
      "    list(saltnet.decoder5.parameters()) + \n",
      "    list(saltnet.decoder4.parameters()) + \n",
      "    list(saltnet.decoder3.parameters()) + \n",
      "    list(saltnet.decoder2.parameters()) + \n",
      "    list(saltnet.decoder1.parameters())  + \n",
      "    list(saltnet.se_f.parameters()) + \n",
      "    list(saltnet.outc.parameters())\n",
      ")\n",
      "optimizer = optim.Adam([    \n",
      "    {'params': resnet_params, 'lr': 1e-4},\n",
      "    {'params': unet_params, 'lr': 1e-3},\n",
      "], weight_decay=0.0001)\n",
      "\n",
      "\n",
      "scheduler = PolyLR(optimizer, [1e-4, 1e-3], lr_decay_iter=1, max_iter=150, power=0.9)\n",
      "model_save_name = model_file_suffix\n",
      "log.info(model_save_name)\n",
      "\n",
      "09/10/2018 11:10:05 - salt_model_v37.42_high_lovasz_loss_cv1 - INFO - \n",
      "train_params = {\n",
      "    'model_save_name': model_save_name,\n",
      "    'save_model_every': 20,\n",
      "    'save_log_every': 2,\n",
      "    'num_epochs': 150,\n",
      "    'log': log,\n",
      "    'mask_cutoff': 0.,\n",
      "    'model_save_iou_threshold': 0.81\n",
      "    }\n",
      "\n",
      "09/10/2018 11:10:05 - salt_model_v37.42_high_lovasz_loss_cv1 - INFO - \n",
      "train_model(saltnet, dataloaders, (loss_fn_bce, loss_lovasz_hinge), (1, 0.3), optimizer, scheduler, train_params, all_data)\n",
      "\n"
     ]
    },
    {
     "name": "stdout",
     "output_type": "stream",
     "text": [
      "ResNet using pretrained weights.\n"
     ]
    },
    {
     "name": "stderr",
     "output_type": "stream",
     "text": [
      "Downloading: \"https://download.pytorch.org/models/resnet34-333f7ec4.pth\" to /root/.torch/models/resnet34-333f7ec4.pth\n",
      "100%|██████████| 87306240/87306240 [00:01<00:00, 79235497.46it/s]\n",
      "09/10/2018 11:10:10 - salt_model_v37.42_high_lovasz_loss_cv1 - INFO - ../salt_net/salt_model_v37.42_high_lovasz_loss_cv1_2018_10_09_22_08_30.ckp\n",
      "09/10/2018 11:10:10 - salt_model_v37.42_high_lovasz_loss_cv1 - INFO - Start Training...\n",
      "09/10/2018 11:10:10 - salt_model_v37.42_high_lovasz_loss_cv1 - INFO - ({'train': <torch.utils.data.dataloader.DataLoader object at 0x7f83145862b0>, 'val': <torch.utils.data.dataloader.DataLoader object at 0x7f83145863c8>}, (BCEWithLogitsLoss(), LovaszHingeLoss()), (1, 0.3), Adam (\n",
      "Parameter Group 0\n",
      "    amsgrad: False\n",
      "    betas: (0.9, 0.999)\n",
      "    eps: 1e-08\n",
      "    lr: 0.0001\n",
      "    weight_decay: 0.0001\n",
      "\n",
      "Parameter Group 1\n",
      "    amsgrad: False\n",
      "    betas: (0.9, 0.999)\n",
      "    eps: 1e-08\n",
      "    lr: 0.001\n",
      "    weight_decay: 0.0001\n",
      "), <salt_func_lib.PolyLR object at 0x7f82d67317f0>, {'model_save_name': '../salt_net/salt_model_v37.42_high_lovasz_loss_cv1_2018_10_09_22_08_30.ckp', 'save_model_every': 20, 'save_log_every': 2, 'num_epochs': 150, 'log': <Logger salt_model_v37.42_high_lovasz_loss_cv1 (DEBUG)>, 'mask_cutoff': 0.0, 'model_save_iou_threshold': 0.81})\n",
      "09/10/2018 11:10:10 - salt_model_v37.42_high_lovasz_loss_cv1 - INFO - Epoch 1/150\n",
      "09/10/2018 11:10:10 - salt_model_v37.42_high_lovasz_loss_cv1 - INFO - --------------------\n",
      "/usr/local/lib/python3.6/dist-packages/torch/nn/functional.py:1890: UserWarning: nn.functional.upsample is deprecated. Use nn.functional.interpolate instead.\n",
      "  warnings.warn(\"nn.functional.upsample is deprecated. Use nn.functional.interpolate instead.\")\n"
     ]
    }
   ],
   "source": [
    "setup_train(config_list)"
   ]
  },
  {
   "cell_type": "markdown",
   "metadata": {
    "colab_type": "text",
    "id": "9MW3YwaZQmOz"
   },
   "source": [
    "## Load Trained Model"
   ]
  },
  {
   "cell_type": "code",
   "execution_count": null,
   "metadata": {
    "colab": {},
    "colab_type": "code",
    "id": "Rg5OoGT5YI-d"
   },
   "outputs": [],
   "source": [
    "cd ../salt_net"
   ]
  },
  {
   "cell_type": "code",
   "execution_count": null,
   "metadata": {
    "colab": {},
    "colab_type": "code",
    "id": "19YvCTYQS-Se"
   },
   "outputs": [],
   "source": [
    "loaded_model = UResNet(pretrained=False)\n",
    "\n",
    "#model_file_suffix = \"Unet_res34_bce_lovasz_loss_se_new_aug_finetuen1_2018_09_21_09_41_48.ckp\"\n",
    "model_state_dict = torch.load(join_files(model_file_suffix, '.', returnFileObject=True, removeChunks=False))\n",
    "loaded_model.load_state_dict(model_state_dict['model'])"
   ]
  },
  {
   "cell_type": "markdown",
   "metadata": {
    "colab_type": "text",
    "id": "PbgxXtYH3KpR"
   },
   "source": [
    "### Make Predictions on validation set"
   ]
  },
  {
   "cell_type": "markdown",
   "metadata": {
    "colab_type": "text",
    "id": "W0cFNMM0QmO4"
   },
   "source": [
    "### Set model to evaluation mode"
   ]
  },
  {
   "cell_type": "code",
   "execution_count": null,
   "metadata": {
    "colab": {},
    "colab_type": "code",
    "id": "izo8iByg3KpP"
   },
   "outputs": [],
   "source": [
    "loaded_model.eval()\n",
    "assert loaded_model.training == False"
   ]
  },
  {
   "cell_type": "code",
   "execution_count": null,
   "metadata": {
    "colab": {},
    "colab_type": "code",
    "id": "zfdN-P-j3KpS"
   },
   "outputs": [],
   "source": [
    "val_dataLoader = DataLoader(SaltDataset(X_val, y_val, depth_val, X_train_mean_img, out_size=128), batch_size=16)"
   ]
  },
  {
   "cell_type": "code",
   "execution_count": null,
   "metadata": {
    "colab": {},
    "colab_type": "code",
    "id": "7M0ZHG7o6swA"
   },
   "outputs": [],
   "source": [
    "if torch.cuda.is_available():\n",
    "    loaded_model.cuda()"
   ]
  },
  {
   "cell_type": "markdown",
   "metadata": {
    "colab_type": "text",
    "id": "F8_AINAPClPN"
   },
   "source": [
    "### Eval model on Val data set"
   ]
  },
  {
   "cell_type": "code",
   "execution_count": null,
   "metadata": {
    "colab": {},
    "colab_type": "code",
    "id": "JMuArCUd3KpU"
   },
   "outputs": [],
   "source": [
    "y_val_pred = []\n",
    "\n",
    "with torch.no_grad():\n",
    "    for X_val_batch, y_val_batch, depth_val_batch, X_val_id_batch in val_dataLoader:\n",
    "        y_val_pred.append(loaded_model(X_val_batch))\n",
    "y_val_pred = torch.cat(y_val_pred)"
   ]
  },
  {
   "cell_type": "code",
   "execution_count": null,
   "metadata": {
    "colab": {},
    "colab_type": "code",
    "id": "B7EYzvT0fyPx"
   },
   "outputs": [],
   "source": [
    "p = Pipeline_Salt()\n",
    "p.flip_left_right(probability=1)\n",
    "val_dataLoader = DataLoader(SaltDataset(X_val, y_val, depth_val, X_train_mean_img, out_size=128, out_ch=1,\n",
    "                           transform=p.torch_transform()), batch_size=16)\n",
    "y_val_pred_flip = []\n",
    "\n",
    "with torch.no_grad():\n",
    "    for X_val_batch, y_val_batch, depth_val_batch, X_val_id_batch in val_dataLoader:\n",
    "        y_val_pred_flip.append(loaded_model(X_val_batch))\n",
    "y_val_pred_flip = torch.cat(y_val_pred_flip)\n",
    "y_val_pred_flip = torch.flip(y_val_pred_flip,[2])"
   ]
  },
  {
   "cell_type": "markdown",
   "metadata": {
    "colab_type": "text",
    "id": "u1_1icxBCsP3"
   },
   "source": [
    "#### merge normal pred and hflip pred"
   ]
  },
  {
   "cell_type": "code",
   "execution_count": null,
   "metadata": {
    "colab": {},
    "colab_type": "code",
    "id": "FZNYVKKPf0if"
   },
   "outputs": [],
   "source": [
    "y_val_pred_ens = torch.where(y_val_pred.abs() > y_val_pred_flip.abs(), y_val_pred, y_val_pred_flip)"
   ]
  },
  {
   "cell_type": "markdown",
   "metadata": {
    "colab_type": "text",
    "id": "wBO4WrvnCyex"
   },
   "source": [
    "#### Check normal pred IOU"
   ]
  },
  {
   "cell_type": "code",
   "execution_count": null,
   "metadata": {
    "colab": {},
    "colab_type": "code",
    "id": "hSYVoI88HApH"
   },
   "outputs": [],
   "source": [
    "y_val_pred_adj = adjust_predictions(0, X_val, y_val_pred.gt(0), y_val.squeeze())"
   ]
  },
  {
   "cell_type": "markdown",
   "metadata": {
    "colab_type": "text",
    "id": "EzTNcpMUC6Qo"
   },
   "source": [
    "#### Check TTA pred IOU"
   ]
  },
  {
   "cell_type": "code",
   "execution_count": null,
   "metadata": {
    "colab": {},
    "colab_type": "code",
    "id": "230OrjoPf0_K"
   },
   "outputs": [],
   "source": [
    "y_val_pred_adj = adjust_predictions(0, X_val, y_val_pred_ens.gt(0), y_val.squeeze())"
   ]
  },
  {
   "cell_type": "markdown",
   "metadata": {
    "colab_type": "text",
    "id": "PYOWBAw7DCss"
   },
   "source": [
    "### Find best mask cutoff"
   ]
  },
  {
   "cell_type": "code",
   "execution_count": null,
   "metadata": {
    "colab": {},
    "colab_type": "code",
    "id": "dg4ZJEH_7VV2"
   },
   "outputs": [],
   "source": [
    "results=[]\n",
    "for cut_off in np.r_[-0.1:0.1:50j]:\n",
    "  print(cut_off)\n",
    "  results.append(calc_mean_iou(adjust_predictions(0, X_val, y_val_pred_ens.gt(cut_off), y_val.squeeze()), y_val.squeeze()))"
   ]
  },
  {
   "cell_type": "code",
   "execution_count": null,
   "metadata": {
    "colab": {},
    "colab_type": "code",
    "id": "uXUNORfK8G4S"
   },
   "outputs": [],
   "source": [
    "MASK_CUTOFF = np.r_[-0.1:0.1:50j][np.argmax(results)]\n",
    "ZERO_MASK_CUTOFF = 0"
   ]
  },
  {
   "cell_type": "code",
   "execution_count": null,
   "metadata": {
    "colab": {},
    "colab_type": "code",
    "id": "5_ka-iqTgCYL"
   },
   "outputs": [],
   "source": [
    "log.info(f'MASK_CUTOFF: {MASK_CUTOFF}')\n",
    "log.info(f'ZERO_MASK_CUTOFF: {ZERO_MASK_CUTOFF}')"
   ]
  },
  {
   "cell_type": "code",
   "execution_count": null,
   "metadata": {
    "colab": {},
    "colab_type": "code",
    "id": "mQ2C6bakEDYE"
   },
   "outputs": [],
   "source": [
    "y_val_pred_adj = adjust_predictions(ZERO_MASK_CUTOFF, X_val, y_val_pred_ens.gt(MASK_CUTOFF), y_val.squeeze())"
   ]
  },
  {
   "cell_type": "markdown",
   "metadata": {
    "colab_type": "text",
    "id": "ZkzyRPIMDrAz"
   },
   "source": [
    "## Make predictions on test set using TTA"
   ]
  },
  {
   "cell_type": "code",
   "execution_count": null,
   "metadata": {
    "colab": {},
    "colab_type": "code",
    "id": "x38qXbAkmFSH"
   },
   "outputs": [],
   "source": [
    "import numpy as np"
   ]
  },
  {
   "cell_type": "markdown",
   "metadata": {
    "colab_type": "text",
    "id": "AfLrLArrEK5m"
   },
   "source": [
    "### Predict using original image"
   ]
  },
  {
   "cell_type": "code",
   "execution_count": null,
   "metadata": {
    "colab": {},
    "colab_type": "code",
    "id": "bUDZxfzlD_Os"
   },
   "outputs": [],
   "source": [
    "test_dataLoader = DataLoader(SaltDataset(X_test, np.zeros_like(X_test), depth_test, X_train_mean_img, out_size=128), batch_size=32)"
   ]
  },
  {
   "cell_type": "code",
   "execution_count": null,
   "metadata": {
    "colab": {},
    "colab_type": "code",
    "id": "cqKBooA3EC4b"
   },
   "outputs": [],
   "source": [
    "y_test_pred_raw = []\n",
    "with torch.no_grad():\n",
    "    for X_test_batch, y_test_batch, depth_test_batch, X_test_id_batch in test_dataLoader:\n",
    "        y_test_pred_raw.append(loaded_model(X_test_batch))\n",
    "y_test_pred = torch.cat(y_test_pred_raw)"
   ]
  },
  {
   "cell_type": "markdown",
   "metadata": {
    "colab_type": "text",
    "id": "e7BiVrQKEFrk"
   },
   "source": [
    "### Predict using flipped images"
   ]
  },
  {
   "cell_type": "code",
   "execution_count": null,
   "metadata": {
    "colab": {},
    "colab_type": "code",
    "id": "KjPkHzKBmz7s"
   },
   "outputs": [],
   "source": [
    "p = Pipeline_Salt()\n",
    "p.flip_left_right(probability=1)\n",
    "test_dataLoader = DataLoader(SaltDataset(X_test, np.zeros_like(X_test), depth_test, X_train_mean_img, out_size=128, out_ch=1,\n",
    "                           transform=p.torch_transform()), batch_size=32)\n",
    "y_test_pred_flip = []\n",
    "\n",
    "with torch.no_grad():\n",
    "    for X_test_batch, y_test_batch, depth_test_batch, X_test_id_batch in test_dataLoader:\n",
    "        y_test_pred_flip.append(loaded_model(X_test_batch))\n",
    "y_test_pred_flip = torch.cat(y_test_pred_flip)\n",
    "y_test_pred_flip = torch.flip(y_test_pred_flip,[2])"
   ]
  },
  {
   "cell_type": "markdown",
   "metadata": {
    "colab_type": "text",
    "id": "U9t1Z0kiEQkG"
   },
   "source": [
    "### Combine non-flip and flip predictions"
   ]
  },
  {
   "cell_type": "code",
   "execution_count": null,
   "metadata": {
    "colab": {},
    "colab_type": "code",
    "id": "_zUtOPXwmz7y"
   },
   "outputs": [],
   "source": [
    "y_test_pred_ens = torch.where(y_test_pred.abs() > y_test_pred_flip.abs(), y_test_pred, y_test_pred_flip)"
   ]
  },
  {
   "cell_type": "markdown",
   "metadata": {
    "colab_type": "text",
    "id": "bzkEuhBwEXBl"
   },
   "source": [
    "### Adjust predictions"
   ]
  },
  {
   "cell_type": "code",
   "execution_count": null,
   "metadata": {
    "colab": {},
    "colab_type": "code",
    "id": "JaDNBnwsBqF5"
   },
   "outputs": [],
   "source": [
    "#MASK_CUTOFF = 0\n",
    "#ZERO_MASK_CUTOFF = 0"
   ]
  },
  {
   "cell_type": "code",
   "execution_count": null,
   "metadata": {
    "colab": {},
    "colab_type": "code",
    "id": "89y4w6drFKSl"
   },
   "outputs": [],
   "source": [
    "log.info(f'MASK_CUTOFF:{MASK_CUTOFF}, ZERO_MASK_CUTOFF:{ZERO_MASK_CUTOFF}')"
   ]
  },
  {
   "cell_type": "code",
   "execution_count": null,
   "metadata": {
    "colab": {},
    "colab_type": "code",
    "id": "kSe7dmyMqnPF"
   },
   "outputs": [],
   "source": [
    "y_test_pred_adj = adjust_predictions(ZERO_MASK_CUTOFF, X_test, y_test_pred_ens.gt(MASK_CUTOFF))\n"
   ]
  },
  {
   "cell_type": "markdown",
   "metadata": {
    "colab_type": "text",
    "id": "Bmi3NISwEaOt"
   },
   "source": [
    "### Prepare for submission"
   ]
  },
  {
   "cell_type": "code",
   "execution_count": null,
   "metadata": {
    "colab": {},
    "colab_type": "code",
    "id": "fATv5NS6hnkU"
   },
   "outputs": [],
   "source": [
    "y_test_pred_rle = rle_encoder3d(y_test_pred_adj)"
   ]
  },
  {
   "cell_type": "code",
   "execution_count": null,
   "metadata": {
    "colab": {},
    "colab_type": "code",
    "id": "hwSpGmvthnkd"
   },
   "outputs": [],
   "source": [
    "df_test_rle = pd.DataFrame(index=misc_data['np_test_ids'], data=y_test_pred_rle).reset_index()"
   ]
  },
  {
   "cell_type": "code",
   "execution_count": null,
   "metadata": {
    "colab": {},
    "colab_type": "code",
    "id": "r3bS6FoNhnki"
   },
   "outputs": [],
   "source": [
    "df_test_rle.columns = ['id', 'rle_mask']"
   ]
  },
  {
   "cell_type": "code",
   "execution_count": null,
   "metadata": {
    "colab": {},
    "colab_type": "code",
    "id": "lQG1tXELVdPP"
   },
   "outputs": [],
   "source": [
    "sub_fname = f'submission_{get_current_time_as_fname()}.csv'"
   ]
  },
  {
   "cell_type": "code",
   "execution_count": null,
   "metadata": {
    "colab": {},
    "colab_type": "code",
    "id": "xr_NOtxBhnky"
   },
   "outputs": [],
   "source": [
    "df_test_rle.to_csv(sub_fname, index=False)"
   ]
  },
  {
   "cell_type": "code",
   "execution_count": null,
   "metadata": {
    "colab": {},
    "colab_type": "code",
    "id": "n__2CiMjhnk2"
   },
   "outputs": [],
   "source": [
    "log.info(f'submission file {sub_fname} generated.')"
   ]
  },
  {
   "cell_type": "code",
   "execution_count": null,
   "metadata": {
    "colab": {},
    "colab_type": "code",
    "id": "fCv-diichnk4"
   },
   "outputs": [],
   "source": [
    "from google.colab import files"
   ]
  },
  {
   "cell_type": "code",
   "execution_count": null,
   "metadata": {
    "colab": {},
    "colab_type": "code",
    "id": "NgzFDdcShnlA"
   },
   "outputs": [],
   "source": [
    "files.download(sub_fname) "
   ]
  },
  {
   "cell_type": "code",
   "execution_count": null,
   "metadata": {
    "colab": {},
    "colab_type": "code",
    "id": "1D61fkPaiUR4"
   },
   "outputs": [],
   "source": [
    "log.info(f'submission file {sub_fname} downloaded.')"
   ]
  },
  {
   "cell_type": "code",
   "execution_count": null,
   "metadata": {
    "colab": {},
    "colab_type": "code",
    "id": "3YDGt2HiWmcH"
   },
   "outputs": [],
   "source": [
    "data_dict = {'run_name': run_name,\n",
    "             'y_val_pred': y_val_pred,\n",
    "             'y_val_pred_flip': y_val_pred_flip,\n",
    "             'y_val_pred_ens': y_val_pred_ens,\n",
    "             'y_test_pred':, y_test_pred,\n",
    "             'y_test_pred_flip':, y_test_pred_flip,\n",
    "             'y_test_pred_adj':, y_test_pred_adj,\n",
    "             'df_test_rle': df_test_rle}"
   ]
  },
  {
   "cell_type": "code",
   "execution_count": null,
   "metadata": {
    "colab": {},
    "colab_type": "code",
    "id": "dgiEmotjXtGP"
   },
   "outputs": [],
   "source": [
    "import pickle\n",
    "\n",
    "with open(f'{run_name}_{get_current_time_as_fname()}.pickle', 'wb') as handle:\n",
    "    pickle.dump(data_dict, handle, protocol=pickle.HIGHEST_PROTOCOL)\n",
    "\n"
   ]
  },
  {
   "cell_type": "code",
   "execution_count": null,
   "metadata": {
    "colab": {},
    "colab_type": "code",
    "id": "dQE1T0pKXxQk"
   },
   "outputs": [],
   "source": [
    "push_model_to_git()"
   ]
  },
  {
   "cell_type": "code",
   "execution_count": null,
   "metadata": {
    "colab": {},
    "colab_type": "code",
    "id": "iKt9V0iLhj7e"
   },
   "outputs": [],
   "source": []
  }
 ],
 "metadata": {
  "accelerator": "GPU",
  "colab": {
   "name": "salt_model_data_loader_V3.ipynb",
   "provenance": [],
   "version": "0.3.2"
  },
  "kernelspec": {
   "display_name": "Python 3",
   "language": "python",
   "name": "python3"
  },
  "language_info": {
   "codemirror_mode": {
    "name": "ipython",
    "version": 3
   },
   "file_extension": ".py",
   "mimetype": "text/x-python",
   "name": "python",
   "nbconvert_exporter": "python",
   "pygments_lexer": "ipython3",
   "version": "3.6.4"
  }
 },
 "nbformat": 4,
 "nbformat_minor": 2
}
