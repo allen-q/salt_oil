{
 "cells": [
  {
   "cell_type": "markdown",
   "metadata": {
    "colab_type": "text",
    "id": "IUnFr6MO3Kk3"
   },
   "source": [
    "# Changes:\n",
    "1. Use updated data augumentation functions.\n",
    "2. Use ReduceLROnPlateau scheduler\n",
    "3. Fine tune based on previous version trained with 150 epochs."
   ]
  },
  {
   "cell_type": "code",
   "execution_count": null,
   "metadata": {
    "colab": {},
    "colab_type": "code",
    "id": "5hdPPwPRK5Y7"
   },
   "outputs": [],
   "source": []
  },
  {
   "cell_type": "markdown",
   "metadata": {
    "colab_type": "text",
    "id": "xaO5fG0VW5gB"
   },
   "source": [
    "## Install required packages if running on google colab"
   ]
  },
  {
   "cell_type": "code",
   "execution_count": null,
   "metadata": {
    "colab": {
     "base_uri": "https://localhost:8080/",
     "height": 894
    },
    "colab_type": "code",
    "id": "8n6EgF7sW5gC",
    "outputId": "76139c39-38ce-49ed-ba1f-faa570f81a5f"
   },
   "outputs": [],
   "source": [
    "try:\n",
    "    import torch\n",
    "except:\n",
    "    !pip install torch torchvision\n",
    "    !pip install imageio\n",
    "    !pip install Augmentor\n",
    "    !git clone https://github.com/allen-q/salt_oil.git\n",
    "    !git clone https://github.com/allen-q/salt_net.git"
   ]
  },
  {
   "cell_type": "code",
   "execution_count": null,
   "metadata": {
    "colab": {
     "base_uri": "https://localhost:8080/",
     "height": 34
    },
    "colab_type": "code",
    "id": "p3h4PngQ0s86",
    "outputId": "98350858-f59a-4670-e1cb-c88f3839d31b"
   },
   "outputs": [],
   "source": [
    "cd salt_oil"
   ]
  },
  {
   "cell_type": "markdown",
   "metadata": {
    "colab_type": "text",
    "id": "UVnBJygnW5gK"
   },
   "source": [
    "## Import required libs"
   ]
  },
  {
   "cell_type": "code",
   "execution_count": null,
   "metadata": {
    "colab": {},
    "colab_type": "code",
    "id": "x1VSamfH3Kk6"
   },
   "outputs": [],
   "source": [
    "import zipfile\n",
    "import torch\n",
    "import torchvision\n",
    "import torch.nn as nn\n",
    "import torch.nn.functional as F\n",
    "from torch.utils import data\n",
    "from torch.utils.data import Dataset, DataLoader\n",
    "from torchvision import transforms, utils\n",
    "from skimage import io, transform\n",
    "from sklearn.model_selection import train_test_split\n",
    "import numpy as np\n",
    "import pandas as pd\n",
    "import matplotlib.pyplot as ply\n",
    "import os\n",
    "import imageio\n",
    "from PIL import Image\n",
    "import glob\n",
    "import matplotlib.pyplot as plt\n",
    "import time\n",
    "import math\n",
    "import datetime as dt\n",
    "import pytz\n",
    "import pickle\n",
    "from salt_func_lib import *\n",
    "from torchvision import transforms, utils\n",
    "from skimage import io, transform\n",
    "import datetime as dt\n",
    "import sys\n",
    "from optparse import OptionParser\n",
    "import torch.backends.cudnn as cudnn\n",
    "from torch import optim\n",
    "from torch.optim import lr_scheduler\n",
    "import copy\n",
    "from io import BytesIO\n",
    "import Augmentor\n",
    "from Augmentor.Operations import *\n",
    "from Augmentor import *\n",
    "import random\n",
    "import PIL\n",
    "import cv2 as cv\n",
    "% matplotlib inline\n",
    "% load_ext autoreload\n",
    "% autoreload 2"
   ]
  },
  {
   "cell_type": "markdown",
   "metadata": {
    "colab_type": "text",
    "id": "I87qLhAOW5gO"
   },
   "source": [
    "## Load Unet Modules"
   ]
  },
  {
   "cell_type": "code",
   "execution_count": null,
   "metadata": {
    "colab": {},
    "colab_type": "code",
    "id": "eC32auGDqVZi"
   },
   "outputs": [],
   "source": [
    "from pytorch_unet.eval import eval_net\n",
    "from pytorch_unet.unet import UNet\n",
    "from pytorch_unet.unet.unet_parts import *\n",
    "from pytorch_unet.unet.resnet_v8 import *\n",
    "from pytorch_unet.utils import get_ids, split_ids, split_train_val, get_imgs_and_masks, batch"
   ]
  },
  {
   "cell_type": "code",
   "execution_count": null,
   "metadata": {
    "colab": {},
    "colab_type": "code",
    "id": "6O8Wz9H_iTDE"
   },
   "outputs": [],
   "source": [
    "## Setup data type based on whether GPU is enabled"
   ]
  },
  {
   "cell_type": "code",
   "execution_count": null,
   "metadata": {
    "colab": {},
    "colab_type": "code",
    "id": "QKYhIfCtEk6C"
   },
   "outputs": [],
   "source": [
    "if torch.cuda.is_available():\n",
    "    dtype = torch.cuda.FloatTensor ## UNCOMMENT THIS LINE IF YOU'RE ON A GPU!\n",
    "else:    \n",
    "    dtype = torch.FloatTensor"
   ]
  },
  {
   "cell_type": "code",
   "execution_count": null,
   "metadata": {
    "colab": {
     "base_uri": "https://localhost:8080/",
     "height": 34
    },
    "colab_type": "code",
    "id": "51wk3a_bTtv-",
    "outputId": "e8e0aadf-fd7b-46eb-d4ce-36d7bfcd46d6"
   },
   "outputs": [],
   "source": [
    "print(f'Data Type set to: {dtype}')"
   ]
  },
  {
   "cell_type": "markdown",
   "metadata": {
    "colab_type": "text",
    "id": "30EV6nbKbtyV"
   },
   "source": [
    "## Create Global Variables"
   ]
  },
  {
   "cell_type": "code",
   "execution_count": null,
   "metadata": {
    "colab": {},
    "colab_type": "code",
    "id": "8zcHyi6AMfDf"
   },
   "outputs": [],
   "source": [
    "def init_global_variables():\n",
    "    \"\"\"initialize global variables such as db connection, logger etc.\"\"\"\n",
    "    global log\n",
    "    log = get_logger('SaltNet')"
   ]
  },
  {
   "cell_type": "code",
   "execution_count": null,
   "metadata": {
    "colab": {},
    "colab_type": "code",
    "id": "CLILkc8Vbtya"
   },
   "outputs": [],
   "source": [
    "init_global_variables()"
   ]
  },
  {
   "cell_type": "code",
   "execution_count": null,
   "metadata": {
    "colab": {},
    "colab_type": "code",
    "id": "DNoyvMPbFOF6"
   },
   "outputs": [],
   "source": [
    "def adjust_brightness(img, alpha=None, beta=None):\n",
    "    if alpha is None:\n",
    "        # get a random num from 0.75 to 1.25\n",
    "        alpha = (random.random()/2)+0.75\n",
    "    if beta is None:\n",
    "        # get a random num from -30 to 30\n",
    "        beta = round((random.random()-0.5)*60)\n",
    "    #print(f'a:{alpha}, b:{beta}')\n",
    "    img_new = cv.convertScaleAbs(img, alpha=alpha, beta=beta)\n",
    "    return img_new.reshape(img.shape)"
   ]
  },
  {
   "cell_type": "code",
   "execution_count": null,
   "metadata": {
    "colab": {},
    "colab_type": "code",
    "id": "KwNexNnZxQ7k"
   },
   "outputs": [],
   "source": [
    "class SaltDataset(Dataset):\n",
    "    \"\"\"Face Landmarks dataset.\"\"\"\n",
    "\n",
    "    def __init__(self, np_img, np_mask, df_depth, mean_img, out_size=101, \n",
    "                 out_ch=1, transform=None, random_brightness=0):\n",
    "        \"\"\"\n",
    "        Args:\n",
    "            data_dir (string): Path to the image files.\n",
    "            train (bool): Load train or test data\n",
    "            transform (callable, optional): Optional transform to be applied\n",
    "                on a sample.\n",
    "        \"\"\"\n",
    "        self.np_img = np_img\n",
    "        self.np_mask = np_mask.clip(0,1)\n",
    "        self.df_depth = df_depth\n",
    "        self.mean_img = mean_img\n",
    "        self.out_size = out_size\n",
    "        self.out_ch = out_ch\n",
    "        self.transform = transform\n",
    "        self.random_brightness = random_brightness\n",
    "\n",
    "    def __len__(self):\n",
    "        return len(self.np_img)\n",
    "\n",
    "    def __getitem__(self, idx):\n",
    "        if isinstance(idx, torch.Tensor):\n",
    "            idx = idx.item()\n",
    "            \n",
    "        X = self.np_img[idx]\n",
    "        #X = X - self.mean_img\n",
    "\n",
    "        if self.np_mask is None:\n",
    "            y = np.zeros((101,101,1))\n",
    "        else:\n",
    "            y = self.np_mask[idx]\n",
    "\n",
    "        if self.transform:\n",
    "            img_in = PIL.Image.fromarray(np.c_[np.tile(X, 2), y*255])\n",
    "            #img_in = PIL.Image.fromarray(np.tile(y, 3)*255)\n",
    "            transformed = np.array(self.transform(img_in))\n",
    "            #X = np.clip(transformed[:,:,0:1]/255, 0., 1.) - self.mean_img\n",
    "            X = transformed[:,:,0:1]\n",
    "            y = np.clip(transformed[:,:,2:3]/255, 0., 1.)\n",
    "            \n",
    "        if self.random_brightness > random.random():            \n",
    "            X = adjust_brightness(X)\n",
    "            X = np.clip(X/255, 0., 1.) - self.mean_img\n",
    "        else:\n",
    "            X = np.clip(X/255, 0., 1.) - self.mean_img            \n",
    "        #from boxx import g\n",
    "        #g()\n",
    "        X = np.moveaxis(X, -1,0)\n",
    "\n",
    "        pad_size = self.out_size - X.shape[2]\n",
    "        pad_first = pad_size//2\n",
    "        pad_last = pad_size - pad_first\n",
    "        X = np.pad(X, [(0, 0),(pad_first, pad_last), (pad_first, pad_last)], mode='reflect')\n",
    "\n",
    "        d = self.df_depth.iloc[idx,0]\n",
    "\n",
    "        X = torch.from_numpy(X).float().type(dtype)\n",
    "        X = X.repeat(self.out_ch,1,1)\n",
    "        y = transform.resize(y, (101, 101), mode='constant', preserve_range=True)\n",
    "        y = torch.from_numpy(y).ge(0.5).float().squeeze().type(dtype)\n",
    "\n",
    "        return (X,y,d,idx)"
   ]
  },
  {
   "cell_type": "code",
   "execution_count": null,
   "metadata": {
    "colab": {},
    "colab_type": "code",
    "id": "Q0_gBiSvxQ7n"
   },
   "outputs": [],
   "source": [
    "class Pipeline_Salt(Augmentor.Pipeline):\n",
    "    def __init__(self, source_directory=None, output_directory=\"output\", save_format=None):\n",
    "        super(Pipeline_Salt, self).__init__(source_directory, output_directory, save_format)\n",
    "\n",
    "    def torch_transform(self):\n",
    "        def _transform(image):\n",
    "            for operation in self.operations:\n",
    "                r = round(random.uniform(0, 1), 1)\n",
    "                if r <= operation.probability:\n",
    "                    if not isinstance(image, list):\n",
    "                        image = [image]                        \n",
    "                    #print(type(operation))\n",
    "                    #print(np.array(image[0]).shape)                        \n",
    "                    image = operation.perform_operation(image)[0]\n",
    "\n",
    "            return image\n",
    "\n",
    "            \n",
    "        return _transform\n",
    "    \n",
    "    def crop_random_align(self, probability, min_factor, max_factor, mask_diff_pct, resample_filter=\"BICUBIC\"):     \n",
    "        if not 0 < probability <= 1:\n",
    "            raise ValueError(Pipeline._probability_error_text)\n",
    "        elif not (min_factor>0) and (min_factor<=1):\n",
    "            raise ValueError(\"min_factor must be between 0 and 1.\")\n",
    "        elif not (max_factor>0) and (min_factor<=1):\n",
    "            raise ValueError(\"max_factor must be between 0 and 1.\")\n",
    "        elif resample_filter not in Pipeline._legal_filters:\n",
    "            raise ValueError(\"The save_filter argument must be one of %s.\" % Pipeline._legal_filters)\n",
    "        else:\n",
    "            self.add_operation(CropRandomAlign(probability, min_factor, max_factor, mask_diff_pct, resample_filter))\n",
    "            \n",
    "    def resize_random(self, probability, min_factor, max_factor, resample_filter=\"BICUBIC\"):\n",
    "        if not 0 < probability <= 1:\n",
    "            raise ValueError(Pipeline._probability_error_text)\n",
    "        elif resample_filter not in Pipeline._legal_filters:\n",
    "            raise ValueError(\"The save_filter argument must be one of %s.\" % Pipeline._legal_filters)\n",
    "        else:\n",
    "            self.add_operation(ResizeRandom(probability=probability, min_factor=min_factor,\n",
    "                                            max_factor=max_factor, resample_filter=resample_filter))"
   ]
  },
  {
   "cell_type": "code",
   "execution_count": null,
   "metadata": {
    "colab": {},
    "colab_type": "code",
    "id": "rZ_h79Pusl6e"
   },
   "outputs": [],
   "source": [
    "class ResizeRandom(Operation):\n",
    "    \"\"\"\n",
    "    This class is used to resize an image by a random factor between min_factor and max_factor.\n",
    "    \"\"\"\n",
    "    def __init__(self, probability, min_factor, max_factor, resample_filter=\"BICUBIC\"):\n",
    "        Operation.__init__(self, probability)\n",
    "        self.min_factor = min_factor\n",
    "        self.max_factor = max_factor\n",
    "        self.resample_filter = resample_filter\n",
    "\n",
    "    def perform_operation(self, images):\n",
    "        \"\"\"\n",
    "        Resize the passed image and returns the resized image. Uses the\n",
    "        parameters passed to the constructor to resize the passed image.\n",
    "\n",
    "        :param images: The image to resize.\n",
    "        :type images: List containing PIL.Image object(s).\n",
    "        :return: The transformed image(s) as a list of object(s) of type\n",
    "         PIL.Image.\n",
    "        \"\"\"\n",
    "\n",
    "        def do(image):\n",
    "            width, height = image.size\n",
    "            resize_factor = random.randrange(round(self.min_factor*100), round(self.max_factor*100), 1)/100\n",
    "            width = round(width*resize_factor) \n",
    "            height = round(height*resize_factor) \n",
    "            print(f'New Width: {width}, New Height: {height}')\n",
    "            return image.resize((width, height), eval(\"Image.%s\" % self.resample_filter))\n",
    "\n",
    "        augmented_images = []\n",
    "\n",
    "        for image in images:\n",
    "            augmented_images.append(do(image))\n",
    "\n",
    "        return augmented_images"
   ]
  },
  {
   "cell_type": "code",
   "execution_count": null,
   "metadata": {
    "colab": {},
    "colab_type": "code",
    "id": "SUgnV0wpsl6g"
   },
   "outputs": [],
   "source": [
    "class CropRandomAlign(Operation):\n",
    "    \"\"\"\n",
    "    This class is used to crop images a random factor between min_factor and max_factor and resize it to its original size.\n",
    "    \"\"\"\n",
    "    def __init__(self, probability, min_factor, max_factor, mask_diff_pct, resample_filter=\"BICUBIC\"):\n",
    "        Operation.__init__(self, probability)\n",
    "        self.min_factor = min_factor\n",
    "        self.max_factor = max_factor\n",
    "        self.mask_diff_pct = mask_diff_pct\n",
    "        self.resample_filter = resample_filter\n",
    "\n",
    "    def perform_operation(self, images):\n",
    "        \"\"\"\n",
    "        Crop the passed :attr:`images` by percentage area, returning the crop as an\n",
    "        image.\n",
    "\n",
    "        :param images: The image(s) to crop an area from.\n",
    "        :type images: List containing PIL.Image object(s).\n",
    "        :return: The transformed image(s) as a list of object(s) of type\n",
    "         PIL.Image.\n",
    "        \"\"\"\n",
    "\n",
    "        resize_factor = random.randrange(round(self.min_factor*100), round(self.max_factor*100), 1)/100\n",
    "\n",
    "        # The images must be of identical size, which is checked by Pipeline.ground_truth().\n",
    "        w, h = images[0].size\n",
    "\n",
    "        w_new = int(floor(w * resize_factor))  # TODO: Floor might return 0, so we need to check this.\n",
    "        h_new = int(floor(h * resize_factor))\n",
    "\n",
    "        def do(image, w, h):\n",
    "            img_np = np.array(image)\n",
    "            mask_in = img_np[:,:,2]\n",
    "            mask_in_pct = (mask_in>0).sum()/mask_in.size\n",
    "            img_out_candidate = None\n",
    "            lowest_diff = 1\n",
    "            for i in range(20):  \n",
    "                left_shift = random.randint(0, int((w - w_new)))\n",
    "                down_shift = random.randint(0, int((h - h_new)))\n",
    "                img_out = image.crop((left_shift, down_shift, w_new + left_shift, h_new + down_shift))\n",
    "                mask_out = np.array(img_out)[:,:,2]\n",
    "                mask_out_pct = (mask_out>0).sum()/mask_out.size\n",
    "                #print(f'mask_in_pct:{mask_in_pct}, mask_out_pct:{mask_out_pct}')\n",
    "                if (mask_in_pct==0) or (abs((mask_out_pct/mask_in_pct)-1) <= self.mask_diff_pct):                    \n",
    "                    img_out_candidate = img_out\n",
    "                    break\n",
    "                if (abs((mask_out_pct/mask_in_pct)-1)) <= lowest_diff:\n",
    "                    lowest_diff = abs((mask_out_pct/mask_in_pct)-1)\n",
    "                    img_out_candidate = img_out\n",
    "            if img_out_candidate is None:\n",
    "                img_out_candidate = image\n",
    "                print('Failed to crop image to fit requirements. Use orignal image.')\n",
    "            #print(f'Image Size after crop:{img_out_candidate.size}')\n",
    "            mask_out = np.array(img_out_candidate)[:,:,2]\n",
    "            #print(f'image mask pct:{(mask_out>0).sum()/mask_out.size}')\n",
    "            img_out_final = img_out_candidate.resize((w, h), eval(\"Image.%s\" % self.resample_filter))\n",
    "            #print(f'Image Size after resize:{img_out_final.size}')            \n",
    "            \n",
    "            return img_out_final\n",
    "            \n",
    "        augmented_images = []\n",
    "\n",
    "        for image in images:\n",
    "            augmented_images.append(do(image, w, h))\n",
    "\n",
    "        return augmented_images"
   ]
  },
  {
   "cell_type": "code",
   "execution_count": null,
   "metadata": {
    "colab": {
     "base_uri": "https://localhost:8080/",
     "height": 54
    },
    "colab_type": "code",
    "id": "v5Xa50QZsl6j",
    "outputId": "bdb48d78-8a9b-480e-b0c0-d9622b728564"
   },
   "outputs": [],
   "source": [
    "'''p = Pipeline_Salt()\n",
    "\n",
    "p.crop_random_align(1, 0.3, 0.5, 0.01)\n",
    "\n",
    "p.resize_random(probability=1,min_factor=1.1, max_factor=2.5, resample_filter='BILINEAR')\n",
    "\n",
    "img = np.c_[np.tile(X_train[1507], 2), y_train[1507]]\n",
    "\n",
    "plt.imshow(img[:,:,2], cmap='gray')\n",
    "\n",
    "img_in = PIL.Image.fromarray(img)\n",
    "tsfm = p.torch_transform()\n",
    "img_out = tsfm(img_in)\n",
    "\n",
    "np.array(img_out).shape\n",
    "\n",
    "plt.imshow(np.array(img_out)[:,:,2], cmap='gray')'''"
   ]
  },
  {
   "cell_type": "markdown",
   "metadata": {
    "colab_type": "text",
    "id": "aEXPdEFd3KmA"
   },
   "source": [
    "## Prepare Data"
   ]
  },
  {
   "cell_type": "markdown",
   "metadata": {
    "colab_type": "text",
    "id": "53yVOPsQ3KmB"
   },
   "source": [
    "### Load train and test data from npy files or from raw images if npy files not exist."
   ]
  },
  {
   "cell_type": "code",
   "execution_count": null,
   "metadata": {
    "colab": {
     "base_uri": "https://localhost:8080/",
     "height": 70
    },
    "colab_type": "code",
    "id": "wO1kf6HW3KmC",
    "outputId": "bd4aaad2-e525-428b-8ff5-84bf9ce715d0"
   },
   "outputs": [],
   "source": [
    "np_train_all, np_train_all_mask, X_test, misc_data = load_all_data()"
   ]
  },
  {
   "cell_type": "markdown",
   "metadata": {
    "colab_type": "text",
    "id": "fUAORGGdEgJx"
   },
   "source": [
    "### Calculate number of mask pixels per image"
   ]
  },
  {
   "cell_type": "code",
   "execution_count": null,
   "metadata": {
    "colab": {},
    "colab_type": "code",
    "id": "Hyt5JXyrEgKB"
   },
   "outputs": [],
   "source": [
    "df_train_mask = pd.DataFrame((np_train_all_mask/255).sum((1,2,3)), columns=['mask_pix'])\n",
    "\n",
    "df_train_mask.mask_pix = df_train_mask.mask_pix.round(-2)\n",
    "\n",
    "mask_pix_bins = df_train_mask.mask_pix.sort_values().unique()\n",
    "# Due to zooming and crop, under-sample all black and all white masks, over-sample images with small mask areas.\n",
    "mask_pix_bin_weights = ([1.] + np.r_[2:1:102j].tolist() + [0.2])\n",
    "mask_pix_bin_weights = dict(zip(mask_pix_bins, mask_pix_bin_weights))\n",
    "\n",
    "train_all_sample_weight = df_train_mask.mask_pix.map(mask_pix_bin_weights)"
   ]
  },
  {
   "cell_type": "code",
   "execution_count": null,
   "metadata": {
    "colab": {},
    "colab_type": "code",
    "id": "lq_sH6YeEgKG"
   },
   "outputs": [],
   "source": [
    "#np.log10(df_train_mask.mask_pix.div(100).add(10))"
   ]
  },
  {
   "cell_type": "markdown",
   "metadata": {
    "colab_type": "text",
    "id": "BTkpzBqmGRN2"
   },
   "source": [
    "### Remove black images"
   ]
  },
  {
   "cell_type": "code",
   "execution_count": null,
   "metadata": {
    "colab": {},
    "colab_type": "code",
    "id": "8BXkNsiZGRN3"
   },
   "outputs": [],
   "source": [
    "#black_img_ids = (np_train_all.max((1,2,3))==0)\n",
    "\n",
    "#np_train_all = np_train_all[~black_img_ids]\n",
    "#np_train_all_mask = np_train_all_mask[~black_img_ids]"
   ]
  },
  {
   "cell_type": "code",
   "execution_count": null,
   "metadata": {
    "colab": {
     "base_uri": "https://localhost:8080/",
     "height": 54
    },
    "colab_type": "code",
    "id": "obPeKNjDGRN6",
    "outputId": "399a5e3b-4cd2-4add-d7d4-19b471670a9d"
   },
   "outputs": [],
   "source": [
    "np_train_all.shape"
   ]
  },
  {
   "cell_type": "markdown",
   "metadata": {
    "colab_type": "text",
    "id": "DZqPs7VnYd56"
   },
   "source": [
    "### Remove images with all black masks"
   ]
  },
  {
   "cell_type": "code",
   "execution_count": null,
   "metadata": {
    "colab": {},
    "colab_type": "code",
    "id": "lzqSzGzEYd5-"
   },
   "outputs": [],
   "source": [
    "#black_mask_ids = (np_train_all_mask.max((1,2,3))==0)\n",
    "#np_train_all = np_train_all[~black_mask_ids]\n",
    "#np_train_all_mask = np_train_all_mask[~black_mask_ids]"
   ]
  },
  {
   "cell_type": "markdown",
   "metadata": {
    "colab_type": "text",
    "id": "DNIS7zT23KmI"
   },
   "source": [
    "### Train Val data split"
   ]
  },
  {
   "cell_type": "code",
   "execution_count": null,
   "metadata": {
    "colab": {},
    "colab_type": "code",
    "id": "Q8HLh-bNQmNz"
   },
   "outputs": [],
   "source": [
    "#np_train_all = np.clip(np_train_all/255, 0, 1)\n",
    "#X_test = np.clip(X_test/255, 0, 1)"
   ]
  },
  {
   "cell_type": "code",
   "execution_count": null,
   "metadata": {
    "colab": {},
    "colab_type": "code",
    "id": "XqYjA-Ud3KmI"
   },
   "outputs": [],
   "source": [
    "X_train_ids, X_val_ids = (\n",
    "    train_test_split(df_train_mask.index.tolist(), \n",
    "                     test_size=0.20,\n",
    "                     stratify = df_train_mask.mask_pix,\n",
    "                     random_state=0)\n",
    ")"
   ]
  },
  {
   "cell_type": "code",
   "execution_count": null,
   "metadata": {
    "colab": {},
    "colab_type": "code",
    "id": "GAWRi1bLpyM_"
   },
   "outputs": [],
   "source": [
    "with open('./data/df_train_img_iou.pickle', 'rb') as f:\n",
    "    df_train_img_iou = pickle.load(f)\n",
    "\n",
    "train_hard_img_id= (\n",
    "    [misc_data['np_train_all_ids'].index(e) for e in df_train_img_iou.loc[df_train_img_iou.type=='HARD'].id]\n",
    ")\n",
    "\n",
    "#X_train_ids = np.setdiff1d(X_train_ids, train_hard_img_id)"
   ]
  },
  {
   "cell_type": "code",
   "execution_count": null,
   "metadata": {
    "colab": {},
    "colab_type": "code",
    "id": "GEqXO7GM3KmN"
   },
   "outputs": [],
   "source": [
    "X_train = np_train_all[X_train_ids]\n",
    "X_val = np_train_all[X_val_ids]\n",
    "y_train = np_train_all_mask[X_train_ids]\n",
    "y_val = np_train_all_mask[X_val_ids]\n",
    "depth_train = (\n",
    "    misc_data['df_train_all_depth']\n",
    "    .reindex(np.array(misc_data['np_train_all_ids'])[X_train_ids])\n",
    ")\n",
    "depth_val = (\n",
    "    misc_data['df_train_all_depth']\n",
    "    .reindex(np.array(misc_data['np_train_all_ids'])[X_val_ids])\n",
    ")\n",
    "depth_test = (\n",
    "    misc_data['df_train_all_depth']\n",
    "    .reindex(np.array(misc_data['np_test_ids']))\n",
    ")\n",
    "#X_train_mean_img = X_train.mean(0).astype(np.float32)\n",
    "#X_train_mean_img = X_train.mean((0,1,2)).astype(np.float32)\n",
    "X_train_mean_img = np.clip(np_train_all/255, 0, 1).mean((0,1,2)).astype(np.float32)\n",
    "\n",
    "all_data = {\n",
    "    'X_train': X_train,\n",
    "    'X_val': X_val,\n",
    "    'y_train': y_train,\n",
    "    'y_val': y_val,\n",
    "    'X_test': X_test,\n",
    "    'X_train_mean_img': np.zeros_like(X_train_mean_img)\n",
    "}"
   ]
  },
  {
   "cell_type": "code",
   "execution_count": 82,
   "metadata": {},
   "outputs": [
    {
     "data": {
      "text/plain": [
       "(18000, 101, 101, 1)"
      ]
     },
     "execution_count": 82,
     "metadata": {},
     "output_type": "execute_result"
    }
   ],
   "source": [
    "X_test.shape"
   ]
  },
  {
   "cell_type": "code",
   "execution_count": 86,
   "metadata": {},
   "outputs": [
    {
     "data": {
      "text/plain": [
       "(3200, 101, 101, 1)"
      ]
     },
     "execution_count": 86,
     "metadata": {},
     "output_type": "execute_result"
    }
   ],
   "source": [
    "X_train.shape"
   ]
  },
  {
   "cell_type": "code",
   "execution_count": 87,
   "metadata": {},
   "outputs": [
    {
     "data": {
      "text/plain": [
       "(800, 101, 101, 1)"
      ]
     },
     "execution_count": 87,
     "metadata": {},
     "output_type": "execute_result"
    }
   ],
   "source": [
    "X_val.shape"
   ]
  },
  {
   "cell_type": "code",
   "execution_count": 89,
   "metadata": {},
   "outputs": [
    {
     "data": {
      "text/plain": [
       "(4000, 101, 101, 1)"
      ]
     },
     "execution_count": 89,
     "metadata": {},
     "output_type": "execute_result"
    }
   ],
   "source": [
    "np_train_all.shape"
   ]
  },
  {
   "cell_type": "code",
   "execution_count": 91,
   "metadata": {},
   "outputs": [],
   "source": [
    "X_all = np.r_[np_train_all, X_test]"
   ]
  },
  {
   "cell_type": "code",
   "execution_count": 92,
   "metadata": {},
   "outputs": [
    {
     "data": {
      "text/plain": [
       "(22000, 101, 101, 1)"
      ]
     },
     "execution_count": 92,
     "metadata": {},
     "output_type": "execute_result"
    }
   ],
   "source": [
    "X_all.shape"
   ]
  },
  {
   "cell_type": "code",
   "execution_count": null,
   "metadata": {},
   "outputs": [],
   "source": [
    "f7c147oc61"
   ]
  },
  {
   "cell_type": "code",
   "execution_count": 98,
   "metadata": {},
   "outputs": [
    {
     "data": {
      "text/plain": [
       "(4000, 1)"
      ]
     },
     "execution_count": 98,
     "metadata": {},
     "output_type": "execute_result"
    }
   ],
   "source": [
    "df_train_mask.shape"
   ]
  },
  {
   "cell_type": "code",
   "execution_count": null,
   "metadata": {},
   "outputs": [],
   "source": []
  },
  {
   "cell_type": "code",
   "execution_count": 102,
   "metadata": {},
   "outputs": [
    {
     "data": {
      "text/plain": [
       "2477"
      ]
     },
     "execution_count": 102,
     "metadata": {},
     "output_type": "execute_result"
    }
   ],
   "source": [
    "misc_data['np_train_all_ids'].index('9e9ce2e1ce')"
   ]
  },
  {
   "cell_type": "code",
   "execution_count": null,
   "metadata": {},
   "outputs": [],
   "source": []
  },
  {
   "cell_type": "code",
   "execution_count": 104,
   "metadata": {},
   "outputs": [
    {
     "data": {
      "text/plain": [
       "<matplotlib.image.AxesImage at 0x16b28cac438>"
      ]
     },
     "execution_count": 104,
     "metadata": {},
     "output_type": "execute_result"
    },
    {
     "data": {
      "image/png": "[encoded data removed]",
      "text/plain": [
       "<matplotlib.figure.Figure at 0x16b2707da90>"
      ]
     },
     "metadata": {},
     "output_type": "display_data"
    }
   ],
   "source": [
    "plt.imshow(X_all[2477].squeeze(), cmap='gray')"
   ]
  },
  {
   "cell_type": "code",
   "execution_count": null,
   "metadata": {},
   "outputs": [],
   "source": []
  },
  {
   "cell_type": "code",
   "execution_count": null,
   "metadata": {
    "colab": {},
    "colab_type": "code",
    "id": "X6BSSFObEgKl"
   },
   "outputs": [],
   "source": [
    "train_sample_weight = train_all_sample_weight[X_train_ids]"
   ]
  },
  {
   "cell_type": "code",
   "execution_count": null,
   "metadata": {
    "colab": {},
    "colab_type": "code",
    "id": "3ZVs5X-EpyNS"
   },
   "outputs": [],
   "source": []
  },
  {
   "cell_type": "code",
   "execution_count": null,
   "metadata": {
    "colab": {},
    "colab_type": "code",
    "id": "-dw2YwtbSmHp"
   },
   "outputs": [],
   "source": [
    "X_train_mean_img = np.zeros_like(X_train_mean_img)"
   ]
  },
  {
   "cell_type": "code",
   "execution_count": null,
   "metadata": {
    "colab": {
     "base_uri": "https://localhost:8080/",
     "height": 54
    },
    "colab_type": "code",
    "id": "5cc6IFsXVU3j",
    "outputId": "4faa7de8-c3b1-4628-81fe-5e6e3561d301"
   },
   "outputs": [],
   "source": [
    "X_train_mean_img"
   ]
  },
  {
   "cell_type": "code",
   "execution_count": null,
   "metadata": {
    "colab": {
     "base_uri": "https://localhost:8080/",
     "height": 54
    },
    "colab_type": "code",
    "id": "2L51fSDkpyNV",
    "outputId": "2278559d-9b7a-4591-9a7c-8f0f16954868"
   },
   "outputs": [],
   "source": [
    "X_train.shape"
   ]
  },
  {
   "cell_type": "code",
   "execution_count": null,
   "metadata": {
    "colab": {
     "base_uri": "https://localhost:8080/",
     "height": 54
    },
    "colab_type": "code",
    "id": "zl5Q4dsOpyNa",
    "outputId": "0817d4cf-22b1-4e4d-d0c1-0be779a2df20"
   },
   "outputs": [],
   "source": [
    "y_train.shape"
   ]
  },
  {
   "cell_type": "code",
   "execution_count": 81,
   "metadata": {
    "colab": {
     "base_uri": "https://localhost:8080/",
     "height": 54
    },
    "colab_type": "code",
    "id": "koLKXAYPpyNd",
    "outputId": "95305912-cafa-4354-960c-89e990e60b01"
   },
   "outputs": [
    {
     "data": {
      "text/plain": [
       "(3200, 1)"
      ]
     },
     "execution_count": 81,
     "metadata": {},
     "output_type": "execute_result"
    }
   ],
   "source": [
    "depth_train.shape"
   ]
  },
  {
   "cell_type": "code",
   "execution_count": null,
   "metadata": {
    "colab": {
     "base_uri": "https://localhost:8080/",
     "height": 54
    },
    "colab_type": "code",
    "id": "MfYxl3YIR9LG",
    "outputId": "6944de6a-79ba-4553-e329-ed01b4ddfa7f"
   },
   "outputs": [],
   "source": [
    "'''p = Pipeline_Salt(min_mask_ratio=0.9)\n",
    "p.crop_random(probability=1, percentage_area=0.8, randomise_percentage_area=False)\n",
    "p.resize(probability=1, width=101, height=101, resample_filter='BILINEAR')\n",
    "img = np.c_[np.tile(X_train[469], 2), y_train[469]]\n",
    "img_in = PIL.Image.fromarray(img)\n",
    "tsfm = p.torch_transform()\n",
    "img_out = tsfm(img_in)'''"
   ]
  },
  {
   "cell_type": "code",
   "execution_count": null,
   "metadata": {
    "colab": {},
    "colab_type": "code",
    "id": "0bMOyfebQmON"
   },
   "outputs": [],
   "source": [
    "p = Pipeline_Salt()\n",
    "p.skew(probability=0.5, magnitude=0.2)\n",
    "p.random_distortion(probability=0.5, grid_width=3, grid_height=3, magnitude=3)\n",
    "p.crop_random_align(probability=0.5, min_factor=0.5, max_factor=0.95, mask_diff_pct=0.2)\n",
    "p.rotate(probability=0.5, max_left_rotation=5, max_right_rotation=5)\n",
    "p.shear(probability=0.5, max_shear_left=10, max_shear_right=10)\n",
    "p.flip_left_right(probability=0.5)"
   ]
  },
  {
   "cell_type": "markdown",
   "metadata": {
    "colab_type": "text",
    "id": "8eXIcYoDqVcF"
   },
   "source": [
    "### Create a Train Dataloader"
   ]
  },
  {
   "cell_type": "code",
   "execution_count": null,
   "metadata": {
    "colab": {},
    "colab_type": "code",
    "id": "uYerp5hjW5gu"
   },
   "outputs": [],
   "source": [
    "#weighted_sampler = torch.utils.data.sampler.WeightedRandomSampler(train_sample_weight.values, depth_train.shape[0])\n",
    "\n",
    "train_data_params = {'batch_size': 32,\n",
    "                     #'sampler': weighted_sampler,\n",
    "                     'shuffle': True,\n",
    "                     'drop_last': True}\n",
    "\n",
    "val_data_params = {'batch_size': 32,\n",
    "                   'shuffle': True,\n",
    "                   'drop_last': False}\n",
    "\n",
    "train_dataLoader = (\n",
    "    DataLoader(SaltDataset(X_train, y_train, depth_train,\n",
    "                           X_train_mean_img, out_size=128,  out_ch=1,\n",
    "                           transform=p.torch_transform(), random_brightness=0.5), **train_data_params)\n",
    ")\n",
    "\n",
    "val_dataLoader = (\n",
    "    DataLoader(SaltDataset(X_val, y_val, depth_val, \n",
    "                           X_train_mean_img, out_size=128, out_ch=1), **val_data_params)\n",
    ")\n",
    "\n",
    "dataloaders = {'train': train_dataLoader, 'val':val_dataLoader}\n",
    "\n",
    "sample = iter(dataloaders['train']).__next__()\n",
    "\n",
    "assert sample[0].shape == torch.Size([train_data_params['batch_size'], 1, 128, 128])\n",
    "assert sample[1].shape == torch.Size([train_data_params['batch_size'], 101, 101])\n",
    "assert sample[2].shape == torch.Size([train_data_params['batch_size']])\n",
    "assert sample[3].shape == torch.Size([train_data_params['batch_size']])"
   ]
  },
  {
   "cell_type": "code",
   "execution_count": null,
   "metadata": {
    "colab": {},
    "colab_type": "code",
    "id": "iHZ6rNjxFOIB"
   },
   "outputs": [],
   "source": [
    "t = iter(train_dataLoader).__next__()"
   ]
  },
  {
   "cell_type": "code",
   "execution_count": null,
   "metadata": {
    "colab": {},
    "colab_type": "code",
    "id": "Fgi872V02Fsz"
   },
   "outputs": [],
   "source": [
    "X_batch, y_batch, d_batch, X_id = t"
   ]
  },
  {
   "cell_type": "code",
   "execution_count": null,
   "metadata": {},
   "outputs": [],
   "source": [
    "y_batch.detach().numpy().shape\n"
   ]
  },
  {
   "cell_type": "code",
   "execution_count": null,
   "metadata": {},
   "outputs": [],
   "source": [
    "plt.imshow(y_batch.detach().numpy()[5])"
   ]
  },
  {
   "cell_type": "code",
   "execution_count": null,
   "metadata": {
    "colab": {
     "base_uri": "https://localhost:8080/",
     "height": 6257
    },
    "colab_type": "code",
    "id": "dp1YZ7D5QmOg",
    "outputId": "b245bc92-41f1-4445-e91b-f8c7378c4779"
   },
   "outputs": [],
   "source": [
    "i = 0\n",
    "for X_batch, y_batch, d_batch, X_id in dataloaders['train']:\n",
    "    i+=1\n",
    "    if i>30:\n",
    "        break\n",
    "    X_orig = X_train[X_id[0]].squeeze()/255\n",
    "    X_tsfm = X_batch[0,0].squeeze().cpu().detach().numpy()[13:114,13:114] + X_train_mean_img.squeeze()\n",
    "    y_orig = y_train[X_id[0]].squeeze()\n",
    "    y_tsfm = (y_batch[0].squeeze().cpu().detach().numpy())\n",
    "    print(f'{X_orig.sum()}, {X_tsfm.sum()}')\n",
    "    plot_img_mask_pred([X_orig, X_tsfm, y_orig, y_tsfm],\n",
    "                       [f'X Original-{X_id[0]}', 'X Transformed', 'y Original', 'y Transformed'])"
   ]
  },
  {
   "cell_type": "markdown",
   "metadata": {
    "colab_type": "text",
    "id": "qS4kZWQnW5gw"
   },
   "source": [
    "### Create a Train Dataloader for sanity check"
   ]
  },
  {
   "cell_type": "code",
   "execution_count": 42,
   "metadata": {
    "colab": {},
    "colab_type": "code",
    "id": "lP-yemq8pyOf"
   },
   "outputs": [],
   "source": [
    "\n",
    "#weighted_sampler = torch.utils.data.sampler.WeightedRandomSampler(depth_train['weight'][:8], 2)#weight \n",
    "#weighted_sampler = torch.utils.data.sampler.WeightedRandomSampler(train_sample_weight.values[:8], 2)\n",
    "train_data_params = {'batch_size': 2, 'shuffle': True,}\n",
    "val_data_params = {'batch_size': 2, 'shuffle': True,}"
   ]
  },
  {
   "cell_type": "code",
   "execution_count": 43,
   "metadata": {
    "colab": {},
    "colab_type": "code",
    "id": "VEA7t3xaQmOo"
   },
   "outputs": [],
   "source": [
    "\n",
    "train_dataLoader  = (\n",
    "    DataLoader(SaltDataset(X_train[:4], y_train[:4], depth_train[:4],\n",
    "                           X_train_mean_img, out_size=128, out_ch=1,\n",
    "                           transform=None), **train_data_params)\n",
    "                           #transform=p.torch_transform()), **data_params)\n",
    ")\n",
    "\n",
    "val_dataLoader = (\n",
    "    DataLoader(SaltDataset(X_val[:4], y_val[:4], depth_val[:4], \n",
    "                           X_train_mean_img, out_size=128, out_ch=1), **val_data_params)\n",
    ")\n",
    "\n",
    "dataloaders = {'train': train_dataLoader, 'val':val_dataLoader}\n"
   ]
  },
  {
   "cell_type": "code",
   "execution_count": 44,
   "metadata": {
    "colab": {},
    "colab_type": "code",
    "id": "r2hyd9ryGROf"
   },
   "outputs": [],
   "source": [
    "t = iter(train_dataLoader).__next__()"
   ]
  },
  {
   "cell_type": "code",
   "execution_count": 45,
   "metadata": {
    "colab": {},
    "colab_type": "code",
    "id": "v34uY0GkGROl"
   },
   "outputs": [],
   "source": [
    "X_batch, y_batch, d_batch, X_id = t"
   ]
  },
  {
   "cell_type": "code",
   "execution_count": 46,
   "metadata": {
    "colab": {
     "base_uri": "https://localhost:8080/",
     "height": 34
    },
    "colab_type": "code",
    "id": "GjWYq0PnjVlT",
    "outputId": "c88bfca4-8f36-44f4-e3d1-d7ddc2d3b2eb"
   },
   "outputs": [
    {
     "data": {
      "text/plain": [
       "tensor(1.)"
      ]
     },
     "execution_count": 46,
     "metadata": {},
     "output_type": "execute_result"
    }
   ],
   "source": [
    "X_batch[0].max()"
   ]
  },
  {
   "cell_type": "code",
   "execution_count": 47,
   "metadata": {
    "colab": {},
    "colab_type": "code",
    "id": "b3NeHMttxPA8"
   },
   "outputs": [],
   "source": [
    "def log_iter_stats(y_pred, y_batch, X_batch, X_id, train_params, other_data, epoch_losses, epoch, iter_count, start):\n",
    "    #from boxx import g\n",
    "    #g(), \n",
    "    epoch_losses = [round(e.item(),4) for e in torch.stack(epoch_losses).mean(0)]\n",
    "    iou_batch = calc_mean_iou(y_pred.ge(train_params['mask_cutoff']), y_batch)\n",
    "    iou_acc = calc_clf_accuracy(y_pred.ge(train_params['mask_cutoff']), y_batch)\n",
    "\n",
    "    log.info('Losses: {}, Batch IOU: {:.4f}, Batch Acc: {:.4f} at iter {}, epoch {}, Time: {}'.format(\n",
    "            epoch_losses, iou_batch, iou_acc, iter_count, epoch, timeSince(start))\n",
    "    )\n",
    "\n",
    "    X_train = other_data['X_train']\n",
    "    y_train = other_data['y_train']\n",
    "    X_train_mean_img = other_data['X_train_mean_img']\n",
    "    #print(all_losses)\n",
    "    X_orig = X_train[X_id[0]].squeeze()/255\n",
    "    X_tsfm = X_batch[0,0].squeeze().cpu().detach().numpy()\n",
    "    X_tsfm = X_tsfm[13:114,13:114] + X_train_mean_img.squeeze()\n",
    "    y_orig = y_train[X_id[0]].squeeze()\n",
    "    y_tsfm = (y_batch[0].squeeze().cpu().detach().numpy())\n",
    "    y_tsfm_pred =  y_pred[0].squeeze().gt(train_params['mask_cutoff'])\n",
    "    plot_img_mask_pred([X_orig, X_tsfm, y_orig, y_tsfm, y_tsfm_pred],\n",
    "                       ['X Original', 'X Transformed', 'y Original', 'y Transformed', 'y Predicted'])"
   ]
  },
  {
   "cell_type": "code",
   "execution_count": 48,
   "metadata": {
    "colab": {},
    "colab_type": "code",
    "id": "7DT72CtdxPA-"
   },
   "outputs": [],
   "source": [
    "def log_epoch_stats(model, y_pred, y_batch, X_batch, X_id, other_data, pred_vs_true_epoch, train_params, phase, epoch, iter_count, best_iou, all_losses, epoch_losses, best_model):    \n",
    "    y_pred_epoch = torch.cat([e[0] for e in pred_vs_true_epoch])\n",
    "    y_true_epoch = torch.cat([e[1] for e in pred_vs_true_epoch])\n",
    "\n",
    "    mean_iou_epoch = calc_mean_iou(y_pred_epoch.ge(train_params['mask_cutoff']), y_true_epoch.float())\n",
    "    mean_acc_epoch = calc_clf_accuracy(y_pred_epoch.ge(train_params['mask_cutoff']), y_true_epoch.float())\n",
    "    mean_loss_epoch = [round(e.item(),4) for e in torch.stack(epoch_losses).mean(0)]\n",
    "\n",
    "    if phase == 'val':        \n",
    "        X_val = other_data['X_val']\n",
    "        y_val = other_data['y_val']\n",
    "        X_orig = X_val[X_id[0]].squeeze()/255\n",
    "        y_orig = y_val[X_id[0]].squeeze()\n",
    "        y_pred2 =  y_pred[0].squeeze().gt(train_params['mask_cutoff'])\n",
    "        plot_img_mask_pred([X_orig, y_orig, y_pred2],\n",
    "                           ['Val X Original', 'Val y Original', 'Val y Predicted'])\n",
    "        if mean_iou_epoch > best_iou:\n",
    "            best_iou = mean_iou_epoch\n",
    "            stats = {'best_iou': best_iou,\n",
    "                   'all_losses': all_losses,\n",
    "                   'iter_count': iter_count}\n",
    "            best_model = (epoch, copy.deepcopy(model.state_dict()),\n",
    "                                              copy.deepcopy(optimizer.state_dict()),\n",
    "                                              copy.deepcopy(scheduler.state_dict()), stats, train_params['model_save_name'], '.')\n",
    "            log.info(save_model_state_to_chunks(*best_model))\n",
    "            log.info('Best Val Mean IOU so far: {}'.format(best_iou))        \n",
    "        log.info('Val   IOU: {:.4f}, Acc: {:.4f}, Best Val IOU: {:.4f} at epoch {}'.format(mean_iou_epoch, mean_acc_epoch, best_iou, epoch))\n",
    "    else:\n",
    "        log.info('Train IOU: {:.4f}, Acc: {:.4f}, Loss: {} at epoch {}'.format(mean_iou_epoch, mean_acc_epoch, mean_loss_epoch, epoch))\n",
    "        X_train = other_data['X_train']\n",
    "        y_train = other_data['y_train']\n",
    "        X_train_mean_img = other_data['X_train_mean_img']\n",
    "        X_orig = X_train[X_id[0]].squeeze()/255\n",
    "        X_tsfm = X_batch[0,0].squeeze().cpu().detach().numpy()\n",
    "        X_tsfm = X_tsfm[13:114,13:114] + X_train_mean_img.squeeze()\n",
    "        y_orig = y_train[X_id[0]].squeeze()\n",
    "        y_tsfm = (y_batch[0].squeeze().cpu().detach().numpy())\n",
    "        y_tsfm_pred =  y_pred[0].squeeze().gt(train_params['mask_cutoff'])\n",
    "        plot_img_mask_pred([X_orig, X_tsfm, y_orig, y_tsfm, y_tsfm_pred],\n",
    "                           ['X Original', 'X Transformed', 'y Original', 'y Transformed', 'y Predicted'])\n",
    "        \n",
    "    return best_iou, best_model"
   ]
  },
  {
   "cell_type": "code",
   "execution_count": 49,
   "metadata": {
    "colab": {},
    "colab_type": "code",
    "id": "bfa9Y5hlxPBA"
   },
   "outputs": [],
   "source": [
    "def save_model_to_git(epoch, train_params, num_epochs, prev_best_iou, best_iou, best_model):    \n",
    "    if (epoch % train_params['save_model_every']== 0) | (epoch == num_epochs-1):\n",
    "        if train_params['model_save_name'] is None:\n",
    "            log.info(\"Skip pushing model to git as model_save_name is None.\")\n",
    "        elif (best_model is not None) and (best_iou > prev_best_iou):\n",
    "            log.info(save_model_state_to_chunks(*best_model))\n",
    "            push_model_to_git(ckp_name=train_params['model_save_name'])\n",
    "            prev_best_iou = best_iou\n",
    "        else:\n",
    "            log.info(\"Skip pushing model to git as there's no improvement\")\n",
    "            \n",
    "    return prev_best_iou"
   ]
  },
  {
   "cell_type": "code",
   "execution_count": 50,
   "metadata": {
    "colab": {},
    "colab_type": "code",
    "id": "7-pRk5cqxPBE"
   },
   "outputs": [],
   "source": [
    "def calc_loss(y_pred, y_batch, loss_fns, loss_fn_weights):\n",
    "     losses = []\n",
    "     for loss_fn, loss_fn_weight in zip(loss_fns, loss_fn_weights):\n",
    "         loss = loss_fn_weight * loss_fn(y_pred, y_batch)\n",
    "         losses.append(loss)  \n",
    "\n",
    "     return torch.stack(losses + [torch.stack(losses).sum()])"
   ]
  },
  {
   "cell_type": "code",
   "execution_count": 51,
   "metadata": {
    "colab": {},
    "colab_type": "code",
    "id": "pGqBDcs3xPBF"
   },
   "outputs": [],
   "source": [
    "def train_model(model, dataloaders, loss_fns, loss_fn_weights, optimizer, scheduler, train_params, other_data):\n",
    "    log.info('Start Training...')    \n",
    "    log.info((dataloaders, loss_fns, loss_fn_weights, optimizer, scheduler, train_params))\n",
    "    num_epochs = train_params['num_epochs']\n",
    "    start = time.time()\n",
    "    if torch.cuda.is_available():\n",
    "        model.cuda()\n",
    "    best_model = None\n",
    "    best_iou = 0.0    \n",
    "    prev_best_iou = train_params['model_save_iou_threshold']\n",
    "    all_losses = []\n",
    "    iter_count = 0\n",
    "\n",
    "    for epoch in range(1, num_epochs+1):\n",
    "        log.info('Epoch {}/{}'.format(epoch, num_epochs))\n",
    "        log.info('-' * 20)\n",
    "        if (epoch % train_params['save_log_every'] == 0):\n",
    "            push_log_to_git()\n",
    "        epoch_losses = []\n",
    "        for phase in ['train', 'val']:\n",
    "            model.train() if phase == 'train' else model.eval()      \n",
    "            pred_vs_true_epoch = []\n",
    "            for X_batch, y_batch, d_batch, X_id in dataloaders[phase]:\n",
    "                # zero the parameter gradients\n",
    "                optimizer.zero_grad()\n",
    "                with torch.set_grad_enabled(phase == 'train'):\n",
    "                    y_pred = model(X_batch)\n",
    "                    pred_vs_true_epoch.append([y_pred, y_batch])\n",
    "                    # backward + optimize only if in training phase\n",
    "                    if phase == 'train':\n",
    "                        losses = calc_loss(y_pred, y_batch.float(), loss_fns, loss_fn_weights)\n",
    "                        epoch_losses.append(losses)\n",
    "                        all_losses.append(losses)\n",
    "                        loss = losses[-1]\n",
    "                        loss.backward()\n",
    "                        optimizer.step()\n",
    "                        iter_count += 1\n",
    "            best_iou, best_model = log_epoch_stats(model, y_pred, y_batch, X_batch, X_id, other_data, pred_vs_true_epoch, train_params, \n",
    "                                                   phase, epoch, iter_count, best_iou, all_losses, epoch_losses, best_model)\n",
    "            \n",
    "        prev_best_iou = save_model_to_git(epoch, train_params, num_epochs, prev_best_iou, best_iou, best_model)\n",
    "        #from boxx import g\n",
    "        #g()\n",
    "        epoch_avg_loss = np.mean([e[-1].item() for e in epoch_losses])\n",
    "        #log.info(f'scheduler best: {scheduler.best} num_bad_epochs:{scheduler.num_bad_epochs}')\n",
    "        log.info(scheduler.step(epoch))\n",
    "\n",
    "\n",
    "    # load best model weights\n",
    "    model.load_state_dict(best_model[1])\n",
    "    log.info('-' * 20)\n",
    "    log.info(f'Training complete in {(time.time() - start) // 60} mins. Best Val IOU {round(best_iou, 4)}')\n",
    "\n",
    "    return model"
   ]
  },
  {
   "cell_type": "markdown",
   "metadata": {
    "colab_type": "text",
    "id": "dasEpZc0QmOt"
   },
   "source": [
    "## Train the model using a small data set to see if it can overfit"
   ]
  },
  {
   "cell_type": "code",
   "execution_count": null,
   "metadata": {},
   "outputs": [],
   "source": []
  },
  {
   "cell_type": "code",
   "execution_count": 75,
   "metadata": {
    "colab": {},
    "colab_type": "code",
    "id": "2OoY1-HV8DZK"
   },
   "outputs": [
    {
     "name": "stdout",
     "output_type": "stream",
     "text": [
      "ResNet using pretrained weights.\n"
     ]
    }
   ],
   "source": [
    "#saltnet = resnet34unet(in_ch=3, bilinear=False, pretrained=False)\n",
    "saltnet = UResNet(pretrained=True)\n",
    "\n",
    "loss_fn_bce = nn.BCEWithLogitsLoss(pos_weight=torch.tensor(2.0).type(dtype))\n",
    "#loss_focal = FocalLoss(0.25, 2, logits=True)\n",
    "loss_lovasz_hinge = LovaszHingeLoss()\n",
    "\n",
    "optimizer = torch.optim.Adam(saltnet.parameters(), lr=0.001)\n",
    "\n",
    "#scheduler = lr_scheduler.StepLR(optimizer, step_size=50, gamma=0.1)\n",
    "scheduler = torch.optim.lr_scheduler.ReduceLROnPlateau(optimizer, mode='min', factor=0.1, patience=3, verbose=True, threshold=0.001)\n",
    "model_save_name = None\n",
    "\n",
    "# Test Run\n",
    "#trained_model = train_model(saltnet, dataloaders, loss_fn_bce, loss_lovasz_hinge, optimizer, scheduler, model_save_name, \n",
    "#                other_data=all_data, num_epochs=100, print_every=8, save_model_every=None, save_log_every=None, log=log, loss2_weight=0.0)"
   ]
  },
  {
   "cell_type": "code",
   "execution_count": 66,
   "metadata": {
    "colab": {},
    "colab_type": "code",
    "id": "NyLX1EVIxPBQ"
   },
   "outputs": [],
   "source": [
    "train_params = {\n",
    "    'model_save_name': None,\n",
    "    'save_model_every': 10000,\n",
    "    'save_log_every': 100,\n",
    "    'num_epochs': 10,\n",
    "    'print_every': 2,\n",
    "    'log': log,\n",
    "    'mask_cutoff': 0,\n",
    "    'model_save_iou_threshold': 0.1\n",
    "    }"
   ]
  },
  {
   "cell_type": "code",
   "execution_count": 76,
   "metadata": {},
   "outputs": [],
   "source": [
    "scheduler = lr_scheduler.StepLR(optimizer, step_size=20, gamma=0.5)"
   ]
  },
  {
   "cell_type": "code",
   "execution_count": 79,
   "metadata": {},
   "outputs": [],
   "source": [
    "resnet_params = (\n",
    "    list(saltnet.conv1.parameters()) + \n",
    "    list(saltnet.encoder2.parameters()) + \n",
    "    list(saltnet.encoder3.parameters()) + \n",
    "    list(saltnet.encoder4.parameters()) + \n",
    "    list(saltnet.encoder5.parameters()) + \n",
    "    list(saltnet.encoder2.parameters())\n",
    ")\n",
    "\n",
    "unet_params = (\n",
    "    list(saltnet.center.parameters()) + \n",
    "    list(saltnet.decoder5.parameters()) + \n",
    "    list(saltnet.decoder4.parameters()) + \n",
    "    list(saltnet.decoder3.parameters()) + \n",
    "    list(saltnet.decoder2.parameters()) + \n",
    "    list(saltnet.decoder1.parameters()) + \n",
    "    list(saltnet.outc.parameters())\n",
    ")\n",
    "\n",
    "optimizer = optim.Adam([    \n",
    "    {'params': resnet_params, 'lr': 1e-4},\n",
    "    {'params': unet_params, 'lr': 1e-3},\n",
    "])"
   ]
  },
  {
   "cell_type": "code",
   "execution_count": 68,
   "metadata": {},
   "outputs": [],
   "source": [
    "optimizer = optim.Adam([    \n",
    "    {'params': saltnet.encoder2.parameters(), 'lr': 1e-4},\n",
    "    {'params': saltnet.encoder3.parameters(), 'lr': 1e-4},\n",
    "    {'params': saltnet.encoder4.parameters(), 'lr': 1e-4},\n",
    "    {'params': saltnet.encoder5.parameters(), 'lr': 1e-4},\n",
    "    {'params': saltnet.center.parameters(), 'lr': 1e-4},\n",
    "    {'params': saltnet.decoder5.parameters(), 'lr': 1e-3},\n",
    "    {'params': saltnet.decoder4.parameters(), 'lr': 1e-3},\n",
    "    {'params': saltnet.decoder3.parameters(), 'lr': 1e-3},\n",
    "    {'params': saltnet.decoder2.parameters(), 'lr': 1e-3},\n",
    "    {'params': saltnet.decoder1.parameters(), 'lr': 1e-3},\n",
    "    {'params': saltnet.outc.parameters(), 'lr': 1e-3}\n",
    "])"
   ]
  },
  {
   "cell_type": "code",
   "execution_count": 80,
   "metadata": {
    "colab": {},
    "colab_type": "code",
    "id": "pE7Q6dd3xPBR"
   },
   "outputs": [
    {
     "name": "stderr",
     "output_type": "stream",
     "text": [
      "29/09/2018 21:29:59 - SaltNet - INFO - Start Training...\n",
      "29/09/2018 21:29:59 - SaltNet - INFO - ({'train': <torch.utils.data.dataloader.DataLoader object at 0x0000016B1316BB00>, 'val': <torch.utils.data.dataloader.DataLoader object at 0x0000016B1316B4E0>}, (BCEWithLogitsLoss(), LovaszHingeLoss()), (1, 0.5), Adam (\n",
      "Parameter Group 0\n",
      "    amsgrad: False\n",
      "    betas: (0.9, 0.999)\n",
      "    eps: 1e-08\n",
      "    lr: 0.0001\n",
      "    weight_decay: 0\n",
      "\n",
      "Parameter Group 1\n",
      "    amsgrad: False\n",
      "    betas: (0.9, 0.999)\n",
      "    eps: 1e-08\n",
      "    lr: 0.001\n",
      "    weight_decay: 0\n",
      "), <torch.optim.lr_scheduler.StepLR object at 0x0000016B2942ED68>, {'model_save_name': None, 'save_model_every': 10000, 'save_log_every': 100, 'num_epochs': 10, 'print_every': 2, 'log': <Logger SaltNet (DEBUG)>, 'mask_cutoff': 0, 'model_save_iou_threshold': 0.1})\n",
      "29/09/2018 21:29:59 - SaltNet - INFO - Epoch 1/10\n",
      "29/09/2018 21:29:59 - SaltNet - INFO - --------------------\n",
      "c:\\users\\allen\\anaconda3\\envs\\ds\\lib\\site-packages\\torch\\nn\\functional.py:1890: UserWarning: nn.functional.upsample is deprecated. Use nn.functional.interpolate instead.\n",
      "  warnings.warn(\"nn.functional.upsample is deprecated. Use nn.functional.interpolate instead.\")\n",
      "29/09/2018 21:30:12 - SaltNet - INFO - Train IOU: 0.2500, Acc: 0.8171, Loss: [0.4829, 0.827, 1.3098] at epoch 1\n"
     ]
    },
    {
     "data": {
      "image/png": "[encoded data removed]",
      "text/plain": [
       "<matplotlib.figure.Figure at 0x16b282d7780>"
      ]
     },
     "metadata": {},
     "output_type": "display_data"
    },
    {
     "data": {
      "image/png": "[encoded data removed]",
      "text/plain": [
       "<matplotlib.figure.Figure at 0x16b2193fc50>"
      ]
     },
     "metadata": {},
     "output_type": "display_data"
    },
    {
     "name": "stderr",
     "output_type": "stream",
     "text": [
      "29/09/2018 21:30:20 - SaltNet - INFO - Model state is not saved as the out_file_prefix is None\n",
      "29/09/2018 21:30:20 - SaltNet - INFO - Best Val Mean IOU so far: 0.25\n",
      "29/09/2018 21:30:20 - SaltNet - INFO - Val   IOU: 0.2500, Acc: 0.6200, Best Val IOU: 0.2500 at epoch 1\n",
      "29/09/2018 21:30:20 - SaltNet - INFO - None\n",
      "29/09/2018 21:30:20 - SaltNet - INFO - Epoch 2/10\n",
      "29/09/2018 21:30:20 - SaltNet - INFO - --------------------\n",
      "29/09/2018 21:30:38 - SaltNet - INFO - Train IOU: 0.5000, Acc: 0.9996, Loss: [0.1491, 0.7095, 0.8586] at epoch 2\n"
     ]
    },
    {
     "data": {
      "image/png": "[encoded data removed]",
      "text/plain": [
       "<matplotlib.figure.Figure at 0x16b27e552b0>"
      ]
     },
     "metadata": {},
     "output_type": "display_data"
    },
    {
     "data": {
      "image/png": "[encoded data removed]",
      "text/plain": [
       "<matplotlib.figure.Figure at 0x16b29141ef0>"
      ]
     },
     "metadata": {},
     "output_type": "display_data"
    },
    {
     "name": "stderr",
     "output_type": "stream",
     "text": [
      "29/09/2018 21:30:44 - SaltNet - INFO - Val   IOU: 0.2500, Acc: 0.6200, Best Val IOU: 0.2500 at epoch 2\n",
      "29/09/2018 21:30:44 - SaltNet - INFO - None\n",
      "29/09/2018 21:30:44 - SaltNet - INFO - Epoch 3/10\n",
      "29/09/2018 21:30:44 - SaltNet - INFO - --------------------\n",
      "29/09/2018 21:31:00 - SaltNet - INFO - Train IOU: 0.5000, Acc: 0.9996, Loss: [0.0884, 0.3837, 0.4721] at epoch 3\n"
     ]
    },
    {
     "data": {
      "image/png": "[encoded data removed]",
      "text/plain": [
       "<matplotlib.figure.Figure at 0x16b2f33bdd8>"
      ]
     },
     "metadata": {},
     "output_type": "display_data"
    },
    {
     "ename": "KeyboardInterrupt",
     "evalue": "",
     "output_type": "error",
     "traceback": [
      "\u001b[1;31m---------------------------------------------------------------------------\u001b[0m",
      "\u001b[1;31mKeyboardInterrupt\u001b[0m                         Traceback (most recent call last)",
      "\u001b[1;32m<ipython-input-80-ccf6f7ad6e55>\u001b[0m in \u001b[0;36m<module>\u001b[1;34m()\u001b[0m\n\u001b[1;32m----> 1\u001b[1;33m \u001b[0mmodel\u001b[0m \u001b[1;33m=\u001b[0m \u001b[0mtrain_model\u001b[0m\u001b[1;33m(\u001b[0m\u001b[0msaltnet\u001b[0m\u001b[1;33m,\u001b[0m \u001b[0mdataloaders\u001b[0m\u001b[1;33m,\u001b[0m \u001b[1;33m(\u001b[0m\u001b[0mloss_fn_bce\u001b[0m\u001b[1;33m,\u001b[0m \u001b[0mloss_lovasz_hinge\u001b[0m\u001b[1;33m)\u001b[0m\u001b[1;33m,\u001b[0m \u001b[1;33m(\u001b[0m\u001b[1;36m1\u001b[0m\u001b[1;33m,\u001b[0m \u001b[1;36m0.5\u001b[0m\u001b[1;33m)\u001b[0m\u001b[1;33m,\u001b[0m \u001b[0moptimizer\u001b[0m\u001b[1;33m,\u001b[0m \u001b[0mscheduler\u001b[0m\u001b[1;33m,\u001b[0m \u001b[0mtrain_params\u001b[0m\u001b[1;33m,\u001b[0m \u001b[0mall_data\u001b[0m\u001b[1;33m)\u001b[0m\u001b[1;33m\u001b[0m\u001b[0m\n\u001b[0m",
      "\u001b[1;32m<ipython-input-51-fd79d30164da>\u001b[0m in \u001b[0;36mtrain_model\u001b[1;34m(model, dataloaders, loss_fns, loss_fn_weights, optimizer, scheduler, train_params, other_data)\u001b[0m\n\u001b[0;32m     25\u001b[0m                 \u001b[0moptimizer\u001b[0m\u001b[1;33m.\u001b[0m\u001b[0mzero_grad\u001b[0m\u001b[1;33m(\u001b[0m\u001b[1;33m)\u001b[0m\u001b[1;33m\u001b[0m\u001b[0m\n\u001b[0;32m     26\u001b[0m                 \u001b[1;32mwith\u001b[0m \u001b[0mtorch\u001b[0m\u001b[1;33m.\u001b[0m\u001b[0mset_grad_enabled\u001b[0m\u001b[1;33m(\u001b[0m\u001b[0mphase\u001b[0m \u001b[1;33m==\u001b[0m \u001b[1;34m'train'\u001b[0m\u001b[1;33m)\u001b[0m\u001b[1;33m:\u001b[0m\u001b[1;33m\u001b[0m\u001b[0m\n\u001b[1;32m---> 27\u001b[1;33m                     \u001b[0my_pred\u001b[0m \u001b[1;33m=\u001b[0m \u001b[0mmodel\u001b[0m\u001b[1;33m(\u001b[0m\u001b[0mX_batch\u001b[0m\u001b[1;33m)\u001b[0m\u001b[1;33m\u001b[0m\u001b[0m\n\u001b[0m\u001b[0;32m     28\u001b[0m                     \u001b[0mpred_vs_true_epoch\u001b[0m\u001b[1;33m.\u001b[0m\u001b[0mappend\u001b[0m\u001b[1;33m(\u001b[0m\u001b[1;33m[\u001b[0m\u001b[0my_pred\u001b[0m\u001b[1;33m,\u001b[0m \u001b[0my_batch\u001b[0m\u001b[1;33m]\u001b[0m\u001b[1;33m)\u001b[0m\u001b[1;33m\u001b[0m\u001b[0m\n\u001b[0;32m     29\u001b[0m                     \u001b[1;31m# backward + optimize only if in training phase\u001b[0m\u001b[1;33m\u001b[0m\u001b[1;33m\u001b[0m\u001b[0m\n",
      "\u001b[1;32mc:\\users\\allen\\anaconda3\\envs\\ds\\lib\\site-packages\\torch\\nn\\modules\\module.py\u001b[0m in \u001b[0;36m__call__\u001b[1;34m(self, *input, **kwargs)\u001b[0m\n\u001b[0;32m    475\u001b[0m             \u001b[0mresult\u001b[0m \u001b[1;33m=\u001b[0m \u001b[0mself\u001b[0m\u001b[1;33m.\u001b[0m\u001b[0m_slow_forward\u001b[0m\u001b[1;33m(\u001b[0m\u001b[1;33m*\u001b[0m\u001b[0minput\u001b[0m\u001b[1;33m,\u001b[0m \u001b[1;33m**\u001b[0m\u001b[0mkwargs\u001b[0m\u001b[1;33m)\u001b[0m\u001b[1;33m\u001b[0m\u001b[0m\n\u001b[0;32m    476\u001b[0m         \u001b[1;32melse\u001b[0m\u001b[1;33m:\u001b[0m\u001b[1;33m\u001b[0m\u001b[0m\n\u001b[1;32m--> 477\u001b[1;33m             \u001b[0mresult\u001b[0m \u001b[1;33m=\u001b[0m \u001b[0mself\u001b[0m\u001b[1;33m.\u001b[0m\u001b[0mforward\u001b[0m\u001b[1;33m(\u001b[0m\u001b[1;33m*\u001b[0m\u001b[0minput\u001b[0m\u001b[1;33m,\u001b[0m \u001b[1;33m**\u001b[0m\u001b[0mkwargs\u001b[0m\u001b[1;33m)\u001b[0m\u001b[1;33m\u001b[0m\u001b[0m\n\u001b[0m\u001b[0;32m    478\u001b[0m         \u001b[1;32mfor\u001b[0m \u001b[0mhook\u001b[0m \u001b[1;32min\u001b[0m \u001b[0mself\u001b[0m\u001b[1;33m.\u001b[0m\u001b[0m_forward_hooks\u001b[0m\u001b[1;33m.\u001b[0m\u001b[0mvalues\u001b[0m\u001b[1;33m(\u001b[0m\u001b[1;33m)\u001b[0m\u001b[1;33m:\u001b[0m\u001b[1;33m\u001b[0m\u001b[0m\n\u001b[0;32m    479\u001b[0m             \u001b[0mhook_result\u001b[0m \u001b[1;33m=\u001b[0m \u001b[0mhook\u001b[0m\u001b[1;33m(\u001b[0m\u001b[0mself\u001b[0m\u001b[1;33m,\u001b[0m \u001b[0minput\u001b[0m\u001b[1;33m,\u001b[0m \u001b[0mresult\u001b[0m\u001b[1;33m)\u001b[0m\u001b[1;33m\u001b[0m\u001b[0m\n",
      "\u001b[1;32mC:\\work\\code\\repos\\salt_oil\\pytorch_unet\\unet\\resnet_v8.py\u001b[0m in \u001b[0;36mforward\u001b[1;34m(self, x)\u001b[0m\n\u001b[0;32m    726\u001b[0m         \u001b[1;31m#f = self.se_f(f)\u001b[0m\u001b[1;33m\u001b[0m\u001b[1;33m\u001b[0m\u001b[0m\n\u001b[0;32m    727\u001b[0m         \u001b[0mf\u001b[0m \u001b[1;33m=\u001b[0m \u001b[0mF\u001b[0m\u001b[1;33m.\u001b[0m\u001b[0mdropout2d\u001b[0m\u001b[1;33m(\u001b[0m\u001b[0mf\u001b[0m\u001b[1;33m,\u001b[0m \u001b[0mp\u001b[0m\u001b[1;33m=\u001b[0m\u001b[1;36m0.5\u001b[0m\u001b[1;33m)\u001b[0m\u001b[1;33m\u001b[0m\u001b[0m\n\u001b[1;32m--> 728\u001b[1;33m         \u001b[0mout\u001b[0m \u001b[1;33m=\u001b[0m \u001b[0mself\u001b[0m\u001b[1;33m.\u001b[0m\u001b[0moutc\u001b[0m\u001b[1;33m(\u001b[0m\u001b[0mf\u001b[0m\u001b[1;33m)\u001b[0m          \u001b[1;31m#1, 101,101\u001b[0m\u001b[1;33m\u001b[0m\u001b[0m\n\u001b[0m\u001b[0;32m    729\u001b[0m \u001b[1;33m\u001b[0m\u001b[0m\n\u001b[0;32m    730\u001b[0m \u001b[1;33m\u001b[0m\u001b[0m\n",
      "\u001b[1;32mc:\\users\\allen\\anaconda3\\envs\\ds\\lib\\site-packages\\torch\\nn\\modules\\module.py\u001b[0m in \u001b[0;36m__call__\u001b[1;34m(self, *input, **kwargs)\u001b[0m\n\u001b[0;32m    475\u001b[0m             \u001b[0mresult\u001b[0m \u001b[1;33m=\u001b[0m \u001b[0mself\u001b[0m\u001b[1;33m.\u001b[0m\u001b[0m_slow_forward\u001b[0m\u001b[1;33m(\u001b[0m\u001b[1;33m*\u001b[0m\u001b[0minput\u001b[0m\u001b[1;33m,\u001b[0m \u001b[1;33m**\u001b[0m\u001b[0mkwargs\u001b[0m\u001b[1;33m)\u001b[0m\u001b[1;33m\u001b[0m\u001b[0m\n\u001b[0;32m    476\u001b[0m         \u001b[1;32melse\u001b[0m\u001b[1;33m:\u001b[0m\u001b[1;33m\u001b[0m\u001b[0m\n\u001b[1;32m--> 477\u001b[1;33m             \u001b[0mresult\u001b[0m \u001b[1;33m=\u001b[0m \u001b[0mself\u001b[0m\u001b[1;33m.\u001b[0m\u001b[0mforward\u001b[0m\u001b[1;33m(\u001b[0m\u001b[1;33m*\u001b[0m\u001b[0minput\u001b[0m\u001b[1;33m,\u001b[0m \u001b[1;33m**\u001b[0m\u001b[0mkwargs\u001b[0m\u001b[1;33m)\u001b[0m\u001b[1;33m\u001b[0m\u001b[0m\n\u001b[0m\u001b[0;32m    478\u001b[0m         \u001b[1;32mfor\u001b[0m \u001b[0mhook\u001b[0m \u001b[1;32min\u001b[0m \u001b[0mself\u001b[0m\u001b[1;33m.\u001b[0m\u001b[0m_forward_hooks\u001b[0m\u001b[1;33m.\u001b[0m\u001b[0mvalues\u001b[0m\u001b[1;33m(\u001b[0m\u001b[1;33m)\u001b[0m\u001b[1;33m:\u001b[0m\u001b[1;33m\u001b[0m\u001b[0m\n\u001b[0;32m    479\u001b[0m             \u001b[0mhook_result\u001b[0m \u001b[1;33m=\u001b[0m \u001b[0mhook\u001b[0m\u001b[1;33m(\u001b[0m\u001b[0mself\u001b[0m\u001b[1;33m,\u001b[0m \u001b[0minput\u001b[0m\u001b[1;33m,\u001b[0m \u001b[0mresult\u001b[0m\u001b[1;33m)\u001b[0m\u001b[1;33m\u001b[0m\u001b[0m\n",
      "\u001b[1;32mC:\\work\\code\\repos\\salt_oil\\pytorch_unet\\unet\\resnet_v8.py\u001b[0m in \u001b[0;36mforward\u001b[1;34m(self, x)\u001b[0m\n\u001b[0;32m    374\u001b[0m \u001b[1;33m\u001b[0m\u001b[0m\n\u001b[0;32m    375\u001b[0m     \u001b[1;32mdef\u001b[0m \u001b[0mforward\u001b[0m\u001b[1;33m(\u001b[0m\u001b[0mself\u001b[0m\u001b[1;33m,\u001b[0m \u001b[0mx\u001b[0m\u001b[1;33m)\u001b[0m\u001b[1;33m:\u001b[0m\u001b[1;33m\u001b[0m\u001b[0m\n\u001b[1;32m--> 376\u001b[1;33m         \u001b[0mx_conv\u001b[0m \u001b[1;33m=\u001b[0m \u001b[0mself\u001b[0m\u001b[1;33m.\u001b[0m\u001b[0mconv\u001b[0m\u001b[1;33m(\u001b[0m\u001b[0mx\u001b[0m\u001b[1;33m)\u001b[0m\u001b[1;33m\u001b[0m\u001b[0m\n\u001b[0m\u001b[0;32m    377\u001b[0m         \u001b[1;32mif\u001b[0m \u001b[1;32mnot\u001b[0m \u001b[0mself\u001b[0m\u001b[1;33m.\u001b[0m\u001b[0mlogits\u001b[0m\u001b[1;33m:\u001b[0m\u001b[1;33m\u001b[0m\u001b[0m\n\u001b[0;32m    378\u001b[0m             \u001b[0mx_out\u001b[0m \u001b[1;33m=\u001b[0m \u001b[0mself\u001b[0m\u001b[1;33m.\u001b[0m\u001b[0msig\u001b[0m\u001b[1;33m(\u001b[0m\u001b[0mx_conv\u001b[0m\u001b[1;33m)\u001b[0m\u001b[1;33m\u001b[0m\u001b[0m\n",
      "\u001b[1;32mc:\\users\\allen\\anaconda3\\envs\\ds\\lib\\site-packages\\torch\\nn\\modules\\module.py\u001b[0m in \u001b[0;36m__call__\u001b[1;34m(self, *input, **kwargs)\u001b[0m\n\u001b[0;32m    475\u001b[0m             \u001b[0mresult\u001b[0m \u001b[1;33m=\u001b[0m \u001b[0mself\u001b[0m\u001b[1;33m.\u001b[0m\u001b[0m_slow_forward\u001b[0m\u001b[1;33m(\u001b[0m\u001b[1;33m*\u001b[0m\u001b[0minput\u001b[0m\u001b[1;33m,\u001b[0m \u001b[1;33m**\u001b[0m\u001b[0mkwargs\u001b[0m\u001b[1;33m)\u001b[0m\u001b[1;33m\u001b[0m\u001b[0m\n\u001b[0;32m    476\u001b[0m         \u001b[1;32melse\u001b[0m\u001b[1;33m:\u001b[0m\u001b[1;33m\u001b[0m\u001b[0m\n\u001b[1;32m--> 477\u001b[1;33m             \u001b[0mresult\u001b[0m \u001b[1;33m=\u001b[0m \u001b[0mself\u001b[0m\u001b[1;33m.\u001b[0m\u001b[0mforward\u001b[0m\u001b[1;33m(\u001b[0m\u001b[1;33m*\u001b[0m\u001b[0minput\u001b[0m\u001b[1;33m,\u001b[0m \u001b[1;33m**\u001b[0m\u001b[0mkwargs\u001b[0m\u001b[1;33m)\u001b[0m\u001b[1;33m\u001b[0m\u001b[0m\n\u001b[0m\u001b[0;32m    478\u001b[0m         \u001b[1;32mfor\u001b[0m \u001b[0mhook\u001b[0m \u001b[1;32min\u001b[0m \u001b[0mself\u001b[0m\u001b[1;33m.\u001b[0m\u001b[0m_forward_hooks\u001b[0m\u001b[1;33m.\u001b[0m\u001b[0mvalues\u001b[0m\u001b[1;33m(\u001b[0m\u001b[1;33m)\u001b[0m\u001b[1;33m:\u001b[0m\u001b[1;33m\u001b[0m\u001b[0m\n\u001b[0;32m    479\u001b[0m             \u001b[0mhook_result\u001b[0m \u001b[1;33m=\u001b[0m \u001b[0mhook\u001b[0m\u001b[1;33m(\u001b[0m\u001b[0mself\u001b[0m\u001b[1;33m,\u001b[0m \u001b[0minput\u001b[0m\u001b[1;33m,\u001b[0m \u001b[0mresult\u001b[0m\u001b[1;33m)\u001b[0m\u001b[1;33m\u001b[0m\u001b[0m\n",
      "\u001b[1;32mc:\\users\\allen\\anaconda3\\envs\\ds\\lib\\site-packages\\torch\\nn\\modules\\container.py\u001b[0m in \u001b[0;36mforward\u001b[1;34m(self, input)\u001b[0m\n\u001b[0;32m     89\u001b[0m     \u001b[1;32mdef\u001b[0m \u001b[0mforward\u001b[0m\u001b[1;33m(\u001b[0m\u001b[0mself\u001b[0m\u001b[1;33m,\u001b[0m \u001b[0minput\u001b[0m\u001b[1;33m)\u001b[0m\u001b[1;33m:\u001b[0m\u001b[1;33m\u001b[0m\u001b[0m\n\u001b[0;32m     90\u001b[0m         \u001b[1;32mfor\u001b[0m \u001b[0mmodule\u001b[0m \u001b[1;32min\u001b[0m \u001b[0mself\u001b[0m\u001b[1;33m.\u001b[0m\u001b[0m_modules\u001b[0m\u001b[1;33m.\u001b[0m\u001b[0mvalues\u001b[0m\u001b[1;33m(\u001b[0m\u001b[1;33m)\u001b[0m\u001b[1;33m:\u001b[0m\u001b[1;33m\u001b[0m\u001b[0m\n\u001b[1;32m---> 91\u001b[1;33m             \u001b[0minput\u001b[0m \u001b[1;33m=\u001b[0m \u001b[0mmodule\u001b[0m\u001b[1;33m(\u001b[0m\u001b[0minput\u001b[0m\u001b[1;33m)\u001b[0m\u001b[1;33m\u001b[0m\u001b[0m\n\u001b[0m\u001b[0;32m     92\u001b[0m         \u001b[1;32mreturn\u001b[0m \u001b[0minput\u001b[0m\u001b[1;33m\u001b[0m\u001b[0m\n\u001b[0;32m     93\u001b[0m \u001b[1;33m\u001b[0m\u001b[0m\n",
      "\u001b[1;32mc:\\users\\allen\\anaconda3\\envs\\ds\\lib\\site-packages\\torch\\nn\\modules\\module.py\u001b[0m in \u001b[0;36m__call__\u001b[1;34m(self, *input, **kwargs)\u001b[0m\n\u001b[0;32m    475\u001b[0m             \u001b[0mresult\u001b[0m \u001b[1;33m=\u001b[0m \u001b[0mself\u001b[0m\u001b[1;33m.\u001b[0m\u001b[0m_slow_forward\u001b[0m\u001b[1;33m(\u001b[0m\u001b[1;33m*\u001b[0m\u001b[0minput\u001b[0m\u001b[1;33m,\u001b[0m \u001b[1;33m**\u001b[0m\u001b[0mkwargs\u001b[0m\u001b[1;33m)\u001b[0m\u001b[1;33m\u001b[0m\u001b[0m\n\u001b[0;32m    476\u001b[0m         \u001b[1;32melse\u001b[0m\u001b[1;33m:\u001b[0m\u001b[1;33m\u001b[0m\u001b[0m\n\u001b[1;32m--> 477\u001b[1;33m             \u001b[0mresult\u001b[0m \u001b[1;33m=\u001b[0m \u001b[0mself\u001b[0m\u001b[1;33m.\u001b[0m\u001b[0mforward\u001b[0m\u001b[1;33m(\u001b[0m\u001b[1;33m*\u001b[0m\u001b[0minput\u001b[0m\u001b[1;33m,\u001b[0m \u001b[1;33m**\u001b[0m\u001b[0mkwargs\u001b[0m\u001b[1;33m)\u001b[0m\u001b[1;33m\u001b[0m\u001b[0m\n\u001b[0m\u001b[0;32m    478\u001b[0m         \u001b[1;32mfor\u001b[0m \u001b[0mhook\u001b[0m \u001b[1;32min\u001b[0m \u001b[0mself\u001b[0m\u001b[1;33m.\u001b[0m\u001b[0m_forward_hooks\u001b[0m\u001b[1;33m.\u001b[0m\u001b[0mvalues\u001b[0m\u001b[1;33m(\u001b[0m\u001b[1;33m)\u001b[0m\u001b[1;33m:\u001b[0m\u001b[1;33m\u001b[0m\u001b[0m\n\u001b[0;32m    479\u001b[0m             \u001b[0mhook_result\u001b[0m \u001b[1;33m=\u001b[0m \u001b[0mhook\u001b[0m\u001b[1;33m(\u001b[0m\u001b[0mself\u001b[0m\u001b[1;33m,\u001b[0m \u001b[0minput\u001b[0m\u001b[1;33m,\u001b[0m \u001b[0mresult\u001b[0m\u001b[1;33m)\u001b[0m\u001b[1;33m\u001b[0m\u001b[0m\n",
      "\u001b[1;32mc:\\users\\allen\\anaconda3\\envs\\ds\\lib\\site-packages\\torch\\nn\\modules\\conv.py\u001b[0m in \u001b[0;36mforward\u001b[1;34m(self, input)\u001b[0m\n\u001b[0;32m    299\u001b[0m     \u001b[1;32mdef\u001b[0m \u001b[0mforward\u001b[0m\u001b[1;33m(\u001b[0m\u001b[0mself\u001b[0m\u001b[1;33m,\u001b[0m \u001b[0minput\u001b[0m\u001b[1;33m)\u001b[0m\u001b[1;33m:\u001b[0m\u001b[1;33m\u001b[0m\u001b[0m\n\u001b[0;32m    300\u001b[0m         return F.conv2d(input, self.weight, self.bias, self.stride,\n\u001b[1;32m--> 301\u001b[1;33m                         self.padding, self.dilation, self.groups)\n\u001b[0m\u001b[0;32m    302\u001b[0m \u001b[1;33m\u001b[0m\u001b[0m\n\u001b[0;32m    303\u001b[0m \u001b[1;33m\u001b[0m\u001b[0m\n",
      "\u001b[1;31mKeyboardInterrupt\u001b[0m: "
     ]
    }
   ],
   "source": [
    "model = train_model(saltnet, dataloaders, (loss_fn_bce, loss_lovasz_hinge), (1, 0.5), optimizer, scheduler, train_params, all_data)"
   ]
  },
  {
   "cell_type": "markdown",
   "metadata": {
    "colab_type": "text",
    "id": "zJ3DJ4hAQmOw"
   },
   "source": [
    "## Train the full with full dataset"
   ]
  },
  {
   "cell_type": "code",
   "execution_count": null,
   "metadata": {
    "colab": {},
    "colab_type": "code",
    "id": "AZkSxKV2sIkN"
   },
   "outputs": [],
   "source": [
    "log.info('Use Unet with Resnet 34 as backbone with Adam and updated data aug class')"
   ]
  },
  {
   "cell_type": "code",
   "execution_count": null,
   "metadata": {
    "colab": {},
    "colab_type": "code",
    "id": "z3treVXh_Uha"
   },
   "outputs": [],
   "source": [
    "model_config = '''\n",
    "p = Pipeline_Salt()\n",
    "p.skew(probability=0.5, magnitude=0.2)\n",
    "p.random_distortion(probability=0.5, grid_width=3, grid_height=3, magnitude=3)\n",
    "p.crop_random_align(probability=0.5, min_factor=0.5, max_factor=0.9, mask_diff_pct=0.2)\n",
    "p.rotate(probability=0.5, max_left_rotation=10, max_right_rotation=10)\n",
    "p.shear(probability=0.5, max_shear_left=10, max_shear_right=10)\n",
    "p.flip_left_right(probability=0.5)\n",
    "\n",
    "train_data_params = {'batch_size': 32,\n",
    "                     #'sampler': weighted_sampler,\n",
    "                     'shuffle': True,\n",
    "                     'drop_last': False}\n",
    "\n",
    "val_data_params = {'batch_size': 32,\n",
    "                   'shuffle': True,\n",
    "                   'drop_last': False}\n",
    "\n",
    "train_dataLoader = (\n",
    "    DataLoader(SaltDataset(X_train, y_train, depth_train,\n",
    "                           np.zeros_like(X_train_mean_img), out_size=128,  out_ch=1,\n",
    "                           transform=p.torch_transform(), random_brightness=0.5), **train_data_params)\n",
    ")\n",
    "\n",
    "val_dataLoader = (\n",
    "    DataLoader(SaltDataset(X_val, y_val, depth_val, \n",
    "                           np.zeros_like(X_train_mean_img), out_size=128, out_ch=1), **val_data_params)\n",
    ")\n",
    "\n",
    "dataloaders = {'train': train_dataLoader, 'val':val_dataLoader}\n",
    "\n",
    "\n",
    "#saltnet = UNet(n_channels=1, n_classes=1, bilinear=True, logits=True, apply_se=True, r=16)\n",
    "saltnet = UResNet(pretrained=True)\n",
    "loss_fn_bce = nn.BCEWithLogitsLoss(pos_weight=torch.tensor(2.0).type(dtype))\n",
    "#loss_focal = FocalLoss(0.25, 2, logits=True)\n",
    "loss_lovasz_hinge = LovaszHingeLoss()\n",
    "optimizer = torch.optim.Adam(saltnet.parameters(), lr=0.001)\n",
    "scheduler = torch.optim.lr_scheduler.ReduceLROnPlateau(optimizer, mode='min', factor=0.5, patience=5, verbose=True, threshold=0.0001, min_lr=0.00001)\n",
    "\n",
    "model_save_name = f'../salt_net/Unet_res34_bce_lovasz_loss_se_new_aug_{get_current_time_as_fname()}.ckp'\n",
    "log.info(model_save_name)\n",
    "\n",
    "train_params = {\n",
    "    'model_save_name': model_save_name,\n",
    "    'save_model_every': 20,\n",
    "    'save_log_every': 2,\n",
    "    'num_epochs': 150,\n",
    "    'log': log,\n",
    "    'mask_cutoff': 0.,\n",
    "    'model_save_iou_threshold': 0.78\n",
    "    }\n",
    "    \n",
    "train_model(saltnet, dataloaders, (loss_fn_bce, loss_lovasz_hinge), (1, 0.1), optimizer, scheduler, train_params, all_data)\n",
    "\n",
    "'''"
   ]
  },
  {
   "cell_type": "code",
   "execution_count": null,
   "metadata": {
    "colab": {},
    "colab_type": "code",
    "id": "yP2IQIkOD584"
   },
   "outputs": [],
   "source": [
    "log.info(model_config)"
   ]
  },
  {
   "cell_type": "code",
   "execution_count": null,
   "metadata": {
    "colab": {},
    "colab_type": "code",
    "id": "Ikq0ObjsDXc6"
   },
   "outputs": [],
   "source": [
    "p = Pipeline_Salt()\n",
    "p.skew(probability=0.5, magnitude=0.2)\n",
    "p.random_distortion(probability=0.5, grid_width=3, grid_height=3, magnitude=3)\n",
    "p.crop_random_align(probability=0.5, min_factor=0.5, max_factor=0.9, mask_diff_pct=0.2)\n",
    "p.rotate(probability=0.5, max_left_rotation=10, max_right_rotation=10)\n",
    "p.shear(probability=0.5, max_shear_left=10, max_shear_right=10)\n",
    "p.flip_left_right(probability=0.5)\n",
    "\n",
    "train_data_params = {'batch_size': 32,\n",
    "                     #'sampler': weighted_sampler,\n",
    "                     'shuffle': True,\n",
    "                     'drop_last': False}\n",
    "\n",
    "val_data_params = {'batch_size': 32,\n",
    "                   'shuffle': True,\n",
    "                   'drop_last': False}\n",
    "\n",
    "train_dataLoader = (\n",
    "    DataLoader(SaltDataset(X_train, y_train, depth_train,\n",
    "                           np.zeros_like(X_train_mean_img), out_size=128,  out_ch=1,\n",
    "                           transform=p.torch_transform(), random_brightness=0.5), **train_data_params)\n",
    ")\n",
    "\n",
    "val_dataLoader = (\n",
    "    DataLoader(SaltDataset(X_val, y_val, depth_val, \n",
    "                           np.zeros_like(X_train_mean_img), out_size=128, out_ch=1), **val_data_params)\n",
    ")\n",
    "\n",
    "dataloaders = {'train': train_dataLoader, 'val':val_dataLoader}"
   ]
  },
  {
   "cell_type": "code",
   "execution_count": null,
   "metadata": {
    "colab": {},
    "colab_type": "code",
    "id": "u8EUxk8UQmOx"
   },
   "outputs": [],
   "source": [
    "#saltnet = UNet(n_channels=1, n_classes=1, bilinear=True, logits=True, apply_se=True, r=16)\n",
    "saltnet = UResNet(pretrained=True)\n",
    "loss_fn_bce = nn.BCEWithLogitsLoss(pos_weight=torch.tensor(2.0).type(dtype))\n",
    "#loss_focal = FocalLoss(0.25, 2, logits=True)\n",
    "loss_lovasz_hinge = LovaszHingeLoss()\n",
    "optimizer = torch.optim.Adam(saltnet.parameters(), lr=0.001)\n",
    "scheduler = torch.optim.lr_scheduler.ReduceLROnPlateau(optimizer, mode='min', factor=0.5, patience=5, verbose=True, threshold=0.0001, min_lr=0.00001)\n",
    "\n",
    "model_save_name = f'../salt_net/Unet_res34_bce_lovasz_loss_se_new_aug_{get_current_time_as_fname()}.ckp'\n",
    "log.info(model_save_name)"
   ]
  },
  {
   "cell_type": "code",
   "execution_count": null,
   "metadata": {
    "colab": {},
    "colab_type": "code",
    "id": "Wq1P9vlMDo06"
   },
   "outputs": [],
   "source": [
    "train_params = {\n",
    "    'model_save_name': model_save_name,\n",
    "    'save_model_every': 20,\n",
    "    'save_log_every': 2,\n",
    "    'num_epochs': 150,\n",
    "    'log': log,\n",
    "    'mask_cutoff': 0.,\n",
    "    'model_save_iou_threshold': 0.78\n",
    "    }\n"
   ]
  },
  {
   "cell_type": "code",
   "execution_count": null,
   "metadata": {
    "colab": {},
    "colab_type": "code",
    "id": "H2z9Brb8EgMG"
   },
   "outputs": [],
   "source": [
    "train_model(saltnet, dataloaders, (loss_fn_bce, loss_lovasz_hinge), (1, 0.1), optimizer, scheduler, train_params, all_data)"
   ]
  },
  {
   "cell_type": "code",
   "execution_count": null,
   "metadata": {
    "colab": {},
    "colab_type": "code",
    "id": "YyeACdxT7K54"
   },
   "outputs": [],
   "source": [
    "all_data.keys()"
   ]
  },
  {
   "cell_type": "markdown",
   "metadata": {
    "colab_type": "text",
    "id": "UkzkKviGQ1ME"
   },
   "source": [
    "## Fine Tune"
   ]
  },
  {
   "cell_type": "code",
   "execution_count": null,
   "metadata": {
    "colab": {},
    "colab_type": "code",
    "id": "6gH3StpeyZoc"
   },
   "outputs": [],
   "source": [
    "log.info('Use Unet with Resnet 34 as backbone with Adam and updated data aug class. Finetuning from IOU 0.8190. Less data aug. Using weight decay.')"
   ]
  },
  {
   "cell_type": "code",
   "execution_count": null,
   "metadata": {
    "colab": {},
    "colab_type": "code",
    "id": "i1G7CTpsySfm"
   },
   "outputs": [],
   "source": [
    "model_config = '''\n",
    "p = Pipeline_Salt()\n",
    "#p.skew(probability=0.5, magnitude=0.2)\n",
    "#p.random_distortion(probability=0.5, grid_width=3, grid_height=3, magnitude=3)\n",
    "p.crop_random_align(probability=0.5, min_factor=0.5, max_factor=0.9, mask_diff_pct=0.2)\n",
    "#p.rotate(probability=0.5, max_left_rotation=10, max_right_rotation=10)\n",
    "#p.shear(probability=0.5, max_shear_left=10, max_shear_right=10)\n",
    "p.flip_left_right(probability=0.5)\n",
    "\n",
    "train_data_params = {'batch_size': 32,\n",
    "                     #'sampler': weighted_sampler,\n",
    "                     'shuffle': True,\n",
    "                     'drop_last': False}\n",
    "\n",
    "val_data_params = {'batch_size': 32,\n",
    "                   'shuffle': True,\n",
    "                   'drop_last': False}\n",
    "\n",
    "train_dataLoader = (\n",
    "    DataLoader(SaltDataset(X_train, y_train, depth_train,\n",
    "                           np.zeros_like(X_train_mean_img), out_size=128,  out_ch=1,\n",
    "                           transform=p.torch_transform(), random_brightness=0.5), **train_data_params)\n",
    ")\n",
    "\n",
    "val_dataLoader = (\n",
    "    DataLoader(SaltDataset(X_val, y_val, depth_val, \n",
    "                           np.zeros_like(X_train_mean_img), out_size=128, out_ch=1), **val_data_params)\n",
    ")\n",
    "\n",
    "dataloaders = {'train': train_dataLoader, 'val':val_dataLoader}\n",
    "\n",
    "saltnet = UResNet(pretrained=False)\n",
    "model_file_suffix = \"Unet_res34_bce_lovasz_loss_se_new_aug_2018_09_20_12_08_04.ckp\"\n",
    "model_state_dict = torch.load(join_files(model_file_suffix, '.', returnFileObject=True, removeChunks=False))\n",
    "saltnet.load_state_dict(model_state_dict['model'])\n",
    "\n",
    "optimizer = torch.optim.Adam(saltnet.parameters(), lr=0.0005, weight_decay=0.0001)\n",
    "scheduler = torch.optim.lr_scheduler.StepLR(optimizer, 10, gamma=0.6)\n",
    "\n",
    "loss_focal = FocalLoss(0.25, 2, logits=True)\n",
    "loss_lovasz_hinge = LovaszHingeLoss()\n",
    "\n",
    "model_save_name = f'../salt_net/Unet_res34_bce_lovasz_loss_se_new_aug_finetune10_{get_current_time_as_fname()}.ckp'\n",
    "log.info(model_save_name)\n",
    "'''"
   ]
  },
  {
   "cell_type": "code",
   "execution_count": null,
   "metadata": {
    "colab": {},
    "colab_type": "code",
    "id": "jLGTRHvqzIMm"
   },
   "outputs": [],
   "source": [
    "log.info(model_config)"
   ]
  },
  {
   "cell_type": "code",
   "execution_count": null,
   "metadata": {
    "colab": {},
    "colab_type": "code",
    "id": "j_oi9RzlTAhs"
   },
   "outputs": [],
   "source": [
    "p = Pipeline_Salt()\n",
    "#p.skew(probability=0.5, magnitude=0.2)\n",
    "#p.random_distortion(probability=0.5, grid_width=3, grid_height=3, magnitude=3)\n",
    "p.crop_random_align(probability=0.5, min_factor=0.5, max_factor=0.9, mask_diff_pct=0.2)\n",
    "#p.rotate(probability=0.5, max_left_rotation=10, max_right_rotation=10)\n",
    "#p.shear(probability=0.5, max_shear_left=10, max_shear_right=10)\n",
    "p.flip_left_right(probability=0.5)\n",
    "\n",
    "train_data_params = {'batch_size': 32,\n",
    "                     #'sampler': weighted_sampler,\n",
    "                     'shuffle': True,\n",
    "                     'drop_last': False}\n",
    "\n",
    "val_data_params = {'batch_size': 32,\n",
    "                   'shuffle': True,\n",
    "                   'drop_last': False}\n",
    "\n",
    "train_dataLoader = (\n",
    "    DataLoader(SaltDataset(X_train, y_train, depth_train,\n",
    "                           np.zeros_like(X_train_mean_img), out_size=128,  out_ch=1,\n",
    "                           transform=p.torch_transform(), random_brightness=0.5), **train_data_params)\n",
    ")\n",
    "\n",
    "val_dataLoader = (\n",
    "    DataLoader(SaltDataset(X_val, y_val, depth_val, \n",
    "                           np.zeros_like(X_train_mean_img), out_size=128, out_ch=1), **val_data_params)\n",
    ")\n",
    "\n",
    "dataloaders = {'train': train_dataLoader, 'val':val_dataLoader}"
   ]
  },
  {
   "cell_type": "code",
   "execution_count": null,
   "metadata": {
    "colab": {},
    "colab_type": "code",
    "id": "KtqQX0Fdf0Gn"
   },
   "outputs": [],
   "source": [
    "cd ../salt_net"
   ]
  },
  {
   "cell_type": "code",
   "execution_count": null,
   "metadata": {
    "colab": {},
    "colab_type": "code",
    "id": "MfnNZyIMjr2z"
   },
   "outputs": [],
   "source": [
    "saltnet = UResNet(pretrained=False)\n",
    "model_file_suffix = \"Unet_res34_bce_lovasz_loss_se_new_aug_2018_09_20_12_08_04.ckp\"\n",
    "model_state_dict = torch.load(join_files(model_file_suffix, '.', returnFileObject=True, removeChunks=False))\n",
    "saltnet.load_state_dict(model_state_dict['model'])"
   ]
  },
  {
   "cell_type": "code",
   "execution_count": null,
   "metadata": {
    "colab": {},
    "colab_type": "code",
    "id": "nSTGwh10UMrD"
   },
   "outputs": [],
   "source": [
    "optimizer = torch.optim.Adam(saltnet.parameters(), lr=0.0005, weight_decay=0.00001)\n",
    "scheduler = torch.optim.lr_scheduler.StepLR(optimizer, 10, gamma=0.6)"
   ]
  },
  {
   "cell_type": "code",
   "execution_count": null,
   "metadata": {
    "colab": {},
    "colab_type": "code",
    "id": "y1TB1NlPx-_p"
   },
   "outputs": [],
   "source": [
    "#loss_fn_bce = nn.BCEWithLogitsLoss(pos_weight=torch.tensor(2.0).type(dtype))\n",
    "loss_focal = FocalLoss(0.25, 2, logits=True)\n",
    "loss_lovasz_hinge = LovaszHingeLoss()\n",
    "\n",
    "model_save_name = f'../salt_net/Unet_res34_bce_lovasz_loss_se_weight_decay_finetune10_{get_current_time_as_fname()}.ckp'\n",
    "log.info(model_save_name)"
   ]
  },
  {
   "cell_type": "code",
   "execution_count": null,
   "metadata": {
    "colab": {},
    "colab_type": "code",
    "id": "OX55uUxAU4dF"
   },
   "outputs": [],
   "source": [
    "train_params = {\n",
    "    'model_save_name': model_save_name,\n",
    "    'save_model_every': 20,\n",
    "    'save_log_every': 2,\n",
    "    'num_epochs': 50,\n",
    "    'log': log,\n",
    "    'mask_cutoff': 0.,\n",
    "    'model_save_iou_threshold': 0.82\n",
    "    }"
   ]
  },
  {
   "cell_type": "code",
   "execution_count": null,
   "metadata": {
    "colab": {
     "base_uri": "https://localhost:8080/",
     "height": 36967
    },
    "colab_type": "code",
    "id": "-dhAynj4XADB",
    "outputId": "dfabc16e-a412-4a9e-e860-3456c6a4020b"
   },
   "outputs": [],
   "source": [
    "train_model(saltnet, dataloaders, (loss_focal, loss_lovasz_hinge), (1, 0.05), optimizer, scheduler, train_params, all_data)"
   ]
  },
  {
   "cell_type": "code",
   "execution_count": null,
   "metadata": {
    "colab": {},
    "colab_type": "code",
    "id": "1h0EQI7zk09r"
   },
   "outputs": [],
   "source": []
  },
  {
   "cell_type": "markdown",
   "metadata": {
    "colab_type": "text",
    "id": "mU7rj82kl-Aa"
   },
   "source": [
    "### Fine tune 2"
   ]
  },
  {
   "cell_type": "code",
   "execution_count": null,
   "metadata": {
    "colab": {
     "base_uri": "https://localhost:8080/",
     "height": 54
    },
    "colab_type": "code",
    "id": "dPpKzoJzl86z",
    "outputId": "07baf119-27e1-4911-e8b8-de6e0eec9b92"
   },
   "outputs": [],
   "source": [
    "log.info('Use Unet with Resnet 34 as backbone with Adam and updated data aug class. Finetuning from IOU 0.8190. Less data aug. Using bigger weight decay 0.0001.')"
   ]
  },
  {
   "cell_type": "code",
   "execution_count": null,
   "metadata": {
    "colab": {},
    "colab_type": "code",
    "id": "-qbpyooDl862"
   },
   "outputs": [],
   "source": [
    "model_config = '''\n",
    "p = Pipeline_Salt()\n",
    "#p.skew(probability=0.5, magnitude=0.2)\n",
    "#p.random_distortion(probability=0.5, grid_width=3, grid_height=3, magnitude=3)\n",
    "p.crop_random_align(probability=0.5, min_factor=0.5, max_factor=0.9, mask_diff_pct=0.2)\n",
    "#p.rotate(probability=0.5, max_left_rotation=10, max_right_rotation=10)\n",
    "#p.shear(probability=0.5, max_shear_left=10, max_shear_right=10)\n",
    "p.flip_left_right(probability=0.5)\n",
    "\n",
    "train_data_params = {'batch_size': 32,\n",
    "                     #'sampler': weighted_sampler,\n",
    "                     'shuffle': True,\n",
    "                     'drop_last': False}\n",
    "\n",
    "val_data_params = {'batch_size': 32,\n",
    "                   'shuffle': True,\n",
    "                   'drop_last': False}\n",
    "\n",
    "train_dataLoader = (\n",
    "    DataLoader(SaltDataset(X_train, y_train, depth_train,\n",
    "                           np.zeros_like(X_train_mean_img), out_size=128,  out_ch=1,\n",
    "                           transform=p.torch_transform(), random_brightness=0.5), **train_data_params)\n",
    ")\n",
    "\n",
    "val_dataLoader = (\n",
    "    DataLoader(SaltDataset(X_val, y_val, depth_val, \n",
    "                           np.zeros_like(X_train_mean_img), out_size=128, out_ch=1), **val_data_params)\n",
    ")\n",
    "\n",
    "dataloaders = {'train': train_dataLoader, 'val':val_dataLoader}\n",
    "\n",
    "saltnet = UResNet(pretrained=False)\n",
    "model_file_suffix = \"Unet_res34_bce_lovasz_loss_se_new_aug_2018_09_20_12_08_04.ckp\"\n",
    "model_state_dict = torch.load(join_files(model_file_suffix, '.', returnFileObject=True, removeChunks=False))\n",
    "saltnet.load_state_dict(model_state_dict['model'])\n",
    "\n",
    "optimizer = torch.optim.Adam(saltnet.parameters(), lr=0.0005, weight_decay=0.0001)\n",
    "scheduler = torch.optim.lr_scheduler.StepLR(optimizer, 10, gamma=0.6)\n",
    "\n",
    "#loss_fn_bce = nn.BCEWithLogitsLoss(pos_weight=torch.tensor(2.0).type(dtype))\n",
    "loss_focal = FocalLoss(0.25, 2, logits=True)\n",
    "loss_lovasz_hinge = LovaszHingeLoss()\n",
    "\n",
    "model_save_name = f'../salt_net/Unet_res34_bce_lovasz_loss_se_high)weight_decay_finetune11_{get_current_time_as_fname()}.ckp'\n",
    "log.info(model_save_name)\n",
    "\n",
    "\n",
    "'''"
   ]
  },
  {
   "cell_type": "code",
   "execution_count": null,
   "metadata": {
    "colab": {
     "base_uri": "https://localhost:8080/",
     "height": 823
    },
    "colab_type": "code",
    "id": "VAerD30Sl863",
    "outputId": "5af628d2-e8c9-4297-a3fd-c93f6a3911d6"
   },
   "outputs": [],
   "source": [
    "log.info(model_config)"
   ]
  },
  {
   "cell_type": "code",
   "execution_count": null,
   "metadata": {
    "colab": {},
    "colab_type": "code",
    "id": "gqf9sxuCl863"
   },
   "outputs": [],
   "source": [
    "p = Pipeline_Salt()\n",
    "#p.skew(probability=0.5, magnitude=0.2)\n",
    "#p.random_distortion(probability=0.5, grid_width=3, grid_height=3, magnitude=3)\n",
    "p.crop_random_align(probability=0.5, min_factor=0.5, max_factor=0.9, mask_diff_pct=0.2)\n",
    "#p.rotate(probability=0.5, max_left_rotation=10, max_right_rotation=10)\n",
    "#p.shear(probability=0.5, max_shear_left=10, max_shear_right=10)\n",
    "p.flip_left_right(probability=0.5)\n",
    "\n",
    "train_data_params = {'batch_size': 32,\n",
    "                     #'sampler': weighted_sampler,\n",
    "                     'shuffle': True,\n",
    "                     'drop_last': False}\n",
    "\n",
    "val_data_params = {'batch_size': 32,\n",
    "                   'shuffle': True,\n",
    "                   'drop_last': False}\n",
    "\n",
    "train_dataLoader = (\n",
    "    DataLoader(SaltDataset(X_train, y_train, depth_train,\n",
    "                           np.zeros_like(X_train_mean_img), out_size=128,  out_ch=1,\n",
    "                           transform=p.torch_transform(), random_brightness=0.5), **train_data_params)\n",
    ")\n",
    "\n",
    "val_dataLoader = (\n",
    "    DataLoader(SaltDataset(X_val, y_val, depth_val, \n",
    "                           np.zeros_like(X_train_mean_img), out_size=128, out_ch=1), **val_data_params)\n",
    ")\n",
    "\n",
    "dataloaders = {'train': train_dataLoader, 'val':val_dataLoader}"
   ]
  },
  {
   "cell_type": "code",
   "execution_count": null,
   "metadata": {
    "colab": {
     "base_uri": "https://localhost:8080/",
     "height": 34
    },
    "colab_type": "code",
    "id": "dNVOOKvzl867",
    "outputId": "c42295dd-357e-4f55-c522-80348e877250"
   },
   "outputs": [],
   "source": [
    "cd ../salt_net"
   ]
  },
  {
   "cell_type": "code",
   "execution_count": null,
   "metadata": {
    "colab": {
     "base_uri": "https://localhost:8080/",
     "height": 34
    },
    "colab_type": "code",
    "id": "v4elknPBl868",
    "outputId": "8a49be2a-db9f-4d78-e0bb-1bb22e600749"
   },
   "outputs": [],
   "source": [
    "saltnet = UResNet(pretrained=False)\n",
    "model_file_suffix = \"Unet_res34_bce_lovasz_loss_se_new_aug_2018_09_20_12_08_04.ckp\"\n",
    "model_state_dict = torch.load(join_files(model_file_suffix, '.', returnFileObject=True, removeChunks=False))\n",
    "saltnet.load_state_dict(model_state_dict['model'])"
   ]
  },
  {
   "cell_type": "code",
   "execution_count": null,
   "metadata": {
    "colab": {},
    "colab_type": "code",
    "id": "5GZrQgTHl86-"
   },
   "outputs": [],
   "source": [
    "optimizer = torch.optim.Adam(saltnet.parameters(), lr=0.0005, weight_decay=0.0001)\n",
    "scheduler = torch.optim.lr_scheduler.StepLR(optimizer, 10, gamma=0.6)"
   ]
  },
  {
   "cell_type": "code",
   "execution_count": null,
   "metadata": {
    "colab": {
     "base_uri": "https://localhost:8080/",
     "height": 34
    },
    "colab_type": "code",
    "id": "hsniDCiBl87A",
    "outputId": "357dda01-4bed-49f3-9c66-3ec3d438cd21"
   },
   "outputs": [],
   "source": [
    "#loss_fn_bce = nn.BCEWithLogitsLoss(pos_weight=torch.tensor(2.0).type(dtype))\n",
    "loss_focal = FocalLoss(0.25, 2, logits=True)\n",
    "loss_lovasz_hinge = LovaszHingeLoss()\n",
    "\n",
    "model_save_name = f'../salt_net/Unet_res34_bce_lovasz_loss_se_high)weight_decay_finetune11_{get_current_time_as_fname()}.ckp'\n",
    "log.info(model_save_name)"
   ]
  },
  {
   "cell_type": "code",
   "execution_count": null,
   "metadata": {
    "colab": {},
    "colab_type": "code",
    "id": "l6VCBKdBl87B"
   },
   "outputs": [],
   "source": [
    "train_params = {\n",
    "    'model_save_name': model_save_name,\n",
    "    'save_model_every': 20,\n",
    "    'save_log_every': 2,\n",
    "    'num_epochs': 50,\n",
    "    'log': log,\n",
    "    'mask_cutoff': 0.,\n",
    "    'model_save_iou_threshold': 0.82\n",
    "    }"
   ]
  },
  {
   "cell_type": "code",
   "execution_count": null,
   "metadata": {
    "colab": {
     "base_uri": "https://localhost:8080/",
     "height": 36396
    },
    "colab_type": "code",
    "id": "Yy917-gCl87G",
    "outputId": "97ed6d16-d802-4053-ccc7-50b40696ed22"
   },
   "outputs": [],
   "source": [
    "train_model(saltnet, dataloaders, (loss_focal, loss_lovasz_hinge), (1, 0.05), optimizer, scheduler, train_params, all_data)"
   ]
  },
  {
   "cell_type": "code",
   "execution_count": null,
   "metadata": {
    "colab": {},
    "colab_type": "code",
    "id": "yz6de-jqk1MN"
   },
   "outputs": [],
   "source": []
  },
  {
   "cell_type": "markdown",
   "metadata": {
    "colab_type": "text",
    "id": "hvFrOke5k8r6"
   },
   "source": [
    "### Fine Tune 3"
   ]
  },
  {
   "cell_type": "code",
   "execution_count": null,
   "metadata": {
    "colab": {
     "base_uri": "https://localhost:8080/",
     "height": 34
    },
    "colab_type": "code",
    "id": "hrZeBWDpk7sX",
    "outputId": "190217f4-98af-4a86-90ae-c782e7855777"
   },
   "outputs": [],
   "source": [
    "log.info('Use Unet with Resnet 34 as backbone with Adam and updated data aug class. Finetuning from IOU 0.8190. More data aug')"
   ]
  },
  {
   "cell_type": "code",
   "execution_count": null,
   "metadata": {
    "colab": {},
    "colab_type": "code",
    "id": "syHs1nx-k7sY"
   },
   "outputs": [],
   "source": [
    "model_config = '''\n",
    "p = Pipeline_Salt()\n",
    "p.skew(probability=0.5, magnitude=0.2)\n",
    "p.random_distortion(probability=0.5, grid_width=3, grid_height=3, magnitude=3)\n",
    "p.crop_random_align(probability=0.3, min_factor=0.5, max_factor=0.9, mask_diff_pct=0.2)\n",
    "p.rotate(probability=0.5, max_left_rotation=20, max_right_rotation=20)\n",
    "p.shear(probability=0.5, max_shear_left=20, max_shear_right=20)\n",
    "p.flip_left_right(probability=0.5)\n",
    "\n",
    "train_data_params = {'batch_size': 32,\n",
    "                     #'sampler': weighted_sampler,\n",
    "                     'shuffle': True,\n",
    "                     'drop_last': False}\n",
    "\n",
    "val_data_params = {'batch_size': 32,\n",
    "                   'shuffle': True,\n",
    "                   'drop_last': False}\n",
    "\n",
    "train_dataLoader = (\n",
    "    DataLoader(SaltDataset(X_train, y_train, depth_train,\n",
    "                           np.zeros_like(X_train_mean_img), out_size=128,  out_ch=1,\n",
    "                           transform=p.torch_transform(), random_brightness=0.5), **train_data_params)\n",
    ")\n",
    "\n",
    "val_dataLoader = (\n",
    "    DataLoader(SaltDataset(X_val, y_val, depth_val, \n",
    "                           np.zeros_like(X_train_mean_img), out_size=128, out_ch=1), **val_data_params)\n",
    ")\n",
    "\n",
    "dataloaders = {'train': train_dataLoader, 'val':val_dataLoader}\n",
    "\n",
    "saltnet = UResNet(pretrained=False)\n",
    "model_file_suffix = \"Unet_res34_bce_lovasz_loss_se_new_aug_2018_09_20_12_08_04.ckp\"\n",
    "model_state_dict = torch.load(join_files(model_file_suffix, '.', returnFileObject=True, removeChunks=False))\n",
    "saltnet.load_state_dict(model_state_dict['model'])\n",
    "\n",
    "optimizer = torch.optim.Adam(saltnet.parameters(), lr=0.0005)\n",
    "scheduler = torch.optim.lr_scheduler.StepLR(optimizer, 10, gamma=0.6)\n",
    "\n",
    "#loss_fn_bce = nn.BCEWithLogitsLoss(pos_weight=torch.tensor(2.0).type(dtype))\n",
    "loss_focal = FocalLoss(0.25, 2, logits=True)\n",
    "loss_lovasz_hinge = LovaszHingeLoss()\n",
    "\n",
    "model_save_name = f'../salt_net/Unet_res34_bce_lovasz_loss_se_more_aug_finetune11_{get_current_time_as_fname()}.ckp'\n",
    "log.info(model_save_name)\n",
    "\n",
    "train_model(saltnet, dataloaders, (loss_focal, loss_lovasz_hinge), (1, 0.05), optimizer, scheduler, train_params, all_data)\n",
    "'''"
   ]
  },
  {
   "cell_type": "code",
   "execution_count": null,
   "metadata": {
    "colab": {
     "base_uri": "https://localhost:8080/",
     "height": 823
    },
    "colab_type": "code",
    "id": "cNrLEDE4k7sb",
    "outputId": "8bf54bba-c628-416c-decc-4351f895d171"
   },
   "outputs": [],
   "source": [
    "log.info(model_config)"
   ]
  },
  {
   "cell_type": "code",
   "execution_count": null,
   "metadata": {
    "colab": {},
    "colab_type": "code",
    "id": "5aOooQDhk7sc"
   },
   "outputs": [],
   "source": [
    "p = Pipeline_Salt()\n",
    "p.skew(probability=0.5, magnitude=0.2)\n",
    "p.random_distortion(probability=0.5, grid_width=3, grid_height=3, magnitude=3)\n",
    "p.crop_random_align(probability=0.3, min_factor=0.5, max_factor=0.9, mask_diff_pct=0.2)\n",
    "p.rotate(probability=0.5, max_left_rotation=20, max_right_rotation=20)\n",
    "p.shear(probability=0.5, max_shear_left=20, max_shear_right=20)\n",
    "p.flip_left_right(probability=0.5)\n",
    "\n",
    "train_data_params = {'batch_size': 32,\n",
    "                     #'sampler': weighted_sampler,\n",
    "                     'shuffle': True,\n",
    "                     'drop_last': False}\n",
    "\n",
    "val_data_params = {'batch_size': 32,\n",
    "                   'shuffle': True,\n",
    "                   'drop_last': False}\n",
    "\n",
    "train_dataLoader = (\n",
    "    DataLoader(SaltDataset(X_train, y_train, depth_train,\n",
    "                           np.zeros_like(X_train_mean_img), out_size=128,  out_ch=1,\n",
    "                           transform=p.torch_transform(), random_brightness=0.5), **train_data_params)\n",
    ")\n",
    "\n",
    "val_dataLoader = (\n",
    "    DataLoader(SaltDataset(X_val, y_val, depth_val, \n",
    "                           np.zeros_like(X_train_mean_img), out_size=128, out_ch=1), **val_data_params)\n",
    ")\n",
    "\n",
    "dataloaders = {'train': train_dataLoader, 'val':val_dataLoader}"
   ]
  },
  {
   "cell_type": "code",
   "execution_count": null,
   "metadata": {
    "colab": {
     "base_uri": "https://localhost:8080/",
     "height": 34
    },
    "colab_type": "code",
    "id": "MyGFaHcZk7sd",
    "outputId": "cb69d64e-ebd8-4b2a-935e-ab09a515dd82"
   },
   "outputs": [],
   "source": [
    "cd ../salt_net"
   ]
  },
  {
   "cell_type": "code",
   "execution_count": null,
   "metadata": {
    "colab": {
     "base_uri": "https://localhost:8080/",
     "height": 34
    },
    "colab_type": "code",
    "id": "SuAvINNrk7se",
    "outputId": "7068f6b3-e2f6-4fe2-db2b-5a7529fc9c29"
   },
   "outputs": [],
   "source": [
    "saltnet = UResNet(pretrained=False)\n",
    "model_file_suffix = \"Unet_res34_bce_lovasz_loss_se_new_aug_2018_09_20_12_08_04.ckp\"\n",
    "model_state_dict = torch.load(join_files(model_file_suffix, '.', returnFileObject=True, removeChunks=False))\n",
    "saltnet.load_state_dict(model_state_dict['model'])"
   ]
  },
  {
   "cell_type": "code",
   "execution_count": null,
   "metadata": {
    "colab": {},
    "colab_type": "code",
    "id": "Z0kepifAk7sf"
   },
   "outputs": [],
   "source": [
    "optimizer = torch.optim.Adam(saltnet.parameters(), lr=0.0005)\n",
    "scheduler = torch.optim.lr_scheduler.StepLR(optimizer, 10, gamma=0.6)"
   ]
  },
  {
   "cell_type": "code",
   "execution_count": null,
   "metadata": {
    "colab": {
     "base_uri": "https://localhost:8080/",
     "height": 34
    },
    "colab_type": "code",
    "id": "ljBRWAazk7sh",
    "outputId": "7077233a-2ea9-42f5-9b12-32d799d6d488"
   },
   "outputs": [],
   "source": [
    "#loss_fn_bce = nn.BCEWithLogitsLoss(pos_weight=torch.tensor(2.0).type(dtype))\n",
    "loss_focal = FocalLoss(0.25, 2, logits=True)\n",
    "loss_lovasz_hinge = LovaszHingeLoss()\n",
    "\n",
    "model_save_name = f'../salt_net/Unet_res34_bce_lovasz_loss_se_more_aug_finetune12_{get_current_time_as_fname()}.ckp'\n",
    "log.info(model_save_name)"
   ]
  },
  {
   "cell_type": "code",
   "execution_count": null,
   "metadata": {
    "colab": {},
    "colab_type": "code",
    "id": "4bKSzBz0k7si"
   },
   "outputs": [],
   "source": [
    "train_params = {\n",
    "    'model_save_name': model_save_name,\n",
    "    'save_model_every': 20,\n",
    "    'save_log_every': 2,\n",
    "    'num_epochs': 50,\n",
    "    'log': log,\n",
    "    'mask_cutoff': 0.,\n",
    "    'model_save_iou_threshold': 0.82\n",
    "    }"
   ]
  },
  {
   "cell_type": "code",
   "execution_count": null,
   "metadata": {
    "colab": {
     "base_uri": "https://localhost:8080/",
     "height": 38748
    },
    "colab_type": "code",
    "id": "DQDN4EgQk7sk",
    "outputId": "3773d59f-1a2b-4ebc-c596-76de575ab15a"
   },
   "outputs": [],
   "source": [
    "train_model(saltnet, dataloaders, (loss_focal, loss_lovasz_hinge), (1, 0.05), optimizer, scheduler, train_params, all_data)"
   ]
  },
  {
   "cell_type": "code",
   "execution_count": null,
   "metadata": {
    "colab": {},
    "colab_type": "code",
    "id": "r1kZp86gY5lf"
   },
   "outputs": [],
   "source": []
  },
  {
   "cell_type": "code",
   "execution_count": null,
   "metadata": {
    "colab": {},
    "colab_type": "code",
    "id": "EYLIx_qFY5sM"
   },
   "outputs": [],
   "source": []
  },
  {
   "cell_type": "markdown",
   "metadata": {
    "colab_type": "text",
    "id": "zead-NFmY6Du"
   },
   "source": [
    "### Fine Tune 4"
   ]
  },
  {
   "cell_type": "code",
   "execution_count": null,
   "metadata": {
    "colab": {
     "base_uri": "https://localhost:8080/",
     "height": 34
    },
    "colab_type": "code",
    "id": "kDd5c5LRY6Dw",
    "outputId": "49e185ed-779f-424f-ca9b-f9af442589a8"
   },
   "outputs": [],
   "source": [
    "log.info('Use Unet with Resnet 34 as backbone with Adam and updated data aug class. Finetuning from IOU 0.8190. More data aug with weight decay')"
   ]
  },
  {
   "cell_type": "code",
   "execution_count": null,
   "metadata": {
    "colab": {},
    "colab_type": "code",
    "id": "zWJSVuupY6D0"
   },
   "outputs": [],
   "source": [
    "model_config = '''\n",
    "p = Pipeline_Salt()\n",
    "p.skew(probability=0.5, magnitude=0.3)\n",
    "p.random_distortion(probability=0.5, grid_width=3, grid_height=3, magnitude=4)\n",
    "p.crop_random_align(probability=0.5, min_factor=0.3, max_factor=0.9, mask_diff_pct=0.2)\n",
    "p.rotate(probability=0.5, max_left_rotation=20, max_right_rotation=20)\n",
    "p.shear(probability=0.5, max_shear_left=20, max_shear_right=20)\n",
    "p.flip_left_right(probability=0.5)\n",
    "\n",
    "train_data_params = {'batch_size': 32,\n",
    "                     #'sampler': weighted_sampler,\n",
    "                     'shuffle': True,\n",
    "                     'drop_last': False}\n",
    "\n",
    "val_data_params = {'batch_size': 32,\n",
    "                   'shuffle': True,\n",
    "                   'drop_last': False}\n",
    "\n",
    "train_dataLoader = (\n",
    "    DataLoader(SaltDataset(X_train, y_train, depth_train,\n",
    "                           np.zeros_like(X_train_mean_img), out_size=128,  out_ch=1,\n",
    "                           transform=p.torch_transform(), random_brightness=0.5), **train_data_params)\n",
    ")\n",
    "\n",
    "val_dataLoader = (\n",
    "    DataLoader(SaltDataset(X_val, y_val, depth_val, \n",
    "                           np.zeros_like(X_train_mean_img), out_size=128, out_ch=1), **val_data_params)\n",
    ")\n",
    "\n",
    "dataloaders = {'train': train_dataLoader, 'val':val_dataLoader}\n",
    "\n",
    "saltnet = UResNet(pretrained=False)\n",
    "model_file_suffix = \"Unet_res34_bce_lovasz_loss_se_new_aug_2018_09_20_12_08_04.ckp\"\n",
    "model_state_dict = torch.load(join_files(model_file_suffix, '.', returnFileObject=True, removeChunks=False))\n",
    "saltnet.load_state_dict(model_state_dict['model'])\n",
    "\n",
    "optimizer = torch.optim.Adam(saltnet.parameters(), lr=0.0003, weight_decay=0.00001)\n",
    "scheduler = torch.optim.lr_scheduler.StepLR(optimizer, 10, gamma=0.8)\n",
    "\n",
    "#loss_fn_bce = nn.BCEWithLogitsLoss(pos_weight=torch.tensor(2.0).type(dtype))\n",
    "loss_focal = FocalLoss(0.25, 2, logits=True)\n",
    "loss_lovasz_hinge = LovaszHingeLoss()\n",
    "\n",
    "model_save_name = f'../salt_net/Unet_res34_more_aug_w_decayfinetune12_{get_current_time_as_fname()}.ckp'\n",
    "log.info(model_save_name)\n",
    "\n",
    "train_params = {\n",
    "    'model_save_name': model_save_name,\n",
    "    'save_model_every': 20,\n",
    "    'save_log_every': 2,\n",
    "    'num_epochs': 100,\n",
    "    'log': log,\n",
    "    'mask_cutoff': 0.,\n",
    "    'model_save_iou_threshold': 0.828\n",
    "    }\n",
    "    \n",
    "    train_model(saltnet, dataloaders, (loss_focal, loss_lovasz_hinge), (1, 0.05), optimizer, scheduler, train_params, all_data)\n",
    "    \n",
    "'''"
   ]
  },
  {
   "cell_type": "code",
   "execution_count": null,
   "metadata": {
    "colab": {
     "base_uri": "https://localhost:8080/",
     "height": 1008
    },
    "colab_type": "code",
    "id": "2QTD_Rk8Y6D2",
    "outputId": "48b75d88-7b7c-4332-c156-db571fb96ed5"
   },
   "outputs": [],
   "source": [
    "log.info(model_config)"
   ]
  },
  {
   "cell_type": "code",
   "execution_count": null,
   "metadata": {
    "colab": {},
    "colab_type": "code",
    "id": "nt7RHrFOY6D6"
   },
   "outputs": [],
   "source": [
    "p = Pipeline_Salt()\n",
    "p.skew(probability=0.5, magnitude=0.3)\n",
    "p.random_distortion(probability=0.5, grid_width=3, grid_height=3, magnitude=4)\n",
    "p.crop_random_align(probability=0.5, min_factor=0.3, max_factor=0.9, mask_diff_pct=0.2)\n",
    "p.rotate(probability=0.5, max_left_rotation=20, max_right_rotation=20)\n",
    "p.shear(probability=0.5, max_shear_left=20, max_shear_right=20)\n",
    "p.flip_left_right(probability=0.5)\n",
    "\n",
    "train_data_params = {'batch_size': 32,\n",
    "                     #'sampler': weighted_sampler,\n",
    "                     'shuffle': True,\n",
    "                     'drop_last': False}\n",
    "\n",
    "val_data_params = {'batch_size': 32,\n",
    "                   'shuffle': True,\n",
    "                   'drop_last': False}\n",
    "\n",
    "train_dataLoader = (\n",
    "    DataLoader(SaltDataset(X_train, y_train, depth_train,\n",
    "                           np.zeros_like(X_train_mean_img), out_size=128,  out_ch=1,\n",
    "                           transform=p.torch_transform(), random_brightness=0.5), **train_data_params)\n",
    ")\n",
    "\n",
    "val_dataLoader = (\n",
    "    DataLoader(SaltDataset(X_val, y_val, depth_val, \n",
    "                           np.zeros_like(X_train_mean_img), out_size=128, out_ch=1), **val_data_params)\n",
    ")\n",
    "\n",
    "dataloaders = {'train': train_dataLoader, 'val':val_dataLoader}"
   ]
  },
  {
   "cell_type": "code",
   "execution_count": null,
   "metadata": {
    "colab": {
     "base_uri": "https://localhost:8080/",
     "height": 34
    },
    "colab_type": "code",
    "id": "GV8XS4jnY6D-",
    "outputId": "a44246a5-7206-45b1-e8e4-215505b9dc14"
   },
   "outputs": [],
   "source": [
    "cd ../salt_net"
   ]
  },
  {
   "cell_type": "code",
   "execution_count": null,
   "metadata": {
    "colab": {
     "base_uri": "https://localhost:8080/",
     "height": 286
    },
    "colab_type": "code",
    "id": "mfZ1FfAnaubZ",
    "outputId": "9822b48d-62ba-4670-ac4a-ac0d76cb6ed1"
   },
   "outputs": [],
   "source": [
    "ls"
   ]
  },
  {
   "cell_type": "code",
   "execution_count": null,
   "metadata": {
    "colab": {
     "base_uri": "https://localhost:8080/",
     "height": 34
    },
    "colab_type": "code",
    "id": "bcRbLND0Y6EB",
    "outputId": "3d4f7a8d-cb6e-49c4-d675-58bbb3871c5d"
   },
   "outputs": [],
   "source": [
    "saltnet = UResNet(pretrained=False)\n",
    "model_file_suffix = \"./cpk_backup/Unet_res34_bce_lovasz_loss_se_new_aug_2018_09_20_12_08_04.ckp\"\n",
    "model_state_dict = torch.load(join_files(model_file_suffix, '.', returnFileObject=True, removeChunks=False))\n",
    "saltnet.load_state_dict(model_state_dict['model'])"
   ]
  },
  {
   "cell_type": "code",
   "execution_count": null,
   "metadata": {
    "colab": {},
    "colab_type": "code",
    "id": "TSxaJcQgY6EF"
   },
   "outputs": [],
   "source": [
    "optimizer = torch.optim.Adam(saltnet.parameters(), lr=0.0005, weight_decay=0.00001)\n",
    "scheduler = torch.optim.lr_scheduler.StepLR(optimizer, 5, gamma=0.9)"
   ]
  },
  {
   "cell_type": "code",
   "execution_count": null,
   "metadata": {
    "colab": {
     "base_uri": "https://localhost:8080/",
     "height": 34
    },
    "colab_type": "code",
    "id": "eQHiQfKpY6EL",
    "outputId": "133eb97f-5f9c-47c5-d9cf-df503e18f047"
   },
   "outputs": [],
   "source": [
    "#loss_fn_bce = nn.BCEWithLogitsLoss(pos_weight=torch.tensor(2.0).type(dtype))\n",
    "loss_focal = FocalLoss(0.25, 2, logits=True)\n",
    "loss_lovasz_hinge = LovaszHingeLoss()\n",
    "\n",
    "model_save_name = f'../salt_net/Unet_res34_more_aug_w_decayfinetune12_{get_current_time_as_fname()}.ckp'\n",
    "log.info(model_save_name)"
   ]
  },
  {
   "cell_type": "code",
   "execution_count": null,
   "metadata": {
    "colab": {},
    "colab_type": "code",
    "id": "ZFOYipFbY6EP"
   },
   "outputs": [],
   "source": [
    "train_params = {\n",
    "    'model_save_name': model_save_name,\n",
    "    'save_model_every': 20,\n",
    "    'save_log_every': 2,\n",
    "    'num_epochs': 100,\n",
    "    'log': log,\n",
    "    'mask_cutoff': 0.,\n",
    "    'model_save_iou_threshold': 0.828\n",
    "    }"
   ]
  },
  {
   "cell_type": "code",
   "execution_count": null,
   "metadata": {
    "colab": {
     "base_uri": "https://localhost:8080/",
     "height": 306
    },
    "colab_type": "code",
    "id": "iJatf3CVY6ET",
    "outputId": "dc0a3609-bec1-4964-b244-2d8d0698a074"
   },
   "outputs": [],
   "source": [
    "train_model(saltnet, dataloaders, (loss_focal, loss_lovasz_hinge), (1, 0.05), optimizer, scheduler, train_params, all_data)"
   ]
  },
  {
   "cell_type": "code",
   "execution_count": null,
   "metadata": {
    "colab": {
     "base_uri": "https://localhost:8080/",
     "height": 34
    },
    "colab_type": "code",
    "id": "HwEnIKbTY5wV",
    "outputId": "1c95da36-a515-4a6f-a883-b4e1e0b4e5b2"
   },
   "outputs": [],
   "source": [
    "0.8**10"
   ]
  },
  {
   "cell_type": "markdown",
   "metadata": {
    "colab_type": "text",
    "id": "9MW3YwaZQmOz"
   },
   "source": [
    "## Load Trained Model"
   ]
  },
  {
   "cell_type": "code",
   "execution_count": null,
   "metadata": {
    "colab": {},
    "colab_type": "code",
    "id": "ESBVbot1Qp7b"
   },
   "outputs": [],
   "source": [
    "loaded_model = UResNet(pretrained=False)"
   ]
  },
  {
   "cell_type": "code",
   "execution_count": null,
   "metadata": {
    "colab": {},
    "colab_type": "code",
    "id": "LIRv-uXQGROz"
   },
   "outputs": [],
   "source": [
    "ls"
   ]
  },
  {
   "cell_type": "code",
   "execution_count": null,
   "metadata": {
    "colab": {},
    "colab_type": "code",
    "id": "MDpBS2c9ePeW"
   },
   "outputs": [],
   "source": [
    "cd ../salt_net"
   ]
  },
  {
   "cell_type": "code",
   "execution_count": null,
   "metadata": {
    "colab": {},
    "colab_type": "code",
    "id": "cuoeW6MLd439"
   },
   "outputs": [],
   "source": [
    "model_file_suffix = \"Unet_res34_bce_lovasz_loss_se_new_aug_finetuen1_2018_09_21_09_41_48.ckp\"\n",
    "model_state_dict = torch.load(join_files(model_file_suffix, '.', returnFileObject=True, removeChunks=False))\n",
    "loaded_model.load_state_dict(model_state_dict['model'])"
   ]
  },
  {
   "cell_type": "markdown",
   "metadata": {
    "colab_type": "text",
    "id": "PbgxXtYH3KpR"
   },
   "source": [
    "### Make Predictions on validation set"
   ]
  },
  {
   "cell_type": "markdown",
   "metadata": {
    "colab_type": "text",
    "id": "W0cFNMM0QmO4"
   },
   "source": [
    "### Set model to evaluation mode"
   ]
  },
  {
   "cell_type": "code",
   "execution_count": null,
   "metadata": {
    "colab": {},
    "colab_type": "code",
    "id": "izo8iByg3KpP"
   },
   "outputs": [],
   "source": [
    "loaded_model.eval()\n",
    "assert loaded_model.training == False"
   ]
  },
  {
   "cell_type": "code",
   "execution_count": null,
   "metadata": {
    "colab": {},
    "colab_type": "code",
    "id": "zfdN-P-j3KpS"
   },
   "outputs": [],
   "source": [
    "val_dataLoader = DataLoader(SaltDataset(X_val, y_val, depth_val, X_train_mean_img, out_size=128), batch_size=16)"
   ]
  },
  {
   "cell_type": "code",
   "execution_count": null,
   "metadata": {
    "colab": {},
    "colab_type": "code",
    "id": "7M0ZHG7o6swA"
   },
   "outputs": [],
   "source": [
    "if torch.cuda.is_available():\n",
    "    loaded_model.cuda()"
   ]
  },
  {
   "cell_type": "code",
   "execution_count": null,
   "metadata": {
    "colab": {},
    "colab_type": "code",
    "id": "cAVNrwOUCkqI"
   },
   "outputs": [],
   "source": []
  },
  {
   "cell_type": "markdown",
   "metadata": {
    "colab_type": "text",
    "id": "F8_AINAPClPN"
   },
   "source": [
    "### Eval model on Val data set"
   ]
  },
  {
   "cell_type": "code",
   "execution_count": null,
   "metadata": {
    "colab": {},
    "colab_type": "code",
    "id": "JMuArCUd3KpU"
   },
   "outputs": [],
   "source": [
    "y_val_pred = []\n",
    "\n",
    "with torch.no_grad():\n",
    "    for X_val_batch, y_val_batch, depth_val_batch, X_val_id_batch in val_dataLoader:\n",
    "        y_val_pred.append(loaded_model(X_val_batch))\n",
    "y_val_pred = torch.cat(y_val_pred)"
   ]
  },
  {
   "cell_type": "code",
   "execution_count": null,
   "metadata": {
    "colab": {},
    "colab_type": "code",
    "id": "B7EYzvT0fyPx"
   },
   "outputs": [],
   "source": [
    "p = Pipeline_Salt()\n",
    "p.flip_left_right(probability=1)\n",
    "val_dataLoader = DataLoader(SaltDataset(X_val, y_val, depth_val, X_train_mean_img, out_size=128, out_ch=1,\n",
    "                           transform=p.torch_transform()), batch_size=16)\n",
    "y_val_pred_flip = []\n",
    "\n",
    "with torch.no_grad():\n",
    "    for X_val_batch, y_val_batch, depth_val_batch, X_val_id_batch in val_dataLoader:\n",
    "        y_val_pred_flip.append(loaded_model(X_val_batch))\n",
    "y_val_pred_flip = torch.cat(y_val_pred_flip)\n",
    "y_val_pred_flip = torch.flip(y_val_pred_flip,[2])"
   ]
  },
  {
   "cell_type": "markdown",
   "metadata": {
    "colab_type": "text",
    "id": "u1_1icxBCsP3"
   },
   "source": [
    "#### merge normal pred and hflip pred"
   ]
  },
  {
   "cell_type": "code",
   "execution_count": null,
   "metadata": {
    "colab": {},
    "colab_type": "code",
    "id": "FZNYVKKPf0if"
   },
   "outputs": [],
   "source": [
    "y_val_pred_ens = torch.where(y_val_pred.abs() > y_val_pred_flip.abs(), y_val_pred, y_val_pred_flip)"
   ]
  },
  {
   "cell_type": "markdown",
   "metadata": {
    "colab_type": "text",
    "id": "wBO4WrvnCyex"
   },
   "source": [
    "#### Check normal pred IOU"
   ]
  },
  {
   "cell_type": "code",
   "execution_count": null,
   "metadata": {
    "colab": {},
    "colab_type": "code",
    "id": "hSYVoI88HApH"
   },
   "outputs": [],
   "source": [
    "y_val_pred_adj = adjust_predictions(0, X_val, y_val_pred.gt(0), y_val.squeeze())"
   ]
  },
  {
   "cell_type": "markdown",
   "metadata": {
    "colab_type": "text",
    "id": "EzTNcpMUC6Qo"
   },
   "source": [
    "#### Check TTA pred IOU"
   ]
  },
  {
   "cell_type": "code",
   "execution_count": null,
   "metadata": {
    "colab": {},
    "colab_type": "code",
    "id": "230OrjoPf0_K"
   },
   "outputs": [],
   "source": [
    "y_val_pred_adj = adjust_predictions(0, X_val, y_val_pred_ens.gt(0), y_val.squeeze())"
   ]
  },
  {
   "cell_type": "code",
   "execution_count": null,
   "metadata": {
    "colab": {},
    "colab_type": "code",
    "id": "VZvUQtjqG_uf"
   },
   "outputs": [],
   "source": []
  },
  {
   "cell_type": "markdown",
   "metadata": {
    "colab_type": "text",
    "id": "PYOWBAw7DCss"
   },
   "source": [
    "### Find best mask cutoff"
   ]
  },
  {
   "cell_type": "code",
   "execution_count": null,
   "metadata": {
    "colab": {},
    "colab_type": "code",
    "id": "dg4ZJEH_7VV2"
   },
   "outputs": [],
   "source": [
    "results=[]\n",
    "for cut_off in np.r_[-0.1:0.1:50j]:\n",
    "  print(cut_off)\n",
    "  results.append(calc_mean_iou(adjust_predictions(0, X_val, y_val_pred_ens.gt(cut_off), y_val.squeeze()), y_val.squeeze()))"
   ]
  },
  {
   "cell_type": "code",
   "execution_count": null,
   "metadata": {
    "colab": {},
    "colab_type": "code",
    "id": "uXUNORfK8G4S"
   },
   "outputs": [],
   "source": [
    "MASK_CUTOFF = np.r_[-0.1:0.1:50j][np.argmax(results)]"
   ]
  },
  {
   "cell_type": "code",
   "execution_count": null,
   "metadata": {
    "colab": {},
    "colab_type": "code",
    "id": "5_ka-iqTgCYL"
   },
   "outputs": [],
   "source": [
    "print(f'MASK_CUTOFF: {MASK_CUTOFF}')"
   ]
  },
  {
   "cell_type": "markdown",
   "metadata": {
    "colab_type": "text",
    "id": "BlcQ7hthD6-K"
   },
   "source": [
    "#### Find best ZERO_MASK_CUTOFF"
   ]
  },
  {
   "cell_type": "code",
   "execution_count": null,
   "metadata": {
    "colab": {},
    "colab_type": "code",
    "id": "nxNTal6nS8Za"
   },
   "outputs": [],
   "source": [
    "results=[]\n",
    "for cut_off in range(0, 300, 10):\n",
    "  print(cut_off)\n",
    "  results.append(calc_mean_iou(adjust_predictions(cut_off, X_val, y_val_pred_ens.gt(MASK_CUTOFF), y_val.squeeze()), y_val.squeeze()))"
   ]
  },
  {
   "cell_type": "code",
   "execution_count": null,
   "metadata": {
    "colab": {},
    "colab_type": "code",
    "id": "52zu8TbtEEAU"
   },
   "outputs": [],
   "source": [
    "ZERO_MASK_CUTOFF = range(0, 300, 10)[np.argmax(results)]"
   ]
  },
  {
   "cell_type": "code",
   "execution_count": null,
   "metadata": {
    "colab": {},
    "colab_type": "code",
    "id": "QC3Bk6PEEHZ2"
   },
   "outputs": [],
   "source": [
    "print(f'ZERO_MASK_CUTOFF: {ZERO_MASK_CUTOFF}')"
   ]
  },
  {
   "cell_type": "code",
   "execution_count": null,
   "metadata": {
    "colab": {},
    "colab_type": "code",
    "id": "mQ2C6bakEDYE"
   },
   "outputs": [],
   "source": [
    "y_val_pred_adj = adjust_predictions(ZERO_MASK_CUTOFF, X_val, y_val_pred_ens.gt(MASK_CUTOFF), y_val.squeeze())"
   ]
  },
  {
   "cell_type": "markdown",
   "metadata": {
    "colab_type": "text",
    "id": "umePIs5RDvyw"
   },
   "source": [
    "### View a few val images with predictions"
   ]
  },
  {
   "cell_type": "code",
   "execution_count": null,
   "metadata": {
    "colab": {},
    "colab_type": "code",
    "id": "2_DJpL1o3KpY"
   },
   "outputs": [],
   "source": [
    "for i in range(10):\n",
    "    rand_id = np.random.choice(X_val_id_batch)\n",
    "    print(f'Image ID: {rand_id}')\n",
    "    val_img = X_val[rand_id]/255\n",
    "    val_mask = y_val[rand_id]\n",
    "    val_mask_pred = y_val_pred_ens.ge(MASK_CUTOFF)[rand_id]\n",
    "    plot_img_mask_pred([val_img, val_mask, val_mask_pred], range(3), img_per_line=3)"
   ]
  },
  {
   "cell_type": "code",
   "execution_count": null,
   "metadata": {
    "colab": {},
    "colab_type": "code",
    "id": "fkD6eqk9ghEe"
   },
   "outputs": [],
   "source": []
  },
  {
   "cell_type": "markdown",
   "metadata": {
    "colab_type": "text",
    "id": "BELGiJ1VEVw3"
   },
   "source": [
    "### Eval model on Train data set"
   ]
  },
  {
   "cell_type": "code",
   "execution_count": null,
   "metadata": {
    "colab": {},
    "colab_type": "code",
    "id": "Vc8_yrUzEeWA"
   },
   "outputs": [],
   "source": [
    "train_dataLoader = DataLoader(SaltDataset(X_train, y_train, depth_train, X_train_mean_img, out_size=128), batch_size=32)\n",
    "y_train_pred = []\n",
    "\n",
    "with torch.no_grad():\n",
    "    for X_train_batch, y_train_batch, depth_train_batch, X_train_id_batch in train_dataLoader:\n",
    "        y_train_pred.append(loaded_model(X_train_batch))\n",
    "y_train_pred = torch.cat(y_train_pred)"
   ]
  },
  {
   "cell_type": "code",
   "execution_count": null,
   "metadata": {
    "colab": {},
    "colab_type": "code",
    "id": "7pDFa_mNEebY"
   },
   "outputs": [],
   "source": [
    "p = Pipeline_Salt()\n",
    "p.flip_left_right(probability=1)\n",
    "train_dataLoader = DataLoader(SaltDataset(X_train, y_train, depth_train, X_train_mean_img, out_size=128, out_ch=1,\n",
    "                           transform=p.torch_transform()), batch_size=32)\n",
    "y_train_pred_flip = []\n",
    "\n",
    "with torch.no_grad():\n",
    "    for X_train_batch, y_train_batch, depth_train_batch, X_train_id_batch in train_dataLoader:\n",
    "        y_train_pred_flip.append(loaded_model(X_train_batch))\n",
    "y_train_pred_flip = torch.cat(y_train_pred_flip)\n",
    "y_train_pred_flip = torch.flip(y_train_pred_flip,[2])"
   ]
  },
  {
   "cell_type": "markdown",
   "metadata": {
    "colab_type": "text",
    "id": "4txEOloZFEqt"
   },
   "source": [
    "#### merge normal pred and hflip pred"
   ]
  },
  {
   "cell_type": "code",
   "execution_count": null,
   "metadata": {
    "colab": {},
    "colab_type": "code",
    "id": "lPCRVTSGFEqt"
   },
   "outputs": [],
   "source": [
    "y_train_pred_ens = torch.where(y_train_pred.abs() > y_train_pred_flip.abs(), y_train_pred, y_train_pred_flip)"
   ]
  },
  {
   "cell_type": "markdown",
   "metadata": {
    "colab_type": "text",
    "id": "36inQqL2FEqw"
   },
   "source": [
    "#### Check normal pred IOU"
   ]
  },
  {
   "cell_type": "code",
   "execution_count": null,
   "metadata": {
    "colab": {},
    "colab_type": "code",
    "id": "W-lLr9O9FEqw"
   },
   "outputs": [],
   "source": [
    "y_train_pred_adj = adjust_predictions(0, X_train, y_train_pred.gt(0), y_train.squeeze())"
   ]
  },
  {
   "cell_type": "markdown",
   "metadata": {
    "colab_type": "text",
    "id": "HxkzmfT-FEqz"
   },
   "source": [
    "#### Check TTA pred IOU"
   ]
  },
  {
   "cell_type": "code",
   "execution_count": null,
   "metadata": {
    "colab": {},
    "colab_type": "code",
    "id": "2nxT3zdGFEq0"
   },
   "outputs": [],
   "source": [
    "y_train_pred_adj = adjust_predictions(0, X_train, y_train_pred_ens.gt(0), y_train.squeeze())"
   ]
  },
  {
   "cell_type": "code",
   "execution_count": null,
   "metadata": {
    "colab": {},
    "colab_type": "code",
    "id": "I7LEjByXFEq5"
   },
   "outputs": [],
   "source": []
  },
  {
   "cell_type": "markdown",
   "metadata": {
    "colab_type": "text",
    "id": "AlqUaaKpFEq6"
   },
   "source": [
    "### Find best mask cutoff"
   ]
  },
  {
   "cell_type": "code",
   "execution_count": null,
   "metadata": {
    "colab": {},
    "colab_type": "code",
    "id": "DT58yYpmFEq6"
   },
   "outputs": [],
   "source": [
    "results=[]\n",
    "for cut_off in np.r_[-0.2:0.2:50j]:\n",
    "  print(cut_off)\n",
    "  results.append(calc_mean_iou(adjust_predictions(0, X_train, y_train_pred_ens.gt(cut_off), y_train.squeeze()), y_train.squeeze()))"
   ]
  },
  {
   "cell_type": "code",
   "execution_count": null,
   "metadata": {
    "colab": {},
    "colab_type": "code",
    "id": "7UxZ7-qiFj8K"
   },
   "outputs": [],
   "source": [
    "np.r_[-0.2:0.2:50j][np.argmax(results)]"
   ]
  },
  {
   "cell_type": "code",
   "execution_count": null,
   "metadata": {
    "colab": {},
    "colab_type": "code",
    "id": "WHeROpnjFEq7"
   },
   "outputs": [],
   "source": [
    "MASK_CUTOFF = np.r_[-0.1:0.1:50j][np.argmax(results)]"
   ]
  },
  {
   "cell_type": "code",
   "execution_count": null,
   "metadata": {
    "colab": {},
    "colab_type": "code",
    "id": "6DQnSzmkGMvj"
   },
   "outputs": [],
   "source": [
    "MASK_CUTOFF = 0"
   ]
  },
  {
   "cell_type": "code",
   "execution_count": null,
   "metadata": {
    "colab": {},
    "colab_type": "code",
    "id": "-Jyt5H9kFEq_"
   },
   "outputs": [],
   "source": [
    "print(f'MASK_CUTOFF: {MASK_CUTOFF}')"
   ]
  },
  {
   "cell_type": "markdown",
   "metadata": {
    "colab_type": "text",
    "id": "KLUZy7TAFErD"
   },
   "source": [
    "#### Find best ZERO_MASK_CUTOFF"
   ]
  },
  {
   "cell_type": "code",
   "execution_count": null,
   "metadata": {
    "colab": {},
    "colab_type": "code",
    "id": "y2STul6jFErD"
   },
   "outputs": [],
   "source": [
    "results=[]\n",
    "for cut_off in range(0, 300, 10):\n",
    "  print(cut_off)\n",
    "  results.append(calc_mean_iou(adjust_predictions(cut_off, X_train, y_train_pred_ens.gt(MASK_CUTOFF), y_train.squeeze()), y_train.squeeze()))"
   ]
  },
  {
   "cell_type": "code",
   "execution_count": null,
   "metadata": {
    "colab": {},
    "colab_type": "code",
    "id": "odyOnmrbFErG"
   },
   "outputs": [],
   "source": [
    "ZERO_MASK_CUTOFF = range(0, 300, 10)[np.argmax(results)]"
   ]
  },
  {
   "cell_type": "code",
   "execution_count": null,
   "metadata": {
    "colab": {},
    "colab_type": "code",
    "id": "WCjKZY5tFErH"
   },
   "outputs": [],
   "source": [
    "print(f'ZERO_MASK_CUTOFF: {ZERO_MASK_CUTOFF}')"
   ]
  },
  {
   "cell_type": "code",
   "execution_count": null,
   "metadata": {
    "colab": {},
    "colab_type": "code",
    "id": "5ap1JdDtFErL"
   },
   "outputs": [],
   "source": [
    "y_val_pred_adj = adjust_predictions(ZERO_MASK_CUTOFF, X_val, y_val_pred_ens.gt(MASK_CUTOFF), y_val.squeeze())"
   ]
  },
  {
   "cell_type": "code",
   "execution_count": null,
   "metadata": {
    "colab": {},
    "colab_type": "code",
    "id": "xv1LkCTLEqg7"
   },
   "outputs": [],
   "source": []
  },
  {
   "cell_type": "code",
   "execution_count": null,
   "metadata": {
    "colab": {},
    "colab_type": "code",
    "id": "GCR_6IO1g7xE"
   },
   "outputs": [],
   "source": [
    "y_train_pred_adj = adjust_predictions(ZERO_MASK_CUTOFF, X_train, y_train_pred_ens.gt(MASK_CUTOFF), y_train.squeeze())"
   ]
  },
  {
   "cell_type": "code",
   "execution_count": null,
   "metadata": {
    "colab": {},
    "colab_type": "code",
    "id": "Tqf2DKD2CCjg"
   },
   "outputs": [],
   "source": [
    "for i in range(10):\n",
    "    rand_id = np.random.choice(X_train_id_batch)\n",
    "    print(f'Image ID: {rand_id}')\n",
    "    img = X_train[rand_id]/255\n",
    "    mask = y_train[rand_id]\n",
    "    mask_pred = y_train_pred.ge(MASK_CUTOFF)[rand_id]\n",
    "    plot_img_mask_pred([img, mask, mask_pred], range(3), img_per_line=3)"
   ]
  },
  {
   "cell_type": "markdown",
   "metadata": {
    "colab_type": "text",
    "id": "ZkzyRPIMDrAz"
   },
   "source": [
    "## Make predictions on test set using TTA"
   ]
  },
  {
   "cell_type": "code",
   "execution_count": null,
   "metadata": {
    "colab": {},
    "colab_type": "code",
    "id": "x38qXbAkmFSH"
   },
   "outputs": [],
   "source": [
    "import numpy as np"
   ]
  },
  {
   "cell_type": "markdown",
   "metadata": {
    "colab_type": "text",
    "id": "AfLrLArrEK5m"
   },
   "source": [
    "### Predict using original image"
   ]
  },
  {
   "cell_type": "code",
   "execution_count": null,
   "metadata": {
    "colab": {},
    "colab_type": "code",
    "id": "bUDZxfzlD_Os"
   },
   "outputs": [],
   "source": [
    "test_dataLoader = DataLoader(SaltDataset(X_test, np.zeros_like(X_test), depth_test, X_train_mean_img, out_size=128), batch_size=32)"
   ]
  },
  {
   "cell_type": "code",
   "execution_count": null,
   "metadata": {
    "colab": {},
    "colab_type": "code",
    "id": "cqKBooA3EC4b"
   },
   "outputs": [],
   "source": [
    "y_test_pred_raw = []\n",
    "with torch.no_grad():\n",
    "    for X_test_batch, y_test_batch, depth_test_batch, X_test_id_batch in test_dataLoader:\n",
    "        y_test_pred_raw.append(loaded_model(X_test_batch))\n",
    "y_test_pred = torch.cat(y_test_pred_raw)"
   ]
  },
  {
   "cell_type": "markdown",
   "metadata": {
    "colab_type": "text",
    "id": "e7BiVrQKEFrk"
   },
   "source": [
    "### Predict using flipped images"
   ]
  },
  {
   "cell_type": "code",
   "execution_count": null,
   "metadata": {
    "colab": {},
    "colab_type": "code",
    "id": "KjPkHzKBmz7s"
   },
   "outputs": [],
   "source": [
    "p = Pipeline_Salt()\n",
    "p.flip_left_right(probability=1)\n",
    "test_dataLoader = DataLoader(SaltDataset(X_test, np.zeros_like(X_test), depth_test, X_train_mean_img, out_size=128, out_ch=1,\n",
    "                           transform=p.torch_transform()), batch_size=32)\n",
    "y_test_pred_flip = []\n",
    "\n",
    "with torch.no_grad():\n",
    "    for X_test_batch, y_test_batch, depth_test_batch, X_test_id_batch in test_dataLoader:\n",
    "        y_test_pred_flip.append(loaded_model(X_test_batch))\n",
    "y_test_pred_flip = torch.cat(y_test_pred_flip)\n",
    "y_test_pred_flip = torch.flip(y_test_pred_flip,[2])"
   ]
  },
  {
   "cell_type": "markdown",
   "metadata": {
    "colab_type": "text",
    "id": "U9t1Z0kiEQkG"
   },
   "source": [
    "### Combine non-flip and flip predictions"
   ]
  },
  {
   "cell_type": "code",
   "execution_count": null,
   "metadata": {
    "colab": {},
    "colab_type": "code",
    "id": "_zUtOPXwmz7y"
   },
   "outputs": [],
   "source": [
    "y_test_pred = torch.where(y_test_pred.abs() > y_test_pred_flip.abs(), y_test_pred, y_test_pred_flip)"
   ]
  },
  {
   "cell_type": "markdown",
   "metadata": {
    "colab_type": "text",
    "id": "bzkEuhBwEXBl"
   },
   "source": [
    "### Adjust predictions"
   ]
  },
  {
   "cell_type": "code",
   "execution_count": null,
   "metadata": {
    "colab": {},
    "colab_type": "code",
    "id": "JaDNBnwsBqF5"
   },
   "outputs": [],
   "source": [
    "MASK_CUTOFF = 0\n",
    "ZERO_MASK_CUTOFF = 0"
   ]
  },
  {
   "cell_type": "code",
   "execution_count": null,
   "metadata": {
    "colab": {},
    "colab_type": "code",
    "id": "89y4w6drFKSl"
   },
   "outputs": [],
   "source": [
    "print(f'MASK_CUTOFF:{MASK_CUTOFF}, ZERO_MASK_CUTOFF:{ZERO_MASK_CUTOFF}')"
   ]
  },
  {
   "cell_type": "code",
   "execution_count": null,
   "metadata": {
    "colab": {},
    "colab_type": "code",
    "id": "kSe7dmyMqnPF"
   },
   "outputs": [],
   "source": [
    "y_test_pred_adj = adjust_predictions(ZERO_MASK_CUTOFF, X_test, y_test_pred.gt(MASK_CUTOFF))\n"
   ]
  },
  {
   "cell_type": "markdown",
   "metadata": {
    "colab_type": "text",
    "id": "pd9DjVswEwUD"
   },
   "source": [
    "### Show segmentation masks for a few images"
   ]
  },
  {
   "cell_type": "code",
   "execution_count": null,
   "metadata": {
    "colab": {},
    "colab_type": "code",
    "id": "c9j_HYo6ExVL"
   },
   "outputs": [],
   "source": [
    "for i in range(10):\n",
    "    rand_id = np.random.choice(X_test_id_batch)\n",
    "    print(f'Image ID: {rand_id}')\n",
    "    img = X_test[rand_id]/255\n",
    "    mask_pred = y_test_pred.ge(0.5)[rand_id]\n",
    "    plot_img_mask_pred([img, mask_pred], range(2))"
   ]
  },
  {
   "cell_type": "markdown",
   "metadata": {
    "colab_type": "text",
    "id": "Bmi3NISwEaOt"
   },
   "source": [
    "### Prepare for submission"
   ]
  },
  {
   "cell_type": "code",
   "execution_count": null,
   "metadata": {
    "colab": {},
    "colab_type": "code",
    "id": "fATv5NS6hnkU"
   },
   "outputs": [],
   "source": [
    "y_test_pred_rle = rle_encoder3d(y_test_pred_adj)"
   ]
  },
  {
   "cell_type": "code",
   "execution_count": null,
   "metadata": {
    "colab": {},
    "colab_type": "code",
    "id": "BBNylCIDhnkX"
   },
   "outputs": [],
   "source": [
    "y_test_pred_adj.shape"
   ]
  },
  {
   "cell_type": "code",
   "execution_count": null,
   "metadata": {
    "colab": {},
    "colab_type": "code",
    "id": "hwSpGmvthnkd"
   },
   "outputs": [],
   "source": [
    "df_test_rle = pd.DataFrame(index=misc_data['np_test_ids'], data=y_test_pred_rle).reset_index()"
   ]
  },
  {
   "cell_type": "code",
   "execution_count": null,
   "metadata": {
    "colab": {},
    "colab_type": "code",
    "id": "r3bS6FoNhnki"
   },
   "outputs": [],
   "source": [
    "df_test_rle.columns = ['id', 'rle_mask']"
   ]
  },
  {
   "cell_type": "code",
   "execution_count": null,
   "metadata": {
    "colab": {},
    "colab_type": "code",
    "id": "JRDcCLpohnkn"
   },
   "outputs": [],
   "source": [
    "df_test_rle[df_test_rle.rle_mask==''].shape"
   ]
  },
  {
   "cell_type": "code",
   "execution_count": null,
   "metadata": {
    "colab": {},
    "colab_type": "code",
    "id": "vkOmz86lhnkw"
   },
   "outputs": [],
   "source": [
    "df_test_rle.shape"
   ]
  },
  {
   "cell_type": "code",
   "execution_count": null,
   "metadata": {
    "colab": {},
    "colab_type": "code",
    "id": "xr_NOtxBhnky"
   },
   "outputs": [],
   "source": [
    "df_test_rle.to_csv(f'submission_{get_current_time_as_fname()}.csv', index=False)"
   ]
  },
  {
   "cell_type": "code",
   "execution_count": null,
   "metadata": {
    "colab": {},
    "colab_type": "code",
    "id": "n__2CiMjhnk2"
   },
   "outputs": [],
   "source": [
    "ls"
   ]
  },
  {
   "cell_type": "code",
   "execution_count": null,
   "metadata": {
    "colab": {},
    "colab_type": "code",
    "id": "fCv-diichnk4"
   },
   "outputs": [],
   "source": [
    "from google.colab import files\n"
   ]
  },
  {
   "cell_type": "code",
   "execution_count": null,
   "metadata": {
    "colab": {},
    "colab_type": "code",
    "id": "NgzFDdcShnlA"
   },
   "outputs": [],
   "source": [
    "files.download('submission_2018_09_21_13_11_16.csv') "
   ]
  },
  {
   "cell_type": "code",
   "execution_count": null,
   "metadata": {
    "colab": {},
    "colab_type": "code",
    "id": "1D61fkPaiUR4"
   },
   "outputs": [],
   "source": []
  }
 ],
 "metadata": {
  "accelerator": "GPU",
  "colab": {
   "name": "salt_model_data_loader_V3.ipynb",
   "provenance": [],
   "version": "0.3.2"
  },
  "kernelspec": {
   "display_name": "Python 3",
   "language": "python",
   "name": "python3"
  },
  "language_info": {
   "codemirror_mode": {
    "name": "ipython",
    "version": 3
   },
   "file_extension": ".py",
   "mimetype": "text/x-python",
   "name": "python",
   "nbconvert_exporter": "python",
   "pygments_lexer": "ipython3",
   "version": "3.6.4"
  }
 },
 "nbformat": 4,
 "nbformat_minor": 2
}
