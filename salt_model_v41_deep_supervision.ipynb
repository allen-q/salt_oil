{
 "cells": [
  {
   "cell_type": "markdown",
   "metadata": {
    "colab_type": "text",
    "id": "IUnFr6MO3Kk3"
   },
   "source": [
    "# Changes:\n",
    "1. Based on V37\n",
    "2. Refactored data augmentor. Re-implement the rotate function to preserve positive mask area.\n",
    "3. Changed optimizer to adam"
   ]
  },
  {
   "cell_type": "markdown",
   "metadata": {
    "colab_type": "text",
    "id": "xaO5fG0VW5gB"
   },
   "source": [
    "## Install required packages if running on google colab"
   ]
  },
  {
   "cell_type": "code",
   "execution_count": 1,
   "metadata": {
    "colab": {},
    "colab_type": "code",
    "id": "8n6EgF7sW5gC"
   },
   "outputs": [],
   "source": [
    "try:\n",
    "    import torch\n",
    "except:\n",
    "    !pip install torch torchvision\n",
    "    !pip install imageio\n",
    "    !pip install Augmentor\n",
    "    !git clone https://github.com/allen-q/salt_oil.git\n",
    "    !git clone https://github.com/allen-q/salt_net.git"
   ]
  },
  {
   "cell_type": "code",
   "execution_count": 2,
   "metadata": {
    "colab": {},
    "colab_type": "code",
    "id": "p3h4PngQ0s86"
   },
   "outputs": [
    {
     "name": "stdout",
     "output_type": "stream",
     "text": [
      "[WinError 2] The system cannot find the file specified: 'salt_oil'\n",
      "C:\\work\\code\\repos\\salt_oil\n"
     ]
    }
   ],
   "source": [
    "cd salt_oil"
   ]
  },
  {
   "cell_type": "markdown",
   "metadata": {
    "colab_type": "text",
    "id": "UVnBJygnW5gK"
   },
   "source": [
    "## Import required libs"
   ]
  },
  {
   "cell_type": "code",
   "execution_count": 3,
   "metadata": {
    "colab": {},
    "colab_type": "code",
    "id": "x1VSamfH3Kk6"
   },
   "outputs": [],
   "source": [
    "import zipfile\n",
    "import torch\n",
    "import torchvision\n",
    "import torch.nn as nn\n",
    "import torch.nn.functional as F\n",
    "from torch.utils import data\n",
    "from torch.utils.data import Dataset, DataLoader\n",
    "from torchvision import transforms, utils\n",
    "from skimage import io, transform\n",
    "from sklearn.model_selection import train_test_split\n",
    "import numpy as np\n",
    "import pandas as pd\n",
    "import matplotlib.pyplot as ply\n",
    "import os\n",
    "import imageio\n",
    "from PIL import Image\n",
    "import glob\n",
    "import matplotlib.pyplot as plt\n",
    "import time\n",
    "import math\n",
    "import datetime as dt\n",
    "import pytz\n",
    "import pickle\n",
    "from salt_func_lib import *\n",
    "from torchvision import transforms, utils\n",
    "from skimage import io, transform\n",
    "import datetime as dt\n",
    "import sys\n",
    "from optparse import OptionParser\n",
    "import torch.backends.cudnn as cudnn\n",
    "from torch import optim\n",
    "from torch.optim import lr_scheduler\n",
    "import copy\n",
    "from io import BytesIO\n",
    "import random\n",
    "import PIL\n",
    "import cv2 as cv\n",
    "% matplotlib inline\n",
    "% load_ext autoreload\n",
    "% autoreload 2"
   ]
  },
  {
   "cell_type": "markdown",
   "metadata": {
    "colab_type": "text",
    "id": "I87qLhAOW5gO"
   },
   "source": [
    "## Load Unet Modules"
   ]
  },
  {
   "cell_type": "code",
   "execution_count": 4,
   "metadata": {
    "colab": {},
    "colab_type": "code",
    "id": "eC32auGDqVZi"
   },
   "outputs": [],
   "source": [
    "from pytorch_unet.eval import eval_net\n",
    "from pytorch_unet.unet import UNet\n",
    "from pytorch_unet.unet.unet_parts import *\n",
    "from pytorch_unet.unet.resnet_deep_sup_v11 import *\n",
    "from pytorch_unet.utils import get_ids, split_ids, split_train_val, get_imgs_and_masks, batch"
   ]
  },
  {
   "cell_type": "code",
   "execution_count": 5,
   "metadata": {
    "colab": {},
    "colab_type": "code",
    "id": "6O8Wz9H_iTDE"
   },
   "outputs": [],
   "source": [
    "## Setup data type based on whether GPU is enabled"
   ]
  },
  {
   "cell_type": "code",
   "execution_count": 6,
   "metadata": {
    "colab": {},
    "colab_type": "code",
    "id": "QKYhIfCtEk6C"
   },
   "outputs": [
    {
     "name": "stdout",
     "output_type": "stream",
     "text": [
      "Data Type set to: <class 'torch.FloatTensor'>\n"
     ]
    }
   ],
   "source": [
    "if torch.cuda.is_available():\n",
    "    dtype = torch.cuda.FloatTensor ## UNCOMMENT THIS LINE IF YOU'RE ON A GPU!\n",
    "else:    \n",
    "    dtype = torch.FloatTensor\n",
    "print(f'Data Type set to: {dtype}')"
   ]
  },
  {
   "cell_type": "code",
   "execution_count": 7,
   "metadata": {
    "colab": {},
    "colab_type": "code",
    "id": "lRawI4_RdLLk"
   },
   "outputs": [],
   "source": [
    "def setup_train(config_list):\n",
    "    for conf in config_list:\n",
    "        log.info(conf)\n",
    "    for conf in config_list:\n",
    "        exec(conf)"
   ]
  },
  {
   "cell_type": "markdown",
   "metadata": {
    "colab_type": "text",
    "id": "30EV6nbKbtyV"
   },
   "source": [
    "## Create Logger"
   ]
  },
  {
   "cell_type": "code",
   "execution_count": 8,
   "metadata": {
    "colab": {},
    "colab_type": "code",
    "id": "s5JTwFPaaZB1"
   },
   "outputs": [],
   "source": [
    "global log\n",
    "log = get_logger('salt_model_v37.4_high_lovasz_loss')"
   ]
  },
  {
   "cell_type": "markdown",
   "metadata": {
    "colab_type": "text",
    "id": "aEXPdEFd3KmA"
   },
   "source": [
    "## Prepare Data"
   ]
  },
  {
   "cell_type": "markdown",
   "metadata": {
    "colab_type": "text",
    "id": "53yVOPsQ3KmB"
   },
   "source": [
    "### Load train and test data from npy files or from raw images if npy files not exist."
   ]
  },
  {
   "cell_type": "code",
   "execution_count": 9,
   "metadata": {
    "colab": {},
    "colab_type": "code",
    "id": "wO1kf6HW3KmC"
   },
   "outputs": [
    {
     "name": "stdout",
     "output_type": "stream",
     "text": [
      "Try loading data from npy and pickle files...\n",
      "Data loaded.\n"
     ]
    }
   ],
   "source": [
    "np_train_all, np_train_all_mask, X_test, misc_data = load_all_data()"
   ]
  },
  {
   "cell_type": "code",
   "execution_count": 10,
   "metadata": {
    "colab": {},
    "colab_type": "code",
    "id": "QD27mlbPRE8q"
   },
   "outputs": [
    {
     "data": {
      "text/plain": [
       "\"p = Pipeline_Salt()\\np.random_brightness(1,0.8,1.2)\\np.random_contrast(1,0.8,1.2)\\np.rotate_random_align(probability=1)\\nimg = np.c_[np.tile(X_train[840], 2), y_train[840]]\\nimg_in = PIL.Image.fromarray(img)\\ntsfm = p.torch_transform()\\nimg_out = tsfm(img_in)\\nplt.imshow(np.array(img_in)[:,:,0], cmap='gray')\\nplt.imshow(np.array(img_out)[:,:,0], cmap='gray')\""
      ]
     },
     "execution_count": 10,
     "metadata": {},
     "output_type": "execute_result"
    }
   ],
   "source": [
    "'''p = Pipeline_Salt()\n",
    "p.random_brightness(1,0.8,1.2)\n",
    "p.random_contrast(1,0.8,1.2)\n",
    "p.rotate_random_align(probability=1)\n",
    "img = np.c_[np.tile(X_train[840], 2), y_train[840]]\n",
    "img_in = PIL.Image.fromarray(img)\n",
    "tsfm = p.torch_transform()\n",
    "img_out = tsfm(img_in)\n",
    "plt.imshow(np.array(img_in)[:,:,0], cmap='gray')\n",
    "plt.imshow(np.array(img_out)[:,:,0], cmap='gray')'''"
   ]
  },
  {
   "cell_type": "markdown",
   "metadata": {
    "colab_type": "text",
    "id": "DNIS7zT23KmI"
   },
   "source": [
    "### Train Val data split"
   ]
  },
  {
   "cell_type": "code",
   "execution_count": 11,
   "metadata": {
    "colab": {},
    "colab_type": "code",
    "id": "2L51fSDkpyNV"
   },
   "outputs": [],
   "source": [
    "df_train_mask = pd.DataFrame((np_train_all_mask/255).sum((1,2,3)), columns=['mask_pix'])\n",
    "df_train_mask.mask_pix = df_train_mask.mask_pix.round(-2)\n",
    "\n",
    "X_train_ids, X_val_ids = (\n",
    "    train_test_split(df_train_mask.index.tolist(), \n",
    "                     test_size=0.20,\n",
    "                     stratify = df_train_mask.mask_pix,\n",
    "                     random_state=0)\n",
    ")\n",
    "\n",
    "X_train = np_train_all[X_train_ids]\n",
    "X_val = np_train_all[X_val_ids]\n",
    "y_train = np_train_all_mask[X_train_ids]\n",
    "y_val = np_train_all_mask[X_val_ids]\n",
    "depth_train = (\n",
    "    misc_data['df_train_all_depth']\n",
    "    .reindex(np.array(misc_data['np_train_all_ids'])[X_train_ids])\n",
    ")\n",
    "depth_val = (\n",
    "    misc_data['df_train_all_depth']\n",
    "    .reindex(np.array(misc_data['np_train_all_ids'])[X_val_ids])\n",
    ")\n",
    "depth_test = (\n",
    "    misc_data['df_train_all_depth']\n",
    "    .reindex(np.array(misc_data['np_test_ids']))\n",
    ")\n",
    "#X_train_mean_img = X_train.mean(0).astype(np.float32)\n",
    "#X_train_mean_img = X_train.mean((0,1,2)).astype(np.float32)\n",
    "X_train_mean_img = np.clip(np_train_all/255, 0, 1).mean((0,1,2)).astype(np.float32)\n",
    "#set mean image to 0 as mean is now being handled within the model.\n",
    "X_train_mean_img = np.zeros_like(X_train_mean_img)\n",
    "\n",
    "all_data = {\n",
    "    'X_train': X_train,\n",
    "    'X_val': X_val,\n",
    "    'y_train': y_train,\n",
    "    'y_val': y_val,\n",
    "    'X_test': X_test,\n",
    "    'X_train_mean_img': X_train_mean_img\n",
    "}\n",
    "\n",
    "assert X_train_mean_img == np.array([0.])\n",
    "assert X_train.shape == (3200, 101, 101, 1)\n",
    "assert y_train.shape == (3200, 101, 101, 1)\n",
    "assert depth_train.shape == (3200, 1)"
   ]
  },
  {
   "cell_type": "code",
   "execution_count": 12,
   "metadata": {},
   "outputs": [],
   "source": [
    "p = Pipeline_Salt()\n",
    "p.flip_left_right(probability=0.5)\n",
    "p.random_brightness(probability=0.5, min_factor=0.8, max_factor=1.2)\n",
    "p.random_contrast(probability=0.5, min_factor=0.8, max_factor=1.2)\n",
    "p.rotate_random_align(probability=0.5)\n",
    "p.crop_random_align(probability=0.5, min_factor=0.8, max_factor=1.0, mask_diff_pct=0.2)"
   ]
  },
  {
   "cell_type": "code",
   "execution_count": 13,
   "metadata": {},
   "outputs": [],
   "source": [
    "train_data_params = {'batch_size': 2, 'shuffle': True,}\n",
    "val_data_params = {'batch_size': 2, 'shuffle': True,}\n",
    "train_dataLoader = (\n",
    "    DataLoader(SaltDataset(X_train[:16], y_train[:16], depth_train[:16],\n",
    "                           np.zeros_like(X_train_mean_img), out_size=128,  out_ch=1,\n",
    "                           transform=p.torch_transform()), **train_data_params)\n",
    ")\n",
    "\n",
    "val_dataLoader = (\n",
    "    DataLoader(SaltDataset(X_val[:8], y_val[:8], depth_val[:8], \n",
    "                           np.zeros_like(X_train_mean_img), out_size=128, out_ch=1), **val_data_params)\n",
    ")\n",
    "\n",
    "dataloaders = {'train': train_dataLoader, 'val':val_dataLoader}"
   ]
  },
  {
   "cell_type": "code",
   "execution_count": null,
   "metadata": {},
   "outputs": [],
   "source": []
  },
  {
   "cell_type": "code",
   "execution_count": 14,
   "metadata": {
    "colab": {},
    "colab_type": "code",
    "id": "r2hyd9ryGROf"
   },
   "outputs": [],
   "source": [
    "t = iter(train_dataLoader).__next__()"
   ]
  },
  {
   "cell_type": "code",
   "execution_count": 15,
   "metadata": {
    "colab": {},
    "colab_type": "code",
    "id": "v34uY0GkGROl"
   },
   "outputs": [],
   "source": [
    "X_batch, y_batch, d_batch, X_id = t"
   ]
  },
  {
   "cell_type": "code",
   "execution_count": 16,
   "metadata": {},
   "outputs": [
    {
     "data": {
      "text/plain": [
       "torch.Size([2, 1, 128, 128])"
      ]
     },
     "execution_count": 16,
     "metadata": {},
     "output_type": "execute_result"
    }
   ],
   "source": [
    "X_batch.shape"
   ]
  },
  {
   "cell_type": "code",
   "execution_count": 17,
   "metadata": {},
   "outputs": [
    {
     "data": {
      "text/plain": [
       "torch.Size([2, 101, 101])"
      ]
     },
     "execution_count": 17,
     "metadata": {},
     "output_type": "execute_result"
    }
   ],
   "source": [
    "y_batch.shape"
   ]
  },
  {
   "cell_type": "code",
   "execution_count": 18,
   "metadata": {},
   "outputs": [
    {
     "data": {
      "text/plain": [
       "tensor(0.)"
      ]
     },
     "execution_count": 18,
     "metadata": {},
     "output_type": "execute_result"
    }
   ],
   "source": [
    "y_batch.repeat(5,1,1).view(2,5,101,101)[:,0,:,:].sum()"
   ]
  },
  {
   "cell_type": "code",
   "execution_count": 19,
   "metadata": {},
   "outputs": [
    {
     "data": {
      "text/plain": [
       "tensor(0.)"
      ]
     },
     "execution_count": 19,
     "metadata": {},
     "output_type": "execute_result"
    }
   ],
   "source": [
    "y_batch.repeat(5,1,1).view(2,5,101,101)[:,1,:,:].sum()"
   ]
  },
  {
   "cell_type": "code",
   "execution_count": 20,
   "metadata": {},
   "outputs": [
    {
     "data": {
      "text/plain": [
       "tensor(0.)"
      ]
     },
     "execution_count": 20,
     "metadata": {},
     "output_type": "execute_result"
    }
   ],
   "source": [
    "y_batch.repeat(5,1,1).view(2,5,101,101)[:,2,:,:].sum()"
   ]
  },
  {
   "cell_type": "code",
   "execution_count": 21,
   "metadata": {},
   "outputs": [
    {
     "data": {
      "text/plain": [
       "2"
      ]
     },
     "execution_count": 21,
     "metadata": {},
     "output_type": "execute_result"
    }
   ],
   "source": [
    "len(y_batch)"
   ]
  },
  {
   "cell_type": "code",
   "execution_count": null,
   "metadata": {},
   "outputs": [],
   "source": []
  },
  {
   "cell_type": "code",
   "execution_count": 22,
   "metadata": {},
   "outputs": [
    {
     "data": {
      "text/plain": [
       "torch.Size([5, 2, 101, 101])"
      ]
     },
     "execution_count": 22,
     "metadata": {},
     "output_type": "execute_result"
    }
   ],
   "source": [
    "torch.stack([y_batch]*5).shape"
   ]
  },
  {
   "cell_type": "markdown",
   "metadata": {
    "colab_type": "text",
    "id": "dasEpZc0QmOt"
   },
   "source": [
    "## Train the model using a small data set to see if it can overfit"
   ]
  },
  {
   "cell_type": "code",
   "execution_count": 23,
   "metadata": {
    "colab": {},
    "colab_type": "code",
    "id": "i06Rq5WxRE8y"
   },
   "outputs": [],
   "source": [
    "aug_pipeline_config = '''\n",
    "p = Pipeline_Salt()\n",
    "p.flip_left_right(probability=0.5)\n",
    "p.random_brightness(probability=0.5, min_factor=0.8, max_factor=1.2)\n",
    "p.random_contrast(probability=0.5, min_factor=0.8, max_factor=1.2)\n",
    "p.rotate_random_align(probability=0.5)\n",
    "p.crop_random_align(probability=0.5, min_factor=0.8, max_factor=1.0, mask_diff_pct=0.2)\n",
    "'''"
   ]
  },
  {
   "cell_type": "code",
   "execution_count": 24,
   "metadata": {
    "colab": {},
    "colab_type": "code",
    "id": "EOakYP-HaZCN"
   },
   "outputs": [],
   "source": [
    "data_loader_config = '''\n",
    "train_data_params = {'batch_size': 2, 'shuffle': True,}\n",
    "val_data_params = {'batch_size': 2, 'shuffle': True,}\n",
    "train_dataLoader = (\n",
    "    DataLoader(SaltDataset(X_train[:16], y_train[:16], depth_train[:16],\n",
    "                           np.zeros_like(X_train_mean_img), out_size=128,  out_ch=1,\n",
    "                           transform=p.torch_transform()), **train_data_params)\n",
    ")\n",
    "\n",
    "val_dataLoader = (\n",
    "    DataLoader(SaltDataset(X_val[:8], y_val[:8], depth_val[:8], \n",
    "                           np.zeros_like(X_train_mean_img), out_size=128, out_ch=1), **val_data_params)\n",
    ")\n",
    "\n",
    "dataloaders = {'train': train_dataLoader, 'val':val_dataLoader}\n",
    "\n",
    "'''"
   ]
  },
  {
   "cell_type": "code",
   "execution_count": 25,
   "metadata": {
    "colab": {},
    "colab_type": "code",
    "id": "_gzDNlNTaZCa"
   },
   "outputs": [],
   "source": [
    "model_config = '''\n",
    "saltnet = UResNet(pretrained=False)\n",
    "\n",
    "#loss_focal = FocalLoss(0.25, 2, logits=True)\n",
    "loss_lovasz_hinge = TripleLovaszLoss(1, 0.05, 0.1)\n",
    "loss_fn_bce = TripleBCELoss(1, 0.05, 0.1)\n",
    "\n",
    "optimizer = optim.Adam(saltnet.parameters(), lr=0.001)\n",
    "\n",
    "scheduler = PolyLR(optimizer, [1e-3], lr_decay_iter=1, max_iter=150, power=0.9)\n",
    "model_save_name = None\n",
    "'''"
   ]
  },
  {
   "cell_type": "code",
   "execution_count": 26,
   "metadata": {
    "colab": {},
    "colab_type": "code",
    "id": "4azPo_ryaZCf"
   },
   "outputs": [],
   "source": [
    "train_params_config = '''\n",
    "train_params = {\n",
    "    'model_save_name': None,\n",
    "    'save_model_every': 10000,\n",
    "    'save_log_every': 100,\n",
    "    'num_epochs': 10,\n",
    "    'print_every': 2,\n",
    "    'log': log,\n",
    "    'mask_cutoff': 0,\n",
    "    'model_save_iou_threshold': 0.1\n",
    "    }\n",
    "'''"
   ]
  },
  {
   "cell_type": "code",
   "execution_count": 27,
   "metadata": {
    "colab": {},
    "colab_type": "code",
    "id": "4xhF5_R0aZCk"
   },
   "outputs": [],
   "source": [
    "model_run_config = '''\n",
    "model = train_model_ds(saltnet, dataloaders, (loss_fn_bce, loss_lovasz_hinge), (1, 0.5), optimizer, scheduler, train_params, all_data)\n",
    "'''"
   ]
  },
  {
   "cell_type": "code",
   "execution_count": 28,
   "metadata": {
    "colab": {},
    "colab_type": "code",
    "id": "sO7XLEJgaZCq"
   },
   "outputs": [],
   "source": [
    "config_list = [aug_pipeline_config, data_loader_config, model_config, train_params_config, model_run_config]"
   ]
  },
  {
   "cell_type": "code",
   "execution_count": null,
   "metadata": {
    "colab": {},
    "colab_type": "code",
    "id": "pE7Q6dd3xPBR"
   },
   "outputs": [
    {
     "name": "stderr",
     "output_type": "stream",
     "text": [
      "16/10/2018 22:35:52 - salt_model_v37.4_high_lovasz_loss - INFO - \n",
      "p = Pipeline_Salt()\n",
      "p.flip_left_right(probability=0.5)\n",
      "p.random_brightness(probability=0.5, min_factor=0.8, max_factor=1.2)\n",
      "p.random_contrast(probability=0.5, min_factor=0.8, max_factor=1.2)\n",
      "p.rotate_random_align(probability=0.5)\n",
      "p.crop_random_align(probability=0.5, min_factor=0.8, max_factor=1.0, mask_diff_pct=0.2)\n",
      "\n",
      "16/10/2018 22:35:52 - salt_model_v37.4_high_lovasz_loss - INFO - \n",
      "train_data_params = {'batch_size': 2, 'shuffle': True,}\n",
      "val_data_params = {'batch_size': 2, 'shuffle': True,}\n",
      "train_dataLoader = (\n",
      "    DataLoader(SaltDataset(X_train[:16], y_train[:16], depth_train[:16],\n",
      "                           np.zeros_like(X_train_mean_img), out_size=128,  out_ch=1,\n",
      "                           transform=p.torch_transform()), **train_data_params)\n",
      ")\n",
      "\n",
      "val_dataLoader = (\n",
      "    DataLoader(SaltDataset(X_val[:8], y_val[:8], depth_val[:8], \n",
      "                           np.zeros_like(X_train_mean_img), out_size=128, out_ch=1), **val_data_params)\n",
      ")\n",
      "\n",
      "dataloaders = {'train': train_dataLoader, 'val':val_dataLoader}\n",
      "\n",
      "\n",
      "16/10/2018 22:35:52 - salt_model_v37.4_high_lovasz_loss - INFO - \n",
      "saltnet = UResNet(pretrained=False)\n",
      "\n",
      "#loss_focal = FocalLoss(0.25, 2, logits=True)\n",
      "loss_lovasz_hinge = TripleLovaszLoss(1, 0.05, 0.1)\n",
      "loss_fn_bce = TripleBCELoss(1, 0.05, 0.1)\n",
      "\n",
      "optimizer = optim.Adam(saltnet.parameters(), lr=0.001)\n",
      "\n",
      "scheduler = PolyLR(optimizer, [1e-3], lr_decay_iter=1, max_iter=150, power=0.9)\n",
      "model_save_name = None\n",
      "\n",
      "16/10/2018 22:35:52 - salt_model_v37.4_high_lovasz_loss - INFO - \n",
      "train_params = {\n",
      "    'model_save_name': None,\n",
      "    'save_model_every': 10000,\n",
      "    'save_log_every': 100,\n",
      "    'num_epochs': 10,\n",
      "    'print_every': 2,\n",
      "    'log': log,\n",
      "    'mask_cutoff': 0,\n",
      "    'model_save_iou_threshold': 0.1\n",
      "    }\n",
      "\n",
      "16/10/2018 22:35:52 - salt_model_v37.4_high_lovasz_loss - INFO - \n",
      "model = train_model_ds(saltnet, dataloaders, (loss_fn_bce, loss_lovasz_hinge), (1, 0.5), optimizer, scheduler, train_params, all_data)\n",
      "\n"
     ]
    },
    {
     "name": "stdout",
     "output_type": "stream",
     "text": [
      "ResNetnot using pretrained weights.\n"
     ]
    },
    {
     "name": "stderr",
     "output_type": "stream",
     "text": [
      "16/10/2018 22:35:52 - salt_model_v37.4_high_lovasz_loss - INFO - Start Training...\n",
      "16/10/2018 22:35:52 - salt_model_v37.4_high_lovasz_loss - INFO - ({'train': <torch.utils.data.dataloader.DataLoader object at 0x000001F980022B38>, 'val': <torch.utils.data.dataloader.DataLoader object at 0x000001F980022C50>}, (TripleBCELoss(), TripleLovaszLoss()), (1, 0.5), Adam (\n",
      "Parameter Group 0\n",
      "    amsgrad: False\n",
      "    betas: (0.9, 0.999)\n",
      "    eps: 1e-08\n",
      "    lr: 0.001\n",
      "    weight_decay: 0\n",
      "), <salt_func_lib.PolyLR object at 0x000001F987EE4C18>, {'model_save_name': None, 'save_model_every': 10000, 'save_log_every': 100, 'num_epochs': 10, 'print_every': 2, 'log': <Logger salt_model_v37.4_high_lovasz_loss (DEBUG)>, 'mask_cutoff': 0, 'model_save_iou_threshold': 0.1})\n",
      "16/10/2018 22:35:53 - salt_model_v37.4_high_lovasz_loss - INFO - Epoch 1/10\n",
      "16/10/2018 22:35:53 - salt_model_v37.4_high_lovasz_loss - INFO - --------------------\n",
      "c:\\users\\allen\\anaconda3\\envs\\ds\\lib\\site-packages\\torch\\nn\\functional.py:1890: UserWarning: nn.functional.upsample is deprecated. Use nn.functional.interpolate instead.\n",
      "  warnings.warn(\"nn.functional.upsample is deprecated. Use nn.functional.interpolate instead.\")\n",
      "16/10/2018 22:36:53 - salt_model_v37.4_high_lovasz_loss - INFO - Train IOU: 0.5000, Acc: 0.7356, Loss: [0.6228, 0.8289, 1.4517] at epoch 1\n"
     ]
    },
    {
     "data": {
      "image/png": "[encoded data removed]",
      "text/plain": [
       "<matplotlib.figure.Figure at 0x1f987ee4c88>"
      ]
     },
     "metadata": {},
     "output_type": "display_data"
    },
    {
     "data": {
      "image/png": "[encoded data removed]",
      "text/plain": [
       "<matplotlib.figure.Figure at 0x1f989935828>"
      ]
     },
     "metadata": {},
     "output_type": "display_data"
    },
    {
     "name": "stderr",
     "output_type": "stream",
     "text": [
      "16/10/2018 22:37:08 - salt_model_v37.4_high_lovasz_loss - INFO - Model state is not saved as the out_file_prefix is None\n",
      "16/10/2018 22:37:08 - salt_model_v37.4_high_lovasz_loss - INFO - Best Val Mean IOU so far: 0.125\n",
      "16/10/2018 22:37:08 - salt_model_v37.4_high_lovasz_loss - INFO - Val   IOU: 0.1250, Acc: 0.7205, Best Val IOU: 0.1250 at epoch 1\n",
      "16/10/2018 22:37:08 - salt_model_v37.4_high_lovasz_loss - INFO - LR: [0.000994]\n",
      "16/10/2018 22:37:08 - salt_model_v37.4_high_lovasz_loss - INFO - Epoch 2/10\n",
      "16/10/2018 22:37:08 - salt_model_v37.4_high_lovasz_loss - INFO - --------------------\n",
      "16/10/2018 22:38:10 - salt_model_v37.4_high_lovasz_loss - INFO - Train IOU: 0.5625, Acc: 0.8656, Loss: [0.5812, 0.7325, 1.3138] at epoch 2\n"
     ]
    },
    {
     "data": {
      "image/png": "[encoded data removed]",
      "text/plain": [
       "<matplotlib.figure.Figure at 0x1f989aa2b70>"
      ]
     },
     "metadata": {},
     "output_type": "display_data"
    },
    {
     "data": {
      "image/png": "[encoded data removed]",
      "text/plain": [
       "<matplotlib.figure.Figure at 0x1f989c016a0>"
      ]
     },
     "metadata": {},
     "output_type": "display_data"
    },
    {
     "name": "stderr",
     "output_type": "stream",
     "text": [
      "16/10/2018 22:38:25 - salt_model_v37.4_high_lovasz_loss - INFO - Val   IOU: 0.1250, Acc: 0.7205, Best Val IOU: 0.1250 at epoch 2\n",
      "16/10/2018 22:38:25 - salt_model_v37.4_high_lovasz_loss - INFO - LR: [0.000988]\n",
      "16/10/2018 22:38:25 - salt_model_v37.4_high_lovasz_loss - INFO - Epoch 3/10\n",
      "16/10/2018 22:38:25 - salt_model_v37.4_high_lovasz_loss - INFO - --------------------\n",
      "16/10/2018 22:39:34 - salt_model_v37.4_high_lovasz_loss - INFO - Train IOU: 0.5000, Acc: 0.8614, Loss: [0.5412, 0.6783, 1.2195] at epoch 3\n"
     ]
    },
    {
     "data": {
      "image/png": "[encoded data removed]",
      "text/plain": [
       "<matplotlib.figure.Figure at 0x1f989bd88d0>"
      ]
     },
     "metadata": {},
     "output_type": "display_data"
    }
   ],
   "source": [
    "setup_train(config_list)"
   ]
  },
  {
   "cell_type": "code",
   "execution_count": 29,
   "metadata": {},
   "outputs": [],
   "source": [
    "def train_model_ds(model, dataloaders, loss_fns, loss_fn_weights, optimizer, scheduler, train_params, other_data):\n",
    "    global log\n",
    "    log = train_params['log']\n",
    "    log.info('Start Training...')\n",
    "    log.info((dataloaders, loss_fns, loss_fn_weights, optimizer, scheduler, train_params))\n",
    "    num_epochs = train_params['num_epochs']\n",
    "    start = time.time()\n",
    "    if torch.cuda.is_available():\n",
    "        model.cuda()\n",
    "    best_model = None\n",
    "    best_iou = 0.0\n",
    "    prev_best_iou = train_params['model_save_iou_threshold']\n",
    "    all_losses = []\n",
    "    iter_count = 0\n",
    "\n",
    "    for epoch in range(1, num_epochs+1):\n",
    "        log.info('Epoch {}/{}'.format(epoch, num_epochs))\n",
    "        log.info('-' * 20)\n",
    "        if (epoch % train_params['save_log_every'] == 0):\n",
    "            push_log_to_git()\n",
    "        epoch_losses = []\n",
    "        for phase in ['train', 'val']:\n",
    "            model.train() if phase == 'train' else model.eval()\n",
    "            pred_vs_true_epoch = []\n",
    "            for X_batch, y_batch, d_batch, X_id in dataloaders[phase]:\n",
    "                # zero the parameter gradients\n",
    "                optimizer.zero_grad()\n",
    "                with torch.set_grad_enabled(phase == 'train'):\n",
    "                    y_pred_fuse = model(X_batch)\n",
    "                    y_pred = y_pred_fuse[0]\n",
    "                    pred_vs_true_epoch.append([y_pred, y_batch])\n",
    "                    # backward + optimize only if in training phase\n",
    "                    if phase == 'train':    \n",
    "                        from boxx import g\n",
    "                        g()\n",
    "                        losses = calc_loss(y_pred_fuse, y_batch.float(), loss_fns, loss_fn_weights)\n",
    "                        epoch_losses.append(losses)\n",
    "                        all_losses.append(losses)\n",
    "                        loss = losses[-1]\n",
    "                        loss.backward()\n",
    "                        optimizer.step()\n",
    "                        iter_count += 1\n",
    "            best_iou, best_model = (\n",
    "                    log_epoch_stats(model, optimizer, scheduler, y_pred,\n",
    "                                    y_batch, X_batch, X_id, other_data,\n",
    "                                    pred_vs_true_epoch, train_params,\n",
    "                                    phase, epoch, iter_count, best_iou,\n",
    "                                    all_losses, epoch_losses, best_model)\n",
    "                    )\n",
    "\n",
    "        prev_best_iou = save_model_to_git(epoch, train_params, num_epochs, prev_best_iou, best_iou, best_model)\n",
    "        #from boxx import g\n",
    "        #g()\n",
    "        epoch_avg_loss = np.mean([e[-1].item() for e in epoch_losses])\n",
    "        if isinstance(scheduler, torch.optim.lr_scheduler.ReduceLROnPlateau):\n",
    "            log.info(f'scheduler best: {scheduler.best} num_bad_epochs:{scheduler.num_bad_epochs}')\n",
    "            scheduler.step(epoch_avg_loss)\n",
    "            log.info([p['lr'] for p in optimizer.param_groups])\n",
    "        else:\n",
    "            scheduler.step(epoch)\n",
    "            log.info(f\"LR: {[round(p['lr'],7) for p in optimizer.param_groups]}\")\n",
    "\n",
    "\n",
    "    # load best model weights\n",
    "    model.load_state_dict(best_model[1])\n",
    "    log.info('-' * 20)\n",
    "    log.info(f'Training complete in {(time.time() - start) // 60} mins. Best Val IOU {round(best_iou, 4)}')\n",
    "\n",
    "    return model"
   ]
  },
  {
   "cell_type": "code",
   "execution_count": 30,
   "metadata": {},
   "outputs": [
    {
     "ename": "NameError",
     "evalue": "name 'y_pred_fuse' is not defined",
     "output_type": "error",
     "traceback": [
      "\u001b[1;31m---------------------------------------------------------------------------\u001b[0m",
      "\u001b[1;31mNameError\u001b[0m                                 Traceback (most recent call last)",
      "\u001b[1;32m<ipython-input-30-9d8e1e729988>\u001b[0m in \u001b[0;36m<module>\u001b[1;34m()\u001b[0m\n\u001b[1;32m----> 1\u001b[1;33m \u001b[0my_pred_fuse\u001b[0m\u001b[1;33m.\u001b[0m\u001b[0mshape\u001b[0m\u001b[1;33m\u001b[0m\u001b[0m\n\u001b[0m",
      "\u001b[1;31mNameError\u001b[0m: name 'y_pred_fuse' is not defined"
     ]
    }
   ],
   "source": [
    "y_pred_fuse.shape"
   ]
  },
  {
   "cell_type": "code",
   "execution_count": null,
   "metadata": {},
   "outputs": [],
   "source": [
    "y_batch.shape"
   ]
  },
  {
   "cell_type": "code",
   "execution_count": null,
   "metadata": {},
   "outputs": [],
   "source": [
    "def calc_loss(y_pred, y_batch, loss_fns, loss_fn_weights):\n",
    "     losses = []\n",
    "     for loss_fn, loss_fn_weight in zip(loss_fns, loss_fn_weights):\n",
    "         from boxx import g\n",
    "         g()\n",
    "         loss = loss_fn_weight * loss_fn(y_pred, y_batch)\n",
    "         print(f'loss_fn: {loss_fn}, loss:{loss}')\n",
    "         losses.append(loss)\n",
    "\n",
    "     return torch.stack(losses + [torch.stack(losses).sum()])"
   ]
  },
  {
   "cell_type": "code",
   "execution_count": null,
   "metadata": {},
   "outputs": [],
   "source": [
    "class TripleBCELoss(nn.Module):\n",
    "    def __init__(self, pix_w, img_w, dec_w):\n",
    "        super(TripleBCELoss, self).__init__()\n",
    "        self.pix_w = pix_w\n",
    "        self.img_w = img_w\n",
    "        self.dec_w = dec_w\n",
    "\n",
    "    def forward(self, inputs, targets):\n",
    "        B,W,H = targets.shape\n",
    "        pix, img, dec = inputs\n",
    "        dec_layers = dec.shape[1]\n",
    "        pix_target = targets\n",
    "        img_target = targets.view(B,-1).mean(1)\n",
    "        dec_target = targets.repeat(dec_layers,1,1).reshape(B,dec_layers,W,H)\n",
    "        dec = dec[img_target.gt(0)]\n",
    "        dec_target = dec_target[img_target.gt(0)]\n",
    "        \n",
    "        pix_loss = F.binary_cross_entropy_with_logits(pix, pix_target, reduction='elementwise_mean')\n",
    "        img_loss = F.binary_cross_entropy_with_logits(img, img_target, reduction='elementwise_mean')\n",
    "        dec_loss = F.binary_cross_entropy_with_logits(dec, dec_target, reduction='elementwise_mean')\n",
    "\n",
    "        loss = pix_loss*self.pix_w + img_loss*self.img_w + dec_loss*self.dec_w\n",
    "        \n",
    "        from boxx import g\n",
    "        g()\n",
    "        #assert 1==0\n",
    "        return loss"
   ]
  },
  {
   "cell_type": "code",
   "execution_count": 59,
   "metadata": {},
   "outputs": [
    {
     "data": {
      "text/plain": [
       "tensor(0.6856, grad_fn=<MeanBackward1>)"
      ]
     },
     "execution_count": 59,
     "metadata": {},
     "output_type": "execute_result"
    }
   ],
   "source": [
    "pix_loss"
   ]
  },
  {
   "cell_type": "code",
   "execution_count": 61,
   "metadata": {},
   "outputs": [
    {
     "data": {
      "text/plain": [
       "tensor(0.6291, grad_fn=<MeanBackward1>)"
      ]
     },
     "execution_count": 61,
     "metadata": {},
     "output_type": "execute_result"
    }
   ],
   "source": [
    "img_loss"
   ]
  },
  {
   "cell_type": "code",
   "execution_count": 62,
   "metadata": {},
   "outputs": [
    {
     "data": {
      "text/plain": [
       "tensor(0.6880, grad_fn=<MeanBackward1>)"
      ]
     },
     "execution_count": 62,
     "metadata": {},
     "output_type": "execute_result"
    }
   ],
   "source": [
    "dec_loss"
   ]
  },
  {
   "cell_type": "code",
   "execution_count": 63,
   "metadata": {},
   "outputs": [
    {
     "data": {
      "text/plain": [
       "tensor(0.7859, grad_fn=<ThAddBackward>)"
      ]
     },
     "execution_count": 63,
     "metadata": {},
     "output_type": "execute_result"
    }
   ],
   "source": [
    "loss"
   ]
  },
  {
   "cell_type": "code",
   "execution_count": 45,
   "metadata": {},
   "outputs": [],
   "source": [
    "tbce_loss = TripleBCELoss(1, 0.05, 0.1)"
   ]
  },
  {
   "cell_type": "code",
   "execution_count": null,
   "metadata": {},
   "outputs": [],
   "source": [
    "tbce_loss()"
   ]
  },
  {
   "cell_type": "code",
   "execution_count": 48,
   "metadata": {},
   "outputs": [
    {
     "data": {
      "text/plain": [
       "torch.Size([2, 101, 101])"
      ]
     },
     "execution_count": 48,
     "metadata": {},
     "output_type": "execute_result"
    }
   ],
   "source": [
    "y_batch.shape"
   ]
  },
  {
   "cell_type": "code",
   "execution_count": 49,
   "metadata": {},
   "outputs": [
    {
     "data": {
      "text/plain": [
       "torch.Size([2, 101, 101])"
      ]
     },
     "execution_count": 49,
     "metadata": {},
     "output_type": "execute_result"
    }
   ],
   "source": [
    "y_pred[0].shape"
   ]
  },
  {
   "cell_type": "code",
   "execution_count": 50,
   "metadata": {},
   "outputs": [
    {
     "data": {
      "text/plain": [
       "torch.Size([2])"
      ]
     },
     "execution_count": 50,
     "metadata": {},
     "output_type": "execute_result"
    }
   ],
   "source": [
    "y_pred[1].shape"
   ]
  },
  {
   "cell_type": "code",
   "execution_count": 51,
   "metadata": {},
   "outputs": [
    {
     "data": {
      "text/plain": [
       "torch.Size([2, 5, 101, 101])"
      ]
     },
     "execution_count": 51,
     "metadata": {},
     "output_type": "execute_result"
    }
   ],
   "source": [
    "y_pred[2].shape"
   ]
  },
  {
   "cell_type": "code",
   "execution_count": 52,
   "metadata": {},
   "outputs": [
    {
     "data": {
      "text/plain": [
       "tensor(0.5194, grad_fn=<ThAddBackward>)"
      ]
     },
     "execution_count": 52,
     "metadata": {},
     "output_type": "execute_result"
    }
   ],
   "source": [
    "tbce_loss(y_pred,y_batch)"
   ]
  },
  {
   "cell_type": "markdown",
   "metadata": {
    "colab_type": "text",
    "id": "zJ3DJ4hAQmOw"
   },
   "source": [
    "## Train the full with full dataset"
   ]
  },
  {
   "cell_type": "code",
   "execution_count": null,
   "metadata": {
    "colab": {},
    "colab_type": "code",
    "id": "AZkSxKV2sIkN"
   },
   "outputs": [],
   "source": [
    "log.info('salt_model_v37.4_high_lovasz_loss. Based on 37.3. increase weight for lavosz loss.')"
   ]
  },
  {
   "cell_type": "code",
   "execution_count": null,
   "metadata": {
    "colab": {},
    "colab_type": "code",
    "id": "R_sJ4aApaZDB"
   },
   "outputs": [],
   "source": [
    "aug_pipeline_config = '''\n",
    "p = Pipeline_Salt()\n",
    "p.flip_left_right(probability=0.5)\n",
    "p.rotate90(0.25)\n",
    "p.rotate270(0.25)\n",
    "p.random_brightness(probability=0.5, min_factor=0.8, max_factor=1.2)\n",
    "p.random_contrast(probability=0.5, min_factor=0.8, max_factor=1.2)\n",
    "p.rotate_random_align(probability=0.5)\n",
    "p.crop_random_align(probability=0.5, min_factor=0.6, max_factor=1.0, mask_diff_pct=0.2)\n",
    "'''"
   ]
  },
  {
   "cell_type": "code",
   "execution_count": null,
   "metadata": {
    "colab": {},
    "colab_type": "code",
    "id": "U7gYECBYaZDJ"
   },
   "outputs": [],
   "source": [
    "data_loader_config = '''\n",
    "train_data_params = {'batch_size': 32,\n",
    "                     #'sampler': weighted_sampler,\n",
    "                     'shuffle': True,\n",
    "                     'drop_last': False}\n",
    "\n",
    "val_data_params = {'batch_size': 32,\n",
    "                   'shuffle': True,\n",
    "                   'drop_last': False}\n",
    "\n",
    "train_dataLoader = (\n",
    "    DataLoader(SaltDataset(X_train, y_train, depth_train,\n",
    "                           np.zeros_like(X_train_mean_img), out_size=128,  out_ch=1,\n",
    "                           transform=p.torch_transform()), **train_data_params)\n",
    ")\n",
    "\n",
    "val_dataLoader = (\n",
    "    DataLoader(SaltDataset(X_val, y_val, depth_val, \n",
    "                           np.zeros_like(X_train_mean_img), out_size=128, out_ch=1), **val_data_params)\n",
    ")\n",
    "\n",
    "dataloaders = {'train': train_dataLoader, 'val':val_dataLoader}\n",
    "'''"
   ]
  },
  {
   "cell_type": "code",
   "execution_count": null,
   "metadata": {
    "colab": {},
    "colab_type": "code",
    "id": "2E3iHDtlaZDR"
   },
   "outputs": [],
   "source": [
    "model_config = '''\n",
    "saltnet = UResNet(pretrained=True)\n",
    "loss_fn_bce = nn.BCEWithLogitsLoss(pos_weight=torch.tensor(2.0).type(dtype))\n",
    "#loss_focal = FocalLoss(0.25, 2, logits=True)\n",
    "loss_lovasz_hinge = LovaszHingeLoss()\n",
    "resnet_params = (\n",
    "    list(saltnet.conv1.parameters()) + \n",
    "    list(saltnet.encoder2.parameters()) + \n",
    "    list(saltnet.encoder3.parameters()) + \n",
    "    list(saltnet.encoder4.parameters()) + \n",
    "    list(saltnet.encoder5.parameters())\n",
    ")\n",
    "\n",
    "unet_params = (\n",
    "    list(saltnet.center.parameters()) + \n",
    "    list(saltnet.decoder5.parameters()) + \n",
    "    list(saltnet.decoder4.parameters()) + \n",
    "    list(saltnet.decoder3.parameters()) + \n",
    "    list(saltnet.decoder2.parameters()) + \n",
    "    list(saltnet.decoder1.parameters())  + \n",
    "    list(saltnet.se_f.parameters()) + \n",
    "    list(saltnet.outc.parameters())\n",
    ")\n",
    "optimizer = optim.Adam([    \n",
    "    {'params': resnet_params, 'lr': 1e-4},\n",
    "    {'params': unet_params, 'lr': 1e-3},\n",
    "], weight_decay=0.0001)\n",
    "#optimizer = optim.SGD([    \n",
    "#    {'params': resnet_params, 'lr': 1e-4},\n",
    "#    {'params': unet_params, 'lr': 1e-3},\n",
    "#], momentum=0.9, weight_decay=0.00001)\n",
    "\n",
    "#scheduler = torch.optim.lr_scheduler.ReduceLROnPlateau(optimizer, mode='min', factor=0.5, patience=5, verbose=True, threshold=0.0001, min_lr=0.00001)\n",
    "scheduler = PolyLR(optimizer, [1e-4, 1e-3], lr_decay_iter=1, max_iter=150, power=0.9)\n",
    "model_save_name = f'../salt_net/salt_model_v37.4_high_lovasz_loss_{get_current_time_as_fname()}.ckp'\n",
    "log.info(model_save_name)\n",
    "'''"
   ]
  },
  {
   "cell_type": "code",
   "execution_count": null,
   "metadata": {
    "colab": {},
    "colab_type": "code",
    "id": "I0YGWcupaZDW"
   },
   "outputs": [],
   "source": [
    "train_params_config = '''\n",
    "train_params = {\n",
    "    'model_save_name': model_save_name,\n",
    "    'save_model_every': 20,\n",
    "    'save_log_every': 2,\n",
    "    'num_epochs': 150,\n",
    "    'log': log,\n",
    "    'mask_cutoff': 0.,\n",
    "    'model_save_iou_threshold': 0.815\n",
    "    }\n",
    "'''"
   ]
  },
  {
   "cell_type": "code",
   "execution_count": null,
   "metadata": {
    "colab": {},
    "colab_type": "code",
    "id": "Njb68KldaZDZ"
   },
   "outputs": [],
   "source": [
    "model_run_config = '''\n",
    "train_model(saltnet, dataloaders, (loss_fn_bce, loss_lovasz_hinge), (1, 0.3), optimizer, scheduler, train_params, all_data)\n",
    "'''"
   ]
  },
  {
   "cell_type": "code",
   "execution_count": null,
   "metadata": {
    "colab": {},
    "colab_type": "code",
    "id": "-VbLGjnuaZDc"
   },
   "outputs": [],
   "source": [
    "config_list = [aug_pipeline_config, data_loader_config, model_config, train_params_config, model_run_config]"
   ]
  },
  {
   "cell_type": "code",
   "execution_count": null,
   "metadata": {
    "colab": {},
    "colab_type": "code",
    "id": "YTb0lfCGaZDe"
   },
   "outputs": [],
   "source": [
    "setup_train(config_list)"
   ]
  },
  {
   "cell_type": "code",
   "execution_count": null,
   "metadata": {
    "colab": {},
    "colab_type": "code",
    "id": "-tEKsUoEYOf3"
   },
   "outputs": [],
   "source": []
  },
  {
   "cell_type": "markdown",
   "metadata": {
    "colab_type": "text",
    "id": "9MW3YwaZQmOz"
   },
   "source": [
    "## Load Trained Model"
   ]
  },
  {
   "cell_type": "code",
   "execution_count": null,
   "metadata": {
    "colab": {},
    "colab_type": "code",
    "id": "19YvCTYQS-Se"
   },
   "outputs": [],
   "source": []
  },
  {
   "cell_type": "code",
   "execution_count": null,
   "metadata": {
    "colab": {},
    "colab_type": "code",
    "id": "5SMX99YR05aI"
   },
   "outputs": [],
   "source": [
    "loaded_model = saltnet"
   ]
  },
  {
   "cell_type": "code",
   "execution_count": null,
   "metadata": {
    "colab": {},
    "colab_type": "code",
    "id": "ESBVbot1Qp7b"
   },
   "outputs": [],
   "source": [
    "loaded_model = UResNet(pretrained=False)"
   ]
  },
  {
   "cell_type": "code",
   "execution_count": null,
   "metadata": {
    "colab": {},
    "colab_type": "code",
    "id": "LIRv-uXQGROz"
   },
   "outputs": [],
   "source": [
    "ls"
   ]
  },
  {
   "cell_type": "code",
   "execution_count": null,
   "metadata": {
    "colab": {},
    "colab_type": "code",
    "id": "MDpBS2c9ePeW"
   },
   "outputs": [],
   "source": [
    "cd ../salt_net"
   ]
  },
  {
   "cell_type": "code",
   "execution_count": null,
   "metadata": {
    "colab": {},
    "colab_type": "code",
    "id": "uHP7fUFPS_Ke"
   },
   "outputs": [],
   "source": [
    "ls"
   ]
  },
  {
   "cell_type": "code",
   "execution_count": null,
   "metadata": {
    "colab": {},
    "colab_type": "code",
    "id": "cuoeW6MLd439"
   },
   "outputs": [],
   "source": [
    "model_file_suffix = \"Unet_res34_bce_lovasz_loss_se_new_aug_finetuen1_2018_09_21_09_41_48.ckp\"\n",
    "model_state_dict = torch.load(join_files(model_file_suffix, '.', returnFileObject=True, removeChunks=False))\n",
    "loaded_model.load_state_dict(model_state_dict['model'])"
   ]
  },
  {
   "cell_type": "markdown",
   "metadata": {
    "colab_type": "text",
    "id": "PbgxXtYH3KpR"
   },
   "source": [
    "### Make Predictions on validation set"
   ]
  },
  {
   "cell_type": "markdown",
   "metadata": {
    "colab_type": "text",
    "id": "W0cFNMM0QmO4"
   },
   "source": [
    "### Set model to evaluation mode"
   ]
  },
  {
   "cell_type": "code",
   "execution_count": null,
   "metadata": {
    "colab": {},
    "colab_type": "code",
    "id": "izo8iByg3KpP"
   },
   "outputs": [],
   "source": [
    "loaded_model.eval()\n",
    "assert loaded_model.training == False"
   ]
  },
  {
   "cell_type": "code",
   "execution_count": null,
   "metadata": {
    "colab": {},
    "colab_type": "code",
    "id": "zfdN-P-j3KpS"
   },
   "outputs": [],
   "source": [
    "val_dataLoader = DataLoader(SaltDataset(X_val, y_val, depth_val, X_train_mean_img, out_size=128), batch_size=16)"
   ]
  },
  {
   "cell_type": "code",
   "execution_count": null,
   "metadata": {
    "colab": {},
    "colab_type": "code",
    "id": "7M0ZHG7o6swA"
   },
   "outputs": [],
   "source": [
    "if torch.cuda.is_available():\n",
    "    loaded_model.cuda()"
   ]
  },
  {
   "cell_type": "code",
   "execution_count": null,
   "metadata": {
    "colab": {},
    "colab_type": "code",
    "id": "cAVNrwOUCkqI"
   },
   "outputs": [],
   "source": []
  },
  {
   "cell_type": "markdown",
   "metadata": {
    "colab_type": "text",
    "id": "F8_AINAPClPN"
   },
   "source": [
    "### Eval model on Val data set"
   ]
  },
  {
   "cell_type": "code",
   "execution_count": null,
   "metadata": {
    "colab": {},
    "colab_type": "code",
    "id": "JMuArCUd3KpU"
   },
   "outputs": [],
   "source": [
    "y_val_pred = []\n",
    "\n",
    "with torch.no_grad():\n",
    "    for X_val_batch, y_val_batch, depth_val_batch, X_val_id_batch in val_dataLoader:\n",
    "        y_val_pred.append(loaded_model(X_val_batch))\n",
    "y_val_pred = torch.cat(y_val_pred)"
   ]
  },
  {
   "cell_type": "code",
   "execution_count": null,
   "metadata": {
    "colab": {},
    "colab_type": "code",
    "id": "B7EYzvT0fyPx"
   },
   "outputs": [],
   "source": [
    "p = Pipeline_Salt()\n",
    "p.flip_left_right(probability=1)\n",
    "val_dataLoader = DataLoader(SaltDataset(X_val, y_val, depth_val, X_train_mean_img, out_size=128, out_ch=1,\n",
    "                           transform=p.torch_transform()), batch_size=16)\n",
    "y_val_pred_flip = []\n",
    "\n",
    "with torch.no_grad():\n",
    "    for X_val_batch, y_val_batch, depth_val_batch, X_val_id_batch in val_dataLoader:\n",
    "        y_val_pred_flip.append(loaded_model(X_val_batch))\n",
    "y_val_pred_flip = torch.cat(y_val_pred_flip)\n",
    "y_val_pred_flip = torch.flip(y_val_pred_flip,[2])"
   ]
  },
  {
   "cell_type": "markdown",
   "metadata": {
    "colab_type": "text",
    "id": "u1_1icxBCsP3"
   },
   "source": [
    "#### merge normal pred and hflip pred"
   ]
  },
  {
   "cell_type": "code",
   "execution_count": null,
   "metadata": {
    "colab": {},
    "colab_type": "code",
    "id": "FZNYVKKPf0if"
   },
   "outputs": [],
   "source": [
    "y_val_pred_ens = torch.where(y_val_pred.abs() > y_val_pred_flip.abs(), y_val_pred, y_val_pred_flip)"
   ]
  },
  {
   "cell_type": "markdown",
   "metadata": {
    "colab_type": "text",
    "id": "wBO4WrvnCyex"
   },
   "source": [
    "#### Check normal pred IOU"
   ]
  },
  {
   "cell_type": "code",
   "execution_count": null,
   "metadata": {
    "colab": {},
    "colab_type": "code",
    "id": "hSYVoI88HApH"
   },
   "outputs": [],
   "source": [
    "y_val_pred_adj = adjust_predictions(0, X_val, y_val_pred.gt(0), y_val.squeeze())"
   ]
  },
  {
   "cell_type": "markdown",
   "metadata": {
    "colab_type": "text",
    "id": "EzTNcpMUC6Qo"
   },
   "source": [
    "#### Check TTA pred IOU"
   ]
  },
  {
   "cell_type": "code",
   "execution_count": null,
   "metadata": {
    "colab": {},
    "colab_type": "code",
    "id": "230OrjoPf0_K"
   },
   "outputs": [],
   "source": [
    "y_val_pred_adj = adjust_predictions(0, X_val, y_val_pred_ens.gt(0), y_val.squeeze())"
   ]
  },
  {
   "cell_type": "code",
   "execution_count": null,
   "metadata": {
    "colab": {},
    "colab_type": "code",
    "id": "VZvUQtjqG_uf"
   },
   "outputs": [],
   "source": []
  },
  {
   "cell_type": "markdown",
   "metadata": {
    "colab_type": "text",
    "id": "PYOWBAw7DCss"
   },
   "source": [
    "### Find best mask cutoff"
   ]
  },
  {
   "cell_type": "code",
   "execution_count": null,
   "metadata": {
    "colab": {},
    "colab_type": "code",
    "id": "dg4ZJEH_7VV2"
   },
   "outputs": [],
   "source": [
    "results=[]\n",
    "for cut_off in np.r_[-0.1:0.1:50j]:\n",
    "  print(cut_off)\n",
    "  results.append(calc_mean_iou(adjust_predictions(0, X_val, y_val_pred_ens.gt(cut_off), y_val.squeeze()), y_val.squeeze()))"
   ]
  },
  {
   "cell_type": "code",
   "execution_count": null,
   "metadata": {
    "colab": {},
    "colab_type": "code",
    "id": "uXUNORfK8G4S"
   },
   "outputs": [],
   "source": [
    "MASK_CUTOFF = np.r_[-0.1:0.1:50j][np.argmax(results)]"
   ]
  },
  {
   "cell_type": "code",
   "execution_count": null,
   "metadata": {
    "colab": {},
    "colab_type": "code",
    "id": "5_ka-iqTgCYL"
   },
   "outputs": [],
   "source": [
    "print(f'MASK_CUTOFF: {MASK_CUTOFF}')"
   ]
  },
  {
   "cell_type": "markdown",
   "metadata": {
    "colab_type": "text",
    "id": "BlcQ7hthD6-K"
   },
   "source": [
    "#### Find best ZERO_MASK_CUTOFF"
   ]
  },
  {
   "cell_type": "code",
   "execution_count": null,
   "metadata": {
    "colab": {},
    "colab_type": "code",
    "id": "nxNTal6nS8Za"
   },
   "outputs": [],
   "source": [
    "results=[]\n",
    "for cut_off in range(0, 300, 10):\n",
    "  print(cut_off)\n",
    "  results.append(calc_mean_iou(adjust_predictions(cut_off, X_val, y_val_pred_ens.gt(MASK_CUTOFF), y_val.squeeze()), y_val.squeeze()))"
   ]
  },
  {
   "cell_type": "code",
   "execution_count": null,
   "metadata": {
    "colab": {},
    "colab_type": "code",
    "id": "52zu8TbtEEAU"
   },
   "outputs": [],
   "source": [
    "ZERO_MASK_CUTOFF = range(0, 300, 10)[np.argmax(results)]"
   ]
  },
  {
   "cell_type": "code",
   "execution_count": null,
   "metadata": {
    "colab": {},
    "colab_type": "code",
    "id": "QC3Bk6PEEHZ2"
   },
   "outputs": [],
   "source": [
    "print(f'ZERO_MASK_CUTOFF: {ZERO_MASK_CUTOFF}')"
   ]
  },
  {
   "cell_type": "code",
   "execution_count": null,
   "metadata": {
    "colab": {},
    "colab_type": "code",
    "id": "mQ2C6bakEDYE"
   },
   "outputs": [],
   "source": [
    "y_val_pred_adj = adjust_predictions(ZERO_MASK_CUTOFF, X_val, y_val_pred_ens.gt(MASK_CUTOFF), y_val.squeeze())"
   ]
  },
  {
   "cell_type": "markdown",
   "metadata": {
    "colab_type": "text",
    "id": "umePIs5RDvyw"
   },
   "source": [
    "### View a few val images with predictions"
   ]
  },
  {
   "cell_type": "code",
   "execution_count": null,
   "metadata": {
    "colab": {},
    "colab_type": "code",
    "id": "2_DJpL1o3KpY"
   },
   "outputs": [],
   "source": [
    "for i in range(10):\n",
    "    rand_id = np.random.choice(X_val_id_batch)\n",
    "    print(f'Image ID: {rand_id}')\n",
    "    val_img = X_val[rand_id]/255\n",
    "    val_mask = y_val[rand_id]\n",
    "    val_mask_pred = y_val_pred_ens.ge(MASK_CUTOFF)[rand_id]\n",
    "    plot_img_mask_pred([val_img, val_mask, val_mask_pred], range(3), img_per_line=3)"
   ]
  },
  {
   "cell_type": "code",
   "execution_count": null,
   "metadata": {
    "colab": {},
    "colab_type": "code",
    "id": "fkD6eqk9ghEe"
   },
   "outputs": [],
   "source": []
  },
  {
   "cell_type": "markdown",
   "metadata": {
    "colab_type": "text",
    "id": "BELGiJ1VEVw3"
   },
   "source": [
    "### Eval model on Train data set"
   ]
  },
  {
   "cell_type": "code",
   "execution_count": null,
   "metadata": {
    "colab": {},
    "colab_type": "code",
    "id": "Vc8_yrUzEeWA"
   },
   "outputs": [],
   "source": [
    "train_dataLoader = DataLoader(SaltDataset(X_train, y_train, depth_train, X_train_mean_img, out_size=128), batch_size=32)\n",
    "y_train_pred = []\n",
    "\n",
    "with torch.no_grad():\n",
    "    for X_train_batch, y_train_batch, depth_train_batch, X_train_id_batch in train_dataLoader:\n",
    "        y_train_pred.append(loaded_model(X_train_batch))\n",
    "y_train_pred = torch.cat(y_train_pred)"
   ]
  },
  {
   "cell_type": "code",
   "execution_count": null,
   "metadata": {
    "colab": {},
    "colab_type": "code",
    "id": "7pDFa_mNEebY"
   },
   "outputs": [],
   "source": [
    "p = Pipeline_Salt()\n",
    "p.flip_left_right(probability=1)\n",
    "train_dataLoader = DataLoader(SaltDataset(X_train, y_train, depth_train, X_train_mean_img, out_size=128, out_ch=1,\n",
    "                           transform=p.torch_transform()), batch_size=32)\n",
    "y_train_pred_flip = []\n",
    "\n",
    "with torch.no_grad():\n",
    "    for X_train_batch, y_train_batch, depth_train_batch, X_train_id_batch in train_dataLoader:\n",
    "        y_train_pred_flip.append(loaded_model(X_train_batch))\n",
    "y_train_pred_flip = torch.cat(y_train_pred_flip)\n",
    "y_train_pred_flip = torch.flip(y_train_pred_flip,[2])"
   ]
  },
  {
   "cell_type": "markdown",
   "metadata": {
    "colab_type": "text",
    "id": "4txEOloZFEqt"
   },
   "source": [
    "#### merge normal pred and hflip pred"
   ]
  },
  {
   "cell_type": "code",
   "execution_count": null,
   "metadata": {
    "colab": {},
    "colab_type": "code",
    "id": "lPCRVTSGFEqt"
   },
   "outputs": [],
   "source": [
    "y_train_pred_ens = torch.where(y_train_pred.abs() > y_train_pred_flip.abs(), y_train_pred, y_train_pred_flip)"
   ]
  },
  {
   "cell_type": "markdown",
   "metadata": {
    "colab_type": "text",
    "id": "36inQqL2FEqw"
   },
   "source": [
    "#### Check normal pred IOU"
   ]
  },
  {
   "cell_type": "code",
   "execution_count": null,
   "metadata": {
    "colab": {},
    "colab_type": "code",
    "id": "W-lLr9O9FEqw"
   },
   "outputs": [],
   "source": [
    "y_train_pred_adj = adjust_predictions(0, X_train, y_train_pred.gt(0), y_train.squeeze())"
   ]
  },
  {
   "cell_type": "markdown",
   "metadata": {
    "colab_type": "text",
    "id": "HxkzmfT-FEqz"
   },
   "source": [
    "#### Check TTA pred IOU"
   ]
  },
  {
   "cell_type": "code",
   "execution_count": null,
   "metadata": {
    "colab": {},
    "colab_type": "code",
    "id": "2nxT3zdGFEq0"
   },
   "outputs": [],
   "source": [
    "y_train_pred_adj = adjust_predictions(0, X_train, y_train_pred_ens.gt(0), y_train.squeeze())"
   ]
  },
  {
   "cell_type": "code",
   "execution_count": null,
   "metadata": {
    "colab": {},
    "colab_type": "code",
    "id": "I7LEjByXFEq5"
   },
   "outputs": [],
   "source": []
  },
  {
   "cell_type": "markdown",
   "metadata": {
    "colab_type": "text",
    "id": "AlqUaaKpFEq6"
   },
   "source": [
    "### Find best mask cutoff"
   ]
  },
  {
   "cell_type": "code",
   "execution_count": null,
   "metadata": {
    "colab": {},
    "colab_type": "code",
    "id": "DT58yYpmFEq6"
   },
   "outputs": [],
   "source": [
    "results=[]\n",
    "for cut_off in np.r_[-0.2:0.2:50j]:\n",
    "  print(cut_off)\n",
    "  results.append(calc_mean_iou(adjust_predictions(0, X_train, y_train_pred_ens.gt(cut_off), y_train.squeeze()), y_train.squeeze()))"
   ]
  },
  {
   "cell_type": "code",
   "execution_count": null,
   "metadata": {
    "colab": {},
    "colab_type": "code",
    "id": "7UxZ7-qiFj8K"
   },
   "outputs": [],
   "source": [
    "np.r_[-0.2:0.2:50j][np.argmax(results)]"
   ]
  },
  {
   "cell_type": "code",
   "execution_count": null,
   "metadata": {
    "colab": {},
    "colab_type": "code",
    "id": "WHeROpnjFEq7"
   },
   "outputs": [],
   "source": [
    "MASK_CUTOFF = np.r_[-0.1:0.1:50j][np.argmax(results)]"
   ]
  },
  {
   "cell_type": "code",
   "execution_count": null,
   "metadata": {
    "colab": {},
    "colab_type": "code",
    "id": "6DQnSzmkGMvj"
   },
   "outputs": [],
   "source": [
    "MASK_CUTOFF = 0"
   ]
  },
  {
   "cell_type": "code",
   "execution_count": null,
   "metadata": {
    "colab": {},
    "colab_type": "code",
    "id": "-Jyt5H9kFEq_"
   },
   "outputs": [],
   "source": [
    "print(f'MASK_CUTOFF: {MASK_CUTOFF}')"
   ]
  },
  {
   "cell_type": "markdown",
   "metadata": {
    "colab_type": "text",
    "id": "KLUZy7TAFErD"
   },
   "source": [
    "#### Find best ZERO_MASK_CUTOFF"
   ]
  },
  {
   "cell_type": "code",
   "execution_count": null,
   "metadata": {
    "colab": {},
    "colab_type": "code",
    "id": "y2STul6jFErD"
   },
   "outputs": [],
   "source": [
    "results=[]\n",
    "for cut_off in range(0, 300, 10):\n",
    "  print(cut_off)\n",
    "  results.append(calc_mean_iou(adjust_predictions(cut_off, X_train, y_train_pred_ens.gt(MASK_CUTOFF), y_train.squeeze()), y_train.squeeze()))"
   ]
  },
  {
   "cell_type": "code",
   "execution_count": null,
   "metadata": {
    "colab": {},
    "colab_type": "code",
    "id": "odyOnmrbFErG"
   },
   "outputs": [],
   "source": [
    "ZERO_MASK_CUTOFF = range(0, 300, 10)[np.argmax(results)]"
   ]
  },
  {
   "cell_type": "code",
   "execution_count": null,
   "metadata": {
    "colab": {},
    "colab_type": "code",
    "id": "WCjKZY5tFErH"
   },
   "outputs": [],
   "source": [
    "print(f'ZERO_MASK_CUTOFF: {ZERO_MASK_CUTOFF}')"
   ]
  },
  {
   "cell_type": "code",
   "execution_count": null,
   "metadata": {
    "colab": {},
    "colab_type": "code",
    "id": "5ap1JdDtFErL"
   },
   "outputs": [],
   "source": [
    "y_val_pred_adj = adjust_predictions(ZERO_MASK_CUTOFF, X_val, y_val_pred_ens.gt(MASK_CUTOFF), y_val.squeeze())"
   ]
  },
  {
   "cell_type": "code",
   "execution_count": null,
   "metadata": {
    "colab": {},
    "colab_type": "code",
    "id": "xv1LkCTLEqg7"
   },
   "outputs": [],
   "source": []
  },
  {
   "cell_type": "code",
   "execution_count": null,
   "metadata": {
    "colab": {},
    "colab_type": "code",
    "id": "GCR_6IO1g7xE"
   },
   "outputs": [],
   "source": [
    "y_train_pred_adj = adjust_predictions(ZERO_MASK_CUTOFF, X_train, y_train_pred_ens.gt(MASK_CUTOFF), y_train.squeeze())"
   ]
  },
  {
   "cell_type": "code",
   "execution_count": null,
   "metadata": {
    "colab": {},
    "colab_type": "code",
    "id": "Tqf2DKD2CCjg"
   },
   "outputs": [],
   "source": [
    "for i in range(10):\n",
    "    rand_id = np.random.choice(X_train_id_batch)\n",
    "    print(f'Image ID: {rand_id}')\n",
    "    img = X_train[rand_id]/255\n",
    "    mask = y_train[rand_id]\n",
    "    mask_pred = y_train_pred.ge(MASK_CUTOFF)[rand_id]\n",
    "    plot_img_mask_pred([img, mask, mask_pred], range(3), img_per_line=3)"
   ]
  },
  {
   "cell_type": "markdown",
   "metadata": {
    "colab_type": "text",
    "id": "ZkzyRPIMDrAz"
   },
   "source": [
    "## Make predictions on test set using TTA"
   ]
  },
  {
   "cell_type": "code",
   "execution_count": null,
   "metadata": {
    "colab": {},
    "colab_type": "code",
    "id": "x38qXbAkmFSH"
   },
   "outputs": [],
   "source": [
    "import numpy as np"
   ]
  },
  {
   "cell_type": "markdown",
   "metadata": {
    "colab_type": "text",
    "id": "AfLrLArrEK5m"
   },
   "source": [
    "### Predict using original image"
   ]
  },
  {
   "cell_type": "code",
   "execution_count": null,
   "metadata": {
    "colab": {},
    "colab_type": "code",
    "id": "bUDZxfzlD_Os"
   },
   "outputs": [],
   "source": [
    "test_dataLoader = DataLoader(SaltDataset(X_test, np.zeros_like(X_test), depth_test, X_train_mean_img, out_size=128), batch_size=32)"
   ]
  },
  {
   "cell_type": "code",
   "execution_count": null,
   "metadata": {
    "colab": {},
    "colab_type": "code",
    "id": "cqKBooA3EC4b"
   },
   "outputs": [],
   "source": [
    "y_test_pred_raw = []\n",
    "with torch.no_grad():\n",
    "    for X_test_batch, y_test_batch, depth_test_batch, X_test_id_batch in test_dataLoader:\n",
    "        y_test_pred_raw.append(loaded_model(X_test_batch))\n",
    "y_test_pred = torch.cat(y_test_pred_raw)"
   ]
  },
  {
   "cell_type": "markdown",
   "metadata": {
    "colab_type": "text",
    "id": "e7BiVrQKEFrk"
   },
   "source": [
    "### Predict using flipped images"
   ]
  },
  {
   "cell_type": "code",
   "execution_count": null,
   "metadata": {
    "colab": {},
    "colab_type": "code",
    "id": "KjPkHzKBmz7s"
   },
   "outputs": [],
   "source": [
    "p = Pipeline_Salt()\n",
    "p.flip_left_right(probability=1)\n",
    "test_dataLoader = DataLoader(SaltDataset(X_test, np.zeros_like(X_test), depth_test, X_train_mean_img, out_size=128, out_ch=1,\n",
    "                           transform=p.torch_transform()), batch_size=32)\n",
    "y_test_pred_flip = []\n",
    "\n",
    "with torch.no_grad():\n",
    "    for X_test_batch, y_test_batch, depth_test_batch, X_test_id_batch in test_dataLoader:\n",
    "        y_test_pred_flip.append(loaded_model(X_test_batch))\n",
    "y_test_pred_flip = torch.cat(y_test_pred_flip)\n",
    "y_test_pred_flip = torch.flip(y_test_pred_flip,[2])"
   ]
  },
  {
   "cell_type": "markdown",
   "metadata": {
    "colab_type": "text",
    "id": "U9t1Z0kiEQkG"
   },
   "source": [
    "### Combine non-flip and flip predictions"
   ]
  },
  {
   "cell_type": "code",
   "execution_count": null,
   "metadata": {
    "colab": {},
    "colab_type": "code",
    "id": "_zUtOPXwmz7y"
   },
   "outputs": [],
   "source": [
    "y_test_pred = torch.where(y_test_pred.abs() > y_test_pred_flip.abs(), y_test_pred, y_test_pred_flip)"
   ]
  },
  {
   "cell_type": "markdown",
   "metadata": {
    "colab_type": "text",
    "id": "bzkEuhBwEXBl"
   },
   "source": [
    "### Adjust predictions"
   ]
  },
  {
   "cell_type": "code",
   "execution_count": null,
   "metadata": {
    "colab": {},
    "colab_type": "code",
    "id": "JaDNBnwsBqF5"
   },
   "outputs": [],
   "source": [
    "MASK_CUTOFF = 0\n",
    "ZERO_MASK_CUTOFF = 0"
   ]
  },
  {
   "cell_type": "code",
   "execution_count": null,
   "metadata": {
    "colab": {},
    "colab_type": "code",
    "id": "89y4w6drFKSl"
   },
   "outputs": [],
   "source": [
    "print(f'MASK_CUTOFF:{MASK_CUTOFF}, ZERO_MASK_CUTOFF:{ZERO_MASK_CUTOFF}')"
   ]
  },
  {
   "cell_type": "code",
   "execution_count": null,
   "metadata": {
    "colab": {},
    "colab_type": "code",
    "id": "kSe7dmyMqnPF"
   },
   "outputs": [],
   "source": [
    "y_test_pred_adj = adjust_predictions(ZERO_MASK_CUTOFF, X_test, y_test_pred.gt(MASK_CUTOFF))\n"
   ]
  },
  {
   "cell_type": "markdown",
   "metadata": {
    "colab_type": "text",
    "id": "pd9DjVswEwUD"
   },
   "source": [
    "### Show segmentation masks for a few images"
   ]
  },
  {
   "cell_type": "code",
   "execution_count": null,
   "metadata": {
    "colab": {},
    "colab_type": "code",
    "id": "c9j_HYo6ExVL"
   },
   "outputs": [],
   "source": [
    "for i in range(10):\n",
    "    rand_id = np.random.choice(X_test_id_batch)\n",
    "    print(f'Image ID: {rand_id}')\n",
    "    img = X_test[rand_id]/255\n",
    "    mask_pred = y_test_pred.ge(0.5)[rand_id]\n",
    "    plot_img_mask_pred([img, mask_pred], range(2))"
   ]
  },
  {
   "cell_type": "markdown",
   "metadata": {
    "colab_type": "text",
    "id": "Bmi3NISwEaOt"
   },
   "source": [
    "### Prepare for submission"
   ]
  },
  {
   "cell_type": "code",
   "execution_count": null,
   "metadata": {
    "colab": {},
    "colab_type": "code",
    "id": "fATv5NS6hnkU"
   },
   "outputs": [],
   "source": [
    "y_test_pred_rle = rle_encoder3d(y_test_pred_adj)"
   ]
  },
  {
   "cell_type": "code",
   "execution_count": null,
   "metadata": {
    "colab": {},
    "colab_type": "code",
    "id": "BBNylCIDhnkX"
   },
   "outputs": [],
   "source": [
    "y_test_pred_adj.shape"
   ]
  },
  {
   "cell_type": "code",
   "execution_count": null,
   "metadata": {
    "colab": {},
    "colab_type": "code",
    "id": "hwSpGmvthnkd"
   },
   "outputs": [],
   "source": [
    "df_test_rle = pd.DataFrame(index=misc_data['np_test_ids'], data=y_test_pred_rle).reset_index()"
   ]
  },
  {
   "cell_type": "code",
   "execution_count": null,
   "metadata": {
    "colab": {},
    "colab_type": "code",
    "id": "r3bS6FoNhnki"
   },
   "outputs": [],
   "source": [
    "df_test_rle.columns = ['id', 'rle_mask']"
   ]
  },
  {
   "cell_type": "code",
   "execution_count": null,
   "metadata": {
    "colab": {},
    "colab_type": "code",
    "id": "JRDcCLpohnkn"
   },
   "outputs": [],
   "source": [
    "df_test_rle[df_test_rle.rle_mask==''].shape"
   ]
  },
  {
   "cell_type": "code",
   "execution_count": null,
   "metadata": {
    "colab": {},
    "colab_type": "code",
    "id": "vkOmz86lhnkw"
   },
   "outputs": [],
   "source": [
    "df_test_rle.shape"
   ]
  },
  {
   "cell_type": "code",
   "execution_count": null,
   "metadata": {
    "colab": {},
    "colab_type": "code",
    "id": "xr_NOtxBhnky"
   },
   "outputs": [],
   "source": [
    "df_test_rle.to_csv(f'submission_{get_current_time_as_fname()}.csv', index=False)"
   ]
  },
  {
   "cell_type": "code",
   "execution_count": null,
   "metadata": {
    "colab": {},
    "colab_type": "code",
    "id": "n__2CiMjhnk2"
   },
   "outputs": [],
   "source": [
    "ls"
   ]
  },
  {
   "cell_type": "code",
   "execution_count": null,
   "metadata": {
    "colab": {},
    "colab_type": "code",
    "id": "fCv-diichnk4"
   },
   "outputs": [],
   "source": [
    "from google.colab import files\n"
   ]
  },
  {
   "cell_type": "code",
   "execution_count": null,
   "metadata": {
    "colab": {},
    "colab_type": "code",
    "id": "NgzFDdcShnlA"
   },
   "outputs": [],
   "source": [
    "files.download('submission_2018_09_21_13_11_16.csv') "
   ]
  },
  {
   "cell_type": "code",
   "execution_count": null,
   "metadata": {
    "colab": {},
    "colab_type": "code",
    "id": "1D61fkPaiUR4"
   },
   "outputs": [],
   "source": []
  }
 ],
 "metadata": {
  "accelerator": "GPU",
  "colab": {
   "name": "salt_model_data_loader_V3.ipynb",
   "provenance": [],
   "version": "0.3.2"
  },
  "kernelspec": {
   "display_name": "Python 3",
   "language": "python",
   "name": "python3"
  },
  "language_info": {
   "codemirror_mode": {
    "name": "ipython",
    "version": 3
   },
   "file_extension": ".py",
   "mimetype": "text/x-python",
   "name": "python",
   "nbconvert_exporter": "python",
   "pygments_lexer": "ipython3",
   "version": "3.6.4"
  }
 },
 "nbformat": 4,
 "nbformat_minor": 2
}
