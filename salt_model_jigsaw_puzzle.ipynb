{
 "cells": [
  {
   "cell_type": "markdown",
   "metadata": {
    "colab_type": "text",
    "id": "IUnFr6MO3Kk3"
   },
   "source": [
    "# Changes:\n",
    "1. Use Unet with Squeeze and Excitation blocks"
   ]
  },
  {
   "cell_type": "markdown",
   "metadata": {
    "colab_type": "text",
    "id": "xaO5fG0VW5gB"
   },
   "source": [
    "## Install required packages if running on google colab"
   ]
  },
  {
   "cell_type": "code",
   "execution_count": 1,
   "metadata": {
    "colab": {},
    "colab_type": "code",
    "id": "8n6EgF7sW5gC"
   },
   "outputs": [],
   "source": [
    "try:\n",
    "    import torch\n",
    "except:\n",
    "    !pip install torch torchvision\n",
    "    !pip install imageio\n",
    "    !pip install Augmentor\n",
    "    !git clone https://github.com/allen-q/salt_oil.git\n",
    "    !git clone https://github.com/allen-q/salt_net.git"
   ]
  },
  {
   "cell_type": "code",
   "execution_count": 2,
   "metadata": {
    "colab": {},
    "colab_type": "code",
    "id": "p3h4PngQ0s86"
   },
   "outputs": [
    {
     "name": "stdout",
     "output_type": "stream",
     "text": [
      "[WinError 2] The system cannot find the file specified: 'salt_oil'\n",
      "C:\\work\\code\\repos\\salt_oil\n"
     ]
    }
   ],
   "source": [
    "cd salt_oil"
   ]
  },
  {
   "cell_type": "markdown",
   "metadata": {
    "colab_type": "text",
    "id": "UVnBJygnW5gK"
   },
   "source": [
    "## Import required libs"
   ]
  },
  {
   "cell_type": "code",
   "execution_count": 3,
   "metadata": {
    "colab": {},
    "colab_type": "code",
    "id": "x1VSamfH3Kk6"
   },
   "outputs": [],
   "source": [
    "import zipfile\n",
    "import torch\n",
    "import torchvision\n",
    "import torch.nn as nn\n",
    "import torch.nn.functional as F\n",
    "from torch.utils import data\n",
    "from torch.utils.data import Dataset, DataLoader\n",
    "from torchvision import transforms, utils\n",
    "from skimage import io, transform\n",
    "from sklearn.model_selection import train_test_split\n",
    "import numpy as np\n",
    "import pandas as pd\n",
    "import matplotlib.pyplot as ply\n",
    "import os\n",
    "import imageio\n",
    "from PIL import Image\n",
    "import glob\n",
    "import matplotlib.pyplot as plt\n",
    "import time\n",
    "import math\n",
    "import datetime as dt\n",
    "import pytz\n",
    "import pickle\n",
    "from salt_func_lib import *\n",
    "from torchvision import transforms, utils\n",
    "from skimage import io, transform\n",
    "import datetime as dt\n",
    "import sys\n",
    "from optparse import OptionParser\n",
    "import torch.backends.cudnn as cudnn\n",
    "from torch import optim\n",
    "from torch.optim import lr_scheduler\n",
    "import copy\n",
    "from io import BytesIO\n",
    "import Augmentor\n",
    "from Augmentor.Operations import *\n",
    "from Augmentor import *\n",
    "import random\n",
    "import PIL\n",
    "import cv2 as cv\n",
    "% matplotlib inline\n",
    "% load_ext autoreload\n",
    "% autoreload 2"
   ]
  },
  {
   "cell_type": "markdown",
   "metadata": {
    "colab_type": "text",
    "id": "I87qLhAOW5gO"
   },
   "source": [
    "## Load Unet Modules"
   ]
  },
  {
   "cell_type": "code",
   "execution_count": 4,
   "metadata": {
    "colab": {},
    "colab_type": "code",
    "id": "eC32auGDqVZi"
   },
   "outputs": [],
   "source": [
    "from pytorch_unet.eval import eval_net\n",
    "from pytorch_unet.unet import UNet\n",
    "from pytorch_unet.unet.unet_parts import *\n",
    "from pytorch_unet.unet.resnet_v8 import *\n",
    "from pytorch_unet.utils import get_ids, split_ids, split_train_val, get_imgs_and_masks, batch"
   ]
  },
  {
   "cell_type": "code",
   "execution_count": 5,
   "metadata": {
    "colab": {},
    "colab_type": "code",
    "id": "6O8Wz9H_iTDE"
   },
   "outputs": [],
   "source": [
    "## Setup data type based on whether GPU is enabled"
   ]
  },
  {
   "cell_type": "code",
   "execution_count": 6,
   "metadata": {
    "colab": {},
    "colab_type": "code",
    "id": "QKYhIfCtEk6C"
   },
   "outputs": [],
   "source": [
    "if torch.cuda.is_available():\n",
    "    dtype = torch.cuda.FloatTensor ## UNCOMMENT THIS LINE IF YOU'RE ON A GPU!\n",
    "else:    \n",
    "    dtype = torch.FloatTensor"
   ]
  },
  {
   "cell_type": "code",
   "execution_count": 7,
   "metadata": {
    "colab": {},
    "colab_type": "code",
    "id": "51wk3a_bTtv-"
   },
   "outputs": [
    {
     "name": "stdout",
     "output_type": "stream",
     "text": [
      "Data Type set to: <class 'torch.FloatTensor'>\n"
     ]
    }
   ],
   "source": [
    "print(f'Data Type set to: {dtype}')"
   ]
  },
  {
   "cell_type": "markdown",
   "metadata": {
    "colab_type": "text",
    "id": "30EV6nbKbtyV"
   },
   "source": [
    "## Create Global Variables"
   ]
  },
  {
   "cell_type": "code",
   "execution_count": 8,
   "metadata": {
    "colab": {},
    "colab_type": "code",
    "id": "8zcHyi6AMfDf"
   },
   "outputs": [],
   "source": [
    "def init_global_variables():\n",
    "    \"\"\"initialize global variables such as db connection, logger etc.\"\"\"\n",
    "    global log\n",
    "    log = get_logger('SaltNet')"
   ]
  },
  {
   "cell_type": "code",
   "execution_count": 9,
   "metadata": {
    "colab": {},
    "colab_type": "code",
    "id": "CLILkc8Vbtya"
   },
   "outputs": [],
   "source": [
    "init_global_variables()"
   ]
  },
  {
   "cell_type": "code",
   "execution_count": 10,
   "metadata": {
    "colab": {},
    "colab_type": "code",
    "id": "DNoyvMPbFOF6"
   },
   "outputs": [],
   "source": [
    "def adjust_brightness(img, alpha=None, beta=None):\n",
    "    if alpha is None:\n",
    "        # get a random num from 0.75 to 1.25\n",
    "        alpha = (random.random()/2)+0.75\n",
    "    if beta is None:\n",
    "        # get a random num from -30 to 30\n",
    "        beta = round((random.random()-0.5)*60)\n",
    "    #print(f'a:{alpha}, b:{beta}')\n",
    "    img_new = cv.convertScaleAbs(img, alpha=alpha, beta=beta)\n",
    "    return img_new.reshape(img.shape)"
   ]
  },
  {
   "cell_type": "code",
   "execution_count": 11,
   "metadata": {
    "colab": {},
    "colab_type": "code",
    "id": "KwNexNnZxQ7k"
   },
   "outputs": [],
   "source": [
    "class SaltDataset(Dataset):\n",
    "    \"\"\"Face Landmarks dataset.\"\"\"\n",
    "\n",
    "    def __init__(self, np_img, np_mask, df_depth, mean_img, out_size=101, \n",
    "                 out_ch=1, transform=None, random_brightness=0):\n",
    "        \"\"\"\n",
    "        Args:\n",
    "            data_dir (string): Path to the image files.\n",
    "            train (bool): Load train or test data\n",
    "            transform (callable, optional): Optional transform to be applied\n",
    "                on a sample.\n",
    "        \"\"\"\n",
    "        self.np_img = np_img\n",
    "        self.np_mask = np_mask.clip(0,1)\n",
    "        self.df_depth = df_depth\n",
    "        self.mean_img = mean_img\n",
    "        self.out_size = out_size\n",
    "        self.out_ch = out_ch\n",
    "        self.transform = transform\n",
    "        self.random_brightness = random_brightness\n",
    "\n",
    "    def __len__(self):\n",
    "        return len(self.np_img)\n",
    "\n",
    "    def __getitem__(self, idx):\n",
    "        if isinstance(idx, torch.Tensor):\n",
    "            idx = idx.item()\n",
    "            \n",
    "        X = self.np_img[idx]\n",
    "        #X = X - self.mean_img\n",
    "\n",
    "        if self.np_mask is None:\n",
    "            y = np.zeros((101,101,1))\n",
    "        else:\n",
    "            y = self.np_mask[idx]\n",
    "\n",
    "        if self.transform:\n",
    "            img_in = PIL.Image.fromarray(np.c_[np.tile(X, 2), y*255])\n",
    "            #img_in = PIL.Image.fromarray(np.tile(y, 3)*255)\n",
    "            transformed = np.array(self.transform(img_in))\n",
    "            #X = np.clip(transformed[:,:,0:1]/255, 0., 1.) - self.mean_img\n",
    "            X = transformed[:,:,0:1]\n",
    "            y = np.clip(transformed[:,:,2:3]/255, 0., 1.)\n",
    "            \n",
    "        if self.random_brightness > random.random():            \n",
    "            X = adjust_brightness(X)\n",
    "            X = np.clip(X/255, 0., 1.) - self.mean_img\n",
    "        else:\n",
    "            X = np.clip(X/255, 0., 1.) - self.mean_img            \n",
    "        #from boxx import g\n",
    "        #g()\n",
    "        X = np.moveaxis(X, -1,0)\n",
    "\n",
    "        pad_size = self.out_size - X.shape[2]\n",
    "        pad_first = pad_size//2\n",
    "        pad_last = pad_size - pad_first\n",
    "        X = np.pad(X, [(0, 0),(pad_first, pad_last), (pad_first, pad_last)], mode='reflect')\n",
    "\n",
    "        d = self.df_depth.iloc[idx,0]\n",
    "\n",
    "        X = torch.from_numpy(X).float().type(dtype)\n",
    "        X = X.repeat(self.out_ch,1,1)\n",
    "        y = transform.resize(y, (101, 101), mode='constant', preserve_range=True)\n",
    "        y = torch.from_numpy(y).ge(0.5).float().squeeze().type(dtype)\n",
    "\n",
    "        return (X,y,d,idx)"
   ]
  },
  {
   "cell_type": "code",
   "execution_count": 12,
   "metadata": {
    "colab": {},
    "colab_type": "code",
    "id": "Q0_gBiSvxQ7n"
   },
   "outputs": [],
   "source": [
    "class Pipeline_Salt(Augmentor.Pipeline):\n",
    "    def __init__(self, source_directory=None, output_directory=\"output\", save_format=None):\n",
    "        super(Pipeline_Salt, self).__init__(source_directory, output_directory, save_format)\n",
    "\n",
    "    def torch_transform(self):\n",
    "        def _transform(image):\n",
    "            for operation in self.operations:\n",
    "                r = round(random.uniform(0, 1), 1)\n",
    "                if r <= operation.probability:\n",
    "                    if not isinstance(image, list):\n",
    "                        image = [image]                        \n",
    "                    #print(type(operation))\n",
    "                    #print(np.array(image[0]).shape)                        \n",
    "                    image = operation.perform_operation(image)[0]\n",
    "\n",
    "            return image\n",
    "\n",
    "            \n",
    "        return _transform\n",
    "    \n",
    "    def crop_random_align(self, probability, min_factor, max_factor, mask_diff_pct, resample_filter=\"BICUBIC\"):     \n",
    "        if not 0 < probability <= 1:\n",
    "            raise ValueError(Pipeline._probability_error_text)\n",
    "        elif not (min_factor>0) and (min_factor<=1):\n",
    "            raise ValueError(\"min_factor must be between 0 and 1.\")\n",
    "        elif not (max_factor>0) and (min_factor<=1):\n",
    "            raise ValueError(\"max_factor must be between 0 and 1.\")\n",
    "        elif resample_filter not in Pipeline._legal_filters:\n",
    "            raise ValueError(\"The save_filter argument must be one of %s.\" % Pipeline._legal_filters)\n",
    "        else:\n",
    "            self.add_operation(CropRandomAlign(probability, min_factor, max_factor, mask_diff_pct, resample_filter))\n",
    "            \n",
    "    def resize_random(self, probability, min_factor, max_factor, resample_filter=\"BICUBIC\"):\n",
    "        if not 0 < probability <= 1:\n",
    "            raise ValueError(Pipeline._probability_error_text)\n",
    "        elif resample_filter not in Pipeline._legal_filters:\n",
    "            raise ValueError(\"The save_filter argument must be one of %s.\" % Pipeline._legal_filters)\n",
    "        else:\n",
    "            self.add_operation(ResizeRandom(probability=probability, min_factor=min_factor,\n",
    "                                            max_factor=max_factor, resample_filter=resample_filter))"
   ]
  },
  {
   "cell_type": "code",
   "execution_count": 13,
   "metadata": {
    "colab": {},
    "colab_type": "code",
    "id": "rZ_h79Pusl6e"
   },
   "outputs": [],
   "source": [
    "class ResizeRandom(Operation):\n",
    "    \"\"\"\n",
    "    This class is used to resize an image by a random factor between min_factor and max_factor.\n",
    "    \"\"\"\n",
    "    def __init__(self, probability, min_factor, max_factor, resample_filter=\"BICUBIC\"):\n",
    "        Operation.__init__(self, probability)\n",
    "        self.min_factor = min_factor\n",
    "        self.max_factor = max_factor\n",
    "        self.resample_filter = resample_filter\n",
    "\n",
    "    def perform_operation(self, images):\n",
    "        \"\"\"\n",
    "        Resize the passed image and returns the resized image. Uses the\n",
    "        parameters passed to the constructor to resize the passed image.\n",
    "\n",
    "        :param images: The image to resize.\n",
    "        :type images: List containing PIL.Image object(s).\n",
    "        :return: The transformed image(s) as a list of object(s) of type\n",
    "         PIL.Image.\n",
    "        \"\"\"\n",
    "\n",
    "        def do(image):\n",
    "            width, height = image.size\n",
    "            resize_factor = random.randrange(round(self.min_factor*100), round(self.max_factor*100), 1)/100\n",
    "            width = round(width*resize_factor) \n",
    "            height = round(height*resize_factor) \n",
    "            print(f'New Width: {width}, New Height: {height}')\n",
    "            return image.resize((width, height), eval(\"Image.%s\" % self.resample_filter))\n",
    "\n",
    "        augmented_images = []\n",
    "\n",
    "        for image in images:\n",
    "            augmented_images.append(do(image))\n",
    "\n",
    "        return augmented_images"
   ]
  },
  {
   "cell_type": "code",
   "execution_count": 14,
   "metadata": {
    "colab": {},
    "colab_type": "code",
    "id": "SUgnV0wpsl6g"
   },
   "outputs": [],
   "source": [
    "class CropRandomAlign(Operation):\n",
    "    \"\"\"\n",
    "    This class is used to crop images a random factor between min_factor and max_factor and resize it to its original size.\n",
    "    \"\"\"\n",
    "    def __init__(self, probability, min_factor, max_factor, mask_diff_pct, resample_filter=\"BICUBIC\"):\n",
    "        Operation.__init__(self, probability)\n",
    "        self.min_factor = min_factor\n",
    "        self.max_factor = max_factor\n",
    "        self.mask_diff_pct = mask_diff_pct\n",
    "        self.resample_filter = resample_filter\n",
    "\n",
    "    def perform_operation(self, images):\n",
    "        \"\"\"\n",
    "        Crop the passed :attr:`images` by percentage area, returning the crop as an\n",
    "        image.\n",
    "\n",
    "        :param images: The image(s) to crop an area from.\n",
    "        :type images: List containing PIL.Image object(s).\n",
    "        :return: The transformed image(s) as a list of object(s) of type\n",
    "         PIL.Image.\n",
    "        \"\"\"\n",
    "\n",
    "        resize_factor = random.randrange(round(self.min_factor*100), round(self.max_factor*100), 1)/100\n",
    "\n",
    "        # The images must be of identical size, which is checked by Pipeline.ground_truth().\n",
    "        w, h = images[0].size\n",
    "\n",
    "        w_new = int(floor(w * resize_factor))  # TODO: Floor might return 0, so we need to check this.\n",
    "        h_new = int(floor(h * resize_factor))\n",
    "\n",
    "        def do(image, w, h):\n",
    "            img_np = np.array(image)\n",
    "            mask_in = img_np[:,:,2]\n",
    "            mask_in_pct = (mask_in>0).sum()/mask_in.size\n",
    "            img_out_candidate = None\n",
    "            lowest_diff = 1\n",
    "            for i in range(20):  \n",
    "                left_shift = random.randint(0, int((w - w_new)))\n",
    "                down_shift = random.randint(0, int((h - h_new)))\n",
    "                img_out = image.crop((left_shift, down_shift, w_new + left_shift, h_new + down_shift))\n",
    "                mask_out = np.array(img_out)[:,:,2]\n",
    "                mask_out_pct = (mask_out>0).sum()/mask_out.size\n",
    "                #print(f'mask_in_pct:{mask_in_pct}, mask_out_pct:{mask_out_pct}')\n",
    "                if (mask_in_pct==0) or (abs((mask_out_pct/mask_in_pct)-1) <= self.mask_diff_pct):                    \n",
    "                    img_out_candidate = img_out\n",
    "                    break\n",
    "                if (abs((mask_out_pct/mask_in_pct)-1)) <= lowest_diff:\n",
    "                    lowest_diff = abs((mask_out_pct/mask_in_pct)-1)\n",
    "                    img_out_candidate = img_out\n",
    "            if img_out_candidate is None:\n",
    "                img_out_candidate = image\n",
    "                print('Failed to crop image to fit requirements. Use orignal image.')\n",
    "            #print(f'Image Size after crop:{img_out_candidate.size}')\n",
    "            mask_out = np.array(img_out_candidate)[:,:,2]\n",
    "            #print(f'image mask pct:{(mask_out>0).sum()/mask_out.size}')\n",
    "            img_out_final = img_out_candidate.resize((w, h), eval(\"Image.%s\" % self.resample_filter))\n",
    "            #print(f'Image Size after resize:{img_out_final.size}')            \n",
    "            \n",
    "            return img_out_final\n",
    "            \n",
    "        augmented_images = []\n",
    "\n",
    "        for image in images:\n",
    "            augmented_images.append(do(image, w, h))\n",
    "\n",
    "        return augmented_images"
   ]
  },
  {
   "cell_type": "code",
   "execution_count": 15,
   "metadata": {
    "colab": {},
    "colab_type": "code",
    "id": "v5Xa50QZsl6j"
   },
   "outputs": [
    {
     "data": {
      "text/plain": [
       "\"p = Pipeline_Salt()\\n\\np.crop_random_align(1, 0.3, 0.5, 0.01)\\n\\np.resize_random(probability=1,min_factor=1.1, max_factor=2.5, resample_filter='BILINEAR')\\n\\nimg = np.c_[np.tile(X_train[1507], 2), y_train[1507]]\\n\\nplt.imshow(img[:,:,2], cmap='gray')\\n\\nimg_in = PIL.Image.fromarray(img)\\ntsfm = p.torch_transform()\\nimg_out = tsfm(img_in)\\n\\nnp.array(img_out).shape\\n\\nplt.imshow(np.array(img_out)[:,:,2], cmap='gray')\""
      ]
     },
     "execution_count": 15,
     "metadata": {},
     "output_type": "execute_result"
    }
   ],
   "source": [
    "'''p = Pipeline_Salt()\n",
    "\n",
    "p.crop_random_align(1, 0.3, 0.5, 0.01)\n",
    "\n",
    "p.resize_random(probability=1,min_factor=1.1, max_factor=2.5, resample_filter='BILINEAR')\n",
    "\n",
    "img = np.c_[np.tile(X_train[1507], 2), y_train[1507]]\n",
    "\n",
    "plt.imshow(img[:,:,2], cmap='gray')\n",
    "\n",
    "img_in = PIL.Image.fromarray(img)\n",
    "tsfm = p.torch_transform()\n",
    "img_out = tsfm(img_in)\n",
    "\n",
    "np.array(img_out).shape\n",
    "\n",
    "plt.imshow(np.array(img_out)[:,:,2], cmap='gray')'''"
   ]
  },
  {
   "cell_type": "markdown",
   "metadata": {
    "colab_type": "text",
    "id": "aEXPdEFd3KmA"
   },
   "source": [
    "## Prepare Data"
   ]
  },
  {
   "cell_type": "markdown",
   "metadata": {
    "colab_type": "text",
    "id": "53yVOPsQ3KmB"
   },
   "source": [
    "### Load train and test data from npy files or from raw images if npy files not exist."
   ]
  },
  {
   "cell_type": "code",
   "execution_count": 16,
   "metadata": {
    "colab": {},
    "colab_type": "code",
    "id": "wO1kf6HW3KmC"
   },
   "outputs": [
    {
     "name": "stdout",
     "output_type": "stream",
     "text": [
      "Try loading data from npy and pickle files...\n",
      "Data loaded.\n"
     ]
    }
   ],
   "source": [
    "np_train_all, np_train_all_mask, X_test, misc_data = load_all_data()"
   ]
  },
  {
   "cell_type": "code",
   "execution_count": 36,
   "metadata": {},
   "outputs": [],
   "source": [
    "img_all = np.r_[np_train_all, X_test]"
   ]
  },
  {
   "cell_type": "code",
   "execution_count": 17,
   "metadata": {},
   "outputs": [],
   "source": [
    "img_id = '9e9ce2e1ce'"
   ]
  },
  {
   "cell_type": "code",
   "execution_count": 19,
   "metadata": {},
   "outputs": [
    {
     "data": {
      "text/plain": [
       "2477"
      ]
     },
     "execution_count": 19,
     "metadata": {},
     "output_type": "execute_result"
    }
   ],
   "source": [
    "misc_data['np_train_all_ids'].index(img_id)"
   ]
  },
  {
   "cell_type": "code",
   "execution_count": 47,
   "metadata": {},
   "outputs": [
    {
     "data": {
      "text/plain": [
       "11857"
      ]
     },
     "execution_count": 47,
     "metadata": {},
     "output_type": "execute_result"
    }
   ],
   "source": [
    "misc_data['np_test_ids'].index('a7ec866668')"
   ]
  },
  {
   "cell_type": "code",
   "execution_count": 52,
   "metadata": {},
   "outputs": [
    {
     "data": {
      "text/plain": [
       "array([104, 126, 136, 126, 110, 112, 138, 165, 171, 145, 109,  89,  86,\n",
       "        83,  80,  83,  96, 115, 144, 172, 193, 212, 212, 191, 165, 129,\n",
       "        95,  65,  42,  36,  43,  60,  81,  94, 106, 110, 105,  93,  94,\n",
       "       115, 126, 114,  92,  91, 121, 154, 169, 167, 159, 150, 143, 129,\n",
       "       116, 112, 107, 101, 109, 134, 155, 152, 130, 125, 122, 123, 133,\n",
       "       153, 171, 178, 171, 160, 154, 150, 132, 111, 105, 120, 144, 169,\n",
       "       175, 162, 151, 145, 144, 143, 146, 151, 152, 152, 154, 163, 169,\n",
       "       155, 125,  98,  80,  68,  73,  82, 103, 125, 139], dtype=uint8)"
      ]
     },
     "execution_count": 52,
     "metadata": {},
     "output_type": "execute_result"
    }
   ],
   "source": [
    "X_test[11857][:,0].squeeze()"
   ]
  },
  {
   "cell_type": "code",
   "execution_count": 53,
   "metadata": {},
   "outputs": [
    {
     "data": {
      "text/plain": [
       "array([105, 121, 127, 121, 119, 140, 171, 185, 180, 162, 136, 111,  98,\n",
       "        92,  89,  93, 103, 126, 156, 178, 191, 198, 192, 180, 161, 137,\n",
       "       110,  81,  62,  62,  71,  81,  96, 102, 109, 116, 113, 107, 107,\n",
       "       112, 109, 105,  97, 102, 125, 155, 168, 159, 153, 148, 146, 147,\n",
       "       143, 131, 122, 121, 127, 135, 149, 151, 142, 135, 131, 133, 142,\n",
       "       153, 167, 175, 170, 159, 147, 132, 115, 107, 111, 123, 137, 151,\n",
       "       158, 161, 157, 156, 153, 156, 160, 167, 168, 159, 150, 141, 132,\n",
       "       123, 110,  96,  89,  87,  93, 101, 115, 131, 142], dtype=uint8)"
      ]
     },
     "execution_count": 53,
     "metadata": {},
     "output_type": "execute_result"
    }
   ],
   "source": [
    "img[:,-1].squeeze()"
   ]
  },
  {
   "cell_type": "code",
   "execution_count": 63,
   "metadata": {},
   "outputs": [
    {
     "data": {
      "text/plain": [
       "4.861386138613861"
      ]
     },
     "execution_count": 63,
     "metadata": {},
     "output_type": "execute_result"
    }
   ],
   "source": [
    "(img[:,-1].squeeze().astype(float) - X_test[11857][:,0].squeeze()).mean()"
   ]
  },
  {
   "cell_type": "code",
   "execution_count": 49,
   "metadata": {},
   "outputs": [
    {
     "data": {
      "text/plain": [
       "<matplotlib.image.AxesImage at 0x24d8d66fb00>"
      ]
     },
     "execution_count": 49,
     "metadata": {},
     "output_type": "execute_result"
    },
    {
     "data": {
      "image/png": "[encoded data removed]",
      "text/plain": [
       "<matplotlib.figure.Figure at 0x24de257a978>"
      ]
     },
     "metadata": {},
     "output_type": "display_data"
    }
   ],
   "source": [
    "plt.imshow(X_test[11857].squeeze(), cmap='gray')"
   ]
  },
  {
   "cell_type": "code",
   "execution_count": 23,
   "metadata": {},
   "outputs": [],
   "source": [
    "img = np_train_all[2477]"
   ]
  },
  {
   "cell_type": "code",
   "execution_count": 22,
   "metadata": {},
   "outputs": [
    {
     "data": {
      "text/plain": [
       "<matplotlib.image.AxesImage at 0x24de2484da0>"
      ]
     },
     "execution_count": 22,
     "metadata": {},
     "output_type": "execute_result"
    },
    {
     "data": {
      "image/png": "[encoded data removed]",
      "text/plain": [
       "<matplotlib.figure.Figure at 0x24dcdfbeb38>"
      ]
     },
     "metadata": {},
     "output_type": "display_data"
    }
   ],
   "source": [
    "plt.imshow(np_train_all[2477].squeeze(), cmap='gray')"
   ]
  },
  {
   "cell_type": "code",
   "execution_count": 71,
   "metadata": {},
   "outputs": [
    {
     "data": {
      "text/plain": [
       "(22000, 101, 1)"
      ]
     },
     "execution_count": 71,
     "metadata": {},
     "output_type": "execute_result"
    }
   ],
   "source": [
    "img_all[:,:,0,:].astype(float).shape"
   ]
  },
  {
   "cell_type": "code",
   "execution_count": 72,
   "metadata": {},
   "outputs": [],
   "source": [
    "right = img[:,-1,:].reshape(1,101,1).astype(float) - img_all[:,:,0,:]"
   ]
  },
  {
   "cell_type": "code",
   "execution_count": 109,
   "metadata": {},
   "outputs": [],
   "source": [
    "img_all = img_all.astype(float)"
   ]
  },
  {
   "cell_type": "code",
   "execution_count": 117,
   "metadata": {},
   "outputs": [],
   "source": [
    "img_all_first_col = img_all[:,:,0:1,:]"
   ]
  },
  {
   "cell_type": "code",
   "execution_count": 118,
   "metadata": {},
   "outputs": [
    {
     "data": {
      "text/plain": [
       "(22000, 101, 1, 1)"
      ]
     },
     "execution_count": 118,
     "metadata": {},
     "output_type": "execute_result"
    }
   ],
   "source": [
    "img_all_first_col.shape"
   ]
  },
  {
   "cell_type": "code",
   "execution_count": 115,
   "metadata": {},
   "outputs": [],
   "source": [
    "img_all_last_col = img_all[:,:,100:101,:]"
   ]
  },
  {
   "cell_type": "code",
   "execution_count": 116,
   "metadata": {},
   "outputs": [
    {
     "data": {
      "text/plain": [
       "(22000, 101, 1, 1)"
      ]
     },
     "execution_count": 116,
     "metadata": {},
     "output_type": "execute_result"
    }
   ],
   "source": [
    "img_all_last_col.shape"
   ]
  },
  {
   "cell_type": "code",
   "execution_count": 122,
   "metadata": {},
   "outputs": [
    {
     "data": {
      "text/plain": [
       "(22000, 101, 1, 1)"
      ]
     },
     "execution_count": 122,
     "metadata": {},
     "output_type": "execute_result"
    }
   ],
   "source": [
    "(img_all_last_col[0] - img_all_first_col).shape"
   ]
  },
  {
   "cell_type": "code",
   "execution_count": 125,
   "metadata": {},
   "outputs": [],
   "source": [
    "right_edge = [np.argsort(np.abs((i - img_all_first_col).std(1)).squeeze())[:5] for i in img_all_last_col]"
   ]
  },
  {
   "cell_type": "code",
   "execution_count": 127,
   "metadata": {},
   "outputs": [
    {
     "data": {
      "text/plain": [
       "(22000, 5)"
      ]
     },
     "execution_count": 127,
     "metadata": {},
     "output_type": "execute_result"
    }
   ],
   "source": [
    "np.r_[right_edge].shape"
   ]
  },
  {
   "cell_type": "code",
   "execution_count": 108,
   "metadata": {},
   "outputs": [
    {
     "data": {
      "text/plain": [
       "22.23096185797793"
      ]
     },
     "execution_count": 108,
     "metadata": {},
     "output_type": "execute_result"
    }
   ],
   "source": [
    "np.abs(right.std(1)).squeeze()[3956]"
   ]
  },
  {
   "cell_type": "code",
   "execution_count": 83,
   "metadata": {},
   "outputs": [
    {
     "data": {
      "text/plain": [
       "0.0"
      ]
     },
     "execution_count": 83,
     "metadata": {},
     "output_type": "execute_result"
    }
   ],
   "source": [
    "np.abs(right.mean(1)).squeeze()[2149]"
   ]
  },
  {
   "cell_type": "code",
   "execution_count": 110,
   "metadata": {},
   "outputs": [
    {
     "data": {
      "text/plain": [
       "array([15857,  3956, 14657, 20469, 21378], dtype=int64)"
      ]
     },
     "execution_count": 110,
     "metadata": {},
     "output_type": "execute_result"
    }
   ],
   "source": [
    "np.argsort(np.abs(right.std(1)).squeeze())[:5]"
   ]
  },
  {
   "cell_type": "code",
   "execution_count": 106,
   "metadata": {},
   "outputs": [
    {
     "data": {
      "text/plain": [
       "<matplotlib.image.AxesImage at 0x24d8fbe3d30>"
      ]
     },
     "execution_count": 106,
     "metadata": {},
     "output_type": "execute_result"
    },
    {
     "data": {
      "image/png": "[encoded data removed]",
      "text/plain": [
       "<matplotlib.figure.Figure at 0x24d8fb8bb00>"
      ]
     },
     "metadata": {},
     "output_type": "display_data"
    }
   ],
   "source": [
    "plt.imshow(img_all[3956].squeeze(), cmap='gray')"
   ]
  },
  {
   "cell_type": "code",
   "execution_count": 57,
   "metadata": {},
   "outputs": [
    {
     "data": {
      "text/plain": [
       "<matplotlib.image.AxesImage at 0x24d8d6d58d0>"
      ]
     },
     "execution_count": 57,
     "metadata": {},
     "output_type": "execute_result"
    },
    {
     "data": {
      "image/png": "[encoded data removed]",
      "text/plain": [
       "<matplotlib.figure.Figure at 0x24d8d64ec50>"
      ]
     },
     "metadata": {},
     "output_type": "display_data"
    }
   ],
   "source": [
    "plt.imshow(img_all[21906].squeeze(), cmap='gray')"
   ]
  },
  {
   "cell_type": "code",
   "execution_count": 46,
   "metadata": {},
   "outputs": [
    {
     "data": {
      "text/plain": [
       "array([ 41,  48,  50,  48,  54,  81, 115, 127, 120, 102,  74,  47,  34,\n",
       "        36,  42,  49,  47,  39,  36,  41,  51,  63,  67,  71,  72,  68,\n",
       "        58,  35,  14,  10,  15,  22,  36,  42,  49,  56,  53,  47,  45,\n",
       "        50,  46,  42,  33,  38,  61,  92, 105,  95,  89,  84,  82,  82,\n",
       "        78,  66,  57,  56,  62,  70,  82,  84,  74,  67,  63,  65,  74,\n",
       "        84,  98, 106, 101,  90,  78,  62,  45,  36,  40,  52,  65,  79,\n",
       "        86,  88,  84,  83,  80,  83,  87,  94,  95,  86,  77,  68,  59,\n",
       "        50,  38,  24,  18,  16,  23,  31,  46,  62,  74], dtype=uint8)"
      ]
     },
     "execution_count": 46,
     "metadata": {},
     "output_type": "execute_result"
    }
   ],
   "source": [
    "right[1492]"
   ]
  },
  {
   "cell_type": "code",
   "execution_count": 25,
   "metadata": {},
   "outputs": [
    {
     "data": {
      "text/plain": [
       "(4000, 101, 101, 1)"
      ]
     },
     "execution_count": 25,
     "metadata": {},
     "output_type": "execute_result"
    }
   ],
   "source": [
    "np_train_all.shape"
   ]
  },
  {
   "cell_type": "code",
   "execution_count": 29,
   "metadata": {},
   "outputs": [
    {
     "data": {
      "text/plain": [
       "(4000, 101, 1)"
      ]
     },
     "execution_count": 29,
     "metadata": {},
     "output_type": "execute_result"
    }
   ],
   "source": [
    "np_train_all[:,:,0,:].shape"
   ]
  },
  {
   "cell_type": "code",
   "execution_count": 26,
   "metadata": {},
   "outputs": [
    {
     "data": {
      "text/plain": [
       "(4000, 101, 101, 1)"
      ]
     },
     "execution_count": 26,
     "metadata": {},
     "output_type": "execute_result"
    }
   ],
   "source": [
    "(np_train_all - img.reshape(1,101,101,1))"
   ]
  },
  {
   "cell_type": "markdown",
   "metadata": {
    "colab_type": "text",
    "id": "fUAORGGdEgJx"
   },
   "source": [
    "### Calculate number of mask pixels per image"
   ]
  },
  {
   "cell_type": "code",
   "execution_count": null,
   "metadata": {
    "colab": {},
    "colab_type": "code",
    "id": "Hyt5JXyrEgKB"
   },
   "outputs": [],
   "source": [
    "df_train_mask = pd.DataFrame((np_train_all_mask/255).sum((1,2,3)), columns=['mask_pix'])\n",
    "\n",
    "df_train_mask.mask_pix = df_train_mask.mask_pix.round(-2)\n",
    "\n",
    "mask_pix_bins = df_train_mask.mask_pix.sort_values().unique()\n",
    "# Due to zooming and crop, under-sample all black and all white masks, over-sample images with small mask areas.\n",
    "mask_pix_bin_weights = ([1.] + np.r_[2:1:102j].tolist() + [0.2])\n",
    "mask_pix_bin_weights = dict(zip(mask_pix_bins, mask_pix_bin_weights))\n",
    "\n",
    "train_all_sample_weight = df_train_mask.mask_pix.map(mask_pix_bin_weights)"
   ]
  },
  {
   "cell_type": "code",
   "execution_count": null,
   "metadata": {
    "colab": {},
    "colab_type": "code",
    "id": "lq_sH6YeEgKG"
   },
   "outputs": [],
   "source": [
    "#np.log10(df_train_mask.mask_pix.div(100).add(10))"
   ]
  },
  {
   "cell_type": "markdown",
   "metadata": {
    "colab_type": "text",
    "id": "BTkpzBqmGRN2"
   },
   "source": [
    "### Remove black images"
   ]
  },
  {
   "cell_type": "code",
   "execution_count": null,
   "metadata": {
    "colab": {},
    "colab_type": "code",
    "id": "8BXkNsiZGRN3"
   },
   "outputs": [],
   "source": [
    "#black_img_ids = (np_train_all.max((1,2,3))==0)\n",
    "\n",
    "#np_train_all = np_train_all[~black_img_ids]\n",
    "#np_train_all_mask = np_train_all_mask[~black_img_ids]"
   ]
  },
  {
   "cell_type": "code",
   "execution_count": null,
   "metadata": {
    "colab": {},
    "colab_type": "code",
    "id": "obPeKNjDGRN6"
   },
   "outputs": [],
   "source": [
    "np_train_all.shape"
   ]
  },
  {
   "cell_type": "markdown",
   "metadata": {
    "colab_type": "text",
    "id": "DZqPs7VnYd56"
   },
   "source": [
    "### Remove images with all black masks"
   ]
  },
  {
   "cell_type": "code",
   "execution_count": null,
   "metadata": {
    "colab": {},
    "colab_type": "code",
    "id": "lzqSzGzEYd5-"
   },
   "outputs": [],
   "source": [
    "#black_mask_ids = (np_train_all_mask.max((1,2,3))==0)\n",
    "#np_train_all = np_train_all[~black_mask_ids]\n",
    "#np_train_all_mask = np_train_all_mask[~black_mask_ids]"
   ]
  },
  {
   "cell_type": "markdown",
   "metadata": {
    "colab_type": "text",
    "id": "DNIS7zT23KmI"
   },
   "source": [
    "### Train Val data split"
   ]
  },
  {
   "cell_type": "code",
   "execution_count": null,
   "metadata": {
    "colab": {},
    "colab_type": "code",
    "id": "Q8HLh-bNQmNz"
   },
   "outputs": [],
   "source": [
    "#np_train_all = np.clip(np_train_all/255, 0, 1)\n",
    "#X_test = np.clip(X_test/255, 0, 1)"
   ]
  },
  {
   "cell_type": "code",
   "execution_count": null,
   "metadata": {
    "colab": {},
    "colab_type": "code",
    "id": "XqYjA-Ud3KmI"
   },
   "outputs": [],
   "source": [
    "X_train_ids, X_val_ids = (\n",
    "    train_test_split(df_train_mask.index.tolist(), \n",
    "                     test_size=0.20,\n",
    "                     stratify = df_train_mask.mask_pix,\n",
    "                     random_state=0)\n",
    ")"
   ]
  },
  {
   "cell_type": "code",
   "execution_count": null,
   "metadata": {
    "colab": {},
    "colab_type": "code",
    "id": "GAWRi1bLpyM_"
   },
   "outputs": [],
   "source": [
    "with open('./data/df_train_img_iou.pickle', 'rb') as f:\n",
    "    df_train_img_iou = pickle.load(f)\n",
    "\n",
    "train_hard_img_id= (\n",
    "    [misc_data['np_train_all_ids'].index(e) for e in df_train_img_iou.loc[df_train_img_iou.type=='HARD'].id]\n",
    ")\n",
    "\n",
    "#X_train_ids = np.setdiff1d(X_train_ids, train_hard_img_id)"
   ]
  },
  {
   "cell_type": "code",
   "execution_count": null,
   "metadata": {
    "colab": {},
    "colab_type": "code",
    "id": "GEqXO7GM3KmN"
   },
   "outputs": [],
   "source": [
    "X_train = np_train_all[X_train_ids]\n",
    "X_val = np_train_all[X_val_ids]\n",
    "y_train = np_train_all_mask[X_train_ids]\n",
    "y_val = np_train_all_mask[X_val_ids]\n",
    "depth_train = (\n",
    "    misc_data['df_train_all_depth']\n",
    "    .reindex(np.array(misc_data['np_train_all_ids'])[X_train_ids])\n",
    ")\n",
    "depth_val = (\n",
    "    misc_data['df_train_all_depth']\n",
    "    .reindex(np.array(misc_data['np_train_all_ids'])[X_val_ids])\n",
    ")\n",
    "depth_test = (\n",
    "    misc_data['df_train_all_depth']\n",
    "    .reindex(np.array(misc_data['np_test_ids']))\n",
    ")\n",
    "#X_train_mean_img = X_train.mean(0).astype(np.float32)\n",
    "#X_train_mean_img = X_train.mean((0,1,2)).astype(np.float32)\n",
    "X_train_mean_img = np.clip(np_train_all/255, 0, 1).mean((0,1,2)).astype(np.float32)\n",
    "\n",
    "all_data = {\n",
    "    'X_train': X_train,\n",
    "    'X_val': X_val,\n",
    "    'y_train': y_train,\n",
    "    'y_val': y_val,\n",
    "    'X_test': X_test,\n",
    "    'X_train_mean_img': np.zeros_like(X_train_mean_img)\n",
    "}"
   ]
  },
  {
   "cell_type": "code",
   "execution_count": null,
   "metadata": {
    "colab": {},
    "colab_type": "code",
    "id": "X6BSSFObEgKl"
   },
   "outputs": [],
   "source": [
    "train_sample_weight = train_all_sample_weight[X_train_ids]"
   ]
  },
  {
   "cell_type": "code",
   "execution_count": null,
   "metadata": {
    "colab": {},
    "colab_type": "code",
    "id": "3ZVs5X-EpyNS"
   },
   "outputs": [],
   "source": []
  },
  {
   "cell_type": "code",
   "execution_count": null,
   "metadata": {
    "colab": {},
    "colab_type": "code",
    "id": "-dw2YwtbSmHp"
   },
   "outputs": [],
   "source": [
    "X_train_mean_img = np.zeros_like(X_train_mean_img)"
   ]
  },
  {
   "cell_type": "code",
   "execution_count": null,
   "metadata": {
    "colab": {},
    "colab_type": "code",
    "id": "5cc6IFsXVU3j"
   },
   "outputs": [],
   "source": [
    "X_train_mean_img"
   ]
  },
  {
   "cell_type": "code",
   "execution_count": null,
   "metadata": {
    "colab": {},
    "colab_type": "code",
    "id": "2L51fSDkpyNV"
   },
   "outputs": [],
   "source": [
    "X_train.shape"
   ]
  },
  {
   "cell_type": "code",
   "execution_count": null,
   "metadata": {
    "colab": {},
    "colab_type": "code",
    "id": "zl5Q4dsOpyNa"
   },
   "outputs": [],
   "source": [
    "y_train.shape"
   ]
  },
  {
   "cell_type": "code",
   "execution_count": null,
   "metadata": {
    "colab": {},
    "colab_type": "code",
    "id": "koLKXAYPpyNd"
   },
   "outputs": [],
   "source": [
    "depth_train.shape"
   ]
  },
  {
   "cell_type": "code",
   "execution_count": null,
   "metadata": {
    "colab": {},
    "colab_type": "code",
    "id": "MfYxl3YIR9LG"
   },
   "outputs": [],
   "source": [
    "'''p = Pipeline_Salt(min_mask_ratio=0.9)\n",
    "p.crop_random(probability=1, percentage_area=0.8, randomise_percentage_area=False)\n",
    "p.resize(probability=1, width=101, height=101, resample_filter='BILINEAR')\n",
    "img = np.c_[np.tile(X_train[469], 2), y_train[469]]\n",
    "img_in = PIL.Image.fromarray(img)\n",
    "tsfm = p.torch_transform()\n",
    "img_out = tsfm(img_in)'''"
   ]
  },
  {
   "cell_type": "code",
   "execution_count": null,
   "metadata": {
    "colab": {},
    "colab_type": "code",
    "id": "0bMOyfebQmON"
   },
   "outputs": [],
   "source": [
    "p = Pipeline_Salt()\n",
    "p.skew(probability=0.5, magnitude=0.2)\n",
    "p.random_distortion(probability=0.5, grid_width=3, grid_height=3, magnitude=3)\n",
    "p.crop_random_align(probability=0.5, min_factor=0.5, max_factor=0.95, mask_diff_pct=0.2)\n",
    "p.rotate(probability=0.5, max_left_rotation=5, max_right_rotation=5)\n",
    "p.shear(probability=0.5, max_shear_left=10, max_shear_right=10)\n",
    "p.flip_left_right(probability=0.5)"
   ]
  },
  {
   "cell_type": "markdown",
   "metadata": {
    "colab_type": "text",
    "id": "8eXIcYoDqVcF"
   },
   "source": [
    "### Create a Train Dataloader"
   ]
  },
  {
   "cell_type": "code",
   "execution_count": null,
   "metadata": {
    "colab": {},
    "colab_type": "code",
    "id": "uYerp5hjW5gu"
   },
   "outputs": [],
   "source": [
    "#weighted_sampler = torch.utils.data.sampler.WeightedRandomSampler(train_sample_weight.values, depth_train.shape[0])\n",
    "\n",
    "train_data_params = {'batch_size': 32,\n",
    "                     #'sampler': weighted_sampler,\n",
    "                     'shuffle': True,\n",
    "                     'drop_last': True}\n",
    "\n",
    "val_data_params = {'batch_size': 32,\n",
    "                   'shuffle': True,\n",
    "                   'drop_last': False}\n",
    "\n",
    "train_dataLoader = (\n",
    "    DataLoader(SaltDataset(X_train, y_train, depth_train,\n",
    "                           X_train_mean_img, out_size=128,  out_ch=1,\n",
    "                           transform=p.torch_transform(), random_brightness=0.5), **train_data_params)\n",
    ")\n",
    "\n",
    "val_dataLoader = (\n",
    "    DataLoader(SaltDataset(X_val, y_val, depth_val, \n",
    "                           X_train_mean_img, out_size=128, out_ch=1), **val_data_params)\n",
    ")\n",
    "\n",
    "dataloaders = {'train': train_dataLoader, 'val':val_dataLoader}\n",
    "\n",
    "sample = iter(dataloaders['train']).__next__()\n",
    "\n",
    "assert sample[0].shape == torch.Size([train_data_params['batch_size'], 1, 128, 128])\n",
    "assert sample[1].shape == torch.Size([train_data_params['batch_size'], 101, 101])\n",
    "assert sample[2].shape == torch.Size([train_data_params['batch_size']])\n",
    "assert sample[3].shape == torch.Size([train_data_params['batch_size']])"
   ]
  },
  {
   "cell_type": "code",
   "execution_count": null,
   "metadata": {
    "colab": {},
    "colab_type": "code",
    "id": "iHZ6rNjxFOIB"
   },
   "outputs": [],
   "source": [
    "t = iter(train_dataLoader).__next__()"
   ]
  },
  {
   "cell_type": "code",
   "execution_count": null,
   "metadata": {
    "colab": {},
    "colab_type": "code",
    "id": "Fgi872V02Fsz"
   },
   "outputs": [],
   "source": [
    "X_batch, y_batch, d_batch, X_id = t"
   ]
  },
  {
   "cell_type": "code",
   "execution_count": null,
   "metadata": {
    "colab": {},
    "colab_type": "code",
    "id": "dp1YZ7D5QmOg"
   },
   "outputs": [],
   "source": [
    "i = 0\n",
    "for X_batch, y_batch, d_batch, X_id in dataloaders['train']:\n",
    "    i+=1\n",
    "    if i>30:\n",
    "        break\n",
    "    X_orig = X_train[X_id[0]].squeeze()/255\n",
    "    X_tsfm = X_batch[0,0].squeeze().cpu().detach().numpy()[13:114,13:114] + X_train_mean_img.squeeze()\n",
    "    y_orig = y_train[X_id[0]].squeeze()\n",
    "    y_tsfm = (y_batch[0].squeeze().cpu().detach().numpy())\n",
    "    print(f'{X_orig.sum()}, {X_tsfm.sum()}')\n",
    "    plot_img_mask_pred([X_orig, X_tsfm, y_orig, y_tsfm],\n",
    "                       [f'X Original-{X_id[0]}', 'X Transformed', 'y Original', 'y Transformed'])"
   ]
  },
  {
   "cell_type": "markdown",
   "metadata": {
    "colab_type": "text",
    "id": "qS4kZWQnW5gw"
   },
   "source": [
    "### Create a Train Dataloader for sanity check"
   ]
  },
  {
   "cell_type": "code",
   "execution_count": null,
   "metadata": {
    "colab": {},
    "colab_type": "code",
    "id": "lP-yemq8pyOf"
   },
   "outputs": [],
   "source": [
    "\n",
    "#weighted_sampler = torch.utils.data.sampler.WeightedRandomSampler(depth_train['weight'][:8], 2)#weight \n",
    "#weighted_sampler = torch.utils.data.sampler.WeightedRandomSampler(train_sample_weight.values[:8], 2)\n",
    "train_data_params = {'batch_size': 32, 'shuffle': True,}\n",
    "val_data_params = {'batch_size': 32, 'shuffle': True,}"
   ]
  },
  {
   "cell_type": "code",
   "execution_count": null,
   "metadata": {
    "colab": {},
    "colab_type": "code",
    "id": "VEA7t3xaQmOo"
   },
   "outputs": [],
   "source": [
    "\n",
    "train_dataLoader  = (\n",
    "    DataLoader(SaltDataset(X_train[:32], y_train[:32], depth_train[:32],\n",
    "                           X_train_mean_img, out_size=128, out_ch=1,\n",
    "                           transform=None), **train_data_params)\n",
    "                           #transform=p.torch_transform()), **data_params)\n",
    ")\n",
    "\n",
    "val_dataLoader = (\n",
    "    DataLoader(SaltDataset(X_val[:32], y_val[:32], depth_val[:32], \n",
    "                           X_train_mean_img, out_size=128, out_ch=1), **val_data_params)\n",
    ")\n",
    "\n",
    "dataloaders = {'train': train_dataLoader, 'val':val_dataLoader}\n"
   ]
  },
  {
   "cell_type": "code",
   "execution_count": null,
   "metadata": {
    "colab": {},
    "colab_type": "code",
    "id": "r2hyd9ryGROf"
   },
   "outputs": [],
   "source": [
    "t = iter(train_dataLoader).__next__()"
   ]
  },
  {
   "cell_type": "code",
   "execution_count": null,
   "metadata": {
    "colab": {},
    "colab_type": "code",
    "id": "v34uY0GkGROl"
   },
   "outputs": [],
   "source": [
    "X_batch, y_batch, d_batch, X_id = t"
   ]
  },
  {
   "cell_type": "code",
   "execution_count": null,
   "metadata": {
    "colab": {},
    "colab_type": "code",
    "id": "GjWYq0PnjVlT"
   },
   "outputs": [],
   "source": [
    "X_batch[0].max()"
   ]
  },
  {
   "cell_type": "code",
   "execution_count": null,
   "metadata": {
    "colab": {},
    "colab_type": "code",
    "id": "b3NeHMttxPA8"
   },
   "outputs": [],
   "source": [
    "def log_iter_stats(y_pred, y_batch, X_batch, X_id, train_params, other_data, epoch_losses, epoch, iter_count, start):\n",
    "    #from boxx import g\n",
    "    #g(), \n",
    "    epoch_losses = [round(e.item(),4) for e in torch.stack(epoch_losses).mean(0)]\n",
    "    iou_batch = calc_mean_iou(y_pred.ge(train_params['mask_cutoff']), y_batch)\n",
    "    iou_acc = calc_clf_accuracy(y_pred.ge(train_params['mask_cutoff']), y_batch)\n",
    "\n",
    "    log.info('Losses: {}, Batch IOU: {:.4f}, Batch Acc: {:.4f} at iter {}, epoch {}, Time: {}'.format(\n",
    "            epoch_losses, iou_batch, iou_acc, iter_count, epoch, timeSince(start))\n",
    "    )\n",
    "\n",
    "    X_train = other_data['X_train']\n",
    "    y_train = other_data['y_train']\n",
    "    X_train_mean_img = other_data['X_train_mean_img']\n",
    "    #print(all_losses)\n",
    "    X_orig = X_train[X_id[0]].squeeze()/255\n",
    "    X_tsfm = X_batch[0,0].squeeze().cpu().detach().numpy()\n",
    "    X_tsfm = X_tsfm[13:114,13:114] + X_train_mean_img.squeeze()\n",
    "    y_orig = y_train[X_id[0]].squeeze()\n",
    "    y_tsfm = (y_batch[0].squeeze().cpu().detach().numpy())\n",
    "    y_tsfm_pred =  y_pred[0].squeeze().gt(train_params['mask_cutoff'])\n",
    "    plot_img_mask_pred([X_orig, X_tsfm, y_orig, y_tsfm, y_tsfm_pred],\n",
    "                       ['X Original', 'X Transformed', 'y Original', 'y Transformed', 'y Predicted'])"
   ]
  },
  {
   "cell_type": "code",
   "execution_count": null,
   "metadata": {
    "colab": {},
    "colab_type": "code",
    "id": "7DT72CtdxPA-"
   },
   "outputs": [],
   "source": [
    "def log_epoch_stats(model, y_pred, y_batch, X_batch, X_id, other_data, pred_vs_true_epoch, train_params, phase, epoch, iter_count, best_iou, all_losses, epoch_losses, best_model):    \n",
    "    y_pred_epoch = torch.cat([e[0] for e in pred_vs_true_epoch])\n",
    "    y_true_epoch = torch.cat([e[1] for e in pred_vs_true_epoch])\n",
    "\n",
    "    mean_iou_epoch = calc_mean_iou(y_pred_epoch.ge(train_params['mask_cutoff']), y_true_epoch.float())\n",
    "    mean_acc_epoch = calc_clf_accuracy(y_pred_epoch.ge(train_params['mask_cutoff']), y_true_epoch.float())\n",
    "    mean_loss_epoch = [round(e.item(),4) for e in torch.stack(epoch_losses).mean(0)]\n",
    "\n",
    "    if phase == 'val':        \n",
    "        X_val = other_data['X_val']\n",
    "        y_val = other_data['y_val']\n",
    "        X_orig = X_val[X_id[0]].squeeze()/255\n",
    "        y_orig = y_val[X_id[0]].squeeze()\n",
    "        y_pred2 =  y_pred[0].squeeze().gt(train_params['mask_cutoff'])\n",
    "        plot_img_mask_pred([X_orig, y_orig, y_pred2],\n",
    "                           ['Val X Original', 'Val y Original', 'Val y Predicted'])\n",
    "        if mean_iou_epoch > best_iou:\n",
    "            best_iou = mean_iou_epoch\n",
    "            stats = {'best_iou': best_iou,\n",
    "                   'all_losses': all_losses,\n",
    "                   'iter_count': iter_count}\n",
    "            best_model = (epoch, copy.deepcopy(model.state_dict()),\n",
    "                                              copy.deepcopy(optimizer.state_dict()),\n",
    "                                              copy.deepcopy(scheduler.state_dict()), stats, train_params['model_save_name'], '.')\n",
    "            log.info(save_model_state_to_chunks(*best_model))\n",
    "            log.info('Best Val Mean IOU so far: {}'.format(best_iou))        \n",
    "        log.info('Val   IOU: {:.4f}, Acc: {:.4f}, Best Val IOU: {:.4f} at epoch {}'.format(mean_iou_epoch, mean_acc_epoch, best_iou, epoch))\n",
    "    else:\n",
    "        log.info('Train IOU: {:.4f}, Acc: {:.4f}, Loss: {} at epoch {}'.format(mean_iou_epoch, mean_acc_epoch, mean_loss_epoch, epoch))\n",
    "        X_train = other_data['X_train']\n",
    "        y_train = other_data['y_train']\n",
    "        X_train_mean_img = other_data['X_train_mean_img']\n",
    "        X_orig = X_train[X_id[0]].squeeze()/255\n",
    "        X_tsfm = X_batch[0,0].squeeze().cpu().detach().numpy()\n",
    "        X_tsfm = X_tsfm[13:114,13:114] + X_train_mean_img.squeeze()\n",
    "        y_orig = y_train[X_id[0]].squeeze()\n",
    "        y_tsfm = (y_batch[0].squeeze().cpu().detach().numpy())\n",
    "        y_tsfm_pred =  y_pred[0].squeeze().gt(train_params['mask_cutoff'])\n",
    "        plot_img_mask_pred([X_orig, X_tsfm, y_orig, y_tsfm, y_tsfm_pred],\n",
    "                           ['X Original', 'X Transformed', 'y Original', 'y Transformed', 'y Predicted'])\n",
    "        \n",
    "    return best_iou, best_model"
   ]
  },
  {
   "cell_type": "code",
   "execution_count": null,
   "metadata": {
    "colab": {},
    "colab_type": "code",
    "id": "bfa9Y5hlxPBA"
   },
   "outputs": [],
   "source": [
    "def save_model_to_git(epoch, train_params, num_epochs, prev_best_iou, best_iou, best_model):    \n",
    "    if (epoch % train_params['save_model_every']== 0) | (epoch == num_epochs-1):\n",
    "        if train_params['model_save_name'] is None:\n",
    "            log.info(\"Skip pushing model to git as model_save_name is None.\")\n",
    "        elif (best_model is not None) and (best_iou > prev_best_iou):\n",
    "            log.info(save_model_state_to_chunks(*best_model))\n",
    "            push_model_to_git(ckp_name=train_params['model_save_name'])\n",
    "            prev_best_iou = best_iou\n",
    "        else:\n",
    "            log.info(\"Skip pushing model to git as there's no improvement\")\n",
    "            \n",
    "    return prev_best_iou"
   ]
  },
  {
   "cell_type": "code",
   "execution_count": null,
   "metadata": {
    "colab": {},
    "colab_type": "code",
    "id": "7-pRk5cqxPBE"
   },
   "outputs": [],
   "source": [
    "def calc_loss(y_pred, y_batch, loss_fns, loss_fn_weights):\n",
    "     losses = []\n",
    "     for loss_fn, loss_fn_weight in zip(loss_fns, loss_fn_weights):\n",
    "         loss = loss_fn_weight * loss_fn(y_pred, y_batch)\n",
    "         losses.append(loss)  \n",
    "\n",
    "     return torch.stack(losses + [torch.stack(losses).sum()])"
   ]
  },
  {
   "cell_type": "code",
   "execution_count": null,
   "metadata": {
    "colab": {},
    "colab_type": "code",
    "id": "pGqBDcs3xPBF"
   },
   "outputs": [],
   "source": [
    "def train_model(model, dataloaders, loss_fns, loss_fn_weights, optimizer, scheduler, train_params, other_data):\n",
    "    log.info('Start Training...')    \n",
    "    log.info((dataloaders, loss_fns, loss_fn_weights, optimizer, scheduler, train_params))\n",
    "    num_epochs = train_params['num_epochs']\n",
    "    start = time.time()\n",
    "    if torch.cuda.is_available():\n",
    "        model.cuda()\n",
    "    best_model = None\n",
    "    best_iou = 0.0    \n",
    "    prev_best_iou = train_params['model_save_iou_threshold']\n",
    "    all_losses = []\n",
    "    iter_count = 0\n",
    "\n",
    "    for epoch in range(1, num_epochs+1):\n",
    "        log.info('Epoch {}/{}'.format(epoch, num_epochs))\n",
    "        log.info('-' * 20)\n",
    "        if (epoch % train_params['save_log_every'] == 0):\n",
    "            push_log_to_git()\n",
    "        epoch_losses = []\n",
    "        for phase in ['train', 'val']:\n",
    "            model.train() if phase == 'train' else model.eval()      \n",
    "            pred_vs_true_epoch = []\n",
    "            for X_batch, y_batch, d_batch, X_id in dataloaders[phase]:\n",
    "                # zero the parameter gradients\n",
    "                optimizer.zero_grad()\n",
    "                with torch.set_grad_enabled(phase == 'train'):\n",
    "                    y_pred = model(X_batch)\n",
    "                    pred_vs_true_epoch.append([y_pred, y_batch])\n",
    "                    # backward + optimize only if in training phase\n",
    "                    if phase == 'train':\n",
    "                        losses = calc_loss(y_pred, y_batch.float(), loss_fns, loss_fn_weights)\n",
    "                        epoch_losses.append(losses)\n",
    "                        all_losses.append(losses)\n",
    "                        loss = losses[-1]\n",
    "                        loss.backward()\n",
    "                        optimizer.step()\n",
    "                        iter_count += 1\n",
    "            best_iou, best_model = log_epoch_stats(model, y_pred, y_batch, X_batch, X_id, other_data, pred_vs_true_epoch, train_params, \n",
    "                                                   phase, epoch, iter_count, best_iou, all_losses, epoch_losses, best_model)\n",
    "            \n",
    "        prev_best_iou = save_model_to_git(epoch, train_params, num_epochs, prev_best_iou, best_iou, best_model)\n",
    "        #from boxx import g\n",
    "        #g()\n",
    "        epoch_avg_loss = np.mean([e[-1].item() for e in epoch_losses])\n",
    "        log.info(f'scheduler best: {scheduler.best} num_bad_epochs:{scheduler.num_bad_epochs}')\n",
    "        log.info(scheduler.step(epoch_avg_loss))\n",
    "\n",
    "\n",
    "    # load best model weights\n",
    "    model.load_state_dict(best_model[1])\n",
    "    log.info('-' * 20)\n",
    "    log.info(f'Training complete in {(time.time() - start) // 60} mins. Best Val IOU {round(best_iou, 4)}')\n",
    "\n",
    "    return model"
   ]
  },
  {
   "cell_type": "markdown",
   "metadata": {
    "colab_type": "text",
    "id": "dasEpZc0QmOt"
   },
   "source": [
    "## Train the model using a small data set to see if it can overfit"
   ]
  },
  {
   "cell_type": "code",
   "execution_count": null,
   "metadata": {
    "colab": {},
    "colab_type": "code",
    "id": "2OoY1-HV8DZK"
   },
   "outputs": [],
   "source": [
    "#saltnet = resnet34unet(in_ch=3, bilinear=False, pretrained=False)\n",
    "saltnet = UResNet(pretrained=True)\n",
    "\n",
    "loss_fn_bce = nn.BCEWithLogitsLoss(pos_weight=torch.tensor(2.0).type(dtype))\n",
    "#loss_focal = FocalLoss(0.25, 2, logits=True)\n",
    "loss_lovasz_hinge = LovaszHingeLoss()\n",
    "\n",
    "optimizer = torch.optim.Adam(saltnet.parameters(), lr=0.001)\n",
    "\n",
    "#scheduler = lr_scheduler.StepLR(optimizer, step_size=50, gamma=0.1)\n",
    "scheduler = torch.optim.lr_scheduler.ReduceLROnPlateau(optimizer, mode='min', factor=0.1, patience=3, verbose=True, threshold=0.001)\n",
    "model_save_name = None\n",
    "\n",
    "# Test Run\n",
    "#trained_model = train_model(saltnet, dataloaders, loss_fn_bce, loss_lovasz_hinge, optimizer, scheduler, model_save_name, \n",
    "#                other_data=all_data, num_epochs=100, print_every=8, save_model_every=None, save_log_every=None, log=log, loss2_weight=0.0)"
   ]
  },
  {
   "cell_type": "code",
   "execution_count": null,
   "metadata": {
    "colab": {},
    "colab_type": "code",
    "id": "HyYXwj79GWDC"
   },
   "outputs": [],
   "source": [
    "resnet_params = (\n",
    "    list(saltnet.conv1.parameters()) + \n",
    "    list(saltnet.encoder2.parameters()) + \n",
    "    list(saltnet.encoder3.parameters()) + \n",
    "    list(saltnet.encoder4.parameters()) + \n",
    "    list(saltnet.encoder5.parameters()) + \n",
    "    list(saltnet.encoder2.parameters())\n",
    ")\n",
    "\n",
    "unet_params = (\n",
    "    list(saltnet.center.parameters()) + \n",
    "    list(saltnet.decoder5.parameters()) + \n",
    "    list(saltnet.decoder4.parameters()) + \n",
    "    list(saltnet.decoder3.parameters()) + \n",
    "    list(saltnet.decoder2.parameters()) + \n",
    "    list(saltnet.decoder1.parameters()) + \n",
    "    list(saltnet.outc.parameters())\n",
    ")\n",
    "\n",
    "optimizer = optim.Adam([    \n",
    "    {'params': resnet_params, 'lr': 1e-4},\n",
    "    {'params': unet_params, 'lr': 1e-3},\n",
    "])"
   ]
  },
  {
   "cell_type": "code",
   "execution_count": null,
   "metadata": {
    "colab": {},
    "colab_type": "code",
    "id": "2zynbTA_GajD"
   },
   "outputs": [],
   "source": [
    "saltnet.center"
   ]
  },
  {
   "cell_type": "code",
   "execution_count": null,
   "metadata": {
    "colab": {},
    "colab_type": "code",
    "id": "NyLX1EVIxPBQ"
   },
   "outputs": [],
   "source": [
    "train_params = {\n",
    "    'model_save_name': None,\n",
    "    'save_model_every': 10000,\n",
    "    'save_log_every': 100,\n",
    "    'num_epochs': 20,\n",
    "    'print_every': 2,\n",
    "    'log': log,\n",
    "    'mask_cutoff': 0,\n",
    "    'model_save_iou_threshold': 0.1\n",
    "    }"
   ]
  },
  {
   "cell_type": "code",
   "execution_count": null,
   "metadata": {
    "colab": {},
    "colab_type": "code",
    "id": "lOBrMR_y03nO"
   },
   "outputs": [],
   "source": [
    "scheduler.num_bad_epochs"
   ]
  },
  {
   "cell_type": "code",
   "execution_count": null,
   "metadata": {
    "colab": {},
    "colab_type": "code",
    "id": "pE7Q6dd3xPBR"
   },
   "outputs": [],
   "source": [
    "model = train_model(saltnet, dataloaders, (loss_fn_bce, loss_lovasz_hinge), (1, 0.5), optimizer, scheduler, train_params, all_data)"
   ]
  },
  {
   "cell_type": "markdown",
   "metadata": {
    "colab_type": "text",
    "id": "zJ3DJ4hAQmOw"
   },
   "source": [
    "## Train the full with full dataset"
   ]
  },
  {
   "cell_type": "code",
   "execution_count": 63,
   "metadata": {
    "colab": {
     "base_uri": "https://localhost:8080/",
     "height": 34
    },
    "colab_type": "code",
    "id": "AZkSxKV2sIkN",
    "outputId": "9baa73d9-b850-4f4d-f90b-c3345ed12c7d"
   },
   "outputs": [
    {
     "name": "stderr",
     "output_type": "stream",
     "text": [
      "29/09/2018 11:38:37 - SaltNet - INFO - Use Unet with refactored Resnet 34 as backbone with Adam optimizer\n"
     ]
    }
   ],
   "source": [
    "log.info('Use Unet with refactored Resnet 34 as backbone with Adam optimizer')"
   ]
  },
  {
   "cell_type": "code",
   "execution_count": null,
   "metadata": {
    "colab": {},
    "colab_type": "code",
    "id": "z3treVXh_Uha"
   },
   "outputs": [],
   "source": [
    "model_config = '''\n",
    "p = Pipeline_Salt()\n",
    "#p.skew(probability=0.5, magnitude=0.2)\n",
    "#p.random_distortion(probability=0.5, grid_width=3, grid_height=3, magnitude=3)\n",
    "p.crop_random_align(probability=0.8, min_factor=0.5, max_factor=0.9, mask_diff_pct=0.2)\n",
    "#p.rotate(probability=0.5, max_left_rotation=10, max_right_rotation=10)\n",
    "p.shear(probability=0.5, max_shear_left=10, max_shear_right=10)\n",
    "p.flip_left_right(probability=0.5)\n",
    "\n",
    "train_data_params = {'batch_size': 32,\n",
    "                     #'sampler': weighted_sampler,\n",
    "                     'shuffle': True,\n",
    "                     'drop_last': False}\n",
    "\n",
    "val_data_params = {'batch_size': 32,\n",
    "                   'shuffle': True,\n",
    "                   'drop_last': False}\n",
    "\n",
    "train_dataLoader = (\n",
    "    DataLoader(SaltDataset(X_train, y_train, depth_train,\n",
    "                           np.zeros_like(X_train_mean_img), out_size=128,  out_ch=1,\n",
    "                           transform=p.torch_transform(), random_brightness=0.5), **train_data_params)\n",
    ")\n",
    "\n",
    "val_dataLoader = (\n",
    "    DataLoader(SaltDataset(X_val, y_val, depth_val, \n",
    "                           np.zeros_like(X_train_mean_img), out_size=128, out_ch=1), **val_data_params)\n",
    ")\n",
    "\n",
    "dataloaders = {'train': train_dataLoader, 'val':val_dataLoader}\n",
    "\n",
    "\n",
    "#saltnet = UNet(n_channels=1, n_classes=1, bilinear=True, logits=True, apply_se=True, r=16)\n",
    "saltnet = UResNet(pretrained=True)\n",
    "#loss_fn_bce = nn.BCEWithLogitsLoss(pos_weight=torch.tensor(2.0).type(dtype))\n",
    "loss_fn_bce = nn.BCEWithLogitsLoss())\n",
    "#loss_focal = FocalLoss(0.25, 2, logits=True)\n",
    "loss_lovasz_hinge = LovaszHingeLoss()\n",
    "#optimizer = torch.optim.Adam(saltnet.parameters(), lr=0.001)\n",
    "resnet_params = (\n",
    "    list(saltnet.conv1.parameters()) + \n",
    "    list(saltnet.encoder2.parameters()) + \n",
    "    list(saltnet.encoder3.parameters()) + \n",
    "    list(saltnet.encoder4.parameters()) + \n",
    "    list(saltnet.encoder5.parameters()) + \n",
    "    list(saltnet.encoder2.parameters())\n",
    ")\n",
    "\n",
    "unet_params = (\n",
    "    list(saltnet.center.parameters()) + \n",
    "    list(saltnet.decoder5.parameters()) + \n",
    "    list(saltnet.decoder4.parameters()) + \n",
    "    list(saltnet.decoder3.parameters()) + \n",
    "    list(saltnet.decoder2.parameters()) + \n",
    "    list(saltnet.decoder1.parameters()) + \n",
    "    list(saltnet.outc.parameters())\n",
    ")\n",
    "\n",
    "optimizer = optim.Adam([    \n",
    "    {'params': resnet_params, 'lr': 1e-4},\n",
    "    {'params': unet_params, 'lr': 1e-3},\n",
    "])\n",
    "#scheduler = torch.optim.lr_scheduler.ReduceLROnPlateau(optimizer, mode='min', factor=0.5, patience=5, verbose=True, threshold=0.0001, min_lr=0.00001)\n",
    "scheduler = lr_scheduler.StepLR(optimizer, step_size=20, gamma=0.6)\n",
    "\n",
    "model_save_name = f'../salt_net/Unet_res34_refactored_{get_current_time_as_fname()}.ckp'\n",
    "log.info(model_save_name)\n",
    "\n",
    "train_params = {\n",
    "    'model_save_name': model_save_name,\n",
    "    'save_model_every': 20,\n",
    "    'save_log_every': 2,\n",
    "    'num_epochs': 200,\n",
    "    'log': log,\n",
    "    'mask_cutoff': 0.,\n",
    "    'model_save_iou_threshold': 0.81\n",
    "    }\n",
    "    \n",
    "train_model(saltnet, dataloaders, (loss_fn_bce, loss_lovasz_hinge), (1, 0.1), optimizer, scheduler, train_params, all_data)\n",
    "'''"
   ]
  },
  {
   "cell_type": "code",
   "execution_count": 65,
   "metadata": {
    "colab": {
     "base_uri": "https://localhost:8080/",
     "height": 1438
    },
    "colab_type": "code",
    "id": "yP2IQIkOD584",
    "outputId": "90c4db70-3a8d-493f-ff45-31269766fd2c"
   },
   "outputs": [
    {
     "name": "stderr",
     "output_type": "stream",
     "text": [
      "29/09/2018 11:38:39 - SaltNet - INFO - \n",
      "p = Pipeline_Salt()\n",
      "#p.skew(probability=0.5, magnitude=0.2)\n",
      "#p.random_distortion(probability=0.5, grid_width=3, grid_height=3, magnitude=3)\n",
      "p.crop_random_align(probability=0.8, min_factor=0.5, max_factor=0.9, mask_diff_pct=0.2)\n",
      "#p.rotate(probability=0.5, max_left_rotation=10, max_right_rotation=10)\n",
      "p.shear(probability=0.5, max_shear_left=10, max_shear_right=10)\n",
      "p.flip_left_right(probability=0.5)\n",
      "\n",
      "train_data_params = {'batch_size': 32,\n",
      "                     #'sampler': weighted_sampler,\n",
      "                     'shuffle': True,\n",
      "                     'drop_last': False}\n",
      "\n",
      "val_data_params = {'batch_size': 32,\n",
      "                   'shuffle': True,\n",
      "                   'drop_last': False}\n",
      "\n",
      "train_dataLoader = (\n",
      "    DataLoader(SaltDataset(X_train, y_train, depth_train,\n",
      "                           np.zeros_like(X_train_mean_img), out_size=128,  out_ch=1,\n",
      "                           transform=p.torch_transform(), random_brightness=0.5), **train_data_params)\n",
      ")\n",
      "\n",
      "val_dataLoader = (\n",
      "    DataLoader(SaltDataset(X_val, y_val, depth_val, \n",
      "                           np.zeros_like(X_train_mean_img), out_size=128, out_ch=1), **val_data_params)\n",
      ")\n",
      "\n",
      "dataloaders = {'train': train_dataLoader, 'val':val_dataLoader}\n",
      "\n",
      "\n",
      "#saltnet = UNet(n_channels=1, n_classes=1, bilinear=True, logits=True, apply_se=True, r=16)\n",
      "saltnet = UResNet(pretrained=True)\n",
      "#loss_fn_bce = nn.BCEWithLogitsLoss(pos_weight=torch.tensor(2.0).type(dtype))\n",
      "loss_fn_bce = nn.BCEWithLogitsLoss())\n",
      "#loss_focal = FocalLoss(0.25, 2, logits=True)\n",
      "loss_lovasz_hinge = LovaszHingeLoss()\n",
      "#optimizer = torch.optim.Adam(saltnet.parameters(), lr=0.001)\n",
      "resnet_params = (\n",
      "    list(saltnet.conv1.parameters()) + \n",
      "    list(saltnet.encoder2.parameters()) + \n",
      "    list(saltnet.encoder3.parameters()) + \n",
      "    list(saltnet.encoder4.parameters()) + \n",
      "    list(saltnet.encoder5.parameters()) + \n",
      "    list(saltnet.encoder2.parameters())\n",
      ")\n",
      "\n",
      "unet_params = (\n",
      "    list(saltnet.center.parameters()) + \n",
      "    list(saltnet.decoder5.parameters()) + \n",
      "    list(saltnet.decoder4.parameters()) + \n",
      "    list(saltnet.decoder3.parameters()) + \n",
      "    list(saltnet.decoder2.parameters()) + \n",
      "    list(saltnet.decoder1.parameters()) + \n",
      "    list(saltnet.outc.parameters())\n",
      ")\n",
      "\n",
      "optimizer = optim.Adam([    \n",
      "    {'params': resnet_params, 'lr': 1e-4},\n",
      "    {'params': unet_params, 'lr': 1e-3},\n",
      "])\n",
      "#scheduler = torch.optim.lr_scheduler.ReduceLROnPlateau(optimizer, mode='min', factor=0.5, patience=5, verbose=True, threshold=0.0001, min_lr=0.00001)\n",
      "scheduler = lr_scheduler.StepLR(optimizer, step_size=20, gamma=0.6)\n",
      "\n",
      "model_save_name = f'../salt_net/Unet_res34_refactored_{get_current_time_as_fname()}.ckp'\n",
      "log.info(model_save_name)\n",
      "\n",
      "train_params = {\n",
      "    'model_save_name': model_save_name,\n",
      "    'save_model_every': 20,\n",
      "    'save_log_every': 2,\n",
      "    'num_epochs': 200,\n",
      "    'log': log,\n",
      "    'mask_cutoff': 0.,\n",
      "    'model_save_iou_threshold': 0.81\n",
      "    }\n",
      "    \n",
      "train_model(saltnet, dataloaders, (loss_fn_bce, loss_lovasz_hinge), (1, 0.1), optimizer, scheduler, train_params, all_data)\n",
      "\n"
     ]
    }
   ],
   "source": [
    "log.info(model_config)"
   ]
  },
  {
   "cell_type": "code",
   "execution_count": null,
   "metadata": {
    "colab": {},
    "colab_type": "code",
    "id": "Ikq0ObjsDXc6"
   },
   "outputs": [],
   "source": [
    "p = Pipeline_Salt()\n",
    "#p.skew(probability=0.5, magnitude=0.2)\n",
    "#p.random_distortion(probability=0.5, grid_width=3, grid_height=3, magnitude=3)\n",
    "p.crop_random_align(probability=0.8, min_factor=0.5, max_factor=0.9, mask_diff_pct=0.2)\n",
    "#p.rotate(probability=0.5, max_left_rotation=10, max_right_rotation=10)\n",
    "p.shear(probability=0.5, max_shear_left=10, max_shear_right=10)\n",
    "p.flip_left_right(probability=0.5)\n",
    "\n",
    "train_data_params = {'batch_size': 32,\n",
    "                     #'sampler': weighted_sampler,\n",
    "                     'shuffle': True,\n",
    "                     'drop_last': False}\n",
    "\n",
    "val_data_params = {'batch_size': 32,\n",
    "                   'shuffle': True,\n",
    "                   'drop_last': False}\n",
    "\n",
    "train_dataLoader = (\n",
    "    DataLoader(SaltDataset(X_train, y_train, depth_train,\n",
    "                           np.zeros_like(X_train_mean_img), out_size=128,  out_ch=1,\n",
    "                           transform=p.torch_transform(), random_brightness=0.5), **train_data_params)\n",
    ")\n",
    "\n",
    "val_dataLoader = (\n",
    "    DataLoader(SaltDataset(X_val, y_val, depth_val, \n",
    "                           np.zeros_like(X_train_mean_img), out_size=128, out_ch=1), **val_data_params)\n",
    ")\n",
    "\n",
    "dataloaders = {'train': train_dataLoader, 'val':val_dataLoader}"
   ]
  },
  {
   "cell_type": "code",
   "execution_count": 69,
   "metadata": {
    "colab": {
     "base_uri": "https://localhost:8080/",
     "height": 52
    },
    "colab_type": "code",
    "id": "u8EUxk8UQmOx",
    "outputId": "57e07c27-ddc1-40ee-fb81-8ccae5545091"
   },
   "outputs": [
    {
     "name": "stdout",
     "output_type": "stream",
     "text": [
      "ResNet using pretrained weights.\n"
     ]
    },
    {
     "name": "stderr",
     "output_type": "stream",
     "text": [
      "29/09/2018 11:39:01 - SaltNet - INFO - ../salt_net/Unet_res34_refactored_2018_09_29_21_39_01.ckp\n"
     ]
    }
   ],
   "source": [
    "#saltnet = UNet(n_channels=1, n_classes=1, bilinear=True, logits=True, apply_se=True, r=16)\n",
    "saltnet = UResNet(pretrained=True)\n",
    "#loss_fn_bce = nn.BCEWithLogitsLoss(pos_weight=torch.tensor(2.0).type(dtype))\n",
    "loss_fn_bce = nn.BCEWithLogitsLoss()\n",
    "#loss_focal = FocalLoss(0.25, 2, logits=True)\n",
    "loss_lovasz_hinge = LovaszHingeLoss()\n",
    "#optimizer = torch.optim.Adam(saltnet.parameters(), lr=0.001)\n",
    "resnet_params = (\n",
    "    list(saltnet.conv1.parameters()) + \n",
    "    list(saltnet.encoder2.parameters()) + \n",
    "    list(saltnet.encoder3.parameters()) + \n",
    "    list(saltnet.encoder4.parameters()) + \n",
    "    list(saltnet.encoder5.parameters()) + \n",
    "    list(saltnet.encoder2.parameters())\n",
    ")\n",
    "\n",
    "unet_params = (\n",
    "    list(saltnet.center.parameters()) + \n",
    "    list(saltnet.decoder5.parameters()) + \n",
    "    list(saltnet.decoder4.parameters()) + \n",
    "    list(saltnet.decoder3.parameters()) + \n",
    "    list(saltnet.decoder2.parameters()) + \n",
    "    list(saltnet.decoder1.parameters()) + \n",
    "    list(saltnet.outc.parameters())\n",
    ")\n",
    "\n",
    "optimizer = optim.Adam([    \n",
    "    {'params': resnet_params, 'lr': 1e-4},\n",
    "    {'params': unet_params, 'lr': 1e-3},\n",
    "])\n",
    "#scheduler = torch.optim.lr_scheduler.ReduceLROnPlateau(optimizer, mode='min', factor=0.5, patience=5, verbose=True, threshold=0.0001, min_lr=0.00001)\n",
    "scheduler = lr_scheduler.StepLR(optimizer, step_size=20, gamma=0.6)\n",
    "\n",
    "model_save_name = f'../salt_net/Unet_res34_refactored_{get_current_time_as_fname()}.ckp'\n",
    "log.info(model_save_name)"
   ]
  },
  {
   "cell_type": "code",
   "execution_count": null,
   "metadata": {
    "colab": {},
    "colab_type": "code",
    "id": "Wq1P9vlMDo06"
   },
   "outputs": [],
   "source": [
    "train_params = {\n",
    "    'model_save_name': model_save_name,\n",
    "    'save_model_every': 20,\n",
    "    'save_log_every': 2,\n",
    "    'num_epochs': 200,\n",
    "    'log': log,\n",
    "    'mask_cutoff': 0.,\n",
    "    'model_save_iou_threshold': 0.81\n",
    "    }\n"
   ]
  },
  {
   "cell_type": "code",
   "execution_count": null,
   "metadata": {
    "colab": {
     "base_uri": "https://localhost:8080/",
     "height": 427
    },
    "colab_type": "code",
    "id": "H2z9Brb8EgMG",
    "outputId": "78e6c593-481a-48f0-9d85-2b3c75a303f2"
   },
   "outputs": [
    {
     "name": "stderr",
     "output_type": "stream",
     "text": [
      "29/09/2018 11:39:06 - SaltNet - INFO - Start Training...\n",
      "29/09/2018 11:39:06 - SaltNet - INFO - ({'train': <torch.utils.data.dataloader.DataLoader object at 0x7f45dae9b0b8>, 'val': <torch.utils.data.dataloader.DataLoader object at 0x7f45dae9b048>}, (BCEWithLogitsLoss(), LovaszHingeLoss()), (1, 0.1), Adam (\n",
      "Parameter Group 0\n",
      "    amsgrad: False\n",
      "    betas: (0.9, 0.999)\n",
      "    eps: 1e-08\n",
      "    initial_lr: 0.0001\n",
      "    lr: 0.0001\n",
      "    weight_decay: 0\n",
      "\n",
      "Parameter Group 1\n",
      "    amsgrad: False\n",
      "    betas: (0.9, 0.999)\n",
      "    eps: 1e-08\n",
      "    initial_lr: 0.001\n",
      "    lr: 0.001\n",
      "    weight_decay: 0\n",
      "), <torch.optim.lr_scheduler.StepLR object at 0x7f45db4ae588>, {'model_save_name': '../salt_net/Unet_res34_refactored_2018_09_29_21_39_01.ckp', 'save_model_every': 20, 'save_log_every': 2, 'num_epochs': 200, 'log': <Logger SaltNet (DEBUG)>, 'mask_cutoff': 0.0, 'model_save_iou_threshold': 0.81})\n",
      "29/09/2018 11:39:06 - SaltNet - INFO - Epoch 1/200\n",
      "29/09/2018 11:39:06 - SaltNet - INFO - --------------------\n",
      "/usr/local/lib/python3.6/dist-packages/torch/nn/functional.py:1890: UserWarning: nn.functional.upsample is deprecated. Use nn.functional.interpolate instead.\n",
      "  warnings.warn(\"nn.functional.upsample is deprecated. Use nn.functional.interpolate instead.\")\n"
     ]
    }
   ],
   "source": [
    "train_model(saltnet, dataloaders, (loss_fn_bce, loss_lovasz_hinge), (1, 0.1), optimizer, scheduler, train_params, all_data)"
   ]
  },
  {
   "cell_type": "code",
   "execution_count": null,
   "metadata": {
    "colab": {},
    "colab_type": "code",
    "id": "YyeACdxT7K54"
   },
   "outputs": [],
   "source": [
    "all_data.keys()"
   ]
  },
  {
   "cell_type": "markdown",
   "metadata": {
    "colab_type": "text",
    "id": "UkzkKviGQ1ME"
   },
   "source": [
    "## Fine Tune"
   ]
  },
  {
   "cell_type": "code",
   "execution_count": null,
   "metadata": {
    "colab": {},
    "colab_type": "code",
    "id": "6gH3StpeyZoc"
   },
   "outputs": [],
   "source": [
    "log.info('Fine tune Unet_bce_loss_lovasz_loss_se_finetune_2018_09_15_08_56_34 net. Use loss_lovasz_hinge loss only.')"
   ]
  },
  {
   "cell_type": "code",
   "execution_count": null,
   "metadata": {
    "colab": {},
    "colab_type": "code",
    "id": "i1G7CTpsySfm"
   },
   "outputs": [],
   "source": [
    "model_config = '''\n",
    "p = Pipeline_Salt(min_mask_ratio=0.5)\n",
    "p.skew(probability=1, magnitude=0.5)\n",
    "p.random_distortion(probability=0.5, grid_width=3, grid_height=3, magnitude=3)\n",
    "p.rotate(probability=0.5, max_left_rotation=10, max_right_rotation=10)\n",
    "p.zoom(probability=0.5, min_factor=1.1, max_factor=1.5)\n",
    "p.shear(probability=0.5, max_shear_left=10, max_shear_right=10)\n",
    "p.flip_left_right(probability=0.5)\n",
    "p.crop_random(probability=0.5, percentage_area=0.8, randomise_percentage_area=False)\n",
    "p.resize(probability=1, width=101, height=101, resample_filter='BILINEAR')\n",
    "\n",
    "saltnet = UNet(n_channels=1, n_classes=1, bilinear=True, logits=True, apply_se=True, r=16)\n",
    "model_file_suffix = \"Unet_bce_loss_lovasz_loss_se_finetune_2018_09_15_08_56_34.ckp\"\n",
    "model_state_dict = torch.load(join_files(model_file_suffix, '.', returnFileObject=True, removeChunks=False))\n",
    "saltnet.load_state_dict(model_state_dict['model'])\n",
    "\n",
    "#saltnet = loaded_model\n",
    "loss_fn_bce = nn.BCEWithLogitsLoss()\n",
    "#loss_focal = FocalLoss(0.25, 2.5, logits=True)\n",
    "loss_lovasz_hinge = LovaszHingeLoss()\n",
    "optimizer = torch.optim.Adam(saltnet.parameters(), lr=0.001)\n",
    "scheduler = lr_scheduler.StepLR(optimizer, step_size=10, gamma=0.8)\n",
    "\n",
    "model_save_name = f'../salt_net/Unet_lovasz_loss_se_finetune2_{get_current_time_as_fname()}.ckp'\n",
    "log.info(model_save_name)\n",
    "\n",
    "# Test Run\n",
    "trained_model = train_model(saltnet, dataloaders, loss_fn_bce, loss_lovasz_hinge, optimizer, scheduler, model_save_name, \n",
    "                other_data=all_data, num_epochs=60, print_every=50, save_model_every=20, save_log_every=2, log=log, loss1_weight=0.0, loss2_weight=1.0)\n",
    "\n",
    "'''"
   ]
  },
  {
   "cell_type": "code",
   "execution_count": null,
   "metadata": {
    "colab": {},
    "colab_type": "code",
    "id": "jLGTRHvqzIMm"
   },
   "outputs": [],
   "source": [
    "log.info(model_config)"
   ]
  },
  {
   "cell_type": "code",
   "execution_count": null,
   "metadata": {
    "colab": {},
    "colab_type": "code",
    "id": "-WDeSLljRAW8"
   },
   "outputs": [],
   "source": [
    "cd ../salt_net"
   ]
  },
  {
   "cell_type": "code",
   "execution_count": null,
   "metadata": {
    "colab": {},
    "colab_type": "code",
    "id": "MfnNZyIMjr2z"
   },
   "outputs": [],
   "source": [
    "saltnet = UNet(n_channels=1, n_classes=1, bilinear=True, logits=True, apply_se=True, r=16)\n",
    "model_file_suffix = \"Unet_bce_loss_lovasz_loss_se_finetune_2018_09_15_08_56_34.ckp\"\n",
    "model_state_dict = torch.load(join_files(model_file_suffix, '.', returnFileObject=True, removeChunks=False))\n",
    "saltnet.load_state_dict(model_state_dict['model'])"
   ]
  },
  {
   "cell_type": "code",
   "execution_count": null,
   "metadata": {
    "colab": {},
    "colab_type": "code",
    "id": "y1TB1NlPx-_p"
   },
   "outputs": [],
   "source": [
    "#saltnet = loaded_model\n",
    "loss_fn_bce = nn.BCEWithLogitsLoss()\n",
    "#loss_focal = FocalLoss(0.25, 2.5, logits=True)\n",
    "loss_lovasz_hinge = LovaszHingeLoss()\n",
    "optimizer = torch.optim.Adam(saltnet.parameters(), lr=0.001)\n",
    "scheduler = lr_scheduler.StepLR(optimizer, step_size=10, gamma=0.8)\n",
    "\n",
    "model_save_name = f'../salt_net/Unet_lovasz_loss_se_finetune2_{get_current_time_as_fname()}.ckp'\n",
    "log.info(model_save_name)\n",
    "\n",
    "# Test Run\n",
    "trained_model = train_model(saltnet, dataloaders, loss_fn_bce, loss_lovasz_hinge, optimizer, scheduler, model_save_name, \n",
    "                other_data=all_data, num_epochs=100, print_every=44, save_model_every=20, save_log_every=2, log=log, loss1_weight=0.0, loss2_weight=1.0)"
   ]
  },
  {
   "cell_type": "code",
   "execution_count": null,
   "metadata": {
    "colab": {},
    "colab_type": "code",
    "id": "OX55uUxAU4dF"
   },
   "outputs": [],
   "source": [
    "2879//32"
   ]
  },
  {
   "cell_type": "code",
   "execution_count": null,
   "metadata": {
    "colab": {},
    "colab_type": "code",
    "id": "zZOM1E8wSiIG"
   },
   "outputs": [],
   "source": [
    "# fine tune 3"
   ]
  },
  {
   "cell_type": "code",
   "execution_count": null,
   "metadata": {
    "colab": {},
    "colab_type": "code",
    "id": "F1lR_tZsSiTO"
   },
   "outputs": [],
   "source": [
    "log.info('Fine tune Unet_bce_loss_lovasz_loss_se_finetune_2018_09_15_08_56_34 net. Remove hard images. Use loss_lovasz_hinge and bce loss')"
   ]
  },
  {
   "cell_type": "code",
   "execution_count": null,
   "metadata": {
    "colab": {},
    "colab_type": "code",
    "id": "VBQUK1P6T-5y"
   },
   "outputs": [],
   "source": [
    "model_config = '''\n",
    "p = Pipeline_Salt(min_mask_ratio=0.5)\n",
    "p.skew(probability=1, magnitude=0.5)\n",
    "p.random_distortion(probability=0.5, grid_width=3, grid_height=3, magnitude=3)\n",
    "p.rotate(probability=0.5, max_left_rotation=10, max_right_rotation=10)\n",
    "p.zoom(probability=0.5, min_factor=1.1, max_factor=1.5)\n",
    "p.shear(probability=0.5, max_shear_left=10, max_shear_right=10)\n",
    "p.flip_left_right(probability=0.5)\n",
    "p.crop_random(probability=0.5, percentage_area=0.8, randomise_percentage_area=False)\n",
    "p.resize(probability=1, width=101, height=101, resample_filter='BILINEAR')\n",
    "\n",
    "saltnet = UNet(n_channels=1, n_classes=1, bilinear=True, logits=True, apply_se=True, r=16)\n",
    "model_file_suffix = \"Unet_bce_loss_lovasz_loss_se_finetune_2018_09_15_08_56_34.ckp\"\n",
    "model_state_dict = torch.load(join_files(model_file_suffix, '.', returnFileObject=True, removeChunks=False))\n",
    "saltnet.load_state_dict(model_state_dict['model'])\n",
    "\n",
    "#saltnet = loaded_model\n",
    "loss_fn_bce = nn.BCEWithLogitsLoss()\n",
    "#loss_focal = FocalLoss(0.25, 2.5, logits=True)\n",
    "loss_lovasz_hinge = LovaszHingeLoss()\n",
    "optimizer = torch.optim.Adam(saltnet.parameters(), lr=0.001)\n",
    "scheduler = lr_scheduler.StepLR(optimizer, step_size=10, gamma=0.8)\n",
    "\n",
    "model_save_name = f'../salt_net/Unet_bce_loss_lovasz_loss_se_finetune2_{get_current_time_as_fname()}.ckp'\n",
    "log.info(model_save_name)\n",
    "\n",
    "# Test Run\n",
    "trained_model = train_model(saltnet, dataloaders, loss_fn_bce, loss_lovasz_hinge, optimizer, scheduler, model_save_name, \n",
    "                other_data=all_data, num_epochs=100, print_every=50, save_model_every=20, save_log_every=2, log=log, loss1_weight=1.0, loss2_weight=1.0)\n",
    "\n",
    "'''"
   ]
  },
  {
   "cell_type": "code",
   "execution_count": null,
   "metadata": {
    "colab": {},
    "colab_type": "code",
    "id": "hLJXcQFjUAw7"
   },
   "outputs": [],
   "source": [
    "log.info(model_config)"
   ]
  },
  {
   "cell_type": "code",
   "execution_count": null,
   "metadata": {
    "colab": {},
    "colab_type": "code",
    "id": "eXVLu2iuTuQi"
   },
   "outputs": [],
   "source": [
    "cd ../salt_net"
   ]
  },
  {
   "cell_type": "code",
   "execution_count": null,
   "metadata": {
    "colab": {},
    "colab_type": "code",
    "id": "0mp4vCVJSvMM"
   },
   "outputs": [],
   "source": [
    "saltnet = UNet(n_channels=1, n_classes=1, bilinear=True, logits=True, apply_se=True, r=16)\n",
    "model_file_suffix = \"Unet_bce_loss_lovasz_loss_se_finetune_2018_09_15_08_56_34.ckp\"\n",
    "model_state_dict = torch.load(join_files(model_file_suffix, '.', returnFileObject=True, removeChunks=False))\n",
    "saltnet.load_state_dict(model_state_dict['model'])"
   ]
  },
  {
   "cell_type": "code",
   "execution_count": null,
   "metadata": {
    "colab": {},
    "colab_type": "code",
    "id": "Mwx6Lf5GSiaT"
   },
   "outputs": [],
   "source": [
    "#saltnet = loaded_model\n",
    "loss_fn_bce = nn.BCEWithLogitsLoss()\n",
    "#loss_focal = FocalLoss(0.25, 2.5, logits=True)\n",
    "loss_lovasz_hinge = LovaszHingeLoss()\n",
    "optimizer = torch.optim.Adam(saltnet.parameters(), lr=0.001)\n",
    "scheduler = lr_scheduler.StepLR(optimizer, step_size=10, gamma=0.8)\n",
    "\n",
    "model_save_name = f'../salt_net/Unet_bce_loss_lovasz_loss_se_finetune3_{get_current_time_as_fname()}.ckp'\n",
    "log.info(model_save_name)\n",
    "\n",
    "# Test Run\n",
    "trained_model = train_model(saltnet, dataloaders, loss_fn_bce, loss_lovasz_hinge, optimizer, scheduler, model_save_name, \n",
    "                other_data=all_data, num_epochs=100, print_every=44, save_model_every=20, save_log_every=2, log=log, loss1_weight=1.0, loss2_weight=1.0)"
   ]
  },
  {
   "cell_type": "code",
   "execution_count": null,
   "metadata": {
    "colab": {},
    "colab_type": "code",
    "id": "63F266sphX6R"
   },
   "outputs": [],
   "source": []
  },
  {
   "cell_type": "code",
   "execution_count": null,
   "metadata": {
    "colab": {},
    "colab_type": "code",
    "id": "UUaoviPyhYJI"
   },
   "outputs": [],
   "source": [
    "# fine tune 4"
   ]
  },
  {
   "cell_type": "code",
   "execution_count": null,
   "metadata": {
    "colab": {},
    "colab_type": "code",
    "id": "B8D60yP5hYdz"
   },
   "outputs": [],
   "source": [
    "log.info('Fine tune Unet_bce_loss_lovasz_loss_se_finetune_2018_09_15_08_56_34 net. Remove hard images. Use lovasz loss only with SGD. Less data aug')"
   ]
  },
  {
   "cell_type": "code",
   "execution_count": null,
   "metadata": {
    "colab": {},
    "colab_type": "code",
    "id": "jLCZ7qsFhYYz"
   },
   "outputs": [],
   "source": [
    "model_config = '''\n",
    "p = Pipeline_Salt(min_mask_ratio=0.1)\n",
    "#p.skew(probability=1, magnitude=0.5)\n",
    "#p.random_distortion(probability=0.5, grid_width=3, grid_height=3, magnitude=3)\n",
    "p.rotate(probability=0.5, max_left_rotation=10, max_right_rotation=10)\n",
    "#p.zoom(probability=0.5, min_factor=1.05, max_factor=1.2)\n",
    "p.shear(probability=0.5, max_shear_left=10, max_shear_right=10)\n",
    "p.flip_left_right(probability=0.5)\n",
    "p.crop_random(probability=0.5, percentage_area=0.8, randomise_percentage_area=False)\n",
    "p.resize(probability=1, width=101, height=101, resample_filter='BILINEAR')\n",
    "\n",
    "#weighted_sampler = torch.utils.data.sampler.WeightedRandomSampler(train_sample_weight.values, depth_train.shape[0])\n",
    "\n",
    "train_data_params = {'batch_size': 32,\n",
    "                     #'sampler': weighted_sampler,\n",
    "                     'shuffle': True,\n",
    "                     'drop_last': True}\n",
    "\n",
    "val_data_params = {'batch_size': 32,\n",
    "                   'shuffle': True,\n",
    "                   'drop_last': False}\n",
    "\n",
    "train_dataLoader = (\n",
    "    DataLoader(SaltDataset(X_train, y_train, depth_train,\n",
    "                           X_train_mean_img, out_size=128,  out_ch=1,\n",
    "                           transform=p.torch_transform(), random_brightness=0.5), **train_data_params)\n",
    ")\n",
    "\n",
    "val_dataLoader = (\n",
    "    DataLoader(SaltDataset(X_val, y_val, depth_val, \n",
    "                           X_train_mean_img, out_size=128, out_ch=1), **val_data_params)\n",
    ")\n",
    "\n",
    "dataloaders = {'train': train_dataLoader, 'val':val_dataLoader}\n",
    "\n",
    "#saltnet = loaded_model\n",
    "#loss_fn_bce = nn.BCEWithLogitsLoss()\n",
    "loss_focal = FocalLoss(0.25, 2.0, logits=True)\n",
    "loss_lovasz_hinge = LovaszHingeLoss()\n",
    "optimizer = torch.optim.SGD(saltnet.parameters(), lr=0.001)\n",
    "scheduler = lr_scheduler.StepLR(optimizer, step_size=20, gamma=0.8)\n",
    "\n",
    "model_save_name = f'../salt_net/Unet_lovasz_loss_se_finetune6_{get_current_time_as_fname()}.ckp'\n",
    "log.info(model_save_name)\n",
    "\n",
    "# Test Run\n",
    "trained_model = train_model(saltnet, dataloaders, loss_focal, loss_lovasz_hinge, optimizer, scheduler, model_save_name, \n",
    "                other_data=all_data, num_epochs=300, print_every=44, save_model_every=20, save_log_every=2, log=log, loss1_weight=0.0, loss2_weight=1.)\n",
    "\n",
    "'''"
   ]
  },
  {
   "cell_type": "code",
   "execution_count": null,
   "metadata": {
    "colab": {},
    "colab_type": "code",
    "id": "Nuk-O_sohYU4"
   },
   "outputs": [],
   "source": [
    "log.info(model_config)"
   ]
  },
  {
   "cell_type": "code",
   "execution_count": null,
   "metadata": {
    "colab": {},
    "colab_type": "code",
    "id": "Le_5UumAnH_V"
   },
   "outputs": [],
   "source": []
  },
  {
   "cell_type": "code",
   "execution_count": null,
   "metadata": {
    "colab": {},
    "colab_type": "code",
    "id": "U7EHw_lzhYQu"
   },
   "outputs": [],
   "source": [
    "p = Pipeline_Salt(min_mask_ratio=0.1)\n",
    "#p.skew(probability=1, magnitude=0.5)\n",
    "#p.random_distortion(probability=0.5, grid_width=3, grid_height=3, magnitude=3)\n",
    "p.rotate(probability=0.5, max_left_rotation=10, max_right_rotation=10)\n",
    "#p.zoom(probability=0.5, min_factor=1.05, max_factor=1.2)\n",
    "p.shear(probability=0.5, max_shear_left=10, max_shear_right=10)\n",
    "p.flip_left_right(probability=0.5)\n",
    "p.crop_random(probability=0.5, percentage_area=0.8, randomise_percentage_area=False)\n",
    "p.resize(probability=1, width=101, height=101, resample_filter='BILINEAR')\n",
    "\n",
    "#weighted_sampler = torch.utils.data.sampler.WeightedRandomSampler(train_sample_weight.values, depth_train.shape[0])\n",
    "\n",
    "train_data_params = {'batch_size': 32,\n",
    "                     #'sampler': weighted_sampler,\n",
    "                     'shuffle': True,\n",
    "                     'drop_last': True}\n",
    "\n",
    "val_data_params = {'batch_size': 32,\n",
    "                   'shuffle': True,\n",
    "                   'drop_last': False}\n",
    "\n",
    "train_dataLoader = (\n",
    "    DataLoader(SaltDataset(X_train, y_train, depth_train,\n",
    "                           X_train_mean_img, out_size=128,  out_ch=1,\n",
    "                           transform=p.torch_transform(), random_brightness=0.5), **train_data_params)\n",
    ")\n",
    "\n",
    "val_dataLoader = (\n",
    "    DataLoader(SaltDataset(X_val, y_val, depth_val, \n",
    "                           X_train_mean_img, out_size=128, out_ch=1), **val_data_params)\n",
    ")\n",
    "\n",
    "dataloaders = {'train': train_dataLoader, 'val':val_dataLoader}"
   ]
  },
  {
   "cell_type": "code",
   "execution_count": null,
   "metadata": {
    "colab": {},
    "colab_type": "code",
    "id": "oFn5Yp8JiHrb"
   },
   "outputs": [],
   "source": [
    "cd ../salt_net"
   ]
  },
  {
   "cell_type": "code",
   "execution_count": null,
   "metadata": {
    "colab": {},
    "colab_type": "code",
    "id": "EXgY-SnsiH6H"
   },
   "outputs": [],
   "source": [
    "saltnet = UNet(n_channels=1, n_classes=1, bilinear=True, logits=True, apply_se=True, r=16)\n",
    "model_file_suffix = \"Unet_bce_loss_lovasz_loss_se_finetune_2018_09_15_08_56_34.ckp\"\n",
    "model_state_dict = torch.load(join_files(model_file_suffix, '.', returnFileObject=True, removeChunks=False))\n",
    "saltnet.load_state_dict(model_state_dict['model'])"
   ]
  },
  {
   "cell_type": "code",
   "execution_count": null,
   "metadata": {
    "colab": {},
    "colab_type": "code",
    "id": "EKG-3gxECxlG"
   },
   "outputs": [],
   "source": [
    "!git status"
   ]
  },
  {
   "cell_type": "code",
   "execution_count": null,
   "metadata": {
    "colab": {},
    "colab_type": "code",
    "id": "ej3k1zVvibz2"
   },
   "outputs": [],
   "source": [
    "#saltnet = loaded_model\n",
    "#loss_fn_bce = nn.BCEWithLogitsLoss()\n",
    "loss_focal = FocalLoss(0.25, 2.0, logits=True)\n",
    "loss_lovasz_hinge = LovaszHingeLoss()\n",
    "optimizer = torch.optim.SGD(saltnet.parameters(), lr=0.001)\n",
    "scheduler = lr_scheduler.StepLR(optimizer, step_size=20, gamma=0.8)\n",
    "\n",
    "model_save_name = f'../salt_net/Unet_lovasz_loss_se_finetune6_{get_current_time_as_fname()}.ckp'\n",
    "log.info(model_save_name)\n",
    "\n",
    "# Test Run\n",
    "trained_model = train_model(saltnet, dataloaders, loss_focal, loss_lovasz_hinge, optimizer, scheduler, model_save_name, \n",
    "                other_data=all_data, num_epochs=300, print_every=44, save_model_every=20, save_log_every=2, log=log, loss1_weight=0.0, loss2_weight=1.)"
   ]
  },
  {
   "cell_type": "markdown",
   "metadata": {
    "colab_type": "text",
    "id": "9MW3YwaZQmOz"
   },
   "source": [
    "## Load Trained Model"
   ]
  },
  {
   "cell_type": "code",
   "execution_count": null,
   "metadata": {
    "colab": {},
    "colab_type": "code",
    "id": "ESBVbot1Qp7b"
   },
   "outputs": [],
   "source": []
  },
  {
   "cell_type": "code",
   "execution_count": null,
   "metadata": {
    "colab": {},
    "colab_type": "code",
    "id": "LIRv-uXQGROz"
   },
   "outputs": [],
   "source": [
    "loaded_model = UNet(n_channels=1, n_classes=1, bilinear=True, logits=True, apply_se=True, r=16)"
   ]
  },
  {
   "cell_type": "code",
   "execution_count": null,
   "metadata": {
    "colab": {},
    "colab_type": "code",
    "id": "MDpBS2c9ePeW"
   },
   "outputs": [],
   "source": [
    "cd ../salt_net"
   ]
  },
  {
   "cell_type": "code",
   "execution_count": null,
   "metadata": {
    "colab": {},
    "colab_type": "code",
    "id": "cuoeW6MLd439"
   },
   "outputs": [],
   "source": [
    "model_file_suffix = \"Unet_bce_loss_lovasz_loss_se_2018_09_14_12_35_12.ckp\"\n",
    "model_state_dict = torch.load(join_files(model_file_suffix, '.', returnFileObject=True, removeChunks=False))\n",
    "loaded_model.load_state_dict(model_state_dict['model'])"
   ]
  },
  {
   "cell_type": "markdown",
   "metadata": {
    "colab_type": "text",
    "id": "PbgxXtYH3KpR"
   },
   "source": [
    "### Make Predictions on validation set"
   ]
  },
  {
   "cell_type": "markdown",
   "metadata": {
    "colab_type": "text",
    "id": "W0cFNMM0QmO4"
   },
   "source": [
    "### Set model to evaluation mode"
   ]
  },
  {
   "cell_type": "code",
   "execution_count": null,
   "metadata": {
    "colab": {},
    "colab_type": "code",
    "id": "izo8iByg3KpP"
   },
   "outputs": [],
   "source": [
    "loaded_model.eval()\n",
    "assert loaded_model.training == False"
   ]
  },
  {
   "cell_type": "code",
   "execution_count": null,
   "metadata": {
    "colab": {},
    "colab_type": "code",
    "id": "zfdN-P-j3KpS"
   },
   "outputs": [],
   "source": [
    "val_dataLoader = DataLoader(SaltDataset(X_val, y_val, depth_val, X_train_mean_img, out_size=128), batch_size=16)"
   ]
  },
  {
   "cell_type": "code",
   "execution_count": null,
   "metadata": {
    "colab": {},
    "colab_type": "code",
    "id": "7M0ZHG7o6swA"
   },
   "outputs": [],
   "source": [
    "if torch.cuda.is_available():\n",
    "    loaded_model.cuda()"
   ]
  },
  {
   "cell_type": "code",
   "execution_count": null,
   "metadata": {
    "colab": {},
    "colab_type": "code",
    "id": "JMuArCUd3KpU"
   },
   "outputs": [],
   "source": [
    "y_val_pred = []\n",
    "\n",
    "with torch.no_grad():\n",
    "    for X_val_batch, y_val_batch, depth_val_batch, X_val_id_batch in val_dataLoader:\n",
    "        y_val_pred.append(loaded_model(X_val_batch))\n",
    "y_val_pred = torch.cat(y_val_pred)"
   ]
  },
  {
   "cell_type": "code",
   "execution_count": null,
   "metadata": {
    "colab": {},
    "colab_type": "code",
    "id": "B7EYzvT0fyPx"
   },
   "outputs": [],
   "source": [
    "p = Pipeline_Salt()\n",
    "p.flip_left_right(probability=1)\n",
    "val_dataLoader = DataLoader(SaltDataset(X_val, y_val, depth_val, X_train_mean_img, out_size=128, out_ch=1,\n",
    "                           transform=p.torch_transform()), batch_size=16)\n",
    "y_val_pred_flip = []\n",
    "\n",
    "with torch.no_grad():\n",
    "    for X_val_batch, y_val_batch, depth_val_batch, X_val_id_batch in val_dataLoader:\n",
    "        y_val_pred_flip.append(loaded_model(X_val_batch))\n",
    "y_val_pred_flip = torch.cat(y_val_pred_flip)\n",
    "y_val_pred_flip = torch.flip(y_val_pred_flip,[2])"
   ]
  },
  {
   "cell_type": "code",
   "execution_count": null,
   "metadata": {
    "colab": {},
    "colab_type": "code",
    "id": "FZNYVKKPf0if"
   },
   "outputs": [],
   "source": [
    "y_val_pred_ens = torch.where(y_val_pred.abs() > y_val_pred_flip.abs(), y_val_pred, y_val_pred_flip)"
   ]
  },
  {
   "cell_type": "code",
   "execution_count": null,
   "metadata": {
    "colab": {},
    "colab_type": "code",
    "id": "hSYVoI88HApH"
   },
   "outputs": [],
   "source": [
    "y_val_pred_adj = adjust_predictions(0, X_val, y_val_pred.gt(0), y_val.squeeze())"
   ]
  },
  {
   "cell_type": "code",
   "execution_count": null,
   "metadata": {
    "colab": {},
    "colab_type": "code",
    "id": "230OrjoPf0_K"
   },
   "outputs": [],
   "source": [
    "y_val_pred_adj = adjust_predictions(0, X_val, y_val_pred_ens.gt(0.113), y_val.squeeze())"
   ]
  },
  {
   "cell_type": "code",
   "execution_count": null,
   "metadata": {
    "colab": {},
    "colab_type": "code",
    "id": "VZvUQtjqG_uf"
   },
   "outputs": [],
   "source": [
    "MASK_CUTOFF = 0.113"
   ]
  },
  {
   "cell_type": "code",
   "execution_count": null,
   "metadata": {
    "colab": {},
    "colab_type": "code",
    "id": "fMy51k_WgCEc"
   },
   "outputs": [],
   "source": [
    "for i in np.r_[0.05:0.35:20j]:\n",
    "  print(i)\n",
    "  y_val_pred_adj = adjust_predictions(0, X_val, y_val_pred_ens.gt(i), y_val.squeeze())"
   ]
  },
  {
   "cell_type": "code",
   "execution_count": null,
   "metadata": {
    "colab": {},
    "colab_type": "code",
    "id": "5_ka-iqTgCYL"
   },
   "outputs": [],
   "source": []
  },
  {
   "cell_type": "code",
   "execution_count": null,
   "metadata": {
    "colab": {},
    "colab_type": "code",
    "id": "nxNTal6nS8Za"
   },
   "outputs": [],
   "source": [
    "train_dataLoader = DataLoader(SaltDataset(X_train, y_train, depth_train, X_train_mean_img, out_size=128), batch_size=16)\n",
    "y_train_pred = []\n",
    "\n",
    "with torch.no_grad():\n",
    "    for X_train_batch, y_train_batch, depth_train_batch, X_train_id_batch in train_dataLoader:\n",
    "        y_train_pred.append(loaded_model(X_train_batch))\n",
    "y_train_pred = torch.cat(y_train_pred)"
   ]
  },
  {
   "cell_type": "code",
   "execution_count": null,
   "metadata": {
    "colab": {},
    "colab_type": "code",
    "id": "2_DJpL1o3KpY"
   },
   "outputs": [],
   "source": [
    "for i in range(10):\n",
    "    rand_id = np.random.choice(X_val_id_batch)\n",
    "    print(f'Image ID: {rand_id}')\n",
    "    val_img = X_val[rand_id]/255\n",
    "    val_mask = y_val[rand_id]\n",
    "    val_mask_pred = y_val_pred.ge(0.5)[rand_id]\n",
    "    plot_img_mask_pred([val_img, val_mask, val_mask_pred], range(3), img_per_line=3)"
   ]
  },
  {
   "cell_type": "code",
   "execution_count": null,
   "metadata": {
    "colab": {},
    "colab_type": "code",
    "id": "fkD6eqk9ghEe"
   },
   "outputs": [],
   "source": [
    "for i in range(10):\n",
    "    rand_id = np.random.choice(X_train_id_batch)\n",
    "    print(f'Image ID: {rand_id}')\n",
    "    img = X_train[rand_id]/255\n",
    "    mask = y_train[rand_id]\n",
    "    mask_pred = y_train_pred.ge(0.5)[rand_id]\n",
    "    plot_img_mask_pred([img, mask, mask_pred], range(3), img_per_line=3)"
   ]
  },
  {
   "cell_type": "code",
   "execution_count": null,
   "metadata": {
    "colab": {},
    "colab_type": "code",
    "id": "aFW4BqZx8VzV"
   },
   "outputs": [],
   "source": [
    "ZERO_MASK_CUTOFF = 0\n",
    "MASK_CUTOFF = 0.113"
   ]
  },
  {
   "cell_type": "code",
   "execution_count": null,
   "metadata": {
    "colab": {},
    "colab_type": "code",
    "id": "vMbnI4J6Jkr1"
   },
   "outputs": [],
   "source": [
    "y_val_pred_adj = adjust_predictions(ZERO_MASK_CUTOFF, X_val, y_val_pred_ens.gt(MASK_CUTOFF), y_val.squeeze())"
   ]
  },
  {
   "cell_type": "code",
   "execution_count": null,
   "metadata": {
    "colab": {},
    "colab_type": "code",
    "id": "kgcUBfKx8rpd"
   },
   "outputs": [],
   "source": [
    "results=[]\n",
    "for cut_off in range(0, 300, 10):\n",
    "  print(cut_off)\n",
    "  results.append(calc_mean_iou(adjust_predictions(cut_off, X_val, y_val_pred_ens.gt(MASK_CUTOFF), y_val.squeeze()), y_val.squeeze()))"
   ]
  },
  {
   "cell_type": "code",
   "execution_count": null,
   "metadata": {
    "colab": {},
    "colab_type": "code",
    "id": "KcfUIfJyNna6"
   },
   "outputs": [],
   "source": [
    "range(0, 300, 10)[np.argmax(results)]"
   ]
  },
  {
   "cell_type": "code",
   "execution_count": null,
   "metadata": {
    "colab": {},
    "colab_type": "code",
    "id": "w1j58cIWfqxj"
   },
   "outputs": [],
   "source": [
    "results"
   ]
  },
  {
   "cell_type": "code",
   "execution_count": null,
   "metadata": {
    "colab": {},
    "colab_type": "code",
    "id": "hmT8DPBnGRPh"
   },
   "outputs": [],
   "source": [
    "y_val_pred_adj = adjust_predictions(ZERO_MASK_CUTOFF, X_val, y_val_pred.gt(MASK_CUTOFF), y_val.squeeze())"
   ]
  },
  {
   "cell_type": "code",
   "execution_count": null,
   "metadata": {
    "colab": {},
    "colab_type": "code",
    "id": "GCR_6IO1g7xE"
   },
   "outputs": [],
   "source": [
    "y_train_pred_adj = adjust_predictions(ZERO_MASK_CUTOFF, X_train, y_train_pred.gt(MASK_CUTOFF), y_train.squeeze())"
   ]
  },
  {
   "cell_type": "code",
   "execution_count": null,
   "metadata": {
    "colab": {},
    "colab_type": "code",
    "id": "IeXdGnrPgIDe"
   },
   "outputs": [],
   "source": [
    "results=[]\n",
    "for cut_off in range(0, 300, 10):\n",
    "  print(cut_off)\n",
    "  results.append(calc_mean_iou(adjust_predictions(cut_off, X_train, y_train_pred.gt(MASK_CUTOFF), y_train.squeeze()), y_train.squeeze()))"
   ]
  },
  {
   "cell_type": "code",
   "execution_count": null,
   "metadata": {
    "colab": {},
    "colab_type": "code",
    "id": "vQErtiLSgZPh"
   },
   "outputs": [],
   "source": [
    "range(0, 3000, 10)[np.argmax(results)]"
   ]
  },
  {
   "cell_type": "markdown",
   "metadata": {
    "colab_type": "text",
    "id": "o1oSze9o3Kp_"
   },
   "source": [
    "## Make predictions on test set"
   ]
  },
  {
   "cell_type": "code",
   "execution_count": null,
   "metadata": {
    "colab": {},
    "colab_type": "code",
    "id": "c-M7XAbPhcUm"
   },
   "outputs": [],
   "source": []
  },
  {
   "cell_type": "code",
   "execution_count": null,
   "metadata": {
    "colab": {},
    "colab_type": "code",
    "id": "4xzKpwGrhcOo"
   },
   "outputs": [],
   "source": []
  },
  {
   "cell_type": "code",
   "execution_count": null,
   "metadata": {
    "colab": {},
    "colab_type": "code",
    "id": "X6ocZkIAS8Zf"
   },
   "outputs": [],
   "source": [
    "#test_dataLoader = DataLoader(SaltDataset(np_test[:10], None, depth_test, X_train_mean_img), batch_size=4)\n",
    "test_dataLoader = DataLoader(SaltDataset(X_test, np.zeros_like(X_test), depth_test, X_train_mean_img, out_size=128), batch_size=16)"
   ]
  },
  {
   "cell_type": "code",
   "execution_count": null,
   "metadata": {
    "colab": {},
    "colab_type": "code",
    "id": "ChMRx1kh3KqE"
   },
   "outputs": [],
   "source": [
    "y_test_pred_raw = []\n",
    "with torch.no_grad():\n",
    "    for X_test_batch, y_test_batch, depth_test_batch, X_test_id_batch in test_dataLoader:\n",
    "        y_test_pred_raw.append(loaded_model(X_test_batch))\n",
    "y_test_pred = torch.cat(y_test_pred_raw)"
   ]
  },
  {
   "cell_type": "markdown",
   "metadata": {
    "colab_type": "text",
    "id": "M52jKbLA3KqM"
   },
   "source": [
    "### Encode predictions using RLE(Run Length Encoding) method"
   ]
  },
  {
   "cell_type": "code",
   "execution_count": null,
   "metadata": {
    "colab": {},
    "colab_type": "code",
    "id": "uW0shno43KqM"
   },
   "outputs": [],
   "source": [
    "y_test_pred_rle = rle_encoder3d(y_test_pred_adj)"
   ]
  },
  {
   "cell_type": "code",
   "execution_count": null,
   "metadata": {
    "colab": {},
    "colab_type": "code",
    "id": "sdPQnJqUS8Zr"
   },
   "outputs": [],
   "source": [
    "y_test_pred_adj.shape"
   ]
  },
  {
   "cell_type": "code",
   "execution_count": null,
   "metadata": {
    "colab": {},
    "colab_type": "code",
    "id": "9GaCKooz3KqN"
   },
   "outputs": [],
   "source": [
    "df_test_rle = pd.DataFrame(index=misc_data['np_test_ids'], data=y_test_pred_rle).reset_index()"
   ]
  },
  {
   "cell_type": "code",
   "execution_count": null,
   "metadata": {
    "colab": {},
    "colab_type": "code",
    "id": "loaXDzkM3KqQ"
   },
   "outputs": [],
   "source": [
    "df_test_rle.columns = ['id', 'rle_mask']"
   ]
  },
  {
   "cell_type": "code",
   "execution_count": null,
   "metadata": {
    "colab": {},
    "colab_type": "code",
    "id": "j_iM1oRr3KqS"
   },
   "outputs": [],
   "source": [
    "df_test_rle[df_test_rle.rle_mask==''].shape"
   ]
  },
  {
   "cell_type": "code",
   "execution_count": null,
   "metadata": {
    "colab": {},
    "colab_type": "code",
    "id": "BJzlb6q7cCM-"
   },
   "outputs": [],
   "source": [
    "df_test_rle.shape"
   ]
  },
  {
   "cell_type": "code",
   "execution_count": null,
   "metadata": {
    "colab": {},
    "colab_type": "code",
    "id": "09CFLpNL3KqY"
   },
   "outputs": [],
   "source": [
    "df_test_rle.to_csv(f'submission_{get_current_time_as_fname()}.csv', index=False)"
   ]
  },
  {
   "cell_type": "code",
   "execution_count": null,
   "metadata": {
    "colab": {},
    "colab_type": "code",
    "id": "s-yT6TajkR6U"
   },
   "outputs": [],
   "source": [
    "ls"
   ]
  },
  {
   "cell_type": "code",
   "execution_count": null,
   "metadata": {
    "colab": {},
    "colab_type": "code",
    "id": "o_1B43JYGRQI"
   },
   "outputs": [],
   "source": [
    "from google.colab import files\n"
   ]
  },
  {
   "cell_type": "code",
   "execution_count": null,
   "metadata": {
    "colab": {},
    "colab_type": "code",
    "id": "yV3mMqgRkYBT"
   },
   "outputs": [],
   "source": [
    "files.download('submission_2018_09_15_00_18_33.csv') "
   ]
  },
  {
   "cell_type": "markdown",
   "metadata": {
    "colab_type": "text",
    "id": "ZkzyRPIMDrAz"
   },
   "source": [
    "## TTA"
   ]
  },
  {
   "cell_type": "code",
   "execution_count": null,
   "metadata": {
    "colab": {},
    "colab_type": "code",
    "id": "x38qXbAkmFSH"
   },
   "outputs": [],
   "source": [
    "import numpy as np"
   ]
  },
  {
   "cell_type": "markdown",
   "metadata": {
    "colab_type": "text",
    "id": "AfLrLArrEK5m"
   },
   "source": [
    "### Predict using original image"
   ]
  },
  {
   "cell_type": "code",
   "execution_count": null,
   "metadata": {
    "colab": {},
    "colab_type": "code",
    "id": "bUDZxfzlD_Os"
   },
   "outputs": [],
   "source": [
    "test_dataLoader = DataLoader(SaltDataset(X_test, np.zeros_like(X_test), depth_test, X_train_mean_img, out_size=128), batch_size=16)"
   ]
  },
  {
   "cell_type": "code",
   "execution_count": null,
   "metadata": {
    "colab": {},
    "colab_type": "code",
    "id": "cqKBooA3EC4b"
   },
   "outputs": [],
   "source": [
    "y_test_pred_raw = []\n",
    "with torch.no_grad():\n",
    "    for X_test_batch, y_test_batch, depth_test_batch, X_test_id_batch in test_dataLoader:\n",
    "        y_test_pred_raw.append(loaded_model(X_test_batch))\n",
    "y_test_pred = torch.cat(y_test_pred_raw)"
   ]
  },
  {
   "cell_type": "markdown",
   "metadata": {
    "colab_type": "text",
    "id": "e7BiVrQKEFrk"
   },
   "source": [
    "### Predict using flipped images"
   ]
  },
  {
   "cell_type": "code",
   "execution_count": null,
   "metadata": {
    "colab": {},
    "colab_type": "code",
    "id": "KjPkHzKBmz7s"
   },
   "outputs": [],
   "source": [
    "p = Pipeline_Salt()\n",
    "p.flip_left_right(probability=1)\n",
    "test_dataLoader = DataLoader(SaltDataset(X_test, np.zeros_like(X_test), depth_test, X_train_mean_img, out_size=128, out_ch=1,\n",
    "                           transform=p.torch_transform()), batch_size=32)\n",
    "y_test_pred_flip = []\n",
    "\n",
    "with torch.no_grad():\n",
    "    for X_test_batch, y_test_batch, depth_test_batch, X_test_id_batch in test_dataLoader:\n",
    "        y_test_pred_flip.append(loaded_model(X_test_batch))\n",
    "y_test_pred_flip = torch.cat(y_test_pred_flip)\n",
    "y_test_pred_flip = torch.flip(y_test_pred_flip,[2])"
   ]
  },
  {
   "cell_type": "markdown",
   "metadata": {
    "colab_type": "text",
    "id": "U9t1Z0kiEQkG"
   },
   "source": [
    "### Combine non-flip and flip predictions"
   ]
  },
  {
   "cell_type": "code",
   "execution_count": null,
   "metadata": {
    "colab": {},
    "colab_type": "code",
    "id": "_zUtOPXwmz7y"
   },
   "outputs": [],
   "source": [
    "y_test_pred = torch.where(y_test_pred.abs() > y_test_pred_flip.abs(), y_test_pred, y_test_pred_flip)"
   ]
  },
  {
   "cell_type": "markdown",
   "metadata": {
    "colab_type": "text",
    "id": "bzkEuhBwEXBl"
   },
   "source": [
    "### Adjust predictions"
   ]
  },
  {
   "cell_type": "code",
   "execution_count": null,
   "metadata": {
    "colab": {},
    "colab_type": "code",
    "id": "89y4w6drFKSl"
   },
   "outputs": [],
   "source": [
    "print(f'MASK_CUTOFF:{MASK_CUTOFF}, ZERO_MASK_CUTOFF:{ZERO_MASK_CUTOFF}')"
   ]
  },
  {
   "cell_type": "code",
   "execution_count": null,
   "metadata": {
    "colab": {},
    "colab_type": "code",
    "id": "kSe7dmyMqnPF"
   },
   "outputs": [],
   "source": [
    "y_test_pred_adj = adjust_predictions(ZERO_MASK_CUTOFF, X_test, y_test_pred.gt(MASK_CUTOFF))\n"
   ]
  },
  {
   "cell_type": "markdown",
   "metadata": {
    "colab_type": "text",
    "id": "pd9DjVswEwUD"
   },
   "source": [
    "### Show segmentation masks for a few images"
   ]
  },
  {
   "cell_type": "code",
   "execution_count": null,
   "metadata": {
    "colab": {},
    "colab_type": "code",
    "id": "c9j_HYo6ExVL"
   },
   "outputs": [],
   "source": [
    "for i in range(10):\n",
    "    rand_id = np.random.choice(X_test_id_batch)\n",
    "    print(f'Image ID: {rand_id}')\n",
    "    img = X_test[rand_id]/255\n",
    "    mask_pred = y_test_pred.ge(0.5)[rand_id]\n",
    "    plot_img_mask_pred([img, mask_pred], range(2))"
   ]
  },
  {
   "cell_type": "markdown",
   "metadata": {
    "colab_type": "text",
    "id": "Bmi3NISwEaOt"
   },
   "source": [
    "### Prepare for submission"
   ]
  },
  {
   "cell_type": "code",
   "execution_count": null,
   "metadata": {
    "colab": {},
    "colab_type": "code",
    "id": "fATv5NS6hnkU"
   },
   "outputs": [],
   "source": [
    "y_test_pred_rle = rle_encoder3d(y_test_pred_adj)"
   ]
  },
  {
   "cell_type": "code",
   "execution_count": null,
   "metadata": {
    "colab": {},
    "colab_type": "code",
    "id": "BBNylCIDhnkX"
   },
   "outputs": [],
   "source": [
    "y_test_pred_adj.shape"
   ]
  },
  {
   "cell_type": "code",
   "execution_count": null,
   "metadata": {
    "colab": {},
    "colab_type": "code",
    "id": "hwSpGmvthnkd"
   },
   "outputs": [],
   "source": [
    "df_test_rle = pd.DataFrame(index=misc_data['np_test_ids'], data=y_test_pred_rle).reset_index()"
   ]
  },
  {
   "cell_type": "code",
   "execution_count": null,
   "metadata": {
    "colab": {},
    "colab_type": "code",
    "id": "r3bS6FoNhnki"
   },
   "outputs": [],
   "source": [
    "df_test_rle.columns = ['id', 'rle_mask']"
   ]
  },
  {
   "cell_type": "code",
   "execution_count": null,
   "metadata": {
    "colab": {},
    "colab_type": "code",
    "id": "JRDcCLpohnkn"
   },
   "outputs": [],
   "source": [
    "df_test_rle[df_test_rle.rle_mask==''].shape"
   ]
  },
  {
   "cell_type": "code",
   "execution_count": null,
   "metadata": {
    "colab": {},
    "colab_type": "code",
    "id": "vkOmz86lhnkw"
   },
   "outputs": [],
   "source": [
    "df_test_rle.shape"
   ]
  },
  {
   "cell_type": "code",
   "execution_count": null,
   "metadata": {
    "colab": {},
    "colab_type": "code",
    "id": "xr_NOtxBhnky"
   },
   "outputs": [],
   "source": [
    "df_test_rle.to_csv(f'submission_{get_current_time_as_fname()}.csv', index=False)"
   ]
  },
  {
   "cell_type": "code",
   "execution_count": null,
   "metadata": {
    "colab": {},
    "colab_type": "code",
    "id": "n__2CiMjhnk2"
   },
   "outputs": [],
   "source": [
    "ls"
   ]
  },
  {
   "cell_type": "code",
   "execution_count": null,
   "metadata": {
    "colab": {},
    "colab_type": "code",
    "id": "fCv-diichnk4"
   },
   "outputs": [],
   "source": [
    "from google.colab import files\n"
   ]
  },
  {
   "cell_type": "code",
   "execution_count": null,
   "metadata": {
    "colab": {},
    "colab_type": "code",
    "id": "NgzFDdcShnlA"
   },
   "outputs": [],
   "source": [
    "files.download('submission_2018_09_20_23_11_23.csv') "
   ]
  },
  {
   "cell_type": "code",
   "execution_count": null,
   "metadata": {
    "colab": {},
    "colab_type": "code",
    "id": "1D61fkPaiUR4"
   },
   "outputs": [],
   "source": []
  }
 ],
 "metadata": {
  "accelerator": "GPU",
  "colab": {
   "name": "salt_model_data_loader_V3.ipynb",
   "provenance": [],
   "version": "0.3.2"
  },
  "kernelspec": {
   "display_name": "Python 3",
   "language": "python",
   "name": "python3"
  },
  "language_info": {
   "codemirror_mode": {
    "name": "ipython",
    "version": 3
   },
   "file_extension": ".py",
   "mimetype": "text/x-python",
   "name": "python",
   "nbconvert_exporter": "python",
   "pygments_lexer": "ipython3",
   "version": "3.6.4"
  }
 },
 "nbformat": 4,
 "nbformat_minor": 2
}
