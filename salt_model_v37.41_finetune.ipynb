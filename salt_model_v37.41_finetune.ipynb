{
  "nbformat": 4,
  "nbformat_minor": 0,
  "metadata": {
    "colab": {
      "name": "salt_model_data_loader_V3.ipynb",
      "version": "0.3.2",
      "provenance": []
    },
    "kernelspec": {
      "display_name": "Python 3",
      "language": "python",
      "name": "python3"
    },
    "accelerator": "GPU"
  },
  "cells": [
    {
      "metadata": {
        "id": "IUnFr6MO3Kk3",
        "colab_type": "text"
      },
      "cell_type": "markdown",
      "source": [
        "# Changes:\n",
        "1. Based on salt_model_v37.4_high_lovasz_loss\n",
        "2. Fine tune from IOU 0.82"
      ]
    },
    {
      "metadata": {
        "id": "xaO5fG0VW5gB",
        "colab_type": "text"
      },
      "cell_type": "markdown",
      "source": [
        "## Install required packages if running on google colab"
      ]
    },
    {
      "metadata": {
        "id": "8n6EgF7sW5gC",
        "colab_type": "code",
        "colab": {
          "base_uri": "https://localhost:8080/",
          "height": 319
        },
        "outputId": "d7fdf0c5-cf00-4973-a05e-b497616cc925"
      },
      "cell_type": "code",
      "source": [
        "try:\n",
        "    import torch\n",
        "except:\n",
        "    !pip install torch torchvision\n",
        "    !pip install imageio\n",
        "    !pip install Augmentor\n",
        "    !git clone https://github.com/allen-q/salt_oil.git\n",
        "    !git clone https://github.com/allen-q/salt_net.git"
      ],
      "execution_count": 1,
      "outputs": [
        {
          "output_type": "stream",
          "text": [
            "Installing collected packages: Augmentor\n",
            "Successfully installed Augmentor-0.2.3\n",
            "Cloning into 'salt_oil'...\n",
            "remote: Enumerating objects: 71, done.\u001b[K\n",
            "remote: Counting objects: 100% (71/71), done.\u001b[K\n",
            "remote: Compressing objects: 100% (67/67), done.\u001b[K\n",
            "remote: Total 1287 (delta 37), reused 13 (delta 4), pack-reused 1216\u001b[K\n",
            "Receiving objects: 100% (1287/1287), 615.16 MiB | 15.13 MiB/s, done.\n",
            "Resolving deltas: 100% (794/794), done.\n",
            "Checking out files: 100% (165/165), done.\n",
            "Cloning into 'salt_net'...\n",
            "remote: Enumerating objects: 163, done.\u001b[K\n",
            "remote: Counting objects: 100% (163/163), done.\u001b[K\n",
            "remote: Compressing objects: 100% (101/101), done.\u001b[K\n",
            "remote: Total 6156 (delta 119), reused 106 (delta 62), pack-reused 5993\u001b[K\n",
            "Receiving objects: 100% (6156/6156), 2.12 GiB | 15.89 MiB/s, done.\n",
            "Resolving deltas: 100% (1539/1539), done.\n",
            "Checking out files: 100% (4197/4197), done.\n"
          ],
          "name": "stdout"
        }
      ]
    },
    {
      "metadata": {
        "id": "p3h4PngQ0s86",
        "colab_type": "code",
        "colab": {
          "base_uri": "https://localhost:8080/",
          "height": 34
        },
        "outputId": "af2deb0a-022d-491c-893f-3d1ae102ed5c"
      },
      "cell_type": "code",
      "source": [
        "cd salt_oil"
      ],
      "execution_count": 2,
      "outputs": [
        {
          "output_type": "stream",
          "text": [
            "/content/salt_oil\n"
          ],
          "name": "stdout"
        }
      ]
    },
    {
      "metadata": {
        "id": "UVnBJygnW5gK",
        "colab_type": "text"
      },
      "cell_type": "markdown",
      "source": [
        "## Import required libs"
      ]
    },
    {
      "metadata": {
        "id": "x1VSamfH3Kk6",
        "colab_type": "code",
        "colab": {}
      },
      "cell_type": "code",
      "source": [
        "import zipfile\n",
        "import torch\n",
        "import torchvision\n",
        "import torch.nn as nn\n",
        "import torch.nn.functional as F\n",
        "from torch.utils import data\n",
        "from torch.utils.data import Dataset, DataLoader\n",
        "from torchvision import transforms, utils\n",
        "from skimage import io, transform\n",
        "from sklearn.model_selection import train_test_split\n",
        "import numpy as np\n",
        "import pandas as pd\n",
        "import matplotlib.pyplot as ply\n",
        "import os\n",
        "import imageio\n",
        "from PIL import Image\n",
        "import glob\n",
        "import matplotlib.pyplot as plt\n",
        "import time\n",
        "import math\n",
        "import datetime as dt\n",
        "import pytz\n",
        "import pickle\n",
        "from salt_func_lib import *\n",
        "from torchvision import transforms, utils\n",
        "from skimage import io, transform\n",
        "import datetime as dt\n",
        "import sys\n",
        "from optparse import OptionParser\n",
        "import torch.backends.cudnn as cudnn\n",
        "from torch import optim\n",
        "from torch.optim import lr_scheduler\n",
        "import copy\n",
        "from io import BytesIO\n",
        "import random\n",
        "import PIL\n",
        "import cv2 as cv\n",
        "% matplotlib inline\n",
        "% load_ext autoreload\n",
        "% autoreload 2"
      ],
      "execution_count": 0,
      "outputs": []
    },
    {
      "metadata": {
        "id": "I87qLhAOW5gO",
        "colab_type": "text"
      },
      "cell_type": "markdown",
      "source": [
        "## Load Unet Modules"
      ]
    },
    {
      "metadata": {
        "id": "eC32auGDqVZi",
        "colab_type": "code",
        "colab": {}
      },
      "cell_type": "code",
      "source": [
        "from pytorch_unet.eval import eval_net\n",
        "from pytorch_unet.unet import UNet\n",
        "from pytorch_unet.unet.unet_parts import *\n",
        "from pytorch_unet.unet.resnet import *\n",
        "from pytorch_unet.utils import get_ids, split_ids, split_train_val, get_imgs_and_masks, batch"
      ],
      "execution_count": 0,
      "outputs": []
    },
    {
      "metadata": {
        "id": "6O8Wz9H_iTDE",
        "colab_type": "code",
        "colab": {}
      },
      "cell_type": "code",
      "source": [
        "## Setup data type based on whether GPU is enabled"
      ],
      "execution_count": 0,
      "outputs": []
    },
    {
      "metadata": {
        "id": "QKYhIfCtEk6C",
        "colab_type": "code",
        "colab": {
          "base_uri": "https://localhost:8080/",
          "height": 34
        },
        "outputId": "59eef85d-f900-428b-d3db-4ff61b8d413f"
      },
      "cell_type": "code",
      "source": [
        "if torch.cuda.is_available():\n",
        "    dtype = torch.cuda.FloatTensor ## UNCOMMENT THIS LINE IF YOU'RE ON A GPU!\n",
        "else:    \n",
        "    dtype = torch.FloatTensor\n",
        "print(f'Data Type set to: {dtype}')"
      ],
      "execution_count": 6,
      "outputs": [
        {
          "output_type": "stream",
          "text": [
            "Data Type set to: <class 'torch.cuda.FloatTensor'>\n"
          ],
          "name": "stdout"
        }
      ]
    },
    {
      "metadata": {
        "id": "lRawI4_RdLLk",
        "colab_type": "code",
        "colab": {}
      },
      "cell_type": "code",
      "source": [
        "def setup_train(config_list):\n",
        "    for conf in config_list:\n",
        "        log.info(conf)\n",
        "    for conf in config_list:\n",
        "        exec(conf)"
      ],
      "execution_count": 0,
      "outputs": []
    },
    {
      "metadata": {
        "id": "30EV6nbKbtyV",
        "colab_type": "text"
      },
      "cell_type": "markdown",
      "source": [
        "## Create Logger"
      ]
    },
    {
      "metadata": {
        "id": "s5JTwFPaaZB1",
        "colab_type": "code",
        "colab": {}
      },
      "cell_type": "code",
      "source": [
        "global log\n",
        "log = get_logger('salt_model_v37.41_finetune3')"
      ],
      "execution_count": 0,
      "outputs": []
    },
    {
      "metadata": {
        "id": "aEXPdEFd3KmA",
        "colab_type": "text"
      },
      "cell_type": "markdown",
      "source": [
        "## Prepare Data"
      ]
    },
    {
      "metadata": {
        "id": "53yVOPsQ3KmB",
        "colab_type": "text"
      },
      "cell_type": "markdown",
      "source": [
        "### Load train and test data from npy files or from raw images if npy files not exist."
      ]
    },
    {
      "metadata": {
        "id": "wO1kf6HW3KmC",
        "colab_type": "code",
        "colab": {
          "base_uri": "https://localhost:8080/",
          "height": 50
        },
        "outputId": "78942141-f4e5-4b84-f9e4-2c171a930296"
      },
      "cell_type": "code",
      "source": [
        "np_train_all, np_train_all_mask, X_test, misc_data = load_all_data()"
      ],
      "execution_count": 9,
      "outputs": [
        {
          "output_type": "stream",
          "text": [
            "Try loading data from npy and pickle files...\n",
            "Data loaded.\n"
          ],
          "name": "stdout"
        }
      ]
    },
    {
      "metadata": {
        "id": "QD27mlbPRE8q",
        "colab_type": "code",
        "colab": {}
      },
      "cell_type": "code",
      "source": [
        "'''p = Pipeline_Salt()\n",
        "p.random_brightness(1,0.8,1.2)\n",
        "p.random_contrast(1,0.8,1.2)\n",
        "p.rotate_random_align(probability=1)\n",
        "img = np.c_[np.tile(X_train[840], 2), y_train[840]]\n",
        "img_in = PIL.Image.fromarray(img)\n",
        "tsfm = p.torch_transform()\n",
        "img_out = tsfm(img_in)\n",
        "plt.imshow(np.array(img_in)[:,:,0], cmap='gray')\n",
        "plt.imshow(np.array(img_out)[:,:,0], cmap='gray')'''"
      ],
      "execution_count": 0,
      "outputs": []
    },
    {
      "metadata": {
        "id": "DNIS7zT23KmI",
        "colab_type": "text"
      },
      "cell_type": "markdown",
      "source": [
        "### Train Val data split"
      ]
    },
    {
      "metadata": {
        "id": "2L51fSDkpyNV",
        "colab_type": "code",
        "colab": {}
      },
      "cell_type": "code",
      "source": [
        "df_train_mask = pd.DataFrame((np_train_all_mask/255).sum((1,2,3)), columns=['mask_pix'])\n",
        "df_train_mask.mask_pix = df_train_mask.mask_pix.round(-2)\n",
        "\n",
        "X_train_ids, X_val_ids = (\n",
        "    train_test_split(df_train_mask.index.tolist(), \n",
        "                     test_size=0.20,\n",
        "                     stratify = df_train_mask.mask_pix,\n",
        "                     random_state=0)\n",
        ")\n",
        "\n",
        "X_train = np_train_all[X_train_ids]\n",
        "X_val = np_train_all[X_val_ids]\n",
        "y_train = np_train_all_mask[X_train_ids]\n",
        "y_val = np_train_all_mask[X_val_ids]\n",
        "depth_train = (\n",
        "    misc_data['df_train_all_depth']\n",
        "    .reindex(np.array(misc_data['np_train_all_ids'])[X_train_ids])\n",
        ")\n",
        "depth_val = (\n",
        "    misc_data['df_train_all_depth']\n",
        "    .reindex(np.array(misc_data['np_train_all_ids'])[X_val_ids])\n",
        ")\n",
        "depth_test = (\n",
        "    misc_data['df_train_all_depth']\n",
        "    .reindex(np.array(misc_data['np_test_ids']))\n",
        ")\n",
        "#X_train_mean_img = X_train.mean(0).astype(np.float32)\n",
        "#X_train_mean_img = X_train.mean((0,1,2)).astype(np.float32)\n",
        "X_train_mean_img = np.clip(np_train_all/255, 0, 1).mean((0,1,2)).astype(np.float32)\n",
        "#set mean image to 0 as mean is now being handled within the model.\n",
        "X_train_mean_img = np.zeros_like(X_train_mean_img)\n",
        "\n",
        "all_data = {\n",
        "    'X_train': X_train,\n",
        "    'X_val': X_val,\n",
        "    'y_train': y_train,\n",
        "    'y_val': y_val,\n",
        "    'X_test': X_test,\n",
        "    'X_train_mean_img': X_train_mean_img\n",
        "}\n",
        "\n",
        "assert X_train_mean_img == np.array([0.])\n",
        "assert X_train.shape == (3200, 101, 101, 1)\n",
        "assert y_train.shape == (3200, 101, 101, 1)\n",
        "assert depth_train.shape == (3200, 1)"
      ],
      "execution_count": 0,
      "outputs": []
    },
    {
      "metadata": {
        "id": "dasEpZc0QmOt",
        "colab_type": "text"
      },
      "cell_type": "markdown",
      "source": [
        "## Train the model using a small data set to see if it can overfit"
      ]
    },
    {
      "metadata": {
        "id": "i06Rq5WxRE8y",
        "colab_type": "code",
        "colab": {}
      },
      "cell_type": "code",
      "source": [
        "aug_pipeline_config = '''\n",
        "p = Pipeline_Salt()\n",
        "p.flip_left_right(probability=0.5)\n",
        "p.random_brightness(probability=0.5, min_factor=0.8, max_factor=1.2)\n",
        "p.random_contrast(probability=0.5, min_factor=0.8, max_factor=1.2)\n",
        "p.rotate_random_align(probability=0.5)\n",
        "p.crop_random_align(probability=0.5, min_factor=0.8, max_factor=1.0, mask_diff_pct=0.2)\n",
        "'''"
      ],
      "execution_count": 0,
      "outputs": []
    },
    {
      "metadata": {
        "id": "EOakYP-HaZCN",
        "colab_type": "code",
        "colab": {}
      },
      "cell_type": "code",
      "source": [
        "data_loader_config = '''\n",
        "train_data_params = {'batch_size': 2, 'shuffle': True,}\n",
        "val_data_params = {'batch_size': 2, 'shuffle': True,}\n",
        "train_dataLoader = (\n",
        "    DataLoader(SaltDataset(X_train[:16], y_train[:16], depth_train[:16],\n",
        "                           np.zeros_like(X_train_mean_img), out_size=128,  out_ch=1,\n",
        "                           transform=p.torch_transform()), **train_data_params)\n",
        ")\n",
        "\n",
        "val_dataLoader = (\n",
        "    DataLoader(SaltDataset(X_val[:8], y_val[:8], depth_val[:8], \n",
        "                           np.zeros_like(X_train_mean_img), out_size=128, out_ch=1), **val_data_params)\n",
        ")\n",
        "\n",
        "dataloaders = {'train': train_dataLoader, 'val':val_dataLoader}\n",
        "\n",
        "'''"
      ],
      "execution_count": 0,
      "outputs": []
    },
    {
      "metadata": {
        "id": "_gzDNlNTaZCa",
        "colab_type": "code",
        "colab": {}
      },
      "cell_type": "code",
      "source": [
        "model_config = '''\n",
        "saltnet = UResNet(pretrained=False)\n",
        "\n",
        "loss_fn_bce = nn.BCEWithLogitsLoss(pos_weight=torch.tensor(2.0).type(dtype))\n",
        "#loss_focal = FocalLoss(0.25, 2, logits=True)\n",
        "loss_lovasz_hinge = LovaszHingeLoss()\n",
        "\n",
        "resnet_params = (\n",
        "    list(saltnet.conv1.parameters()) + \n",
        "    list(saltnet.encoder2.parameters()) + \n",
        "    list(saltnet.encoder3.parameters()) + \n",
        "    list(saltnet.encoder4.parameters()) + \n",
        "    list(saltnet.encoder5.parameters())\n",
        ")\n",
        "\n",
        "unet_params = (\n",
        "    list(saltnet.center.parameters()) + \n",
        "    list(saltnet.decoder5.parameters()) + \n",
        "    list(saltnet.decoder4.parameters()) + \n",
        "    list(saltnet.decoder3.parameters()) + \n",
        "    list(saltnet.decoder2.parameters()) + \n",
        "    list(saltnet.decoder1.parameters())  + \n",
        "    list(saltnet.se_f.parameters()) + \n",
        "    list(saltnet.outc.parameters())\n",
        ")\n",
        "\n",
        "#optimizer = optim.Adam([    \n",
        "#    {'params': resnet_params, 'lr': 1e-4},\n",
        "#    {'params': unet_params, 'lr': 1e-3},\n",
        "#])\n",
        "optimizer = optim.SGD([    \n",
        "    {'params': resnet_params, 'lr': 1e-4},\n",
        "    {'params': unet_params, 'lr': 1e-3},\n",
        "], momentum=0.9, weight_decay=0.0001)\n",
        "\n",
        "#scheduler = lr_scheduler.StepLR(optimizer, step_size=50, gamma=0.1)\n",
        "#scheduler = torch.optim.lr_scheduler.LambdaLR(optimizer, lr_lambda=[lr_lambda_enc, lr_lambda_dec])\n",
        "scheduler = PolyLR(optimizer, [1e-4, 1e-3], lr_decay_iter=1, max_iter=150, power=0.9)\n",
        "model_save_name = None\n",
        "'''"
      ],
      "execution_count": 0,
      "outputs": []
    },
    {
      "metadata": {
        "id": "4azPo_ryaZCf",
        "colab_type": "code",
        "colab": {}
      },
      "cell_type": "code",
      "source": [
        "train_params_config = '''\n",
        "train_params = {\n",
        "    'model_save_name': None,\n",
        "    'save_model_every': 10000,\n",
        "    'save_log_every': 100,\n",
        "    'num_epochs': 10,\n",
        "    'print_every': 2,\n",
        "    'log': log,\n",
        "    'mask_cutoff': 0,\n",
        "    'model_save_iou_threshold': 0.1\n",
        "    }\n",
        "'''"
      ],
      "execution_count": 0,
      "outputs": []
    },
    {
      "metadata": {
        "id": "4xhF5_R0aZCk",
        "colab_type": "code",
        "colab": {}
      },
      "cell_type": "code",
      "source": [
        "model_run_config = '''\n",
        "model = train_model(saltnet, dataloaders, (loss_fn_bce, loss_lovasz_hinge), (1, 0.5), optimizer, scheduler, train_params, all_data)\n",
        "'''"
      ],
      "execution_count": 0,
      "outputs": []
    },
    {
      "metadata": {
        "id": "sO7XLEJgaZCq",
        "colab_type": "code",
        "colab": {}
      },
      "cell_type": "code",
      "source": [
        "config_list = [aug_pipeline_config, data_loader_config, model_config, train_params_config, model_run_config]"
      ],
      "execution_count": 0,
      "outputs": []
    },
    {
      "metadata": {
        "id": "pE7Q6dd3xPBR",
        "colab_type": "code",
        "colab": {}
      },
      "cell_type": "code",
      "source": [
        "setup_train(config_list)"
      ],
      "execution_count": 0,
      "outputs": []
    },
    {
      "metadata": {
        "id": "zJ3DJ4hAQmOw",
        "colab_type": "text"
      },
      "cell_type": "markdown",
      "source": [
        "## Finetune 1"
      ]
    },
    {
      "metadata": {
        "id": "AZkSxKV2sIkN",
        "colab_type": "code",
        "colab": {}
      },
      "cell_type": "code",
      "source": [
        "log.info('Based on salt_model_v37.4_high_lovasz_loss. Fine tune using lavasz loss only. More data aug and L2 loss')"
      ],
      "execution_count": 0,
      "outputs": []
    },
    {
      "metadata": {
        "id": "R_sJ4aApaZDB",
        "colab_type": "code",
        "colab": {}
      },
      "cell_type": "code",
      "source": [
        "aug_pipeline_config = '''\n",
        "p = Pipeline_Salt()\n",
        "p.flip_left_right(probability=0.5)\n",
        "p.rotate90(0.25)\n",
        "p.rotate270(0.25)\n",
        "p.random_brightness(probability=0.5, min_factor=0.8, max_factor=1.2)\n",
        "p.random_contrast(probability=0.5, min_factor=0.8, max_factor=1.2)\n",
        "p.rotate_random_align(probability=0.6)\n",
        "p.crop_random_align(probability=0.6, min_factor=0.6, max_factor=1.0, mask_diff_pct=0.2)\n",
        "'''"
      ],
      "execution_count": 0,
      "outputs": []
    },
    {
      "metadata": {
        "id": "U7gYECBYaZDJ",
        "colab_type": "code",
        "colab": {}
      },
      "cell_type": "code",
      "source": [
        "data_loader_config = '''\n",
        "train_data_params = {'batch_size': 32,\n",
        "                     #'sampler': weighted_sampler,\n",
        "                     'shuffle': True,\n",
        "                     'drop_last': False}\n",
        "\n",
        "val_data_params = {'batch_size': 32,\n",
        "                   'shuffle': True,\n",
        "                   'drop_last': False}\n",
        "\n",
        "train_dataLoader = (\n",
        "    DataLoader(SaltDataset(X_train, y_train, depth_train,\n",
        "                           np.zeros_like(X_train_mean_img), out_size=128,  out_ch=1,\n",
        "                           transform=p.torch_transform()), **train_data_params)\n",
        ")\n",
        "\n",
        "val_dataLoader = (\n",
        "    DataLoader(SaltDataset(X_val, y_val, depth_val, \n",
        "                           np.zeros_like(X_train_mean_img), out_size=128, out_ch=1), **val_data_params)\n",
        ")\n",
        "\n",
        "dataloaders = {'train': train_dataLoader, 'val':val_dataLoader}\n",
        "'''"
      ],
      "execution_count": 0,
      "outputs": []
    },
    {
      "metadata": {
        "id": "iq6HuPQp-F-Q",
        "colab_type": "code",
        "colab": {}
      },
      "cell_type": "code",
      "source": [
        "saltnet = UResNet(pretrained=True)"
      ],
      "execution_count": 0,
      "outputs": []
    },
    {
      "metadata": {
        "id": "YeZNCBQu-AfL",
        "colab_type": "code",
        "colab": {}
      },
      "cell_type": "code",
      "source": [
        "model_file_suffix = \"salt_model_v37.4_high_lovasz_loss_2018_10_05_10_43_22.ckp\"\n",
        "model_state_dict = torch.load(join_files(model_file_suffix, '.', returnFileObject=True, removeChunks=False))\n",
        "saltnet.load_state_dict(model_state_dict['model'])"
      ],
      "execution_count": 0,
      "outputs": []
    },
    {
      "metadata": {
        "id": "2E3iHDtlaZDR",
        "colab_type": "code",
        "colab": {}
      },
      "cell_type": "code",
      "source": [
        "model_config = '''\n",
        "#saltnet = UResNet(pretrained=True)\n",
        "loss_fn_bce = nn.BCEWithLogitsLoss(pos_weight=torch.tensor(2.0).type(dtype))\n",
        "#loss_focal = FocalLoss(0.25, 2, logits=True)\n",
        "loss_lovasz_hinge = LovaszHingeLoss()\n",
        "resnet_params = (\n",
        "    list(saltnet.conv1.parameters()) + \n",
        "    list(saltnet.encoder2.parameters()) + \n",
        "    list(saltnet.encoder3.parameters()) + \n",
        "    list(saltnet.encoder4.parameters()) + \n",
        "    list(saltnet.encoder5.parameters())\n",
        ")\n",
        "\n",
        "unet_params = (\n",
        "    list(saltnet.center.parameters()) + \n",
        "    list(saltnet.decoder5.parameters()) + \n",
        "    list(saltnet.decoder4.parameters()) + \n",
        "    list(saltnet.decoder3.parameters()) + \n",
        "    list(saltnet.decoder2.parameters()) + \n",
        "    list(saltnet.decoder1.parameters())  + \n",
        "    list(saltnet.se_f.parameters()) + \n",
        "    list(saltnet.outc.parameters())\n",
        ")\n",
        "optimizer = optim.Adam([    \n",
        "    {'params': resnet_params, 'lr': 5e-5},\n",
        "    {'params': unet_params, 'lr': 5e-4},\n",
        "], weight_decay=0.0002)\n",
        "#optimizer = optim.SGD([    \n",
        "#    {'params': resnet_params, 'lr': 1e-4},\n",
        "#    {'params': unet_params, 'lr': 1e-3},\n",
        "#], momentum=0.9, weight_decay=0.00001)\n",
        "\n",
        "#scheduler = torch.optim.lr_scheduler.ReduceLROnPlateau(optimizer, mode='min', factor=0.5, patience=5, verbose=True, threshold=0.0001, min_lr=0.00001)\n",
        "scheduler = PolyLR(optimizer, [5e-5, 5e-4], lr_decay_iter=1, max_iter=50, power=0.9)\n",
        "model_save_name = f'../salt_net/salt_model_v37.41_finetune1_{get_current_time_as_fname()}.ckp'\n",
        "log.info(model_save_name)\n",
        "'''"
      ],
      "execution_count": 0,
      "outputs": []
    },
    {
      "metadata": {
        "id": "I0YGWcupaZDW",
        "colab_type": "code",
        "colab": {}
      },
      "cell_type": "code",
      "source": [
        "train_params_config = '''\n",
        "train_params = {\n",
        "    'model_save_name': model_save_name,\n",
        "    'save_model_every': 20,\n",
        "    'save_log_every': 2,\n",
        "    'num_epochs': 50,\n",
        "    'log': log,\n",
        "    'mask_cutoff': 0.,\n",
        "    'model_save_iou_threshold': 0.825\n",
        "    }\n",
        "'''"
      ],
      "execution_count": 0,
      "outputs": []
    },
    {
      "metadata": {
        "id": "Njb68KldaZDZ",
        "colab_type": "code",
        "colab": {}
      },
      "cell_type": "code",
      "source": [
        "model_run_config = '''\n",
        "train_model(saltnet, dataloaders, (loss_lovasz_hinge, ), (1, ), optimizer, scheduler, train_params, all_data)\n",
        "'''"
      ],
      "execution_count": 0,
      "outputs": []
    },
    {
      "metadata": {
        "id": "-VbLGjnuaZDc",
        "colab_type": "code",
        "colab": {}
      },
      "cell_type": "code",
      "source": [
        "config_list = [aug_pipeline_config, data_loader_config, model_config, train_params_config, model_run_config]"
      ],
      "execution_count": 0,
      "outputs": []
    },
    {
      "metadata": {
        "id": "YTb0lfCGaZDe",
        "colab_type": "code",
        "colab": {}
      },
      "cell_type": "code",
      "source": [
        "setup_train(config_list)"
      ],
      "execution_count": 0,
      "outputs": []
    },
    {
      "metadata": {
        "id": "-tEKsUoEYOf3",
        "colab_type": "code",
        "colab": {}
      },
      "cell_type": "code",
      "source": [
        ""
      ],
      "execution_count": 0,
      "outputs": []
    },
    {
      "metadata": {
        "id": "T1QAyacE-_SR",
        "colab_type": "text"
      },
      "cell_type": "markdown",
      "source": [
        "## Finetune 2"
      ]
    },
    {
      "metadata": {
        "id": "jD1bfFI4-_ST",
        "colab_type": "code",
        "colab": {}
      },
      "cell_type": "code",
      "source": [
        "log.info('Based on salt_model_v37.4_high_lovasz_loss. Fine tune using lavasz loss and focal loss. More data aug and L2 loss, smaller batch.')"
      ],
      "execution_count": 0,
      "outputs": []
    },
    {
      "metadata": {
        "id": "39QHyIJw-_Sc",
        "colab_type": "code",
        "colab": {}
      },
      "cell_type": "code",
      "source": [
        "aug_pipeline_config = '''\n",
        "p = Pipeline_Salt()\n",
        "p.skew(probability=0.5, magnitude=0.2)\n",
        "p.random_distortion(probability=0.5, grid_width=3, grid_height=3, magnitude=3)\n",
        "p.flip_left_right(probability=0.5)\n",
        "p.rotate90(0.25)\n",
        "p.rotate270(0.25)\n",
        "p.random_brightness(probability=0.5, min_factor=0.8, max_factor=1.2)\n",
        "p.random_contrast(probability=0.5, min_factor=0.8, max_factor=1.2)\n",
        "p.rotate_random_align(probability=0.6)\n",
        "p.crop_random_align(probability=0.6, min_factor=0.6, max_factor=1.0, mask_diff_pct=0.2)\n",
        "'''"
      ],
      "execution_count": 0,
      "outputs": []
    },
    {
      "metadata": {
        "id": "jEJ5T2W8-_Sk",
        "colab_type": "code",
        "colab": {}
      },
      "cell_type": "code",
      "source": [
        "data_loader_config = '''\n",
        "train_data_params = {'batch_size': 16,\n",
        "                     #'sampler': weighted_sampler,\n",
        "                     'shuffle': True,\n",
        "                     'drop_last': False}\n",
        "\n",
        "val_data_params = {'batch_size': 16,\n",
        "                   'shuffle': True,\n",
        "                   'drop_last': False}\n",
        "\n",
        "train_dataLoader = (\n",
        "    DataLoader(SaltDataset(X_train, y_train, depth_train,\n",
        "                           np.zeros_like(X_train_mean_img), out_size=128,  out_ch=1,\n",
        "                           transform=p.torch_transform()), **train_data_params)\n",
        ")\n",
        "\n",
        "val_dataLoader = (\n",
        "    DataLoader(SaltDataset(X_val, y_val, depth_val, \n",
        "                           np.zeros_like(X_train_mean_img), out_size=128, out_ch=1), **val_data_params)\n",
        ")\n",
        "\n",
        "dataloaders = {'train': train_dataLoader, 'val':val_dataLoader}\n",
        "'''"
      ],
      "execution_count": 0,
      "outputs": []
    },
    {
      "metadata": {
        "id": "0UiVj6Er_aZj",
        "colab_type": "code",
        "colab": {}
      },
      "cell_type": "code",
      "source": [
        ""
      ],
      "execution_count": 0,
      "outputs": []
    },
    {
      "metadata": {
        "id": "p_hHb5Lk-_Sp",
        "colab_type": "code",
        "colab": {}
      },
      "cell_type": "code",
      "source": [
        "saltnet = UResNet(pretrained=True)"
      ],
      "execution_count": 0,
      "outputs": []
    },
    {
      "metadata": {
        "id": "FZSU8XrX_bLM",
        "colab_type": "code",
        "colab": {}
      },
      "cell_type": "code",
      "source": [
        "cd ../salt_net"
      ],
      "execution_count": 0,
      "outputs": []
    },
    {
      "metadata": {
        "id": "-YX7iI5Y-_Sw",
        "colab_type": "code",
        "colab": {}
      },
      "cell_type": "code",
      "source": [
        "model_file_suffix = \"salt_model_v37.4_high_lovasz_loss_2018_10_05_10_43_22.ckp\"\n",
        "model_state_dict = torch.load(join_files(model_file_suffix, '.', returnFileObject=True, removeChunks=False))\n",
        "saltnet.load_state_dict(model_state_dict['model'])"
      ],
      "execution_count": 0,
      "outputs": []
    },
    {
      "metadata": {
        "id": "L5jdtI-n-_S1",
        "colab_type": "code",
        "colab": {}
      },
      "cell_type": "code",
      "source": [
        "model_config = '''\n",
        "#saltnet = UResNet(pretrained=True)\n",
        "#loss_fn_bce = nn.BCEWithLogitsLoss(pos_weight=torch.tensor(2.0).type(dtype))\n",
        "loss_focal = FocalLoss(0.25, 2, logits=True)\n",
        "loss_lovasz_hinge = LovaszHingeLoss()\n",
        "resnet_params = (\n",
        "    list(saltnet.conv1.parameters()) + \n",
        "    list(saltnet.encoder2.parameters()) + \n",
        "    list(saltnet.encoder3.parameters()) + \n",
        "    list(saltnet.encoder4.parameters()) + \n",
        "    list(saltnet.encoder5.parameters())\n",
        ")\n",
        "\n",
        "unet_params = (\n",
        "    list(saltnet.center.parameters()) + \n",
        "    list(saltnet.decoder5.parameters()) + \n",
        "    list(saltnet.decoder4.parameters()) + \n",
        "    list(saltnet.decoder3.parameters()) + \n",
        "    list(saltnet.decoder2.parameters()) + \n",
        "    list(saltnet.decoder1.parameters())  + \n",
        "    list(saltnet.se_f.parameters()) + \n",
        "    list(saltnet.outc.parameters())\n",
        ")\n",
        "optimizer = optim.Adam([    \n",
        "    {'params': resnet_params, 'lr': 5e-5},\n",
        "    {'params': unet_params, 'lr': 5e-4},\n",
        "], weight_decay=0.0002)\n",
        "#optimizer = optim.SGD([    \n",
        "#    {'params': resnet_params, 'lr': 1e-4},\n",
        "#    {'params': unet_params, 'lr': 1e-3},\n",
        "#], momentum=0.9, weight_decay=0.00001)\n",
        "\n",
        "#scheduler = torch.optim.lr_scheduler.ReduceLROnPlateau(optimizer, mode='min', factor=0.5, patience=5, verbose=True, threshold=0.0001, min_lr=0.00001)\n",
        "scheduler = PolyLR(optimizer, [5e-5, 5e-4], lr_decay_iter=1, max_iter=150, power=0.9)\n",
        "model_save_name = f'../salt_net/salt_model_v37.41_finetune2_{get_current_time_as_fname()}.ckp'\n",
        "log.info(model_save_name)\n",
        "'''"
      ],
      "execution_count": 0,
      "outputs": []
    },
    {
      "metadata": {
        "id": "bI_P3-MB-_S3",
        "colab_type": "code",
        "colab": {}
      },
      "cell_type": "code",
      "source": [
        "train_params_config = '''\n",
        "train_params = {\n",
        "    'model_save_name': model_save_name,\n",
        "    'save_model_every': 20,\n",
        "    'save_log_every': 2,\n",
        "    'num_epochs': 150,\n",
        "    'log': log,\n",
        "    'mask_cutoff': 0.,\n",
        "    'model_save_iou_threshold': 0.825\n",
        "    }\n",
        "'''"
      ],
      "execution_count": 0,
      "outputs": []
    },
    {
      "metadata": {
        "id": "9bCwIBG3-_S9",
        "colab_type": "code",
        "colab": {}
      },
      "cell_type": "code",
      "source": [
        "model_run_config = '''\n",
        "train_model(saltnet, dataloaders, (loss_lovasz_hinge, loss_focal), (1, 1), optimizer, scheduler, train_params, all_data)\n",
        "'''"
      ],
      "execution_count": 0,
      "outputs": []
    },
    {
      "metadata": {
        "id": "e2k3tRu5-_TH",
        "colab_type": "code",
        "colab": {}
      },
      "cell_type": "code",
      "source": [
        "config_list = [aug_pipeline_config, data_loader_config, model_config, train_params_config, model_run_config]"
      ],
      "execution_count": 0,
      "outputs": []
    },
    {
      "metadata": {
        "id": "8KC8Vyyt-_TK",
        "colab_type": "code",
        "colab": {}
      },
      "cell_type": "code",
      "source": [
        "setup_train(config_list)"
      ],
      "execution_count": 0,
      "outputs": []
    },
    {
      "metadata": {
        "id": "NRGOofT-c2Gv",
        "colab_type": "code",
        "colab": {}
      },
      "cell_type": "code",
      "source": [
        ""
      ],
      "execution_count": 0,
      "outputs": []
    },
    {
      "metadata": {
        "id": "PxUya4_qc2Mt",
        "colab_type": "code",
        "colab": {}
      },
      "cell_type": "code",
      "source": [
        ""
      ],
      "execution_count": 0,
      "outputs": []
    },
    {
      "metadata": {
        "id": "9C_qdeNjdXKE",
        "colab_type": "code",
        "colab": {}
      },
      "cell_type": "code",
      "source": [
        ""
      ],
      "execution_count": 0,
      "outputs": []
    },
    {
      "metadata": {
        "id": "vhDfzX6wc2hC",
        "colab_type": "text"
      },
      "cell_type": "markdown",
      "source": [
        "## Finetune 3"
      ]
    },
    {
      "metadata": {
        "id": "ZfjRXzk-c2hF",
        "colab_type": "code",
        "colab": {
          "base_uri": "https://localhost:8080/",
          "height": 34
        },
        "outputId": "a4ba4bd5-7e56-44e5-a1da-95143538189a"
      },
      "cell_type": "code",
      "source": [
        "log.info('Based on salt_model_v37.4_high_lovasz_loss. Fine tune 3 using lavasz loss and bce loss.')"
      ],
      "execution_count": 11,
      "outputs": [
        {
          "output_type": "stream",
          "text": [
            "05/10/2018 23:04:10 - salt_model_v37.41_finetune3 - INFO - Based on salt_model_v37.4_high_lovasz_loss. Fine tune 3 using lavasz loss and bce loss.\n"
          ],
          "name": "stderr"
        }
      ]
    },
    {
      "metadata": {
        "id": "ELKDjoQic2hM",
        "colab_type": "code",
        "colab": {}
      },
      "cell_type": "code",
      "source": [
        "aug_pipeline_config = '''\n",
        "p = Pipeline_Salt()\n",
        "p.skew(probability=0.5, magnitude=0.2)\n",
        "p.random_distortion(probability=0.5, grid_width=3, grid_height=3, magnitude=3)\n",
        "p.flip_left_right(probability=0.5)\n",
        "p.rotate90(0.25)\n",
        "p.rotate270(0.25)\n",
        "p.random_brightness(probability=0.5, min_factor=0.8, max_factor=1.2)\n",
        "p.random_contrast(probability=0.5, min_factor=0.8, max_factor=1.2)\n",
        "p.rotate_random_align(probability=0.5)\n",
        "p.crop_random_align(probability=0.5, min_factor=0.6, max_factor=1.0, mask_diff_pct=0.2)\n",
        "'''"
      ],
      "execution_count": 0,
      "outputs": []
    },
    {
      "metadata": {
        "id": "ig__RHOpc2hQ",
        "colab_type": "code",
        "colab": {}
      },
      "cell_type": "code",
      "source": [
        "data_loader_config = '''\n",
        "train_data_params = {'batch_size': 32,\n",
        "                     #'sampler': weighted_sampler,\n",
        "                     'shuffle': True,\n",
        "                     'drop_last': False}\n",
        "\n",
        "val_data_params = {'batch_size': 32,\n",
        "                   'shuffle': True,\n",
        "                   'drop_last': False}\n",
        "\n",
        "train_dataLoader = (\n",
        "    DataLoader(SaltDataset(X_train, y_train, depth_train,\n",
        "                           np.zeros_like(X_train_mean_img), out_size=128,  out_ch=1,\n",
        "                           transform=p.torch_transform()), **train_data_params)\n",
        ")\n",
        "\n",
        "val_dataLoader = (\n",
        "    DataLoader(SaltDataset(X_val, y_val, depth_val, \n",
        "                           np.zeros_like(X_train_mean_img), out_size=128, out_ch=1), **val_data_params)\n",
        ")\n",
        "\n",
        "dataloaders = {'train': train_dataLoader, 'val':val_dataLoader}\n",
        "'''"
      ],
      "execution_count": 0,
      "outputs": []
    },
    {
      "metadata": {
        "id": "QnWNXzWkc2hb",
        "colab_type": "code",
        "colab": {}
      },
      "cell_type": "code",
      "source": [
        ""
      ],
      "execution_count": 0,
      "outputs": []
    },
    {
      "metadata": {
        "id": "V1ksFmJKc2he",
        "colab_type": "code",
        "colab": {
          "base_uri": "https://localhost:8080/",
          "height": 67
        },
        "outputId": "7ce3e13f-6c6e-4924-ef1c-3ccb2e565601"
      },
      "cell_type": "code",
      "source": [
        "saltnet = UResNet(pretrained=True)"
      ],
      "execution_count": 14,
      "outputs": [
        {
          "output_type": "stream",
          "text": [
            "ResNet using pretrained weights.\n"
          ],
          "name": "stdout"
        },
        {
          "output_type": "stream",
          "text": [
            "Downloading: \"https://download.pytorch.org/models/resnet34-333f7ec4.pth\" to /root/.torch/models/resnet34-333f7ec4.pth\n",
            "100%|██████████| 87306240/87306240 [00:01<00:00, 49975859.05it/s]\n"
          ],
          "name": "stderr"
        }
      ]
    },
    {
      "metadata": {
        "id": "A4A-Uxu9c2hm",
        "colab_type": "code",
        "colab": {
          "base_uri": "https://localhost:8080/",
          "height": 34
        },
        "outputId": "fad0d139-722e-4919-8c87-b4c2eb7cfe69"
      },
      "cell_type": "code",
      "source": [
        "cd ../salt_net"
      ],
      "execution_count": 15,
      "outputs": [
        {
          "output_type": "stream",
          "text": [
            "/content/salt_net\n"
          ],
          "name": "stdout"
        }
      ]
    },
    {
      "metadata": {
        "id": "x24Mk1zyc2hs",
        "colab_type": "code",
        "colab": {}
      },
      "cell_type": "code",
      "source": [
        "model_file_suffix = \"salt_model_v37.4_high_lovasz_loss_2018_10_05_10_43_22.ckp\"\n",
        "model_state_dict = torch.load(join_files(model_file_suffix, '.', returnFileObject=True, removeChunks=False))\n",
        "saltnet.load_state_dict(model_state_dict['model'])"
      ],
      "execution_count": 0,
      "outputs": []
    },
    {
      "metadata": {
        "id": "fpl7T6V4c2hz",
        "colab_type": "code",
        "colab": {}
      },
      "cell_type": "code",
      "source": [
        "model_config = '''\n",
        "#saltnet = UResNet(pretrained=True)\n",
        "#loss_fn_bce = nn.BCEWithLogitsLoss(pos_weight=torch.tensor(2.0).type(dtype))\n",
        "loss_fn_bce = nn.BCEWithLogitsLoss()\n",
        "#loss_focal = FocalLoss(0.25, 2, logits=True)\n",
        "loss_lovasz_hinge = LovaszHingeLoss()\n",
        "resnet_params = (\n",
        "    list(saltnet.conv1.parameters()) + \n",
        "    list(saltnet.encoder2.parameters()) + \n",
        "    list(saltnet.encoder3.parameters()) + \n",
        "    list(saltnet.encoder4.parameters()) + \n",
        "    list(saltnet.encoder5.parameters())\n",
        ")\n",
        "\n",
        "unet_params = (\n",
        "    list(saltnet.center.parameters()) + \n",
        "    list(saltnet.decoder5.parameters()) + \n",
        "    list(saltnet.decoder4.parameters()) + \n",
        "    list(saltnet.decoder3.parameters()) + \n",
        "    list(saltnet.decoder2.parameters()) + \n",
        "    list(saltnet.decoder1.parameters())  + \n",
        "    list(saltnet.se_f.parameters()) + \n",
        "    list(saltnet.outc.parameters())\n",
        ")\n",
        "optimizer = optim.Adam([    \n",
        "    {'params': resnet_params, 'lr': 5e-6},\n",
        "    {'params': unet_params, 'lr': 5e-4},\n",
        "], weight_decay=0.0002)\n",
        "#optimizer = optim.SGD([    \n",
        "#    {'params': resnet_params, 'lr': 1e-4},\n",
        "#    {'params': unet_params, 'lr': 1e-3},\n",
        "#], momentum=0.9, weight_decay=0.00001)\n",
        "\n",
        "#scheduler = torch.optim.lr_scheduler.ReduceLROnPlateau(optimizer, mode='min', factor=0.5, patience=5, verbose=True, threshold=0.0001, min_lr=0.00001)\n",
        "scheduler = PolyLR(optimizer, [5e-6, 5e-4], lr_decay_iter=1, max_iter=150, power=0.9)\n",
        "model_save_name = f'../salt_net/salt_model_v37.41_finetune3_{get_current_time_as_fname()}.ckp'\n",
        "log.info(model_save_name)\n",
        "'''"
      ],
      "execution_count": 0,
      "outputs": []
    },
    {
      "metadata": {
        "id": "q_nie0OSc2h3",
        "colab_type": "code",
        "colab": {}
      },
      "cell_type": "code",
      "source": [
        "train_params_config = '''\n",
        "train_params = {\n",
        "    'model_save_name': model_save_name,\n",
        "    'save_model_every': 20,\n",
        "    'save_log_every': 2,\n",
        "    'num_epochs': 150,\n",
        "    'log': log,\n",
        "    'mask_cutoff': 0.,\n",
        "    'model_save_iou_threshold': 0.823\n",
        "    }\n",
        "'''"
      ],
      "execution_count": 0,
      "outputs": []
    },
    {
      "metadata": {
        "id": "_qCnqNoFc2h_",
        "colab_type": "code",
        "colab": {}
      },
      "cell_type": "code",
      "source": [
        "model_run_config = '''\n",
        "train_model(saltnet, dataloaders, (loss_lovasz_hinge, loss_fn_bce), (0.5, 1), optimizer, scheduler, train_params, all_data)\n",
        "'''"
      ],
      "execution_count": 0,
      "outputs": []
    },
    {
      "metadata": {
        "id": "z1QsRAXRc2iB",
        "colab_type": "code",
        "colab": {}
      },
      "cell_type": "code",
      "source": [
        "config_list = [aug_pipeline_config, data_loader_config, model_config, train_params_config, model_run_config]"
      ],
      "execution_count": 0,
      "outputs": []
    },
    {
      "metadata": {
        "id": "plMX6xtcc2iC",
        "colab_type": "code",
        "colab": {
          "base_uri": "https://localhost:8080/",
          "height": 1851
        },
        "outputId": "e84c45bc-1759-4f65-8ed9-c7183aef4bea"
      },
      "cell_type": "code",
      "source": [
        "setup_train(config_list)"
      ],
      "execution_count": 0,
      "outputs": [
        {
          "output_type": "stream",
          "text": [
            "05/10/2018 23:05:01 - salt_model_v37.41_finetune3 - INFO - \n",
            "p = Pipeline_Salt()\n",
            "p.skew(probability=0.5, magnitude=0.2)\n",
            "p.random_distortion(probability=0.5, grid_width=3, grid_height=3, magnitude=3)\n",
            "p.flip_left_right(probability=0.5)\n",
            "p.rotate90(0.25)\n",
            "p.rotate270(0.25)\n",
            "p.random_brightness(probability=0.5, min_factor=0.8, max_factor=1.2)\n",
            "p.random_contrast(probability=0.5, min_factor=0.8, max_factor=1.2)\n",
            "p.rotate_random_align(probability=0.5)\n",
            "p.crop_random_align(probability=0.5, min_factor=0.6, max_factor=1.0, mask_diff_pct=0.2)\n",
            "\n",
            "05/10/2018 23:05:01 - salt_model_v37.41_finetune3 - INFO - \n",
            "train_data_params = {'batch_size': 32,\n",
            "                     #'sampler': weighted_sampler,\n",
            "                     'shuffle': True,\n",
            "                     'drop_last': False}\n",
            "\n",
            "val_data_params = {'batch_size': 32,\n",
            "                   'shuffle': True,\n",
            "                   'drop_last': False}\n",
            "\n",
            "train_dataLoader = (\n",
            "    DataLoader(SaltDataset(X_train, y_train, depth_train,\n",
            "                           np.zeros_like(X_train_mean_img), out_size=128,  out_ch=1,\n",
            "                           transform=p.torch_transform()), **train_data_params)\n",
            ")\n",
            "\n",
            "val_dataLoader = (\n",
            "    DataLoader(SaltDataset(X_val, y_val, depth_val, \n",
            "                           np.zeros_like(X_train_mean_img), out_size=128, out_ch=1), **val_data_params)\n",
            ")\n",
            "\n",
            "dataloaders = {'train': train_dataLoader, 'val':val_dataLoader}\n",
            "\n",
            "05/10/2018 23:05:01 - salt_model_v37.41_finetune3 - INFO - \n",
            "#saltnet = UResNet(pretrained=True)\n",
            "#loss_fn_bce = nn.BCEWithLogitsLoss(pos_weight=torch.tensor(2.0).type(dtype))\n",
            "loss_fn_bce = nn.BCEWithLogitsLoss()\n",
            "#loss_focal = FocalLoss(0.25, 2, logits=True)\n",
            "loss_lovasz_hinge = LovaszHingeLoss()\n",
            "resnet_params = (\n",
            "    list(saltnet.conv1.parameters()) + \n",
            "    list(saltnet.encoder2.parameters()) + \n",
            "    list(saltnet.encoder3.parameters()) + \n",
            "    list(saltnet.encoder4.parameters()) + \n",
            "    list(saltnet.encoder5.parameters())\n",
            ")\n",
            "\n",
            "unet_params = (\n",
            "    list(saltnet.center.parameters()) + \n",
            "    list(saltnet.decoder5.parameters()) + \n",
            "    list(saltnet.decoder4.parameters()) + \n",
            "    list(saltnet.decoder3.parameters()) + \n",
            "    list(saltnet.decoder2.parameters()) + \n",
            "    list(saltnet.decoder1.parameters())  + \n",
            "    list(saltnet.se_f.parameters()) + \n",
            "    list(saltnet.outc.parameters())\n",
            ")\n",
            "optimizer = optim.Adam([    \n",
            "    {'params': resnet_params, 'lr': 5e-6},\n",
            "    {'params': unet_params, 'lr': 5e-4},\n",
            "], weight_decay=0.0002)\n",
            "#optimizer = optim.SGD([    \n",
            "#    {'params': resnet_params, 'lr': 1e-4},\n",
            "#    {'params': unet_params, 'lr': 1e-3},\n",
            "#], momentum=0.9, weight_decay=0.00001)\n",
            "\n",
            "#scheduler = torch.optim.lr_scheduler.ReduceLROnPlateau(optimizer, mode='min', factor=0.5, patience=5, verbose=True, threshold=0.0001, min_lr=0.00001)\n",
            "scheduler = PolyLR(optimizer, [5e-6, 5e-4], lr_decay_iter=1, max_iter=150, power=0.9)\n",
            "model_save_name = f'../salt_net/salt_model_v37.41_finetune3_{get_current_time_as_fname()}.ckp'\n",
            "log.info(model_save_name)\n",
            "\n",
            "05/10/2018 23:05:01 - salt_model_v37.41_finetune3 - INFO - \n",
            "train_params = {\n",
            "    'model_save_name': model_save_name,\n",
            "    'save_model_every': 20,\n",
            "    'save_log_every': 2,\n",
            "    'num_epochs': 150,\n",
            "    'log': log,\n",
            "    'mask_cutoff': 0.,\n",
            "    'model_save_iou_threshold': 0.823\n",
            "    }\n",
            "\n",
            "05/10/2018 23:05:01 - salt_model_v37.41_finetune3 - INFO - \n",
            "train_model(saltnet, dataloaders, (loss_lovasz_hinge, loss_fn_bce), (0.5, 1), optimizer, scheduler, train_params, all_data)\n",
            "\n",
            "05/10/2018 23:05:01 - salt_model_v37.41_finetune3 - INFO - ../salt_net/salt_model_v37.41_finetune3_2018_10_06_09_05_01.ckp\n",
            "05/10/2018 23:05:01 - salt_model_v37.41_finetune3 - INFO - Start Training...\n",
            "05/10/2018 23:05:01 - salt_model_v37.41_finetune3 - INFO - ({'train': <torch.utils.data.dataloader.DataLoader object at 0x7f1edeaac048>, 'val': <torch.utils.data.dataloader.DataLoader object at 0x7f1edeaac160>}, (LovaszHingeLoss(), BCEWithLogitsLoss()), (0.5, 1), Adam (\n",
            "Parameter Group 0\n",
            "    amsgrad: False\n",
            "    betas: (0.9, 0.999)\n",
            "    eps: 1e-08\n",
            "    lr: 5e-06\n",
            "    weight_decay: 0.0002\n",
            "\n",
            "Parameter Group 1\n",
            "    amsgrad: False\n",
            "    betas: (0.9, 0.999)\n",
            "    eps: 1e-08\n",
            "    lr: 0.0005\n",
            "    weight_decay: 0.0002\n",
            "), <salt_func_lib.PolyLR object at 0x7f1edeaac2e8>, {'model_save_name': '../salt_net/salt_model_v37.41_finetune3_2018_10_06_09_05_01.ckp', 'save_model_every': 20, 'save_log_every': 2, 'num_epochs': 150, 'log': <Logger salt_model_v37.41_finetune3 (DEBUG)>, 'mask_cutoff': 0.0, 'model_save_iou_threshold': 0.823})\n",
            "05/10/2018 23:05:01 - salt_model_v37.41_finetune3 - INFO - Epoch 1/150\n",
            "05/10/2018 23:05:01 - salt_model_v37.41_finetune3 - INFO - --------------------\n",
            "/usr/local/lib/python3.6/dist-packages/torch/nn/functional.py:1890: UserWarning: nn.functional.upsample is deprecated. Use nn.functional.interpolate instead.\n",
            "  warnings.warn(\"nn.functional.upsample is deprecated. Use nn.functional.interpolate instead.\")\n"
          ],
          "name": "stderr"
        }
      ]
    },
    {
      "metadata": {
        "id": "9MW3YwaZQmOz",
        "colab_type": "text"
      },
      "cell_type": "markdown",
      "source": [
        "## Load Trained Model"
      ]
    },
    {
      "metadata": {
        "id": "19YvCTYQS-Se",
        "colab_type": "code",
        "colab": {}
      },
      "cell_type": "code",
      "source": [
        ""
      ],
      "execution_count": 0,
      "outputs": []
    },
    {
      "metadata": {
        "id": "5SMX99YR05aI",
        "colab_type": "code",
        "colab": {}
      },
      "cell_type": "code",
      "source": [
        "loaded_model = saltnet"
      ],
      "execution_count": 0,
      "outputs": []
    },
    {
      "metadata": {
        "id": "ESBVbot1Qp7b",
        "colab_type": "code",
        "colab": {}
      },
      "cell_type": "code",
      "source": [
        "loaded_model = UResNet(pretrained=False)"
      ],
      "execution_count": 0,
      "outputs": []
    },
    {
      "metadata": {
        "id": "LIRv-uXQGROz",
        "colab_type": "code",
        "colab": {}
      },
      "cell_type": "code",
      "source": [
        "ls"
      ],
      "execution_count": 0,
      "outputs": []
    },
    {
      "metadata": {
        "id": "MDpBS2c9ePeW",
        "colab_type": "code",
        "colab": {}
      },
      "cell_type": "code",
      "source": [
        "cd ../salt_net"
      ],
      "execution_count": 0,
      "outputs": []
    },
    {
      "metadata": {
        "id": "uHP7fUFPS_Ke",
        "colab_type": "code",
        "colab": {}
      },
      "cell_type": "code",
      "source": [
        "ls"
      ],
      "execution_count": 0,
      "outputs": []
    },
    {
      "metadata": {
        "id": "cuoeW6MLd439",
        "colab_type": "code",
        "colab": {}
      },
      "cell_type": "code",
      "source": [
        "model_file_suffix = \"Unet_res34_bce_lovasz_loss_se_new_aug_finetuen1_2018_09_21_09_41_48.ckp\"\n",
        "model_state_dict = torch.load(join_files(model_file_suffix, '.', returnFileObject=True, removeChunks=False))\n",
        "loaded_model.load_state_dict(model_state_dict['model'])"
      ],
      "execution_count": 0,
      "outputs": []
    },
    {
      "metadata": {
        "id": "PbgxXtYH3KpR",
        "colab_type": "text"
      },
      "cell_type": "markdown",
      "source": [
        "### Make Predictions on validation set"
      ]
    },
    {
      "metadata": {
        "id": "W0cFNMM0QmO4",
        "colab_type": "text"
      },
      "cell_type": "markdown",
      "source": [
        "### Set model to evaluation mode"
      ]
    },
    {
      "metadata": {
        "id": "izo8iByg3KpP",
        "colab_type": "code",
        "colab": {}
      },
      "cell_type": "code",
      "source": [
        "loaded_model.eval()\n",
        "assert loaded_model.training == False"
      ],
      "execution_count": 0,
      "outputs": []
    },
    {
      "metadata": {
        "id": "zfdN-P-j3KpS",
        "colab_type": "code",
        "colab": {}
      },
      "cell_type": "code",
      "source": [
        "val_dataLoader = DataLoader(SaltDataset(X_val, y_val, depth_val, X_train_mean_img, out_size=128), batch_size=16)"
      ],
      "execution_count": 0,
      "outputs": []
    },
    {
      "metadata": {
        "id": "7M0ZHG7o6swA",
        "colab_type": "code",
        "colab": {}
      },
      "cell_type": "code",
      "source": [
        "if torch.cuda.is_available():\n",
        "    loaded_model.cuda()"
      ],
      "execution_count": 0,
      "outputs": []
    },
    {
      "metadata": {
        "id": "cAVNrwOUCkqI",
        "colab_type": "code",
        "colab": {}
      },
      "cell_type": "code",
      "source": [
        ""
      ],
      "execution_count": 0,
      "outputs": []
    },
    {
      "metadata": {
        "id": "F8_AINAPClPN",
        "colab_type": "text"
      },
      "cell_type": "markdown",
      "source": [
        "### Eval model on Val data set"
      ]
    },
    {
      "metadata": {
        "id": "JMuArCUd3KpU",
        "colab_type": "code",
        "colab": {}
      },
      "cell_type": "code",
      "source": [
        "y_val_pred = []\n",
        "\n",
        "with torch.no_grad():\n",
        "    for X_val_batch, y_val_batch, depth_val_batch, X_val_id_batch in val_dataLoader:\n",
        "        y_val_pred.append(loaded_model(X_val_batch))\n",
        "y_val_pred = torch.cat(y_val_pred)"
      ],
      "execution_count": 0,
      "outputs": []
    },
    {
      "metadata": {
        "id": "B7EYzvT0fyPx",
        "colab_type": "code",
        "colab": {}
      },
      "cell_type": "code",
      "source": [
        "p = Pipeline_Salt()\n",
        "p.flip_left_right(probability=1)\n",
        "val_dataLoader = DataLoader(SaltDataset(X_val, y_val, depth_val, X_train_mean_img, out_size=128, out_ch=1,\n",
        "                           transform=p.torch_transform()), batch_size=16)\n",
        "y_val_pred_flip = []\n",
        "\n",
        "with torch.no_grad():\n",
        "    for X_val_batch, y_val_batch, depth_val_batch, X_val_id_batch in val_dataLoader:\n",
        "        y_val_pred_flip.append(loaded_model(X_val_batch))\n",
        "y_val_pred_flip = torch.cat(y_val_pred_flip)\n",
        "y_val_pred_flip = torch.flip(y_val_pred_flip,[2])"
      ],
      "execution_count": 0,
      "outputs": []
    },
    {
      "metadata": {
        "id": "u1_1icxBCsP3",
        "colab_type": "text"
      },
      "cell_type": "markdown",
      "source": [
        "#### merge normal pred and hflip pred"
      ]
    },
    {
      "metadata": {
        "id": "FZNYVKKPf0if",
        "colab_type": "code",
        "colab": {}
      },
      "cell_type": "code",
      "source": [
        "y_val_pred_ens = torch.where(y_val_pred.abs() > y_val_pred_flip.abs(), y_val_pred, y_val_pred_flip)"
      ],
      "execution_count": 0,
      "outputs": []
    },
    {
      "metadata": {
        "id": "wBO4WrvnCyex",
        "colab_type": "text"
      },
      "cell_type": "markdown",
      "source": [
        "#### Check normal pred IOU"
      ]
    },
    {
      "metadata": {
        "id": "hSYVoI88HApH",
        "colab_type": "code",
        "colab": {}
      },
      "cell_type": "code",
      "source": [
        "y_val_pred_adj = adjust_predictions(0, X_val, y_val_pred.gt(0), y_val.squeeze())"
      ],
      "execution_count": 0,
      "outputs": []
    },
    {
      "metadata": {
        "id": "EzTNcpMUC6Qo",
        "colab_type": "text"
      },
      "cell_type": "markdown",
      "source": [
        "#### Check TTA pred IOU"
      ]
    },
    {
      "metadata": {
        "id": "230OrjoPf0_K",
        "colab_type": "code",
        "colab": {}
      },
      "cell_type": "code",
      "source": [
        "y_val_pred_adj = adjust_predictions(0, X_val, y_val_pred_ens.gt(0), y_val.squeeze())"
      ],
      "execution_count": 0,
      "outputs": []
    },
    {
      "metadata": {
        "id": "VZvUQtjqG_uf",
        "colab_type": "code",
        "colab": {}
      },
      "cell_type": "code",
      "source": [
        ""
      ],
      "execution_count": 0,
      "outputs": []
    },
    {
      "metadata": {
        "id": "PYOWBAw7DCss",
        "colab_type": "text"
      },
      "cell_type": "markdown",
      "source": [
        "### Find best mask cutoff"
      ]
    },
    {
      "metadata": {
        "id": "dg4ZJEH_7VV2",
        "colab_type": "code",
        "colab": {}
      },
      "cell_type": "code",
      "source": [
        "results=[]\n",
        "for cut_off in np.r_[-0.1:0.1:50j]:\n",
        "  print(cut_off)\n",
        "  results.append(calc_mean_iou(adjust_predictions(0, X_val, y_val_pred_ens.gt(cut_off), y_val.squeeze()), y_val.squeeze()))"
      ],
      "execution_count": 0,
      "outputs": []
    },
    {
      "metadata": {
        "id": "uXUNORfK8G4S",
        "colab_type": "code",
        "colab": {}
      },
      "cell_type": "code",
      "source": [
        "MASK_CUTOFF = np.r_[-0.1:0.1:50j][np.argmax(results)]"
      ],
      "execution_count": 0,
      "outputs": []
    },
    {
      "metadata": {
        "id": "5_ka-iqTgCYL",
        "colab_type": "code",
        "colab": {}
      },
      "cell_type": "code",
      "source": [
        "print(f'MASK_CUTOFF: {MASK_CUTOFF}')"
      ],
      "execution_count": 0,
      "outputs": []
    },
    {
      "metadata": {
        "id": "BlcQ7hthD6-K",
        "colab_type": "text"
      },
      "cell_type": "markdown",
      "source": [
        "#### Find best ZERO_MASK_CUTOFF"
      ]
    },
    {
      "metadata": {
        "id": "nxNTal6nS8Za",
        "colab_type": "code",
        "colab": {}
      },
      "cell_type": "code",
      "source": [
        "results=[]\n",
        "for cut_off in range(0, 300, 10):\n",
        "  print(cut_off)\n",
        "  results.append(calc_mean_iou(adjust_predictions(cut_off, X_val, y_val_pred_ens.gt(MASK_CUTOFF), y_val.squeeze()), y_val.squeeze()))"
      ],
      "execution_count": 0,
      "outputs": []
    },
    {
      "metadata": {
        "id": "52zu8TbtEEAU",
        "colab_type": "code",
        "colab": {}
      },
      "cell_type": "code",
      "source": [
        "ZERO_MASK_CUTOFF = range(0, 300, 10)[np.argmax(results)]"
      ],
      "execution_count": 0,
      "outputs": []
    },
    {
      "metadata": {
        "id": "QC3Bk6PEEHZ2",
        "colab_type": "code",
        "colab": {}
      },
      "cell_type": "code",
      "source": [
        "print(f'ZERO_MASK_CUTOFF: {ZERO_MASK_CUTOFF}')"
      ],
      "execution_count": 0,
      "outputs": []
    },
    {
      "metadata": {
        "id": "mQ2C6bakEDYE",
        "colab_type": "code",
        "colab": {}
      },
      "cell_type": "code",
      "source": [
        "y_val_pred_adj = adjust_predictions(ZERO_MASK_CUTOFF, X_val, y_val_pred_ens.gt(MASK_CUTOFF), y_val.squeeze())"
      ],
      "execution_count": 0,
      "outputs": []
    },
    {
      "metadata": {
        "id": "umePIs5RDvyw",
        "colab_type": "text"
      },
      "cell_type": "markdown",
      "source": [
        "### View a few val images with predictions"
      ]
    },
    {
      "metadata": {
        "id": "2_DJpL1o3KpY",
        "colab_type": "code",
        "colab": {}
      },
      "cell_type": "code",
      "source": [
        "for i in range(10):\n",
        "    rand_id = np.random.choice(X_val_id_batch)\n",
        "    print(f'Image ID: {rand_id}')\n",
        "    val_img = X_val[rand_id]/255\n",
        "    val_mask = y_val[rand_id]\n",
        "    val_mask_pred = y_val_pred_ens.ge(MASK_CUTOFF)[rand_id]\n",
        "    plot_img_mask_pred([val_img, val_mask, val_mask_pred], range(3), img_per_line=3)"
      ],
      "execution_count": 0,
      "outputs": []
    },
    {
      "metadata": {
        "id": "fkD6eqk9ghEe",
        "colab_type": "code",
        "colab": {}
      },
      "cell_type": "code",
      "source": [
        ""
      ],
      "execution_count": 0,
      "outputs": []
    },
    {
      "metadata": {
        "id": "BELGiJ1VEVw3",
        "colab_type": "text"
      },
      "cell_type": "markdown",
      "source": [
        "### Eval model on Train data set"
      ]
    },
    {
      "metadata": {
        "id": "Vc8_yrUzEeWA",
        "colab_type": "code",
        "colab": {}
      },
      "cell_type": "code",
      "source": [
        "train_dataLoader = DataLoader(SaltDataset(X_train, y_train, depth_train, X_train_mean_img, out_size=128), batch_size=32)\n",
        "y_train_pred = []\n",
        "\n",
        "with torch.no_grad():\n",
        "    for X_train_batch, y_train_batch, depth_train_batch, X_train_id_batch in train_dataLoader:\n",
        "        y_train_pred.append(loaded_model(X_train_batch))\n",
        "y_train_pred = torch.cat(y_train_pred)"
      ],
      "execution_count": 0,
      "outputs": []
    },
    {
      "metadata": {
        "id": "7pDFa_mNEebY",
        "colab_type": "code",
        "colab": {}
      },
      "cell_type": "code",
      "source": [
        "p = Pipeline_Salt()\n",
        "p.flip_left_right(probability=1)\n",
        "train_dataLoader = DataLoader(SaltDataset(X_train, y_train, depth_train, X_train_mean_img, out_size=128, out_ch=1,\n",
        "                           transform=p.torch_transform()), batch_size=32)\n",
        "y_train_pred_flip = []\n",
        "\n",
        "with torch.no_grad():\n",
        "    for X_train_batch, y_train_batch, depth_train_batch, X_train_id_batch in train_dataLoader:\n",
        "        y_train_pred_flip.append(loaded_model(X_train_batch))\n",
        "y_train_pred_flip = torch.cat(y_train_pred_flip)\n",
        "y_train_pred_flip = torch.flip(y_train_pred_flip,[2])"
      ],
      "execution_count": 0,
      "outputs": []
    },
    {
      "metadata": {
        "id": "4txEOloZFEqt",
        "colab_type": "text"
      },
      "cell_type": "markdown",
      "source": [
        "#### merge normal pred and hflip pred"
      ]
    },
    {
      "metadata": {
        "id": "lPCRVTSGFEqt",
        "colab_type": "code",
        "colab": {}
      },
      "cell_type": "code",
      "source": [
        "y_train_pred_ens = torch.where(y_train_pred.abs() > y_train_pred_flip.abs(), y_train_pred, y_train_pred_flip)"
      ],
      "execution_count": 0,
      "outputs": []
    },
    {
      "metadata": {
        "id": "36inQqL2FEqw",
        "colab_type": "text"
      },
      "cell_type": "markdown",
      "source": [
        "#### Check normal pred IOU"
      ]
    },
    {
      "metadata": {
        "id": "W-lLr9O9FEqw",
        "colab_type": "code",
        "colab": {}
      },
      "cell_type": "code",
      "source": [
        "y_train_pred_adj = adjust_predictions(0, X_train, y_train_pred.gt(0), y_train.squeeze())"
      ],
      "execution_count": 0,
      "outputs": []
    },
    {
      "metadata": {
        "id": "HxkzmfT-FEqz",
        "colab_type": "text"
      },
      "cell_type": "markdown",
      "source": [
        "#### Check TTA pred IOU"
      ]
    },
    {
      "metadata": {
        "id": "2nxT3zdGFEq0",
        "colab_type": "code",
        "colab": {}
      },
      "cell_type": "code",
      "source": [
        "y_train_pred_adj = adjust_predictions(0, X_train, y_train_pred_ens.gt(0), y_train.squeeze())"
      ],
      "execution_count": 0,
      "outputs": []
    },
    {
      "metadata": {
        "id": "I7LEjByXFEq5",
        "colab_type": "code",
        "colab": {}
      },
      "cell_type": "code",
      "source": [
        ""
      ],
      "execution_count": 0,
      "outputs": []
    },
    {
      "metadata": {
        "id": "AlqUaaKpFEq6",
        "colab_type": "text"
      },
      "cell_type": "markdown",
      "source": [
        "### Find best mask cutoff"
      ]
    },
    {
      "metadata": {
        "id": "DT58yYpmFEq6",
        "colab_type": "code",
        "colab": {}
      },
      "cell_type": "code",
      "source": [
        "results=[]\n",
        "for cut_off in np.r_[-0.2:0.2:50j]:\n",
        "  print(cut_off)\n",
        "  results.append(calc_mean_iou(adjust_predictions(0, X_train, y_train_pred_ens.gt(cut_off), y_train.squeeze()), y_train.squeeze()))"
      ],
      "execution_count": 0,
      "outputs": []
    },
    {
      "metadata": {
        "id": "7UxZ7-qiFj8K",
        "colab_type": "code",
        "colab": {}
      },
      "cell_type": "code",
      "source": [
        "np.r_[-0.2:0.2:50j][np.argmax(results)]"
      ],
      "execution_count": 0,
      "outputs": []
    },
    {
      "metadata": {
        "id": "WHeROpnjFEq7",
        "colab_type": "code",
        "colab": {}
      },
      "cell_type": "code",
      "source": [
        "MASK_CUTOFF = np.r_[-0.1:0.1:50j][np.argmax(results)]"
      ],
      "execution_count": 0,
      "outputs": []
    },
    {
      "metadata": {
        "id": "6DQnSzmkGMvj",
        "colab_type": "code",
        "colab": {}
      },
      "cell_type": "code",
      "source": [
        "MASK_CUTOFF = 0"
      ],
      "execution_count": 0,
      "outputs": []
    },
    {
      "metadata": {
        "id": "-Jyt5H9kFEq_",
        "colab_type": "code",
        "colab": {}
      },
      "cell_type": "code",
      "source": [
        "print(f'MASK_CUTOFF: {MASK_CUTOFF}')"
      ],
      "execution_count": 0,
      "outputs": []
    },
    {
      "metadata": {
        "id": "KLUZy7TAFErD",
        "colab_type": "text"
      },
      "cell_type": "markdown",
      "source": [
        "#### Find best ZERO_MASK_CUTOFF"
      ]
    },
    {
      "metadata": {
        "id": "y2STul6jFErD",
        "colab_type": "code",
        "colab": {}
      },
      "cell_type": "code",
      "source": [
        "results=[]\n",
        "for cut_off in range(0, 300, 10):\n",
        "  print(cut_off)\n",
        "  results.append(calc_mean_iou(adjust_predictions(cut_off, X_train, y_train_pred_ens.gt(MASK_CUTOFF), y_train.squeeze()), y_train.squeeze()))"
      ],
      "execution_count": 0,
      "outputs": []
    },
    {
      "metadata": {
        "id": "odyOnmrbFErG",
        "colab_type": "code",
        "colab": {}
      },
      "cell_type": "code",
      "source": [
        "ZERO_MASK_CUTOFF = range(0, 300, 10)[np.argmax(results)]"
      ],
      "execution_count": 0,
      "outputs": []
    },
    {
      "metadata": {
        "id": "WCjKZY5tFErH",
        "colab_type": "code",
        "colab": {}
      },
      "cell_type": "code",
      "source": [
        "print(f'ZERO_MASK_CUTOFF: {ZERO_MASK_CUTOFF}')"
      ],
      "execution_count": 0,
      "outputs": []
    },
    {
      "metadata": {
        "id": "5ap1JdDtFErL",
        "colab_type": "code",
        "colab": {}
      },
      "cell_type": "code",
      "source": [
        "y_val_pred_adj = adjust_predictions(ZERO_MASK_CUTOFF, X_val, y_val_pred_ens.gt(MASK_CUTOFF), y_val.squeeze())"
      ],
      "execution_count": 0,
      "outputs": []
    },
    {
      "metadata": {
        "id": "xv1LkCTLEqg7",
        "colab_type": "code",
        "colab": {}
      },
      "cell_type": "code",
      "source": [
        ""
      ],
      "execution_count": 0,
      "outputs": []
    },
    {
      "metadata": {
        "id": "GCR_6IO1g7xE",
        "colab_type": "code",
        "colab": {}
      },
      "cell_type": "code",
      "source": [
        "y_train_pred_adj = adjust_predictions(ZERO_MASK_CUTOFF, X_train, y_train_pred_ens.gt(MASK_CUTOFF), y_train.squeeze())"
      ],
      "execution_count": 0,
      "outputs": []
    },
    {
      "metadata": {
        "id": "Tqf2DKD2CCjg",
        "colab_type": "code",
        "colab": {}
      },
      "cell_type": "code",
      "source": [
        "for i in range(10):\n",
        "    rand_id = np.random.choice(X_train_id_batch)\n",
        "    print(f'Image ID: {rand_id}')\n",
        "    img = X_train[rand_id]/255\n",
        "    mask = y_train[rand_id]\n",
        "    mask_pred = y_train_pred.ge(MASK_CUTOFF)[rand_id]\n",
        "    plot_img_mask_pred([img, mask, mask_pred], range(3), img_per_line=3)"
      ],
      "execution_count": 0,
      "outputs": []
    },
    {
      "metadata": {
        "id": "ZkzyRPIMDrAz",
        "colab_type": "text"
      },
      "cell_type": "markdown",
      "source": [
        "## Make predictions on test set using TTA"
      ]
    },
    {
      "metadata": {
        "id": "x38qXbAkmFSH",
        "colab_type": "code",
        "colab": {}
      },
      "cell_type": "code",
      "source": [
        "import numpy as np"
      ],
      "execution_count": 0,
      "outputs": []
    },
    {
      "metadata": {
        "id": "AfLrLArrEK5m",
        "colab_type": "text"
      },
      "cell_type": "markdown",
      "source": [
        "### Predict using original image"
      ]
    },
    {
      "metadata": {
        "id": "bUDZxfzlD_Os",
        "colab_type": "code",
        "colab": {}
      },
      "cell_type": "code",
      "source": [
        "test_dataLoader = DataLoader(SaltDataset(X_test, np.zeros_like(X_test), depth_test, X_train_mean_img, out_size=128), batch_size=32)"
      ],
      "execution_count": 0,
      "outputs": []
    },
    {
      "metadata": {
        "id": "cqKBooA3EC4b",
        "colab_type": "code",
        "colab": {}
      },
      "cell_type": "code",
      "source": [
        "y_test_pred_raw = []\n",
        "with torch.no_grad():\n",
        "    for X_test_batch, y_test_batch, depth_test_batch, X_test_id_batch in test_dataLoader:\n",
        "        y_test_pred_raw.append(loaded_model(X_test_batch))\n",
        "y_test_pred = torch.cat(y_test_pred_raw)"
      ],
      "execution_count": 0,
      "outputs": []
    },
    {
      "metadata": {
        "id": "e7BiVrQKEFrk",
        "colab_type": "text"
      },
      "cell_type": "markdown",
      "source": [
        "### Predict using flipped images"
      ]
    },
    {
      "metadata": {
        "id": "KjPkHzKBmz7s",
        "colab_type": "code",
        "colab": {}
      },
      "cell_type": "code",
      "source": [
        "p = Pipeline_Salt()\n",
        "p.flip_left_right(probability=1)\n",
        "test_dataLoader = DataLoader(SaltDataset(X_test, np.zeros_like(X_test), depth_test, X_train_mean_img, out_size=128, out_ch=1,\n",
        "                           transform=p.torch_transform()), batch_size=32)\n",
        "y_test_pred_flip = []\n",
        "\n",
        "with torch.no_grad():\n",
        "    for X_test_batch, y_test_batch, depth_test_batch, X_test_id_batch in test_dataLoader:\n",
        "        y_test_pred_flip.append(loaded_model(X_test_batch))\n",
        "y_test_pred_flip = torch.cat(y_test_pred_flip)\n",
        "y_test_pred_flip = torch.flip(y_test_pred_flip,[2])"
      ],
      "execution_count": 0,
      "outputs": []
    },
    {
      "metadata": {
        "id": "U9t1Z0kiEQkG",
        "colab_type": "text"
      },
      "cell_type": "markdown",
      "source": [
        "### Combine non-flip and flip predictions"
      ]
    },
    {
      "metadata": {
        "id": "_zUtOPXwmz7y",
        "colab_type": "code",
        "colab": {}
      },
      "cell_type": "code",
      "source": [
        "y_test_pred = torch.where(y_test_pred.abs() > y_test_pred_flip.abs(), y_test_pred, y_test_pred_flip)"
      ],
      "execution_count": 0,
      "outputs": []
    },
    {
      "metadata": {
        "id": "bzkEuhBwEXBl",
        "colab_type": "text"
      },
      "cell_type": "markdown",
      "source": [
        "### Adjust predictions"
      ]
    },
    {
      "metadata": {
        "id": "JaDNBnwsBqF5",
        "colab_type": "code",
        "colab": {}
      },
      "cell_type": "code",
      "source": [
        "MASK_CUTOFF = 0\n",
        "ZERO_MASK_CUTOFF = 0"
      ],
      "execution_count": 0,
      "outputs": []
    },
    {
      "metadata": {
        "id": "89y4w6drFKSl",
        "colab_type": "code",
        "colab": {}
      },
      "cell_type": "code",
      "source": [
        "print(f'MASK_CUTOFF:{MASK_CUTOFF}, ZERO_MASK_CUTOFF:{ZERO_MASK_CUTOFF}')"
      ],
      "execution_count": 0,
      "outputs": []
    },
    {
      "metadata": {
        "id": "kSe7dmyMqnPF",
        "colab_type": "code",
        "colab": {}
      },
      "cell_type": "code",
      "source": [
        "y_test_pred_adj = adjust_predictions(ZERO_MASK_CUTOFF, X_test, y_test_pred.gt(MASK_CUTOFF))\n"
      ],
      "execution_count": 0,
      "outputs": []
    },
    {
      "metadata": {
        "id": "pd9DjVswEwUD",
        "colab_type": "text"
      },
      "cell_type": "markdown",
      "source": [
        "### Show segmentation masks for a few images"
      ]
    },
    {
      "metadata": {
        "id": "c9j_HYo6ExVL",
        "colab_type": "code",
        "colab": {}
      },
      "cell_type": "code",
      "source": [
        "for i in range(10):\n",
        "    rand_id = np.random.choice(X_test_id_batch)\n",
        "    print(f'Image ID: {rand_id}')\n",
        "    img = X_test[rand_id]/255\n",
        "    mask_pred = y_test_pred.ge(0.5)[rand_id]\n",
        "    plot_img_mask_pred([img, mask_pred], range(2))"
      ],
      "execution_count": 0,
      "outputs": []
    },
    {
      "metadata": {
        "id": "Bmi3NISwEaOt",
        "colab_type": "text"
      },
      "cell_type": "markdown",
      "source": [
        "### Prepare for submission"
      ]
    },
    {
      "metadata": {
        "id": "fATv5NS6hnkU",
        "colab_type": "code",
        "colab": {}
      },
      "cell_type": "code",
      "source": [
        "y_test_pred_rle = rle_encoder3d(y_test_pred_adj)"
      ],
      "execution_count": 0,
      "outputs": []
    },
    {
      "metadata": {
        "id": "BBNylCIDhnkX",
        "colab_type": "code",
        "colab": {}
      },
      "cell_type": "code",
      "source": [
        "y_test_pred_adj.shape"
      ],
      "execution_count": 0,
      "outputs": []
    },
    {
      "metadata": {
        "id": "hwSpGmvthnkd",
        "colab_type": "code",
        "colab": {}
      },
      "cell_type": "code",
      "source": [
        "df_test_rle = pd.DataFrame(index=misc_data['np_test_ids'], data=y_test_pred_rle).reset_index()"
      ],
      "execution_count": 0,
      "outputs": []
    },
    {
      "metadata": {
        "id": "r3bS6FoNhnki",
        "colab_type": "code",
        "colab": {}
      },
      "cell_type": "code",
      "source": [
        "df_test_rle.columns = ['id', 'rle_mask']"
      ],
      "execution_count": 0,
      "outputs": []
    },
    {
      "metadata": {
        "id": "JRDcCLpohnkn",
        "colab_type": "code",
        "colab": {}
      },
      "cell_type": "code",
      "source": [
        "df_test_rle[df_test_rle.rle_mask==''].shape"
      ],
      "execution_count": 0,
      "outputs": []
    },
    {
      "metadata": {
        "id": "vkOmz86lhnkw",
        "colab_type": "code",
        "colab": {}
      },
      "cell_type": "code",
      "source": [
        "df_test_rle.shape"
      ],
      "execution_count": 0,
      "outputs": []
    },
    {
      "metadata": {
        "id": "xr_NOtxBhnky",
        "colab_type": "code",
        "colab": {}
      },
      "cell_type": "code",
      "source": [
        "df_test_rle.to_csv(f'submission_{get_current_time_as_fname()}.csv', index=False)"
      ],
      "execution_count": 0,
      "outputs": []
    },
    {
      "metadata": {
        "id": "n__2CiMjhnk2",
        "colab_type": "code",
        "colab": {}
      },
      "cell_type": "code",
      "source": [
        "ls"
      ],
      "execution_count": 0,
      "outputs": []
    },
    {
      "metadata": {
        "id": "fCv-diichnk4",
        "colab_type": "code",
        "colab": {}
      },
      "cell_type": "code",
      "source": [
        "from google.colab import files\n"
      ],
      "execution_count": 0,
      "outputs": []
    },
    {
      "metadata": {
        "id": "NgzFDdcShnlA",
        "colab_type": "code",
        "colab": {}
      },
      "cell_type": "code",
      "source": [
        "files.download('submission_2018_09_21_13_11_16.csv') "
      ],
      "execution_count": 0,
      "outputs": []
    },
    {
      "metadata": {
        "id": "1D61fkPaiUR4",
        "colab_type": "code",
        "colab": {}
      },
      "cell_type": "code",
      "source": [
        ""
      ],
      "execution_count": 0,
      "outputs": []
    }
  ]
}