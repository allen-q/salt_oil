{
  "nbformat": 4,
  "nbformat_minor": 0,
  "metadata": {
    "colab": {
      "name": "salt_model_data_loader_V3.ipynb",
      "version": "0.3.2",
      "provenance": []
    },
    "kernelspec": {
      "display_name": "Python 3",
      "language": "python",
      "name": "python3"
    },
    "accelerator": "GPU"
  },
  "cells": [
    {
      "metadata": {
        "id": "IUnFr6MO3Kk3",
        "colab_type": "text"
      },
      "cell_type": "markdown",
      "source": [
        "# Changes:\n",
        "\n",
        "1. Use 1st ver UNET\n",
        "2. Use the Augmentor Package to augment data\n",
        "3. BCE loss + lovasz loss\n",
        "4. Bilinear Upsampling\n",
        "Best Val IOU: 0.8142 at epoch 176\n",
        "\n",
        "Fined tuned for another 40 epochs and Best Val IOU: 0.8193\n",
        "Use BCE + 0.1*lovasz loss. Leaderboard IOU: 0.797"
      ]
    },
    {
      "metadata": {
        "id": "xaO5fG0VW5gB",
        "colab_type": "text"
      },
      "cell_type": "markdown",
      "source": [
        "## Install required packages if running on google colab"
      ]
    },
    {
      "metadata": {
        "id": "8n6EgF7sW5gC",
        "colab_type": "code",
        "colab": {}
      },
      "cell_type": "code",
      "source": [
        "try:\n",
        "    import torch\n",
        "except:\n",
        "    !pip install torch torchvision\n",
        "    !pip install imageio\n",
        "    !pip install Augmentor\n",
        "    !git clone https://github.com/allen-q/salt_oil.git\n",
        "    !git clone https://github.com/allen-q/salt_net.git"
      ],
      "execution_count": 0,
      "outputs": []
    },
    {
      "metadata": {
        "id": "p3h4PngQ0s86",
        "colab_type": "code",
        "colab": {
          "base_uri": "https://localhost:8080/",
          "height": 34
        },
        "outputId": "96a8e6b6-7da6-4f68-b919-c8805a6bee79"
      },
      "cell_type": "code",
      "source": [
        "cd salt_oil/"
      ],
      "execution_count": 2,
      "outputs": [
        {
          "output_type": "stream",
          "text": [
            "/content/salt_oil\n"
          ],
          "name": "stdout"
        }
      ]
    },
    {
      "metadata": {
        "id": "UVnBJygnW5gK",
        "colab_type": "text"
      },
      "cell_type": "markdown",
      "source": [
        "## Import required libs"
      ]
    },
    {
      "metadata": {
        "id": "x1VSamfH3Kk6",
        "colab_type": "code",
        "colab": {}
      },
      "cell_type": "code",
      "source": [
        "import zipfile\n",
        "import torch\n",
        "import torchvision\n",
        "import torch.nn as nn\n",
        "import torch.nn.functional as F\n",
        "from torch.utils import data\n",
        "from torch.utils.data import Dataset, DataLoader\n",
        "from torchvision import transforms, utils\n",
        "from skimage import io, transform\n",
        "from sklearn.model_selection import train_test_split\n",
        "import numpy as np\n",
        "import pandas as pd\n",
        "import matplotlib.pyplot as ply\n",
        "import os\n",
        "import imageio\n",
        "from PIL import Image\n",
        "import glob\n",
        "import matplotlib.pyplot as plt\n",
        "import time\n",
        "import math\n",
        "import datetime as dt\n",
        "import pytz\n",
        "import pickle\n",
        "from salt_func_lib import *\n",
        "from torchvision import transforms, utils\n",
        "from skimage import io, transform\n",
        "import datetime as dt\n",
        "import sys\n",
        "from optparse import OptionParser\n",
        "import torch.backends.cudnn as cudnn\n",
        "from torch import optim\n",
        "from torch.optim import lr_scheduler\n",
        "import copy\n",
        "from io import BytesIO\n",
        "import Augmentor\n",
        "import random\n",
        "import PIL\n",
        "% matplotlib inline\n",
        "% load_ext autoreload\n",
        "% autoreload 2"
      ],
      "execution_count": 0,
      "outputs": []
    },
    {
      "metadata": {
        "id": "I87qLhAOW5gO",
        "colab_type": "text"
      },
      "cell_type": "markdown",
      "source": [
        "## Load Unet Modules"
      ]
    },
    {
      "metadata": {
        "id": "eC32auGDqVZi",
        "colab_type": "code",
        "colab": {}
      },
      "cell_type": "code",
      "source": [
        "from pytorch_unet.eval import eval_net\n",
        "from pytorch_unet.unet import UNet\n",
        "from pytorch_unet.unet.unet_parts import *\n",
        "from pytorch_unet.utils import get_ids, split_ids, split_train_val, get_imgs_and_masks, batch"
      ],
      "execution_count": 0,
      "outputs": []
    },
    {
      "metadata": {
        "id": "6O8Wz9H_iTDE",
        "colab_type": "code",
        "colab": {}
      },
      "cell_type": "code",
      "source": [
        "## Setup data type based on whether GPU is enabled"
      ],
      "execution_count": 0,
      "outputs": []
    },
    {
      "metadata": {
        "id": "QKYhIfCtEk6C",
        "colab_type": "code",
        "colab": {}
      },
      "cell_type": "code",
      "source": [
        "if torch.cuda.is_available():\n",
        "    dtype = torch.cuda.FloatTensor ## UNCOMMENT THIS LINE IF YOU'RE ON A GPU!\n",
        "else:    \n",
        "    dtype = torch.FloatTensor"
      ],
      "execution_count": 0,
      "outputs": []
    },
    {
      "metadata": {
        "id": "51wk3a_bTtv-",
        "colab_type": "code",
        "colab": {
          "base_uri": "https://localhost:8080/",
          "height": 34
        },
        "outputId": "db53609a-c6f0-4d0d-bf7d-b373355ea5f9"
      },
      "cell_type": "code",
      "source": [
        "print(f'Data Type set to: {dtype}')"
      ],
      "execution_count": 7,
      "outputs": [
        {
          "output_type": "stream",
          "text": [
            "Data Type set to: <class 'torch.cuda.FloatTensor'>\n"
          ],
          "name": "stdout"
        }
      ]
    },
    {
      "metadata": {
        "id": "30EV6nbKbtyV",
        "colab_type": "text"
      },
      "cell_type": "markdown",
      "source": [
        "## Create Global Variables"
      ]
    },
    {
      "metadata": {
        "id": "8zcHyi6AMfDf",
        "colab_type": "code",
        "colab": {}
      },
      "cell_type": "code",
      "source": [
        "def init_global_variables():\n",
        "    \"\"\"initialize global variables such as db connection, logger etc.\"\"\"\n",
        "    global log\n",
        "    log = get_logger('SaltNet')"
      ],
      "execution_count": 0,
      "outputs": []
    },
    {
      "metadata": {
        "id": "CLILkc8Vbtya",
        "colab_type": "code",
        "colab": {}
      },
      "cell_type": "code",
      "source": [
        "init_global_variables()"
      ],
      "execution_count": 0,
      "outputs": []
    },
    {
      "metadata": {
        "id": "KwNexNnZxQ7k",
        "colab_type": "code",
        "colab": {}
      },
      "cell_type": "code",
      "source": [
        "class SaltDataset(Dataset):\n",
        "    \"\"\"Face Landmarks dataset.\"\"\"\n",
        "\n",
        "    def __init__(self, np_img, np_mask, df_depth, mean_img, out_size=101, out_ch=1, transform=None):\n",
        "        \"\"\"\n",
        "        Args:\n",
        "            data_dir (string): Path to the image files.\n",
        "            train (bool): Load train or test data\n",
        "            transform (callable, optional): Optional transform to be applied\n",
        "                on a sample.\n",
        "        \"\"\"\n",
        "        self.np_img = np_img\n",
        "        self.np_mask = np_mask.clip(0,1)\n",
        "        self.df_depth = df_depth\n",
        "        self.mean_img = mean_img\n",
        "        self.out_size = out_size\n",
        "        self.out_ch = out_ch\n",
        "        self.transform = transform\n",
        "\n",
        "    def __len__(self):\n",
        "        return len(self.np_img)\n",
        "\n",
        "    def __getitem__(self, idx):\n",
        "\n",
        "        X_orig = self.np_img[idx]\n",
        "        #X = X_orig - self.mean_img\n",
        "\n",
        "        if self.np_mask is None:\n",
        "            y = np.zeros((101,101,1))\n",
        "        else:\n",
        "            y = self.np_mask[idx]\n",
        "\n",
        "        if self.transform:\n",
        "            img_in = PIL.Image.fromarray(np.c_[np.tile(X_orig, 2), y*255])\n",
        "            #img_in = PIL.Image.fromarray(np.tile(y, 3)*255)\n",
        "            transformed = np.array(self.transform(img_in))\n",
        "            X = np.clip(transformed[:,:,0:1]/255, 0., 1.) - self.mean_img\n",
        "            y = np.clip(transformed[:,:,2:3]/255, 0., 1.)\n",
        "        else:\n",
        "            X = np.clip(X_orig/255, 0., 1.) - self.mean_img\n",
        "\n",
        "        #print(X.dtype)\n",
        "        \n",
        "        X = np.moveaxis(X, -1,0)\n",
        "\n",
        "        pad_size = self.out_size - X.shape[2]\n",
        "        pad_first = pad_size//2\n",
        "        pad_last = pad_size - pad_first\n",
        "        X = np.pad(X, [(0, 0),(pad_first, pad_last), (pad_first, pad_last)], mode='reflect')\n",
        "        #print(X.dtype)\n",
        "\n",
        "        d = self.df_depth.iloc[idx,0]\n",
        "        #id = self.df_depth.index[idx]\n",
        "        #from boxx import g\n",
        "        #g()\n",
        "        X = torch.from_numpy(X).float().type(dtype)\n",
        "        X = X.repeat(self.out_ch,1,1)\n",
        "        y = transform.resize(y, (101, 101), mode='constant', preserve_range=True)\n",
        "        y = torch.from_numpy(y).float().squeeze().type(dtype)\n",
        "\n",
        "        return (X,y,d,idx)"
      ],
      "execution_count": 0,
      "outputs": []
    },
    {
      "metadata": {
        "id": "Q0_gBiSvxQ7n",
        "colab_type": "code",
        "colab": {}
      },
      "cell_type": "code",
      "source": [
        "class Pipeline_Salt(Augmentor.Pipeline):\n",
        "    def __init__(self, source_directory=None, output_directory=\"output\", save_format=None):\n",
        "        super(Pipeline_Salt, self).__init__(source_directory, output_directory, save_format)\n",
        "\n",
        "    def torch_transform(self):\n",
        "        \"\"\"\n",
        "        Returns the pipeline as a function that can be used with torchvision.\n",
        "\n",
        "        .. code-block:: python\n",
        "\n",
        "            >>> import Augmentor\n",
        "            >>> import torchvision\n",
        "            >>> p = Augmentor.Pipeline()\n",
        "            >>> p.rotate(probability=0.7, max_left_rotate=10, max_right_rotate=10)\n",
        "            >>> p.zoom(probability=0.5, min_factor=1.1, max_factor=1.5)\n",
        "            >>> transforms = torchvision.transforms.Compose([\n",
        "            >>>     p.torch_transform(),\n",
        "            >>>     torchvision.transforms.ToTensor(),\n",
        "            >>> ])\n",
        "\n",
        "        :return: The pipeline as a function.\n",
        "        \"\"\"\n",
        "        def _transform(image):\n",
        "            for operation in self.operations:\n",
        "                r = round(random.uniform(0, 1), 1)\n",
        "                if r <= operation.probability:\n",
        "                    if not isinstance(image, list):\n",
        "                        image = [image]\n",
        "                    image = operation.perform_operation(image)[0]\n",
        "\n",
        "            return image\n",
        "\n",
        "        return _transform"
      ],
      "execution_count": 0,
      "outputs": []
    },
    {
      "metadata": {
        "id": "aEXPdEFd3KmA",
        "colab_type": "text"
      },
      "cell_type": "markdown",
      "source": [
        "## Prepare Data"
      ]
    },
    {
      "metadata": {
        "id": "53yVOPsQ3KmB",
        "colab_type": "text"
      },
      "cell_type": "markdown",
      "source": [
        "### Load train and test data from npy files or from raw images if npy files not exist."
      ]
    },
    {
      "metadata": {
        "id": "wO1kf6HW3KmC",
        "colab_type": "code",
        "colab": {
          "base_uri": "https://localhost:8080/",
          "height": 50
        },
        "outputId": "8cc92c77-6dbf-4ee0-8ccb-9dfa6f19e0da"
      },
      "cell_type": "code",
      "source": [
        "np_train_all, np_train_all_mask, X_test, misc_data = load_all_data()"
      ],
      "execution_count": 12,
      "outputs": [
        {
          "output_type": "stream",
          "text": [
            "Try loading data from npy and pickle files...\n",
            "Data loaded.\n"
          ],
          "name": "stdout"
        }
      ]
    },
    {
      "metadata": {
        "id": "BTkpzBqmGRN2",
        "colab_type": "text"
      },
      "cell_type": "markdown",
      "source": [
        "### Remove black images"
      ]
    },
    {
      "metadata": {
        "id": "8BXkNsiZGRN3",
        "colab_type": "code",
        "colab": {}
      },
      "cell_type": "code",
      "source": [
        "#black_img_ids = (np_train_all.max((1,2,3))==0)\n",
        "\n",
        "#np_train_all = np_train_all[~black_img_ids]\n",
        "#np_train_all_mask = np_train_all_mask[~black_img_ids]"
      ],
      "execution_count": 0,
      "outputs": []
    },
    {
      "metadata": {
        "id": "obPeKNjDGRN6",
        "colab_type": "code",
        "colab": {
          "base_uri": "https://localhost:8080/",
          "height": 34
        },
        "outputId": "d871907d-3eff-42be-9083-68c2126951b2"
      },
      "cell_type": "code",
      "source": [
        "np_train_all.shape"
      ],
      "execution_count": 14,
      "outputs": [
        {
          "output_type": "execute_result",
          "data": {
            "text/plain": [
              "(4000, 101, 101, 1)"
            ]
          },
          "metadata": {
            "tags": []
          },
          "execution_count": 14
        }
      ]
    },
    {
      "metadata": {
        "id": "DZqPs7VnYd56",
        "colab_type": "text"
      },
      "cell_type": "markdown",
      "source": [
        "### Remove images with all black masks"
      ]
    },
    {
      "metadata": {
        "id": "lzqSzGzEYd5-",
        "colab_type": "code",
        "colab": {}
      },
      "cell_type": "code",
      "source": [
        "#black_mask_ids = (np_train_all_mask.max((1,2,3))==0)\n",
        "#np_train_all = np_train_all[~black_mask_ids]\n",
        "#np_train_all_mask = np_train_all_mask[~black_mask_ids]"
      ],
      "execution_count": 0,
      "outputs": []
    },
    {
      "metadata": {
        "id": "DNIS7zT23KmI",
        "colab_type": "text"
      },
      "cell_type": "markdown",
      "source": [
        "### Train Val data split"
      ]
    },
    {
      "metadata": {
        "id": "Q8HLh-bNQmNz",
        "colab_type": "code",
        "colab": {}
      },
      "cell_type": "code",
      "source": [
        "#np_train_all = np.clip(np_train_all/255, 0, 1)\n",
        "#X_test = np.clip(X_test/255, 0, 1)"
      ],
      "execution_count": 0,
      "outputs": []
    },
    {
      "metadata": {
        "id": "XqYjA-Ud3KmI",
        "colab_type": "code",
        "colab": {}
      },
      "cell_type": "code",
      "source": [
        "X_train_ids, X_val_ids = (\n",
        "    train_test_split(np.arange(len(np_train_all)), \n",
        "                     test_size=0.20, \n",
        "                     random_state=42)\n",
        ")"
      ],
      "execution_count": 0,
      "outputs": []
    },
    {
      "metadata": {
        "id": "GEqXO7GM3KmN",
        "colab_type": "code",
        "colab": {}
      },
      "cell_type": "code",
      "source": [
        "X_train = np_train_all[X_train_ids]\n",
        "X_val = np_train_all[X_val_ids]\n",
        "y_train = np_train_all_mask[X_train_ids]\n",
        "y_val = np_train_all_mask[X_val_ids]\n",
        "depth_train = (\n",
        "    misc_data['df_train_all_depth']\n",
        "    .reindex(np.array(misc_data['np_train_all_ids'])[X_train_ids])\n",
        ")\n",
        "depth_val = (\n",
        "    misc_data['df_train_all_depth']\n",
        "    .reindex(np.array(misc_data['np_train_all_ids'])[X_val_ids])\n",
        ")\n",
        "depth_test = (\n",
        "    misc_data['df_train_all_depth']\n",
        "    .reindex(np.array(misc_data['np_test_ids']))\n",
        ")\n",
        "#X_train_mean_img = X_train.mean(0).astype(np.float32)\n",
        "#X_train_mean_img = X_train.mean((0,1,2)).astype(np.float32)\n",
        "X_train_mean_img = np.clip(np_train_all/255, 0, 1).mean((0,1,2)).astype(np.float32)\n",
        "\n",
        "all_data = {\n",
        "    'X_train': X_train,\n",
        "    'X_val': X_val,\n",
        "    'y_train': y_train,\n",
        "    'y_val': y_val,\n",
        "    'X_test': X_test,\n",
        "    'X_train_mean_img': X_train_mean_img\n",
        "}"
      ],
      "execution_count": 0,
      "outputs": []
    },
    {
      "metadata": {
        "id": "G1-vStI_4L9O",
        "colab_type": "code",
        "colab": {
          "base_uri": "https://localhost:8080/",
          "height": 34
        },
        "outputId": "e052d87a-aec4-46f5-c842-f066693ec6f6"
      },
      "cell_type": "code",
      "source": [
        "X_train_mean_img"
      ],
      "execution_count": 19,
      "outputs": [
        {
          "output_type": "execute_result",
          "data": {
            "text/plain": [
              "array([0.47194558], dtype=float32)"
            ]
          },
          "metadata": {
            "tags": []
          },
          "execution_count": 19
        }
      ]
    },
    {
      "metadata": {
        "id": "am8kari5xQ8E",
        "colab_type": "code",
        "colab": {}
      },
      "cell_type": "code",
      "source": [
        ""
      ],
      "execution_count": 0,
      "outputs": []
    },
    {
      "metadata": {
        "id": "0bMOyfebQmON",
        "colab_type": "code",
        "colab": {}
      },
      "cell_type": "code",
      "source": [
        "p = Pipeline_Salt()\n",
        "#p.skew(probability=1, magnitude=0.5)\n",
        "p.random_distortion(probability=0.5, grid_width=3, grid_height=3, magnitude=5)\n",
        "p.rotate(probability=0.5, max_left_rotation=10, max_right_rotation=10)\n",
        "p.zoom(probability=0.5, min_factor=1.0, max_factor=1.2)\n",
        "p.shear(probability=0.5, max_shear_left=10, max_shear_right=10)\n",
        "p.flip_left_right(probability=0.5)\n",
        "p.crop_by_size(probability=0.5, width=101, height=101, centre=False)\n"
      ],
      "execution_count": 0,
      "outputs": []
    },
    {
      "metadata": {
        "id": "8eXIcYoDqVcF",
        "colab_type": "text"
      },
      "cell_type": "markdown",
      "source": [
        "### Create a Train Dataloader"
      ]
    },
    {
      "metadata": {
        "id": "uYerp5hjW5gu",
        "colab_type": "code",
        "colab": {}
      },
      "cell_type": "code",
      "source": [
        "'''composed_tsfm = transforms.Compose([Rescale(scale='random', min_scale=1, max_scale=2),\n",
        "                                    RandomCrop(101),\n",
        "                                    Flip(orient='random')])'''\n",
        "\n",
        "data_params = {'batch_size': 32,\n",
        "               'shuffle': True,\n",
        "               'drop_last': False}\n",
        "\n",
        "train_dataLoader = (\n",
        "    DataLoader(SaltDataset(X_train, y_train, depth_train,\n",
        "                           X_train_mean_img, out_size=128,  out_ch=1,\n",
        "                           transform=p.torch_transform()), **data_params)\n",
        ")\n",
        "\n",
        "val_dataLoader = (\n",
        "    DataLoader(SaltDataset(X_val, y_val, depth_val, \n",
        "                           X_train_mean_img, out_size=128, out_ch=1), **data_params)\n",
        ")\n",
        "\n",
        "dataloaders = {'train': train_dataLoader, 'val':val_dataLoader}\n",
        "\n",
        "sample = iter(dataloaders['train']).__next__()\n",
        "\n",
        "assert sample[0].shape == torch.Size([data_params['batch_size'], 1, 128, 128])\n",
        "assert sample[1].shape == torch.Size([data_params['batch_size'], 101, 101])\n",
        "assert sample[2].shape == torch.Size([data_params['batch_size']])\n",
        "assert sample[3].shape == torch.Size([data_params['batch_size']])"
      ],
      "execution_count": 0,
      "outputs": []
    },
    {
      "metadata": {
        "id": "dp1YZ7D5QmOg",
        "colab_type": "code",
        "colab": {}
      },
      "cell_type": "code",
      "source": [
        "i = 0\n",
        "for X_batch, y_batch, d_batch, X_id in dataloaders['train']:\n",
        "    i+=1\n",
        "    if i>3:\n",
        "        break\n",
        "    X_orig = X_train[X_id[0]].squeeze()/255\n",
        "    X_tsfm = X_batch[0,0].squeeze().cpu().detach().numpy()[13:114,13:114] + X_train_mean_img.squeeze()\n",
        "    y_orig = y_train[X_id[0]].squeeze()\n",
        "    y_tsfm = (y_batch[0].squeeze().cpu().detach().numpy())\n",
        "    plot_img_mask_pred([X_orig, X_tsfm, y_orig, y_tsfm],\n",
        "                       [f'X Original-{X_id[0]}', 'X Transformed', 'y Original', 'y Transformed'])"
      ],
      "execution_count": 0,
      "outputs": []
    },
    {
      "metadata": {
        "id": "GbN1-S12btDL",
        "colab_type": "code",
        "colab": {
          "base_uri": "https://localhost:8080/",
          "height": 34
        },
        "outputId": "be7793a7-cca7-48e6-9798-067a75859e43"
      },
      "cell_type": "code",
      "source": [
        "X_train.shape"
      ],
      "execution_count": 23,
      "outputs": [
        {
          "output_type": "execute_result",
          "data": {
            "text/plain": [
              "(3200, 101, 101, 1)"
            ]
          },
          "metadata": {
            "tags": []
          },
          "execution_count": 23
        }
      ]
    },
    {
      "metadata": {
        "id": "qS4kZWQnW5gw",
        "colab_type": "text"
      },
      "cell_type": "markdown",
      "source": [
        "### Create a Train Dataloader for sanity check"
      ]
    },
    {
      "metadata": {
        "id": "VEA7t3xaQmOo",
        "colab_type": "code",
        "colab": {}
      },
      "cell_type": "code",
      "source": [
        "data_params = {'batch_size': 16,\n",
        "               'shuffle': False,\n",
        "               'drop_last': False}\n",
        "\n",
        "train_dataLoader = (\n",
        "    DataLoader(SaltDataset(X_train[:16], y_train[:16], depth_train[:16],\n",
        "                           X_train_mean_img, out_size=128, out_ch=1,\n",
        "                           transform=None), **data_params)\n",
        "                           #transform=p.torch_transform()), **data_params)\n",
        ")\n",
        "\n",
        "val_dataLoader = (\n",
        "    DataLoader(SaltDataset(X_val[:16], y_val[:16], depth_val[:16], \n",
        "                           X_train_mean_img, out_size=128, out_ch=1), **data_params)\n",
        ")\n",
        "\n",
        "dataloaders = {'train': train_dataLoader, 'val':val_dataLoader}\n"
      ],
      "execution_count": 0,
      "outputs": []
    },
    {
      "metadata": {
        "id": "r2hyd9ryGROf",
        "colab_type": "code",
        "colab": {}
      },
      "cell_type": "code",
      "source": [
        "t = iter(train_dataLoader).__next__()"
      ],
      "execution_count": 0,
      "outputs": []
    },
    {
      "metadata": {
        "id": "v34uY0GkGROl",
        "colab_type": "code",
        "colab": {}
      },
      "cell_type": "code",
      "source": [
        "X_batch, y_batch, d_batch, X_id = t"
      ],
      "execution_count": 0,
      "outputs": []
    },
    {
      "metadata": {
        "id": "GjWYq0PnjVlT",
        "colab_type": "code",
        "colab": {}
      },
      "cell_type": "code",
      "source": [
        "def train_model(model, dataloaders, criterion1, criterion2, optimizer, scheduler, model_save_name, other_data={}, \n",
        "                num_epochs=25, print_every=2, save_model_every=None, save_log_every=None, log=get_logger('SaltNet'), loss2_weight=0):\n",
        "    #args = locals()\n",
        "    #args = {k:v.shape if isinstance(v, (torch.Tensor, np.ndarray)) else v for k,v in args.items()}\n",
        "    #args = {k:v.shape if isinstance(v, (torch.Tensor, np.ndarray)) else v for k,v in args.items()}\n",
        "    log.info('Start Training...')\n",
        "    #log.info('Passed parameters: {}'.format(args))\n",
        "\n",
        "    start = time.time()\n",
        "\n",
        "    if torch.cuda.is_available():\n",
        "        model.cuda()\n",
        "\n",
        "    best_model_wts = copy.deepcopy(model.state_dict())\n",
        "    best_model = None\n",
        "    best_iou = 0.0\n",
        "    all_losses = []\n",
        "    iter_count = 0\n",
        "    X_train = other_data['X_train']\n",
        "    X_val = other_data['X_val']\n",
        "    y_train = other_data['y_train']\n",
        "    y_val = other_data['y_val']\n",
        "    X_train_mean_img = other_data['X_train_mean_img']\n",
        "    mask_cutoff = 0.\n",
        "\n",
        "    for epoch in range(1, num_epochs+1):\n",
        "        log.info('Epoch {}/{}'.format(epoch, num_epochs))\n",
        "        log.info('-' * 20)\n",
        "        if save_log_every is not None:\n",
        "            if (epoch % save_log_every == 0):\n",
        "                push_log_to_git()\n",
        "        # Each epoch has a training and validation phase\n",
        "        for phase in ['train', 'val']:\n",
        "            if phase == 'train':\n",
        "                scheduler.step()\n",
        "                model.train()  # Set model to training mode\n",
        "            else:\n",
        "                model.eval()   # Set model to evaluate mode\n",
        "\n",
        "            epoch_loss1 = []\n",
        "            epoch_loss2 = []\n",
        "            pred_vs_true_epoch = []\n",
        "\n",
        "            for X_batch, y_batch, d_batch, X_id in dataloaders[phase]:\n",
        "                # zero the parameter gradients\n",
        "                optimizer.zero_grad()\n",
        "                with torch.set_grad_enabled(phase == 'train'):\n",
        "                    #y_pred, y_mask_pred = model(X_batch)\n",
        "                    y_pred = model(X_batch)\n",
        "                    pred_vs_true_epoch.append([y_pred, y_batch])\n",
        "                    \n",
        "                    # backward + optimize only if in training phase\n",
        "                    if phase == 'train':                        \n",
        "                        #from boxx import g\n",
        "                        #g()\n",
        "                        loss_1 = criterion1(y_pred, y_batch.float())      \n",
        "                        loss_2 = loss2_weight * criterion2(y_pred, y_batch.float()) \n",
        "\n",
        "                        #print(f'loss_pix: {loss_pix}, loss_dice:{loss_dice}')\n",
        "                        loss = loss_1 + loss_2\n",
        "                        #loss = loss_pix\n",
        "                        all_losses.append(loss.item())\n",
        "                        epoch_loss1.append(loss_1.item())\n",
        "                        epoch_loss2.append(loss_2.item())\n",
        "                        \n",
        "                        loss.backward()\n",
        "                        optimizer.step()\n",
        "                        iter_count += 1\n",
        "                if (phase == 'train') & (iter_count % print_every == 0):\n",
        "                    iou_batch = calc_mean_iou(y_pred.ge(mask_cutoff), y_batch.float())\n",
        "                    iou_acc = calc_clf_accuracy(y_pred.ge(mask_cutoff), y_batch.float())\n",
        "\n",
        "                    log.info('Batch Loss: {:.4f}, Epoch loss_1: {:.4f}, Epoch loss_2: {:.4f}, Batch IOU: {:.4f}, Batch Acc: {:.4f} at iter {}, epoch {}, Time: {}'.format(\n",
        "                        np.mean(all_losses[-print_every:]), np.mean(epoch_loss1), np.mean(epoch_loss2), iou_batch, iou_acc, iter_count, epoch, timeSince(start))\n",
        "                    )\n",
        "                    #print(all_losses)\n",
        "                    X_orig = X_train[X_id[0]].squeeze()/255\n",
        "                    X_tsfm = X_batch[0,0].squeeze().cpu().detach().numpy()\n",
        "                    X_tsfm = transform.resize(X_tsfm, (128, 128), mode='constant', preserve_range=True)\n",
        "                    X_tsfm = X_tsfm[13:114,13:114] + X_train_mean_img.squeeze()\n",
        "                    #X_tsfm = X_batch[0][X_batch[0].sum((1,2)).argmax()].squeeze().cpu().detach().numpy()[:101,:101] + X_train_mean_img.squeeze()\n",
        "\n",
        "                    y_orig = y_train[X_id[0]].squeeze()\n",
        "                    y_tsfm = (y_batch[0].squeeze().cpu().detach().numpy())\n",
        "                    y_tsfm_pred =  y_pred[0].squeeze().gt(mask_cutoff)\n",
        "                    plot_img_mask_pred([X_orig, X_tsfm, y_orig, y_tsfm, y_tsfm_pred],\n",
        "                                       ['X Original', 'X Transformed', 'y Original', 'y Transformed', 'y Predicted'])\n",
        "\n",
        "            y_pred_epoch = torch.cat([e[0] for e in pred_vs_true_epoch])\n",
        "            y_true_epoch = torch.cat([e[1] for e in pred_vs_true_epoch])\n",
        "            #from boxx import g\n",
        "            #g()\n",
        "            mean_iou_epoch = calc_mean_iou(y_pred_epoch.ge(mask_cutoff), y_true_epoch.float())\n",
        "            mean_acc_epoch = calc_clf_accuracy(y_pred_epoch.ge(mask_cutoff), y_true_epoch.float())\n",
        "            log.info('{} Mean IOU: {:.4f}, Mean Acc: {:.4f}, Best Val IOU: {:.4f} at epoch {}'.format(phase, mean_iou_epoch, mean_acc_epoch, best_iou, epoch))\n",
        "            if phase == 'val' and mean_iou_epoch > best_iou:\n",
        "                best_iou = mean_iou_epoch\n",
        "                best_model_wts = copy.deepcopy(model.state_dict())\n",
        "                stats = {'best_iou': best_iou,\n",
        "                         'all_losses': all_losses,\n",
        "                         'iter_count': iter_count}\n",
        "                log.info(save_model_state_to_chunks(epoch, copy.deepcopy(model.state_dict()),\n",
        "                                                    copy.deepcopy(optimizer.state_dict()),\n",
        "                                                    copy.deepcopy(scheduler.state_dict()), stats, model_save_name, '.'))\n",
        "                best_model = (epoch, copy.deepcopy(model.state_dict()),\n",
        "                                                    copy.deepcopy(optimizer.state_dict()),\n",
        "                                                    copy.deepcopy(scheduler.state_dict()), stats, model_save_name, '.')\n",
        "                log.info('Best Val Mean IOU so far: {}'.format(best_iou))\n",
        "                # Visualize 1 val sample and predictions\n",
        "                X_orig = X_val[X_id[0]].squeeze()/255\n",
        "                y_orig = y_val[X_id[0]].squeeze()\n",
        "                y_pred2 =  y_pred[0].squeeze().gt(mask_cutoff)\n",
        "                plot_img_mask_pred([X_orig, y_orig, y_pred2],\n",
        "                                   ['Val X Original', 'Val y Original', 'Val y Predicted'])\n",
        "        if save_model_every is not None:\n",
        "            if (epoch % save_model_every == 0) | (epoch == num_epochs-1):\n",
        "                if (best_model is not None) and (best_iou>0.78):\n",
        "                    log.info(save_model_state_to_chunks(*best_model))                \n",
        "                    push_model_to_git(ckp_name=model_save_name)\n",
        "                    best_model = None\n",
        "                else:\n",
        "                    log.info(\"Skip pushing model to git as there's no improvement\")\n",
        "\n",
        "    # load best model weights\n",
        "    model.load_state_dict(best_model_wts)\n",
        "    log.info('-' * 20)\n",
        "    time_elapsed = time.time() - start\n",
        "    log.info('Training complete in {:.0f}m {:.0f}s'.format(\n",
        "        time_elapsed // 60, time_elapsed % 60))\n",
        "    log.info('Best val IOU: {:4f}'.format(best_iou))\n",
        "\n",
        "    return model"
      ],
      "execution_count": 0,
      "outputs": []
    },
    {
      "metadata": {
        "id": "dasEpZc0QmOt",
        "colab_type": "text"
      },
      "cell_type": "markdown",
      "source": [
        "## Train the model using a small data set to see if it can overfit"
      ]
    },
    {
      "metadata": {
        "id": "7SbmYNEfkWQB",
        "colab_type": "code",
        "colab": {
          "base_uri": "https://localhost:8080/",
          "height": 88
        },
        "outputId": "c85fef49-aa40-4f50-b27d-8f30d0f56118"
      },
      "cell_type": "code",
      "source": [
        "saltnet = UNet(n_channels=1, n_classes=1, bilinear=True, logits=True)"
      ],
      "execution_count": 0,
      "outputs": [
        {
          "output_type": "stream",
          "text": [
            "Using bilinear for upsampling\n",
            "Using bilinear for upsampling\n",
            "Using bilinear for upsampling\n",
            "Using bilinear for upsampling\n"
          ],
          "name": "stdout"
        }
      ]
    },
    {
      "metadata": {
        "id": "BxrVtzXF-PqG",
        "colab_type": "code",
        "colab": {}
      },
      "cell_type": "code",
      "source": [
        "#saltnet = resnet34unet(in_ch=3, bilinear=False, pretrained=False)\n",
        "\n",
        "loss_fn_bce = nn.BCEWithLogitsLoss()\n",
        "loss_lovasz_hinge = LovaszHingeLoss()\n",
        "\n",
        "optimizer = torch.optim.Adam(saltnet.parameters(), lr=0.001)\n",
        "\n",
        "scheduler = lr_scheduler.StepLR(optimizer, step_size=50, gamma=0.1)\n",
        "\n",
        "model_save_name = None\n",
        "\n",
        "# Test Run\n",
        "trained_model = train_model(saltnet, dataloaders, loss_fn_bce, loss_lovasz_hinge, optimizer, scheduler, model_save_name, \n",
        "                other_data=all_data, num_epochs=100, print_every=2, save_model_every=None, save_log_every=None, log=log)"
      ],
      "execution_count": 0,
      "outputs": []
    },
    {
      "metadata": {
        "id": "zJ3DJ4hAQmOw",
        "colab_type": "text"
      },
      "cell_type": "markdown",
      "source": [
        "## Train the full with full dataset"
      ]
    },
    {
      "metadata": {
        "id": "Zqh0ER1mrS-r",
        "colab_type": "code",
        "colab": {
          "base_uri": "https://localhost:8080/",
          "height": 34
        },
        "outputId": "d4830afa-a32a-4959-e29a-fee7e859f491"
      },
      "cell_type": "code",
      "source": [
        "log.info('Fine tune with lavasz loss set to 0.3')"
      ],
      "execution_count": 35,
      "outputs": [
        {
          "output_type": "stream",
          "text": [
            "06/09/2018 07:15:45 - SaltNet - INFO - Fine tune with lavasz loss set to 0.3\n"
          ],
          "name": "stderr"
        }
      ]
    },
    {
      "metadata": {
        "id": "eTWlG-BIti8d",
        "colab_type": "code",
        "colab": {}
      },
      "cell_type": "code",
      "source": [
        "loss_fn_bce = nn.BCEWithLogitsLoss()\n",
        "loss_lovasz_hinge = LovaszHingeLoss()"
      ],
      "execution_count": 0,
      "outputs": []
    },
    {
      "metadata": {
        "id": "PsNda8OllKig",
        "colab_type": "code",
        "colab": {
          "base_uri": "https://localhost:8080/",
          "height": 185
        },
        "outputId": "08b234f6-7e09-43ed-ce02-f1711fe69223"
      },
      "cell_type": "code",
      "source": [
        "# fine tuning\n",
        "saltnet = UNet(n_channels=1, n_classes=1, bilinear=True, logits=True)\n",
        "if torch.cuda.is_available():\n",
        "  saltnet.cuda()\n",
        "model_file_suffix = \"../salt_net/Unet_bce_loss_lovasz_loss_2018_09_05_23_54_40.ckp\"\n",
        "model_state_dict = torch.load(join_files(model_file_suffix, '.', returnFileObject=True, removeChunks=False))\n",
        "saltnet.load_state_dict(model_state_dict['model'])\n",
        "optimizer = torch.optim.Adam(saltnet.parameters(), lr=0.001)\n",
        "optimizer.load_state_dict(model_state_dict['optimizer'])\n",
        "scheduler = lr_scheduler.StepLR(optimizer, step_size=20, gamma=0.8)\n",
        "scheduler.load_state_dict(model_state_dict['scheduler'])\n",
        "\n",
        "#model_save_name = f'../salt_net/Unet_bce_loss_lovasz_loss_finetune_{get_current_time_as_fname()}.ckp'\n",
        "model_save_name = None\n",
        "log.info(model_save_name)\n",
        "\n",
        "# Test Run\n",
        "trained_model = train_model(saltnet, dataloaders, loss_fn_bce, loss_lovasz_hinge, optimizer, scheduler, model_save_name, \n",
        "                other_data=all_data, num_epochs=26, print_every=50, save_model_every=20, save_log_every=2, log=log, loss2_weight=0.3)"
      ],
      "execution_count": 0,
      "outputs": [
        {
          "output_type": "stream",
          "text": [
            "Using bilinear for upsampling\n",
            "Using bilinear for upsampling\n",
            "Using bilinear for upsampling\n",
            "Using bilinear for upsampling\n"
          ],
          "name": "stdout"
        },
        {
          "output_type": "stream",
          "text": [
            "06/09/2018 07:15:52 - SaltNet - INFO - None\n",
            "06/09/2018 07:15:52 - SaltNet - INFO - Start Training...\n",
            "06/09/2018 07:15:52 - SaltNet - INFO - Epoch 1/26\n",
            "06/09/2018 07:15:52 - SaltNet - INFO - --------------------\n",
            "/usr/local/lib/python3.6/dist-packages/torch/nn/modules/upsampling.py:122: UserWarning: nn.Upsampling is deprecated. Use nn.functional.interpolate instead.\n",
            "  warnings.warn(\"nn.Upsampling is deprecated. Use nn.functional.interpolate instead.\")\n"
          ],
          "name": "stderr"
        }
      ]
    },
    {
      "metadata": {
        "id": "MNgkhdu3rQyd",
        "colab_type": "code",
        "colab": {}
      },
      "cell_type": "code",
      "source": [
        "log.info('Fine tune with lavasz loss set to 0.3 and lr set to 0.0001')"
      ],
      "execution_count": 0,
      "outputs": []
    },
    {
      "metadata": {
        "id": "ir3llPaSroSO",
        "colab_type": "code",
        "colab": {}
      },
      "cell_type": "code",
      "source": [
        "# fine tuning\n",
        "saltnet = UNet(n_channels=1, n_classes=1, bilinear=True, logits=True)\n",
        "if torch.cuda.is_available():\n",
        "  saltnet.cuda()\n",
        "model_file_suffix = \"../salt_net/Unet_bce_loss_lovasz_loss_2018_09_05_23_54_40.ckp\"\n",
        "model_state_dict = torch.load(join_files(model_file_suffix, '.', returnFileObject=True, removeChunks=False))\n",
        "saltnet.load_state_dict(model_state_dict['model'])\n",
        "optimizer = torch.optim.Adam(saltnet.parameters(), lr=0.0001)\n",
        "optimizer.load_state_dict(model_state_dict['optimizer'])\n",
        "scheduler = lr_scheduler.StepLR(optimizer, step_size=20, gamma=0.8)\n",
        "scheduler.load_state_dict(model_state_dict['scheduler'])\n",
        "\n",
        "#model_save_name = f'../salt_net/Unet_bce_loss_lovasz_loss_finetune_{get_current_time_as_fname()}.ckp'\n",
        "model_save_name = None\n",
        "log.info(model_save_name)\n",
        "\n",
        "# Test Run\n",
        "trained_model = train_model(saltnet, dataloaders, loss_fn_bce, loss_lovasz_hinge, optimizer, scheduler, model_save_name, \n",
        "                other_data=all_data, num_epochs=26, print_every=50, save_model_every=20, save_log_every=2, log=log, loss2_weight=0.3)"
      ],
      "execution_count": 0,
      "outputs": []
    },
    {
      "metadata": {
        "id": "obBOQuT4pYbO",
        "colab_type": "code",
        "colab": {}
      },
      "cell_type": "code",
      "source": [
        "log.info('Fine tune with data set to not use data augmentation')"
      ],
      "execution_count": 0,
      "outputs": []
    },
    {
      "metadata": {
        "id": "uPUj2RqCrzoE",
        "colab_type": "code",
        "colab": {}
      },
      "cell_type": "code",
      "source": [
        "\n",
        "data_params = {'batch_size': 32,\n",
        "               'shuffle': True,\n",
        "               'drop_last': False}\n",
        "\n",
        "train_dataLoader = (\n",
        "    DataLoader(SaltDataset(X_train, y_train, depth_train,\n",
        "                           X_train_mean_img, out_size=128,  out_ch=1,\n",
        "                           transform=None), **data_params)\n",
        ")\n",
        "\n",
        "val_dataLoader = (\n",
        "    DataLoader(SaltDataset(X_val, y_val, depth_val, \n",
        "                           X_train_mean_img, out_size=128, out_ch=1), **data_params)\n",
        ")\n",
        "\n",
        "dataloaders = {'train': train_dataLoader, 'val':val_dataLoader}"
      ],
      "execution_count": 0,
      "outputs": []
    },
    {
      "metadata": {
        "id": "wNFs9PIYrzuU",
        "colab_type": "code",
        "colab": {}
      },
      "cell_type": "code",
      "source": [
        "# fine tuning\n",
        "saltnet = UNet(n_channels=1, n_classes=1, bilinear=True, logits=True)\n",
        "if torch.cuda.is_available():\n",
        "  saltnet.cuda()\n",
        "model_file_suffix = \"../salt_net/Unet_bce_loss_lovasz_loss_2018_09_05_23_54_40.ckp\"\n",
        "model_state_dict = torch.load(join_files(model_file_suffix, '.', returnFileObject=True, removeChunks=False))\n",
        "saltnet.load_state_dict(model_state_dict['model'])\n",
        "optimizer = torch.optim.Adam(saltnet.parameters(), lr=0.001)\n",
        "optimizer.load_state_dict(model_state_dict['optimizer'])\n",
        "scheduler = lr_scheduler.StepLR(optimizer, step_size=20, gamma=0.8)\n",
        "scheduler.load_state_dict(model_state_dict['scheduler'])\n",
        "\n",
        "#model_save_name = f'../salt_net/Unet_bce_loss_lovasz_loss_finetune_{get_current_time_as_fname()}.ckp'\n",
        "model_save_name = None\n",
        "log.info(model_save_name)\n",
        "\n",
        "# Test Run\n",
        "trained_model = train_model(saltnet, dataloaders, loss_fn_bce, loss_lovasz_hinge, optimizer, scheduler, model_save_name, \n",
        "                other_data=all_data, num_epochs=26, print_every=50, save_model_every=20, save_log_every=2, log=log, loss2_weight=0.1)"
      ],
      "execution_count": 0,
      "outputs": []
    },
    {
      "metadata": {
        "id": "Oj67_ywZs2Pf",
        "colab_type": "code",
        "colab": {}
      },
      "cell_type": "code",
      "source": [
        ""
      ],
      "execution_count": 0,
      "outputs": []
    },
    {
      "metadata": {
        "id": "AC4J2Yzzrz0Y",
        "colab_type": "code",
        "colab": {}
      },
      "cell_type": "code",
      "source": [
        "log.info('Fine tune with data set to use more data augmentation')"
      ],
      "execution_count": 0,
      "outputs": []
    },
    {
      "metadata": {
        "id": "X8pvQPnesHwc",
        "colab_type": "code",
        "colab": {}
      },
      "cell_type": "code",
      "source": [
        "p = Pipeline_Salt()\n",
        "p.skew(probability=1, magnitude=0.5)\n",
        "p.random_distortion(probability=0.5, grid_width=6, grid_height=6, magnitude=8)\n",
        "p.rotate(probability=0.5, max_left_rotation=20, max_right_rotation=20)\n",
        "p.zoom(probability=0.5, min_factor=1.0, max_factor=1.2)\n",
        "p.shear(probability=0.5, max_shear_left=20, max_shear_right=20)\n",
        "p.flip_left_right(probability=0.5)\n",
        "p.crop_by_size(probability=0.5, width=101, height=101, centre=False)"
      ],
      "execution_count": 0,
      "outputs": []
    },
    {
      "metadata": {
        "id": "cVv7mDl5sH1H",
        "colab_type": "code",
        "colab": {}
      },
      "cell_type": "code",
      "source": [
        "data_params = {'batch_size': 32,\n",
        "               'shuffle': True,\n",
        "               'drop_last': False}\n",
        "\n",
        "train_dataLoader = (\n",
        "    DataLoader(SaltDataset(X_train, y_train, depth_train,\n",
        "                           X_train_mean_img, out_size=128,  out_ch=1,\n",
        "                           transform=p.torch_transform()), **data_params)\n",
        ")\n",
        "\n",
        "val_dataLoader = (\n",
        "    DataLoader(SaltDataset(X_val, y_val, depth_val, \n",
        "                           X_train_mean_img, out_size=128, out_ch=1), **data_params)\n",
        ")\n",
        "\n",
        "dataloaders = {'train': train_dataLoader, 'val':val_dataLoader}"
      ],
      "execution_count": 0,
      "outputs": []
    },
    {
      "metadata": {
        "id": "Wkv7IYjlsx0u",
        "colab_type": "code",
        "colab": {}
      },
      "cell_type": "code",
      "source": [
        "# fine tuning\n",
        "saltnet = UNet(n_channels=1, n_classes=1, bilinear=True, logits=True)\n",
        "if torch.cuda.is_available():\n",
        "  saltnet.cuda()\n",
        "model_file_suffix = \"../salt_net/Unet_bce_loss_lovasz_loss_2018_09_05_23_54_40.ckp\"\n",
        "model_state_dict = torch.load(join_files(model_file_suffix, '.', returnFileObject=True, removeChunks=False))\n",
        "saltnet.load_state_dict(model_state_dict['model'])\n",
        "optimizer = torch.optim.Adam(saltnet.parameters(), lr=0.001)\n",
        "optimizer.load_state_dict(model_state_dict['optimizer'])\n",
        "scheduler = lr_scheduler.StepLR(optimizer, step_size=20, gamma=0.8)\n",
        "scheduler.load_state_dict(model_state_dict['scheduler'])\n",
        "\n",
        "#model_save_name = f'../salt_net/Unet_bce_loss_lovasz_loss_finetune_{get_current_time_as_fname()}.ckp'\n",
        "model_save_name = None\n",
        "log.info(model_save_name)\n",
        "\n",
        "# Test Run\n",
        "trained_model = train_model(saltnet, dataloaders, loss_fn_bce, loss_lovasz_hinge, optimizer, scheduler, model_save_name, \n",
        "                other_data=all_data, num_epochs=26, print_every=50, save_model_every=20, save_log_every=2, log=log, loss2_weight=0.1)"
      ],
      "execution_count": 0,
      "outputs": []
    },
    {
      "metadata": {
        "id": "BAOAvKLTsx5D",
        "colab_type": "code",
        "colab": {}
      },
      "cell_type": "code",
      "source": [
        ""
      ],
      "execution_count": 0,
      "outputs": []
    },
    {
      "metadata": {
        "id": "KLdDDpDYsx9n",
        "colab_type": "code",
        "colab": {}
      },
      "cell_type": "code",
      "source": [
        ""
      ],
      "execution_count": 0,
      "outputs": []
    },
    {
      "metadata": {
        "id": "mWHyEAqbrz85",
        "colab_type": "code",
        "colab": {}
      },
      "cell_type": "code",
      "source": [
        ""
      ],
      "execution_count": 0,
      "outputs": []
    },
    {
      "metadata": {
        "id": "u8EUxk8UQmOx",
        "colab_type": "code",
        "colab": {}
      },
      "cell_type": "code",
      "source": [
        "## Train a new model\n",
        "saltnet = UNet(n_channels=1, n_classes=1, bilinear=True, logits=True)\n",
        "loss_fn_bce = nn.BCEWithLogitsLoss()\n",
        "loss_lovasz_hinge = LovaszHingeLoss()\n",
        "optimizer = torch.optim.Adam(saltnet.parameters(), lr=0.001)\n",
        "scheduler = lr_scheduler.StepLR(optimizer, step_size=20, gamma=0.8)\n",
        "\n",
        "model_save_name = f'../salt_net/Unet_bce_loss_lovasz_loss_finetune_{get_current_time_as_fname()}.ckp'\n",
        "log.info(model_save_name)\n",
        "\n",
        "# Test Run\n",
        "trained_model = train_model(saltnet, dataloaders, loss_fn_bce, loss_lovasz_hinge, optimizer, scheduler, model_save_name, \n",
        "                other_data=all_data, num_epochs=250, print_every=50, save_model_every=20, save_log_every=2, log=log)"
      ],
      "execution_count": 0,
      "outputs": []
    },
    {
      "metadata": {
        "id": "-P-jcOQMjL7w",
        "colab_type": "code",
        "colab": {}
      },
      "cell_type": "code",
      "source": [
        "rm submission_2018_09_06_11_44_03.csv"
      ],
      "execution_count": 0,
      "outputs": []
    },
    {
      "metadata": {
        "id": "9MW3YwaZQmOz",
        "colab_type": "text"
      },
      "cell_type": "markdown",
      "source": [
        "## Load Trained Model"
      ]
    },
    {
      "metadata": {
        "id": "LIRv-uXQGROz",
        "colab_type": "code",
        "colab": {
          "base_uri": "https://localhost:8080/",
          "height": 84
        },
        "outputId": "16a39837-6a71-4f99-e9ef-aacf70978ea1"
      },
      "cell_type": "code",
      "source": [
        "loaded_model = UNet(n_channels=1, n_classes=1, bilinear=True, logits=True)"
      ],
      "execution_count": 42,
      "outputs": [
        {
          "output_type": "stream",
          "text": [
            "Using bilinear for upsampling\n",
            "Using bilinear for upsampling\n",
            "Using bilinear for upsampling\n",
            "Using bilinear for upsampling\n"
          ],
          "name": "stdout"
        }
      ]
    },
    {
      "metadata": {
        "id": "MDpBS2c9ePeW",
        "colab_type": "code",
        "colab": {
          "base_uri": "https://localhost:8080/",
          "height": 454
        },
        "outputId": "a3581f16-3321-4f3a-8b55-6c40c01e80ca"
      },
      "cell_type": "code",
      "source": [
        "ls"
      ],
      "execution_count": 39,
      "outputs": [
        {
          "output_type": "stream",
          "text": [
            "\u001b[0m\u001b[01;34mlogs\u001b[0m/\r\n",
            "Unet_bce_loss_bilinear_2018_09_02_09_43_10.ckp-chunk-1-Of-5\r\n",
            "Unet_bce_loss_bilinear_2018_09_02_09_43_10.ckp-chunk-2-Of-5\r\n",
            "Unet_bce_loss_bilinear_2018_09_02_09_43_10.ckp-chunk-3-Of-5\r\n",
            "Unet_bce_loss_bilinear_2018_09_02_09_43_10.ckp-chunk-4-Of-5\r\n",
            "Unet_bce_loss_bilinear_2018_09_02_09_43_10.ckp-chunk-5-Of-5\r\n",
            "Unet_bce_loss_bilinear_data_augmentor_2018_09_03_11_59_40.ckp-chunk-1-Of-5\r\n",
            "Unet_bce_loss_bilinear_data_augmentor_2018_09_03_11_59_40.ckp-chunk-2-Of-5\r\n",
            "Unet_bce_loss_bilinear_data_augmentor_2018_09_03_11_59_40.ckp-chunk-3-Of-5\r\n",
            "Unet_bce_loss_bilinear_data_augmentor_2018_09_03_11_59_40.ckp-chunk-4-Of-5\r\n",
            "Unet_bce_loss_bilinear_data_augmentor_2018_09_03_11_59_40.ckp-chunk-5-Of-5\r\n",
            "Unet_bce_loss_bilinear_data_augmentor_2018_09_03_12_00_31.ckp-chunk-1-Of-5\r\n",
            "Unet_bce_loss_bilinear_data_augmentor_2018_09_03_12_00_31.ckp-chunk-2-Of-5\r\n",
            "Unet_bce_loss_bilinear_data_augmentor_2018_09_03_12_00_31.ckp-chunk-3-Of-5\r\n",
            "Unet_bce_loss_bilinear_data_augmentor_2018_09_03_12_00_31.ckp-chunk-4-Of-5\r\n",
            "Unet_bce_loss_bilinear_data_augmentor_2018_09_03_12_00_31.ckp-chunk-5-Of-5\r\n",
            "Unet_bce_loss_lovasz_loss_2018_09_05_23_54_40.ckp-chunk-1-Of-5\r\n",
            "Unet_bce_loss_lovasz_loss_2018_09_05_23_54_40.ckp-chunk-2-Of-5\r\n",
            "Unet_bce_loss_lovasz_loss_2018_09_05_23_54_40.ckp-chunk-3-Of-5\r\n",
            "Unet_bce_loss_lovasz_loss_2018_09_05_23_54_40.ckp-chunk-4-Of-5\r\n",
            "Unet_bce_loss_lovasz_loss_2018_09_05_23_54_40.ckp-chunk-5-Of-5\r\n",
            "Unet_bce_loss_lovasz_loss_finetune_2018_09_06_11_59_40.ckp-chunk-1-Of-5\r\n",
            "Unet_bce_loss_lovasz_loss_finetune_2018_09_06_11_59_40.ckp-chunk-2-Of-5\r\n",
            "Unet_bce_loss_lovasz_loss_finetune_2018_09_06_11_59_40.ckp-chunk-3-Of-5\r\n",
            "Unet_bce_loss_lovasz_loss_finetune_2018_09_06_11_59_40.ckp-chunk-4-Of-5\r\n",
            "Unet_bce_loss_lovasz_loss_finetune_2018_09_06_11_59_40.ckp-chunk-5-Of-5\r\n"
          ],
          "name": "stdout"
        }
      ]
    },
    {
      "metadata": {
        "id": "cuoeW6MLd439",
        "colab_type": "code",
        "colab": {}
      },
      "cell_type": "code",
      "source": [
        "model_file_suffix = \"Unet_bce_loss_lovasz_loss_finetune_2018_09_06_11_59_40.ckp\"\n",
        "model_state_dict = torch.load(join_files(model_file_suffix, '.', returnFileObject=True, removeChunks=False))\n",
        "loaded_model.load_state_dict(model_state_dict['model'])"
      ],
      "execution_count": 0,
      "outputs": []
    },
    {
      "metadata": {
        "id": "PbgxXtYH3KpR",
        "colab_type": "text"
      },
      "cell_type": "markdown",
      "source": [
        "### Make Predictions on validation set"
      ]
    },
    {
      "metadata": {
        "id": "W0cFNMM0QmO4",
        "colab_type": "text"
      },
      "cell_type": "markdown",
      "source": [
        "### Set model to evaluation mode"
      ]
    },
    {
      "metadata": {
        "id": "izo8iByg3KpP",
        "colab_type": "code",
        "colab": {}
      },
      "cell_type": "code",
      "source": [
        "loaded_model.eval()\n",
        "assert loaded_model.training == False"
      ],
      "execution_count": 0,
      "outputs": []
    },
    {
      "metadata": {
        "id": "zfdN-P-j3KpS",
        "colab_type": "code",
        "colab": {}
      },
      "cell_type": "code",
      "source": [
        "val_dataLoader = DataLoader(SaltDataset(X_val, y_val, depth_val, X_train_mean_img, out_size=128), batch_size=16)"
      ],
      "execution_count": 0,
      "outputs": []
    },
    {
      "metadata": {
        "id": "7M0ZHG7o6swA",
        "colab_type": "code",
        "colab": {}
      },
      "cell_type": "code",
      "source": [
        "if torch.cuda.is_available():\n",
        "    loaded_model.cuda()"
      ],
      "execution_count": 0,
      "outputs": []
    },
    {
      "metadata": {
        "id": "JMuArCUd3KpU",
        "colab_type": "code",
        "colab": {
          "base_uri": "https://localhost:8080/",
          "height": 50
        },
        "outputId": "8125d766-f3ee-471f-a198-62e19d293fc1"
      },
      "cell_type": "code",
      "source": [
        "y_val_pred = []\n",
        "\n",
        "with torch.no_grad():\n",
        "    for X_val_batch, y_val_batch, depth_val_batch, X_val_id_batch in val_dataLoader:\n",
        "        y_val_pred.append(loaded_model(X_val_batch))\n",
        "y_val_pred = torch.cat(y_val_pred)"
      ],
      "execution_count": 47,
      "outputs": [
        {
          "output_type": "stream",
          "text": [
            "/usr/local/lib/python3.6/dist-packages/torch/nn/modules/upsampling.py:122: UserWarning: nn.Upsampling is deprecated. Use nn.functional.interpolate instead.\n",
            "  warnings.warn(\"nn.Upsampling is deprecated. Use nn.functional.interpolate instead.\")\n"
          ],
          "name": "stderr"
        }
      ]
    },
    {
      "metadata": {
        "id": "nxNTal6nS8Za",
        "colab_type": "code",
        "colab": {
          "base_uri": "https://localhost:8080/",
          "height": 50
        },
        "outputId": "a176e280-242c-47f2-e6bc-5b70964c12cf"
      },
      "cell_type": "code",
      "source": [
        "train_dataLoader = DataLoader(SaltDataset(X_train, y_train, depth_train, X_train_mean_img, out_size=128), batch_size=16)\n",
        "y_train_pred = []\n",
        "\n",
        "with torch.no_grad():\n",
        "    for X_train_batch, y_train_batch, depth_train_batch, X_train_id_batch in train_dataLoader:\n",
        "        y_train_pred.append(loaded_model(X_train_batch))\n",
        "y_train_pred = torch.cat(y_train_pred)"
      ],
      "execution_count": 48,
      "outputs": [
        {
          "output_type": "stream",
          "text": [
            "/usr/local/lib/python3.6/dist-packages/torch/nn/modules/upsampling.py:122: UserWarning: nn.Upsampling is deprecated. Use nn.functional.interpolate instead.\n",
            "  warnings.warn(\"nn.Upsampling is deprecated. Use nn.functional.interpolate instead.\")\n"
          ],
          "name": "stderr"
        }
      ]
    },
    {
      "metadata": {
        "id": "2_DJpL1o3KpY",
        "colab_type": "code",
        "colab": {
          "base_uri": "https://localhost:8080/",
          "height": 2129
        },
        "outputId": "a96a1b29-d25a-4cf7-bf39-0f30c69562d3"
      },
      "cell_type": "code",
      "source": [
        "for i in range(10):\n",
        "    rand_id = np.random.choice(X_val_id_batch)\n",
        "    print(f'Image ID: {rand_id}')\n",
        "    val_img = X_val[rand_id]/255\n",
        "    val_mask = y_val[rand_id]\n",
        "    val_mask_pred = y_val_pred.ge(MASK_CUTOFF)[rand_id]\n",
        "    plot_img_mask_pred([val_img, val_mask, val_mask_pred], range(3), img_per_line=3)"
      ],
      "execution_count": 52,
      "outputs": [
        {
          "output_type": "stream",
          "text": [
            "Image ID: 797\n"
          ],
          "name": "stdout"
        },
        {
          "output_type": "display_data",
          "data": {
            "image/png": "[encoded data removed]",
            "text/plain": [
              "<matplotlib.figure.Figure at 0x7f4a0fc345c0>"
            ]
          },
          "metadata": {
            "tags": []
          }
        },
        {
          "output_type": "stream",
          "text": [
            "Image ID: 794\n"
          ],
          "name": "stdout"
        },
        {
          "output_type": "display_data",
          "data": {
            "image/png": "[encoded data removed]",
            "text/plain": [
              "<matplotlib.figure.Figure at 0x7f4a11341c18>"
            ]
          },
          "metadata": {
            "tags": []
          }
        },
        {
          "output_type": "stream",
          "text": [
            "Image ID: 787\n"
          ],
          "name": "stdout"
        },
        {
          "output_type": "display_data",
          "data": {
            "image/png": "[encoded data removed]",
            "text/plain": [
              "<matplotlib.figure.Figure at 0x7f4a2349f748>"
            ]
          },
          "metadata": {
            "tags": []
          }
        },
        {
          "output_type": "stream",
          "text": [
            "Image ID: 797\n"
          ],
          "name": "stdout"
        },
        {
          "output_type": "display_data",
          "data": {
            "image/png": "[encoded data removed]",
            "text/plain": [
              "<matplotlib.figure.Figure at 0x7f4a446a9e48>"
            ]
          },
          "metadata": {
            "tags": []
          }
        },
        {
          "output_type": "stream",
          "text": [
            "Image ID: 789\n"
          ],
          "name": "stdout"
        },
        {
          "output_type": "display_data",
          "data": {
            "image/png": "[encoded data removed]",
            "text/plain": [
              "<matplotlib.figure.Figure at 0x7f4a44b59588>"
            ]
          },
          "metadata": {
            "tags": []
          }
        },
        {
          "output_type": "stream",
          "text": [
            "Image ID: 796\n"
          ],
          "name": "stdout"
        },
        {
          "output_type": "display_data",
          "data": {
            "image/png": "[encoded data removed]",
            "text/plain": [
              "<matplotlib.figure.Figure at 0x7f4a10e6fdd8>"
            ]
          },
          "metadata": {
            "tags": []
          }
        },
        {
          "output_type": "stream",
          "text": [
            "Image ID: 796\n"
          ],
          "name": "stdout"
        },
        {
          "output_type": "display_data",
          "data": {
            "image/png": "[encoded data removed]",
            "text/plain": [
              "<matplotlib.figure.Figure at 0x7f4a2349f2b0>"
            ]
          },
          "metadata": {
            "tags": []
          }
        },
        {
          "output_type": "stream",
          "text": [
            "Image ID: 789\n"
          ],
          "name": "stdout"
        },
        {
          "output_type": "display_data",
          "data": {
            "image/png": "[encoded data removed]",
            "text/plain": [
              "<matplotlib.figure.Figure at 0x7f4a10485c88>"
            ]
          },
          "metadata": {
            "tags": []
          }
        },
        {
          "output_type": "stream",
          "text": [
            "Image ID: 796\n"
          ],
          "name": "stdout"
        },
        {
          "output_type": "display_data",
          "data": {
            "image/png": "[encoded data removed]",
            "text/plain": [
              "<matplotlib.figure.Figure at 0x7f4a10fcc080>"
            ]
          },
          "metadata": {
            "tags": []
          }
        },
        {
          "output_type": "stream",
          "text": [
            "Image ID: 784\n"
          ],
          "name": "stdout"
        },
        {
          "output_type": "display_data",
          "data": {
            "image/png": "[encoded data removed]",
            "text/plain": [
              "<matplotlib.figure.Figure at 0x7f4a100e83c8>"
            ]
          },
          "metadata": {
            "tags": []
          }
        }
      ]
    },
    {
      "metadata": {
        "id": "fkD6eqk9ghEe",
        "colab_type": "code",
        "colab": {
          "base_uri": "https://localhost:8080/",
          "height": 2129
        },
        "outputId": "7a62b9be-9ba1-45a7-fef9-88028dfbc4d7"
      },
      "cell_type": "code",
      "source": [
        "for i in range(10):\n",
        "    rand_id = np.random.choice(X_train_id_batch)\n",
        "    print(f'Image ID: {rand_id}')\n",
        "    img = X_train[rand_id]/255\n",
        "    mask = y_train[rand_id]\n",
        "    mask_pred = y_train_pred.ge(MASK_CUTOFF)[rand_id]\n",
        "    plot_img_mask_pred([img, mask, mask_pred], range(3), img_per_line=3)"
      ],
      "execution_count": 53,
      "outputs": [
        {
          "output_type": "stream",
          "text": [
            "Image ID: 3199\n"
          ],
          "name": "stdout"
        },
        {
          "output_type": "display_data",
          "data": {
            "image/png": "[encoded data removed]",
            "text/plain": [
              "<matplotlib.figure.Figure at 0x7f4a99b14be0>"
            ]
          },
          "metadata": {
            "tags": []
          }
        },
        {
          "output_type": "stream",
          "text": [
            "Image ID: 3192\n"
          ],
          "name": "stdout"
        },
        {
          "output_type": "display_data",
          "data": {
            "image/png": "[encoded data removed]",
            "text/plain": [
              "<matplotlib.figure.Figure at 0x7f4a446a9be0>"
            ]
          },
          "metadata": {
            "tags": []
          }
        },
        {
          "output_type": "stream",
          "text": [
            "Image ID: 3185\n"
          ],
          "name": "stdout"
        },
        {
          "output_type": "display_data",
          "data": {
            "image/png": "[encoded data removed]",
            "text/plain": [
              "<matplotlib.figure.Figure at 0x7f4a23495b38>"
            ]
          },
          "metadata": {
            "tags": []
          }
        },
        {
          "output_type": "stream",
          "text": [
            "Image ID: 3192\n"
          ],
          "name": "stdout"
        },
        {
          "output_type": "display_data",
          "data": {
            "image/png": "[encoded data removed]",
            "text/plain": [
              "<matplotlib.figure.Figure at 0x7f4a2357f748>"
            ]
          },
          "metadata": {
            "tags": []
          }
        },
        {
          "output_type": "stream",
          "text": [
            "Image ID: 3188\n"
          ],
          "name": "stdout"
        },
        {
          "output_type": "display_data",
          "data": {
            "image/png": "[encoded data removed]",
            "text/plain": [
              "<matplotlib.figure.Figure at 0x7f4a12e3e438>"
            ]
          },
          "metadata": {
            "tags": []
          }
        },
        {
          "output_type": "stream",
          "text": [
            "Image ID: 3193\n"
          ],
          "name": "stdout"
        },
        {
          "output_type": "display_data",
          "data": {
            "image/png": "[encoded data removed]",
            "text/plain": [
              "<matplotlib.figure.Figure at 0x7f4a131d70b8>"
            ]
          },
          "metadata": {
            "tags": []
          }
        },
        {
          "output_type": "stream",
          "text": [
            "Image ID: 3192\n"
          ],
          "name": "stdout"
        },
        {
          "output_type": "display_data",
          "data": {
            "image/png": "[encoded data removed]",
            "text/plain": [
              "<matplotlib.figure.Figure at 0x7f4a100e66a0>"
            ]
          },
          "metadata": {
            "tags": []
          }
        },
        {
          "output_type": "stream",
          "text": [
            "Image ID: 3192\n"
          ],
          "name": "stdout"
        },
        {
          "output_type": "display_data",
          "data": {
            "image/png": "[encoded data removed]",
            "text/plain": [
              "<matplotlib.figure.Figure at 0x7f4a0fbcaeb8>"
            ]
          },
          "metadata": {
            "tags": []
          }
        },
        {
          "output_type": "stream",
          "text": [
            "Image ID: 3188\n"
          ],
          "name": "stdout"
        },
        {
          "output_type": "display_data",
          "data": {
            "image/png": "[encoded data removed]",
            "text/plain": [
              "<matplotlib.figure.Figure at 0x7f4a0fbcb9e8>"
            ]
          },
          "metadata": {
            "tags": []
          }
        },
        {
          "output_type": "stream",
          "text": [
            "Image ID: 3192\n"
          ],
          "name": "stdout"
        },
        {
          "output_type": "display_data",
          "data": {
            "image/png": "[encoded data removed]",
            "text/plain": [
              "<matplotlib.figure.Figure at 0x7f4a447f3c88>"
            ]
          },
          "metadata": {
            "tags": []
          }
        }
      ]
    },
    {
      "metadata": {
        "id": "aFW4BqZx8VzV",
        "colab_type": "code",
        "colab": {}
      },
      "cell_type": "code",
      "source": [
        "ZERO_MASK_CUTOFF = 20\n",
        "MASK_CUTOFF = 0."
      ],
      "execution_count": 0,
      "outputs": []
    },
    {
      "metadata": {
        "id": "vMbnI4J6Jkr1",
        "colab_type": "code",
        "colab": {
          "base_uri": "https://localhost:8080/",
          "height": 34
        },
        "outputId": "eedddf4d-1e0d-47c1-f9e5-b062e179317e"
      },
      "cell_type": "code",
      "source": [
        "y_val_pred_adj = adjust_predictions(ZERO_MASK_CUTOFF, X_val, y_val_pred.gt(MASK_CUTOFF), y_val.squeeze())"
      ],
      "execution_count": 54,
      "outputs": [
        {
          "output_type": "stream",
          "text": [
            "06/09/2018 05:32:56 - SaltNet - INFO - IOU score before: 0.8192499999999999, IOU Score after:0.81825\n"
          ],
          "name": "stderr"
        }
      ]
    },
    {
      "metadata": {
        "id": "aPOBqHPDVbzS",
        "colab_type": "code",
        "colab": {
          "base_uri": "https://localhost:8080/",
          "height": 34
        },
        "outputId": "304a9598-5f59-4c12-ccf9-895da7487367"
      },
      "cell_type": "code",
      "source": [
        "y_val_pred_adj = adjust_predictions(0, X_val, y_val_pred.gt(-0.3), y_val.squeeze())"
      ],
      "execution_count": 141,
      "outputs": [
        {
          "output_type": "stream",
          "text": [
            "06/09/2018 06:52:24 - SaltNet - INFO - IOU score before: 0.8194999999999999, IOU Score after:0.8194999999999999\n"
          ],
          "name": "stderr"
        }
      ]
    },
    {
      "metadata": {
        "id": "kgcUBfKx8rpd",
        "colab_type": "code",
        "colab": {}
      },
      "cell_type": "code",
      "source": [
        "results=[]\n",
        "for cut_off in range(0, 300, 10):\n",
        "  print(cut_off)\n",
        "  results.append(calc_mean_iou(adjust_predictions(cut_off, X_val, y_val_pred.gt(MASK_CUTOFF), y_val.squeeze()), y_val.squeeze()))"
      ],
      "execution_count": 0,
      "outputs": []
    },
    {
      "metadata": {
        "id": "KcfUIfJyNna6",
        "colab_type": "code",
        "colab": {
          "base_uri": "https://localhost:8080/",
          "height": 34
        },
        "outputId": "d85cb802-9735-441a-b0fa-3ceebdab7549"
      },
      "cell_type": "code",
      "source": [
        "range(0, 300, 10)[np.argmax(results)]"
      ],
      "execution_count": 57,
      "outputs": [
        {
          "output_type": "execute_result",
          "data": {
            "text/plain": [
              "0"
            ]
          },
          "metadata": {
            "tags": []
          },
          "execution_count": 57
        }
      ]
    },
    {
      "metadata": {
        "id": "w1j58cIWfqxj",
        "colab_type": "code",
        "colab": {}
      },
      "cell_type": "code",
      "source": [
        "results"
      ],
      "execution_count": 0,
      "outputs": []
    },
    {
      "metadata": {
        "id": "hmT8DPBnGRPh",
        "colab_type": "code",
        "colab": {
          "base_uri": "https://localhost:8080/",
          "height": 34
        },
        "outputId": "0f348570-66c8-4e90-d25d-27896c9b0c3e"
      },
      "cell_type": "code",
      "source": [
        "y_val_pred_adj = adjust_predictions(ZERO_MASK_CUTOFF, X_val, y_val_pred.gt(MASK_CUTOFF), y_val.squeeze())"
      ],
      "execution_count": 58,
      "outputs": [
        {
          "output_type": "stream",
          "text": [
            "06/09/2018 05:33:54 - SaltNet - INFO - IOU score before: 0.8192499999999999, IOU Score after:0.81825\n"
          ],
          "name": "stderr"
        }
      ]
    },
    {
      "metadata": {
        "id": "GCR_6IO1g7xE",
        "colab_type": "code",
        "colab": {
          "base_uri": "https://localhost:8080/",
          "height": 34
        },
        "outputId": "7791086b-dc6c-4a53-c6c1-bc5dbeb151da"
      },
      "cell_type": "code",
      "source": [
        "y_train_pred_adj = adjust_predictions(ZERO_MASK_CUTOFF, X_train, y_train_pred.gt(MASK_CUTOFF), y_train.squeeze())"
      ],
      "execution_count": 59,
      "outputs": [
        {
          "output_type": "stream",
          "text": [
            "06/09/2018 05:34:01 - SaltNet - INFO - IOU score before: 0.8289687499999999, IOU Score after:0.8294687500000001\n"
          ],
          "name": "stderr"
        }
      ]
    },
    {
      "metadata": {
        "id": "IeXdGnrPgIDe",
        "colab_type": "code",
        "colab": {}
      },
      "cell_type": "code",
      "source": [
        "results=[]\n",
        "for cut_off in range(0, 300, 10):\n",
        "  print(cut_off)\n",
        "  results.append(calc_mean_iou(adjust_predictions(cut_off, X_train, y_train_pred.gt(MASK_CUTOFF), y_train.squeeze()), y_train.squeeze()))"
      ],
      "execution_count": 0,
      "outputs": []
    },
    {
      "metadata": {
        "id": "vQErtiLSgZPh",
        "colab_type": "code",
        "colab": {
          "base_uri": "https://localhost:8080/",
          "height": 34
        },
        "outputId": "5fb0fd82-fb1a-48e1-e1d2-ece18c72d22f"
      },
      "cell_type": "code",
      "source": [
        "range(0, 3000, 10)[np.argmax(results)]"
      ],
      "execution_count": 61,
      "outputs": [
        {
          "output_type": "execute_result",
          "data": {
            "text/plain": [
              "20"
            ]
          },
          "metadata": {
            "tags": []
          },
          "execution_count": 61
        }
      ]
    },
    {
      "metadata": {
        "id": "o1oSze9o3Kp_",
        "colab_type": "text"
      },
      "cell_type": "markdown",
      "source": [
        "## Make predictions on test set"
      ]
    },
    {
      "metadata": {
        "id": "X6ocZkIAS8Zf",
        "colab_type": "code",
        "colab": {}
      },
      "cell_type": "code",
      "source": [
        "#test_dataLoader = DataLoader(SaltDataset(np_test[:10], None, depth_test, X_train_mean_img), batch_size=4)\n",
        "test_dataLoader = DataLoader(SaltDataset(X_test, np.zeros_like(X_test), depth_test, X_train_mean_img, out_size=128), batch_size=16)"
      ],
      "execution_count": 0,
      "outputs": []
    },
    {
      "metadata": {
        "id": "ChMRx1kh3KqE",
        "colab_type": "code",
        "colab": {
          "base_uri": "https://localhost:8080/",
          "height": 50
        },
        "outputId": "c812d910-b8c7-4992-8f35-1f7c019e44d3"
      },
      "cell_type": "code",
      "source": [
        "y_test_pred_raw = []\n",
        "with torch.no_grad():\n",
        "    for X_test_batch, y_test_batch, depth_test_batch, X_test_id_batch in test_dataLoader:\n",
        "        y_test_pred_raw.append(loaded_model(X_test_batch))\n",
        "y_test_pred = torch.cat(y_test_pred_raw)"
      ],
      "execution_count": 63,
      "outputs": [
        {
          "output_type": "stream",
          "text": [
            "/usr/local/lib/python3.6/dist-packages/torch/nn/modules/upsampling.py:122: UserWarning: nn.Upsampling is deprecated. Use nn.functional.interpolate instead.\n",
            "  warnings.warn(\"nn.Upsampling is deprecated. Use nn.functional.interpolate instead.\")\n"
          ],
          "name": "stderr"
        }
      ]
    },
    {
      "metadata": {
        "id": "XiRFXS8K3KqI",
        "colab_type": "text"
      },
      "cell_type": "markdown",
      "source": [
        "### Show segmentation masks for a few images"
      ]
    },
    {
      "metadata": {
        "id": "Z8_mXXfA3KqI",
        "colab_type": "code",
        "colab": {}
      },
      "cell_type": "code",
      "source": [
        "for i in range(10):\n",
        "    rand_id = np.random.choice(X_test_id_batch)\n",
        "    print(f'Image ID: {rand_id}')\n",
        "    img = X_test[rand_id]/255\n",
        "    mask_pred = y_test_pred.ge(0.5)[rand_id]\n",
        "    plot_img_mask_pred([img, mask_pred], range(2))"
      ],
      "execution_count": 0,
      "outputs": []
    },
    {
      "metadata": {
        "id": "OnjDYjvp3KqK",
        "colab_type": "text"
      },
      "cell_type": "markdown",
      "source": [
        "### Adjust predictions"
      ]
    },
    {
      "metadata": {
        "id": "btYQ-5_PlTBN",
        "colab_type": "code",
        "colab": {}
      },
      "cell_type": "code",
      "source": [
        " ZERO_MASK_CUTOFF = 0."
      ],
      "execution_count": 0,
      "outputs": []
    },
    {
      "metadata": {
        "id": "jojQbvhtS8Zn",
        "colab_type": "code",
        "colab": {}
      },
      "cell_type": "code",
      "source": [
        "y_test_pred_adj = adjust_predictions(ZERO_MASK_CUTOFF, X_test, y_test_pred.gt(MASK_CUTOFF))"
      ],
      "execution_count": 0,
      "outputs": []
    },
    {
      "metadata": {
        "id": "M52jKbLA3KqM",
        "colab_type": "text"
      },
      "cell_type": "markdown",
      "source": [
        "### Encode predictions using RLE(Run Length Encoding) method"
      ]
    },
    {
      "metadata": {
        "id": "uW0shno43KqM",
        "colab_type": "code",
        "colab": {}
      },
      "cell_type": "code",
      "source": [
        "y_test_pred_rle = rle_encoder3d(y_test_pred_adj)"
      ],
      "execution_count": 0,
      "outputs": []
    },
    {
      "metadata": {
        "id": "sdPQnJqUS8Zr",
        "colab_type": "code",
        "colab": {
          "base_uri": "https://localhost:8080/",
          "height": 34
        },
        "outputId": "5519089d-3138-4fcc-ecc0-6687e7abe4d7"
      },
      "cell_type": "code",
      "source": [
        "y_test_pred_adj.shape"
      ],
      "execution_count": 69,
      "outputs": [
        {
          "output_type": "execute_result",
          "data": {
            "text/plain": [
              "(18000, 101, 101)"
            ]
          },
          "metadata": {
            "tags": []
          },
          "execution_count": 69
        }
      ]
    },
    {
      "metadata": {
        "id": "9GaCKooz3KqN",
        "colab_type": "code",
        "colab": {}
      },
      "cell_type": "code",
      "source": [
        "df_test_rle = pd.DataFrame(index=misc_data['np_test_ids'], data=y_test_pred_rle).reset_index()"
      ],
      "execution_count": 0,
      "outputs": []
    },
    {
      "metadata": {
        "id": "loaXDzkM3KqQ",
        "colab_type": "code",
        "colab": {}
      },
      "cell_type": "code",
      "source": [
        "df_test_rle.columns = ['id', 'rle_mask']"
      ],
      "execution_count": 0,
      "outputs": []
    },
    {
      "metadata": {
        "id": "j_iM1oRr3KqS",
        "colab_type": "code",
        "colab": {
          "base_uri": "https://localhost:8080/",
          "height": 34
        },
        "outputId": "8491a4a0-8a57-472f-f6e6-8d9fd3251213"
      },
      "cell_type": "code",
      "source": [
        "df_test_rle[df_test_rle.rle_mask==''].shape"
      ],
      "execution_count": 72,
      "outputs": [
        {
          "output_type": "execute_result",
          "data": {
            "text/plain": [
              "(7807, 2)"
            ]
          },
          "metadata": {
            "tags": []
          },
          "execution_count": 72
        }
      ]
    },
    {
      "metadata": {
        "id": "BJzlb6q7cCM-",
        "colab_type": "code",
        "colab": {
          "base_uri": "https://localhost:8080/",
          "height": 34
        },
        "outputId": "b660c7d4-df5f-40c3-add5-d5905187d26c"
      },
      "cell_type": "code",
      "source": [
        "df_test_rle.shape"
      ],
      "execution_count": 73,
      "outputs": [
        {
          "output_type": "execute_result",
          "data": {
            "text/plain": [
              "(18000, 2)"
            ]
          },
          "metadata": {
            "tags": []
          },
          "execution_count": 73
        }
      ]
    },
    {
      "metadata": {
        "id": "09CFLpNL3KqY",
        "colab_type": "code",
        "colab": {}
      },
      "cell_type": "code",
      "source": [
        "df_test_rle.to_csv(f'submission_{get_current_time_as_fname()}.csv', index=False)"
      ],
      "execution_count": 0,
      "outputs": []
    },
    {
      "metadata": {
        "id": "s-yT6TajkR6U",
        "colab_type": "code",
        "colab": {
          "base_uri": "https://localhost:8080/",
          "height": 470
        },
        "outputId": "7ceeb0de-9bf7-4ccc-c403-cfa3bcec9eef"
      },
      "cell_type": "code",
      "source": [
        "ls"
      ],
      "execution_count": 75,
      "outputs": [
        {
          "output_type": "stream",
          "text": [
            "\u001b[0m\u001b[01;34mlogs\u001b[0m/\r\n",
            "submission_2018_09_06_16_20_54.csv\r\n",
            "Unet_bce_loss_bilinear_2018_09_02_09_43_10.ckp-chunk-1-Of-5\r\n",
            "Unet_bce_loss_bilinear_2018_09_02_09_43_10.ckp-chunk-2-Of-5\r\n",
            "Unet_bce_loss_bilinear_2018_09_02_09_43_10.ckp-chunk-3-Of-5\r\n",
            "Unet_bce_loss_bilinear_2018_09_02_09_43_10.ckp-chunk-4-Of-5\r\n",
            "Unet_bce_loss_bilinear_2018_09_02_09_43_10.ckp-chunk-5-Of-5\r\n",
            "Unet_bce_loss_bilinear_data_augmentor_2018_09_03_11_59_40.ckp-chunk-1-Of-5\r\n",
            "Unet_bce_loss_bilinear_data_augmentor_2018_09_03_11_59_40.ckp-chunk-2-Of-5\r\n",
            "Unet_bce_loss_bilinear_data_augmentor_2018_09_03_11_59_40.ckp-chunk-3-Of-5\r\n",
            "Unet_bce_loss_bilinear_data_augmentor_2018_09_03_11_59_40.ckp-chunk-4-Of-5\r\n",
            "Unet_bce_loss_bilinear_data_augmentor_2018_09_03_11_59_40.ckp-chunk-5-Of-5\r\n",
            "Unet_bce_loss_bilinear_data_augmentor_2018_09_03_12_00_31.ckp-chunk-1-Of-5\r\n",
            "Unet_bce_loss_bilinear_data_augmentor_2018_09_03_12_00_31.ckp-chunk-2-Of-5\r\n",
            "Unet_bce_loss_bilinear_data_augmentor_2018_09_03_12_00_31.ckp-chunk-3-Of-5\r\n",
            "Unet_bce_loss_bilinear_data_augmentor_2018_09_03_12_00_31.ckp-chunk-4-Of-5\r\n",
            "Unet_bce_loss_bilinear_data_augmentor_2018_09_03_12_00_31.ckp-chunk-5-Of-5\r\n",
            "Unet_bce_loss_lovasz_loss_2018_09_05_23_54_40.ckp-chunk-1-Of-5\r\n",
            "Unet_bce_loss_lovasz_loss_2018_09_05_23_54_40.ckp-chunk-2-Of-5\r\n",
            "Unet_bce_loss_lovasz_loss_2018_09_05_23_54_40.ckp-chunk-3-Of-5\r\n",
            "Unet_bce_loss_lovasz_loss_2018_09_05_23_54_40.ckp-chunk-4-Of-5\r\n",
            "Unet_bce_loss_lovasz_loss_2018_09_05_23_54_40.ckp-chunk-5-Of-5\r\n",
            "Unet_bce_loss_lovasz_loss_finetune_2018_09_06_11_59_40.ckp-chunk-1-Of-5\r\n",
            "Unet_bce_loss_lovasz_loss_finetune_2018_09_06_11_59_40.ckp-chunk-2-Of-5\r\n",
            "Unet_bce_loss_lovasz_loss_finetune_2018_09_06_11_59_40.ckp-chunk-3-Of-5\r\n",
            "Unet_bce_loss_lovasz_loss_finetune_2018_09_06_11_59_40.ckp-chunk-4-Of-5\r\n",
            "Unet_bce_loss_lovasz_loss_finetune_2018_09_06_11_59_40.ckp-chunk-5-Of-5\r\n"
          ],
          "name": "stdout"
        }
      ]
    },
    {
      "metadata": {
        "id": "o_1B43JYGRQI",
        "colab_type": "code",
        "colab": {}
      },
      "cell_type": "code",
      "source": [
        "from google.colab import files\n"
      ],
      "execution_count": 0,
      "outputs": []
    },
    {
      "metadata": {
        "id": "yV3mMqgRkYBT",
        "colab_type": "code",
        "colab": {}
      },
      "cell_type": "code",
      "source": [
        "files.download('submission_2018_09_06_16_20_54.csv') "
      ],
      "execution_count": 0,
      "outputs": []
    },
    {
      "metadata": {
        "id": "x38qXbAkmFSH",
        "colab_type": "code",
        "colab": {}
      },
      "cell_type": "code",
      "source": [
        "y_pred_adj = adjust_predictions(0, X_val, y_val_pred.gt(MASK_CUTOFF))"
      ],
      "execution_count": 0,
      "outputs": []
    },
    {
      "metadata": {
        "id": "fy7HOq-0kP0D",
        "colab_type": "code",
        "colab": {}
      },
      "cell_type": "code",
      "source": [
        "df_test_rle = pd.DataFrame(depth_val, columns=['z'])"
      ],
      "execution_count": 0,
      "outputs": []
    },
    {
      "metadata": {
        "id": "M6KYSMvdkmu_",
        "colab_type": "code",
        "colab": {}
      },
      "cell_type": "code",
      "source": [
        "df_test_rle['num_salt_pix'] = y_pred_adj.sum((1,2))"
      ],
      "execution_count": 0,
      "outputs": []
    },
    {
      "metadata": {
        "id": "KWaNOUWNkofL",
        "colab_type": "code",
        "colab": {
          "base_uri": "https://localhost:8080/",
          "height": 225
        },
        "outputId": "8f7e7742-96c8-4cd5-eea0-40c09912e824"
      },
      "cell_type": "code",
      "source": [
        "df_test_rle.head()"
      ],
      "execution_count": 110,
      "outputs": [
        {
          "output_type": "execute_result",
          "data": {
            "text/html": [
              "<div>\n",
              "<style scoped>\n",
              "    .dataframe tbody tr th:only-of-type {\n",
              "        vertical-align: middle;\n",
              "    }\n",
              "\n",
              "    .dataframe tbody tr th {\n",
              "        vertical-align: top;\n",
              "    }\n",
              "\n",
              "    .dataframe thead th {\n",
              "        text-align: right;\n",
              "    }\n",
              "</style>\n",
              "<table border=\"1\" class=\"dataframe\">\n",
              "  <thead>\n",
              "    <tr style=\"text-align: right;\">\n",
              "      <th></th>\n",
              "      <th>z</th>\n",
              "      <th>num_salt_pix</th>\n",
              "    </tr>\n",
              "    <tr>\n",
              "      <th>id</th>\n",
              "      <th></th>\n",
              "      <th></th>\n",
              "    </tr>\n",
              "  </thead>\n",
              "  <tbody>\n",
              "    <tr>\n",
              "      <th>25db231ea0</th>\n",
              "      <td>581</td>\n",
              "      <td>3773</td>\n",
              "    </tr>\n",
              "    <tr>\n",
              "      <th>dfd3138198</th>\n",
              "      <td>373</td>\n",
              "      <td>0</td>\n",
              "    </tr>\n",
              "    <tr>\n",
              "      <th>2425501bf4</th>\n",
              "      <td>788</td>\n",
              "      <td>0</td>\n",
              "    </tr>\n",
              "    <tr>\n",
              "      <th>fbb8eba26d</th>\n",
              "      <td>743</td>\n",
              "      <td>0</td>\n",
              "    </tr>\n",
              "    <tr>\n",
              "      <th>bea9b0571b</th>\n",
              "      <td>366</td>\n",
              "      <td>9422</td>\n",
              "    </tr>\n",
              "  </tbody>\n",
              "</table>\n",
              "</div>"
            ],
            "text/plain": [
              "              z  num_salt_pix\n",
              "id                           \n",
              "25db231ea0  581          3773\n",
              "dfd3138198  373             0\n",
              "2425501bf4  788             0\n",
              "fbb8eba26d  743             0\n",
              "bea9b0571b  366          9422"
            ]
          },
          "metadata": {
            "tags": []
          },
          "execution_count": 110
        }
      ]
    },
    {
      "metadata": {
        "id": "-dcF3kqClBc9",
        "colab_type": "code",
        "colab": {}
      },
      "cell_type": "code",
      "source": [
        "exp_black_mask_pct = [0.822, 0.755, 0.707, 0.568, 0.464, 0.378, 0.289, 0.285, 0.317, 0.25, 0.354, 0.255, 0.339, 0.357, 0.385, 0.442, 0.65, 0.58, 0.778]"
      ],
      "execution_count": 0,
      "outputs": []
    },
    {
      "metadata": {
        "id": "cOODX0KHmJ2F",
        "colab_type": "code",
        "colab": {
          "base_uri": "https://localhost:8080/",
          "height": 610
        },
        "outputId": "2b0b59ee-4d95-4b1b-d6e6-9300d3a5b0f0"
      },
      "cell_type": "code",
      "source": [
        "df_test_z_grp"
      ],
      "execution_count": 119,
      "outputs": [
        {
          "output_type": "execute_result",
          "data": {
            "text/html": [
              "<div>\n",
              "<style scoped>\n",
              "    .dataframe tbody tr th:only-of-type {\n",
              "        vertical-align: middle;\n",
              "    }\n",
              "\n",
              "    .dataframe tbody tr th {\n",
              "        vertical-align: top;\n",
              "    }\n",
              "\n",
              "    .dataframe thead th {\n",
              "        text-align: right;\n",
              "    }\n",
              "</style>\n",
              "<table border=\"1\" class=\"dataframe\">\n",
              "  <thead>\n",
              "    <tr style=\"text-align: right;\">\n",
              "      <th></th>\n",
              "      <th>total</th>\n",
              "      <th>black_mask</th>\n",
              "      <th>black_mask_pct</th>\n",
              "    </tr>\n",
              "    <tr>\n",
              "      <th>z_bin</th>\n",
              "      <th></th>\n",
              "      <th></th>\n",
              "      <th></th>\n",
              "    </tr>\n",
              "  </thead>\n",
              "  <tbody>\n",
              "    <tr>\n",
              "      <th>50</th>\n",
              "      <td>16.0</td>\n",
              "      <td>15.0</td>\n",
              "      <td>0.937500</td>\n",
              "    </tr>\n",
              "    <tr>\n",
              "      <th>100</th>\n",
              "      <td>31.0</td>\n",
              "      <td>21.0</td>\n",
              "      <td>0.677419</td>\n",
              "    </tr>\n",
              "    <tr>\n",
              "      <th>150</th>\n",
              "      <td>28.0</td>\n",
              "      <td>24.0</td>\n",
              "      <td>0.857143</td>\n",
              "    </tr>\n",
              "    <tr>\n",
              "      <th>200</th>\n",
              "      <td>47.0</td>\n",
              "      <td>28.0</td>\n",
              "      <td>0.595745</td>\n",
              "    </tr>\n",
              "    <tr>\n",
              "      <th>250</th>\n",
              "      <td>34.0</td>\n",
              "      <td>17.0</td>\n",
              "      <td>0.500000</td>\n",
              "    </tr>\n",
              "    <tr>\n",
              "      <th>300</th>\n",
              "      <td>45.0</td>\n",
              "      <td>15.0</td>\n",
              "      <td>0.333333</td>\n",
              "    </tr>\n",
              "    <tr>\n",
              "      <th>350</th>\n",
              "      <td>55.0</td>\n",
              "      <td>21.0</td>\n",
              "      <td>0.381818</td>\n",
              "    </tr>\n",
              "    <tr>\n",
              "      <th>400</th>\n",
              "      <td>48.0</td>\n",
              "      <td>20.0</td>\n",
              "      <td>0.416667</td>\n",
              "    </tr>\n",
              "    <tr>\n",
              "      <th>450</th>\n",
              "      <td>75.0</td>\n",
              "      <td>26.0</td>\n",
              "      <td>0.346667</td>\n",
              "    </tr>\n",
              "    <tr>\n",
              "      <th>500</th>\n",
              "      <td>63.0</td>\n",
              "      <td>13.0</td>\n",
              "      <td>0.206349</td>\n",
              "    </tr>\n",
              "    <tr>\n",
              "      <th>550</th>\n",
              "      <td>65.0</td>\n",
              "      <td>28.0</td>\n",
              "      <td>0.430769</td>\n",
              "    </tr>\n",
              "    <tr>\n",
              "      <th>600</th>\n",
              "      <td>64.0</td>\n",
              "      <td>28.0</td>\n",
              "      <td>0.437500</td>\n",
              "    </tr>\n",
              "    <tr>\n",
              "      <th>650</th>\n",
              "      <td>68.0</td>\n",
              "      <td>22.0</td>\n",
              "      <td>0.323529</td>\n",
              "    </tr>\n",
              "    <tr>\n",
              "      <th>700</th>\n",
              "      <td>60.0</td>\n",
              "      <td>35.0</td>\n",
              "      <td>0.583333</td>\n",
              "    </tr>\n",
              "    <tr>\n",
              "      <th>750</th>\n",
              "      <td>43.0</td>\n",
              "      <td>18.0</td>\n",
              "      <td>0.418605</td>\n",
              "    </tr>\n",
              "    <tr>\n",
              "      <th>800</th>\n",
              "      <td>34.0</td>\n",
              "      <td>16.0</td>\n",
              "      <td>0.470588</td>\n",
              "    </tr>\n",
              "    <tr>\n",
              "      <th>850</th>\n",
              "      <td>12.0</td>\n",
              "      <td>9.0</td>\n",
              "      <td>0.750000</td>\n",
              "    </tr>\n",
              "    <tr>\n",
              "      <th>900</th>\n",
              "      <td>12.0</td>\n",
              "      <td>7.0</td>\n",
              "      <td>0.583333</td>\n",
              "    </tr>\n",
              "  </tbody>\n",
              "</table>\n",
              "</div>"
            ],
            "text/plain": [
              "       total  black_mask  black_mask_pct\n",
              "z_bin                                   \n",
              "50      16.0        15.0        0.937500\n",
              "100     31.0        21.0        0.677419\n",
              "150     28.0        24.0        0.857143\n",
              "200     47.0        28.0        0.595745\n",
              "250     34.0        17.0        0.500000\n",
              "300     45.0        15.0        0.333333\n",
              "350     55.0        21.0        0.381818\n",
              "400     48.0        20.0        0.416667\n",
              "450     75.0        26.0        0.346667\n",
              "500     63.0        13.0        0.206349\n",
              "550     65.0        28.0        0.430769\n",
              "600     64.0        28.0        0.437500\n",
              "650     68.0        22.0        0.323529\n",
              "700     60.0        35.0        0.583333\n",
              "750     43.0        18.0        0.418605\n",
              "800     34.0        16.0        0.470588\n",
              "850     12.0         9.0        0.750000\n",
              "900     12.0         7.0        0.583333"
            ]
          },
          "metadata": {
            "tags": []
          },
          "execution_count": 119
        }
      ]
    },
    {
      "metadata": {
        "id": "YEFwuoLTmVoX",
        "colab_type": "code",
        "colab": {
          "base_uri": "https://localhost:8080/",
          "height": 34
        },
        "outputId": "0c6f571c-d6d5-4fda-c0bd-f22c467427f1"
      },
      "cell_type": "code",
      "source": [
        "len(exp_black_mask_pct)"
      ],
      "execution_count": 118,
      "outputs": [
        {
          "output_type": "execute_result",
          "data": {
            "text/plain": [
              "19"
            ]
          },
          "metadata": {
            "tags": []
          },
          "execution_count": 118
        }
      ]
    },
    {
      "metadata": {
        "id": "9mJugcZTlaJB",
        "colab_type": "code",
        "colab": {}
      },
      "cell_type": "code",
      "source": [
        "df_test_rle['z_bin'] = df_test_rle.z.floordiv(50).mul(50)\n",
        "df_test_rle['black_mask'] = df_test_rle.num_salt_pix==0\n",
        "df_test_z_grp = (\n",
        "    df_test_rle.groupby('z_bin')\n",
        "    .apply(lambda x: pd.Series([len(x),\n",
        "                               x.black_mask.sum(),\n",
        "                               x.black_mask.sum()/len(x)],\n",
        "                               ['total','black_mask', 'black_mask_pct'])\n",
        "          )\n",
        "    #.sort_values('black_mask_pct', ascending=False)\n",
        ")\n",
        "df_test_z_grp['exp_black_mask_pct'] = exp_black_mask_pct[:-1]"
      ],
      "execution_count": 0,
      "outputs": []
    },
    {
      "metadata": {
        "id": "Prx2KESclogC",
        "colab_type": "code",
        "colab": {
          "base_uri": "https://localhost:8080/",
          "height": 225
        },
        "outputId": "cad2a665-bbaf-4253-d2a6-60d33bf1e625"
      },
      "cell_type": "code",
      "source": [
        "df_test_rle.head()"
      ],
      "execution_count": 121,
      "outputs": [
        {
          "output_type": "execute_result",
          "data": {
            "text/html": [
              "<div>\n",
              "<style scoped>\n",
              "    .dataframe tbody tr th:only-of-type {\n",
              "        vertical-align: middle;\n",
              "    }\n",
              "\n",
              "    .dataframe tbody tr th {\n",
              "        vertical-align: top;\n",
              "    }\n",
              "\n",
              "    .dataframe thead th {\n",
              "        text-align: right;\n",
              "    }\n",
              "</style>\n",
              "<table border=\"1\" class=\"dataframe\">\n",
              "  <thead>\n",
              "    <tr style=\"text-align: right;\">\n",
              "      <th></th>\n",
              "      <th>z</th>\n",
              "      <th>num_salt_pix</th>\n",
              "      <th>z_bin</th>\n",
              "      <th>black_mask</th>\n",
              "    </tr>\n",
              "    <tr>\n",
              "      <th>id</th>\n",
              "      <th></th>\n",
              "      <th></th>\n",
              "      <th></th>\n",
              "      <th></th>\n",
              "    </tr>\n",
              "  </thead>\n",
              "  <tbody>\n",
              "    <tr>\n",
              "      <th>25db231ea0</th>\n",
              "      <td>581</td>\n",
              "      <td>3773</td>\n",
              "      <td>550</td>\n",
              "      <td>False</td>\n",
              "    </tr>\n",
              "    <tr>\n",
              "      <th>dfd3138198</th>\n",
              "      <td>373</td>\n",
              "      <td>0</td>\n",
              "      <td>350</td>\n",
              "      <td>True</td>\n",
              "    </tr>\n",
              "    <tr>\n",
              "      <th>2425501bf4</th>\n",
              "      <td>788</td>\n",
              "      <td>0</td>\n",
              "      <td>750</td>\n",
              "      <td>True</td>\n",
              "    </tr>\n",
              "    <tr>\n",
              "      <th>fbb8eba26d</th>\n",
              "      <td>743</td>\n",
              "      <td>0</td>\n",
              "      <td>700</td>\n",
              "      <td>True</td>\n",
              "    </tr>\n",
              "    <tr>\n",
              "      <th>bea9b0571b</th>\n",
              "      <td>366</td>\n",
              "      <td>9422</td>\n",
              "      <td>350</td>\n",
              "      <td>False</td>\n",
              "    </tr>\n",
              "  </tbody>\n",
              "</table>\n",
              "</div>"
            ],
            "text/plain": [
              "              z  num_salt_pix  z_bin  black_mask\n",
              "id                                              \n",
              "25db231ea0  581          3773    550       False\n",
              "dfd3138198  373             0    350        True\n",
              "2425501bf4  788             0    750        True\n",
              "fbb8eba26d  743             0    700        True\n",
              "bea9b0571b  366          9422    350       False"
            ]
          },
          "metadata": {
            "tags": []
          },
          "execution_count": 121
        }
      ]
    },
    {
      "metadata": {
        "id": "SV_joet_ltO0",
        "colab_type": "code",
        "colab": {
          "base_uri": "https://localhost:8080/",
          "height": 610
        },
        "outputId": "ec4f27bf-86a3-4b68-a17e-4ef4b0c627f9"
      },
      "cell_type": "code",
      "source": [
        "df_test_z_grp"
      ],
      "execution_count": 122,
      "outputs": [
        {
          "output_type": "execute_result",
          "data": {
            "text/html": [
              "<div>\n",
              "<style scoped>\n",
              "    .dataframe tbody tr th:only-of-type {\n",
              "        vertical-align: middle;\n",
              "    }\n",
              "\n",
              "    .dataframe tbody tr th {\n",
              "        vertical-align: top;\n",
              "    }\n",
              "\n",
              "    .dataframe thead th {\n",
              "        text-align: right;\n",
              "    }\n",
              "</style>\n",
              "<table border=\"1\" class=\"dataframe\">\n",
              "  <thead>\n",
              "    <tr style=\"text-align: right;\">\n",
              "      <th></th>\n",
              "      <th>total</th>\n",
              "      <th>black_mask</th>\n",
              "      <th>black_mask_pct</th>\n",
              "      <th>exp_black_mask_pct</th>\n",
              "    </tr>\n",
              "    <tr>\n",
              "      <th>z_bin</th>\n",
              "      <th></th>\n",
              "      <th></th>\n",
              "      <th></th>\n",
              "      <th></th>\n",
              "    </tr>\n",
              "  </thead>\n",
              "  <tbody>\n",
              "    <tr>\n",
              "      <th>50</th>\n",
              "      <td>16.0</td>\n",
              "      <td>15.0</td>\n",
              "      <td>0.937500</td>\n",
              "      <td>0.822</td>\n",
              "    </tr>\n",
              "    <tr>\n",
              "      <th>100</th>\n",
              "      <td>31.0</td>\n",
              "      <td>21.0</td>\n",
              "      <td>0.677419</td>\n",
              "      <td>0.755</td>\n",
              "    </tr>\n",
              "    <tr>\n",
              "      <th>150</th>\n",
              "      <td>28.0</td>\n",
              "      <td>24.0</td>\n",
              "      <td>0.857143</td>\n",
              "      <td>0.707</td>\n",
              "    </tr>\n",
              "    <tr>\n",
              "      <th>200</th>\n",
              "      <td>47.0</td>\n",
              "      <td>28.0</td>\n",
              "      <td>0.595745</td>\n",
              "      <td>0.568</td>\n",
              "    </tr>\n",
              "    <tr>\n",
              "      <th>250</th>\n",
              "      <td>34.0</td>\n",
              "      <td>17.0</td>\n",
              "      <td>0.500000</td>\n",
              "      <td>0.464</td>\n",
              "    </tr>\n",
              "    <tr>\n",
              "      <th>300</th>\n",
              "      <td>45.0</td>\n",
              "      <td>15.0</td>\n",
              "      <td>0.333333</td>\n",
              "      <td>0.378</td>\n",
              "    </tr>\n",
              "    <tr>\n",
              "      <th>350</th>\n",
              "      <td>55.0</td>\n",
              "      <td>21.0</td>\n",
              "      <td>0.381818</td>\n",
              "      <td>0.289</td>\n",
              "    </tr>\n",
              "    <tr>\n",
              "      <th>400</th>\n",
              "      <td>48.0</td>\n",
              "      <td>20.0</td>\n",
              "      <td>0.416667</td>\n",
              "      <td>0.285</td>\n",
              "    </tr>\n",
              "    <tr>\n",
              "      <th>450</th>\n",
              "      <td>75.0</td>\n",
              "      <td>26.0</td>\n",
              "      <td>0.346667</td>\n",
              "      <td>0.317</td>\n",
              "    </tr>\n",
              "    <tr>\n",
              "      <th>500</th>\n",
              "      <td>63.0</td>\n",
              "      <td>13.0</td>\n",
              "      <td>0.206349</td>\n",
              "      <td>0.250</td>\n",
              "    </tr>\n",
              "    <tr>\n",
              "      <th>550</th>\n",
              "      <td>65.0</td>\n",
              "      <td>28.0</td>\n",
              "      <td>0.430769</td>\n",
              "      <td>0.354</td>\n",
              "    </tr>\n",
              "    <tr>\n",
              "      <th>600</th>\n",
              "      <td>64.0</td>\n",
              "      <td>28.0</td>\n",
              "      <td>0.437500</td>\n",
              "      <td>0.255</td>\n",
              "    </tr>\n",
              "    <tr>\n",
              "      <th>650</th>\n",
              "      <td>68.0</td>\n",
              "      <td>22.0</td>\n",
              "      <td>0.323529</td>\n",
              "      <td>0.339</td>\n",
              "    </tr>\n",
              "    <tr>\n",
              "      <th>700</th>\n",
              "      <td>60.0</td>\n",
              "      <td>35.0</td>\n",
              "      <td>0.583333</td>\n",
              "      <td>0.357</td>\n",
              "    </tr>\n",
              "    <tr>\n",
              "      <th>750</th>\n",
              "      <td>43.0</td>\n",
              "      <td>18.0</td>\n",
              "      <td>0.418605</td>\n",
              "      <td>0.385</td>\n",
              "    </tr>\n",
              "    <tr>\n",
              "      <th>800</th>\n",
              "      <td>34.0</td>\n",
              "      <td>16.0</td>\n",
              "      <td>0.470588</td>\n",
              "      <td>0.442</td>\n",
              "    </tr>\n",
              "    <tr>\n",
              "      <th>850</th>\n",
              "      <td>12.0</td>\n",
              "      <td>9.0</td>\n",
              "      <td>0.750000</td>\n",
              "      <td>0.650</td>\n",
              "    </tr>\n",
              "    <tr>\n",
              "      <th>900</th>\n",
              "      <td>12.0</td>\n",
              "      <td>7.0</td>\n",
              "      <td>0.583333</td>\n",
              "      <td>0.580</td>\n",
              "    </tr>\n",
              "  </tbody>\n",
              "</table>\n",
              "</div>"
            ],
            "text/plain": [
              "       total  black_mask  black_mask_pct  exp_black_mask_pct\n",
              "z_bin                                                       \n",
              "50      16.0        15.0        0.937500               0.822\n",
              "100     31.0        21.0        0.677419               0.755\n",
              "150     28.0        24.0        0.857143               0.707\n",
              "200     47.0        28.0        0.595745               0.568\n",
              "250     34.0        17.0        0.500000               0.464\n",
              "300     45.0        15.0        0.333333               0.378\n",
              "350     55.0        21.0        0.381818               0.289\n",
              "400     48.0        20.0        0.416667               0.285\n",
              "450     75.0        26.0        0.346667               0.317\n",
              "500     63.0        13.0        0.206349               0.250\n",
              "550     65.0        28.0        0.430769               0.354\n",
              "600     64.0        28.0        0.437500               0.255\n",
              "650     68.0        22.0        0.323529               0.339\n",
              "700     60.0        35.0        0.583333               0.357\n",
              "750     43.0        18.0        0.418605               0.385\n",
              "800     34.0        16.0        0.470588               0.442\n",
              "850     12.0         9.0        0.750000               0.650\n",
              "900     12.0         7.0        0.583333               0.580"
            ]
          },
          "metadata": {
            "tags": []
          },
          "execution_count": 122
        }
      ]
    },
    {
      "metadata": {
        "id": "6rYGzWVSlws7",
        "colab_type": "code",
        "colab": {}
      },
      "cell_type": "code",
      "source": [
        ""
      ],
      "execution_count": 0,
      "outputs": []
    },
    {
      "metadata": {
        "id": "viOe7a56lxAo",
        "colab_type": "code",
        "colab": {}
      },
      "cell_type": "code",
      "source": [
        ""
      ],
      "execution_count": 0,
      "outputs": []
    }
  ]
}