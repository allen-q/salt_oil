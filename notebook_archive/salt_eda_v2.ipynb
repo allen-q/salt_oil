{
 "cells": [
  {
   "cell_type": "code",
   "execution_count": 259,
   "metadata": {},
   "outputs": [],
   "source": [
    "import zipfile\n",
    "import torch\n",
    "import torch.nn as nn\n",
    "import torch.nn.functional as F\n",
    "from torch.utils import data\n",
    "from torch.utils.data import Dataset, DataLoader\n",
    "from torchvision import transforms, utils\n",
    "from skimage import io, transform\n",
    "from sklearn.model_selection import train_test_split\n",
    "import numpy as np\n",
    "import pandas as pd\n",
    "import matplotlib.pyplot as ply\n",
    "import os\n",
    "import imageio\n",
    "from PIL import Image\n",
    "import glob\n",
    "\n",
    "% matplotlib inline"
   ]
  },
  {
   "cell_type": "code",
   "execution_count": 2,
   "metadata": {},
   "outputs": [],
   "source": [
    "#https://www.kaggle.com/skainkaryam/basic-data-visualization-using-pytorch-dataset\n",
    "class TGSSaltDataset(data.Dataset):\n",
    "    \n",
    "    def __init__(self, root_path, file_list):\n",
    "        self.root_path = root_path\n",
    "        self.file_list = file_list\n",
    "    \n",
    "    def __len__(self):\n",
    "        return len(self.file_list)\n",
    "    \n",
    "    def __getitem__(self, index):\n",
    "        if index not in range(0, len(self.file_list)):\n",
    "            return self.__getitem__(np.random.randint(0, self.__len__()))\n",
    "        \n",
    "        file_id = self.file_list[index]\n",
    "        \n",
    "        image_folder = os.path.join(self.root_path, \"images\")\n",
    "        image_path = os.path.join(image_folder, file_id + \".png\")\n",
    "        \n",
    "        mask_folder = os.path.join(self.root_path, \"masks\")\n",
    "        mask_path = os.path.join(mask_folder, file_id + \".png\")\n",
    "        \n",
    "        image = np.array(imageio.imread(image_path), dtype=np.uint8)\n",
    "        mask = np.array(imageio.imread(mask_path), dtype=np.uint8)\n",
    "        \n",
    "        return image, mask"
   ]
  },
  {
   "cell_type": "code",
   "execution_count": 3,
   "metadata": {},
   "outputs": [],
   "source": [
    "df_depth = pd.read_csv('./data/train.csv')"
   ]
  },
  {
   "cell_type": "code",
   "execution_count": 4,
   "metadata": {},
   "outputs": [],
   "source": [
    "train_path = \"./data/train/\"\n",
    "train_file_list = list(df_depth['id'].values)"
   ]
  },
  {
   "cell_type": "code",
   "execution_count": 5,
   "metadata": {},
   "outputs": [
    {
     "data": {
      "text/plain": [
       "4000"
      ]
     },
     "execution_count": 5,
     "metadata": {},
     "output_type": "execute_result"
    }
   ],
   "source": [
    "len(train_file_list)"
   ]
  },
  {
   "cell_type": "code",
   "execution_count": 42,
   "metadata": {},
   "outputs": [],
   "source": [
    "train_data = TGSSaltDataset(train_path, train_file_list)"
   ]
  },
  {
   "cell_type": "code",
   "execution_count": 61,
   "metadata": {},
   "outputs": [
    {
     "data": {
      "text/plain": [
       "'./data/train/'"
      ]
     },
     "execution_count": 61,
     "metadata": {},
     "output_type": "execute_result"
    }
   ],
   "source": [
    "train_path"
   ]
  },
  {
   "cell_type": "code",
   "execution_count": null,
   "metadata": {},
   "outputs": [],
   "source": [
    "image_path"
   ]
  },
  {
   "cell_type": "code",
   "execution_count": 65,
   "metadata": {},
   "outputs": [],
   "source": [
    "img = np.array(imageio.imread('./data/train/images/000e218f21.png'), dtype=np.uint8)"
   ]
  },
  {
   "cell_type": "code",
   "execution_count": 71,
   "metadata": {},
   "outputs": [
    {
     "data": {
      "text/plain": [
       "array([131, 131, 131], dtype=uint8)"
      ]
     },
     "execution_count": 71,
     "metadata": {},
     "output_type": "execute_result"
    }
   ],
   "source": [
    "img[0][0]"
   ]
  },
  {
   "cell_type": "code",
   "execution_count": 75,
   "metadata": {},
   "outputs": [
    {
     "data": {
      "text/plain": [
       "120.991"
      ]
     },
     "execution_count": 75,
     "metadata": {},
     "output_type": "execute_result"
    }
   ],
   "source": [
    "mean_img[0][1]"
   ]
  },
  {
   "cell_type": "code",
   "execution_count": 88,
   "metadata": {},
   "outputs": [],
   "source": []
  },
  {
   "cell_type": "code",
   "execution_count": 96,
   "metadata": {},
   "outputs": [],
   "source": [
    "def load_img_to_df(img_path, normalize=False, mean_img=None):\n",
    "    images = []\n",
    "    for filename in glob.glob(f'{img_path}/*.png'): #assuming gif\n",
    "        img_id = filename.split('\\\\')[-1].split('.')[0]\n",
    "        img = np.array(imageio.imread(filename), dtype=np.float)\n",
    "        if normalize:\n",
    "            img -= mean_img[:,:,None]\n",
    "        images.append([img_id, img])\n",
    "    return pd.DataFrame(images, columns=['img_id', 'img']).set_index('img_id')"
   ]
  },
  {
   "cell_type": "code",
   "execution_count": 97,
   "metadata": {},
   "outputs": [],
   "source": [
    "def load_img_to_np(img_path):\n",
    "    images = []\n",
    "    for filename in glob.glob(f'{img_path}/*.png'): #assuming gif\n",
    "        img_id = filename.split('\\\\')[-1].split('.')[0]\n",
    "        images.append(np.array(imageio.imread(filename), dtype=np.uint8))\n",
    "    return np.r_[images]"
   ]
  },
  {
   "cell_type": "code",
   "execution_count": 98,
   "metadata": {},
   "outputs": [],
   "source": [
    "np_train = load_img_to_np('./data/train/images')"
   ]
  },
  {
   "cell_type": "code",
   "execution_count": 99,
   "metadata": {},
   "outputs": [],
   "source": [
    "mean_img = np_train[:,:,:,0].reshape(np_train.shape[0], -1).mean(0).reshape(101,101)"
   ]
  },
  {
   "cell_type": "code",
   "execution_count": null,
   "metadata": {},
   "outputs": [],
   "source": []
  },
  {
   "cell_type": "code",
   "execution_count": 100,
   "metadata": {},
   "outputs": [],
   "source": [
    "df_train = load_img_to_df('./data/train/images', normalize=True, mean_img=mean_img)"
   ]
  },
  {
   "cell_type": "code",
   "execution_count": 101,
   "metadata": {},
   "outputs": [],
   "source": [
    "df_train['mask'] = load_img('./data/train/masks/')['img']"
   ]
  },
  {
   "cell_type": "code",
   "execution_count": null,
   "metadata": {},
   "outputs": [],
   "source": [
    "df_test = load_img_to_df('./data/test/images', normalize=True, mean_img=mean_img)"
   ]
  },
  {
   "cell_type": "code",
   "execution_count": 108,
   "metadata": {},
   "outputs": [],
   "source": [
    "np_test = np.r_[df_test.img.tolist()]"
   ]
  },
  {
   "cell_type": "code",
   "execution_count": 578,
   "metadata": {},
   "outputs": [
    {
     "data": {
      "text/plain": [
       "-0.6330799240815169"
      ]
     },
     "execution_count": 578,
     "metadata": {},
     "output_type": "execute_result"
    }
   ],
   "source": [
    "np_test[:,:,:,1].mean()"
   ]
  },
  {
   "cell_type": "code",
   "execution_count": 579,
   "metadata": {},
   "outputs": [
    {
     "data": {
      "text/plain": [
       "(18000, 101, 101, 3)"
      ]
     },
     "execution_count": 579,
     "metadata": {},
     "output_type": "execute_result"
    }
   ],
   "source": [
    "np_test.shape"
   ]
  },
  {
   "cell_type": "code",
   "execution_count": 115,
   "metadata": {},
   "outputs": [],
   "source": [
    "np_train = np.r_[df_train.img.tolist()]"
   ]
  },
  {
   "cell_type": "code",
   "execution_count": 133,
   "metadata": {},
   "outputs": [],
   "source": []
  },
  {
   "cell_type": "code",
   "execution_count": 508,
   "metadata": {},
   "outputs": [],
   "source": [
    "X_train, X_val, y_train, y_val = (\n",
    "    train_test_split(df_train, df_train['mask'], \n",
    "                     test_size=0.20, \n",
    "                     random_state=42)\n",
    ")"
   ]
  },
  {
   "cell_type": "code",
   "execution_count": 510,
   "metadata": {},
   "outputs": [],
   "source": [
    "X_train = np.r_[X_train.img.tolist()]"
   ]
  },
  {
   "cell_type": "code",
   "execution_count": 511,
   "metadata": {},
   "outputs": [],
   "source": [
    "X_val = np.r_[X_val.img.tolist()]"
   ]
  },
  {
   "cell_type": "code",
   "execution_count": 512,
   "metadata": {},
   "outputs": [],
   "source": [
    "y_train = np.r_[y_train.tolist()]"
   ]
  },
  {
   "cell_type": "code",
   "execution_count": 513,
   "metadata": {},
   "outputs": [],
   "source": [
    "y_val = np.r_[y_val.tolist()]"
   ]
  },
  {
   "cell_type": "code",
   "execution_count": 502,
   "metadata": {},
   "outputs": [],
   "source": [
    "def format_train_data(X):\n",
    "    X = np.moveaxis(X, -1,1)\n",
    "    X = np.pad(X, [(0,0),(0,0),(0, 1), (0, 1)], mode='constant')\n",
    "    return torch.from_numpy(X).float()"
   ]
  },
  {
   "cell_type": "code",
   "execution_count": 419,
   "metadata": {},
   "outputs": [],
   "source": [
    "def get_train_batch(X_train, y_train, batch_size):\n",
    "    batch_ids = np.random.choice(len(X_train), batch_size, replace=False)\n",
    "    X_train_batch = X_train[batch_ids]\n",
    "    X_train_batch = np.moveaxis(X_train_batch, -1,1)\n",
    "    X_train_batch = np.pad(X_train_batch, [(0,0),(0,0),(0, 1), (0, 1)], mode='constant')\n",
    "    y_train_batch = np.clip(y_train[batch_ids],0,1)\n",
    "    \n",
    "    return (torch.from_numpy(X_train_batch).float(), torch.from_numpy(y_train_batch).float())"
   ]
  },
  {
   "cell_type": "code",
   "execution_count": 435,
   "metadata": {},
   "outputs": [],
   "source": [
    "class SaltNet(nn.Module):\n",
    "    def __init__(self):\n",
    "        super().__init__()\n",
    "        self.seq = nn.Sequential(\n",
    "            nn.Conv2d(3,64,3, padding=10),\n",
    "            nn.MaxPool2d(2, 2),\n",
    "            nn.ReLU(),\n",
    "            nn.BatchNorm2d(64),\n",
    "            nn.Conv2d(64,128,3),\n",
    "            nn.MaxPool2d(2, 2),\n",
    "            nn.ReLU(),\n",
    "            nn.BatchNorm2d(128),\n",
    "            nn.Conv2d(128,256,3),\n",
    "            nn.MaxPool2d(2, 2),\n",
    "            nn.ReLU(),\n",
    "            nn.BatchNorm2d(256),\n",
    "            nn.ConvTranspose2d(256, 128, 2, stride=2),\n",
    "            nn.ReLU(),\n",
    "            nn.BatchNorm2d(128),\n",
    "            nn.ConvTranspose2d(128, 64, 2, stride=2),\n",
    "            nn.ReLU(),\n",
    "            nn.BatchNorm2d(64),\n",
    "            nn.ConvTranspose2d(64, 1, 2, stride=2, padding=1),\n",
    "            nn.Sigmoid()\n",
    "        )\n",
    "        \n",
    "    def forward(self, X):\n",
    "        out = self.seq(X)\n",
    "        return out[:,:,:-1,:-1].squeeze()"
   ]
  },
  {
   "cell_type": "code",
   "execution_count": 487,
   "metadata": {},
   "outputs": [],
   "source": [
    "saltnet = SaltNet()"
   ]
  },
  {
   "cell_type": "code",
   "execution_count": 488,
   "metadata": {},
   "outputs": [],
   "source": [
    "loss_fn = nn.BCELoss()\n",
    "optimizer = torch.optim.Adam(saltnet.parameters(), lr=0.001)"
   ]
  },
  {
   "cell_type": "code",
   "execution_count": 489,
   "metadata": {},
   "outputs": [],
   "source": [
    "import time\n",
    "import math"
   ]
  },
  {
   "cell_type": "code",
   "execution_count": 490,
   "metadata": {},
   "outputs": [],
   "source": [
    "def timeSince(since):\n",
    "    now = time.time()\n",
    "    s = now - since\n",
    "    m = math.floor(s / 60)\n",
    "    s -= m * 60\n",
    "    return '%dm %ds' % (m, s)"
   ]
  },
  {
   "cell_type": "code",
   "execution_count": 491,
   "metadata": {},
   "outputs": [],
   "source": [
    "start = time.time()"
   ]
  },
  {
   "cell_type": "code",
   "execution_count": 492,
   "metadata": {},
   "outputs": [
    {
     "name": "stdout",
     "output_type": "stream",
     "text": [
      "Loss is 0.7075795531272888 at iter 0, Time: 0m 7s\n",
      "Loss is 0.6087774634361267 at iter 10, Time: 1m 32s\n",
      "Loss is 0.5375742316246033 at iter 20, Time: 2m 39s\n",
      "Loss is 0.5098478198051453 at iter 30, Time: 3m 46s\n",
      "Loss is 0.4907909035682678 at iter 40, Time: 4m 55s\n",
      "Loss is 0.5025970935821533 at iter 50, Time: 6m 5s\n",
      "Loss is 0.5129656791687012 at iter 60, Time: 7m 17s\n",
      "Loss is 0.3500281870365143 at iter 70, Time: 8m 35s\n",
      "Loss is 0.46371912956237793 at iter 80, Time: 9m 55s\n",
      "Loss is 0.38141101598739624 at iter 90, Time: 11m 10s\n",
      "Loss is 0.45511162281036377 at iter 100, Time: 12m 23s\n",
      "Loss is 0.4406242072582245 at iter 110, Time: 13m 34s\n",
      "Loss is 0.27835792303085327 at iter 120, Time: 14m 45s\n",
      "Loss is 0.2957882881164551 at iter 130, Time: 15m 56s\n",
      "Loss is 0.39439597725868225 at iter 140, Time: 18m 58s\n",
      "Loss is 0.3745402991771698 at iter 150, Time: 22m 18s\n",
      "Loss is 0.28691571950912476 at iter 160, Time: 25m 34s\n",
      "Loss is 0.29820430278778076 at iter 170, Time: 28m 50s\n",
      "Loss is 0.3296818435192108 at iter 180, Time: 32m 16s\n",
      "Loss is 0.27824831008911133 at iter 190, Time: 35m 32s\n",
      "Loss is 0.2603125274181366 at iter 200, Time: 38m 45s\n",
      "Loss is 0.27977055311203003 at iter 210, Time: 41m 59s\n",
      "Loss is 0.3324073851108551 at iter 220, Time: 45m 15s\n",
      "Loss is 0.2858087122440338 at iter 230, Time: 48m 28s\n",
      "Loss is 0.3201797604560852 at iter 240, Time: 51m 43s\n",
      "Loss is 0.31153836846351624 at iter 250, Time: 54m 57s\n",
      "Loss is 0.24740886688232422 at iter 260, Time: 58m 13s\n",
      "Loss is 0.22284787893295288 at iter 270, Time: 61m 28s\n",
      "Loss is 0.27692553400993347 at iter 280, Time: 64m 41s\n",
      "Loss is 0.3435508906841278 at iter 290, Time: 67m 57s\n",
      "Loss is 0.25942978262901306 at iter 300, Time: 71m 11s\n",
      "Loss is 0.3290117084980011 at iter 310, Time: 74m 29s\n",
      "Loss is 0.2825820744037628 at iter 320, Time: 77m 42s\n",
      "Loss is 0.3007485568523407 at iter 330, Time: 80m 57s\n",
      "Loss is 0.3535028100013733 at iter 340, Time: 84m 10s\n",
      "Loss is 0.340650737285614 at iter 350, Time: 87m 32s\n",
      "Loss is 0.24278855323791504 at iter 360, Time: 90m 46s\n",
      "Loss is 0.22545650601387024 at iter 370, Time: 94m 1s\n",
      "Loss is 0.30819573998451233 at iter 380, Time: 97m 15s\n",
      "Loss is 0.2453041523694992 at iter 390, Time: 100m 28s\n",
      "Loss is 0.24877621233463287 at iter 400, Time: 103m 44s\n",
      "Loss is 0.21459084749221802 at iter 410, Time: 106m 58s\n",
      "Loss is 0.30773380398750305 at iter 420, Time: 110m 12s\n",
      "Loss is 0.30611515045166016 at iter 430, Time: 113m 26s\n",
      "Loss is 0.2492685168981552 at iter 440, Time: 116m 43s\n",
      "Loss is 0.24270199239253998 at iter 450, Time: 119m 57s\n",
      "Loss is 0.2164517343044281 at iter 460, Time: 123m 11s\n",
      "Loss is 0.2042236030101776 at iter 470, Time: 126m 26s\n",
      "Loss is 0.3218551576137543 at iter 480, Time: 129m 40s\n",
      "Loss is 0.2564750015735626 at iter 490, Time: 132m 56s\n",
      "Loss is 0.270061194896698 at iter 500, Time: 136m 11s\n",
      "Loss is 0.31020718812942505 at iter 510, Time: 139m 26s\n",
      "Loss is 0.23546333611011505 at iter 520, Time: 142m 39s\n",
      "Loss is 0.4608692526817322 at iter 530, Time: 145m 53s\n",
      "Loss is 0.3009400963783264 at iter 540, Time: 149m 10s\n",
      "Loss is 0.21015039086341858 at iter 550, Time: 152m 24s\n",
      "Loss is 0.20521052181720734 at iter 560, Time: 155m 39s\n",
      "Loss is 0.244260773062706 at iter 570, Time: 158m 55s\n",
      "Loss is 0.20327793061733246 at iter 580, Time: 162m 10s\n",
      "Loss is 0.23906773328781128 at iter 590, Time: 165m 24s\n",
      "Loss is 0.26356378197669983 at iter 600, Time: 168m 37s\n",
      "Loss is 0.24150432646274567 at iter 610, Time: 171m 52s\n",
      "Loss is 0.260710209608078 at iter 620, Time: 175m 6s\n",
      "Loss is 0.3003634810447693 at iter 630, Time: 178m 21s\n",
      "Loss is 0.23167933523654938 at iter 640, Time: 181m 39s\n",
      "Loss is 0.23247332870960236 at iter 650, Time: 184m 52s\n",
      "Loss is 0.24050508439540863 at iter 660, Time: 188m 6s\n",
      "Loss is 0.2289614975452423 at iter 670, Time: 191m 24s\n",
      "Loss is 0.27074870467185974 at iter 680, Time: 194m 41s\n",
      "Loss is 0.23838075995445251 at iter 690, Time: 197m 54s\n",
      "Loss is 0.24753274023532867 at iter 700, Time: 201m 9s\n",
      "Loss is 0.22762663662433624 at iter 710, Time: 204m 23s\n",
      "Loss is 0.20732557773590088 at iter 720, Time: 207m 38s\n",
      "Loss is 0.27063462138175964 at iter 730, Time: 210m 57s\n",
      "Loss is 0.2177594155073166 at iter 740, Time: 214m 12s\n",
      "Loss is 0.27016666531562805 at iter 750, Time: 217m 31s\n",
      "Loss is 0.2566155195236206 at iter 760, Time: 220m 46s\n",
      "Loss is 0.2271195650100708 at iter 770, Time: 224m 2s\n",
      "Loss is 0.21571321785449982 at iter 780, Time: 227m 16s\n",
      "Loss is 0.20604942739009857 at iter 790, Time: 230m 31s\n",
      "Loss is 0.23480598628520966 at iter 800, Time: 233m 44s\n",
      "Loss is 0.19598710536956787 at iter 810, Time: 237m 28s\n",
      "Loss is 0.17792755365371704 at iter 820, Time: 240m 43s\n",
      "Loss is 0.20512457191944122 at iter 830, Time: 243m 57s\n",
      "Loss is 0.21199658513069153 at iter 840, Time: 247m 11s\n",
      "Loss is 0.2500089704990387 at iter 850, Time: 250m 27s\n",
      "Loss is 0.17285814881324768 at iter 860, Time: 253m 42s\n",
      "Loss is 0.27316340804100037 at iter 870, Time: 256m 57s\n",
      "Loss is 0.25523409247398376 at iter 880, Time: 260m 11s\n",
      "Loss is 0.23415955901145935 at iter 890, Time: 263m 25s\n",
      "Loss is 0.30025357007980347 at iter 900, Time: 266m 42s\n",
      "Loss is 0.22181464731693268 at iter 910, Time: 269m 57s\n",
      "Loss is 0.22266149520874023 at iter 920, Time: 273m 11s\n",
      "Loss is 0.2214997112751007 at iter 930, Time: 276m 26s\n",
      "Loss is 0.21480222046375275 at iter 940, Time: 279m 41s\n",
      "Loss is 0.3071956932544708 at iter 950, Time: 282m 57s\n",
      "Loss is 0.20551636815071106 at iter 960, Time: 286m 12s\n",
      "Loss is 0.18820741772651672 at iter 970, Time: 289m 25s\n",
      "Loss is 0.2853955328464508 at iter 980, Time: 292m 40s\n",
      "Loss is 0.23627012968063354 at iter 990, Time: 295m 58s\n",
      "Loss is 0.22301021218299866 at iter 1000, Time: 299m 13s\n",
      "Loss is 0.22947579622268677 at iter 1010, Time: 302m 27s\n",
      "Loss is 0.18582546710968018 at iter 1020, Time: 305m 42s\n",
      "Loss is 0.2408774495124817 at iter 1030, Time: 308m 58s\n",
      "Loss is 0.2603258788585663 at iter 1040, Time: 312m 15s\n",
      "Loss is 0.22030265629291534 at iter 1050, Time: 315m 29s\n",
      "Loss is 0.2050960510969162 at iter 1060, Time: 318m 43s\n",
      "Loss is 0.2080523818731308 at iter 1070, Time: 321m 59s\n",
      "Loss is 0.2691567540168762 at iter 1080, Time: 325m 15s\n",
      "Loss is 0.23341213166713715 at iter 1090, Time: 328m 30s\n",
      "Loss is 0.30262497067451477 at iter 1100, Time: 331m 45s\n",
      "Loss is 0.170537531375885 at iter 1110, Time: 335m 0s\n",
      "Loss is 0.23242579400539398 at iter 1120, Time: 338m 15s\n",
      "Loss is 0.2637806236743927 at iter 1130, Time: 341m 29s\n",
      "Loss is 0.15778464078903198 at iter 1140, Time: 344m 46s\n",
      "Loss is 0.17835400998592377 at iter 1150, Time: 348m 1s\n",
      "Loss is 0.23307891190052032 at iter 1160, Time: 351m 15s\n",
      "Loss is 0.3060700297355652 at iter 1170, Time: 354m 30s\n",
      "Loss is 0.1660643219947815 at iter 1180, Time: 357m 46s\n",
      "Loss is 0.29441288113594055 at iter 1190, Time: 361m 2s\n",
      "Loss is 0.2744334042072296 at iter 1200, Time: 364m 16s\n",
      "Loss is 0.18648117780685425 at iter 1210, Time: 367m 31s\n",
      "Loss is 0.22248266637325287 at iter 1220, Time: 370m 45s\n",
      "Loss is 0.23529668152332306 at iter 1230, Time: 374m 3s\n",
      "Loss is 0.1805315911769867 at iter 1240, Time: 377m 17s\n",
      "Loss is 0.34066081047058105 at iter 1250, Time: 380m 31s\n",
      "Loss is 0.20836760103702545 at iter 1260, Time: 383m 46s\n",
      "Loss is 0.31031301617622375 at iter 1270, Time: 387m 3s\n",
      "Loss is 0.18536348640918732 at iter 1280, Time: 390m 18s\n",
      "Loss is 0.18456508219242096 at iter 1290, Time: 393m 33s\n",
      "Loss is 0.19192413985729218 at iter 1300, Time: 396m 46s\n",
      "Loss is 0.35395973920822144 at iter 1310, Time: 400m 1s\n",
      "Loss is 0.2230556607246399 at iter 1320, Time: 403m 17s\n",
      "Loss is 0.2359677106142044 at iter 1330, Time: 406m 36s\n",
      "Loss is 0.18881580233573914 at iter 1340, Time: 409m 50s\n",
      "Loss is 0.16304560005664825 at iter 1350, Time: 413m 18s\n",
      "Loss is 0.2261265069246292 at iter 1360, Time: 416m 35s\n",
      "Loss is 0.20397014915943146 at iter 1370, Time: 419m 49s\n",
      "Loss is 0.21985046565532684 at iter 1380, Time: 423m 3s\n",
      "Loss is 0.13963282108306885 at iter 1390, Time: 426m 19s\n",
      "Loss is 0.24618121981620789 at iter 1400, Time: 429m 34s\n",
      "Loss is 0.19351314008235931 at iter 1410, Time: 432m 53s\n",
      "Loss is 0.19751930236816406 at iter 1420, Time: 436m 7s\n",
      "Loss is 0.2165895700454712 at iter 1430, Time: 439m 21s\n",
      "Loss is 0.19244782626628876 at iter 1440, Time: 442m 35s\n",
      "Loss is 0.17091093957424164 at iter 1450, Time: 445m 52s\n",
      "Loss is 0.18808463215827942 at iter 1460, Time: 449m 7s\n",
      "Loss is 0.22264492511749268 at iter 1470, Time: 452m 21s\n",
      "Loss is 0.1838776022195816 at iter 1480, Time: 455m 41s\n",
      "Loss is 0.18927675485610962 at iter 1490, Time: 458m 56s\n",
      "Loss is 0.1925278753042221 at iter 1500, Time: 462m 11s\n",
      "Loss is 0.26868897676467896 at iter 1510, Time: 465m 25s\n",
      "Loss is 0.19351986050605774 at iter 1520, Time: 468m 39s\n",
      "Loss is 0.3357360064983368 at iter 1530, Time: 471m 54s\n",
      "Loss is 0.211028590798378 at iter 1540, Time: 475m 9s\n",
      "Loss is 0.18812301754951477 at iter 1550, Time: 478m 28s\n",
      "Loss is 0.26288700103759766 at iter 1560, Time: 481m 40s\n",
      "Loss is 0.26646262407302856 at iter 1570, Time: 482m 50s\n",
      "Loss is 0.1603756695985794 at iter 1580, Time: 483m 54s\n",
      "Loss is 0.18225622177124023 at iter 1590, Time: 484m 58s\n",
      "Loss is 0.17573319375514984 at iter 1600, Time: 486m 2s\n",
      "Loss is 0.19377925992012024 at iter 1610, Time: 487m 7s\n",
      "Loss is 0.1827455312013626 at iter 1620, Time: 488m 14s\n",
      "Loss is 0.1862926334142685 at iter 1630, Time: 489m 20s\n",
      "Loss is 0.2464035600423813 at iter 1640, Time: 490m 26s\n",
      "Loss is 0.18076297640800476 at iter 1650, Time: 491m 33s\n",
      "Loss is 0.3166121542453766 at iter 1660, Time: 492m 41s\n",
      "Loss is 0.18718570470809937 at iter 1670, Time: 493m 48s\n",
      "Loss is 0.19273477792739868 at iter 1680, Time: 494m 55s\n",
      "Loss is 0.26363539695739746 at iter 1690, Time: 496m 1s\n",
      "Loss is 0.219482883810997 at iter 1700, Time: 497m 11s\n",
      "Loss is 0.2558708190917969 at iter 1710, Time: 500m 29s\n",
      "Loss is 0.25991639494895935 at iter 1720, Time: 503m 45s\n",
      "Loss is 0.31586241722106934 at iter 1730, Time: 507m 4s\n",
      "Loss is 0.21337302029132843 at iter 1740, Time: 510m 21s\n",
      "Loss is 0.19676846265792847 at iter 1750, Time: 513m 39s\n",
      "Loss is 0.14934171736240387 at iter 1760, Time: 516m 57s\n",
      "Loss is 0.22625498473644257 at iter 1770, Time: 520m 15s\n",
      "Loss is 0.21675042808055878 at iter 1780, Time: 523m 33s\n",
      "Loss is 0.2825416028499603 at iter 1790, Time: 526m 50s\n",
      "Loss is 0.2446700483560562 at iter 1800, Time: 530m 7s\n",
      "Loss is 0.18464697897434235 at iter 1810, Time: 533m 23s\n",
      "Loss is 0.22064678370952606 at iter 1820, Time: 563m 7s\n",
      "Loss is 0.16369041800498962 at iter 1830, Time: 564m 19s\n"
     ]
    },
    {
     "ename": "KeyboardInterrupt",
     "evalue": "",
     "output_type": "error",
     "traceback": [
      "\u001b[1;31m---------------------------------------------------------------------------\u001b[0m",
      "\u001b[1;31mKeyboardInterrupt\u001b[0m                         Traceback (most recent call last)",
      "\u001b[1;32m<ipython-input-492-9d80750c7d9d>\u001b[0m in \u001b[0;36m<module>\u001b[1;34m()\u001b[0m\n\u001b[0;32m      1\u001b[0m \u001b[1;32mfor\u001b[0m \u001b[0mi\u001b[0m \u001b[1;32min\u001b[0m \u001b[0mrange\u001b[0m\u001b[1;33m(\u001b[0m\u001b[1;36m2500\u001b[0m\u001b[1;33m)\u001b[0m\u001b[1;33m:\u001b[0m\u001b[1;33m\u001b[0m\u001b[0m\n\u001b[0;32m      2\u001b[0m     \u001b[0mX_batch\u001b[0m\u001b[1;33m,\u001b[0m \u001b[0my_batch\u001b[0m \u001b[1;33m=\u001b[0m \u001b[0mget_train_batch\u001b[0m\u001b[1;33m(\u001b[0m\u001b[0mX_train\u001b[0m\u001b[1;33m,\u001b[0m \u001b[0my_train\u001b[0m\u001b[1;33m,\u001b[0m \u001b[0mbatch_size\u001b[0m\u001b[1;33m=\u001b[0m\u001b[1;36m64\u001b[0m\u001b[1;33m)\u001b[0m\u001b[1;33m\u001b[0m\u001b[0m\n\u001b[1;32m----> 3\u001b[1;33m     \u001b[0my_pred\u001b[0m \u001b[1;33m=\u001b[0m \u001b[0msaltnet\u001b[0m\u001b[1;33m(\u001b[0m\u001b[0mX_batch\u001b[0m\u001b[1;33m)\u001b[0m\u001b[1;33m\u001b[0m\u001b[0m\n\u001b[0m\u001b[0;32m      4\u001b[0m     \u001b[0moptimizer\u001b[0m\u001b[1;33m.\u001b[0m\u001b[0mzero_grad\u001b[0m\u001b[1;33m(\u001b[0m\u001b[1;33m)\u001b[0m\u001b[1;33m\u001b[0m\u001b[0m\n\u001b[0;32m      5\u001b[0m     \u001b[0mloss\u001b[0m \u001b[1;33m=\u001b[0m \u001b[0mloss_fn\u001b[0m\u001b[1;33m(\u001b[0m\u001b[0my_pred\u001b[0m\u001b[1;33m,\u001b[0m \u001b[0my_batch\u001b[0m\u001b[1;33m)\u001b[0m\u001b[1;33m\u001b[0m\u001b[0m\n",
      "\u001b[1;32mc:\\users\\allen\\anaconda3\\envs\\ds\\lib\\site-packages\\torch\\nn\\modules\\module.py\u001b[0m in \u001b[0;36m__call__\u001b[1;34m(self, *input, **kwargs)\u001b[0m\n\u001b[0;32m    489\u001b[0m             \u001b[0mresult\u001b[0m \u001b[1;33m=\u001b[0m \u001b[0mself\u001b[0m\u001b[1;33m.\u001b[0m\u001b[0m_slow_forward\u001b[0m\u001b[1;33m(\u001b[0m\u001b[1;33m*\u001b[0m\u001b[0minput\u001b[0m\u001b[1;33m,\u001b[0m \u001b[1;33m**\u001b[0m\u001b[0mkwargs\u001b[0m\u001b[1;33m)\u001b[0m\u001b[1;33m\u001b[0m\u001b[0m\n\u001b[0;32m    490\u001b[0m         \u001b[1;32melse\u001b[0m\u001b[1;33m:\u001b[0m\u001b[1;33m\u001b[0m\u001b[0m\n\u001b[1;32m--> 491\u001b[1;33m             \u001b[0mresult\u001b[0m \u001b[1;33m=\u001b[0m \u001b[0mself\u001b[0m\u001b[1;33m.\u001b[0m\u001b[0mforward\u001b[0m\u001b[1;33m(\u001b[0m\u001b[1;33m*\u001b[0m\u001b[0minput\u001b[0m\u001b[1;33m,\u001b[0m \u001b[1;33m**\u001b[0m\u001b[0mkwargs\u001b[0m\u001b[1;33m)\u001b[0m\u001b[1;33m\u001b[0m\u001b[0m\n\u001b[0m\u001b[0;32m    492\u001b[0m         \u001b[1;32mfor\u001b[0m \u001b[0mhook\u001b[0m \u001b[1;32min\u001b[0m \u001b[0mself\u001b[0m\u001b[1;33m.\u001b[0m\u001b[0m_forward_hooks\u001b[0m\u001b[1;33m.\u001b[0m\u001b[0mvalues\u001b[0m\u001b[1;33m(\u001b[0m\u001b[1;33m)\u001b[0m\u001b[1;33m:\u001b[0m\u001b[1;33m\u001b[0m\u001b[0m\n\u001b[0;32m    493\u001b[0m             \u001b[0mhook_result\u001b[0m \u001b[1;33m=\u001b[0m \u001b[0mhook\u001b[0m\u001b[1;33m(\u001b[0m\u001b[0mself\u001b[0m\u001b[1;33m,\u001b[0m \u001b[0minput\u001b[0m\u001b[1;33m,\u001b[0m \u001b[0mresult\u001b[0m\u001b[1;33m)\u001b[0m\u001b[1;33m\u001b[0m\u001b[0m\n",
      "\u001b[1;32m<ipython-input-435-02e21f88ef16>\u001b[0m in \u001b[0;36mforward\u001b[1;34m(self, X)\u001b[0m\n\u001b[0;32m     26\u001b[0m \u001b[1;33m\u001b[0m\u001b[0m\n\u001b[0;32m     27\u001b[0m     \u001b[1;32mdef\u001b[0m \u001b[0mforward\u001b[0m\u001b[1;33m(\u001b[0m\u001b[0mself\u001b[0m\u001b[1;33m,\u001b[0m \u001b[0mX\u001b[0m\u001b[1;33m)\u001b[0m\u001b[1;33m:\u001b[0m\u001b[1;33m\u001b[0m\u001b[0m\n\u001b[1;32m---> 28\u001b[1;33m         \u001b[0mout\u001b[0m \u001b[1;33m=\u001b[0m \u001b[0mself\u001b[0m\u001b[1;33m.\u001b[0m\u001b[0mseq\u001b[0m\u001b[1;33m(\u001b[0m\u001b[0mX\u001b[0m\u001b[1;33m)\u001b[0m\u001b[1;33m\u001b[0m\u001b[0m\n\u001b[0m\u001b[0;32m     29\u001b[0m         \u001b[1;32mreturn\u001b[0m \u001b[0mout\u001b[0m\u001b[1;33m[\u001b[0m\u001b[1;33m:\u001b[0m\u001b[1;33m,\u001b[0m\u001b[1;33m:\u001b[0m\u001b[1;33m,\u001b[0m\u001b[1;33m:\u001b[0m\u001b[1;33m-\u001b[0m\u001b[1;36m1\u001b[0m\u001b[1;33m,\u001b[0m\u001b[1;33m:\u001b[0m\u001b[1;33m-\u001b[0m\u001b[1;36m1\u001b[0m\u001b[1;33m]\u001b[0m\u001b[1;33m.\u001b[0m\u001b[0msqueeze\u001b[0m\u001b[1;33m(\u001b[0m\u001b[1;33m)\u001b[0m\u001b[1;33m\u001b[0m\u001b[0m\n",
      "\u001b[1;32mc:\\users\\allen\\anaconda3\\envs\\ds\\lib\\site-packages\\torch\\nn\\modules\\module.py\u001b[0m in \u001b[0;36m__call__\u001b[1;34m(self, *input, **kwargs)\u001b[0m\n\u001b[0;32m    489\u001b[0m             \u001b[0mresult\u001b[0m \u001b[1;33m=\u001b[0m \u001b[0mself\u001b[0m\u001b[1;33m.\u001b[0m\u001b[0m_slow_forward\u001b[0m\u001b[1;33m(\u001b[0m\u001b[1;33m*\u001b[0m\u001b[0minput\u001b[0m\u001b[1;33m,\u001b[0m \u001b[1;33m**\u001b[0m\u001b[0mkwargs\u001b[0m\u001b[1;33m)\u001b[0m\u001b[1;33m\u001b[0m\u001b[0m\n\u001b[0;32m    490\u001b[0m         \u001b[1;32melse\u001b[0m\u001b[1;33m:\u001b[0m\u001b[1;33m\u001b[0m\u001b[0m\n\u001b[1;32m--> 491\u001b[1;33m             \u001b[0mresult\u001b[0m \u001b[1;33m=\u001b[0m \u001b[0mself\u001b[0m\u001b[1;33m.\u001b[0m\u001b[0mforward\u001b[0m\u001b[1;33m(\u001b[0m\u001b[1;33m*\u001b[0m\u001b[0minput\u001b[0m\u001b[1;33m,\u001b[0m \u001b[1;33m**\u001b[0m\u001b[0mkwargs\u001b[0m\u001b[1;33m)\u001b[0m\u001b[1;33m\u001b[0m\u001b[0m\n\u001b[0m\u001b[0;32m    492\u001b[0m         \u001b[1;32mfor\u001b[0m \u001b[0mhook\u001b[0m \u001b[1;32min\u001b[0m \u001b[0mself\u001b[0m\u001b[1;33m.\u001b[0m\u001b[0m_forward_hooks\u001b[0m\u001b[1;33m.\u001b[0m\u001b[0mvalues\u001b[0m\u001b[1;33m(\u001b[0m\u001b[1;33m)\u001b[0m\u001b[1;33m:\u001b[0m\u001b[1;33m\u001b[0m\u001b[0m\n\u001b[0;32m    493\u001b[0m             \u001b[0mhook_result\u001b[0m \u001b[1;33m=\u001b[0m \u001b[0mhook\u001b[0m\u001b[1;33m(\u001b[0m\u001b[0mself\u001b[0m\u001b[1;33m,\u001b[0m \u001b[0minput\u001b[0m\u001b[1;33m,\u001b[0m \u001b[0mresult\u001b[0m\u001b[1;33m)\u001b[0m\u001b[1;33m\u001b[0m\u001b[0m\n",
      "\u001b[1;32mc:\\users\\allen\\anaconda3\\envs\\ds\\lib\\site-packages\\torch\\nn\\modules\\container.py\u001b[0m in \u001b[0;36mforward\u001b[1;34m(self, input)\u001b[0m\n\u001b[0;32m     89\u001b[0m     \u001b[1;32mdef\u001b[0m \u001b[0mforward\u001b[0m\u001b[1;33m(\u001b[0m\u001b[0mself\u001b[0m\u001b[1;33m,\u001b[0m \u001b[0minput\u001b[0m\u001b[1;33m)\u001b[0m\u001b[1;33m:\u001b[0m\u001b[1;33m\u001b[0m\u001b[0m\n\u001b[0;32m     90\u001b[0m         \u001b[1;32mfor\u001b[0m \u001b[0mmodule\u001b[0m \u001b[1;32min\u001b[0m \u001b[0mself\u001b[0m\u001b[1;33m.\u001b[0m\u001b[0m_modules\u001b[0m\u001b[1;33m.\u001b[0m\u001b[0mvalues\u001b[0m\u001b[1;33m(\u001b[0m\u001b[1;33m)\u001b[0m\u001b[1;33m:\u001b[0m\u001b[1;33m\u001b[0m\u001b[0m\n\u001b[1;32m---> 91\u001b[1;33m             \u001b[0minput\u001b[0m \u001b[1;33m=\u001b[0m \u001b[0mmodule\u001b[0m\u001b[1;33m(\u001b[0m\u001b[0minput\u001b[0m\u001b[1;33m)\u001b[0m\u001b[1;33m\u001b[0m\u001b[0m\n\u001b[0m\u001b[0;32m     92\u001b[0m         \u001b[1;32mreturn\u001b[0m \u001b[0minput\u001b[0m\u001b[1;33m\u001b[0m\u001b[0m\n\u001b[0;32m     93\u001b[0m \u001b[1;33m\u001b[0m\u001b[0m\n",
      "\u001b[1;32mc:\\users\\allen\\anaconda3\\envs\\ds\\lib\\site-packages\\torch\\nn\\modules\\module.py\u001b[0m in \u001b[0;36m__call__\u001b[1;34m(self, *input, **kwargs)\u001b[0m\n\u001b[0;32m    489\u001b[0m             \u001b[0mresult\u001b[0m \u001b[1;33m=\u001b[0m \u001b[0mself\u001b[0m\u001b[1;33m.\u001b[0m\u001b[0m_slow_forward\u001b[0m\u001b[1;33m(\u001b[0m\u001b[1;33m*\u001b[0m\u001b[0minput\u001b[0m\u001b[1;33m,\u001b[0m \u001b[1;33m**\u001b[0m\u001b[0mkwargs\u001b[0m\u001b[1;33m)\u001b[0m\u001b[1;33m\u001b[0m\u001b[0m\n\u001b[0;32m    490\u001b[0m         \u001b[1;32melse\u001b[0m\u001b[1;33m:\u001b[0m\u001b[1;33m\u001b[0m\u001b[0m\n\u001b[1;32m--> 491\u001b[1;33m             \u001b[0mresult\u001b[0m \u001b[1;33m=\u001b[0m \u001b[0mself\u001b[0m\u001b[1;33m.\u001b[0m\u001b[0mforward\u001b[0m\u001b[1;33m(\u001b[0m\u001b[1;33m*\u001b[0m\u001b[0minput\u001b[0m\u001b[1;33m,\u001b[0m \u001b[1;33m**\u001b[0m\u001b[0mkwargs\u001b[0m\u001b[1;33m)\u001b[0m\u001b[1;33m\u001b[0m\u001b[0m\n\u001b[0m\u001b[0;32m    492\u001b[0m         \u001b[1;32mfor\u001b[0m \u001b[0mhook\u001b[0m \u001b[1;32min\u001b[0m \u001b[0mself\u001b[0m\u001b[1;33m.\u001b[0m\u001b[0m_forward_hooks\u001b[0m\u001b[1;33m.\u001b[0m\u001b[0mvalues\u001b[0m\u001b[1;33m(\u001b[0m\u001b[1;33m)\u001b[0m\u001b[1;33m:\u001b[0m\u001b[1;33m\u001b[0m\u001b[0m\n\u001b[0;32m    493\u001b[0m             \u001b[0mhook_result\u001b[0m \u001b[1;33m=\u001b[0m \u001b[0mhook\u001b[0m\u001b[1;33m(\u001b[0m\u001b[0mself\u001b[0m\u001b[1;33m,\u001b[0m \u001b[0minput\u001b[0m\u001b[1;33m,\u001b[0m \u001b[0mresult\u001b[0m\u001b[1;33m)\u001b[0m\u001b[1;33m\u001b[0m\u001b[0m\n",
      "\u001b[1;32mc:\\users\\allen\\anaconda3\\envs\\ds\\lib\\site-packages\\torch\\nn\\modules\\conv.py\u001b[0m in \u001b[0;36mforward\u001b[1;34m(self, input)\u001b[0m\n\u001b[0;32m    299\u001b[0m     \u001b[1;32mdef\u001b[0m \u001b[0mforward\u001b[0m\u001b[1;33m(\u001b[0m\u001b[0mself\u001b[0m\u001b[1;33m,\u001b[0m \u001b[0minput\u001b[0m\u001b[1;33m)\u001b[0m\u001b[1;33m:\u001b[0m\u001b[1;33m\u001b[0m\u001b[0m\n\u001b[0;32m    300\u001b[0m         return F.conv2d(input, self.weight, self.bias, self.stride,\n\u001b[1;32m--> 301\u001b[1;33m                         self.padding, self.dilation, self.groups)\n\u001b[0m\u001b[0;32m    302\u001b[0m \u001b[1;33m\u001b[0m\u001b[0m\n\u001b[0;32m    303\u001b[0m \u001b[1;33m\u001b[0m\u001b[0m\n",
      "\u001b[1;31mKeyboardInterrupt\u001b[0m: "
     ]
    }
   ],
   "source": [
    "for i in range(2500):\n",
    "    X_batch, y_batch = get_train_batch(X_train, y_train, batch_size=64)\n",
    "    y_pred = saltnet(X_batch)\n",
    "    optimizer.zero_grad()\n",
    "    loss = loss_fn(y_pred, y_batch)\n",
    "    loss.backward()\n",
    "    optimizer.step()\n",
    "    \n",
    "    if i % 10 == 0:\n",
    "        print(f'Loss is {loss} at iter {i}, Time: {timeSince(start)}')"
   ]
  },
  {
   "cell_type": "code",
   "execution_count": 495,
   "metadata": {},
   "outputs": [],
   "source": [
    "state = {'epoch': i + 1, 'state_dict': saltnet.state_dict(),\n",
    "             'optimizer': optimizer.state_dict() }\n",
    "torch.save(state, 'saltnet_v1_20180808_0837.cpt')"
   ]
  },
  {
   "cell_type": "code",
   "execution_count": 580,
   "metadata": {},
   "outputs": [
    {
     "data": {
      "text/plain": [
       "(800, 101, 101, 3)"
      ]
     },
     "execution_count": 580,
     "metadata": {},
     "output_type": "execute_result"
    }
   ],
   "source": [
    "X_test.shape"
   ]
  },
  {
   "cell_type": "code",
   "execution_count": 581,
   "metadata": {},
   "outputs": [
    {
     "data": {
      "text/plain": [
       "(18000, 101, 101, 3)"
      ]
     },
     "execution_count": 581,
     "metadata": {},
     "output_type": "execute_result"
    }
   ],
   "source": [
    "np_test.shape"
   ]
  },
  {
   "cell_type": "code",
   "execution_count": 586,
   "metadata": {},
   "outputs": [],
   "source": [
    "del(df_depth)"
   ]
  },
  {
   "cell_type": "code",
   "execution_count": 588,
   "metadata": {},
   "outputs": [
    {
     "data": {
      "text/plain": [
       "(18000, 101, 101, 3)"
      ]
     },
     "execution_count": 588,
     "metadata": {},
     "output_type": "execute_result"
    }
   ],
   "source": [
    "np_test.shape"
   ]
  },
  {
   "cell_type": "code",
   "execution_count": 591,
   "metadata": {},
   "outputs": [
    {
     "data": {
      "text/plain": [
       "[array([0, 1, 2, 3, 4]), array([5, 6, 7, 8, 9])]"
      ]
     },
     "execution_count": 591,
     "metadata": {},
     "output_type": "execute_result"
    }
   ],
   "source": [
    "np.split(np.arange(10), 2)"
   ]
  },
  {
   "cell_type": "code",
   "execution_count": 589,
   "metadata": {},
   "outputs": [
    {
     "ename": "MemoryError",
     "evalue": "",
     "output_type": "error",
     "traceback": [
      "\u001b[1;31m---------------------------------------------------------------------------\u001b[0m",
      "\u001b[1;31mMemoryError\u001b[0m                               Traceback (most recent call last)",
      "\u001b[1;32m<ipython-input-589-06e78b7a5626>\u001b[0m in \u001b[0;36m<module>\u001b[1;34m()\u001b[0m\n\u001b[1;32m----> 1\u001b[1;33m \u001b[0mX_test_torch\u001b[0m \u001b[1;33m=\u001b[0m \u001b[0mformat_train_data\u001b[0m\u001b[1;33m(\u001b[0m\u001b[0mnp_test\u001b[0m\u001b[1;33m[\u001b[0m\u001b[1;33m:\u001b[0m\u001b[1;36m8000\u001b[0m\u001b[1;33m]\u001b[0m\u001b[1;33m)\u001b[0m\u001b[1;33m.\u001b[0m\u001b[0mshape\u001b[0m\u001b[1;33m\u001b[0m\u001b[0m\n\u001b[0m",
      "\u001b[1;32m<ipython-input-502-7739fccbd174>\u001b[0m in \u001b[0;36mformat_train_data\u001b[1;34m(X)\u001b[0m\n\u001b[0;32m      1\u001b[0m \u001b[1;32mdef\u001b[0m \u001b[0mformat_train_data\u001b[0m\u001b[1;33m(\u001b[0m\u001b[0mX\u001b[0m\u001b[1;33m)\u001b[0m\u001b[1;33m:\u001b[0m\u001b[1;33m\u001b[0m\u001b[0m\n\u001b[0;32m      2\u001b[0m     \u001b[0mX\u001b[0m \u001b[1;33m=\u001b[0m \u001b[0mnp\u001b[0m\u001b[1;33m.\u001b[0m\u001b[0mmoveaxis\u001b[0m\u001b[1;33m(\u001b[0m\u001b[0mX\u001b[0m\u001b[1;33m,\u001b[0m \u001b[1;33m-\u001b[0m\u001b[1;36m1\u001b[0m\u001b[1;33m,\u001b[0m\u001b[1;36m1\u001b[0m\u001b[1;33m)\u001b[0m\u001b[1;33m\u001b[0m\u001b[0m\n\u001b[1;32m----> 3\u001b[1;33m     \u001b[0mX\u001b[0m \u001b[1;33m=\u001b[0m \u001b[0mnp\u001b[0m\u001b[1;33m.\u001b[0m\u001b[0mpad\u001b[0m\u001b[1;33m(\u001b[0m\u001b[0mX\u001b[0m\u001b[1;33m,\u001b[0m \u001b[1;33m[\u001b[0m\u001b[1;33m(\u001b[0m\u001b[1;36m0\u001b[0m\u001b[1;33m,\u001b[0m\u001b[1;36m0\u001b[0m\u001b[1;33m)\u001b[0m\u001b[1;33m,\u001b[0m\u001b[1;33m(\u001b[0m\u001b[1;36m0\u001b[0m\u001b[1;33m,\u001b[0m\u001b[1;36m0\u001b[0m\u001b[1;33m)\u001b[0m\u001b[1;33m,\u001b[0m\u001b[1;33m(\u001b[0m\u001b[1;36m0\u001b[0m\u001b[1;33m,\u001b[0m \u001b[1;36m1\u001b[0m\u001b[1;33m)\u001b[0m\u001b[1;33m,\u001b[0m \u001b[1;33m(\u001b[0m\u001b[1;36m0\u001b[0m\u001b[1;33m,\u001b[0m \u001b[1;36m1\u001b[0m\u001b[1;33m)\u001b[0m\u001b[1;33m]\u001b[0m\u001b[1;33m,\u001b[0m \u001b[0mmode\u001b[0m\u001b[1;33m=\u001b[0m\u001b[1;34m'constant'\u001b[0m\u001b[1;33m)\u001b[0m\u001b[1;33m\u001b[0m\u001b[0m\n\u001b[0m\u001b[0;32m      4\u001b[0m     \u001b[1;32mreturn\u001b[0m \u001b[0mtorch\u001b[0m\u001b[1;33m.\u001b[0m\u001b[0mfrom_numpy\u001b[0m\u001b[1;33m(\u001b[0m\u001b[0mX\u001b[0m\u001b[1;33m)\u001b[0m\u001b[1;33m.\u001b[0m\u001b[0mfloat\u001b[0m\u001b[1;33m(\u001b[0m\u001b[1;33m)\u001b[0m\u001b[1;33m\u001b[0m\u001b[0m\n",
      "\u001b[1;32mc:\\users\\allen\\anaconda3\\envs\\ds\\lib\\site-packages\\numpy\\lib\\arraypad.py\u001b[0m in \u001b[0;36mpad\u001b[1;34m(array, pad_width, mode, **kwargs)\u001b[0m\n\u001b[0;32m   1375\u001b[0m                 \u001b[1;32min\u001b[0m \u001b[0menumerate\u001b[0m\u001b[1;33m(\u001b[0m\u001b[0mzip\u001b[0m\u001b[1;33m(\u001b[0m\u001b[0mpad_width\u001b[0m\u001b[1;33m,\u001b[0m \u001b[0mkwargs\u001b[0m\u001b[1;33m[\u001b[0m\u001b[1;34m'constant_values'\u001b[0m\u001b[1;33m]\u001b[0m\u001b[1;33m)\u001b[0m\u001b[1;33m)\u001b[0m\u001b[1;33m:\u001b[0m\u001b[1;33m\u001b[0m\u001b[0m\n\u001b[0;32m   1376\u001b[0m             \u001b[0mnewmat\u001b[0m \u001b[1;33m=\u001b[0m \u001b[0m_prepend_const\u001b[0m\u001b[1;33m(\u001b[0m\u001b[0mnewmat\u001b[0m\u001b[1;33m,\u001b[0m \u001b[0mpad_before\u001b[0m\u001b[1;33m,\u001b[0m \u001b[0mbefore_val\u001b[0m\u001b[1;33m,\u001b[0m \u001b[0maxis\u001b[0m\u001b[1;33m)\u001b[0m\u001b[1;33m\u001b[0m\u001b[0m\n\u001b[1;32m-> 1377\u001b[1;33m             \u001b[0mnewmat\u001b[0m \u001b[1;33m=\u001b[0m \u001b[0m_append_const\u001b[0m\u001b[1;33m(\u001b[0m\u001b[0mnewmat\u001b[0m\u001b[1;33m,\u001b[0m \u001b[0mpad_after\u001b[0m\u001b[1;33m,\u001b[0m \u001b[0mafter_val\u001b[0m\u001b[1;33m,\u001b[0m \u001b[0maxis\u001b[0m\u001b[1;33m)\u001b[0m\u001b[1;33m\u001b[0m\u001b[0m\n\u001b[0m\u001b[0;32m   1378\u001b[0m \u001b[1;33m\u001b[0m\u001b[0m\n\u001b[0;32m   1379\u001b[0m     \u001b[1;32melif\u001b[0m \u001b[0mmode\u001b[0m \u001b[1;33m==\u001b[0m \u001b[1;34m'edge'\u001b[0m\u001b[1;33m:\u001b[0m\u001b[1;33m\u001b[0m\u001b[0m\n",
      "\u001b[1;32mc:\\users\\allen\\anaconda3\\envs\\ds\\lib\\site-packages\\numpy\\lib\\arraypad.py\u001b[0m in \u001b[0;36m_append_const\u001b[1;34m(arr, pad_amt, val, axis)\u001b[0m\n\u001b[0;32m    137\u001b[0m     \u001b[1;32mif\u001b[0m \u001b[0mval\u001b[0m \u001b[1;33m==\u001b[0m \u001b[1;36m0\u001b[0m\u001b[1;33m:\u001b[0m\u001b[1;33m\u001b[0m\u001b[0m\n\u001b[0;32m    138\u001b[0m         return np.concatenate((arr, np.zeros(padshape, dtype=arr.dtype)),\n\u001b[1;32m--> 139\u001b[1;33m                               axis=axis)\n\u001b[0m\u001b[0;32m    140\u001b[0m     \u001b[1;32melse\u001b[0m\u001b[1;33m:\u001b[0m\u001b[1;33m\u001b[0m\u001b[0m\n\u001b[0;32m    141\u001b[0m         return np.concatenate(\n",
      "\u001b[1;31mMemoryError\u001b[0m: "
     ]
    }
   ],
   "source": [
    "X_test_torch = format_train_data(np_test[:8000]).shape"
   ]
  },
  {
   "cell_type": "code",
   "execution_count": 555,
   "metadata": {},
   "outputs": [],
   "source": [
    "y_test_torch = torch.from_numpy(np.clip(y_test,0,1)).float()"
   ]
  },
  {
   "cell_type": "code",
   "execution_count": 592,
   "metadata": {},
   "outputs": [],
   "source": [
    "y_test_pred = []"
   ]
  },
  {
   "cell_type": "code",
   "execution_count": 598,
   "metadata": {},
   "outputs": [
    {
     "data": {
      "text/plain": [
       "1800"
      ]
     },
     "execution_count": 598,
     "metadata": {},
     "output_type": "execute_result"
    }
   ],
   "source": [
    "len(y_test_pred)"
   ]
  },
  {
   "cell_type": "code",
   "execution_count": 594,
   "metadata": {},
   "outputs": [
    {
     "data": {
      "text/plain": [
       "(18000, 101, 101, 3)"
      ]
     },
     "execution_count": 594,
     "metadata": {},
     "output_type": "execute_result"
    }
   ],
   "source": [
    "np_test.shape"
   ]
  },
  {
   "cell_type": "code",
   "execution_count": 597,
   "metadata": {},
   "outputs": [],
   "source": [
    "for x in np.split(np_test,1800):\n",
    "    with torch.no_grad():\n",
    "        y_test_pred.append(saltnet(format_train_data(x)))"
   ]
  },
  {
   "cell_type": "code",
   "execution_count": 599,
   "metadata": {},
   "outputs": [],
   "source": [
    "y_test_pred = torch.cat(y_test_pred)"
   ]
  },
  {
   "cell_type": "code",
   "execution_count": 600,
   "metadata": {},
   "outputs": [],
   "source": [
    "y_test_pred = y_test_pred.ge(0.5)"
   ]
  },
  {
   "cell_type": "code",
   "execution_count": 602,
   "metadata": {},
   "outputs": [
    {
     "data": {
      "text/plain": [
       "torch.Size([18000, 101, 101])"
      ]
     },
     "execution_count": 602,
     "metadata": {},
     "output_type": "execute_result"
    }
   ],
   "source": [
    "y_test_pred.shape"
   ]
  },
  {
   "cell_type": "code",
   "execution_count": 603,
   "metadata": {},
   "outputs": [],
   "source": [
    "def rlencode(x, dropna=False):\n",
    "    \"\"\"\n",
    "    Run length encoding.\n",
    "    Based on http://stackoverflow.com/a/32681075, which is based on the rle \n",
    "    function from R.\n",
    "    \n",
    "    Parameters\n",
    "    ----------\n",
    "    x : 1D array_like\n",
    "        Input array to encode\n",
    "    dropna: bool, optional\n",
    "        Drop all runs of NaNs.\n",
    "    \n",
    "    Returns\n",
    "    -------\n",
    "    start positions, run lengths, run values\n",
    "    \n",
    "    \"\"\"\n",
    "    where = np.flatnonzero\n",
    "    x = np.asarray(x)\n",
    "    n = len(x)\n",
    "    if n == 0:\n",
    "        return (np.array([], dtype=int), \n",
    "                np.array([], dtype=int), \n",
    "                np.array([], dtype=x.dtype))\n",
    "\n",
    "    starts = np.r_[0, where(~np.isclose(x[1:], x[:-1], equal_nan=True)) + 1]\n",
    "    lengths = np.diff(np.r_[starts, n])\n",
    "    values = x[starts]\n",
    "    \n",
    "    if dropna:\n",
    "        mask = ~np.isnan(values)\n",
    "        starts, lengths, values = starts[mask], lengths[mask], values[mask]\n",
    "    \n",
    "    return starts[::2]+1, lengths[::2]"
   ]
  },
  {
   "cell_type": "code",
   "execution_count": 640,
   "metadata": {},
   "outputs": [],
   "source": [
    "y_test_pred_rle = [rlencode(x.T.flatten()) for x in y_test_pred.detach().numpy()]"
   ]
  },
  {
   "cell_type": "code",
   "execution_count": 642,
   "metadata": {},
   "outputs": [
    {
     "data": {
      "text/plain": [
       "(array([    1,  8065,  8166,  8465,  8565, 10027, 10029, 10130],\n",
       "       dtype=int64),\n",
       " array([8062,   99,  297,   99, 1458,    1,   95,   72], dtype=int64))"
      ]
     },
     "execution_count": 642,
     "metadata": {},
     "output_type": "execute_result"
    }
   ],
   "source": []
  },
  {
   "cell_type": "code",
   "execution_count": 644,
   "metadata": {},
   "outputs": [],
   "source": [
    "y_test_pred_rle = [np.c_[e] for e in y_test_pred_rle]"
   ]
  },
  {
   "cell_type": "code",
   "execution_count": 652,
   "metadata": {},
   "outputs": [
    {
     "data": {
      "text/plain": [
       "array([[    1,  8062],\n",
       "       [ 8065,    99],\n",
       "       [ 8166,   297],\n",
       "       [ 8465,    99],\n",
       "       [ 8565,  1458],\n",
       "       [10027,     1],\n",
       "       [10029,    95],\n",
       "       [10130,    72]], dtype=int64)"
      ]
     },
     "execution_count": 652,
     "metadata": {},
     "output_type": "execute_result"
    }
   ],
   "source": [
    "y_test_pred_rle[0]"
   ]
  },
  {
   "cell_type": "code",
   "execution_count": 669,
   "metadata": {},
   "outputs": [],
   "source": [
    "y_test_pred_rle2 = [[i, e[0]+' '+e[1]] for i, f in enumerate(y_test_pred_rle) for e in f.astype(str)]"
   ]
  },
  {
   "cell_type": "code",
   "execution_count": 670,
   "metadata": {},
   "outputs": [],
   "source": [
    "df_y_test_pred_rle2 = pd.DataFrame(y_test_pred_rle2)"
   ]
  },
  {
   "cell_type": "code",
   "execution_count": 679,
   "metadata": {},
   "outputs": [],
   "source": [
    "df_y_test_pred_rle2['id'] = df_y_test_pred_rle2[0].map({i:v for i,v in enumerate(df_test.index.tolist())})"
   ]
  },
  {
   "cell_type": "code",
   "execution_count": 681,
   "metadata": {},
   "outputs": [],
   "source": [
    "df_y_test_pred_rle2['rle_mask'] = df_y_test_pred_rle2[1]"
   ]
  },
  {
   "cell_type": "code",
   "execution_count": 682,
   "metadata": {},
   "outputs": [
    {
     "data": {
      "text/html": [
       "<div>\n",
       "<style scoped>\n",
       "    .dataframe tbody tr th:only-of-type {\n",
       "        vertical-align: middle;\n",
       "    }\n",
       "\n",
       "    .dataframe tbody tr th {\n",
       "        vertical-align: top;\n",
       "    }\n",
       "\n",
       "    .dataframe thead th {\n",
       "        text-align: right;\n",
       "    }\n",
       "</style>\n",
       "<table border=\"1\" class=\"dataframe\">\n",
       "  <thead>\n",
       "    <tr style=\"text-align: right;\">\n",
       "      <th></th>\n",
       "      <th>0</th>\n",
       "      <th>1</th>\n",
       "      <th>id</th>\n",
       "      <th>rle_mask</th>\n",
       "    </tr>\n",
       "  </thead>\n",
       "  <tbody>\n",
       "    <tr>\n",
       "      <th>0</th>\n",
       "      <td>0</td>\n",
       "      <td>1 8062</td>\n",
       "      <td>0005bb9630</td>\n",
       "      <td>1 8062</td>\n",
       "    </tr>\n",
       "    <tr>\n",
       "      <th>1</th>\n",
       "      <td>0</td>\n",
       "      <td>8065 99</td>\n",
       "      <td>0005bb9630</td>\n",
       "      <td>8065 99</td>\n",
       "    </tr>\n",
       "    <tr>\n",
       "      <th>2</th>\n",
       "      <td>0</td>\n",
       "      <td>8166 297</td>\n",
       "      <td>0005bb9630</td>\n",
       "      <td>8166 297</td>\n",
       "    </tr>\n",
       "    <tr>\n",
       "      <th>3</th>\n",
       "      <td>0</td>\n",
       "      <td>8465 99</td>\n",
       "      <td>0005bb9630</td>\n",
       "      <td>8465 99</td>\n",
       "    </tr>\n",
       "    <tr>\n",
       "      <th>4</th>\n",
       "      <td>0</td>\n",
       "      <td>8565 1458</td>\n",
       "      <td>0005bb9630</td>\n",
       "      <td>8565 1458</td>\n",
       "    </tr>\n",
       "  </tbody>\n",
       "</table>\n",
       "</div>"
      ],
      "text/plain": [
       "   0          1          id   rle_mask\n",
       "0  0     1 8062  0005bb9630     1 8062\n",
       "1  0    8065 99  0005bb9630    8065 99\n",
       "2  0   8166 297  0005bb9630   8166 297\n",
       "3  0    8465 99  0005bb9630    8465 99\n",
       "4  0  8565 1458  0005bb9630  8565 1458"
      ]
     },
     "execution_count": 682,
     "metadata": {},
     "output_type": "execute_result"
    }
   ],
   "source": [
    "df_y_test_pred_rle2.head()"
   ]
  },
  {
   "cell_type": "code",
   "execution_count": null,
   "metadata": {},
   "outputs": [],
   "source": []
  },
  {
   "cell_type": "code",
   "execution_count": 618,
   "metadata": {},
   "outputs": [],
   "source": [
    "y_test_pred_rle = [' '.join(np.c_[e].flatten().astype(str).tolist()) for e in y_test_pred_rle]"
   ]
  },
  {
   "cell_type": "code",
   "execution_count": 617,
   "metadata": {},
   "outputs": [
    {
     "data": {
      "text/plain": [
       "'1 8062 8065 99 8166 297 8465 99 8565 1458 10027 1 10029 95 10130 72'"
      ]
     },
     "execution_count": 617,
     "metadata": {},
     "output_type": "execute_result"
    }
   ],
   "source": [
    "' '.join(np.c_[y_test_pred_rle[0]].flatten().astype(str).tolist())"
   ]
  },
  {
   "cell_type": "code",
   "execution_count": 624,
   "metadata": {},
   "outputs": [
    {
     "data": {
      "text/plain": [
       "18000"
      ]
     },
     "execution_count": 624,
     "metadata": {},
     "output_type": "execute_result"
    }
   ],
   "source": [
    "len(y_test_pred_rle)"
   ]
  },
  {
   "cell_type": "code",
   "execution_count": null,
   "metadata": {},
   "outputs": [],
   "source": []
  },
  {
   "cell_type": "code",
   "execution_count": null,
   "metadata": {},
   "outputs": [],
   "source": [
    "df_test_pred = pd.DataFrame"
   ]
  },
  {
   "cell_type": "code",
   "execution_count": 626,
   "metadata": {},
   "outputs": [],
   "source": [
    "def load_img_to_df(img_path, normalize=False, mean_img=None):\n",
    "    images = []\n",
    "    for filename in glob.glob(f'{img_path}/*.png'): #assuming gif\n",
    "        img_id = filename.split('\\\\')[-1].split('.')[0]\n",
    "        img = ''\n",
    "        if normalize:\n",
    "            img -= mean_img[:,:,None]\n",
    "        images.append([img_id, img])\n",
    "    return pd.DataFrame(images, columns=['img_id', 'img']).set_index('img_id')"
   ]
  },
  {
   "cell_type": "code",
   "execution_count": 627,
   "metadata": {},
   "outputs": [],
   "source": [
    "df_test = load_img_to_df('./data/test/images')"
   ]
  },
  {
   "cell_type": "code",
   "execution_count": 629,
   "metadata": {},
   "outputs": [],
   "source": [
    "df_test['rle_mask'] = y_test_pred_rle"
   ]
  },
  {
   "cell_type": "code",
   "execution_count": 636,
   "metadata": {},
   "outputs": [],
   "source": [
    "df_test.reset_index()[['img_id', 'rle_mask']].to_csv('submission_20180808_01.csv', index=False)"
   ]
  },
  {
   "cell_type": "code",
   "execution_count": 637,
   "metadata": {},
   "outputs": [],
   "source": [
    "del(np_test)"
   ]
  },
  {
   "cell_type": "code",
   "execution_count": 639,
   "metadata": {},
   "outputs": [
    {
     "data": {
      "text/plain": [
       "tensor([[ 0,  0,  0,  ...,  0,  0,  0],\n",
       "        [ 0,  0,  0,  ...,  0,  0,  0],\n",
       "        [ 0,  0,  0,  ...,  0,  0,  0],\n",
       "        ...,\n",
       "        [ 0,  0,  0,  ...,  0,  0,  0],\n",
       "        [ 0,  0,  0,  ...,  0,  0,  0],\n",
       "        [ 0,  0,  0,  ...,  0,  0,  0]], dtype=torch.uint8)"
      ]
     },
     "execution_count": 639,
     "metadata": {},
     "output_type": "execute_result"
    }
   ],
   "source": [
    "y_test_pred[0]"
   ]
  },
  {
   "cell_type": "code",
   "execution_count": 685,
   "metadata": {},
   "outputs": [],
   "source": [
    "df_y_test_pred_rle2[['id', 'rle_mask']].to_csv('submission_20180808_02.csv', index=False)"
   ]
  },
  {
   "cell_type": "code",
   "execution_count": 686,
   "metadata": {},
   "outputs": [
    {
     "data": {
      "text/plain": [
       "18000"
      ]
     },
     "execution_count": 686,
     "metadata": {},
     "output_type": "execute_result"
    }
   ],
   "source": [
    "df_y_test_pred_rle2.id.nunique()"
   ]
  },
  {
   "cell_type": "code",
   "execution_count": null,
   "metadata": {},
   "outputs": [],
   "source": []
  }
 ],
 "metadata": {
  "kernelspec": {
   "display_name": "Python 3",
   "language": "python",
   "name": "python3"
  },
  "language_info": {
   "codemirror_mode": {
    "name": "ipython",
    "version": 3
   },
   "file_extension": ".py",
   "mimetype": "text/x-python",
   "name": "python",
   "nbconvert_exporter": "python",
   "pygments_lexer": "ipython3",
   "version": "3.6.4"
  }
 },
 "nbformat": 4,
 "nbformat_minor": 2
}
