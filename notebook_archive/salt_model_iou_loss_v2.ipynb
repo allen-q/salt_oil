{
 "cells": [
  {
   "cell_type": "markdown",
   "metadata": {},
   "source": [
    "# Changes:\n",
    "Reload saved model and troubleshoot low score"
   ]
  },
  {
   "cell_type": "code",
   "execution_count": 1,
   "metadata": {},
   "outputs": [],
   "source": [
    "import zipfile\n",
    "import torch\n",
    "import torchvision\n",
    "import torch.nn as nn\n",
    "import torch.nn.functional as F\n",
    "from torch.utils import data\n",
    "from torch.utils.data import Dataset, DataLoader\n",
    "from torchvision import transforms, utils\n",
    "from skimage import io, transform\n",
    "from sklearn.model_selection import train_test_split\n",
    "import numpy as np\n",
    "import pandas as pd\n",
    "import matplotlib.pyplot as ply\n",
    "import os\n",
    "import imageio\n",
    "from PIL import Image\n",
    "import glob\n",
    "import matplotlib.pyplot as plt\n",
    "import time\n",
    "import math\n",
    "import datetime as dt\n",
    "import pytz\n",
    "\n",
    "% matplotlib inline"
   ]
  },
  {
   "cell_type": "code",
   "execution_count": 2,
   "metadata": {},
   "outputs": [],
   "source": [
    "def rle_encoder2d(x):\n",
    "    if isinstance(x, torch.Tensor):\n",
    "        x = x.detach().numpy()\n",
    "    s = pd.Series(x.clip(0,1).flatten('F'))\n",
    "    s.index = s.index+1\n",
    "    df = s.to_frame('pred').assign(zero_cumcnt=s.eq(0).cumsum())\n",
    "    df = df.loc[df.pred.gt(0)]\n",
    "    df_rle = df.reset_index().groupby('zero_cumcnt').agg({'index': min, 'pred': sum}).astype(int).astype(str)\n",
    "    rle = ' '.join((df_rle['index'] + ' '+df_rle['pred']).tolist())\n",
    "    \n",
    "    return rle"
   ]
  },
  {
   "cell_type": "code",
   "execution_count": 3,
   "metadata": {},
   "outputs": [],
   "source": [
    "def rle_encoder3d(x):   \n",
    "    return np.r_[[rle_encoder2d(e) for e in x]]"
   ]
  },
  {
   "cell_type": "code",
   "execution_count": 4,
   "metadata": {},
   "outputs": [],
   "source": [
    "def load_img_to_df(img_path, normalize=False, mean_img=None, img_dtype=np.float):\n",
    "    images = []\n",
    "    for filename in glob.glob(f'{img_path}/*.png'): #assuming gif\n",
    "        img_id = filename.split('\\\\')[-1].split('.')[0]\n",
    "        img = np.array(imageio.imread(filename), dtype=img_dtype)\n",
    "        if normalize:\n",
    "            img -= mean_img[:,:,None]\n",
    "        images.append([img_id, img])\n",
    "    return pd.DataFrame(images, columns=['img_id', 'img']).set_index('img_id')"
   ]
  },
  {
   "cell_type": "code",
   "execution_count": 5,
   "metadata": {},
   "outputs": [],
   "source": [
    "def load_img_to_np(img_path):\n",
    "    images = []\n",
    "    for filename in glob.glob(f'{img_path}/*.png'): #assuming gif\n",
    "        img_id = filename.split('\\\\')[-1].split('.')[0]\n",
    "        images.append(np.array(imageio.imread(filename), dtype=np.uint8))\n",
    "    return np.r_[images]"
   ]
  },
  {
   "cell_type": "code",
   "execution_count": 6,
   "metadata": {},
   "outputs": [],
   "source": [
    "def load_single_img(path, show=False):\n",
    "    img = np.array(imageio.imread(path), dtype=np.uint8)\n",
    "    if show:\n",
    "        plt.imshow(img)\n",
    "    return img"
   ]
  },
  {
   "cell_type": "code",
   "execution_count": 7,
   "metadata": {},
   "outputs": [],
   "source": [
    "def format_train_data(X):\n",
    "    X = np.moveaxis(X, -1,1)\n",
    "    X = np.pad(X, [(0,0),(0,0),(0, 1), (0, 1)], mode='constant')\n",
    "    return torch.from_numpy(X).float()"
   ]
  },
  {
   "cell_type": "code",
   "execution_count": 8,
   "metadata": {},
   "outputs": [],
   "source": [
    "def get_train_batch(X_train, y_train, batch_size):\n",
    "    batch_ids = np.random.choice(len(X_train), batch_size, replace=False)\n",
    "    X_train_batch = X_train[batch_ids]\n",
    "    X_train_batch = np.moveaxis(X_train_batch, -1,1)\n",
    "    X_train_batch = np.pad(X_train_batch, [(0,0),(0,0),(0, 1), (0, 1)], mode='constant')\n",
    "    y_train_batch = np.clip(y_train[batch_ids],0,1)\n",
    "    \n",
    "    return (torch.from_numpy(X_train_batch).float(), torch.from_numpy(y_train_batch).float())"
   ]
  },
  {
   "cell_type": "code",
   "execution_count": 138,
   "metadata": {},
   "outputs": [],
   "source": [
    "def calc_raw_iou(a, b):\n",
    "    if isinstance(a, torch.Tensor):\n",
    "        a = a.detach().numpy()\n",
    "    if isinstance(b, torch.Tensor):\n",
    "        b = b.detach().numpy()\n",
    "    a = np.clip(a, 0, 1)\n",
    "    b = np.clip(b, 0, 1)\n",
    "    u = np.sum(np.clip(a+b, 0, 1), (1,2)).astype(np.float)\n",
    "    i = np.sum(np.where((a+b)==2, 1, 0), (1,2)).astype(np.float)\n",
    "    with np.errstate(divide='ignore',invalid='ignore'):\n",
    "        iou = np.where(i==u, 1, np.where(u==0, 0, i/u))\n",
    "        \n",
    "    return iou"
   ]
  },
  {
   "cell_type": "code",
   "execution_count": 131,
   "metadata": {},
   "outputs": [],
   "source": [
    "def calc_mean_iou(a, b):\n",
    "    thresholds = np.array([0.5, 0.55, 0.6, 0.65, 0.7, 0.75, 0.8, 0.85, 0.9, 0.95])\n",
    "    iou = calc_raw_iou(a, b)\n",
    "    iou_mean = (iou[:,None]>thresholds).mean(1).mean()\n",
    "\n",
    "    return iou_mean"
   ]
  },
  {
   "cell_type": "code",
   "execution_count": 10,
   "metadata": {},
   "outputs": [],
   "source": [
    "def timeSince(since):\n",
    "    now = time.time()\n",
    "    s = now - since\n",
    "    m = math.floor(s / 60)\n",
    "    s -= m * 60\n",
    "    return '%dm %ds' % (m, s)"
   ]
  },
  {
   "cell_type": "code",
   "execution_count": 11,
   "metadata": {},
   "outputs": [],
   "source": [
    "def get_current_time_as_fname():\n",
    "        timestamp = (\n",
    "                dt.datetime.now(pytz.timezone('Australia/Melbourne'))\n",
    "                .strftime('%Y_%m_%d_%H_%M_%S')\n",
    "                )\n",
    "                \n",
    "        return timestamp"
   ]
  },
  {
   "cell_type": "code",
   "execution_count": 12,
   "metadata": {},
   "outputs": [],
   "source": [
    "def plot_img_mask_pred(image, mask, pred):\n",
    "    f, axarr = plt.subplots(1,3)\n",
    "    axarr[0].imshow(image)\n",
    "    axarr[1].imshow(mask)\n",
    "    axarr[2].imshow(pred)\n",
    "    axarr[0].grid()\n",
    "    axarr[1].grid()\n",
    "    axarr[2].grid()\n",
    "    axarr[0].set_title('Image')\n",
    "    axarr[1].set_title('Mask')\n",
    "    axarr[2].set_title('Predicted Mask')"
   ]
  },
  {
   "cell_type": "code",
   "execution_count": 13,
   "metadata": {},
   "outputs": [],
   "source": [
    "class SigToBinary(nn.Module):\n",
    "    def __init__(self):\n",
    "        super().__init__()\n",
    "    def forward(self, X):\n",
    "        return X.ge(0.5)\n",
    "    "
   ]
  },
  {
   "cell_type": "code",
   "execution_count": 14,
   "metadata": {},
   "outputs": [],
   "source": [
    "class SaltNet(nn.Module):\n",
    "    def __init__(self):\n",
    "        super().__init__()\n",
    "        self.seq = nn.Sequential(\n",
    "            nn.Conv2d(3,64,3, padding=10),\n",
    "            nn.MaxPool2d(2, 2),\n",
    "            nn.ReLU(),\n",
    "            nn.BatchNorm2d(64),\n",
    "            nn.Conv2d(64,128,3),\n",
    "            nn.MaxPool2d(2, 2),\n",
    "            nn.ReLU(),\n",
    "            nn.BatchNorm2d(128),\n",
    "            nn.Conv2d(128,256,3),\n",
    "            nn.MaxPool2d(2, 2),\n",
    "            nn.ReLU(),\n",
    "            nn.BatchNorm2d(256),\n",
    "            nn.ConvTranspose2d(256, 128, 2, stride=2),\n",
    "            nn.ReLU(),\n",
    "            nn.BatchNorm2d(128),\n",
    "            nn.ConvTranspose2d(128, 64, 2, stride=2),\n",
    "            nn.ReLU(),\n",
    "            nn.BatchNorm2d(64),\n",
    "            nn.ConvTranspose2d(64, 1, 2, stride=2, padding=1),\n",
    "            nn.Sigmoid()\n",
    "        )\n",
    "        \n",
    "    def forward(self, X):\n",
    "        out = self.seq(X)\n",
    "        return torch.clamp(out[:,:,:-1,:-1].squeeze(), 0.0, 1.0)"
   ]
  },
  {
   "cell_type": "code",
   "execution_count": 15,
   "metadata": {},
   "outputs": [],
   "source": [
    "def adjust_predictions(black_img_mean, zero_mask_cut_off, mean_img, X, y_pred, y=None):\n",
    "    y_pred_adj = y_pred.clip(0,1)\n",
    "\n",
    "    # Set predictions to all 0 for black images\n",
    "    black_img_mask = ((X+mean_img[None,:,:,None]).mean((1,2,3))<black_img_mean)\n",
    "    y_pred_adj[black_img_mask]=0\n",
    "\n",
    "    # set all predictions to 0 if the number of positive predictions is less than ZERO_MASK_CUTOFF\n",
    "    y_pred_adj = np.r_[[e if e.sum()>zero_mask_cut_off else np.zeros_like(e) for e in y_pred_adj]]\n",
    "    \n",
    "    if y is not None:\n",
    "        print(f'IOU score before: {calc_iou(y_pred, y)}, IOU Score after:{calc_iou(y_pred_adj, y)}')\n",
    "        \n",
    "    return y_pred_adj"
   ]
  },
  {
   "cell_type": "code",
   "execution_count": 16,
   "metadata": {},
   "outputs": [],
   "source": [
    "def show_img_grid():\n",
    "    pass\n",
    "    #plt.imshow(torchvision.utils.make_grid(torch.from_numpy(y_train_black).unsqueeze(1)).permute(1, 2, 0))"
   ]
  },
  {
   "cell_type": "markdown",
   "metadata": {},
   "source": [
    "## Constant and Parameter Defination"
   ]
  },
  {
   "cell_type": "code",
   "execution_count": 17,
   "metadata": {},
   "outputs": [],
   "source": [
    "BLACK_IMG_MEAN = 50\n",
    "ZERO_MASK_CUTOFF = 120"
   ]
  },
  {
   "cell_type": "markdown",
   "metadata": {},
   "source": [
    "## Load Data"
   ]
  },
  {
   "cell_type": "code",
   "execution_count": 20,
   "metadata": {},
   "outputs": [],
   "source": [
    "mean_img = load_img_to_np('./data/train/images').mean((0,3))\n",
    "\n",
    "df_train = load_img_to_df('./data/train/images', normalize=True, mean_img=mean_img)\n",
    "\n",
    "df_train['mask'] = load_img_to_df('./data/train/masks/', img_dtype=np.uint8)['img']"
   ]
  },
  {
   "cell_type": "code",
   "execution_count": 21,
   "metadata": {},
   "outputs": [],
   "source": [
    "df_test = load_img_to_df('./data/test/images', normalize=True, mean_img=mean_img)"
   ]
  },
  {
   "cell_type": "code",
   "execution_count": 22,
   "metadata": {},
   "outputs": [],
   "source": [
    "X_test = np.r_[df_test.img.tolist()]"
   ]
  },
  {
   "cell_type": "code",
   "execution_count": 23,
   "metadata": {},
   "outputs": [
    {
     "data": {
      "text/plain": [
       "-0.6330799240815195"
      ]
     },
     "execution_count": 23,
     "metadata": {},
     "output_type": "execute_result"
    }
   ],
   "source": [
    "X_test.mean()"
   ]
  },
  {
   "cell_type": "code",
   "execution_count": 134,
   "metadata": {},
   "outputs": [],
   "source": [
    "class IOU_Loss(nn.Module):\n",
    "    def __init__(self):\n",
    "        super().__init__()\n",
    "        \n",
    "    def forward(self, y_pred, y):\n",
    "        #print(y_pred.requires_grad)\n",
    "        #y_pred = torch.where(y_pred.ge(0.5), torch.tensor(1.0), torch.tensor(0.0))\n",
    "        i = y_pred.mul(y)\n",
    "        u = (y_pred + y) - i\n",
    "        mean_iou = torch.mean(i.view(i.shape[0],-1).sum(1) / u.view(i.shape[0],-1).sum(1))\n",
    "        iou_loss = 1 - mean_iou\n",
    "        #from boxx import g\n",
    "        #g()\n",
    "        \n",
    "        return iou_loss"
   ]
  },
  {
   "cell_type": "code",
   "execution_count": 209,
   "metadata": {},
   "outputs": [],
   "source": [
    "def calc_iou_loss(y_pred, y):\n",
    "    \n",
    "    u = torch.sum(torch.clamp(y+y_pred, 0.0, 1.0).view(y.shape[0],-1), 1).float()\n",
    "    i = torch.sum(torch.where((y+y_pred)==2, torch.tensor(1.0), torch.tensor(0.0)).view(y.shape[0],-1), 1)\n",
    "    #u.requires_grad = True\n",
    "    #i.requires_grad = True\n",
    "    iou = torch.where(i==u, torch.tensor(1.0), torch.where(u==0, torch.tensor(0.0), i/u))\n",
    "    #iou.requires_grad = True\n",
    "    mean_iou = torch.clamp(torch.mean(iou), 1e-10, torch.tensor(1.0))\n",
    "    #mean_iou.requires_grad = True\n",
    "    iou_loss = -torch.log(mean_iou)\n",
    "    #iou_loss.requires_grad = True\n",
    "    return iou_loss"
   ]
  },
  {
   "cell_type": "markdown",
   "metadata": {},
   "source": [
    "## Train Val data split"
   ]
  },
  {
   "cell_type": "code",
   "execution_count": 43,
   "metadata": {},
   "outputs": [],
   "source": [
    "X_train, X_val, y_train, y_val = (\n",
    "    train_test_split(df_train, df_train['mask'], \n",
    "                     test_size=0.20, \n",
    "                     random_state=42)\n",
    ")"
   ]
  },
  {
   "cell_type": "code",
   "execution_count": 47,
   "metadata": {},
   "outputs": [],
   "source": [
    "X_train = np.r_[X_train.img.tolist()]\n",
    "\n",
    "X_val = np.r_[X_val.img.tolist()]\n",
    "\n",
    "y_train = np.r_[y_train.tolist()]\n",
    "\n",
    "y_val = np.r_[y_val.tolist()]"
   ]
  },
  {
   "cell_type": "markdown",
   "metadata": {},
   "source": [
    "## Create a Model"
   ]
  },
  {
   "cell_type": "code",
   "execution_count": 177,
   "metadata": {},
   "outputs": [],
   "source": [
    "saltnet = SaltNet()"
   ]
  },
  {
   "cell_type": "code",
   "execution_count": 178,
   "metadata": {},
   "outputs": [],
   "source": [
    "#loss_fn = nn.BCELoss()\n",
    "loss_fn = IOU_Loss()\n",
    "optimizer = torch.optim.Adam(saltnet.parameters(), lr=0.001)"
   ]
  },
  {
   "cell_type": "code",
   "execution_count": 179,
   "metadata": {},
   "outputs": [],
   "source": [
    "start = time.time()"
   ]
  },
  {
   "cell_type": "code",
   "execution_count": 180,
   "metadata": {},
   "outputs": [],
   "source": [
    "TRAIN_MODE = True"
   ]
  },
  {
   "cell_type": "code",
   "execution_count": 181,
   "metadata": {},
   "outputs": [
    {
     "data": {
      "text/plain": [
       "tensor(-1.0187)"
      ]
     },
     "execution_count": 181,
     "metadata": {},
     "output_type": "execute_result"
    }
   ],
   "source": [
    "list(saltnet.parameters())[0].sum()"
   ]
  },
  {
   "cell_type": "code",
   "execution_count": 161,
   "metadata": {},
   "outputs": [],
   "source": [
    "list(saltnet.parameters())[-1].grad"
   ]
  },
  {
   "cell_type": "code",
   "execution_count": 162,
   "metadata": {},
   "outputs": [],
   "source": [
    "#X_batch, y_batch = get_train_batch(X_train, y_train, batch_size=2)"
   ]
  },
  {
   "cell_type": "code",
   "execution_count": 182,
   "metadata": {},
   "outputs": [
    {
     "name": "stdout",
     "output_type": "stream",
     "text": [
      "Loss is 0.8324899077415466, IOU is 0.059375000000000004 at iter 0, Time: 0m 22s\n",
      "Loss is 0.7839808464050293, IOU is 0.196875 at iter 20, Time: 2m 32s\n",
      "Loss is 0.6683609485626221, IOU is 0.290625 at iter 40, Time: 4m 49s\n",
      "Loss is 0.6880804896354675, IOU is 0.21875000000000003 at iter 60, Time: 7m 52s\n",
      "Loss is 0.6739736795425415, IOU is 0.240625 at iter 80, Time: 10m 46s\n",
      "Loss is 0.7160935401916504, IOU is 0.20937499999999998 at iter 100, Time: 13m 15s\n",
      "Loss is 0.6668895483016968, IOU is 0.24843749999999998 at iter 120, Time: 15m 38s\n",
      "Loss is 0.7270203828811646, IOU is 0.19062500000000002 at iter 140, Time: 18m 12s\n",
      "Loss is 0.5636687278747559, IOU is 0.3328125 at iter 160, Time: 20m 50s\n",
      "Loss is 0.7488315105438232, IOU is 0.171875 at iter 180, Time: 23m 23s\n",
      "Loss is 0.6358897089958191, IOU is 0.259375 at iter 200, Time: 28m 29s\n",
      "Loss is 0.5746148228645325, IOU is 0.35000000000000003 at iter 220, Time: 34m 31s\n",
      "Loss is 0.7160186767578125, IOU is 0.203125 at iter 240, Time: 40m 33s\n",
      "Loss is 0.6435810327529907, IOU is 0.271875 at iter 260, Time: 44m 10s\n",
      "Loss is 0.6431527137756348, IOU is 0.2515625 at iter 280, Time: 46m 20s\n",
      "Loss is 0.5921416878700256, IOU is 0.2953125 at iter 300, Time: 50m 20s\n",
      "Loss is 0.5407930016517639, IOU is 0.4109375 at iter 320, Time: 70m 42s\n",
      "Loss is 0.5394504070281982, IOU is 0.33125 at iter 340, Time: 73m 0s\n",
      "Loss is 0.6415477991104126, IOU is 0.29218750000000004 at iter 360, Time: 75m 15s\n",
      "Loss is 0.6292254328727722, IOU is 0.315625 at iter 380, Time: 77m 38s\n",
      "Loss is 0.5996802449226379, IOU is 0.30781250000000004 at iter 400, Time: 80m 2s\n",
      "Loss is 0.6035346984863281, IOU is 0.31875 at iter 420, Time: 82m 34s\n",
      "Loss is 0.5032949447631836, IOU is 0.43125 at iter 440, Time: 85m 13s\n",
      "Loss is 0.5281124711036682, IOU is 0.359375 at iter 460, Time: 87m 45s\n",
      "Loss is 0.6057679653167725, IOU is 0.2953125 at iter 480, Time: 90m 14s\n",
      "Loss is 0.5324212908744812, IOU is 0.42656249999999996 at iter 500, Time: 92m 37s\n",
      "Loss is 0.553919792175293, IOU is 0.3921875 at iter 520, Time: 95m 2s\n",
      "Loss is 0.6648783683776855, IOU is 0.253125 at iter 540, Time: 97m 34s\n",
      "Loss is 0.5695565938949585, IOU is 0.384375 at iter 560, Time: 100m 9s\n",
      "Loss is 0.5997835993766785, IOU is 0.3359375 at iter 580, Time: 102m 41s\n",
      "Loss is 0.5860887169837952, IOU is 0.3296875 at iter 600, Time: 105m 11s\n",
      "Loss is 0.5812081098556519, IOU is 0.3765625 at iter 620, Time: 107m 47s\n",
      "Loss is 0.6664820313453674, IOU is 0.2515625 at iter 640, Time: 110m 27s\n",
      "Loss is 0.5302404761314392, IOU is 0.3828125 at iter 660, Time: 113m 7s\n",
      "Loss is 0.5892340540885925, IOU is 0.35000000000000003 at iter 680, Time: 115m 45s\n",
      "Loss is 0.5354281663894653, IOU is 0.41093749999999996 at iter 700, Time: 119m 53s\n",
      "Loss is 0.5535427331924438, IOU is 0.3859375 at iter 720, Time: 127m 50s\n",
      "Loss is 0.6740143299102783, IOU is 0.27656250000000004 at iter 740, Time: 130m 34s\n",
      "Loss is 0.5381388664245605, IOU is 0.396875 at iter 760, Time: 133m 11s\n",
      "Loss is 0.7284135818481445, IOU is 0.2515625 at iter 780, Time: 135m 40s\n",
      "Loss is 0.5598659515380859, IOU is 0.38125 at iter 800, Time: 138m 33s\n",
      "Loss is 0.5324206352233887, IOU is 0.4125 at iter 820, Time: 142m 22s\n",
      "Loss is 0.5274456739425659, IOU is 0.38593750000000004 at iter 840, Time: 742m 47s\n",
      "Loss is 0.6125249862670898, IOU is 0.3125 at iter 860, Time: 744m 57s\n",
      "Loss is 0.5209332704544067, IOU is 0.4265625 at iter 880, Time: 747m 11s\n",
      "Loss is 0.5773186683654785, IOU is 0.3671875 at iter 900, Time: 749m 27s\n",
      "Loss is 0.5667010545730591, IOU is 0.4078125 at iter 920, Time: 751m 44s\n",
      "Loss is 0.6869115829467773, IOU is 0.27187500000000003 at iter 940, Time: 754m 3s\n",
      "Loss is 0.6005783081054688, IOU is 0.3671875 at iter 960, Time: 756m 25s\n",
      "Loss is 0.5350390076637268, IOU is 0.40625 at iter 980, Time: 763m 0s\n"
     ]
    }
   ],
   "source": [
    "if TRAIN_MODE:\n",
    "    for iteration in range(1000):\n",
    "        X_batch, y_batch = get_train_batch(X_train, y_train, batch_size=64)\n",
    "        #y_pred = torch.tensor(saltnet(X_batch).ge(0.5).float(), requires_grad=True)\n",
    "        y_pred = saltnet(X_batch)\n",
    "        optimizer.zero_grad()\n",
    "        loss = loss_fn(y_pred, y_batch)\n",
    "        loss.backward()\n",
    "        optimizer.step()\n",
    "\n",
    "        if iteration % 20 == 0:\n",
    "            iou_batch = calc_mean_iou(y_pred.ge(0.5), y_batch)\n",
    "            print(f'Loss is {loss}, IOU is {iou_batch} at iter {iteration}, Time: {timeSince(start)}')\n",
    "            \n"
   ]
  },
  {
   "cell_type": "code",
   "execution_count": 183,
   "metadata": {},
   "outputs": [
    {
     "data": {
      "text/plain": [
       "0.40625"
      ]
     },
     "execution_count": 183,
     "metadata": {},
     "output_type": "execute_result"
    }
   ],
   "source": [
    "calc_mean_iou(y_pred.ge(0.5), y_batch)"
   ]
  },
  {
   "cell_type": "code",
   "execution_count": 184,
   "metadata": {},
   "outputs": [
    {
     "data": {
      "text/plain": [
       "torch.Size([3, 102, 102])"
      ]
     },
     "execution_count": 184,
     "metadata": {},
     "output_type": "execute_result"
    }
   ],
   "source": [
    "X_batch[1].shape"
   ]
  },
  {
   "cell_type": "code",
   "execution_count": 185,
   "metadata": {},
   "outputs": [
    {
     "data": {
      "text/plain": [
       "<matplotlib.image.AxesImage at 0x147a1efc4e0>"
      ]
     },
     "execution_count": 185,
     "metadata": {},
     "output_type": "execute_result"
    },
    {
     "data": {
      "image/png": "[encoded data removed]",
      "text/plain": [
       "<matplotlib.figure.Figure at 0x1479ff0dac8>"
      ]
     },
     "metadata": {},
     "output_type": "display_data"
    }
   ],
   "source": [
    "plt.imshow(X_batch[1][0].detach().numpy()[:101,:101]+mean_img)"
   ]
  },
  {
   "cell_type": "code",
   "execution_count": 186,
   "metadata": {},
   "outputs": [
    {
     "data": {
      "text/plain": [
       "<matplotlib.image.AxesImage at 0x147a1c88550>"
      ]
     },
     "execution_count": 186,
     "metadata": {},
     "output_type": "execute_result"
    },
    {
     "data": {
      "image/png": "[encoded data removed]",
      "text/plain": [
       "<matplotlib.figure.Figure at 0x147a1ed2630>"
      ]
     },
     "metadata": {},
     "output_type": "display_data"
    }
   ],
   "source": [
    "plt.imshow(y_batch[0])"
   ]
  },
  {
   "cell_type": "code",
   "execution_count": 187,
   "metadata": {},
   "outputs": [
    {
     "data": {
      "text/plain": [
       "<matplotlib.image.AxesImage at 0x147a1ce1860>"
      ]
     },
     "execution_count": 187,
     "metadata": {},
     "output_type": "execute_result"
    },
    {
     "data": {
      "image/png": "[encoded data removed]",
      "text/plain": [
       "<matplotlib.figure.Figure at 0x147a1c5c048>"
      ]
     },
     "metadata": {},
     "output_type": "display_data"
    }
   ],
   "source": [
    "plt.imshow(y_pred.ge(0.5)[0])"
   ]
  },
  {
   "cell_type": "code",
   "execution_count": null,
   "metadata": {},
   "outputs": [],
   "source": []
  },
  {
   "cell_type": "code",
   "execution_count": 126,
   "metadata": {},
   "outputs": [],
   "source": [
    "y_pred_np = y_pred.ge(0.5).detach().numpy()"
   ]
  },
  {
   "cell_type": "code",
   "execution_count": 127,
   "metadata": {},
   "outputs": [],
   "source": [
    "y_batch_np = y_batch.detach().numpy()"
   ]
  },
  {
   "cell_type": "code",
   "execution_count": 132,
   "metadata": {},
   "outputs": [
    {
     "data": {
      "text/plain": [
       "array([0.9992772 , 0.99713826])"
      ]
     },
     "execution_count": 132,
     "metadata": {},
     "output_type": "execute_result"
    }
   ],
   "source": [
    "calc_raw_iou(y_pred_np, y_batch_np)"
   ]
  },
  {
   "cell_type": "code",
   "execution_count": 133,
   "metadata": {},
   "outputs": [
    {
     "data": {
      "text/plain": [
       "1.0"
      ]
     },
     "execution_count": 133,
     "metadata": {},
     "output_type": "execute_result"
    }
   ],
   "source": [
    "calc_mean_iou(y_pred_np, y_batch_np)"
   ]
  },
  {
   "cell_type": "code",
   "execution_count": 112,
   "metadata": {},
   "outputs": [
    {
     "data": {
      "text/plain": [
       "(2, 101, 101)"
      ]
     },
     "execution_count": 112,
     "metadata": {},
     "output_type": "execute_result"
    }
   ],
   "source": [
    "y_batch.detach().numpy().shape"
   ]
  },
  {
   "cell_type": "code",
   "execution_count": 325,
   "metadata": {},
   "outputs": [],
   "source": [
    "a = torch.rand(3,3, requires_grad=True)"
   ]
  },
  {
   "cell_type": "code",
   "execution_count": 326,
   "metadata": {},
   "outputs": [
    {
     "data": {
      "text/plain": [
       "tensor([[ 0.4054,  0.1794,  0.1386],\n",
       "        [ 0.1540,  0.0732,  0.9761],\n",
       "        [ 0.0375,  0.4661,  0.2143]])"
      ]
     },
     "execution_count": 326,
     "metadata": {},
     "output_type": "execute_result"
    }
   ],
   "source": [
    "a"
   ]
  },
  {
   "cell_type": "code",
   "execution_count": 327,
   "metadata": {},
   "outputs": [],
   "source": [
    "b = torch.round(a)"
   ]
  },
  {
   "cell_type": "code",
   "execution_count": 328,
   "metadata": {},
   "outputs": [
    {
     "data": {
      "text/plain": [
       "tensor([[ 0.,  0.,  0.],\n",
       "        [ 0.,  0.,  1.],\n",
       "        [ 0.,  0.,  0.]])"
      ]
     },
     "execution_count": 328,
     "metadata": {},
     "output_type": "execute_result"
    }
   ],
   "source": [
    "b"
   ]
  },
  {
   "cell_type": "code",
   "execution_count": 329,
   "metadata": {},
   "outputs": [
    {
     "data": {
      "text/plain": [
       "\u001b[1;31mDocstring:\u001b[0m <no docstring>\n",
       "\u001b[1;31mType:\u001b[0m      builtin_function_or_method\n"
      ]
     },
     "metadata": {},
     "output_type": "display_data"
    }
   ],
   "source": [
    "torch.relu??"
   ]
  },
  {
   "cell_type": "code",
   "execution_count": null,
   "metadata": {},
   "outputs": [],
   "source": [
    "if TRAIN_MODE:\n",
    "    state = {'epoch': i + 1, 'state_dict': saltnet.state_dict(),\n",
    "                 'optimizer': optimizer.state_dict() }\n",
    "    ckp_name = f'saltnet_{get_current_time_as_fname()}.ckp'\n",
    "    torch.save(state, ckp_name)"
   ]
  },
  {
   "cell_type": "markdown",
   "metadata": {},
   "source": [
    "## Load checkpoint"
   ]
  },
  {
   "cell_type": "code",
   "execution_count": 34,
   "metadata": {},
   "outputs": [],
   "source": [
    "state = torch.load('saltnet_v1_20180808_0837.cpt')"
   ]
  },
  {
   "cell_type": "code",
   "execution_count": 35,
   "metadata": {},
   "outputs": [],
   "source": [
    "saltnet.load_state_dict(state['state_dict'])"
   ]
  },
  {
   "cell_type": "markdown",
   "metadata": {},
   "source": [
    "### Set model to evaluation mode"
   ]
  },
  {
   "cell_type": "code",
   "execution_count": 189,
   "metadata": {},
   "outputs": [
    {
     "data": {
      "text/plain": [
       "SaltNet(\n",
       "  (seq): Sequential(\n",
       "    (0): Conv2d(3, 64, kernel_size=(3, 3), stride=(1, 1), padding=(10, 10))\n",
       "    (1): MaxPool2d(kernel_size=2, stride=2, padding=0, dilation=1, ceil_mode=False)\n",
       "    (2): ReLU()\n",
       "    (3): BatchNorm2d(64, eps=1e-05, momentum=0.1, affine=True, track_running_stats=True)\n",
       "    (4): Conv2d(64, 128, kernel_size=(3, 3), stride=(1, 1))\n",
       "    (5): MaxPool2d(kernel_size=2, stride=2, padding=0, dilation=1, ceil_mode=False)\n",
       "    (6): ReLU()\n",
       "    (7): BatchNorm2d(128, eps=1e-05, momentum=0.1, affine=True, track_running_stats=True)\n",
       "    (8): Conv2d(128, 256, kernel_size=(3, 3), stride=(1, 1))\n",
       "    (9): MaxPool2d(kernel_size=2, stride=2, padding=0, dilation=1, ceil_mode=False)\n",
       "    (10): ReLU()\n",
       "    (11): BatchNorm2d(256, eps=1e-05, momentum=0.1, affine=True, track_running_stats=True)\n",
       "    (12): ConvTranspose2d(256, 128, kernel_size=(2, 2), stride=(2, 2))\n",
       "    (13): ReLU()\n",
       "    (14): BatchNorm2d(128, eps=1e-05, momentum=0.1, affine=True, track_running_stats=True)\n",
       "    (15): ConvTranspose2d(128, 64, kernel_size=(2, 2), stride=(2, 2))\n",
       "    (16): ReLU()\n",
       "    (17): BatchNorm2d(64, eps=1e-05, momentum=0.1, affine=True, track_running_stats=True)\n",
       "    (18): ConvTranspose2d(64, 1, kernel_size=(2, 2), stride=(2, 2), padding=(1, 1))\n",
       "    (19): Sigmoid()\n",
       "  )\n",
       ")"
      ]
     },
     "execution_count": 189,
     "metadata": {},
     "output_type": "execute_result"
    }
   ],
   "source": [
    "saltnet.eval()"
   ]
  },
  {
   "cell_type": "code",
   "execution_count": 190,
   "metadata": {},
   "outputs": [],
   "source": [
    "assert saltnet.training == False"
   ]
  },
  {
   "cell_type": "markdown",
   "metadata": {},
   "source": [
    "### Make Predictions on validation set"
   ]
  },
  {
   "cell_type": "code",
   "execution_count": 191,
   "metadata": {},
   "outputs": [],
   "source": [
    "X_val_torch = format_train_data(X_val)"
   ]
  },
  {
   "cell_type": "code",
   "execution_count": 192,
   "metadata": {},
   "outputs": [],
   "source": [
    "with torch.no_grad():\n",
    "    y_val_pred = saltnet(X_val_torch)\n",
    "\n",
    "y_val_pred = y_val_pred.ge(0.5).detach().numpy()"
   ]
  },
  {
   "cell_type": "code",
   "execution_count": 202,
   "metadata": {},
   "outputs": [
    {
     "name": "stdout",
     "output_type": "stream",
     "text": [
      "612\n",
      "552\n",
      "681\n"
     ]
    },
    {
     "data": {
      "image/png": "[encoded data removed]",
      "text/plain": [
       "<matplotlib.figure.Figure at 0x14798617d30>"
      ]
     },
     "metadata": {},
     "output_type": "display_data"
    },
    {
     "data": {
      "image/png": "[encoded data removed]",
      "text/plain": [
       "<matplotlib.figure.Figure at 0x14798431358>"
      ]
     },
     "metadata": {},
     "output_type": "display_data"
    },
    {
     "data": {
      "image/png": "[encoded data removed]",
      "text/plain": [
       "<matplotlib.figure.Figure at 0x14797be65f8>"
      ]
     },
     "metadata": {},
     "output_type": "display_data"
    }
   ],
   "source": [
    "for i in range(3):\n",
    "    rand_id = np.random.choice(len(X_val))\n",
    "    print(rand_id)\n",
    "    val_img = X_val[rand_id] + mean_img[:,:,None]\n",
    "    val_mask = y_val[rand_id]\n",
    "    val_mask_pred = y_val_pred[rand_id]\n",
    "    plot_img_mask_pred(val_img, val_mask, val_mask_pred)"
   ]
  },
  {
   "cell_type": "code",
   "execution_count": 194,
   "metadata": {},
   "outputs": [
    {
     "name": "stdout",
     "output_type": "stream",
     "text": [
      "IOU score before: 0.32862500000000006, IOU Score after:0.43250000000000005\n"
     ]
    }
   ],
   "source": [
    "y_val_pred = adjust_predictions(BLACK_IMG_MEAN, ZERO_MASK_CUTOFF, mean_img, X_val, y_val_pred, y_val)"
   ]
  },
  {
   "cell_type": "markdown",
   "metadata": {},
   "source": [
    "## Make predictions on test set"
   ]
  },
  {
   "cell_type": "code",
   "execution_count": 50,
   "metadata": {},
   "outputs": [],
   "source": [
    "y_test_pred_raw = []"
   ]
  },
  {
   "cell_type": "code",
   "execution_count": 51,
   "metadata": {},
   "outputs": [],
   "source": [
    "for x in np.split(X_test, 36):\n",
    "    with torch.no_grad():\n",
    "        y_test_pred_raw.append(saltnet(format_train_data(x)))"
   ]
  },
  {
   "cell_type": "code",
   "execution_count": 52,
   "metadata": {},
   "outputs": [],
   "source": [
    "y_test_pred_raw = torch.cat(y_test_pred_raw)"
   ]
  },
  {
   "cell_type": "code",
   "execution_count": 53,
   "metadata": {},
   "outputs": [],
   "source": [
    "y_test_pred = y_test_pred_raw.ge(0.5).detach().numpy()"
   ]
  },
  {
   "cell_type": "markdown",
   "metadata": {},
   "source": [
    "### Show segmentation masks for a few images"
   ]
  },
  {
   "cell_type": "code",
   "execution_count": 84,
   "metadata": {},
   "outputs": [
    {
     "data": {
      "image/png": "[encoded data removed]",
      "text/plain": [
       "<matplotlib.figure.Figure at 0x5a708be0>"
      ]
     },
     "metadata": {},
     "output_type": "display_data"
    },
    {
     "data": {
      "image/png": "[encoded data removed]",
      "text/plain": [
       "<matplotlib.figure.Figure at 0x58336ba8>"
      ]
     },
     "metadata": {},
     "output_type": "display_data"
    }
   ],
   "source": [
    "for i in range(2):\n",
    "    rand_id = np.random.choice(len(X_test))\n",
    "    #print(rand_id)\n",
    "    img = X_test[rand_id] + mean_img[:,:,None]\n",
    "    #mask = y_train[rand_id]\n",
    "    mask_pred = y_test_pred[rand_id]\n",
    "    plot_img_mask_pred(img, mask_pred, mask_pred)"
   ]
  },
  {
   "cell_type": "markdown",
   "metadata": {},
   "source": [
    "### Adjust predictions"
   ]
  },
  {
   "cell_type": "code",
   "execution_count": 55,
   "metadata": {},
   "outputs": [],
   "source": [
    "y_test_pred = adjust_predictions(BLACK_IMG_MEAN, ZERO_MASK_CUTOFF, mean_img, X_test, y_test_pred)"
   ]
  },
  {
   "cell_type": "markdown",
   "metadata": {},
   "source": [
    "### Encode predictions using RLE(Run Length Encoding) method"
   ]
  },
  {
   "cell_type": "code",
   "execution_count": 56,
   "metadata": {},
   "outputs": [],
   "source": [
    "y_test_pred_rle = rle_encoder3d(y_test_pred)"
   ]
  },
  {
   "cell_type": "code",
   "execution_count": 57,
   "metadata": {},
   "outputs": [],
   "source": [
    "df_test_rle = pd.DataFrame(index=df_test.index, data=y_test_pred_rle).reset_index()"
   ]
  },
  {
   "cell_type": "code",
   "execution_count": 58,
   "metadata": {},
   "outputs": [],
   "source": [
    "df_test_rle.columns = ['id', 'rle_mask']"
   ]
  },
  {
   "cell_type": "code",
   "execution_count": 59,
   "metadata": {},
   "outputs": [
    {
     "data": {
      "text/plain": [
       "(6665, 2)"
      ]
     },
     "execution_count": 59,
     "metadata": {},
     "output_type": "execute_result"
    }
   ],
   "source": [
    "df_test_rle[df_test_rle.rle_mask==''].shape"
   ]
  },
  {
   "cell_type": "code",
   "execution_count": 60,
   "metadata": {},
   "outputs": [],
   "source": [
    "df_test_rle.to_csv(f'submission_{get_current_time_as_fname()}.csv', index=False)"
   ]
  },
  {
   "cell_type": "code",
   "execution_count": null,
   "metadata": {},
   "outputs": [],
   "source": []
  }
 ],
 "metadata": {
  "kernelspec": {
   "display_name": "Python 3",
   "language": "python",
   "name": "python3"
  },
  "language_info": {
   "codemirror_mode": {
    "name": "ipython",
    "version": 3
   },
   "file_extension": ".py",
   "mimetype": "text/x-python",
   "name": "python",
   "nbconvert_exporter": "python",
   "pygments_lexer": "ipython3",
   "version": "3.6.4"
  }
 },
 "nbformat": 4,
 "nbformat_minor": 2
}
